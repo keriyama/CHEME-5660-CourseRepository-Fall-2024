





include("Include.jl");





original_dataset = MyOutOfSamepleMarketDataSet() |> x-> x["dataset"];





maximum_number_trading_days = original_dataset["AAPL"] |> nrow;





dataset = let
    dataset = Dict{String,DataFrame}();
    for (ticker,data) ∈ original_dataset
        if (nrow(data) == maximum_number_trading_days)
            dataset[ticker] = data;
        end
    end
    dataset
end





list_of_all_tickers = keys(dataset) |> collect |> sort;





number_of_trading_periods = maximum_number_trading_days; # how many days of 2024 data do we have?
start_trading_index = 1; # What trading day index will we start at? (≥ 1)
length_of_autotrading_run = maximum_number_trading_days - 1; # number of trading days
start_index = 1;  # index to start viewing the data. This value needs to >= 1
stop_index = start_index + length_of_autotrading_run; # index where we stop viewing the data. This value needs to be <= to number_of_trading_periods
view_range = range(start_index, stop = stop_index, step = 1) |> collect; # view_range is the range we use to look at (simulate) the data
initial_budget = 1000.0; # initial budget of the agent
Δt = (1.0/252.0); # setp size is 1 x trading data measured in years
θ = 0.05; # if we do sell, how much do we sell (fraction of current shares to sell)
γ = 0.5; # what fraction of the original budget do we invest initially?
my_ticker_of_interest = "JNJ"; # select a ticker





dumbbot = let
    path_to_saved_file = joinpath(_PATH_TO_DATA, "Dumbbot-ticker-$(my_ticker_of_interest)-OOS-2024.jld2");
    data = load(path_to_saved_file);
    data;
end;





α = (1/20); # students can update this!





typical_price_array = dataset[my_ticker_of_interest][!,:open]; # we can choose different prices here {open | close | high | low | vwap}





mtypical_price_array = let
    
    mtypical_price_array = Array{Float64,1}(undef, number_of_trading_periods);
    mtypical_price_array[1] = typical_price_array[1]; 
    
    for i ∈ 2:number_of_trading_periods
        previous_mtp = mtypical_price_array[i-1];
        current_tp = typical_price_array[i];
        mtypical_price_array[i] = previous_mtp + α*(current_tp - previous_mtp);
    end
    mtypical_price_array;
end;





let
    q = plot(bg="gray95", background_color_outside="white", framestyle = :box, fg_legend = :transparent, legend=:topright);
    plot(q, view_range, typical_price_array[view_range],c=:blue, xlims=(first(view_range), last(view_range)), lw=3, 
        label="$(my_ticker_of_interest) TP", xminorticks=5, yminorticks=5)
    plot!(view_range, mtypical_price_array[view_range], c=:red, lw=3, label="$(my_ticker_of_interest) MTP (α = $(round(α, digits=4)))")
    xlabel!("Trading period index $(first(view_range)) → $(last(view_range)) (days)", fontsize=18)
    ylabel!("$(my_ticker_of_interest) Open Share Price (USD/share)", fontsize= 18);
end








decision_boundary_array = let
    decision_boundary_array = Array{Float64,1}(undef, number_of_trading_periods);
    decision_boundary_array[1] = 1.0; # hmmmm. what does this do?
    for i ∈ 2:(number_of_trading_periods)
        previous_decision_boundary = decision_boundary_array[i-1];
        ϵ = (typical_price_array[i] - mtypical_price_array[i])^2 |> x -> sqrt(x);
        decision_boundary_array[i] = previous_decision_boundary + α*(ϵ - previous_decision_boundary);
    end
    decision_boundary_array
end;





moving_average_growth_rate_array, moving_average_volatility_array = let

    share_price_data_df = dataset[my_ticker_of_interest]; # get the dataset for my ticker of interest
    moving_average_growth_rate_array = Array{Float64,1}(undef, number_of_trading_periods); # allocate mem
    moving_average_volatility_array = Array{Float64,1}(undef, number_of_trading_periods); # allocate mem
    
    moving_average_growth_rate_array[1] = 0.0; # hmmmm. what does this do?
    moving_average_volatility_array[1] = 0.24*(1/sqrt(Δt)); # hmmmm. what happens if we change this?
    
    for i ∈ 2:(number_of_trading_periods)

        j = view_range[i]; # get the actual index, in case we are looking at sub divisions in time

        # growth rate -
        Sₒ = share_price_data_df[j-1,:volume_weighted_average_price]; # yesterday vwap
        S₁ = share_price_data_df[j,:volume_weighted_average_price]; # today vwap
        tmp = (1/Δt)*log(S₁/Sₒ); # observed growth rate
        moving_average_growth_rate_array[i] = moving_average_growth_rate_array[i-1] + α*(tmp - moving_average_growth_rate_array[i-1]);

        # volatility of the return
        ϵ = (tmp - moving_average_growth_rate_array[i])^2 |> x -> sqrt(x);
        moving_average_volatility_array[i] = moving_average_volatility_array[i-1] + α*(ϵ - moving_average_volatility_array[i-1]);
    end

    # need to make sure we are annualized -
    moving_average_volatility_array = moving_average_volatility_array*sqrt(Δt);

    # return -
    moving_average_growth_rate_array, moving_average_volatility_array
end;


let
    S̄ = 4*typical_price_array[view_range[1]]
    q = plot(bg="gray95", background_color_outside="white", framestyle = :box, fg_legend = :transparent, legend=:topright);
    plot(q, view_range, (1/S̄)*typical_price_array[view_range],c=:blue, xlims=(first(view_range), last(view_range)), lw=3, 
        label="$(my_ticker_of_interest) TP", xminorticks=5, yminorticks=5)
    plot!(moving_average_volatility_array)
end





β = 1.0;





let    
    q = plot(bg="gray95", background_color_outside="white", framestyle = :box, fg_legend = :transparent);
    plot(q, view_range, typical_price_array[view_range],c=:blue, lw=2, label = "$(my_ticker_of_interest) TP")

    UB = mtypical_price_array[view_range] + β*decision_boundary_array[view_range];
    LB = mtypical_price_array[view_range] - β*decision_boundary_array[view_range];
    plot!(view_range, mtypical_price_array[view_range], fillrange = UB, label="", alpha=0.25, c=:gray20, xminorticks=5, yminorticks=5)
    plot!(view_range, mtypical_price_array[view_range], fillrange = LB, label="", alpha=0.25, c=:gray20)
    plot!(view_range, mtypical_price_array[view_range], c=:red, lw = 3, label="$(my_ticker_of_interest) MTP (α = $(round(α, digits=4)))")
    xlabel!("Trading period index ($(first(view_range)) → $(last(view_range)) day)", fontsize=18)
    ylabel!("$(my_ticker_of_interest) Open Share Price (USD/share)", fontsize= 18);
end





encoded_decision_action_array = let

    # initialize -
    number_of_trading_periods = length(view_range);
    UB = mtypical_price_array[view_range] + β*decision_boundary_array[view_range]; # upper bound: above this: sell
    LB = mtypical_price_array[view_range] - β*decision_boundary_array[view_range]; # lower bound: below this buy    
    encoded_state_array = Array{Int64,1}(undef, number_of_trading_periods);

    # initialize the "brain" of the agent: this will be an empty GBM
    model = build(MyGeometricBrownianMotionEquityModel, (
            μ = 0.0, σ = 0.0));

    T₁ = 0*Δt;
    T₂ = (252)*Δt;
    number_of_samples = 1000; # how many different futures should we simulate
    
    for i ∈ eachindex(view_range)

        j = view_range[i];
        μ̂ = moving_average_growth_rate_array[i]; # get the local estimate of the drift
        σ̂ = moving_average_volatility_array[i]; # get the local estimate of the volatility        
        typical_price = typical_price_array[j]; # observed open
        midprice = mtypical_price_array[i]; 

        # simulate the future -
        model.μ = μ̂; # update the drift
        model.σ = σ̂; # update the vol
        Sₒ = typical_price; # current share price
        X = VLQuantitativeFinancePackage.sample(model, (Sₒ = Sₒ, T₁ = T₁, T₂ = T₂, Δt = Δt), 
                number_of_paths = number_of_samples); # sample the future
        possible_futures = X[end,2:end]; # grab the end
        d = fit_mle(LogNormal, possible_futures); # we now have a distribution describing possible future outcomes
        if (typical_price ≤ LB[i])
            
            p = 1 - cdf(d, midprice); # using our limited picture of the future, what is the p that we get back to greater than the average
            if (p ≤ 0.10)
                encoded_state_array[i] = 0; # buy
                @show (j,typical_price,LB[i],UB[i],p, 0)
            else
                encoded_state_array[i] = 1; # hold
                @show (j,typical_price,LB[i],UB[i],p, 1)
            end
        elseif (typical_price ≥ UB[i])
            encoded_state_array[i] = 2; # sell
        else

            p = 1 - cdf(d, UB[i]); # using our limited picture of the future, what is the p that we get back to greater than the UB?
            if (p < 0.50 && typical_price ≥ midprice)
                @show (j,typical_price,LB[i],UB[i],midprice,p, 2)
                encoded_state_array[i] = 2; # sell
            else
                encoded_state_array[i] = 1; # hold
            end
        end        
    end

    # return -
    encoded_state_array;
end;





alternative_investement_wealth_array = let

    # initialize -
    number_of_trading_periods = length(view_range);
    share_price_data_df = dataset[my_ticker_of_interest];
    
    # generate a *random* fill price
    j = view_range[1];
    open = share_price_data_df[j,:open]
    low = share_price_data_df[j,:low];
    high = share_price_data_df[j,:high];
    close = share_price_data_df[j,:close];
    θ = rand();
    fillprice = θ*high + (1-θ)*low;

    @show j, fillprice, open, high, low, close

    # how many shares do we buy?
    n = initial_budget/fillprice;

    wealth_array = Array{Float64,1}(undef, number_of_trading_periods);
    for i ∈ eachindex(view_range)
        j = view_range[i];
        close_price = share_price_data_df[j,:close];
        wealth_array[i] = n*close_price;
    end
    
    wealth_array;
end;





ledger_random_fill = let

    # get share price data -
    share_price_data_df = dataset[my_ticker_of_interest];
    
    
    # initialize -
    number_of_trading_periods = length(view_range);
    j = view_range[1];
    H = share_price_data_df[j,:high];
    L = share_price_data_df[j,:low];
    f = rand();
    initial_fill_price = f*H + (1-f)*L;
    
    n = (γ*initial_budget)/initial_fill_price; # we initially have this many shares
    B = (1-γ)*initial_budget;
    B_prev = B;
    start_price = share_price_data_df[1,:open];
    buy_side_order_volume = (0.05*B)/(start_price) # If we do buy, how big is the order? (fraction of our Budget)

    
    ledger = DataFrame();
    cash_dictionary = Dict{Int64,Float64}();
    cash_dictionary[0] = B; # we start out with some number
    shares_dictionary = Dict{Int64,Float64}();
    shares_dictionary[0] = n;
    
    # at what price do we get filled?
    average_placement_price = 
    for i ∈ eachindex(view_range)
        
        j = view_range[i];
        open = share_price_data_df[j,:open];
        low = share_price_data_df[j,:low];
        high = share_price_data_df[j,:high];
        close = share_price_data_df[j,:close];

        f = rand();
        filled_price = f*high + (1-f)*low; # we are somewhere between the low and high price for the period
        
        action = encoded_decision_action_array[i]; # what action do we do?
        if (action == 0) # buy

            # do we have enough money to make this trade? Need to check by budget
            cost_of_proposed_trade = buy_side_order_volume*filled_price;
            if (cost_of_proposed_trade ≤ B)

                # update 
                cash_dictionary[i] = cash_dictionary[i-1] - buy_side_order_volume*filled_price; # update the cash dictionary
                shares_dictionary[i] = shares_dictionary[i-1]+buy_side_order_volume; # update the shares dictionary
                B += -1*cost_of_proposed_trade; # update the budget
    
            else

                # We don't have enough money to implement this trade, so we hold
                shares_dictionary[i] = shares_dictionary[i-1]; # no change
                cash_dictionary[i] = cash_dictionary[i-1]; # no change    
            end
            
        elseif (action == 2) # sell
            if (shares_dictionary[i-1] ≥ 0)

                n_sell = θ*shares_dictionary[i-1]; # sell θ fraction of my current position
                cost_of_proposed_trade = n_sell*filled_price;
                
                cash_dictionary[i] = cash_dictionary[i-1] + cost_of_proposed_trade # update the cash dictionary
                shares_dictionary[i] = (1-θ)*shares_dictionary[i-1]; # how many shares do we have left?  
                B += 1*cost_of_proposed_trade; # update the budget
            end
        else
            # println("Hold action: current $(value) USD")
            shares_dictionary[i] = shares_dictionary[i-1]; # no change
            cash_dictionary[i] = cash_dictionary[i-1]; # no change
        end

        # compute some stuff -
        Δn = shares_dictionary[i] - shares_dictionary[i-1];
        Δcash = cash_dictionary[i] - cash_dictionary[i-1];
        
        # capture data -
        row_df = (
            timeperiod = i,
            action = action,
            open = open,
            fillprice = filled_price,
            nₒ = shares_dictionary[i-1],
            n₁ = shares_dictionary[i],
            Δn = Δn,
            Bₒ = B_prev,
            B₁ = B,
            ΔB = Δcash,
    
            LV = (shares_dictionary[i])*close,
            wealth = B + (shares_dictionary[i])*close
        );

        push!(ledger, row_df);
        B_prev = B;
    end

   ledger;
end;





let
    
    ledger_db = dumbbot["ledger"];
    
    plot(ledger_random_fill[:,:Bₒ], c=:navy, lw=3, label="smartbot", linetype=:steppost, bg="gray97", background_color_outside="white", 
        framestyle = :box, fg_legend = :transparent)
    plot!(ledger_db[:,:Bₒ], c=:deepskyblue1, lw=3, label="dumbbot", linetype=:steppost)
    xlabel!("Trading period index ($(first(view_range)) → $(last(view_range)) min)", fontsize=18,  xminorticks=5, yminorticks=5)
    ylabel!("Budget (USD)", fontsize=18);
end


let

    ledger_db = dumbbot["ledger"];
    
    plot(ledger_random_fill[:,:wealth], c=:navy, lw=2, label="smartbot $(my_ticker_of_interest)", linetype=:steppost, bg="gray95", background_color_outside="white", 
        framestyle = :box, fg_legend = :transparent)
    plot!(ledger_db[:,:wealth], c=:deepskyblue1, lw=2, label="dumbbot $(my_ticker_of_interest)", linetype=:steppost)
    plot!(alternative_investement_wealth_array, lw=2, label="alternative $(my_ticker_of_interest)", linetype=:steppost, c=:red)
    xlabel!("Trading period index ($(first(view_range)) → $(last(view_range)) min)", fontsize=18,  xminorticks=5, yminorticks=5)
    ylabel!("Wealth at Close (USD)", fontsize=18);
end






