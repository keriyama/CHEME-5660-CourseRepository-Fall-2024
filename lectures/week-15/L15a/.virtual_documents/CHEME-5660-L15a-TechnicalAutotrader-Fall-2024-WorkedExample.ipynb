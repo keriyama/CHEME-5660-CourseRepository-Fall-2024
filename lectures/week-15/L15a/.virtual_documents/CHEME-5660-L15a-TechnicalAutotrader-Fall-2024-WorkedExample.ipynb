





include("Include.jl");








share_price_data_df = CSV.read(joinpath(_PATH_TO_DATA, "QQQ-OHLC-1-min-aggregate-2024.csv"), DataFrame)





typical_price_array = share_price_data_df[!,:open];





share_price_data_df[:,:typicalprice] = typical_price_array # now the dataframe has the typical price data (h+l+c)/3





number_of_trading_periods = length(typical_price_array); # how many minutes of 2024 data do we have?
start_trading_index = 2; # what trading day index are we looking?
length_of_autotrading_run = 10;
start_index = length_of_autotrading_run*360*(start_trading_index-1) + 30;  # index to start viewing the data. This value needs to >= 1
stop_index = start_index + length_of_autotrading_run*360; # index where we stop view the data. This value needs to be <= to number_of_trading_periods
view_range = range(start_index, stop = stop_index, step = 1) |> collect; # view_range is the range we use to look at (simulate) the data





α = (1/60); # students can update this! what happens if we recompute the mvap_array with diff values of α?





mtypical_price_array = Array{Float64,1}(undef, number_of_trading_periods);
mtypical_price_array[1] = typical_price_array[1]; 

for i ∈ 2:number_of_trading_periods
    previous_mtp = mtypical_price_array[i-1];
    current_tp = typical_price_array[i];
    mtypical_price_array[i] = previous_mtp + α*(current_tp - previous_mtp);
end





let
    q = plot(bg="gray95", background_color_outside="white", framestyle = :box, fg_legend = :transparent, legend=:topright);
    plot(q, view_range, typical_price_array[view_range],c=:blue, xlims=(first(view_range), last(view_range)), lw=3, label="QQQ TP")
    plot!(view_range, mtypical_price_array[view_range], c=:red, lw=3, label="QQQ MTP (α = $(round(α, digits=4)))")
    xlabel!("Trading period index $(first(view_range)) → $(last(view_range)) (min)", fontsize=18)
    ylabel!("Share Price (USD/share)", fontsize= 18);
end








decision_boundary_array = Array{Float64,1}(undef, number_of_trading_periods);
decision_boundary_array[1] = 0.0;
for i ∈ 2:(number_of_trading_periods)
    previous_decision_boundary = decision_boundary_array[i-1];
    ϵ = (typical_price_array[i] - mtypical_price_array[i])^2 |> x -> sqrt(x);
    decision_boundary_array[i] = previous_decision_boundary + α*(ϵ - previous_decision_boundary);
end


decision_boundary_array





β = 1.0;





let    
    q = plot(bg="gray95", background_color_outside="white", framestyle = :box, fg_legend = :transparent, legend=:topright);
    plot(q, view_range, typical_price_array[view_range],c=:blue, lw=2, label = "QQQ TP")

    UB = mtypical_price_array[view_range] + β*decision_boundary_array[view_range];
    LB = mtypical_price_array[view_range] - β*decision_boundary_array[view_range];
    plot!(view_range, mtypical_price_array[view_range], fillrange = UB, label="", alpha=0.25, c=:gray20)
    plot!(view_range, mtypical_price_array[view_range], fillrange = LB, label="", alpha=0.25, c=:gray20)
    plot!(view_range, mtypical_price_array[view_range], c=:red, lw = 3, label="QQQ MTP (α = $(round(α, digits=4)))")
    xlabel!("Trading period index ($(first(view_range)) → $(last(view_range)) min)", fontsize=18)
    ylabel!("Share Price (USD/share)", fontsize= 18);
end





encoded_decision_action_array = let

    # initialize -
    number_of_trading_periods = length(view_range);
    UB = mtypical_price_array[view_range] + β*decision_boundary_array[view_range]; # upper bound: above this: sell
    LB = mtypical_price_array[view_range] - β*decision_boundary_array[view_range]; # lower bound: below this buy    
    encoded_state_array = Array{Int64}(undef, number_of_trading_periods);
    
    for i ∈ eachindex(view_range)

        j = view_range[i];
        
        typical_price = typical_price_array[j]; # observed open
        if (typical_price ≤ LB[i])
            encoded_state_array[i] = 0; # buy
        elseif (typical_price ≥ UB[i])
            encoded_state_array[i] = 2; # sell
        else
            encoded_state_array[i] = 1; # hold
        end        
    end

    # return -
    encoded_state_array;
end;





ledger = let

    # initialize -
    number_of_trading_periods = length(view_range);
    n = 0.0; # we initially have this many shares
    buy_side_order_volume = 1.0; # if we do buy, how big is the order?
    θ = 0.5; # if we do sell, how much do we sell?
    value = 0.0;
    ledger = DataFrame();
    shares_dictionary = Dict{Int64,Float64}();
    shares_dictionary[0] = n;
    
    # at what price do we get filled?
    average_placement_price = 
    for i ∈ eachindex(view_range)
        
        j = view_range[i];
        low = share_price_data_df[j,:low];
        high = share_price_data_df[j,:high];
        filled_price = rand(low:high); # we are somewhere between the low and high price for the period
        
        action = encoded_decision_action_array[i]; # what action do we do?
        if (action == 0) # buy
            
            value += -buy_side_order_volume*filled_price;
            prev_shares = shares_dictionary[i-1];
            shares_dictionary[i] = prev_shares+buy_side_order_volume;
            
        elseif (action == 2) # sell
            if (shares_dictionary[i-1] ≥ 0)
                prev_shares = shares_dictionary[i-1];
                
                n_sell = θ*prev_shares; # sell half my position
                value += n_sell*filled_price;
                shares_dictionary[i] = (1-θ)*prev_shares; # how many shares do we have left?  
                
            end
        else
            # println("Hold action: current $(value) USD")
            shares_dictionary[i] = shares_dictionary[i-1]; # no change
        end

        
        
        # capture data -
        row_df = (
            timeperiod = i,
            action = action,
            filledprice = filled_price,
            before = shares_dictionary[i-1],
            Δn = shares_dictionary[i] - shares_dictionary[i-1],
            after = shares_dictionary[i],
            cashposition = value,
            liquidvalue = (shares_dictionary[i])*filled_price,
            total = value + (shares_dictionary[i])*filled_price
        );
        push!(ledger, row_df);
    end

    ledger;
end;


filter(:action=> a-> a==2, ledger)


plot(ledger[:,:total])






