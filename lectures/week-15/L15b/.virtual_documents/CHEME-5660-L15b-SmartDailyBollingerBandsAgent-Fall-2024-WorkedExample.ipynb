





include("Include.jl");





original_dataset = MyOutOfSamepleMarketDataSet() |> x-> x["dataset"];





maximum_number_trading_days = original_dataset["AAPL"] |> nrow;





dataset = let
    dataset = Dict{String,DataFrame}();
    for (ticker,data) ∈ original_dataset
        if (nrow(data) == maximum_number_trading_days)
            dataset[ticker] = data;
        end
    end
    dataset
end





list_of_all_tickers = keys(dataset) |> collect |> sort;





number_of_trading_periods = maximum_number_trading_days; # how many days of 2024 data do we have?
start_trading_index = 1; # What trading day index will we start at? (≥ 1)
length_of_autotrading_run = maximum_number_trading_days - 1; # number of trading days
start_index = 1;  # index to start viewing the data. This value needs to >= 1
stop_index = start_index + length_of_autotrading_run; # index where we stop viewing the data. This value needs to be <= to number_of_trading_periods
view_range = range(start_index, stop = stop_index, step = 1) |> collect; # view_range is the range we use to look at (simulate) the data
initial_budget = 1000.0; # initial budget of the agent
θ = 0.05; # if we do sell, how much do we sell (fraction of current shares to sell)
γ = 0.5; # what fraction of the original budget do we invest initially?
my_ticker_of_interest = "DPZ"; # select a ticker





α = (1/20); # students can update this!





typical_price_array = dataset[my_ticker_of_interest][!,:open]; # we can choose different prices here {open | close | high | low | vwap}





mtypical_price_array = let
    
    mtypical_price_array = Array{Float64,1}(undef, number_of_trading_periods);
    mtypical_price_array[1] = typical_price_array[1]; 
    
    for i ∈ 2:number_of_trading_periods
        previous_mtp = mtypical_price_array[i-1];
        current_tp = typical_price_array[i];
        mtypical_price_array[i] = previous_mtp + α*(current_tp - previous_mtp);
    end
    mtypical_price_array;
end;





let
    q = plot(bg="gray95", background_color_outside="white", framestyle = :box, fg_legend = :transparent, legend=:topright);
    plot(q, view_range, typical_price_array[view_range],c=:blue, xlims=(first(view_range), last(view_range)), lw=3, 
        label="$(my_ticker_of_interest) TP", xminorticks=5, yminorticks=5)
    plot!(view_range, mtypical_price_array[view_range], c=:red, lw=3, label="$(my_ticker_of_interest) MTP (α = $(round(α, digits=4)))")
    xlabel!("Trading period index $(first(view_range)) → $(last(view_range)) (days)", fontsize=18)
    ylabel!("$(my_ticker_of_interest) Open Share Price (USD/share)", fontsize= 18);
end








decision_boundary_array = let
    decision_boundary_array = Array{Float64,1}(undef, number_of_trading_periods);
    decision_boundary_array[1] = 1.0; # hmmmm. what does this do?
    for i ∈ 2:(number_of_trading_periods)
        previous_decision_boundary = decision_boundary_array[i-1];
        ϵ = (typical_price_array[i] - mtypical_price_array[i])^2 |> x -> sqrt(x);
        decision_boundary_array[i] = previous_decision_boundary + α*(ϵ - previous_decision_boundary);
    end
    decision_boundary_array
end;






