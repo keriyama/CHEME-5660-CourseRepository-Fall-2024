{
 "cells": [
  {
   "cell_type": "markdown",
   "id": "4d118fdf-8692-48f3-98ed-be66fc852dd9",
   "metadata": {},
   "source": [
    "# The Practicum, Open Topics and Opportunities\n",
    "There are so many open questions that we could have explored. Let's list a few of these and pitch a way for you to continue to do fun stuff in Quantitative Finance."
   ]
  },
  {
   "cell_type": "markdown",
   "id": "b0fa5df2-4542-4da0-b0f3-a2aae13fb7f7",
   "metadata": {},
   "source": [
    "## Topics that I wished we could have discussed more\n",
    "* There are __many ... many__ more models to predict share price (or return) than the lattice models, or [geometric Brownian motion](https://en.wikipedia.org/wiki/Geometric_Brownian_motion). These would have been interesting to talk about. Even simple extensions, such as GBM with jumps, would be interesting.\n",
    "* There are a bunch of interesting portfolio problems. For example, we never developed a robust reallocation approach to maintain some sense of optimality. We could have considered allocation strategies that bounded the expected return, not the risk. \n",
    "* I wish we could have simulated the operation, profit, and loss of portfolios that consist only of option contracts. Or perhaps the operation of a fund that does multiple simultaneous instances of [the wheel strategy](https://optionalpha.com/blog/wheel-strategy). How does the performance of this option-based approach compare with a passive approach such as buying and holding `SPY`?\n",
    "* Agent-based models of markets and the origins of market instabilities. Why do markets crash?\n",
    "* Hedging\n",
    "\n",
    "If you want to explore one of these topics or have others you are interested in, sign up for independent research in my lab for next semester!"
   ]
  },
  {
   "cell_type": "markdown",
   "id": "e0deade2-436b-46a8-a054-753905799dc1",
   "metadata": {},
   "source": [
    "## What was the Practicum problem?\n",
    "A former student proposed a clever alternative to traditional portfolio allocation. The key component of the idea is to reframe portfolio allocation in the context of a constrained utility maximization problem, i.e., find the combination of asset weights that maximize the satisfaction of an agent subject to a budget constraint. \n",
    "\n",
    "### Problem\n",
    "Suppose you have a collection of risky assets in portfolio $\\mathcal{P}$. The utility of any given configuration of $n_{i}$ shares (where $n_{i}$ denotes share count for asset $i\\in\\mathcal{P}$) can be scored using a utility function $U:\\mathbb{R}^{|\\mathcal{P}|} \\rightarrow\\mathbb{R}$, where $|\\mathcal{P}|$ is the number of assets in $\\mathcal{P}$. There are many possible utility functions, but one that is interesting is the Cobb-Douglas utility:\n",
    "$$\n",
    "\\begin{equation*}\n",
    "U(\\mathbf{n}) \\sim \\prod_{i\\in\\mathcal{P}}n_{i}^{\\gamma_{i}}\n",
    "\\end{equation*}\n",
    "$$\n",
    "The $\\gamma_{i}$ coefficients can incorporate information about current market conditions, news, the sentiment about asset $i$, or other information about asset $i$. Let's put all that data into a feature vector $\\mathbf{x}_{i}$. One could then imagine building a model for $\\gamma_{i}$ that is something like:\n",
    "$$\n",
    "\\begin{equation*}\n",
    "\\gamma_{i} = \\sigma\\left(\\alpha_{i}+\\mathbf{w}_{i}^{T}\\cdot\\mathbf{x}_{i}\\right)\n",
    "\\end{equation*}\n",
    "$$\n",
    "where $\\sigma:\\mathbb{R}\\rightarrow\\mathbb{R}$ is an activation function, $\\alpha_{i}$ is a bias term for asset $i$, and $\\mathbf{w}_{i}$ denotes the weights for the features of asset $i$. Putting all this together gives an alternative portfolio allocation problem for the share vector $\\mathbf{n}$:\n",
    "$$\n",
    "\\begin{eqnarray*}\n",
    "\\text{maximize}~U(\\mathbf{n}) &\\sim&  \\prod_{i\\mathcal{P}}n_{i}^{\\gamma_{i}} \\\\\n",
    "\\text{subject to}~B& = & \\sum_{i\\in\\mathcal{P}}n_{i}\\cdot{S}_{i}\\\\\n",
    "\\gamma_{i} & = & \\sigma\\left(\\alpha_{i}+\\mathbf{w}_{i}^{T}\\cdot\\mathbf{x}_{i}\\right) \\qquad{\\forall{i}\\in\\mathcal{P}} \\\\\n",
    "\\text{and}~n_{i}&\\geq&{0}\\qquad{\\forall{i}\\in\\mathcal{P}}\n",
    "\\end{eqnarray*}\n",
    "$$\n",
    "\n",
    "### Questions\n",
    "* How do the portfolios allocated using this approach compare to a passive approach, such as buying and holding `SPY`?\n",
    "* What happens for different activation functions $\\sigma:\\mathbb{R}\\rightarrow\\mathbb{R}$, or weights?\n",
    "* What type of features could be incorporated into this calculation, and can we use this to reallocate our portfolio?\n",
    "* ...."
   ]
  },
  {
   "cell_type": "markdown",
   "id": "d8fb2683-0d64-4486-8742-27a31523a2af",
   "metadata": {},
   "source": [
    "## Disclaimer and Risks\n",
    "__This content is offered solely for training and informational purposes__. No offer or solicitation to buy or sell securities or derivative products or any investment or trading advice or strategy is made, given, or endorsed by the teaching team. \n",
    "\n",
    "__Trading involves risk__. Carefully review your financial situation before investing in securities, futures contracts, options, or commodity interests. Past performance, whether actual or indicated by historical tests of strategies, is no guarantee of future performance or success. Trading is generally inappropriate for someone with limited resources, investment or trading experience, or a low-risk tolerance.  Only risk capital that is not required for living expenses.\n",
    "\n",
    "__You are fully responsible for any investment or trading decisions you make__. Such decisions should be based solely on evaluating your financial circumstances, investment or trading objectives, risk tolerance, and liquidity needs."
   ]
  }
 ],
 "metadata": {
  "kernelspec": {
   "display_name": "Julia 1.11.1",
   "language": "julia",
   "name": "julia-1.11"
  },
  "language_info": {
   "file_extension": ".jl",
   "mimetype": "application/julia",
   "name": "julia",
   "version": "1.11.1"
  }
 },
 "nbformat": 4,
 "nbformat_minor": 5
}
