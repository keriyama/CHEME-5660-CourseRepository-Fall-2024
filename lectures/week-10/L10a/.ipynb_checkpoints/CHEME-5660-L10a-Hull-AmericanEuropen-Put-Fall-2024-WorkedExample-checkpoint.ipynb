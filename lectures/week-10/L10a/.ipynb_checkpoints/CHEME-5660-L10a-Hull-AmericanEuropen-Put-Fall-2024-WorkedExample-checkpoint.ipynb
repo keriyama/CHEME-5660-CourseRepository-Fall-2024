{
 "cells": [
  {
   "cell_type": "markdown",
   "id": "b87e7b82-38c7-4ec3-ab13-db992e0b23f4",
   "metadata": {},
   "source": [
    "## Example: Hull American Put Option Premium Calculation\n",
    "A binomial lattice model assumes that at each discrete time increment, the state of the system, e.g., the share price of equity, can either increase by a factor $u$ with probability $p$ or decrease by a factor $d$ with probability $(1-p)$ in the next time interval. Thus, each discrete time interval can be modeled as a [Bernoulli random variable](https://en.wikipedia.org/wiki/Bernoulli_distribution):\n",
    "\n",
    "<div>\n",
    "    <center>\n",
    "        <img src=\"figs/Fig-Binomial-Lattice-Schematic.svg\" width=\"280\"/>\n",
    "    </center>\n",
    "</div>\n",
    "\n",
    "while each level (time slice) of the tree is described by a [Binomial distribution](https://en.wikipedia.org/wiki/Binomial_distribution). Different models have been developed to compute the tuple $(u,d,p)$. However, for now, let's specify these values, and calculate the value of an American `put` contract written with respect to the lattice.\n",
    "\n",
    "## Learning objectives\n",
    "The objective of this example is to familiarize students with computing future share price and the value of American `put` and `call` contracts using a [Binomial lattice approximation](https://en.wikipedia.org/wiki/Binomial_options_pricing_model). \n",
    "\n",
    "### Tasks \n",
    "* __Task 1__: Setup and populate an example lattice from Chapter 13 of `Hull`. \n",
    "    * `TODO`: Inspect the populated lattice’s `connectivity`, `levels`, and `data` fields. Can you explain these data?\n",
    "* __Task 2__: Compute the premium of an American `put` contract, given values for the $(u,d,p)$ tuple\n",
    "    * `TODO`: Compare the reported value for the `put` premium with the value reported by `Hull`. \n",
    "* __Task 3__ : Explore the `{excercise,hold}` decision that occurs at each node in the lattice, and the role of the `intrinsic` and `extrinsic` values."
   ]
  },
  {
   "cell_type": "markdown",
   "id": "4c211168-b95a-4bdd-80ee-9a03c421c80e",
   "metadata": {},
   "source": [
    "## Setup\n",
    "We set up the computational environment by including the `Include.jl` file. The `Include.jl` file loads external packages, various functions we will use in the exercise, and custom types to model the components of our example problem.\n",
    "* See the [Julia programming language documentation](https://docs.julialang.org/en/v1/) and the [VLQuantitativeFinancePackage.jl documentation](https://github.com/varnerlab/VLQuantitativeFinancePackage.jl) for additional information on functions and types used in this material."
   ]
  },
  {
   "cell_type": "code",
   "execution_count": 3,
   "id": "19f1cbf4-ff0b-4f99-95cc-31679e96601c",
   "metadata": {
    "tags": []
   },
   "outputs": [],
   "source": [
    "include(\"Include.jl\");"
   ]
  },
  {
   "cell_type": "markdown",
   "id": "42ddb947-2822-4b87-bf3f-94f378c7a92b",
   "metadata": {},
   "source": [
    "## Prerequisites: Constants\n",
    "In this section, we set some constants. See the comment next to the constant for a description of the constant, its permissble values, etc."
   ]
  },
  {
   "cell_type": "code",
   "execution_count": 50,
   "id": "7d921a9d-a0e4-47fa-80d2-35ec3a4cbf40",
   "metadata": {},
   "outputs": [],
   "source": [
    "𝒟(r,t) = exp(r*t); # setup a function to compute the continuous discount factor"
   ]
  },
  {
   "cell_type": "markdown",
   "id": "cd69751d-5027-4f02-93a3-7bf53db0c561",
   "metadata": {},
   "source": [
    "## Task 1: Setup and Populate Example Lattice From Hull\n",
    "In this task, we'll construct a lattice model for a put contract. Let’s start by calculating the hypothetical share price of a stock that was reproduced from Chapter 13 of Hull. The lattice in this example has three levels (`L=0,1,2`), with an initial share price of $S_{\\circ}=50.0$ USD (at the root). An `up` move has a probability of `p = 0.6523` and a magnitude of `u = 1.2`, while a `down` move has a magnitude of `d = 0.8`.\n",
    "\n",
    "* Calculating the future share price with a binomial lattice requires setting the model’s parameters, including the initial share price (as a `Float64`), the number of time steps to simulate into the future (the number levels of the tree starting from zero) as an `Int64`, the `up` and `down` move magnitudes (as `Float64` values), and the probability of an up move (as a `Float64`):"
   ]
  },
  {
   "cell_type": "code",
   "execution_count": 52,
   "id": "08f674f6-884c-44eb-9222-3572a7879f85",
   "metadata": {
    "tags": []
   },
   "outputs": [],
   "source": [
    "Sₒ = 50.0; # initial share price\n",
    "h = 2; # levels of the tree starting from zero\n",
    "u = 1.2; # magnitide of an up move\n",
    "d = 0.8; # magnitide of a down move \n",
    "p = 0.6282; # probability of an up move\n",
    "r̄ = 0.05; # risk-free rate\n",
    "K = 52; # strike price\n",
    "DTE = 2.0; # two-years until expiration"
   ]
  },
  {
   "cell_type": "markdown",
   "id": "0f01558a-1d69-4c13-bfc6-76eaf7be707f",
   "metadata": {},
   "source": [
    "Once these values are set, we use [the `build(…)` function](https://varnerlab.github.io/VLQuantitativeFinancePackage.jl/dev/equity/#VLQuantitativeFinancePackage.build-Tuple{Type{MyBinomialEquityPriceTree},%20NamedTuple}) to create an empty lattice model [of type `MyBinomialEquityPriceTree`](https://varnerlab.github.io/VLQuantitativeFinancePackage.jl/dev/equity/#VLQuantitativeFinancePackage.MyBinomialEquityPriceTree), which is then passed [to the `populate(…)` function](https://varnerlab.github.io/VLQuantitativeFinancePackage.jl/dev/equity/#VLQuantitativeFinancePackage.populate-Tuple{MyBinomialEquityPriceTree}) using the [Julia piping operator](https://docs.julialang.org/en/v1/manual/functions/#Function-composition-and-piping) `|>`. The `populate(…)` function calculates the prices and probabilities of each node (stored as `MyBiomialLatticeEquityNodeModel` instances) in the tree:"
   ]
  },
  {
   "cell_type": "code",
   "execution_count": 54,
   "id": "2f362fe0-b900-492a-af2c-58868917cc90",
   "metadata": {
    "tags": []
   },
   "outputs": [],
   "source": [
    "hull_lattice_model = VLQuantitativeFinancePackage.build(MyBinomialEquityPriceTree, (\n",
    "        u = u, d = d, p = p, μ = r̄)) |> (x-> populate(x, Sₒ = Sₒ, h = h));"
   ]
  },
  {
   "cell_type": "code",
   "execution_count": 55,
   "id": "9954e9f3-25e5-4068-ac2d-4a87f8ea4265",
   "metadata": {
    "tags": []
   },
   "outputs": [
    {
     "data": {
      "text/plain": [
       "Dict{Int64, Vector{Int64}} with 3 entries:\n",
       "  0 => [0]\n",
       "  2 => [3, 4, 5]\n",
       "  1 => [1, 2]"
      ]
     },
     "execution_count": 55,
     "metadata": {},
     "output_type": "execute_result"
    }
   ],
   "source": [
    "hull_lattice_model.levels"
   ]
  },
  {
   "cell_type": "code",
   "execution_count": 56,
   "id": "e516303c-2818-476d-809f-441ed4bfd125",
   "metadata": {
    "tags": []
   },
   "outputs": [
    {
     "data": {
      "text/plain": [
       "Dict{Int64, MyBiomialLatticeEquityNodeModel} with 6 entries:\n",
       "  0 => MyBiomialLatticeEquityNodeModel(50.0, 1.0, nothing, nothing)\n",
       "  4 => MyBiomialLatticeEquityNodeModel(48.0, 0.46713, nothing, nothing)\n",
       "  5 => MyBiomialLatticeEquityNodeModel(32.0, 0.138235, nothing, nothing)\n",
       "  2 => MyBiomialLatticeEquityNodeModel(40.0, 0.3718, nothing, nothing)\n",
       "  3 => MyBiomialLatticeEquityNodeModel(72.0, 0.394635, nothing, nothing)\n",
       "  1 => MyBiomialLatticeEquityNodeModel(60.0, 0.6282, nothing, nothing)"
      ]
     },
     "execution_count": 56,
     "metadata": {},
     "output_type": "execute_result"
    }
   ],
   "source": [
    "hull_lattice_model.data"
   ]
  },
  {
   "cell_type": "code",
   "execution_count": 57,
   "id": "bebce0da-1070-4622-a994-1df3a8045577",
   "metadata": {},
   "outputs": [
    {
     "data": {
      "text/plain": [
       "Dict{Int64, Vector{Int64}} with 3 entries:\n",
       "  0 => [1, 2]\n",
       "  2 => [4, 5]\n",
       "  1 => [3, 4]"
      ]
     },
     "execution_count": 57,
     "metadata": {},
     "output_type": "execute_result"
    }
   ],
   "source": [
    "hull_lattice_model.connectivity"
   ]
  },
  {
   "cell_type": "markdown",
   "id": "0c2b6e9c-cdfe-43c3-b7f0-b3f50ed091e3",
   "metadata": {},
   "source": [
    "## Task 2: Compute the premium of American `put` contract\n",
    "In this task, we'll use the lattice model of prices to compute the price of an American put contract.\n",
    "Now that we have the share price lattice, let's compute the the premium $\\mathcal{P}_{p}$ of an American `put` contract using `backward induction` on the binomial lattice. The `put` contract has a strike price `K = 52` USD/share and a Days to Expiration `DTE` of `2-years`. \n",
    "* The value computed by Hull for the American option is $\\mathcal{P}_{p} = 5.0894$ USD/share. Set this value in the `price_computed_by_Hull::Float64` variable:"
   ]
  },
  {
   "cell_type": "code",
   "execution_count": 59,
   "id": "97650360-ed81-4bd2-a9e0-4c7b35bb5322",
   "metadata": {
    "tags": []
   },
   "outputs": [],
   "source": [
    "price_computed_by_Hull = 5.0894; # units: USD/share"
   ]
  },
  {
   "cell_type": "markdown",
   "id": "f11884cb-f2cf-4e75-83f8-6c925c264727",
   "metadata": {},
   "source": [
    "Next, build [a `MyAmericanPutContractModel` contract instance](https://varnerlab.github.io/VLQuantitativeFinancePackage.jl/dev/derivatives/#VLQuantitativeFinancePackage.MyAmericanPutContractModel) using [a `build(...)` method](https://varnerlab.github.io/VLQuantitativeFinancePackage.jl/dev/derivatives/#VLQuantitativeFinancePackage.build-Tuple{Type{MyAmericanPutContractModel},%20NamedTuple}). This method takes the type of thing we wish to build as the first argument, and the data need to build the model as a second argument, encoded in [a `NamedTuple` object](). Save this contract model in the `american_put_contract_model::MyAmericanPutContractModel` variable:"
   ]
  },
  {
   "cell_type": "code",
   "execution_count": 61,
   "id": "049d4ce6-f440-45cc-b8d5-85d3b0e9d0db",
   "metadata": {
    "tags": []
   },
   "outputs": [],
   "source": [
    "american_put_contract_model = VLQuantitativeFinancePackage.build(MyAmericanPutContractModel, (\n",
    "        K = K, DTE = DTE, sense = 1));"
   ]
  },
  {
   "cell_type": "markdown",
   "id": "e413d64f-7b93-45c9-bde8-2bb08891317d",
   "metadata": {},
   "source": [
    "Now, we call the `premium(...)` method with the contract and the lattice model as arguments. The `premium(...)` method returns the premium $\\mathcal{P}_{p}$ (price) of the contract. We store this value in the `my_put_premium` variable:"
   ]
  },
  {
   "cell_type": "code",
   "execution_count": 63,
   "id": "2e81bac7-89f6-496b-9f5c-25d488374a85",
   "metadata": {
    "tags": []
   },
   "outputs": [
    {
     "data": {
      "text/plain": [
       "5.08935773788274"
      ]
     },
     "execution_count": 63,
     "metadata": {},
     "output_type": "execute_result"
    }
   ],
   "source": [
    "my_put_premium = premium(american_put_contract_model, hull_lattice_model)"
   ]
  },
  {
   "cell_type": "markdown",
   "id": "735c848e-630f-4394-8cea-194fc2a0ffba",
   "metadata": {},
   "source": [
    "### Check: Do we get the correct contract price?"
   ]
  },
  {
   "cell_type": "code",
   "execution_count": 65,
   "id": "7667ea63-afad-43ee-9d78-7b6da8577bbe",
   "metadata": {
    "tags": []
   },
   "outputs": [],
   "source": [
    "@assert isapprox(price_computed_by_Hull, my_put_premium, rtol=1e-4)"
   ]
  },
  {
   "cell_type": "markdown",
   "id": "e082c515-06f8-4376-89af-2fa5f473180a",
   "metadata": {},
   "source": [
    "## Task 3: Inspect the Lattice nodes\n",
    "In this task, we look at how decisions are made at each node in the lattice, i.e., whether to hold or exercise the contract.\n",
    "The nodes in the `hull_lattice_model,` which can be accessed using the `data` field, contain information about the `intrinsic` and `extrinsic` values of the `put` option contract. When dealing with American options contracts, it is essential to understand these two types of values: \n",
    "* `Intrinsic` value is the immediate value obtained by exercising the option contract at the current moment, i.e., exercising at the current market conditions. \n",
    "* `Extrinsic` value, on the other hand, is the portion of the option’s premium paid for the potential future price movement of the underlying asset over the remaining time until the option’s expiration\n",
    "\n",
    "Let's look at the lattice nodes:"
   ]
  },
  {
   "cell_type": "code",
   "execution_count": 67,
   "id": "0d4addb6-76db-47a7-9122-bb05b6cc9a49",
   "metadata": {
    "tags": []
   },
   "outputs": [
    {
     "data": {
      "text/plain": [
       "Dict{Int64, MyBiomialLatticeEquityNodeModel} with 6 entries:\n",
       "  0 => MyBiomialLatticeEquityNodeModel(50.0, 1.0, 2.0, 5.08936)\n",
       "  4 => MyBiomialLatticeEquityNodeModel(48.0, 0.46713, 4.0, 4.0)\n",
       "  5 => MyBiomialLatticeEquityNodeModel(32.0, 0.138235, 20.0, 20.0)\n",
       "  2 => MyBiomialLatticeEquityNodeModel(40.0, 0.3718, 12.0, 12.0)\n",
       "  3 => MyBiomialLatticeEquityNodeModel(72.0, 0.394635, 0.0, 0.0)\n",
       "  1 => MyBiomialLatticeEquityNodeModel(60.0, 0.6282, 0.0, 1.41467)"
      ]
     },
     "execution_count": 67,
     "metadata": {},
     "output_type": "execute_result"
    }
   ],
   "source": [
    "hull_lattice_model.data"
   ]
  },
  {
   "cell_type": "markdown",
   "id": "ad919361-c667-467e-b1e5-375804873b6a",
   "metadata": {},
   "source": [
    "The option premium is contained the root node of the tree (index `0` of the data dictionary field). In this example, notice that the intrinsic value of `2`, but the premium is greater than `2`:"
   ]
  },
  {
   "cell_type": "code",
   "execution_count": 69,
   "id": "e95b7fc9-afc7-43b6-a347-0505d8eaf8f6",
   "metadata": {
    "tags": []
   },
   "outputs": [
    {
     "data": {
      "text/plain": [
       "MyBiomialLatticeEquityNodeModel(50.0, 1.0, 2.0, 5.08935773788274)"
      ]
     },
     "execution_count": 69,
     "metadata": {},
     "output_type": "execute_result"
    }
   ],
   "source": [
    "hull_lattice_model.data[0]"
   ]
  },
  {
   "cell_type": "markdown",
   "id": "4c4ec416-136d-4845-8724-8a2ab33ec522",
   "metadata": {},
   "source": [
    "### Example node decision\n",
    "Starting from the leaves of the tree, decisions are made at each node backward through the tree (backward induction) to arrive at the premium value. While this may seem complicated, it reduces to a series of simple decisions: show I hold, or should I exercise?\n",
    "* __Hold__: An agent will hold if they believe the expected future payoff exceeds the immediate reward from exercising the contract. The future will be better than today.\n",
    "* __Exercise__: An agent will exercise the contract if the immediate payoff is better than the discounted expected future value of the contract. The future will be worse than today.\n",
    "\n",
    "Let's look at a particular node (specified in the `node_to_look_at::Int64` variable):"
   ]
  },
  {
   "cell_type": "code",
   "execution_count": 122,
   "id": "c4124377-9bb0-4e58-a4c5-7fb05148df7a",
   "metadata": {},
   "outputs": [],
   "source": [
    "node_to_look_at = 1;"
   ]
  },
  {
   "cell_type": "markdown",
   "id": "fd5691a0-1165-4b32-b77e-9bfde027ecc0",
   "metadata": {},
   "source": [
    "Now, let's explore the decision made at `node_to_look_at::Int64`. The indexes of the children of node `node_to_look_at::Int64` are contained in the `connectivity::Dict{Int64, Vector{Int64}}` dictionary. Let's get those kid indexes:"
   ]
  },
  {
   "cell_type": "code",
   "execution_count": 136,
   "id": "182a1281-d9b1-449a-be15-6aeb92293792",
   "metadata": {
    "tags": []
   },
   "outputs": [],
   "source": [
    "parent = hull_lattice_model.data[node_to_look_at];\n",
    "kids = hull_lattice_model.connectivity[node_to_look_at];"
   ]
  },
  {
   "cell_type": "markdown",
   "id": "10589059-2730-4e88-a686-ae0ff35da254",
   "metadata": {},
   "source": [
    "Now, let's compute whether we should hold or exercise when we are at `node_to_look_at`:"
   ]
  },
  {
   "cell_type": "code",
   "execution_count": 127,
   "id": "51ad247f-4fb6-426e-9987-dac14630ff7c",
   "metadata": {
    "tags": []
   },
   "outputs": [],
   "source": [
    "decision, EV, FV = let\n",
    "\n",
    "    # Hold: if we hold, we get the expected payoff in the future\n",
    "    expected_discounted_future_value = 0.0;\n",
    "    for i ∈ eachindex(kids)\n",
    "        k = kids[i];\n",
    "        S = hull_lattice_model.data[k].price;\n",
    "        p = hull_lattice_model.data[k].probability;\n",
    "        \n",
    "        payoff = (1/𝒟(r̄,DTE))*max(K-S,0.0); # intrinsic value\n",
    "        expected_discounted_future_value += p*payoff;\n",
    "    end\n",
    "\n",
    "    # Excercise: exercise now, we get the intrinsic value of the current node\n",
    "    S = parent.price;\n",
    "    V = max(K-S,0.0); # payoff if we exercise now\n",
    "\n",
    "    # What should I do?\n",
    "    decision = nothing;\n",
    "    if (max(V,expected_discounted_future_value) == V)\n",
    "        decision = :exercise # We make more by exercising the contract\n",
    "    else\n",
    "        decision = :hold\n",
    "    end\n",
    "\n",
    "    decision, V, expected_discounted_future_value\n",
    "end;"
   ]
  },
  {
   "cell_type": "code",
   "execution_count": 128,
   "id": "6cc4f47d-e5a3-4de6-84f2-d887031b205e",
   "metadata": {},
   "outputs": [
    {
     "data": {
      "text/plain": [
       "(1.6907050750607084, 0.0, :hold)"
      ]
     },
     "execution_count": 128,
     "metadata": {},
     "output_type": "execute_result"
    }
   ],
   "source": [
    "FV, EV, decision"
   ]
  },
  {
   "cell_type": "code",
   "execution_count": null,
   "id": "c62365fb-4632-4bc3-b1cc-5b8cd85d448d",
   "metadata": {},
   "outputs": [],
   "source": []
  }
 ],
 "metadata": {
  "kernelspec": {
   "display_name": "Julia 1.11.1",
   "language": "julia",
   "name": "julia-1.11"
  },
  "language_info": {
   "file_extension": ".jl",
   "mimetype": "application/julia",
   "name": "julia",
   "version": "1.11.1"
  }
 },
 "nbformat": 4,
 "nbformat_minor": 5
}
