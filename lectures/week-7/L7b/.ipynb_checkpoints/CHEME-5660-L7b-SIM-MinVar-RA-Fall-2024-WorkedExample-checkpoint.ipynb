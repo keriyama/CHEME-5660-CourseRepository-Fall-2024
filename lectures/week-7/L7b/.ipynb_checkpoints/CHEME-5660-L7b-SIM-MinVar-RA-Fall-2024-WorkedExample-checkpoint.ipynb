{
 "cells": [
  {
   "cell_type": "markdown",
   "id": "d2534105-6383-4535-a269-6af6c4d1680b",
   "metadata": {},
   "source": [
    "## Example: Single Index Models and Minimum Variance Portfolio Allocation\n",
    "The computation of the expected returns $\\mathbb{E}(r_{i})$ and the covariance matrix $\\Sigma$ in the _data-driven_ Minimum-Variance portfolio problem is computationally challenging as the number of assets in the portfolio grows. An alternative is to use index models to compute the expected returns and the covariance. One of the simplest (yet still widely used) index models in the single index models developed by [Sharpe (1963)](https://en.wikipedia.org/wiki/Single-index_model#:~:text=The%20single%2Dindex%20model%20(SIM,used%20in%20the%20finance%20industry.)).\n",
    "\n",
    "### Single index model\n",
    "A single index model describes the return of a firm’s stock (or the return of an ETF) in terms of a firm-specific return and the overall market return. Let $R_{i}(t)\\equiv\\left(r_{i}\\left(t\\right) - r_{f}\\right)$ \n",
    "and $R_{m}(t)\\equiv\\left(r_{m}\\left(t\\right)-r_{f}\\right)$ denote the firm-specific and market **excess returns** (return beyond the risk-free rate), where $r_{f}$ denotes the risk-free rate of return.\n",
    "Further, let $\\epsilon_{i}\\left(t\\right)$ denote stationary normally distributed random noise process\n",
    "with mean zero and standard deviation $\\sigma_{i}$. Then, the single index model of Sharpe for the excess return of firm (or ETF) $i$ is given by:\n",
    "$$\n",
    "\\begin{equation*}\n",
    "R_{i}\\left(t\\right) = \\alpha_{i}+\\beta_{i}\\cdot{R}_{m}\\left(t\\right)+\\epsilon_{i}\n",
    "\\left(t\\right)\\qquad{t=1,2,\\dots,T}\n",
    "\\end{equation*}\n",
    "$$\n",
    "where the $t$ denotes the time index, $\\alpha_{i}$ and $\\beta_{i}$ are (unknown) model parameters: \n",
    "* $\\alpha_{i}$ describes the firm-specific return not explained by the market; thus, $\\alpha_{i}$ is the idiosyncratic return of firm $i$.\n",
    "* $\\beta_{i}$ has two interpretations. First, it measures the relationship between the excess return of firm $i$ and the excess return of the market. \n",
    "A large $\\beta_{i}$ suggests that the market returns (or losses) are amplified for firm $i$, while a small $\\beta_{i}$ indicates that the market returns (or losses) are damped for firm $i$. \n",
    "Second, it represents the relative risk of investing in a firm $i$ relative to the overall market.\n",
    "\n",
    "### Single index model portfolio allocation problem for risky assets\n",
    "The risky portfolio allocation problem for a portfolio $\\mathcal{P}$ using the single index model is:\n",
    "\\begin{eqnarray*}\n",
    "\\text{minimize}~\\sigma_{\\mathcal{P}}^2 &=& \\sum_{i\\in\\mathcal{P}}\\sum_{j\\in\\mathcal{P}}\\omega_{i}\\omega_{j}\n",
    "\\text{cov}\\left(R_{i},R_{j}\\right) \\\\\n",
    "\\text{subject to}~\\mathbb{E}(R_{\\mathcal{P}})& = & \\alpha_{\\mathcal{P}}+\\beta_{\\mathcal{P}}\\cdot\\mathbb{E}(R_{m})\\geq{R^{*}} \\\\\n",
    "\\alpha_{\\mathcal{P}} & = & \\sum_{i\\in\\mathcal{P}}\\omega_{i}\\cdot\\alpha_{i}\\\\\n",
    "\\beta_{\\mathcal{P}} & = & \\sum_{i\\in\\mathcal{P}}\\omega_{i}\\cdot\\beta_{i} \\\\\n",
    "\\sum_{i\\in\\mathcal{P}}\\omega_{i} & = & 1 \\\\\n",
    "\\text{and}~\\omega_{i}&\\geq&{0}\\qquad{\\forall{i}\\in\\mathcal{P}}\n",
    "\\end{eqnarray*}\n",
    "\n",
    "where the covariance between asset $i$ and asset $j$ is given by:\n",
    "\\begin{equation*}\n",
    "\\text{cov}(R_{i}, R_{j}) = \\begin{cases}\n",
    "\\beta_{i}^{2}\\sigma_{m}^{2}+\\sigma_{\\epsilon_{i}}^{2} & i = j \\\\\n",
    "\\beta_{i}\\beta_{j}\\sigma_{m}^2 & i \\neq j\n",
    "\\end{cases}\n",
    "\\end{equation*}\n",
    "\n",
    "### Learning objectives\n",
    "The objective of this worked example is to compute the expected excess return vector $\\mathbb{E}(R_{i})$ and the covariance matrix $\\mathbf{\\Sigma}$ using the single index models (`SIMs`) estimated in the previous module, where we use the [SPDR® S&P 500® ETF Trust](https://www.ssga.com/us/en/intermediary/etfs/capabilities/spdr-core-equity-etfs/spy-sp-500?WT.mc_id=ps_etf-spy_spy-funds_us_google_text_psb_mf2_lp_may24&gad_source=1&gclid=EAIaIQobChMIw-y9tcPThgMVh7BaBR39dw3rEAAYASAAEgJPNfD_BwE&gclsrc=aw.ds) with ticker `SPY` as the market, or benchmark, portfolio. \n",
    "\n",
    "* __Prerequisites__: We'll begin by loading the historical dataset consisting of daily open-high-low-close values for firms in the [S&P500 index](https://en.wikipedia.org/wiki/S%26P_500) between `01-03-2018` and `12-29-2023`.\n",
    "* __Task 1__: Then, we'll compute the expected returns and the covariance arrays from the historical dataset and the single index models we calculated in the previous module.\n",
    "* __Task 2__: Next, we'll compute the efficient frontier by solving the minimum variance optimization problem for the data-driven and the single index model formulation for a basket of risky assets and compare the efficient frontiers calculated for each approach.\n",
    "* __Task 3__: Finally, we'll explore the contents of the data-driven and single index minimum-variance portfolios for your collection of risky assets. "
   ]
  },
  {
   "cell_type": "markdown",
   "id": "75c1691d-25c3-4f99-836d-5f01182c7842",
   "metadata": {},
   "source": [
    "## Setup\n",
    "We set up the computational environment by including the `Include.jl` file. The `Include.jl` file loads external packages, various functions that we will use in the exercise, and custom types to model the components of our lab problem.\n",
    "* For additional information on functions and types used in this material, see the [Julia programming language documentation](https://docs.julialang.org/en/v1/) and the [VLQuantitativeFinancePackage.jl documentation](https://github.com/varnerlab/VLQuantitativeFinancePackage.jl). "
   ]
  },
  {
   "cell_type": "code",
   "execution_count": 3,
   "id": "914fab8e-454d-4f98-bbce-bd4ec2edaf29",
   "metadata": {
    "tags": []
   },
   "outputs": [
    {
     "name": "stderr",
     "output_type": "stream",
     "text": [
      "\u001b[36m\u001b[1m[ \u001b[22m\u001b[39m\u001b[36m\u001b[1mInfo: \u001b[22m\u001b[39mPrecompiling VLQuantitativeFinancePackage [4119e0bf-20d0-4785-913e-5ebdb0caa218] (cache misses: wrong dep version loaded (4), wrong source (6))\n",
      "\u001b[36m\u001b[1m[ \u001b[22m\u001b[39m\u001b[36m\u001b[1mInfo: \u001b[22m\u001b[39mPrecompiling FileIOExt [f5f51d8f-5827-5d2e-939b-192fcd6ec70c] (cache misses: wrong dep version loaded (18))\n",
      "\u001b[36m\u001b[1m[ \u001b[22m\u001b[39m\u001b[36m\u001b[1mInfo: \u001b[22m\u001b[39mPrecompiling IJuliaExt [2f4121a4-3b3a-5ce6-9c5e-1f2673ce168a] (cache misses: wrong dep version loaded (20))\n",
      "\u001b[36m\u001b[1m[ \u001b[22m\u001b[39m\u001b[36m\u001b[1mInfo: \u001b[22m\u001b[39mPrecompiling StatsPlots [f3b207a7-027a-5e70-b257-86293d7955fd] (cache misses: wrong dep version loaded (18))\n"
     ]
    }
   ],
   "source": [
    "include(\"Include.jl\");"
   ]
  },
  {
   "cell_type": "markdown",
   "id": "f4a165c6-1a16-4d94-8ec7-e33cc54913a4",
   "metadata": {},
   "source": [
    "## Prerequisites: Load and clean the historical dataset\n",
    "We gathered a daily open-high-low-close `dataset` for each firm in the [S&P500](https://en.wikipedia.org/wiki/S%26P_500) since `01-03-2018` until `12-29-2023`, along with data for a few exchange-traded funds and volatility products during that time. We load the `orignal_dataset` by calling the [load(...) method exported by the JLD2.jl package](https://github.com/JuliaIO/JLD2.jl.git)."
   ]
  },
  {
   "cell_type": "code",
   "execution_count": 5,
   "id": "ede4f7d8-de2a-4c06-81d9-5e462afc6df2",
   "metadata": {
    "tags": []
   },
   "outputs": [],
   "source": [
    "original_dataset = load(joinpath(_PATH_TO_DATA, \"SP500-Daily-OHLC-1-3-2018-to-12-29-2023.jld2\")) |> x-> x[\"dataset\"];"
   ]
  },
  {
   "cell_type": "markdown",
   "id": "7ee23930-149c-49ee-b468-2405dfa9d786",
   "metadata": {},
   "source": [
    "### Clean the data\n",
    "Not all of the tickers in our dataset have the maximum number of trading days for various reasons, e.g., acquistion or de-listing events. Let's collect only those tickers with the maximum number of tradition days.\n",
    "\n",
    "* First, let's compute the number of records for a company that we know has a maximim value, e.g., `AAPL` and save that value in the `maximum_number_trading_days` variable:"
   ]
  },
  {
   "cell_type": "code",
   "execution_count": 7,
   "id": "9229500e-ccad-46db-8df4-5665fb9e2589",
   "metadata": {
    "tags": []
   },
   "outputs": [],
   "source": [
    "maximum_number_trading_days = original_dataset[\"AAPL\"] |> nrow;"
   ]
  },
  {
   "cell_type": "markdown",
   "id": "3a74846d-0fc9-40b3-bddc-c9fee656114b",
   "metadata": {},
   "source": [
    "Next, iterate through our data and collect only tickers with `maximum_number_trading_days` records. Save that data in the `dataset::Dict{String,DataFrame}` variable:"
   ]
  },
  {
   "cell_type": "code",
   "execution_count": 9,
   "id": "d75b54c3-c1d7-4f93-be35-2da7e42a86f1",
   "metadata": {
    "tags": []
   },
   "outputs": [
    {
     "data": {
      "text/plain": [
       "Dict{String, DataFrame} with 460 entries:\n",
       "  \"NI\"   => \u001b[1m1508×8 DataFrame\u001b[0m\u001b[0m…\n",
       "  \"EMR\"  => \u001b[1m1508×8 DataFrame\u001b[0m\u001b[0m…\n",
       "  \"CTAS\" => \u001b[1m1508×8 DataFrame\u001b[0m\u001b[0m…\n",
       "  \"HSIC\" => \u001b[1m1508×8 DataFrame\u001b[0m\u001b[0m…\n",
       "  \"KIM\"  => \u001b[1m1508×8 DataFrame\u001b[0m\u001b[0m…\n",
       "  \"PLD\"  => \u001b[1m1508×8 DataFrame\u001b[0m\u001b[0m…\n",
       "  \"IEX\"  => \u001b[1m1508×8 DataFrame\u001b[0m\u001b[0m…\n",
       "  \"BAC\"  => \u001b[1m1508×8 DataFrame\u001b[0m\u001b[0m…\n",
       "  \"CBOE\" => \u001b[1m1508×8 DataFrame\u001b[0m\u001b[0m…\n",
       "  \"EXR\"  => \u001b[1m1508×8 DataFrame\u001b[0m\u001b[0m…\n",
       "  \"NCLH\" => \u001b[1m1508×8 DataFrame\u001b[0m\u001b[0m…\n",
       "  \"CVS\"  => \u001b[1m1508×8 DataFrame\u001b[0m\u001b[0m…\n",
       "  \"DRI\"  => \u001b[1m1508×8 DataFrame\u001b[0m\u001b[0m…\n",
       "  \"DTE\"  => \u001b[1m1508×8 DataFrame\u001b[0m\u001b[0m…\n",
       "  \"ZION\" => \u001b[1m1508×8 DataFrame\u001b[0m\u001b[0m…\n",
       "  \"AVY\"  => \u001b[1m1508×8 DataFrame\u001b[0m\u001b[0m…\n",
       "  \"EW\"   => \u001b[1m1508×8 DataFrame\u001b[0m\u001b[0m…\n",
       "  \"EA\"   => \u001b[1m1508×8 DataFrame\u001b[0m\u001b[0m…\n",
       "  \"NWSA\" => \u001b[1m1508×8 DataFrame\u001b[0m\u001b[0m…\n",
       "  \"CAG\"  => \u001b[1m1508×8 DataFrame\u001b[0m\u001b[0m…\n",
       "  \"GPC\"  => \u001b[1m1508×8 DataFrame\u001b[0m\u001b[0m…\n",
       "  \"FCX\"  => \u001b[1m1508×8 DataFrame\u001b[0m\u001b[0m…\n",
       "  \"GILD\" => \u001b[1m1508×8 DataFrame\u001b[0m\u001b[0m…\n",
       "  \"UNP\"  => \u001b[1m1508×8 DataFrame\u001b[0m\u001b[0m…\n",
       "  \"CDW\"  => \u001b[1m1508×8 DataFrame\u001b[0m\u001b[0m…\n",
       "  ⋮      => ⋮"
      ]
     },
     "execution_count": 9,
     "metadata": {},
     "output_type": "execute_result"
    }
   ],
   "source": [
    "dataset = Dict{String,DataFrame}();\n",
    "for (ticker,data) ∈ original_dataset\n",
    "    if (nrow(data) == maximum_number_trading_days)\n",
    "        dataset[ticker] = data;\n",
    "    end\n",
    "end\n",
    "dataset"
   ]
  },
  {
   "cell_type": "markdown",
   "id": "7d776d45-97d1-48c6-9d70-c2e6840687a7",
   "metadata": {},
   "source": [
    "Let's get a sorted list of firms that we have in cleaned up `dataset`, and save it in the `list_of_all_tickers` array:"
   ]
  },
  {
   "cell_type": "code",
   "execution_count": 11,
   "id": "5c80006a-3338-4f4b-9983-f2b366af5719",
   "metadata": {
    "tags": []
   },
   "outputs": [],
   "source": [
    "list_of_all_tickers = keys(dataset) |> collect |> sort;"
   ]
  },
  {
   "cell_type": "markdown",
   "id": "3489f983-ddb4-4f71-9500-51167768cc14",
   "metadata": {},
   "source": [
    "Finally, let's set some constant values, e.g., a value for the `risk_free_rate`:"
   ]
  },
  {
   "cell_type": "code",
   "execution_count": 13,
   "id": "82ff7747-f489-4750-bd52-81b9410ac379",
   "metadata": {
    "tags": []
   },
   "outputs": [],
   "source": [
    "risk_free_rate = 0.0389; # hypothetical continuous compounded risk free rate (units: 1/year)\n",
    "Δt = (1.0/252.0); # time step for 1-trading day (units: 1/year)"
   ]
  },
  {
   "cell_type": "markdown",
   "id": "c9fc18a8-ad53-4a43-aed4-fb6988ec72b0",
   "metadata": {},
   "source": [
    "### Compute the covariance and expected return for all firms in the dataset\n",
    "The expected return $\\mathbb{E}(r_{i})$ and covariance matrix $\\Sigma$ will be used in our calculations, so we'll provide values for both of these items for the entire data set (all `N = 460` tickers), and then you can pick out which tickers you are interested in. \n",
    "\n",
    "* First, we compute the expected (annualized) log return by passing the `dataset` and the entire list of firms we have in the dataset (held in the $N\\times{1}$ `list_of_all_tickers` array) to the [log_growth_matrix(...) method](https://varnerlab.github.io/VLQuantitativeFinancePackage.jl/dev/equity/#VLQuantitativeFinancePackage.log_growth_matrix). The result is stored in the `all_firms_return_matrix` variable, a $T-1\\times{N}$ array of log return values. Each row of `all_firms_return_matrix` corresponds to a time value, while each column corresponds to a firm:"
   ]
  },
  {
   "cell_type": "code",
   "execution_count": 15,
   "id": "3cb45c2e-0214-45d5-a5da-df652d84acea",
   "metadata": {
    "tags": []
   },
   "outputs": [
    {
     "data": {
      "text/plain": [
       "1507×460 Matrix{Float64}:\n",
       "  0.336088   1.89038     6.98879   …   5.76269     1.75992    2.01562\n",
       "  2.15097   -0.657039    3.98147       3.96778    -0.750836   2.937\n",
       "  0.897421  -1.95507    -0.842654      2.86038    -0.394878   2.43031\n",
       "  6.16272    1.47313    -1.90992       6.56668     5.1095     3.37483\n",
       " -3.51528    4.88241    -0.306577      1.77612     3.328     -4.90903\n",
       " -0.36462   10.2428      2.76778   …  10.6928      2.20144    2.44313\n",
       "  3.26779    9.92523     7.33219       5.82065     2.35812    3.11215\n",
       " -0.208597   1.24649    -1.55764       2.68177    -1.59373    1.0681\n",
       "  1.65959   -0.294763    1.91961       0.400949   -0.140935   2.80741\n",
       "  0.1744     0.0990042  -0.522502     -0.199756   -0.544464  -1.12981\n",
       "  2.97962   -1.0158      3.82748   …  -0.0867694   2.25035    0.953927\n",
       "  0.874309  -0.725771    0.961274      0.243296    1.8525     1.44534\n",
       "  1.06706    0.0580966   1.8466        2.42106     1.36853    1.7907\n",
       "  ⋮                                ⋱                         \n",
       "  6.84042   -3.00103    14.2595    …   1.57549    15.7316     5.55569\n",
       "  9.98466   11.3858     19.6346       26.0367     27.5737     5.98557\n",
       " -0.47339   -0.29948    -6.8959        4.86467    -7.2843    -4.99467\n",
       "  0.512892  -5.22272    -7.85225      -5.5044     -4.72653    0.43672\n",
       "  3.48824    2.42758     0.420682      2.38842     2.66637    1.82285\n",
       " -0.276805  -2.928      -1.68008   …  -4.72665    -3.81599   -1.83426\n",
       " -0.787705   2.40002    -0.339965     -0.403442    1.53229   -2.12932\n",
       "  1.07029   -0.35239     3.66715       3.51896     3.53631   -0.748648\n",
       "  0.236013  -2.91543    -0.773453      5.13949     4.10492    1.26944\n",
       " -0.241942  -2.38307     0.456664      1.25146    -0.936607   1.20035\n",
       "  0.83941   -0.703668    0.433511  …  -0.205822   -0.232854   1.01781\n",
       " -2.03969   -3.92732    -1.24409      -1.19942    -2.9388     0.0732309"
      ]
     },
     "execution_count": 15,
     "metadata": {},
     "output_type": "execute_result"
    }
   ],
   "source": [
    "all_firms_excess_return_matrix = log_growth_matrix(dataset, list_of_all_tickers, \n",
    "    Δt = Δt, risk_free_rate = risk_free_rate) # one-trading day Δt"
   ]
  },
  {
   "cell_type": "markdown",
   "id": "3df872c9-861f-49bc-9b46-280b1d6666f2",
   "metadata": {},
   "source": [
    "Next, estimate the expected excess return for each firm from the `all_firms_excess_return_matrix` using the [mean(...) function](https://docs.julialang.org/en/v1/stdlib/Statistics/#Statistics.mean), which is exported by the [Statistics.jl package](https://docs.julialang.org/en/v1/stdlib/Statistics/). We save the $N\\times{1}$ vector of expected values, i.e., $\\mathbb{E}(R_{1}),\\dotsc,\\mathbb{E}(R_{N})$ in the variable `μ`:"
   ]
  },
  {
   "cell_type": "code",
   "execution_count": 17,
   "id": "7519be34-b42a-4315-a773-78ca6594efe3",
   "metadata": {
    "tags": []
   },
   "outputs": [],
   "source": [
    "μ = mean(all_firms_excess_return_matrix, dims=1) |> vec;"
   ]
  },
  {
   "cell_type": "markdown",
   "id": "76d2de23-284e-43e5-9ed3-aacc3181e813",
   "metadata": {},
   "source": [
    "Then, estimate the annualized `covariance_matrix` from the `all_firms_return_matrix` using the [cov(...) function](https://docs.julialang.org/en/v1/stdlib/Statistics/#Statistics.cov), exported by the [Statistics.jl package](https://docs.julialang.org/en/v1/stdlib/Statistics/). We store the $N\\times{N}$ covariance matrix in the $\\Sigma$ variable:"
   ]
  },
  {
   "cell_type": "code",
   "execution_count": 19,
   "id": "a7f60651-73b8-4b2c-83b9-130197f669fc",
   "metadata": {
    "tags": []
   },
   "outputs": [
    {
     "data": {
      "text/plain": [
       "460×460 Matrix{Float64}:\n",
       " 0.0655367  0.0409146  0.0273076  …  0.0444449  0.0343089  0.0362875\n",
       " 0.0409146  0.283809   0.0573645     0.069817   0.0986843  0.0383996\n",
       " 0.0273076  0.0573645  0.12501       0.0392735  0.0510524  0.0292667\n",
       " 0.0323065  0.0444841  0.0236737     0.045334   0.0268079  0.0336129\n",
       " 0.0198861  0.0206277  0.0201981     0.0175898  0.0216887  0.0225977\n",
       " 0.0317812  0.0228434  0.0180639  …  0.0300955  0.0202344  0.0301296\n",
       " 0.0345523  0.0475915  0.0321036     0.0448403  0.0392157  0.0353211\n",
       " 0.0387532  0.0358116  0.0245768     0.0519358  0.023438   0.0383791\n",
       " 0.0383595  0.063833   0.0295398     0.055052   0.0425233  0.033446\n",
       " 0.0209082  0.047045   0.0262508     0.0282589  0.0450202  0.0181709\n",
       " 0.028523   0.0471555  0.0297807  …  0.0372987  0.0362684  0.030892\n",
       " 0.0483308  0.0647852  0.0352406     0.0650439  0.041227   0.0429126\n",
       " 0.0167745  0.0184331  0.0190468     0.0163051  0.0187535  0.0207827\n",
       " ⋮                                ⋱                        \n",
       " 0.0225894  0.0546669  0.0286804     0.0329627  0.0450235  0.0232011\n",
       " 0.0365112  0.0817468  0.0427176     0.0537856  0.0589841  0.0348148\n",
       " 0.042611   0.144238   0.0506673  …  0.0650722  0.0870568  0.0414873\n",
       " 0.0145437  0.0143376  0.0174237     0.0122711  0.0137511  0.0188275\n",
       " 0.0221861  0.0639586  0.0276175     0.0346384  0.0574745  0.0195703\n",
       " 0.0289278  0.0574626  0.0308949     0.0332916  0.0486605  0.0295438\n",
       " 0.0356019  0.0663898  0.030569      0.0446468  0.0497479  0.0306236\n",
       " 0.0238194  0.0469344  0.0280667  …  0.0296962  0.0293565  0.0285984\n",
       " 0.0326716  0.0686421  0.0327006     0.0404702  0.0471118  0.0338005\n",
       " 0.0444449  0.069817   0.0392735     0.129926   0.0570734  0.0408721\n",
       " 0.0343089  0.0986843  0.0510524     0.0570734  0.161157   0.0267712\n",
       " 0.0362875  0.0383996  0.0292667     0.0408721  0.0267712  0.0595073"
      ]
     },
     "execution_count": 19,
     "metadata": {},
     "output_type": "execute_result"
    }
   ],
   "source": [
    "Σ = cov(all_firms_excess_return_matrix) |> x-> x*(1/252) # annualized, historical volatility from data"
   ]
  },
  {
   "cell_type": "markdown",
   "id": "fd2f2892-1281-4b29-8b5e-bc59a74dfee1",
   "metadata": {},
   "source": [
    "Finally, we estimate the annualized `correlation matrix` (assuming `252` trading days per year) from the `all_firms_return_matrix` using the [cor(...) function](https://docs.julialang.org/en/v1/stdlib/Statistics/#Statistics.cor), exported by the [Statistics.jl package](https://docs.julialang.org/en/v1/stdlib/Statistics/). We store the $N\\times{N}$ correlation matrix in the $ρ$ variable:"
   ]
  },
  {
   "cell_type": "code",
   "execution_count": 21,
   "id": "774fa449-8bbd-4306-bcf0-0f4f0e1453e5",
   "metadata": {},
   "outputs": [
    {
     "data": {
      "text/plain": [
       "460×460 Matrix{Float64}:\n",
       " 1.0       0.300001  0.301695  0.479962  …  0.48165   0.333841  0.581071\n",
       " 0.300001  1.0       0.304549  0.317579     0.36358   0.461435  0.29548\n",
       " 0.301695  0.304549  1.0       0.254655     0.308162  0.359682  0.339325\n",
       " 0.479962  0.317579  0.254655  1.0          0.47834   0.253979  0.52406\n",
       " 0.304411  0.151737  0.223867  0.267654     0.191234  0.211721  0.363022\n",
       " 0.5611    0.193803  0.230915  0.446208  …  0.37737   0.227813  0.55824\n",
       " 0.557203  0.368804  0.374852  0.577663     0.51357   0.403288  0.597762\n",
       " 0.497469  0.220908  0.22843   0.592591     0.473501  0.191866  0.517024\n",
       " 0.534947  0.427773  0.298274  0.565422     0.545263  0.378167  0.489485\n",
       " 0.352345  0.380973  0.320304  0.31355      0.338222  0.483813  0.321355\n",
       " 0.486248  0.3863    0.367593  0.481361  …  0.451597  0.394284  0.55267\n",
       " 0.547685  0.352786  0.289148  0.542806     0.523489  0.297925  0.510328\n",
       " 0.312193  0.164855  0.256664  0.290533     0.215522  0.222574  0.405913\n",
       " ⋮                                       ⋱                      \n",
       " 0.33564   0.390322  0.308548  0.33613      0.347845  0.426606  0.361773\n",
       " 0.460143  0.49507   0.3898    0.44248      0.481424  0.474044  0.460455\n",
       " 0.340466  0.553811  0.293123  0.375041  …  0.369269  0.443582  0.347877\n",
       " 0.287902  0.136388  0.249735  0.289226     0.172524  0.173591  0.391128\n",
       " 0.297873  0.412647  0.268475  0.286367     0.330296  0.492088  0.275743\n",
       " 0.359474  0.343135  0.277976  0.281978     0.29382   0.385608  0.385279\n",
       " 0.518415  0.464553  0.322296  0.417341     0.461731  0.461953  0.46797\n",
       " 0.41707   0.394911  0.355828  0.406742  …  0.369295  0.327794  0.525507\n",
       " 0.459092  0.4635    0.332702  0.425792     0.403887  0.42216   0.498437\n",
       " 0.48165   0.36358   0.308162  0.47834      1.0       0.394423  0.46483\n",
       " 0.333841  0.461435  0.359682  0.253979     0.394423  1.0       0.273375\n",
       " 0.581071  0.29548   0.339325  0.52406      0.46483   0.273375  1.0"
      ]
     },
     "execution_count": 21,
     "metadata": {},
     "output_type": "execute_result"
    }
   ],
   "source": [
    "ρ = cor(all_firms_excess_return_matrix) # correlation matrix"
   ]
  },
  {
   "cell_type": "markdown",
   "id": "0ac860fb-6307-4f31-be40-001bd6aa600e",
   "metadata": {},
   "source": [
    "### Load single index models, compute the single index returns and covariance\n",
    "In a previous module, we estimated the parameters and residual distributions for each `ticker`$\\in$`list_of_all_tickers` and saved these to a [JLD2.jl file](https://github.com/JuliaIO/JLD2.jl). Load this file using the [load(...) function](https://juliaio.github.io/JLD2.jl/stable/#save-and-load-functions). \n",
    "* Store the model collection in the `sim_model_dictionary` variable, where the keys of the dictionary are the ticker symbols and the values are the parameterized [MySingleIndexModel instances](https://varnerlab.github.io/VLQuantitativeFinancePackage.jl/dev/portfolio/#VLQuantitativeFinancePackage.MySingleIndexModel) estimated previously."
   ]
  },
  {
   "cell_type": "code",
   "execution_count": 23,
   "id": "4a228ac1-8c15-4349-9bd6-6eefadcd5c66",
   "metadata": {
    "tags": []
   },
   "outputs": [
    {
     "data": {
      "text/plain": [
       "Dict{String, MySingleIndexModel} with 460 entries:\n",
       "  \"NI\"   => MySingleIndexModel(-0.0671224, 0.652999, 0.0389, Normal{Float64}(μ=…\n",
       "  \"EMR\"  => MySingleIndexModel(-0.0549877, 1.23526, 0.0389, Normal{Float64}(μ=-…\n",
       "  \"CTAS\" => MySingleIndexModel(0.119417, 1.17936, 0.0389, Normal{Float64}(μ=-6.…\n",
       "  \"HSIC\" => MySingleIndexModel(-0.0811194, 0.913675, 0.0389, Normal{Float64}(μ=…\n",
       "  \"KIM\"  => MySingleIndexModel(-0.0818621, 1.28859, 0.0389, Normal{Float64}(μ=-…\n",
       "  \"PLD\"  => MySingleIndexModel(0.0273092, 1.02836, 0.0389, Normal{Float64}(μ=1.…\n",
       "  \"IEX\"  => MySingleIndexModel(-0.00940007, 0.963259, 0.0389, Normal{Float64}(μ…\n",
       "  \"BAC\"  => MySingleIndexModel(-0.0922207, 1.32778, 0.0389, Normal{Float64}(μ=-…\n",
       "  \"CBOE\" => MySingleIndexModel(-0.00982405, 0.588498, 0.0389, Normal{Float64}(μ…\n",
       "  \"EXR\"  => MySingleIndexModel(0.0252878, 0.725388, 0.0389, Normal{Float64}(μ=3…\n",
       "  \"NCLH\" => MySingleIndexModel(-0.336719, 2.32891, 0.0389, Normal{Float64}(μ=1.…\n",
       "  \"CVS\"  => MySingleIndexModel(-0.0703279, 0.78292, 0.0389, Normal{Float64}(μ=-…\n",
       "  \"DRI\"  => MySingleIndexModel(-0.0286856, 1.36306, 0.0389, Normal{Float64}(μ=8…\n",
       "  \"DTE\"  => MySingleIndexModel(-0.0784382, 0.769165, 0.0389, Normal{Float64}(μ=…\n",
       "  \"ZION\" => MySingleIndexModel(-0.138024, 1.36377, 0.0389, Normal{Float64}(μ=9.…\n",
       "  \"AVY\"  => MySingleIndexModel(-0.0102924, 1.16058, 0.0389, Normal{Float64}(μ=-…\n",
       "  \"EW\"   => MySingleIndexModel(0.0158413, 1.11274, 0.0389, Normal{Float64}(μ=-1…\n",
       "  \"EA\"   => MySingleIndexModel(-0.0374669, 0.629636, 0.0389, Normal{Float64}(μ=…\n",
       "  \"NWSA\" => MySingleIndexModel(-0.0347286, 1.12238, 0.0389, Normal{Float64}(μ=1…\n",
       "  \"CAG\"  => MySingleIndexModel(-0.10775, 0.437623, 0.0389, Normal{Float64}(μ=-7…\n",
       "  \"GILD\" => MySingleIndexModel(-0.0535678, 0.516018, 0.0389, Normal{Float64}(μ=…\n",
       "  \"FCX\"  => MySingleIndexModel(-0.00807345, 1.80621, 0.0389, Normal{Float64}(μ=…\n",
       "  \"GPC\"  => MySingleIndexModel(-0.0389315, 1.06584, 0.0389, Normal{Float64}(μ=3…\n",
       "  \"UNP\"  => MySingleIndexModel(0.00241017, 1.03174, 0.0389, Normal{Float64}(μ=4…\n",
       "  \"CDW\"  => MySingleIndexModel(0.0876354, 1.21706, 0.0389, Normal{Float64}(μ=1.…\n",
       "  ⋮      => ⋮"
      ]
     },
     "execution_count": 23,
     "metadata": {},
     "output_type": "execute_result"
    }
   ],
   "source": [
    "sim_model_dictionary = load(joinpath(_PATH_TO_DATA, \"SIMs-SP500-01-03-18-to-12-29-23.jld2\")) |> x->x[\"sim\"]"
   ]
  },
  {
   "cell_type": "markdown",
   "id": "1c71da00-cb71-40c9-a486-c01be98cdf1c",
   "metadata": {},
   "source": [
    "Next, pull out the excess return of the `market portfolio` from the excess expected return `μ.` To do this, look up the index for our market portfolio surrogate `SPY,` then get this column of data from the `μ` array. We'll store the expected excess return for `SPY` in the `Rₘ` variable (scalar value):"
   ]
  },
  {
   "cell_type": "code",
   "execution_count": 25,
   "id": "86e3f4a1-b7dd-4ef9-8fff-9555a6571416",
   "metadata": {
    "tags": []
   },
   "outputs": [],
   "source": [
    "Rₘ = findfirst(x -> x == \"SPY\", list_of_all_tickers) |> i -> μ[i]; # this is mean excess return for SPY"
   ]
  },
  {
   "cell_type": "markdown",
   "id": "ba8ba6d4-726d-4254-a396-39478ef6ce0c",
   "metadata": {},
   "source": [
    "#### Compute the expected returns using single index models\n",
    "Now, compute the expected return for each ticker in the `dataset` using the single index models computed in the previous module using a `for-loop.` For iteration of the loop:\n",
    "* Get the `ticker` symbol from the `list_of_all_tickers` array, and pull out the corresponding single index model from the `sim_model_dictionary` dictionary. Then, pull out the $(\\alpha, \\beta)$ parameters from the `sim` model instance and compute the expected return $\\mathbb{E}(R_{i})$. Store the expected return in the `μ_sim` array"
   ]
  },
  {
   "cell_type": "code",
   "execution_count": 27,
   "id": "6d9258a1-0c39-4721-8d8c-e67070072ff5",
   "metadata": {
    "tags": []
   },
   "outputs": [],
   "source": [
    "μ_sim = Array{Float64,1}();\n",
    "for i ∈ eachindex(list_of_all_tickers)\n",
    "    sim = list_of_all_tickers[i] |> ticker -> sim_model_dictionary[ticker];   \n",
    "    αᵢ = sim.α\n",
    "    βᵢ = sim.β\n",
    "    (αᵢ+βᵢ*Rₘ) |> R̄ᵢ-> push!(μ_sim,R̄ᵢ); # evaluate the SIM for all the models in our collection\n",
    "end"
   ]
  },
  {
   "cell_type": "markdown",
   "id": "f28f3361-7a89-46f0-be64-2519f5a7041e",
   "metadata": {},
   "source": [
    "#### Compute the Covariance matrix using single index models\n",
    "Next, build the covariance array using single index models. Substituting the single index model for the excess return of asset $i$ and $j$ into the covariance expression (and simplifying) gives:\n",
    "$$\n",
    "\\begin{equation*}\n",
    "\\text{cov}(R_{i}, R_{j}) = \\begin{cases}\n",
    "\\beta_{i}^{2}\\sigma_{m}^{2}+\\sigma_{\\epsilon_{i}}^{2} & i = j \\\\\n",
    "\\beta_{i}\\beta_{j}\\sigma_{m}^2 & i \\neq j\n",
    "\\end{cases}\n",
    "\\end{equation*}\n",
    "$$\n",
    "where $\\sigma_{m}^2$ denotes the variance of the excess return of the market,  and $\\sigma_{\\epsilon_{i}}^{2}$ denotes the variance of the firm-specific error model.\n",
    "\n",
    "* To compute the risk $\\sigma_{m}$, which is the standard deviation of the return for the market portfolio, we first find the index for `SPY` in the `all_firms_excess_return_matrix` using the [Julia findfirst(..) function](https://docs.julialang.org/en/v1/base/arrays/#Base.findfirst-Tuple{Any}), and then pass that value to the `all_firms_excess_return_matrix` using the [Julia pipe operator](https://docs.julialang.org/en/v1/manual/functions/#Function-composition-and-piping). Finally, we calculate the standard deviation of the return using the [std(...) function exported by the Statistics.jl package](https://docs.julialang.org/en/v1/stdlib/Statistics/#Statistics)."
   ]
  },
  {
   "cell_type": "code",
   "execution_count": 29,
   "id": "f9cd87c4-f581-4e3e-a000-88d10a9d5e7e",
   "metadata": {
    "tags": []
   },
   "outputs": [],
   "source": [
    "σₘ = findfirst(x->x == \"SPY\", list_of_all_tickers) |> i-> std(all_firms_excess_return_matrix[:, i]); # get SPY σ from data"
   ]
  },
  {
   "cell_type": "markdown",
   "id": "40ef12a8-9ad5-46d9-8518-4b5387b5fef7",
   "metadata": {},
   "source": [
    "Finally, we populate the single index covariance array `Σ_sim` using nested [`for-loops.`](https://docs.julialang.org/en/v1/base/base/#for)."
   ]
  },
  {
   "cell_type": "code",
   "execution_count": 31,
   "id": "88163f26-dd92-49f3-9205-729192450f7e",
   "metadata": {
    "tags": []
   },
   "outputs": [],
   "source": [
    "Σ_sim = let\n",
    "    Σ_tmp = Array{Float64,2}(undef, length(μ), length(μ));\n",
    "    for i ∈ eachindex(list_of_all_tickers)\n",
    "        \n",
    "        outer_ticker = list_of_all_tickers[i]; # ticker on the rows \n",
    "        sim_outer = sim_model_dictionary[outer_ticker]; # get SIM model for row ticker\n",
    "        \n",
    "        for j ∈ eachindex(list_of_all_tickers)\n",
    "            \n",
    "            inner_ticker = list_of_all_tickers[j]; # ticker in the cols\n",
    "            sim_inner = sim_model_dictionary[inner_ticker]; # get SIM model of the col ticker\n",
    "            \n",
    "            if (i == j) # we have a diagonal element\n",
    "                βᵢ = sim_outer.β\n",
    "                ϵᵢ = sim_outer.ϵ\n",
    "                σ_ϵᵢ = params(ϵᵢ)[2];\n",
    "                Σ_tmp[i,j] = ((βᵢ)^2)*((σₘ)^2)+(σ_ϵᵢ)^2\n",
    "            else\n",
    "                βᵢ = sim_outer.β\n",
    "                βⱼ = sim_inner.β\n",
    "                Σ_tmp[i,j] = βᵢ*βⱼ*(σₘ)^2\n",
    "            end\n",
    "        end\n",
    "    end\n",
    "    Σ_sim  = Σ_tmp |> x-> x*(1/252) # annualize\n",
    "end;"
   ]
  },
  {
   "cell_type": "markdown",
   "id": "2ddbb66e-c036-4622-9426-dd4e7ed131e4",
   "metadata": {},
   "source": [
    "## Task 1: Build the return array and covariance matrix for our low-correlation tickers\n",
    "Before computing the efficient frontier using data and single index models, we need to determine which stocks to include in the risky portfolio. One approach is to choose stocks with small or negative correlations. Let's delve into this concept by selecting specific stock symbols and then using the methods from earlier modules to calculate their low-correlation partner firms.\n",
    "* We begin by populating the `correlated_ticker_pairs::Dict{String, Array{Tuple{String, String, Float64},1}}` dictionary. We populate this dictionary using a `for-loop` over the `list_of_all_tickers.` For each ticker:\n",
    "* We access the ticker at index `i` from the `list_of_all_tickers`. We then access the corresponding row in the correlation matrix `ρ` and then sort using the [Julia sortperm(...) function](https://docs.julialang.org/en/v1/base/sort/#Base.sortperm). This function returns the permutation vector that sorts the covariance entries from `smallest` to `largest.` Finally, we generate a list of tickers sorted by correlation in ascending order for each value of `test_ticker` using an [array comprehension operation](https://docs.julialang.org/en/v1/manual/arrays/#man-comprehensions) in combination with the [Julia pipe operation](https://docs.julialang.org/en/v1/manual/functions/#Function-composition-and-piping). We store both the ticker and the entry of the correlation matrix:"
   ]
  },
  {
   "cell_type": "code",
   "execution_count": 33,
   "id": "2b5d8235-ceb0-4a19-a916-bc3ae4960b5b",
   "metadata": {},
   "outputs": [
    {
     "data": {
      "text/plain": [
       "Dict{String, Vector{Tuple{String, String, Float64}}} with 460 entries:\n",
       "  \"TPR\"  => [(\"TPR\", \"CPB\", -0.0335701), (\"TPR\", \"CLX\", -0.0325634), (\"TPR\", \"K…\n",
       "  \"EMR\"  => [(\"EMR\", \"CLX\", 0.0148307), (\"EMR\", \"GLD\", 0.0184654), (\"EMR\", \"KR\"…\n",
       "  \"CTAS\" => [(\"CTAS\", \"KR\", 0.0051986), (\"CTAS\", \"CLX\", 0.0711865), (\"CTAS\", \"G…\n",
       "  \"HSIC\" => [(\"HSIC\", \"GLD\", 0.0203412), (\"HSIC\", \"EA\", 0.0574917), (\"HSIC\", \"K…\n",
       "  \"KIM\"  => [(\"KIM\", \"KR\", -0.00164488), (\"KIM\", \"CLX\", 0.00152225), (\"KIM\", \"G…\n",
       "  \"PLD\"  => [(\"PLD\", \"UNG\", 0.0825773), (\"PLD\", \"KR\", 0.0999649), (\"PLD\", \"IR\",…\n",
       "  \"IEX\"  => [(\"IEX\", \"GLD\", 0.0425545), (\"IEX\", \"KR\", 0.0930673), (\"IEX\", \"UNG\"…\n",
       "  \"BAC\"  => [(\"BAC\", \"GLD\", -0.069935), (\"BAC\", \"CLX\", -0.0256813), (\"BAC\", \"KR…\n",
       "  \"CBOE\" => [(\"CBOE\", \"KR\", 0.0110771), (\"CBOE\", \"GLD\", 0.0536606), (\"CBOE\", \"U…\n",
       "  \"EXR\"  => [(\"EXR\", \"KR\", 0.0786332), (\"EXR\", \"IR\", 0.0901916), (\"EXR\", \"UNG\",…\n",
       "  \"NCLH\" => [(\"NCLH\", \"CLX\", -0.091607), (\"NCLH\", \"KR\", -0.0647844), (\"NCLH\", \"…\n",
       "  \"CVS\"  => [(\"CVS\", \"GLD\", 0.00256612), (\"CVS\", \"SLV\", 0.0629453), (\"CVS\", \"IR…\n",
       "  \"DRI\"  => [(\"DRI\", \"CLX\", -0.104942), (\"DRI\", \"KR\", -0.0825326), (\"DRI\", \"CPB…\n",
       "  \"DTE\"  => [(\"DTE\", \"NFLX\", 0.0431387), (\"DTE\", \"TTWO\", 0.0680759), (\"DTE\", \"K…\n",
       "  \"ZION\" => [(\"ZION\", \"GLD\", -0.111978), (\"ZION\", \"CLX\", -0.0455295), (\"ZION\", …\n",
       "  \"AVY\"  => [(\"AVY\", \"GLD\", 0.0332247), (\"AVY\", \"KR\", 0.0594205), (\"AVY\", \"UNG\"…\n",
       "  \"EW\"   => [(\"EW\", \"KR\", 0.0139593), (\"EW\", \"UNG\", 0.0387759), (\"EW\", \"CLX\", 0…\n",
       "  \"EA\"   => [(\"EA\", \"IR\", 0.0209268), (\"EA\", \"HSIC\", 0.0574917), (\"EA\", \"GPS\", …\n",
       "  \"NWSA\" => [(\"NWSA\", \"GLD\", 0.0218845), (\"NWSA\", \"UNG\", 0.0455641), (\"NWSA\", \"…\n",
       "  \"CAG\"  => [(\"CAG\", \"UNG\", -0.0265192), (\"CAG\", \"IR\", -0.0142002), (\"CAG\", \"PE…\n",
       "  \"GILD\" => [(\"GILD\", \"IR\", 0.00225854), (\"GILD\", \"UNG\", 0.0302198), (\"GILD\", \"…\n",
       "  \"FCX\"  => [(\"FCX\", \"CLX\", -0.0456629), (\"FCX\", \"CPB\", -0.0297743), (\"FCX\", \"G…\n",
       "  \"GPC\"  => [(\"GPC\", \"GLD\", 0.0151042), (\"GPC\", \"KR\", 0.078508), (\"GPC\", \"NFLX\"…\n",
       "  \"UNP\"  => [(\"UNP\", \"GLD\", 0.0336948), (\"UNP\", \"CLX\", 0.0440339), (\"UNP\", \"CPB…\n",
       "  \"CDW\"  => [(\"CDW\", \"KR\", 0.0233901), (\"CDW\", \"CLX\", 0.0272199), (\"CDW\", \"GLD\"…\n",
       "  ⋮      => ⋮"
      ]
     },
     "execution_count": 33,
     "metadata": {},
     "output_type": "execute_result"
    }
   ],
   "source": [
    "correlated_ticker_pair = let\n",
    "    correlated_ticker_pairs = Dict{String, Array{Tuple{String, String, Float64},1}}();\n",
    "    for i ∈ eachindex(list_of_all_tickers)\n",
    "        test_ticker = list_of_all_tickers[i];\n",
    "        id = sortperm(ρ[i,:])\n",
    "        [(test_ticker, list_of_all_tickers[id[j]],ρ[i,id[j]]) for j ∈ eachindex(id)] |> tuple -> correlated_ticker_pairs[test_ticker] = tuple;\n",
    "    end\n",
    "    correlated_ticker_pairs\n",
    "end"
   ]
  },
  {
   "cell_type": "markdown",
   "id": "b291e60c-6cda-43b9-ab72-fee4eb6b595f",
   "metadata": {},
   "source": [
    "Next, specify a collection of tickers that interest you in the `my_list_of_tickers` array, e.g., `AAPL,` `MSFT,` etc. We'll then find the `low-correlation` twin tickers and insert these (along with your initial tickers) into the `my_low_correlation_ticker_array` array:"
   ]
  },
  {
   "cell_type": "code",
   "execution_count": 35,
   "id": "987b9082-695b-476d-98bd-11bf8c285514",
   "metadata": {
    "tags": []
   },
   "outputs": [
    {
     "data": {
      "text/plain": [
       "24-element Vector{String}:\n",
       " \"AAPL\"\n",
       " \"UNG\"\n",
       " \"MSFT\"\n",
       " \"KR\"\n",
       " \"INTC\"\n",
       " \"CPB\"\n",
       " \"MU\"\n",
       " \"GIS\"\n",
       " \"AMD\"\n",
       " \"SJM\"\n",
       " \"NVDA\"\n",
       " \"K\"\n",
       " \"GS\"\n",
       " \"GLD\"\n",
       " \"BAC\"\n",
       " \"CLX\"\n",
       " \"WFC\"\n",
       " \"CHD\"\n",
       " \"C\"\n",
       " \"HRL\"\n",
       " \"F\"\n",
       " \"REGN\"\n",
       " \"GM\"\n",
       " \"KMB\""
      ]
     },
     "execution_count": 35,
     "metadata": {},
     "output_type": "execute_result"
    }
   ],
   "source": [
    "my_list_of_tickers = [\"AAPL\", \"MSFT\", \"INTC\", \"MU\", \"AMD\", \"NVDA\", \"GS\", \"BAC\", \"WFC\", \"C\", \"F\", \"GM\"];\n",
    "my_low_correlation_ticker_array = Array{String,1}();\n",
    "for base_ticker ∈ my_list_of_tickers\n",
    "\n",
    "  ticker_record_tuple_array = correlated_ticker_pair[base_ticker];\n",
    "    \n",
    "    # find high correlation tickers - \n",
    "    counter = 0;\n",
    "    twin_ticker = base_ticker;\n",
    "    while !(in(twin_ticker, my_low_correlation_ticker_array) == false && twin_ticker != base_ticker)\n",
    "        twin_ticker = ticker_record_tuple_array[counter+1][2];\n",
    "        counter += 1;\n",
    "    end\n",
    "\n",
    "    push!(my_low_correlation_ticker_array, base_ticker)\n",
    "    push!(my_low_correlation_ticker_array, twin_ticker)\n",
    "    \n",
    "end\n",
    "my_low_correlation_ticker_array"
   ]
  },
  {
   "cell_type": "markdown",
   "id": "9d4ca8e5-e3e3-4efb-ae95-833e87cbeac0",
   "metadata": {},
   "source": [
    "Finally, we'll get the indexes of the `low-correlation` tickers that we computed above, i.e., we'll look up the position of the tickers in the `list_of_all_tickers` list and save these values in the `my_list_of_firm_ids` variable by iterating through the `my_low_correlation_ticker_array`:"
   ]
  },
  {
   "cell_type": "code",
   "execution_count": 37,
   "id": "d2a229ee-2a1b-482e-af66-daaef1364249",
   "metadata": {},
   "outputs": [],
   "source": [
    "my_list_of_firm_ids = Array{Int64,1}();\n",
    "for ticker ∈ my_low_correlation_ticker_array\n",
    "    findfirst(x->x==ticker, list_of_all_tickers) |> i -> push!(my_list_of_firm_ids, i);\n",
    "end"
   ]
  },
  {
   "cell_type": "markdown",
   "id": "c27ba58a-3226-4883-844d-5b1ce084871a",
   "metadata": {},
   "source": [
    "After selecting the firms for your risky portfolio, calculate the firm-specific expected return vector and covariance matrix. We will store these in the variables $\\hat{\\mu}_{\\star}$ and $\\hat{\\Sigma}_{\\star}$. The single index expected return will have a subscript `sim.`"
   ]
  },
  {
   "cell_type": "code",
   "execution_count": 39,
   "id": "edf0c44d-4af0-4a1a-86b7-42706212871b",
   "metadata": {
    "tags": []
   },
   "outputs": [],
   "source": [
    "# --- DO NOT CHANGE THIS BLOCK ----------------------------------------- #\n",
    "μ̂ = Array{Float64,1}();\n",
    "μ̂_sim = Array{Float64,1}();\n",
    "for firm_index ∈ my_list_of_firm_ids\n",
    "    push!(μ̂, μ[firm_index])\n",
    "    push!(μ̂_sim, μ_sim[firm_index])\n",
    "end\n",
    "# ---------------------------------------------------------------------- #"
   ]
  },
  {
   "cell_type": "code",
   "execution_count": 40,
   "id": "42a00e0b-9e06-4a8d-837b-9ae6692ce35c",
   "metadata": {},
   "outputs": [
    {
     "data": {
      "text/plain": [
       "24-element Vector{Float64}:\n",
       "  0.21073295027013159\n",
       " -0.295131911779009\n",
       "  0.2071096422442993\n",
       "  0.042896299418748986\n",
       " -0.01998539140920752\n",
       " -0.05317247323193198\n",
       "  0.06993080492212196\n",
       " -0.022095680482093715\n",
       "  0.3862583317931452\n",
       " -0.03519266083711634\n",
       "  0.3367060417918347\n",
       " -0.07111539025780378\n",
       "  0.030778712601516017\n",
       "  0.03251442137137508\n",
       " -0.018242804457282505\n",
       " -0.04055780105664847\n",
       " -0.07603624633783583\n",
       "  0.07041003646379124\n",
       " -0.10076073302977084\n",
       " -0.05786431713273217\n",
       " -0.04582213933206383\n",
       "  0.09578824598042919\n",
       " -0.06699217744610869\n",
       " -0.03326277424670798"
      ]
     },
     "execution_count": 40,
     "metadata": {},
     "output_type": "execute_result"
    }
   ],
   "source": [
    "μ̂_sim"
   ]
  },
  {
   "cell_type": "markdown",
   "id": "cf6e0031-89ac-48c5-a79e-0f5ae86983f6",
   "metadata": {},
   "source": [
    "Next, compute the firm-specific covariance $\\hat{\\Sigma}$ matrix for the data version of the problem:"
   ]
  },
  {
   "cell_type": "code",
   "execution_count": 42,
   "id": "16c088cc-0253-4d4d-8561-b7a084bac211",
   "metadata": {
    "tags": []
   },
   "outputs": [],
   "source": [
    "# --- DO NOT CHANGE THIS BLOCK ----------------------------------------- #\n",
    "my_number_of_selected_firms = length(my_list_of_firm_ids)\n",
    "Σ̂ = Array{Float64,2}(undef, my_number_of_selected_firms, my_number_of_selected_firms);\n",
    "for i ∈ eachindex(my_list_of_firm_ids)\n",
    "    row_firm_index = my_list_of_firm_ids[i]\n",
    "    for j ∈ eachindex(my_list_of_firm_ids)\n",
    "        col_firm_index = my_list_of_firm_ids[j]\n",
    "        Σ̂[i,j] = Σ[row_firm_index, col_firm_index]\n",
    "    end\n",
    "end\n",
    "# ---------------------------------------------------------------------- #"
   ]
  },
  {
   "cell_type": "markdown",
   "id": "b91fec59-ddba-47fa-95b0-b76145953015",
   "metadata": {},
   "source": [
    "and then the single index model version of the problem (where the single index version will has a subscript `sim`):"
   ]
  },
  {
   "cell_type": "code",
   "execution_count": 44,
   "id": "a041c01a-856f-4bd5-a10c-395418a57e76",
   "metadata": {
    "tags": []
   },
   "outputs": [],
   "source": [
    "# --- DO NOT CHANGE THIS BLOCK FOR SIM  -------------------------------- #\n",
    "my_number_of_selected_firms = length(my_list_of_firm_ids)\n",
    "Σ̂_sim = Array{Float64,2}(undef, my_number_of_selected_firms, my_number_of_selected_firms);\n",
    "for i ∈ eachindex(my_list_of_firm_ids)\n",
    "    row_firm_index = my_list_of_firm_ids[i]\n",
    "    for j ∈ eachindex(my_list_of_firm_ids)\n",
    "        col_firm_index = my_list_of_firm_ids[j]\n",
    "        Σ̂_sim[i,j] = Σ_sim[row_firm_index, col_firm_index]\n",
    "    end\n",
    "end\n",
    "# ---------------------------------------------------------------------- #"
   ]
  },
  {
   "cell_type": "markdown",
   "id": "401a2d24-deb1-4bbb-ba05-2f6c7611ea20",
   "metadata": {},
   "source": [
    "## Task 2: Compute the efficient frontier for your low-correlation collection of stocks\n",
    "Now, we can compute the data-driven and single index model efficient frontiers, assuming only risky assets. To begin, create an instance of the [MyMarkowitzRiskyAssetOnlyPortfiolioChoiceProblem type](https://varnerlab.github.io/VLQuantitativeFinancePackage.jl/dev/portfolio/#VLQuantitativeFinancePackage.MyMarkowitzRiskyAssetOnlyPortfiolioChoiceProblem) using a custom [build(...) method](https://varnerlab.github.io/VLQuantitativeFinancePackage.jl/dev/portfolio/#VLQuantitativeFinancePackage.build-Tuple{Type{MyMarkowitzRiskyAssetOnlyPortfiolioChoiceProblem},%20NamedTuple}). Store this in the `problem_risk` variable. \n",
    "* You'll need to pass your covariance array $\\hat{\\Sigma}_{\\star}$, the expected return array $\\hat{\\mu}_{\\star}$, along with bounds and an initial guess, to the [build(...) method](https://varnerlab.github.io/VLQuantitativeFinancePackage.jl/dev/portfolio/#VLQuantitativeFinancePackage.build-Tuple{Type{MyMarkowitzRiskyAssetOnlyPortfiolioChoiceProblem},%20NamedTuple}). Start by setting up the bounds and constants in the problem:"
   ]
  },
  {
   "cell_type": "code",
   "execution_count": 46,
   "id": "0840da92-f0f9-4072-9df6-39f09e6c4e4d",
   "metadata": {
    "tags": []
   },
   "outputs": [],
   "source": [
    "number_of_firms = length(my_list_of_firm_ids);\n",
    "wₒ = zeros(number_of_firms);\n",
    "wₒ[1] = 1.0;\n",
    "bounds = zeros(number_of_firms,2);\n",
    "bounds[:,2] .= 1.0;\n",
    "number_of_points = 50;"
   ]
  },
  {
   "cell_type": "markdown",
   "id": "ba901c71-c62c-44d9-9976-1d08e83f8350",
   "metadata": {},
   "source": [
    "Build an instance of the [MyMarkowitzRiskyAssetOnlyPortfiolioChoiceProblem type](https://varnerlab.github.io/VLQuantitativeFinancePackage.jl/dev/portfolio/#VLQuantitativeFinancePackage.MyMarkowitzRiskyAssetOnlyPortfiolioChoiceProblem) using a custom [build(...) method](https://varnerlab.github.io/VLQuantitativeFinancePackage.jl/dev/portfolio/#VLQuantitativeFinancePackage.build-Tuple{Type{MyMarkowitzRiskyAssetOnlyPortfiolioChoiceProblem},%20NamedTuple}) for the `data` version of the problem:"
   ]
  },
  {
   "cell_type": "code",
   "execution_count": 48,
   "id": "4ba80199-8917-4357-a800-4c973148de3d",
   "metadata": {
    "tags": []
   },
   "outputs": [],
   "source": [
    "problem_risk = build(MyMarkowitzRiskyAssetOnlyPortfiolioChoiceProblem, (\n",
    "    Σ = Σ̂, # data cov matrix\n",
    "    μ = μ̂, # data expected return\n",
    "    bounds = bounds,\n",
    "    initial = wₒ,\n",
    "    R = 0.0\n",
    "));"
   ]
  },
  {
   "cell_type": "markdown",
   "id": "10d8346c-4d38-495c-8550-d63576c4051a",
   "metadata": {},
   "source": [
    "and the `single index model` version of the problem (store the single index version of the problem in the `problem_risk_sim` variable):"
   ]
  },
  {
   "cell_type": "code",
   "execution_count": 50,
   "id": "8fe92cd2-dd7f-46e2-9a10-7a9f1de3f2d0",
   "metadata": {
    "tags": []
   },
   "outputs": [],
   "source": [
    "problem_risk_sim = build(MyMarkowitzRiskyAssetOnlyPortfiolioChoiceProblem, (\n",
    "    Σ = Σ̂_sim, # sim cov matrix\n",
    "    μ = μ̂_sim, # sim expected array\n",
    "    bounds = bounds,\n",
    "    initial = wₒ,\n",
    "    R = 0.0\n",
    "));"
   ]
  },
  {
   "cell_type": "markdown",
   "id": "287c4ec0-e9d4-45c9-9c2e-7db7911b4b41",
   "metadata": {},
   "source": [
    "Next, we create an array with the minimum desired rewards (the calculation must achieve at least this much reward). In this case, assume we go from `0` to `10`$\\times{r_{f}}$ and take `number_of_points` steps.  We store these values in the `minimum_desired_reward_array` variable:"
   ]
  },
  {
   "cell_type": "code",
   "execution_count": 52,
   "id": "a62e9f23-02cb-4c3c-b5a0-30215ca2c86f",
   "metadata": {
    "tags": []
   },
   "outputs": [],
   "source": [
    "minimum_desired_reward_array = range(0.0, stop = 10*risk_free_rate, length = number_of_points) |> collect; # excess return from zero"
   ]
  },
  {
   "cell_type": "markdown",
   "id": "9e583610-fae9-4325-a3d1-70476ad2847c",
   "metadata": {},
   "source": [
    "Finally, we now iterate through the `minimum_desired_reward_array` and compute the minimum risk required to achieve the specified reward level using a `for-loop.` For each pass through the loop, we:\n",
    "* Update the `problem_risk` variable with the minimum desired reward (set the `R` field). We then pass the updated `problem_risk` object to the [solve(...) method](https://varnerlab.github.io/VLQuantitativeFinancePackage.jl/dev/portfolio/#VLQuantitativeFinancePackage.solve-Tuple{MyMarkowitzRiskyAssetOnlyPortfiolioChoiceProblem}) (which initializes and solves the optimization problem). The solution returned from the [solve(...) method](https://varnerlab.github.io/VLQuantitativeFinancePackage.jl/dev/portfolio/#VLQuantitativeFinancePackage.solve-Tuple{MyMarkowitzRiskyAssetOnlyPortfiolioChoiceProblem}) is stored in the `solution` dictionary. \n",
    "* We check the `status` of the solution. If the `status` indicates an optimal solution was found, we store that solution in the `efficient_frontier` dictionary. In particular, we store the portfolio risk $\\sigma_{\\mathcal{P}}$ as the `key` and the portfolio's expected return as the `value` in the `efficient_frontier` dictionary.\n",
    "* Why the [try-catch environment](https://docs.julialang.org/en/v1/base/base/#try)? The [solve(...) method](https://varnerlab.github.io/VLQuantitativeFinancePackage.jl/dev/portfolio/#VLQuantitativeFinancePackage.solve-Tuple{MyMarkowitzRiskyAssetOnlyPortfiolioChoiceProblem}) has an [@assert statement](https://docs.julialang.org/en/v1/base/base/#Base.@assert) to check if the calculation has converged. Thus, the solve method can [throw](https://docs.julialang.org/en/v1/base/base/#Core.throw) an [AssertionError](https://docs.julialang.org/en/v1/base/base/#Core.AssertionError) if the optimization problem fails to converge. To gracefully handle this case, we use a [try-catch construct](https://docs.julialang.org/en/v1/base/base/#try). See the [is_solved_and_feasible method from the JuMP package](https://jump.dev/JuMP.jl/stable/api/JuMP/#JuMP.is_solved_and_feasible) for more information."
   ]
  },
  {
   "cell_type": "code",
   "execution_count": 54,
   "id": "8c80968c-cdf4-4759-9bc5-c21a32a40055",
   "metadata": {
    "tags": []
   },
   "outputs": [],
   "source": [
    "efficient_frontier = Dict{Float64,Float64}();\n",
    "for i ∈ eachindex(minimum_desired_reward_array)\n",
    "    \n",
    "    # update the problem object -\n",
    "    problem_risk.R = minimum_desired_reward_array[i];\n",
    "\n",
    "    try\n",
    "        solution = solve(problem_risk)\n",
    "\n",
    "        # check: did this converge?\n",
    "        status_flag = solution[\"status\"];    \n",
    "        if (status_flag == MathOptInterface.LOCALLY_SOLVED)\n",
    "            key = sqrt(solution[\"objective_value\"]);\n",
    "            value = solution[\"reward\"];\n",
    "            efficient_frontier[key] = value;\n",
    "        end\n",
    "    catch err\n",
    "        # Uncomment to see which R's failed ...\n",
    "        # println(\"Failed: desired R = $(problem_risk.R). Infeasible\");\n",
    "    end\n",
    "end\n",
    "efficient_frontier;"
   ]
  },
  {
   "cell_type": "markdown",
   "id": "60b0b348-5129-46cf-836f-7c407bfbc032",
   "metadata": {},
   "source": [
    "Let's now do the same thing for the single index model case, where we store the results in the `efficient_frontier_sim` dictionary:"
   ]
  },
  {
   "cell_type": "code",
   "execution_count": 56,
   "id": "ef9652f6-cd88-4036-8efd-ed0cc11132cb",
   "metadata": {
    "tags": []
   },
   "outputs": [],
   "source": [
    "efficient_frontier_sim = Dict{Float64,Float64}();\n",
    "for i ∈ eachindex(minimum_desired_reward_array)\n",
    "    \n",
    "    # update the problem object -\n",
    "    problem_risk_sim.R = minimum_desired_reward_array[i];\n",
    "\n",
    "    try\n",
    "        # compute -\n",
    "        solution_sim = solve(problem_risk_sim)\n",
    "\n",
    "        # check: did this converge?\n",
    "        status_flag = solution_sim[\"status\"];    \n",
    "        if (status_flag == MathOptInterface.LOCALLY_SOLVED)\n",
    "            key = sqrt(solution_sim[\"objective_value\"]);\n",
    "            value = solution_sim[\"reward\"];\n",
    "            efficient_frontier_sim[key] = value;\n",
    "        end\n",
    "    catch err\n",
    "        # Uncomment to see which R's failed ...\n",
    "        # println(\"Failed: desired R = $(problem_risk_sim.R). Infeasible\");\n",
    "    end\n",
    "end\n",
    "efficient_frontier_sim;"
   ]
  },
  {
   "cell_type": "markdown",
   "id": "97244c7f-c619-4c4d-8bbd-f70c3b2ae812",
   "metadata": {},
   "source": [
    "### TODO: Visualize the efficient frontiers for the data and single index model\n",
    "`Unhide` the code block below to see how we visualized the data-driven and single-index model efficient frontiers using [methods from the Plots.jl package](https://github.com/JuliaPlots/Plots.jl).\n",
    "* __Summary__: The return distributions predicted by the single-index model and the observed return distributions differ (see the previous module on single-index models to explore these differences). Thus, we expect the data-driven and single-index models to have different efficient frontiers. We observe that the single index model efficient frontier (red curve) is shifted to the left, i.e., the single index model predicts _less risk_ for the same reward. "
   ]
  },
  {
   "cell_type": "code",
   "execution_count": 58,
   "id": "40d141d1-3652-40c8-bdbb-0634053827af",
   "metadata": {
    "jupyter": {
     "source_hidden": true
    },
    "tags": []
   },
   "outputs": [
    {
     "data": {
      "image/png": "[encoded data removed]",
      "image/svg+xml": [
       "<?xml version=\"1.0\" encoding=\"utf-8\"?>\n",
       "<svg xmlns=\"http://www.w3.org/2000/svg\" xmlns:xlink=\"http://www.w3.org/1999/xlink\" width=\"600\" height=\"400\" viewBox=\"0 0 2400 1600\">\n",
       "<defs>\n",
       "  <clipPath id=\"clip010\">\n",
       "    <rect x=\"0\" y=\"0\" width=\"2400\" height=\"1600\"/>\n",
       "  </clipPath>\n",
       "</defs>\n",
       "<path clip-path=\"url(#clip010)\" d=\"M0 1600 L2400 1600 L2400 8.88178e-14 L0 8.88178e-14  Z\" fill=\"#ffffff\" fill-rule=\"evenodd\" fill-opacity=\"1\"/>\n",
       "<defs>\n",
       "  <clipPath id=\"clip011\">\n",
       "    <rect x=\"480\" y=\"0\" width=\"1681\" height=\"1600\"/>\n",
       "  </clipPath>\n",
       "</defs>\n",
       "<path clip-path=\"url(#clip010)\" d=\"M219.38 1423.18 L2352.76 1423.18 L2352.76 47.2441 L219.38 47.2441  Z\" fill=\"#f2f2f2\" fill-rule=\"evenodd\" fill-opacity=\"1\"/>\n",
       "<defs>\n",
       "  <clipPath id=\"clip012\">\n",
       "    <rect x=\"219\" y=\"47\" width=\"2134\" height=\"1377\"/>\n",
       "  </clipPath>\n",
       "</defs>\n",
       "<polyline clip-path=\"url(#clip012)\" style=\"stroke:#000000; stroke-linecap:round; stroke-linejoin:round; stroke-width:2; stroke-opacity:0.1; fill:none\" points=\"219.38,1423.18 219.38,47.2441 \"/>\n",
       "<polyline clip-path=\"url(#clip012)\" style=\"stroke:#000000; stroke-linecap:round; stroke-linejoin:round; stroke-width:2; stroke-opacity:0.1; fill:none\" points=\"649.102,1423.18 649.102,47.2441 \"/>\n",
       "<polyline clip-path=\"url(#clip012)\" style=\"stroke:#000000; stroke-linecap:round; stroke-linejoin:round; stroke-width:2; stroke-opacity:0.1; fill:none\" points=\"1078.82,1423.18 1078.82,47.2441 \"/>\n",
       "<polyline clip-path=\"url(#clip012)\" style=\"stroke:#000000; stroke-linecap:round; stroke-linejoin:round; stroke-width:2; stroke-opacity:0.1; fill:none\" points=\"1508.54,1423.18 1508.54,47.2441 \"/>\n",
       "<polyline clip-path=\"url(#clip012)\" style=\"stroke:#000000; stroke-linecap:round; stroke-linejoin:round; stroke-width:2; stroke-opacity:0.1; fill:none\" points=\"1938.27,1423.18 1938.27,47.2441 \"/>\n",
       "<polyline clip-path=\"url(#clip012)\" style=\"stroke:#000000; stroke-linecap:round; stroke-linejoin:round; stroke-width:2; stroke-opacity:0.1; fill:none\" points=\"219.38,1423.18 219.38,47.2441 \"/>\n",
       "<polyline clip-path=\"url(#clip012)\" style=\"stroke:#000000; stroke-linecap:round; stroke-linejoin:round; stroke-width:2; stroke-opacity:0.1; fill:none\" points=\"649.102,1423.18 649.102,47.2441 \"/>\n",
       "<polyline clip-path=\"url(#clip012)\" style=\"stroke:#000000; stroke-linecap:round; stroke-linejoin:round; stroke-width:2; stroke-opacity:0.1; fill:none\" points=\"1078.82,1423.18 1078.82,47.2441 \"/>\n",
       "<polyline clip-path=\"url(#clip012)\" style=\"stroke:#000000; stroke-linecap:round; stroke-linejoin:round; stroke-width:2; stroke-opacity:0.1; fill:none\" points=\"1508.54,1423.18 1508.54,47.2441 \"/>\n",
       "<polyline clip-path=\"url(#clip012)\" style=\"stroke:#000000; stroke-linecap:round; stroke-linejoin:round; stroke-width:2; stroke-opacity:0.1; fill:none\" points=\"1938.27,1423.18 1938.27,47.2441 \"/>\n",
       "<polyline clip-path=\"url(#clip012)\" style=\"stroke:#000000; stroke-linecap:round; stroke-linejoin:round; stroke-width:2; stroke-opacity:0.1; fill:none\" points=\"219.38,1384.24 2352.76,1384.24 \"/>\n",
       "<polyline clip-path=\"url(#clip012)\" style=\"stroke:#000000; stroke-linecap:round; stroke-linejoin:round; stroke-width:2; stroke-opacity:0.1; fill:none\" points=\"219.38,1040.43 2352.76,1040.43 \"/>\n",
       "<polyline clip-path=\"url(#clip012)\" style=\"stroke:#000000; stroke-linecap:round; stroke-linejoin:round; stroke-width:2; stroke-opacity:0.1; fill:none\" points=\"219.38,696.621 2352.76,696.621 \"/>\n",
       "<polyline clip-path=\"url(#clip012)\" style=\"stroke:#000000; stroke-linecap:round; stroke-linejoin:round; stroke-width:2; stroke-opacity:0.1; fill:none\" points=\"219.38,352.813 2352.76,352.813 \"/>\n",
       "<polyline clip-path=\"url(#clip012)\" style=\"stroke:#000000; stroke-linecap:round; stroke-linejoin:round; stroke-width:2; stroke-opacity:0.1; fill:none\" points=\"219.38,1384.24 2352.76,1384.24 \"/>\n",
       "<polyline clip-path=\"url(#clip012)\" style=\"stroke:#000000; stroke-linecap:round; stroke-linejoin:round; stroke-width:2; stroke-opacity:0.1; fill:none\" points=\"219.38,1040.43 2352.76,1040.43 \"/>\n",
       "<polyline clip-path=\"url(#clip012)\" style=\"stroke:#000000; stroke-linecap:round; stroke-linejoin:round; stroke-width:2; stroke-opacity:0.1; fill:none\" points=\"219.38,696.621 2352.76,696.621 \"/>\n",
       "<polyline clip-path=\"url(#clip012)\" style=\"stroke:#000000; stroke-linecap:round; stroke-linejoin:round; stroke-width:2; stroke-opacity:0.1; fill:none\" points=\"219.38,352.813 2352.76,352.813 \"/>\n",
       "<polyline clip-path=\"url(#clip010)\" style=\"stroke:#000000; stroke-linecap:round; stroke-linejoin:round; stroke-width:4; stroke-opacity:1; fill:none\" points=\"219.38,1423.18 2352.76,1423.18 \"/>\n",
       "<polyline clip-path=\"url(#clip010)\" style=\"stroke:#000000; stroke-linecap:round; stroke-linejoin:round; stroke-width:4; stroke-opacity:1; fill:none\" points=\"219.38,47.2441 2352.76,47.2441 \"/>\n",
       "<polyline clip-path=\"url(#clip010)\" style=\"stroke:#000000; stroke-linecap:round; stroke-linejoin:round; stroke-width:4; stroke-opacity:1; fill:none\" points=\"219.38,1423.18 219.38,1404.28 \"/>\n",
       "<polyline clip-path=\"url(#clip010)\" style=\"stroke:#000000; stroke-linecap:round; stroke-linejoin:round; stroke-width:4; stroke-opacity:1; fill:none\" points=\"649.102,1423.18 649.102,1404.28 \"/>\n",
       "<polyline clip-path=\"url(#clip010)\" style=\"stroke:#000000; stroke-linecap:round; stroke-linejoin:round; stroke-width:4; stroke-opacity:1; fill:none\" points=\"1078.82,1423.18 1078.82,1404.28 \"/>\n",
       "<polyline clip-path=\"url(#clip010)\" style=\"stroke:#000000; stroke-linecap:round; stroke-linejoin:round; stroke-width:4; stroke-opacity:1; fill:none\" points=\"1508.54,1423.18 1508.54,1404.28 \"/>\n",
       "<polyline clip-path=\"url(#clip010)\" style=\"stroke:#000000; stroke-linecap:round; stroke-linejoin:round; stroke-width:4; stroke-opacity:1; fill:none\" points=\"1938.27,1423.18 1938.27,1404.28 \"/>\n",
       "<polyline clip-path=\"url(#clip010)\" style=\"stroke:#000000; stroke-linecap:round; stroke-linejoin:round; stroke-width:4; stroke-opacity:1; fill:none\" points=\"219.38,47.2441 219.38,66.1417 \"/>\n",
       "<polyline clip-path=\"url(#clip010)\" style=\"stroke:#000000; stroke-linecap:round; stroke-linejoin:round; stroke-width:4; stroke-opacity:1; fill:none\" points=\"649.102,47.2441 649.102,66.1417 \"/>\n",
       "<polyline clip-path=\"url(#clip010)\" style=\"stroke:#000000; stroke-linecap:round; stroke-linejoin:round; stroke-width:4; stroke-opacity:1; fill:none\" points=\"1078.82,47.2441 1078.82,66.1417 \"/>\n",
       "<polyline clip-path=\"url(#clip010)\" style=\"stroke:#000000; stroke-linecap:round; stroke-linejoin:round; stroke-width:4; stroke-opacity:1; fill:none\" points=\"1508.54,47.2441 1508.54,66.1417 \"/>\n",
       "<polyline clip-path=\"url(#clip010)\" style=\"stroke:#000000; stroke-linecap:round; stroke-linejoin:round; stroke-width:4; stroke-opacity:1; fill:none\" points=\"1938.27,47.2441 1938.27,66.1417 \"/>\n",
       "<path clip-path=\"url(#clip010)\" d=\"M196.765 1454.1 Q193.153 1454.1 191.325 1457.66 Q189.519 1461.2 189.519 1468.33 Q189.519 1475.44 191.325 1479.01 Q193.153 1482.55 196.765 1482.55 Q200.399 1482.55 202.204 1479.01 Q204.033 1475.44 204.033 1468.33 Q204.033 1461.2 202.204 1457.66 Q200.399 1454.1 196.765 1454.1 M196.765 1450.39 Q202.575 1450.39 205.63 1455 Q208.709 1459.58 208.709 1468.33 Q208.709 1477.06 205.63 1481.67 Q202.575 1486.25 196.765 1486.25 Q190.954 1486.25 187.876 1481.67 Q184.82 1477.06 184.82 1468.33 Q184.82 1459.58 187.876 1455 Q190.954 1450.39 196.765 1450.39 Z\" fill=\"#000000\" fill-rule=\"nonzero\" fill-opacity=\"1\" /><path clip-path=\"url(#clip010)\" d=\"M216.926 1479.7 L221.811 1479.7 L221.811 1485.58 L216.926 1485.58 L216.926 1479.7 Z\" fill=\"#000000\" fill-rule=\"nonzero\" fill-opacity=\"1\" /><path clip-path=\"url(#clip010)\" d=\"M241.996 1454.1 Q238.385 1454.1 236.556 1457.66 Q234.75 1461.2 234.75 1468.33 Q234.75 1475.44 236.556 1479.01 Q238.385 1482.55 241.996 1482.55 Q245.63 1482.55 247.436 1479.01 Q249.264 1475.44 249.264 1468.33 Q249.264 1461.2 247.436 1457.66 Q245.63 1454.1 241.996 1454.1 M241.996 1450.39 Q247.806 1450.39 250.861 1455 Q253.94 1459.58 253.94 1468.33 Q253.94 1477.06 250.861 1481.67 Q247.806 1486.25 241.996 1486.25 Q236.186 1486.25 233.107 1481.67 Q230.051 1477.06 230.051 1468.33 Q230.051 1459.58 233.107 1455 Q236.186 1450.39 241.996 1450.39 Z\" fill=\"#000000\" fill-rule=\"nonzero\" fill-opacity=\"1\" /><path clip-path=\"url(#clip010)\" d=\"M627.099 1454.1 Q623.488 1454.1 621.66 1457.66 Q619.854 1461.2 619.854 1468.33 Q619.854 1475.44 621.66 1479.01 Q623.488 1482.55 627.099 1482.55 Q630.734 1482.55 632.539 1479.01 Q634.368 1475.44 634.368 1468.33 Q634.368 1461.2 632.539 1457.66 Q630.734 1454.1 627.099 1454.1 M627.099 1450.39 Q632.91 1450.39 635.965 1455 Q639.044 1459.58 639.044 1468.33 Q639.044 1477.06 635.965 1481.67 Q632.91 1486.25 627.099 1486.25 Q621.289 1486.25 618.211 1481.67 Q615.155 1477.06 615.155 1468.33 Q615.155 1459.58 618.211 1455 Q621.289 1450.39 627.099 1450.39 Z\" fill=\"#000000\" fill-rule=\"nonzero\" fill-opacity=\"1\" /><path clip-path=\"url(#clip010)\" d=\"M647.261 1479.7 L652.146 1479.7 L652.146 1485.58 L647.261 1485.58 L647.261 1479.7 Z\" fill=\"#000000\" fill-rule=\"nonzero\" fill-opacity=\"1\" /><path clip-path=\"url(#clip010)\" d=\"M663.141 1481.64 L670.78 1481.64 L670.78 1455.28 L662.47 1456.95 L662.47 1452.69 L670.733 1451.02 L675.409 1451.02 L675.409 1481.64 L683.048 1481.64 L683.048 1485.58 L663.141 1485.58 L663.141 1481.64 Z\" fill=\"#000000\" fill-rule=\"nonzero\" fill-opacity=\"1\" /><path clip-path=\"url(#clip010)\" d=\"M1057.01 1454.1 Q1053.4 1454.1 1051.57 1457.66 Q1049.76 1461.2 1049.76 1468.33 Q1049.76 1475.44 1051.57 1479.01 Q1053.4 1482.55 1057.01 1482.55 Q1060.64 1482.55 1062.45 1479.01 Q1064.27 1475.44 1064.27 1468.33 Q1064.27 1461.2 1062.45 1457.66 Q1060.64 1454.1 1057.01 1454.1 M1057.01 1450.39 Q1062.82 1450.39 1065.87 1455 Q1068.95 1459.58 1068.95 1468.33 Q1068.95 1477.06 1065.87 1481.67 Q1062.82 1486.25 1057.01 1486.25 Q1051.2 1486.25 1048.12 1481.67 Q1045.06 1477.06 1045.06 1468.33 Q1045.06 1459.58 1048.12 1455 Q1051.2 1450.39 1057.01 1450.39 Z\" fill=\"#000000\" fill-rule=\"nonzero\" fill-opacity=\"1\" /><path clip-path=\"url(#clip010)\" d=\"M1077.17 1479.7 L1082.05 1479.7 L1082.05 1485.58 L1077.17 1485.58 L1077.17 1479.7 Z\" fill=\"#000000\" fill-rule=\"nonzero\" fill-opacity=\"1\" /><path clip-path=\"url(#clip010)\" d=\"M1096.27 1481.64 L1112.58 1481.64 L1112.58 1485.58 L1090.64 1485.58 L1090.64 1481.64 Q1093.3 1478.89 1097.89 1474.26 Q1102.49 1469.61 1103.67 1468.27 Q1105.92 1465.74 1106.8 1464.01 Q1107.7 1462.25 1107.7 1460.56 Q1107.7 1457.8 1105.76 1456.07 Q1103.83 1454.33 1100.73 1454.33 Q1098.53 1454.33 1096.08 1455.09 Q1093.65 1455.86 1090.87 1457.41 L1090.87 1452.69 Q1093.7 1451.55 1096.15 1450.97 Q1098.6 1450.39 1100.64 1450.39 Q1106.01 1450.39 1109.2 1453.08 Q1112.4 1455.77 1112.4 1460.26 Q1112.4 1462.39 1111.59 1464.31 Q1110.8 1466.2 1108.7 1468.8 Q1108.12 1469.47 1105.02 1472.69 Q1101.91 1475.88 1096.27 1481.64 Z\" fill=\"#000000\" fill-rule=\"nonzero\" fill-opacity=\"1\" /><path clip-path=\"url(#clip010)\" d=\"M1486.25 1454.1 Q1482.64 1454.1 1480.81 1457.66 Q1479.01 1461.2 1479.01 1468.33 Q1479.01 1475.44 1480.81 1479.01 Q1482.64 1482.55 1486.25 1482.55 Q1489.89 1482.55 1491.69 1479.01 Q1493.52 1475.44 1493.52 1468.33 Q1493.52 1461.2 1491.69 1457.66 Q1489.89 1454.1 1486.25 1454.1 M1486.25 1450.39 Q1492.06 1450.39 1495.12 1455 Q1498.2 1459.58 1498.2 1468.33 Q1498.2 1477.06 1495.12 1481.67 Q1492.06 1486.25 1486.25 1486.25 Q1480.44 1486.25 1477.36 1481.67 Q1474.31 1477.06 1474.31 1468.33 Q1474.31 1459.58 1477.36 1455 Q1480.44 1450.39 1486.25 1450.39 Z\" fill=\"#000000\" fill-rule=\"nonzero\" fill-opacity=\"1\" /><path clip-path=\"url(#clip010)\" d=\"M1506.41 1479.7 L1511.3 1479.7 L1511.3 1485.58 L1506.41 1485.58 L1506.41 1479.7 Z\" fill=\"#000000\" fill-rule=\"nonzero\" fill-opacity=\"1\" /><path clip-path=\"url(#clip010)\" d=\"M1535.65 1466.95 Q1539.01 1467.66 1540.88 1469.93 Q1542.78 1472.2 1542.78 1475.53 Q1542.78 1480.65 1539.26 1483.45 Q1535.74 1486.25 1529.26 1486.25 Q1527.09 1486.25 1524.77 1485.81 Q1522.48 1485.39 1520.03 1484.54 L1520.03 1480.02 Q1521.97 1481.16 1524.29 1481.74 Q1526.6 1482.32 1529.12 1482.32 Q1533.52 1482.32 1535.81 1480.58 Q1538.13 1478.84 1538.13 1475.53 Q1538.13 1472.48 1535.98 1470.77 Q1533.85 1469.03 1530.03 1469.03 L1526 1469.03 L1526 1465.19 L1530.21 1465.19 Q1533.66 1465.19 1535.49 1463.82 Q1537.32 1462.43 1537.32 1459.84 Q1537.32 1457.18 1535.42 1455.77 Q1533.54 1454.33 1530.03 1454.33 Q1528.1 1454.33 1525.91 1454.75 Q1523.71 1455.16 1521.07 1456.04 L1521.07 1451.88 Q1523.73 1451.14 1526.04 1450.77 Q1528.38 1450.39 1530.44 1450.39 Q1535.77 1450.39 1538.87 1452.83 Q1541.97 1455.23 1541.97 1459.35 Q1541.97 1462.22 1540.33 1464.21 Q1538.68 1466.18 1535.65 1466.95 Z\" fill=\"#000000\" fill-rule=\"nonzero\" fill-opacity=\"1\" /><path clip-path=\"url(#clip010)\" d=\"M1915.41 1454.1 Q1911.8 1454.1 1909.97 1457.66 Q1908.16 1461.2 1908.16 1468.33 Q1908.16 1475.44 1909.97 1479.01 Q1911.8 1482.55 1915.41 1482.55 Q1919.04 1482.55 1920.85 1479.01 Q1922.68 1475.44 1922.68 1468.33 Q1922.68 1461.2 1920.85 1457.66 Q1919.04 1454.1 1915.41 1454.1 M1915.41 1450.39 Q1921.22 1450.39 1924.27 1455 Q1927.35 1459.58 1927.35 1468.33 Q1927.35 1477.06 1924.27 1481.67 Q1921.22 1486.25 1915.41 1486.25 Q1909.6 1486.25 1906.52 1481.67 Q1903.46 1477.06 1903.46 1468.33 Q1903.46 1459.58 1906.52 1455 Q1909.6 1450.39 1915.41 1450.39 Z\" fill=\"#000000\" fill-rule=\"nonzero\" fill-opacity=\"1\" /><path clip-path=\"url(#clip010)\" d=\"M1935.57 1479.7 L1940.45 1479.7 L1940.45 1485.58 L1935.57 1485.58 L1935.57 1479.7 Z\" fill=\"#000000\" fill-rule=\"nonzero\" fill-opacity=\"1\" /><path clip-path=\"url(#clip010)\" d=\"M1963.49 1455.09 L1951.68 1473.54 L1963.49 1473.54 L1963.49 1455.09 M1962.26 1451.02 L1968.14 1451.02 L1968.14 1473.54 L1973.07 1473.54 L1973.07 1477.43 L1968.14 1477.43 L1968.14 1485.58 L1963.49 1485.58 L1963.49 1477.43 L1947.88 1477.43 L1947.88 1472.92 L1962.26 1451.02 Z\" fill=\"#000000\" fill-rule=\"nonzero\" fill-opacity=\"1\" /><path clip-path=\"url(#clip010)\" d=\"M986.864 1525.81 L986.864 1543.66 L994.948 1543.66 Q999.436 1543.66 1001.89 1541.34 Q1004.34 1539.02 1004.34 1534.72 Q1004.34 1530.45 1001.89 1528.13 Q999.436 1525.81 994.948 1525.81 L986.864 1525.81 M980.435 1520.52 L994.948 1520.52 Q1002.94 1520.52 1007.01 1524.15 Q1011.12 1527.75 1011.12 1534.72 Q1011.12 1541.75 1007.01 1545.35 Q1002.94 1548.95 994.948 1548.95 L986.864 1548.95 L986.864 1568.04 L980.435 1568.04 L980.435 1520.52 Z\" fill=\"#000000\" fill-rule=\"nonzero\" fill-opacity=\"1\" /><path clip-path=\"url(#clip010)\" d=\"M1030.98 1536.5 Q1026.27 1536.5 1023.53 1540.19 Q1020.79 1543.85 1020.79 1550.25 Q1020.79 1556.65 1023.5 1560.34 Q1026.24 1564 1030.98 1564 Q1035.66 1564 1038.39 1560.31 Q1041.13 1556.62 1041.13 1550.25 Q1041.13 1543.92 1038.39 1540.23 Q1035.66 1536.5 1030.98 1536.5 M1030.98 1531.54 Q1038.62 1531.54 1042.98 1536.5 Q1047.34 1541.47 1047.34 1550.25 Q1047.34 1559 1042.98 1564 Q1038.62 1568.97 1030.98 1568.97 Q1023.31 1568.97 1018.95 1564 Q1014.62 1559 1014.62 1550.25 Q1014.62 1541.47 1018.95 1536.5 Q1023.31 1531.54 1030.98 1531.54 Z\" fill=\"#000000\" fill-rule=\"nonzero\" fill-opacity=\"1\" /><path clip-path=\"url(#clip010)\" d=\"M1077.7 1537.87 Q1076.72 1537.3 1075.54 1537.04 Q1074.39 1536.76 1072.99 1536.76 Q1068.03 1536.76 1065.35 1540 Q1062.71 1543.22 1062.71 1549.27 L1062.71 1568.04 L1056.82 1568.04 L1056.82 1532.4 L1062.71 1532.4 L1062.71 1537.93 Q1064.56 1534.69 1067.52 1533.13 Q1070.48 1531.54 1074.71 1531.54 Q1075.32 1531.54 1076.05 1531.63 Q1076.78 1531.7 1077.67 1531.85 L1077.7 1537.87 Z\" fill=\"#000000\" fill-rule=\"nonzero\" fill-opacity=\"1\" /><path clip-path=\"url(#clip010)\" d=\"M1089.64 1522.27 L1089.64 1532.4 L1101.7 1532.4 L1101.7 1536.95 L1089.64 1536.95 L1089.64 1556.3 Q1089.64 1560.66 1090.82 1561.9 Q1092.03 1563.14 1095.69 1563.14 L1101.7 1563.14 L1101.7 1568.04 L1095.69 1568.04 Q1088.91 1568.04 1086.33 1565.53 Q1083.75 1562.98 1083.75 1556.3 L1083.75 1536.95 L1079.45 1536.95 L1079.45 1532.4 L1083.75 1532.4 L1083.75 1522.27 L1089.64 1522.27 Z\" fill=\"#000000\" fill-rule=\"nonzero\" fill-opacity=\"1\" /><path clip-path=\"url(#clip010)\" d=\"M1127.45 1518.52 L1127.45 1523.39 L1121.85 1523.39 Q1118.7 1523.39 1117.46 1524.66 Q1116.25 1525.93 1116.25 1529.24 L1116.25 1532.4 L1125.89 1532.4 L1125.89 1536.95 L1116.25 1536.95 L1116.25 1568.04 L1110.36 1568.04 L1110.36 1536.95 L1104.76 1536.95 L1104.76 1532.4 L1110.36 1532.4 L1110.36 1529.91 Q1110.36 1523.96 1113.13 1521.26 Q1115.9 1518.52 1121.91 1518.52 L1127.45 1518.52 Z\" fill=\"#000000\" fill-rule=\"nonzero\" fill-opacity=\"1\" /><path clip-path=\"url(#clip010)\" d=\"M1146.17 1536.5 Q1141.46 1536.5 1138.72 1540.19 Q1135.98 1543.85 1135.98 1550.25 Q1135.98 1556.65 1138.69 1560.34 Q1141.42 1564 1146.17 1564 Q1150.84 1564 1153.58 1560.31 Q1156.32 1556.62 1156.32 1550.25 Q1156.32 1543.92 1153.58 1540.23 Q1150.84 1536.5 1146.17 1536.5 M1146.17 1531.54 Q1153.8 1531.54 1158.17 1536.5 Q1162.53 1541.47 1162.53 1550.25 Q1162.53 1559 1158.17 1564 Q1153.8 1568.97 1146.17 1568.97 Q1138.5 1568.97 1134.13 1564 Q1129.81 1559 1129.81 1550.25 Q1129.81 1541.47 1134.13 1536.5 Q1138.5 1531.54 1146.17 1531.54 Z\" fill=\"#000000\" fill-rule=\"nonzero\" fill-opacity=\"1\" /><path clip-path=\"url(#clip010)\" d=\"M1172.23 1518.52 L1178.09 1518.52 L1178.09 1568.04 L1172.23 1568.04 L1172.23 1518.52 Z\" fill=\"#000000\" fill-rule=\"nonzero\" fill-opacity=\"1\" /><path clip-path=\"url(#clip010)\" d=\"M1190.34 1532.4 L1196.2 1532.4 L1196.2 1568.04 L1190.34 1568.04 L1190.34 1532.4 M1190.34 1518.52 L1196.2 1518.52 L1196.2 1525.93 L1190.34 1525.93 L1190.34 1518.52 Z\" fill=\"#000000\" fill-rule=\"nonzero\" fill-opacity=\"1\" /><path clip-path=\"url(#clip010)\" d=\"M1222.27 1536.5 Q1217.56 1536.5 1214.82 1540.19 Q1212.08 1543.85 1212.08 1550.25 Q1212.08 1556.65 1214.79 1560.34 Q1217.53 1564 1222.27 1564 Q1226.95 1564 1229.68 1560.31 Q1232.42 1556.62 1232.42 1550.25 Q1232.42 1543.92 1229.68 1540.23 Q1226.95 1536.5 1222.27 1536.5 M1222.27 1531.54 Q1229.91 1531.54 1234.27 1536.5 Q1238.63 1541.47 1238.63 1550.25 Q1238.63 1559 1234.27 1564 Q1229.91 1568.97 1222.27 1568.97 Q1214.6 1568.97 1210.24 1564 Q1205.91 1559 1205.91 1550.25 Q1205.91 1541.47 1210.24 1536.5 Q1214.6 1531.54 1222.27 1531.54 Z\" fill=\"#000000\" fill-rule=\"nonzero\" fill-opacity=\"1\" /><path clip-path=\"url(#clip010)\" d=\"M1291.84 1545.76 Q1293.91 1546.46 1295.86 1548.76 Q1297.83 1551.05 1299.8 1555.06 L1306.33 1568.04 L1299.42 1568.04 L1293.34 1555.85 Q1290.99 1551.08 1288.76 1549.52 Q1286.56 1547.96 1282.74 1547.96 L1275.74 1547.96 L1275.74 1568.04 L1269.31 1568.04 L1269.31 1520.52 L1283.82 1520.52 Q1291.97 1520.52 1295.98 1523.93 Q1299.99 1527.34 1299.99 1534.21 Q1299.99 1538.7 1297.89 1541.66 Q1295.82 1544.62 1291.84 1545.76 M1275.74 1525.81 L1275.74 1542.68 L1283.82 1542.68 Q1288.47 1542.68 1290.83 1540.54 Q1293.21 1538.38 1293.21 1534.21 Q1293.21 1530.04 1290.83 1527.94 Q1288.47 1525.81 1283.82 1525.81 L1275.74 1525.81 Z\" fill=\"#000000\" fill-rule=\"nonzero\" fill-opacity=\"1\" /><path clip-path=\"url(#clip010)\" d=\"M1314.35 1532.4 L1320.2 1532.4 L1320.2 1568.04 L1314.35 1568.04 L1314.35 1532.4 M1314.35 1518.52 L1320.2 1518.52 L1320.2 1525.93 L1314.35 1525.93 L1314.35 1518.52 Z\" fill=\"#000000\" fill-rule=\"nonzero\" fill-opacity=\"1\" /><path clip-path=\"url(#clip010)\" d=\"M1355.18 1533.45 L1355.18 1538.98 Q1352.7 1537.71 1350.03 1537.07 Q1347.35 1536.44 1344.49 1536.44 Q1340.13 1536.44 1337.93 1537.77 Q1335.77 1539.11 1335.77 1541.79 Q1335.77 1543.82 1337.33 1545 Q1338.89 1546.15 1343.6 1547.2 L1345.6 1547.64 Q1351.84 1548.98 1354.45 1551.43 Q1357.09 1553.85 1357.09 1558.21 Q1357.09 1563.17 1353.15 1566.07 Q1349.23 1568.97 1342.36 1568.97 Q1339.49 1568.97 1336.37 1568.39 Q1333.29 1567.85 1329.85 1566.74 L1329.85 1560.69 Q1333.09 1562.38 1336.25 1563.24 Q1339.4 1564.07 1342.48 1564.07 Q1346.62 1564.07 1348.85 1562.66 Q1351.08 1561.23 1351.08 1558.65 Q1351.08 1556.27 1349.45 1554.99 Q1347.86 1553.72 1342.42 1552.54 L1340.38 1552.07 Q1334.94 1550.92 1332.52 1548.56 Q1330.1 1546.18 1330.1 1542.04 Q1330.1 1537.01 1333.67 1534.27 Q1337.23 1531.54 1343.79 1531.54 Q1347.04 1531.54 1349.9 1532.01 Q1352.76 1532.49 1355.18 1533.45 Z\" fill=\"#000000\" fill-rule=\"nonzero\" fill-opacity=\"1\" /><path clip-path=\"url(#clip010)\" d=\"M1366.2 1518.52 L1372.08 1518.52 L1372.08 1547.77 L1389.56 1532.4 L1397.04 1532.4 L1378.13 1549.07 L1397.83 1568.04 L1390.2 1568.04 L1372.08 1550.63 L1372.08 1568.04 L1366.2 1568.04 L1366.2 1518.52 Z\" fill=\"#000000\" fill-rule=\"nonzero\" fill-opacity=\"1\" /><path clip-path=\"url(#clip010)\" d=\"M1438.96 1518.58 Q1434.69 1525.9 1432.62 1533.06 Q1430.55 1540.23 1430.55 1547.58 Q1430.55 1554.93 1432.62 1562.16 Q1434.72 1569.35 1438.96 1576.64 L1433.86 1576.64 Q1429.09 1569.16 1426.7 1561.93 Q1424.35 1554.71 1424.35 1547.58 Q1424.35 1540.48 1426.7 1533.29 Q1429.06 1526.09 1433.86 1518.58 L1438.96 1518.58 Z\" fill=\"#000000\" fill-rule=\"nonzero\" fill-opacity=\"1\" /><path clip-path=\"url(#clip010)\" d=\"M1473.04 1533.45 L1473.04 1538.98 Q1470.56 1537.71 1467.89 1537.07 Q1465.21 1536.44 1462.35 1536.44 Q1457.99 1536.44 1455.79 1537.77 Q1453.63 1539.11 1453.63 1541.79 Q1453.63 1543.82 1455.19 1545 Q1456.75 1546.15 1461.46 1547.2 L1463.46 1547.64 Q1469.7 1548.98 1472.31 1551.43 Q1474.95 1553.85 1474.95 1558.21 Q1474.95 1563.17 1471.01 1566.07 Q1467.09 1568.97 1460.22 1568.97 Q1457.35 1568.97 1454.23 1568.39 Q1451.15 1567.85 1447.71 1566.74 L1447.71 1560.69 Q1450.96 1562.38 1454.11 1563.24 Q1457.26 1564.07 1460.35 1564.07 Q1464.48 1564.07 1466.71 1562.66 Q1468.94 1561.23 1468.94 1558.65 Q1468.94 1556.27 1467.32 1554.99 Q1465.72 1553.72 1460.28 1552.54 L1458.24 1552.07 Q1452.8 1550.92 1450.38 1548.56 Q1447.96 1546.18 1447.96 1542.04 Q1447.96 1537.01 1451.53 1534.27 Q1455.09 1531.54 1461.65 1531.54 Q1464.9 1531.54 1467.76 1532.01 Q1470.63 1532.49 1473.04 1533.45 Z\" fill=\"#000000\" fill-rule=\"nonzero\" fill-opacity=\"1\" /><path clip-path=\"url(#clip010)\" d=\"M1487.78 1550.25 Q1487.78 1556.71 1490.42 1560.4 Q1493.1 1564.07 1497.74 1564.07 Q1502.39 1564.07 1505.06 1560.4 Q1507.74 1556.71 1507.74 1550.25 Q1507.74 1543.79 1505.06 1540.13 Q1502.39 1536.44 1497.74 1536.44 Q1493.1 1536.44 1490.42 1540.13 Q1487.78 1543.79 1487.78 1550.25 M1507.74 1562.7 Q1505.89 1565.88 1503.06 1567.44 Q1500.26 1568.97 1496.31 1568.97 Q1489.85 1568.97 1485.78 1563.81 Q1481.73 1558.65 1481.73 1550.25 Q1481.73 1541.85 1485.78 1536.69 Q1489.85 1531.54 1496.31 1531.54 Q1500.26 1531.54 1503.06 1533.1 Q1505.89 1534.62 1507.74 1537.81 L1507.74 1532.4 L1513.59 1532.4 L1513.59 1581.6 L1507.74 1581.6 L1507.74 1562.7 Z\" fill=\"#000000\" fill-rule=\"nonzero\" fill-opacity=\"1\" /><path clip-path=\"url(#clip010)\" d=\"M1546.31 1537.87 Q1545.33 1537.3 1544.15 1537.04 Q1543 1536.76 1541.6 1536.76 Q1536.64 1536.76 1533.96 1540 Q1531.32 1543.22 1531.32 1549.27 L1531.32 1568.04 L1525.43 1568.04 L1525.43 1532.4 L1531.32 1532.4 L1531.32 1537.93 Q1533.17 1534.69 1536.13 1533.13 Q1539.09 1531.54 1543.32 1531.54 Q1543.93 1531.54 1544.66 1531.63 Q1545.39 1531.7 1546.28 1531.85 L1546.31 1537.87 Z\" fill=\"#000000\" fill-rule=\"nonzero\" fill-opacity=\"1\" /><path clip-path=\"url(#clip010)\" d=\"M1558.25 1522.27 L1558.25 1532.4 L1570.31 1532.4 L1570.31 1536.95 L1558.25 1536.95 L1558.25 1556.3 Q1558.25 1560.66 1559.43 1561.9 Q1560.64 1563.14 1564.3 1563.14 L1570.31 1563.14 L1570.31 1568.04 L1564.3 1568.04 Q1557.52 1568.04 1554.94 1565.53 Q1552.36 1562.98 1552.36 1556.3 L1552.36 1536.95 L1548.06 1536.95 L1548.06 1532.4 L1552.36 1532.4 L1552.36 1522.27 L1558.25 1522.27 Z\" fill=\"#000000\" fill-rule=\"nonzero\" fill-opacity=\"1\" /><path clip-path=\"url(#clip010)\" d=\"M1577.09 1518.58 L1582.18 1518.58 Q1586.96 1526.09 1589.31 1533.29 Q1591.7 1540.48 1591.7 1547.58 Q1591.7 1554.71 1589.31 1561.93 Q1586.96 1569.16 1582.18 1576.64 L1577.09 1576.64 Q1581.33 1569.35 1583.39 1562.16 Q1585.49 1554.93 1585.49 1547.58 Q1585.49 1540.23 1583.39 1533.06 Q1581.33 1525.9 1577.09 1518.58 Z\" fill=\"#000000\" fill-rule=\"nonzero\" fill-opacity=\"1\" /><polyline clip-path=\"url(#clip010)\" style=\"stroke:#000000; stroke-linecap:round; stroke-linejoin:round; stroke-width:4; stroke-opacity:1; fill:none\" points=\"219.38,1423.18 219.38,47.2441 \"/>\n",
       "<polyline clip-path=\"url(#clip010)\" style=\"stroke:#000000; stroke-linecap:round; stroke-linejoin:round; stroke-width:4; stroke-opacity:1; fill:none\" points=\"2352.76,1423.18 2352.76,47.2441 \"/>\n",
       "<polyline clip-path=\"url(#clip010)\" style=\"stroke:#000000; stroke-linecap:round; stroke-linejoin:round; stroke-width:4; stroke-opacity:1; fill:none\" points=\"219.38,1384.24 238.278,1384.24 \"/>\n",
       "<polyline clip-path=\"url(#clip010)\" style=\"stroke:#000000; stroke-linecap:round; stroke-linejoin:round; stroke-width:4; stroke-opacity:1; fill:none\" points=\"219.38,1040.43 238.278,1040.43 \"/>\n",
       "<polyline clip-path=\"url(#clip010)\" style=\"stroke:#000000; stroke-linecap:round; stroke-linejoin:round; stroke-width:4; stroke-opacity:1; fill:none\" points=\"219.38,696.621 238.278,696.621 \"/>\n",
       "<polyline clip-path=\"url(#clip010)\" style=\"stroke:#000000; stroke-linecap:round; stroke-linejoin:round; stroke-width:4; stroke-opacity:1; fill:none\" points=\"219.38,352.813 238.278,352.813 \"/>\n",
       "<polyline clip-path=\"url(#clip010)\" style=\"stroke:#000000; stroke-linecap:round; stroke-linejoin:round; stroke-width:4; stroke-opacity:1; fill:none\" points=\"2352.76,1384.24 2333.86,1384.24 \"/>\n",
       "<polyline clip-path=\"url(#clip010)\" style=\"stroke:#000000; stroke-linecap:round; stroke-linejoin:round; stroke-width:4; stroke-opacity:1; fill:none\" points=\"2352.76,1040.43 2333.86,1040.43 \"/>\n",
       "<polyline clip-path=\"url(#clip010)\" style=\"stroke:#000000; stroke-linecap:round; stroke-linejoin:round; stroke-width:4; stroke-opacity:1; fill:none\" points=\"2352.76,696.621 2333.86,696.621 \"/>\n",
       "<polyline clip-path=\"url(#clip010)\" style=\"stroke:#000000; stroke-linecap:round; stroke-linejoin:round; stroke-width:4; stroke-opacity:1; fill:none\" points=\"2352.76,352.813 2333.86,352.813 \"/>\n",
       "<path clip-path=\"url(#clip010)\" d=\"M126.205 1370.04 Q122.593 1370.04 120.765 1373.6 Q118.959 1377.14 118.959 1384.27 Q118.959 1391.38 120.765 1394.94 Q122.593 1398.49 126.205 1398.49 Q129.839 1398.49 131.644 1394.94 Q133.473 1391.38 133.473 1384.27 Q133.473 1377.14 131.644 1373.6 Q129.839 1370.04 126.205 1370.04 M126.205 1366.33 Q132.015 1366.33 135.07 1370.94 Q138.149 1375.52 138.149 1384.27 Q138.149 1393 135.07 1397.61 Q132.015 1402.19 126.205 1402.19 Q120.394 1402.19 117.316 1397.61 Q114.26 1393 114.26 1384.27 Q114.26 1375.52 117.316 1370.94 Q120.394 1366.33 126.205 1366.33 Z\" fill=\"#000000\" fill-rule=\"nonzero\" fill-opacity=\"1\" /><path clip-path=\"url(#clip010)\" d=\"M146.366 1395.64 L151.251 1395.64 L151.251 1401.52 L146.366 1401.52 L146.366 1395.64 Z\" fill=\"#000000\" fill-rule=\"nonzero\" fill-opacity=\"1\" /><path clip-path=\"url(#clip010)\" d=\"M171.436 1370.04 Q167.825 1370.04 165.996 1373.6 Q164.19 1377.14 164.19 1384.27 Q164.19 1391.38 165.996 1394.94 Q167.825 1398.49 171.436 1398.49 Q175.07 1398.49 176.876 1394.94 Q178.704 1391.38 178.704 1384.27 Q178.704 1377.14 176.876 1373.6 Q175.07 1370.04 171.436 1370.04 M171.436 1366.33 Q177.246 1366.33 180.301 1370.94 Q183.38 1375.52 183.38 1384.27 Q183.38 1393 180.301 1397.61 Q177.246 1402.19 171.436 1402.19 Q165.626 1402.19 162.547 1397.61 Q159.491 1393 159.491 1384.27 Q159.491 1375.52 162.547 1370.94 Q165.626 1366.33 171.436 1366.33 Z\" fill=\"#000000\" fill-rule=\"nonzero\" fill-opacity=\"1\" /><path clip-path=\"url(#clip010)\" d=\"M127.431 1026.23 Q123.82 1026.23 121.992 1029.79 Q120.186 1033.33 120.186 1040.46 Q120.186 1047.57 121.992 1051.14 Q123.82 1054.68 127.431 1054.68 Q131.066 1054.68 132.871 1051.14 Q134.7 1047.57 134.7 1040.46 Q134.7 1033.33 132.871 1029.79 Q131.066 1026.23 127.431 1026.23 M127.431 1022.52 Q133.242 1022.52 136.297 1027.13 Q139.376 1031.71 139.376 1040.46 Q139.376 1049.19 136.297 1053.8 Q133.242 1058.38 127.431 1058.38 Q121.621 1058.38 118.543 1053.8 Q115.487 1049.19 115.487 1040.46 Q115.487 1031.71 118.543 1027.13 Q121.621 1022.52 127.431 1022.52 Z\" fill=\"#000000\" fill-rule=\"nonzero\" fill-opacity=\"1\" /><path clip-path=\"url(#clip010)\" d=\"M147.593 1051.83 L152.478 1051.83 L152.478 1057.71 L147.593 1057.71 L147.593 1051.83 Z\" fill=\"#000000\" fill-rule=\"nonzero\" fill-opacity=\"1\" /><path clip-path=\"url(#clip010)\" d=\"M163.473 1053.77 L171.112 1053.77 L171.112 1027.41 L162.802 1029.08 L162.802 1024.82 L171.065 1023.15 L175.741 1023.15 L175.741 1053.77 L183.38 1053.77 L183.38 1057.71 L163.473 1057.71 L163.473 1053.77 Z\" fill=\"#000000\" fill-rule=\"nonzero\" fill-opacity=\"1\" /><path clip-path=\"url(#clip010)\" d=\"M127.802 682.42 Q124.191 682.42 122.362 685.985 Q120.556 689.526 120.556 696.656 Q120.556 703.762 122.362 707.327 Q124.191 710.869 127.802 710.869 Q131.436 710.869 133.242 707.327 Q135.07 703.762 135.07 696.656 Q135.07 689.526 133.242 685.985 Q131.436 682.42 127.802 682.42 M127.802 678.716 Q133.612 678.716 136.667 683.323 Q139.746 687.906 139.746 696.656 Q139.746 705.383 136.667 709.989 Q133.612 714.572 127.802 714.572 Q121.992 714.572 118.913 709.989 Q115.857 705.383 115.857 696.656 Q115.857 687.906 118.913 683.323 Q121.992 678.716 127.802 678.716 Z\" fill=\"#000000\" fill-rule=\"nonzero\" fill-opacity=\"1\" /><path clip-path=\"url(#clip010)\" d=\"M147.964 708.022 L152.848 708.022 L152.848 713.901 L147.964 713.901 L147.964 708.022 Z\" fill=\"#000000\" fill-rule=\"nonzero\" fill-opacity=\"1\" /><path clip-path=\"url(#clip010)\" d=\"M167.061 709.966 L183.38 709.966 L183.38 713.901 L161.436 713.901 L161.436 709.966 Q164.098 707.211 168.681 702.582 Q173.288 697.929 174.468 696.586 Q176.714 694.063 177.593 692.327 Q178.496 690.568 178.496 688.878 Q178.496 686.124 176.551 684.387 Q174.63 682.651 171.528 682.651 Q169.329 682.651 166.876 683.415 Q164.445 684.179 161.667 685.73 L161.667 681.008 Q164.491 679.874 166.945 679.295 Q169.399 678.716 171.436 678.716 Q176.806 678.716 180.001 681.401 Q183.195 684.087 183.195 688.577 Q183.195 690.707 182.385 692.628 Q181.598 694.526 179.491 697.119 Q178.913 697.79 175.811 701.008 Q172.709 704.202 167.061 709.966 Z\" fill=\"#000000\" fill-rule=\"nonzero\" fill-opacity=\"1\" /><path clip-path=\"url(#clip010)\" d=\"M126.853 338.611 Q123.242 338.611 121.413 342.176 Q119.607 345.718 119.607 352.847 Q119.607 359.954 121.413 363.519 Q123.242 367.06 126.853 367.06 Q130.487 367.06 132.292 363.519 Q134.121 359.954 134.121 352.847 Q134.121 345.718 132.292 342.176 Q130.487 338.611 126.853 338.611 M126.853 334.908 Q132.663 334.908 135.718 339.514 Q138.797 344.097 138.797 352.847 Q138.797 361.574 135.718 366.181 Q132.663 370.764 126.853 370.764 Q121.043 370.764 117.964 366.181 Q114.908 361.574 114.908 352.847 Q114.908 344.097 117.964 339.514 Q121.043 334.908 126.853 334.908 Z\" fill=\"#000000\" fill-rule=\"nonzero\" fill-opacity=\"1\" /><path clip-path=\"url(#clip010)\" d=\"M147.015 364.213 L151.899 364.213 L151.899 370.093 L147.015 370.093 L147.015 364.213 Z\" fill=\"#000000\" fill-rule=\"nonzero\" fill-opacity=\"1\" /><path clip-path=\"url(#clip010)\" d=\"M176.251 351.459 Q179.607 352.176 181.482 354.445 Q183.38 356.713 183.38 360.046 Q183.38 365.162 179.862 367.963 Q176.343 370.764 169.862 370.764 Q167.686 370.764 165.371 370.324 Q163.079 369.907 160.626 369.051 L160.626 364.537 Q162.57 365.671 164.885 366.25 Q167.2 366.829 169.723 366.829 Q174.121 366.829 176.413 365.093 Q178.727 363.357 178.727 360.046 Q178.727 356.991 176.575 355.278 Q174.445 353.542 170.626 353.542 L166.598 353.542 L166.598 349.699 L170.811 349.699 Q174.26 349.699 176.089 348.334 Q177.917 346.945 177.917 344.352 Q177.917 341.69 176.019 340.278 Q174.144 338.843 170.626 338.843 Q168.704 338.843 166.505 339.259 Q164.306 339.676 161.667 340.556 L161.667 336.389 Q164.329 335.648 166.644 335.278 Q168.982 334.908 171.042 334.908 Q176.366 334.908 179.468 337.338 Q182.57 339.746 182.57 343.866 Q182.57 346.736 180.926 348.727 Q179.283 350.695 176.251 351.459 Z\" fill=\"#000000\" fill-rule=\"nonzero\" fill-opacity=\"1\" /><path clip-path=\"url(#clip010)\" d=\"M21.7677 1277.87 L39.6235 1277.87 L39.6235 1269.79 Q39.6235 1265.3 37.3 1262.85 Q34.9765 1260.4 30.6797 1260.4 Q26.4147 1260.4 24.0912 1262.85 Q21.7677 1265.3 21.7677 1269.79 L21.7677 1277.87 M16.4842 1284.3 L16.4842 1269.79 Q16.4842 1261.8 20.1126 1257.73 Q23.7092 1253.62 30.6797 1253.62 Q37.7138 1253.62 41.3104 1257.73 Q44.907 1261.8 44.907 1269.79 L44.907 1277.87 L64.0042 1277.87 L64.0042 1284.3 L16.4842 1284.3 Z\" fill=\"#000000\" fill-rule=\"nonzero\" fill-opacity=\"1\" /><path clip-path=\"url(#clip010)\" d=\"M32.4621 1233.76 Q32.4621 1238.47 36.1542 1241.21 Q39.8145 1243.94 46.212 1243.94 Q52.6095 1243.94 56.3017 1241.24 Q59.9619 1238.5 59.9619 1233.76 Q59.9619 1229.08 56.2698 1226.34 Q52.5777 1223.6 46.212 1223.6 Q39.8781 1223.6 36.186 1226.34 Q32.4621 1229.08 32.4621 1233.76 M27.4968 1233.76 Q27.4968 1226.12 32.4621 1221.76 Q37.4273 1217.4 46.212 1217.4 Q54.9649 1217.4 59.9619 1221.76 Q64.9272 1226.12 64.9272 1233.76 Q64.9272 1241.43 59.9619 1245.79 Q54.9649 1250.12 46.212 1250.12 Q37.4273 1250.12 32.4621 1245.79 Q27.4968 1241.43 27.4968 1233.76 Z\" fill=\"#000000\" fill-rule=\"nonzero\" fill-opacity=\"1\" /><path clip-path=\"url(#clip010)\" d=\"M33.8307 1187.03 Q33.2578 1188.02 33.0032 1189.2 Q32.7167 1190.34 32.7167 1191.74 Q32.7167 1196.71 35.9632 1199.38 Q39.1779 1202.03 45.2253 1202.03 L64.0042 1202.03 L64.0042 1207.91 L28.3562 1207.91 L28.3562 1202.03 L33.8944 1202.03 Q30.6479 1200.18 29.0883 1197.22 Q27.4968 1194.26 27.4968 1190.03 Q27.4968 1189.42 27.5923 1188.69 Q27.656 1187.96 27.8151 1187.07 L33.8307 1187.03 Z\" fill=\"#000000\" fill-rule=\"nonzero\" fill-opacity=\"1\" /><path clip-path=\"url(#clip010)\" d=\"M18.2347 1175.1 L28.3562 1175.1 L28.3562 1163.04 L32.9077 1163.04 L32.9077 1175.1 L52.2594 1175.1 Q56.6199 1175.1 57.8613 1173.92 Q59.1026 1172.71 59.1026 1169.05 L59.1026 1163.04 L64.0042 1163.04 L64.0042 1169.05 Q64.0042 1175.83 61.4897 1178.41 Q58.9434 1180.99 52.2594 1180.99 L32.9077 1180.99 L32.9077 1185.28 L28.3562 1185.28 L28.3562 1180.99 L18.2347 1180.99 L18.2347 1175.1 Z\" fill=\"#000000\" fill-rule=\"nonzero\" fill-opacity=\"1\" /><path clip-path=\"url(#clip010)\" d=\"M14.479 1137.29 L19.3487 1137.29 L19.3487 1142.89 Q19.3487 1146.04 20.6219 1147.28 Q21.895 1148.49 25.2052 1148.49 L28.3562 1148.49 L28.3562 1138.85 L32.9077 1138.85 L32.9077 1148.49 L64.0042 1148.49 L64.0042 1154.38 L32.9077 1154.38 L32.9077 1159.98 L28.3562 1159.98 L28.3562 1154.38 L25.8736 1154.38 Q19.9216 1154.38 17.2162 1151.61 Q14.479 1148.84 14.479 1142.82 L14.479 1137.29 Z\" fill=\"#000000\" fill-rule=\"nonzero\" fill-opacity=\"1\" /><path clip-path=\"url(#clip010)\" d=\"M32.4621 1118.57 Q32.4621 1123.28 36.1542 1126.02 Q39.8145 1128.76 46.212 1128.76 Q52.6095 1128.76 56.3017 1126.05 Q59.9619 1123.31 59.9619 1118.57 Q59.9619 1113.89 56.2698 1111.15 Q52.5777 1108.42 46.212 1108.42 Q39.8781 1108.42 36.186 1111.15 Q32.4621 1113.89 32.4621 1118.57 M27.4968 1118.57 Q27.4968 1110.93 32.4621 1106.57 Q37.4273 1102.21 46.212 1102.21 Q54.9649 1102.21 59.9619 1106.57 Q64.9272 1110.93 64.9272 1118.57 Q64.9272 1126.24 59.9619 1130.6 Q54.9649 1134.93 46.212 1134.93 Q37.4273 1134.93 32.4621 1130.6 Q27.4968 1126.24 27.4968 1118.57 Z\" fill=\"#000000\" fill-rule=\"nonzero\" fill-opacity=\"1\" /><path clip-path=\"url(#clip010)\" d=\"M14.479 1092.5 L14.479 1086.65 L64.0042 1086.65 L64.0042 1092.5 L14.479 1092.5 Z\" fill=\"#000000\" fill-rule=\"nonzero\" fill-opacity=\"1\" /><path clip-path=\"url(#clip010)\" d=\"M28.3562 1074.39 L28.3562 1068.54 L64.0042 1068.54 L64.0042 1074.39 L28.3562 1074.39 M14.479 1074.39 L14.479 1068.54 L21.895 1068.54 L21.895 1074.39 L14.479 1074.39 Z\" fill=\"#000000\" fill-rule=\"nonzero\" fill-opacity=\"1\" /><path clip-path=\"url(#clip010)\" d=\"M32.4621 1042.47 Q32.4621 1047.18 36.1542 1049.92 Q39.8145 1052.65 46.212 1052.65 Q52.6095 1052.65 56.3017 1049.95 Q59.9619 1047.21 59.9619 1042.47 Q59.9619 1037.79 56.2698 1035.05 Q52.5777 1032.32 46.212 1032.32 Q39.8781 1032.32 36.186 1035.05 Q32.4621 1037.79 32.4621 1042.47 M27.4968 1042.47 Q27.4968 1034.83 32.4621 1030.47 Q37.4273 1026.11 46.212 1026.11 Q54.9649 1026.11 59.9619 1030.47 Q64.9272 1034.83 64.9272 1042.47 Q64.9272 1050.14 59.9619 1054.5 Q54.9649 1058.83 46.212 1058.83 Q37.4273 1058.83 32.4621 1054.5 Q27.4968 1050.14 27.4968 1042.47 Z\" fill=\"#000000\" fill-rule=\"nonzero\" fill-opacity=\"1\" /><path clip-path=\"url(#clip010)\" d=\"M44.7161 965.189 L47.5806 965.189 L47.5806 992.116 Q53.6281 991.734 56.8109 988.488 Q59.9619 985.209 59.9619 979.385 Q59.9619 976.011 59.1344 972.86 Q58.3069 969.677 56.6518 966.558 L62.1899 966.558 Q63.5267 969.709 64.227 973.019 Q64.9272 976.329 64.9272 979.735 Q64.9272 988.265 59.9619 993.262 Q54.9967 998.227 46.5303 998.227 Q37.7774 998.227 32.6531 993.516 Q27.4968 988.774 27.4968 980.753 Q27.4968 973.56 32.1438 969.39 Q36.7589 965.189 44.7161 965.189 M42.9973 971.045 Q38.1912 971.109 35.3266 973.751 Q32.4621 976.361 32.4621 980.69 Q32.4621 985.591 35.2312 988.551 Q38.0002 991.479 43.0292 991.925 L42.9973 971.045 Z\" fill=\"#000000\" fill-rule=\"nonzero\" fill-opacity=\"1\" /><path clip-path=\"url(#clip010)\" d=\"M28.3562 927.09 L45.7028 939.981 L64.0042 926.422 L64.0042 933.329 L49.9996 943.705 L64.0042 954.081 L64.0042 960.988 L45.3526 947.142 L28.3562 959.81 L28.3562 952.903 L41.0558 943.45 L28.3562 933.997 L28.3562 927.09 Z\" fill=\"#000000\" fill-rule=\"nonzero\" fill-opacity=\"1\" /><path clip-path=\"url(#clip010)\" d=\"M29.7248 893.638 L35.1993 893.638 Q33.8307 896.121 33.1623 898.636 Q32.4621 901.118 32.4621 903.664 Q32.4621 909.362 36.0905 912.513 Q39.6872 915.664 46.212 915.664 Q52.7369 915.664 56.3653 912.513 Q59.9619 909.362 59.9619 903.664 Q59.9619 901.118 59.2935 898.636 Q58.5933 896.121 57.2247 893.638 L62.6355 893.638 Q63.7814 896.089 64.3543 898.731 Q64.9272 901.341 64.9272 904.301 Q64.9272 912.354 59.8664 917.096 Q54.8057 921.839 46.212 921.839 Q37.491 921.839 32.4939 917.064 Q27.4968 912.258 27.4968 903.919 Q27.4968 901.214 28.0697 898.636 Q28.6108 896.057 29.7248 893.638 Z\" fill=\"#000000\" fill-rule=\"nonzero\" fill-opacity=\"1\" /><path clip-path=\"url(#clip010)\" d=\"M44.7161 852.962 L47.5806 852.962 L47.5806 879.889 Q53.6281 879.507 56.8109 876.26 Q59.9619 872.982 59.9619 867.157 Q59.9619 863.783 59.1344 860.632 Q58.3069 857.449 56.6518 854.33 L62.1899 854.33 Q63.5267 857.481 64.227 860.791 Q64.9272 864.102 64.9272 867.507 Q64.9272 876.037 59.9619 881.034 Q54.9967 886 46.5303 886 Q37.7774 886 32.6531 881.289 Q27.4968 876.547 27.4968 868.526 Q27.4968 861.333 32.1438 857.163 Q36.7589 852.962 44.7161 852.962 M42.9973 858.818 Q38.1912 858.882 35.3266 861.524 Q32.4621 864.133 32.4621 868.462 Q32.4621 873.364 35.2312 876.324 Q38.0002 879.252 43.0292 879.698 L42.9973 858.818 Z\" fill=\"#000000\" fill-rule=\"nonzero\" fill-opacity=\"1\" /><path clip-path=\"url(#clip010)\" d=\"M29.4065 820.624 L34.9447 820.624 Q33.6716 823.106 33.035 825.78 Q32.3984 828.454 32.3984 831.318 Q32.3984 835.679 33.7352 837.875 Q35.072 840.039 37.7456 840.039 Q39.7826 840.039 40.9603 838.48 Q42.1061 836.92 43.1565 832.209 L43.6021 830.204 Q44.9389 823.966 47.3897 821.356 Q49.8086 818.714 54.1691 818.714 Q59.1344 818.714 62.0308 822.661 Q64.9272 826.576 64.9272 833.451 Q64.9272 836.315 64.3543 839.435 Q63.8132 842.522 62.6992 845.959 L56.6518 845.959 Q58.3387 842.713 59.198 839.562 Q60.0256 836.411 60.0256 833.323 Q60.0256 829.186 58.6251 826.958 Q57.1929 824.73 54.6147 824.73 Q52.2276 824.73 50.9545 826.353 Q49.6813 827.944 48.5037 833.387 L48.0262 835.424 Q46.8804 840.867 44.5251 843.286 Q42.138 845.705 38.0002 845.705 Q32.9713 845.705 30.2341 842.14 Q27.4968 838.575 27.4968 832.018 Q27.4968 828.772 27.9743 825.907 Q28.4517 823.043 29.4065 820.624 Z\" fill=\"#000000\" fill-rule=\"nonzero\" fill-opacity=\"1\" /><path clip-path=\"url(#clip010)\" d=\"M29.4065 786.663 L34.9447 786.663 Q33.6716 789.145 33.035 791.819 Q32.3984 794.493 32.3984 797.357 Q32.3984 801.718 33.7352 803.914 Q35.072 806.078 37.7456 806.078 Q39.7826 806.078 40.9603 804.519 Q42.1061 802.959 43.1565 798.248 L43.6021 796.243 Q44.9389 790.005 47.3897 787.395 Q49.8086 784.753 54.1691 784.753 Q59.1344 784.753 62.0308 788.7 Q64.9272 792.615 64.9272 799.49 Q64.9272 802.354 64.3543 805.473 Q63.8132 808.561 62.6992 811.998 L56.6518 811.998 Q58.3387 808.752 59.198 805.601 Q60.0256 802.45 60.0256 799.362 Q60.0256 795.225 58.6251 792.997 Q57.1929 790.769 54.6147 790.769 Q52.2276 790.769 50.9545 792.392 Q49.6813 793.983 48.5037 799.426 L48.0262 801.463 Q46.8804 806.906 44.5251 809.325 Q42.138 811.744 38.0002 811.744 Q32.9713 811.744 30.2341 808.179 Q27.4968 804.614 27.4968 798.057 Q27.4968 794.811 27.9743 791.946 Q28.4517 789.082 29.4065 786.663 Z\" fill=\"#000000\" fill-rule=\"nonzero\" fill-opacity=\"1\" /><path clip-path=\"url(#clip010)\" d=\"M45.7664 731.249 Q39.4007 731.249 35.8996 733.891 Q32.3984 736.501 32.3984 741.243 Q32.3984 745.954 35.8996 748.596 Q39.4007 751.206 45.7664 751.206 Q52.1003 751.206 55.6014 748.596 Q59.1026 745.954 59.1026 741.243 Q59.1026 736.501 55.6014 733.891 Q52.1003 731.249 45.7664 731.249 M59.58 725.393 Q68.683 725.393 73.1071 729.435 Q77.5631 733.477 77.5631 741.816 Q77.5631 744.904 77.0857 747.641 Q76.6401 750.378 75.6852 752.956 L69.9879 752.956 Q71.3884 750.378 72.0568 747.864 Q72.7252 745.349 72.7252 742.739 Q72.7252 736.978 69.7015 734.114 Q66.7096 731.249 60.6303 731.249 L57.7339 731.249 Q60.885 733.064 62.4446 735.896 Q64.0042 738.729 64.0042 742.676 Q64.0042 749.232 59.0071 753.243 Q54.01 757.253 45.7664 757.253 Q37.491 757.253 32.4939 753.243 Q27.4968 749.232 27.4968 742.676 Q27.4968 738.729 29.0564 735.896 Q30.616 733.064 33.7671 731.249 L28.3562 731.249 L28.3562 725.393 L59.58 725.393 Z\" fill=\"#000000\" fill-rule=\"nonzero\" fill-opacity=\"1\" /><path clip-path=\"url(#clip010)\" d=\"M33.8307 692.673 Q33.2578 693.66 33.0032 694.837 Q32.7167 695.983 32.7167 697.384 Q32.7167 702.349 35.9632 705.023 Q39.1779 707.664 45.2253 707.664 L64.0042 707.664 L64.0042 713.553 L28.3562 713.553 L28.3562 707.664 L33.8944 707.664 Q30.6479 705.818 29.0883 702.858 Q27.4968 699.898 27.4968 695.665 Q27.4968 695.06 27.5923 694.328 Q27.656 693.596 27.8151 692.705 L33.8307 692.673 Z\" fill=\"#000000\" fill-rule=\"nonzero\" fill-opacity=\"1\" /><path clip-path=\"url(#clip010)\" d=\"M32.4621 674.149 Q32.4621 678.86 36.1542 681.597 Q39.8145 684.334 46.212 684.334 Q52.6095 684.334 56.3017 681.629 Q59.9619 678.891 59.9619 674.149 Q59.9619 669.47 56.2698 666.733 Q52.5777 663.996 46.212 663.996 Q39.8781 663.996 36.186 666.733 Q32.4621 669.47 32.4621 674.149 M27.4968 674.149 Q27.4968 666.51 32.4621 662.15 Q37.4273 657.789 46.212 657.789 Q54.9649 657.789 59.9619 662.15 Q64.9272 666.51 64.9272 674.149 Q64.9272 681.82 59.9619 686.18 Q54.9649 690.509 46.212 690.509 Q37.4273 690.509 32.4621 686.18 Q27.4968 681.82 27.4968 674.149 Z\" fill=\"#000000\" fill-rule=\"nonzero\" fill-opacity=\"1\" /><path clip-path=\"url(#clip010)\" d=\"M28.3562 651.487 L28.3562 645.631 L56.1743 638.31 L28.3562 631.021 L28.3562 624.114 L56.1743 616.794 L28.3562 609.505 L28.3562 603.649 L64.0042 612.974 L64.0042 619.881 L34.7856 627.552 L64.0042 635.254 L64.0042 642.161 L28.3562 651.487 Z\" fill=\"#000000\" fill-rule=\"nonzero\" fill-opacity=\"1\" /><path clip-path=\"url(#clip010)\" d=\"M18.2347 588.976 L28.3562 588.976 L28.3562 576.913 L32.9077 576.913 L32.9077 588.976 L52.2594 588.976 Q56.6199 588.976 57.8613 587.798 Q59.1026 586.589 59.1026 582.928 L59.1026 576.913 L64.0042 576.913 L64.0042 582.928 Q64.0042 589.708 61.4897 592.286 Q58.9434 594.864 52.2594 594.864 L32.9077 594.864 L32.9077 599.161 L28.3562 599.161 L28.3562 594.864 L18.2347 594.864 L18.2347 588.976 Z\" fill=\"#000000\" fill-rule=\"nonzero\" fill-opacity=\"1\" /><path clip-path=\"url(#clip010)\" d=\"M42.4881 539.578 L64.0042 539.578 L64.0042 545.434 L42.679 545.434 Q37.6183 545.434 35.1038 547.408 Q32.5894 549.381 32.5894 553.328 Q32.5894 558.07 35.6131 560.808 Q38.6368 563.545 43.8567 563.545 L64.0042 563.545 L64.0042 569.433 L14.479 569.433 L14.479 563.545 L33.8944 563.545 Q30.6797 561.444 29.0883 558.611 Q27.4968 555.747 27.4968 552.023 Q27.4968 545.88 31.3163 542.729 Q35.1038 539.578 42.4881 539.578 Z\" fill=\"#000000\" fill-rule=\"nonzero\" fill-opacity=\"1\" /><path clip-path=\"url(#clip010)\" d=\"M33.8307 486.52 Q33.2578 487.506 33.0032 488.684 Q32.7167 489.83 32.7167 491.23 Q32.7167 496.196 35.9632 498.869 Q39.1779 501.511 45.2253 501.511 L64.0042 501.511 L64.0042 507.399 L28.3562 507.399 L28.3562 501.511 L33.8944 501.511 Q30.6479 499.665 29.0883 496.705 Q27.4968 493.745 27.4968 489.512 Q27.4968 488.907 27.5923 488.175 Q27.656 487.443 27.8151 486.552 L33.8307 486.52 Z\" fill=\"#000000\" fill-rule=\"nonzero\" fill-opacity=\"1\" /><path clip-path=\"url(#clip010)\" d=\"M46.0847 464.176 Q46.0847 471.274 47.7079 474.011 Q49.3312 476.748 53.2461 476.748 Q56.3653 476.748 58.2114 474.711 Q60.0256 472.642 60.0256 469.11 Q60.0256 464.24 56.5881 461.312 Q53.1188 458.351 47.3897 458.351 L46.0847 458.351 L46.0847 464.176 M43.6657 452.495 L64.0042 452.495 L64.0042 458.351 L58.5933 458.351 Q61.8398 460.357 63.3994 463.349 Q64.9272 466.34 64.9272 470.669 Q64.9272 476.144 61.8716 479.39 Q58.7843 482.605 53.6281 482.605 Q47.6125 482.605 44.5569 478.594 Q41.5014 474.552 41.5014 466.563 L41.5014 458.351 L40.9285 458.351 Q36.8862 458.351 34.6901 461.025 Q32.4621 463.667 32.4621 468.473 Q32.4621 471.528 33.1941 474.425 Q33.9262 477.321 35.3903 479.995 L29.9795 479.995 Q28.7381 476.78 28.1334 473.756 Q27.4968 470.733 27.4968 467.868 Q27.4968 460.134 31.5072 456.314 Q35.5176 452.495 43.6657 452.495 Z\" fill=\"#000000\" fill-rule=\"nonzero\" fill-opacity=\"1\" /><path clip-path=\"url(#clip010)\" d=\"M18.2347 434.639 L28.3562 434.639 L28.3562 422.576 L32.9077 422.576 L32.9077 434.639 L52.2594 434.639 Q56.6199 434.639 57.8613 433.462 Q59.1026 432.252 59.1026 428.592 L59.1026 422.576 L64.0042 422.576 L64.0042 428.592 Q64.0042 435.371 61.4897 437.949 Q58.9434 440.527 52.2594 440.527 L32.9077 440.527 L32.9077 444.824 L28.3562 444.824 L28.3562 440.527 L18.2347 440.527 L18.2347 434.639 Z\" fill=\"#000000\" fill-rule=\"nonzero\" fill-opacity=\"1\" /><path clip-path=\"url(#clip010)\" d=\"M44.7161 384.382 L47.5806 384.382 L47.5806 411.309 Q53.6281 410.927 56.8109 407.68 Q59.9619 404.402 59.9619 398.577 Q59.9619 395.204 59.1344 392.053 Q58.3069 388.87 56.6518 385.751 L62.1899 385.751 Q63.5267 388.902 64.227 392.212 Q64.9272 395.522 64.9272 398.928 Q64.9272 407.458 59.9619 412.455 Q54.9967 417.42 46.5303 417.42 Q37.7774 417.42 32.6531 412.709 Q27.4968 407.967 27.4968 399.946 Q27.4968 392.753 32.1438 388.583 Q36.7589 384.382 44.7161 384.382 M42.9973 390.238 Q38.1912 390.302 35.3266 392.944 Q32.4621 395.554 32.4621 399.882 Q32.4621 404.784 35.2312 407.744 Q38.0002 410.672 43.0292 411.118 L42.9973 390.238 Z\" fill=\"#000000\" fill-rule=\"nonzero\" fill-opacity=\"1\" /><path clip-path=\"url(#clip010)\" d=\"M14.5426 339.981 Q21.8632 344.246 29.0246 346.315 Q36.186 348.384 43.5384 348.384 Q50.8908 348.384 58.1159 346.315 Q65.3091 344.214 72.5979 339.981 L72.5979 345.074 Q65.1182 349.848 57.8931 352.235 Q50.668 354.59 43.5384 354.59 Q36.4406 354.59 29.2474 352.235 Q22.0542 349.88 14.5426 345.074 L14.5426 339.981 Z\" fill=\"#000000\" fill-rule=\"nonzero\" fill-opacity=\"1\" /><path clip-path=\"url(#clip010)\" d=\"M58.5933 326.677 L58.5933 316.173 L22.3406 316.173 L24.6323 327.6 L18.7758 327.6 L16.4842 316.237 L16.4842 309.808 L58.5933 309.808 L58.5933 299.304 L64.0042 299.304 L64.0042 326.677 L58.5933 326.677 Z\" fill=\"#000000\" fill-rule=\"nonzero\" fill-opacity=\"1\" /><path clip-path=\"url(#clip010)\" d=\"M16.4842 276.738 L16.4842 271.327 L70.0516 287.878 L70.0516 293.289 L16.4842 276.738 Z\" fill=\"#000000\" fill-rule=\"nonzero\" fill-opacity=\"1\" /><path clip-path=\"url(#clip010)\" d=\"M67.3143 250.352 Q73.68 252.835 75.6216 255.19 Q77.5631 257.545 77.5631 261.492 L77.5631 266.171 L72.6615 266.171 L72.6615 262.733 Q72.6615 260.314 71.5157 258.978 Q70.3699 257.641 66.1048 256.017 L63.4312 254.967 L28.3562 269.385 L28.3562 263.179 L56.238 252.039 L28.3562 240.899 L28.3562 234.692 L67.3143 250.352 Z\" fill=\"#000000\" fill-rule=\"nonzero\" fill-opacity=\"1\" /><path clip-path=\"url(#clip010)\" d=\"M33.8307 205.951 Q33.2578 206.938 33.0032 208.116 Q32.7167 209.261 32.7167 210.662 Q32.7167 215.627 35.9632 218.301 Q39.1779 220.942 45.2253 220.942 L64.0042 220.942 L64.0042 226.831 L28.3562 226.831 L28.3562 220.942 L33.8944 220.942 Q30.6479 219.096 29.0883 216.136 Q27.4968 213.176 27.4968 208.943 Q27.4968 208.338 27.5923 207.606 Q27.656 206.874 27.8151 205.983 L33.8307 205.951 Z\" fill=\"#000000\" fill-rule=\"nonzero\" fill-opacity=\"1\" /><path clip-path=\"url(#clip010)\" d=\"M14.5426 200.731 L14.5426 195.639 Q22.0542 190.864 29.2474 188.509 Q36.4406 186.122 43.5384 186.122 Q50.668 186.122 57.8931 188.509 Q65.1182 190.864 72.5979 195.639 L72.5979 200.731 Q65.3091 196.498 58.1159 194.429 Q50.8908 192.329 43.5384 192.329 Q36.186 192.329 29.0246 194.429 Q21.8632 196.498 14.5426 200.731 Z\" fill=\"#000000\" fill-rule=\"nonzero\" fill-opacity=\"1\" /><polyline clip-path=\"url(#clip012)\" style=\"stroke:#00bfff; stroke-linecap:round; stroke-linejoin:round; stroke-width:16; stroke-opacity:1; fill:none\" points=\"630.165,1322.41 630.165,1322.41 630.223,1314.07 631.756,1278.99 635.408,1243.91 641.228,1208.83 649.366,1173.74 660.077,1138.66 673.73,1103.58 690.231,1068.5 710.731,1033.41 735.709,998.331 764.533,963.248 796.625,928.166 831.471,893.083 868.629,858.001 907.723,822.918 948.443,787.836 990.532,752.753 1033.78,717.671 1078,682.588 1123.06,647.506 1168.85,612.423 1215.25,577.341 1262.3,542.258 1310.65,507.176 1360.47,472.093 1411.83,437.011 1466.19,401.928 1524.17,366.846 1585.3,331.763 1649.19,296.681 1715.47,261.598 1783.86,226.516 1854.07,191.433 1925.9,156.351 1999.13,121.268 2087.1,86.1857 \"/>\n",
       "<circle clip-path=\"url(#clip012)\" cx=\"1925.9\" cy=\"156.351\" r=\"10.8\" fill=\"#ffffff\" fill-rule=\"evenodd\" fill-opacity=\"1\" stroke=\"#00bfff\" stroke-opacity=\"1\" stroke-width=\"3.2\"/>\n",
       "<circle clip-path=\"url(#clip012)\" cx=\"630.165\" cy=\"1322.41\" r=\"10.8\" fill=\"#ffffff\" fill-rule=\"evenodd\" fill-opacity=\"1\" stroke=\"#00bfff\" stroke-opacity=\"1\" stroke-width=\"3.2\"/>\n",
       "<circle clip-path=\"url(#clip012)\" cx=\"831.471\" cy=\"893.083\" r=\"10.8\" fill=\"#ffffff\" fill-rule=\"evenodd\" fill-opacity=\"1\" stroke=\"#00bfff\" stroke-opacity=\"1\" stroke-width=\"3.2\"/>\n",
       "<circle clip-path=\"url(#clip012)\" cx=\"1168.85\" cy=\"612.423\" r=\"10.8\" fill=\"#ffffff\" fill-rule=\"evenodd\" fill-opacity=\"1\" stroke=\"#00bfff\" stroke-opacity=\"1\" stroke-width=\"3.2\"/>\n",
       "<circle clip-path=\"url(#clip012)\" cx=\"1854.07\" cy=\"191.433\" r=\"10.8\" fill=\"#ffffff\" fill-rule=\"evenodd\" fill-opacity=\"1\" stroke=\"#00bfff\" stroke-opacity=\"1\" stroke-width=\"3.2\"/>\n",
       "<circle clip-path=\"url(#clip012)\" cx=\"1123.06\" cy=\"647.506\" r=\"10.8\" fill=\"#ffffff\" fill-rule=\"evenodd\" fill-opacity=\"1\" stroke=\"#00bfff\" stroke-opacity=\"1\" stroke-width=\"3.2\"/>\n",
       "<circle clip-path=\"url(#clip012)\" cx=\"630.165\" cy=\"1322.41\" r=\"10.8\" fill=\"#ffffff\" fill-rule=\"evenodd\" fill-opacity=\"1\" stroke=\"#00bfff\" stroke-opacity=\"1\" stroke-width=\"3.2\"/>\n",
       "<circle clip-path=\"url(#clip012)\" cx=\"631.756\" cy=\"1278.99\" r=\"10.8\" fill=\"#ffffff\" fill-rule=\"evenodd\" fill-opacity=\"1\" stroke=\"#00bfff\" stroke-opacity=\"1\" stroke-width=\"3.2\"/>\n",
       "<circle clip-path=\"url(#clip012)\" cx=\"990.532\" cy=\"752.753\" r=\"10.8\" fill=\"#ffffff\" fill-rule=\"evenodd\" fill-opacity=\"1\" stroke=\"#00bfff\" stroke-opacity=\"1\" stroke-width=\"3.2\"/>\n",
       "<circle clip-path=\"url(#clip012)\" cx=\"710.731\" cy=\"1033.41\" r=\"10.8\" fill=\"#ffffff\" fill-rule=\"evenodd\" fill-opacity=\"1\" stroke=\"#00bfff\" stroke-opacity=\"1\" stroke-width=\"3.2\"/>\n",
       "<circle clip-path=\"url(#clip012)\" cx=\"690.231\" cy=\"1068.5\" r=\"10.8\" fill=\"#ffffff\" fill-rule=\"evenodd\" fill-opacity=\"1\" stroke=\"#00bfff\" stroke-opacity=\"1\" stroke-width=\"3.2\"/>\n",
       "<circle clip-path=\"url(#clip012)\" cx=\"1524.17\" cy=\"366.846\" r=\"10.8\" fill=\"#ffffff\" fill-rule=\"evenodd\" fill-opacity=\"1\" stroke=\"#00bfff\" stroke-opacity=\"1\" stroke-width=\"3.2\"/>\n",
       "<circle clip-path=\"url(#clip012)\" cx=\"1310.65\" cy=\"507.176\" r=\"10.8\" fill=\"#ffffff\" fill-rule=\"evenodd\" fill-opacity=\"1\" stroke=\"#00bfff\" stroke-opacity=\"1\" stroke-width=\"3.2\"/>\n",
       "<circle clip-path=\"url(#clip012)\" cx=\"1783.86\" cy=\"226.516\" r=\"10.8\" fill=\"#ffffff\" fill-rule=\"evenodd\" fill-opacity=\"1\" stroke=\"#00bfff\" stroke-opacity=\"1\" stroke-width=\"3.2\"/>\n",
       "<circle clip-path=\"url(#clip012)\" cx=\"641.228\" cy=\"1208.83\" r=\"10.8\" fill=\"#ffffff\" fill-rule=\"evenodd\" fill-opacity=\"1\" stroke=\"#00bfff\" stroke-opacity=\"1\" stroke-width=\"3.2\"/>\n",
       "<circle clip-path=\"url(#clip012)\" cx=\"1078\" cy=\"682.588\" r=\"10.8\" fill=\"#ffffff\" fill-rule=\"evenodd\" fill-opacity=\"1\" stroke=\"#00bfff\" stroke-opacity=\"1\" stroke-width=\"3.2\"/>\n",
       "<circle clip-path=\"url(#clip012)\" cx=\"1411.83\" cy=\"437.011\" r=\"10.8\" fill=\"#ffffff\" fill-rule=\"evenodd\" fill-opacity=\"1\" stroke=\"#00bfff\" stroke-opacity=\"1\" stroke-width=\"3.2\"/>\n",
       "<circle clip-path=\"url(#clip012)\" cx=\"1715.47\" cy=\"261.598\" r=\"10.8\" fill=\"#ffffff\" fill-rule=\"evenodd\" fill-opacity=\"1\" stroke=\"#00bfff\" stroke-opacity=\"1\" stroke-width=\"3.2\"/>\n",
       "<circle clip-path=\"url(#clip012)\" cx=\"1999.13\" cy=\"121.268\" r=\"10.8\" fill=\"#ffffff\" fill-rule=\"evenodd\" fill-opacity=\"1\" stroke=\"#00bfff\" stroke-opacity=\"1\" stroke-width=\"3.2\"/>\n",
       "<circle clip-path=\"url(#clip012)\" cx=\"673.73\" cy=\"1103.58\" r=\"10.8\" fill=\"#ffffff\" fill-rule=\"evenodd\" fill-opacity=\"1\" stroke=\"#00bfff\" stroke-opacity=\"1\" stroke-width=\"3.2\"/>\n",
       "<circle clip-path=\"url(#clip012)\" cx=\"630.223\" cy=\"1314.07\" r=\"10.8\" fill=\"#ffffff\" fill-rule=\"evenodd\" fill-opacity=\"1\" stroke=\"#00bfff\" stroke-opacity=\"1\" stroke-width=\"3.2\"/>\n",
       "<circle clip-path=\"url(#clip012)\" cx=\"735.709\" cy=\"998.331\" r=\"10.8\" fill=\"#ffffff\" fill-rule=\"evenodd\" fill-opacity=\"1\" stroke=\"#00bfff\" stroke-opacity=\"1\" stroke-width=\"3.2\"/>\n",
       "<circle clip-path=\"url(#clip012)\" cx=\"764.533\" cy=\"963.248\" r=\"10.8\" fill=\"#ffffff\" fill-rule=\"evenodd\" fill-opacity=\"1\" stroke=\"#00bfff\" stroke-opacity=\"1\" stroke-width=\"3.2\"/>\n",
       "<circle clip-path=\"url(#clip012)\" cx=\"948.443\" cy=\"787.836\" r=\"10.8\" fill=\"#ffffff\" fill-rule=\"evenodd\" fill-opacity=\"1\" stroke=\"#00bfff\" stroke-opacity=\"1\" stroke-width=\"3.2\"/>\n",
       "<circle clip-path=\"url(#clip012)\" cx=\"1649.19\" cy=\"296.681\" r=\"10.8\" fill=\"#ffffff\" fill-rule=\"evenodd\" fill-opacity=\"1\" stroke=\"#00bfff\" stroke-opacity=\"1\" stroke-width=\"3.2\"/>\n",
       "<circle clip-path=\"url(#clip012)\" cx=\"1215.25\" cy=\"577.341\" r=\"10.8\" fill=\"#ffffff\" fill-rule=\"evenodd\" fill-opacity=\"1\" stroke=\"#00bfff\" stroke-opacity=\"1\" stroke-width=\"3.2\"/>\n",
       "<circle clip-path=\"url(#clip012)\" cx=\"1585.3\" cy=\"331.763\" r=\"10.8\" fill=\"#ffffff\" fill-rule=\"evenodd\" fill-opacity=\"1\" stroke=\"#00bfff\" stroke-opacity=\"1\" stroke-width=\"3.2\"/>\n",
       "<circle clip-path=\"url(#clip012)\" cx=\"907.723\" cy=\"822.918\" r=\"10.8\" fill=\"#ffffff\" fill-rule=\"evenodd\" fill-opacity=\"1\" stroke=\"#00bfff\" stroke-opacity=\"1\" stroke-width=\"3.2\"/>\n",
       "<circle clip-path=\"url(#clip012)\" cx=\"796.625\" cy=\"928.166\" r=\"10.8\" fill=\"#ffffff\" fill-rule=\"evenodd\" fill-opacity=\"1\" stroke=\"#00bfff\" stroke-opacity=\"1\" stroke-width=\"3.2\"/>\n",
       "<circle clip-path=\"url(#clip012)\" cx=\"660.077\" cy=\"1138.66\" r=\"10.8\" fill=\"#ffffff\" fill-rule=\"evenodd\" fill-opacity=\"1\" stroke=\"#00bfff\" stroke-opacity=\"1\" stroke-width=\"3.2\"/>\n",
       "<circle clip-path=\"url(#clip012)\" cx=\"2087.1\" cy=\"86.1857\" r=\"10.8\" fill=\"#ffffff\" fill-rule=\"evenodd\" fill-opacity=\"1\" stroke=\"#00bfff\" stroke-opacity=\"1\" stroke-width=\"3.2\"/>\n",
       "<circle clip-path=\"url(#clip012)\" cx=\"1466.19\" cy=\"401.928\" r=\"10.8\" fill=\"#ffffff\" fill-rule=\"evenodd\" fill-opacity=\"1\" stroke=\"#00bfff\" stroke-opacity=\"1\" stroke-width=\"3.2\"/>\n",
       "<circle clip-path=\"url(#clip012)\" cx=\"1360.47\" cy=\"472.093\" r=\"10.8\" fill=\"#ffffff\" fill-rule=\"evenodd\" fill-opacity=\"1\" stroke=\"#00bfff\" stroke-opacity=\"1\" stroke-width=\"3.2\"/>\n",
       "<circle clip-path=\"url(#clip012)\" cx=\"868.629\" cy=\"858.001\" r=\"10.8\" fill=\"#ffffff\" fill-rule=\"evenodd\" fill-opacity=\"1\" stroke=\"#00bfff\" stroke-opacity=\"1\" stroke-width=\"3.2\"/>\n",
       "<circle clip-path=\"url(#clip012)\" cx=\"1262.3\" cy=\"542.258\" r=\"10.8\" fill=\"#ffffff\" fill-rule=\"evenodd\" fill-opacity=\"1\" stroke=\"#00bfff\" stroke-opacity=\"1\" stroke-width=\"3.2\"/>\n",
       "<circle clip-path=\"url(#clip012)\" cx=\"649.366\" cy=\"1173.74\" r=\"10.8\" fill=\"#ffffff\" fill-rule=\"evenodd\" fill-opacity=\"1\" stroke=\"#00bfff\" stroke-opacity=\"1\" stroke-width=\"3.2\"/>\n",
       "<circle clip-path=\"url(#clip012)\" cx=\"1033.78\" cy=\"717.671\" r=\"10.8\" fill=\"#ffffff\" fill-rule=\"evenodd\" fill-opacity=\"1\" stroke=\"#00bfff\" stroke-opacity=\"1\" stroke-width=\"3.2\"/>\n",
       "<circle clip-path=\"url(#clip012)\" cx=\"635.408\" cy=\"1243.91\" r=\"10.8\" fill=\"#ffffff\" fill-rule=\"evenodd\" fill-opacity=\"1\" stroke=\"#00bfff\" stroke-opacity=\"1\" stroke-width=\"3.2\"/>\n",
       "<polyline clip-path=\"url(#clip012)\" style=\"stroke:#ff0000; stroke-linecap:round; stroke-linejoin:round; stroke-width:16; stroke-opacity:1; fill:none\" points=\"531.829,1384.24 537.96,1349.16 547.084,1314.07 558.536,1278.99 572.032,1243.91 587.349,1208.83 604.209,1173.74 622.457,1138.66 642.07,1103.58 663.086,1068.5 685.621,1033.41 709.838,998.331 736.661,963.248 766.359,928.166 798.495,893.083 832.682,858.001 868.599,822.918 905.974,787.836 944.58,752.753 984.233,717.671 1024.78,682.588 1066.08,647.506 1108.05,612.423 1150.58,577.341 1193.61,542.258 1237.08,507.176 1280.97,472.093 1325.26,437.011 1370.76,401.928 1419.65,366.846 1471.95,331.763 1527.24,296.681 1585.18,261.598 1645.42,226.516 1707.7,191.433 1772.05,156.351 1844.01,121.268 1997.19,86.1857 \"/>\n",
       "<circle clip-path=\"url(#clip012)\" cx=\"1772.05\" cy=\"156.351\" r=\"10.8\" fill=\"#ffffff\" fill-rule=\"evenodd\" fill-opacity=\"1\" stroke=\"#ff0000\" stroke-opacity=\"1\" stroke-width=\"3.2\"/>\n",
       "<circle clip-path=\"url(#clip012)\" cx=\"736.661\" cy=\"963.248\" r=\"10.8\" fill=\"#ffffff\" fill-rule=\"evenodd\" fill-opacity=\"1\" stroke=\"#ff0000\" stroke-opacity=\"1\" stroke-width=\"3.2\"/>\n",
       "<circle clip-path=\"url(#clip012)\" cx=\"685.621\" cy=\"1033.41\" r=\"10.8\" fill=\"#ffffff\" fill-rule=\"evenodd\" fill-opacity=\"1\" stroke=\"#ff0000\" stroke-opacity=\"1\" stroke-width=\"3.2\"/>\n",
       "<circle clip-path=\"url(#clip012)\" cx=\"663.086\" cy=\"1068.5\" r=\"10.8\" fill=\"#ffffff\" fill-rule=\"evenodd\" fill-opacity=\"1\" stroke=\"#ff0000\" stroke-opacity=\"1\" stroke-width=\"3.2\"/>\n",
       "<circle clip-path=\"url(#clip012)\" cx=\"832.682\" cy=\"858.001\" r=\"10.8\" fill=\"#ffffff\" fill-rule=\"evenodd\" fill-opacity=\"1\" stroke=\"#ff0000\" stroke-opacity=\"1\" stroke-width=\"3.2\"/>\n",
       "<circle clip-path=\"url(#clip012)\" cx=\"905.974\" cy=\"787.836\" r=\"10.8\" fill=\"#ffffff\" fill-rule=\"evenodd\" fill-opacity=\"1\" stroke=\"#ff0000\" stroke-opacity=\"1\" stroke-width=\"3.2\"/>\n",
       "<circle clip-path=\"url(#clip012)\" cx=\"1024.78\" cy=\"682.588\" r=\"10.8\" fill=\"#ffffff\" fill-rule=\"evenodd\" fill-opacity=\"1\" stroke=\"#ff0000\" stroke-opacity=\"1\" stroke-width=\"3.2\"/>\n",
       "<circle clip-path=\"url(#clip012)\" cx=\"1585.18\" cy=\"261.598\" r=\"10.8\" fill=\"#ffffff\" fill-rule=\"evenodd\" fill-opacity=\"1\" stroke=\"#ff0000\" stroke-opacity=\"1\" stroke-width=\"3.2\"/>\n",
       "<circle clip-path=\"url(#clip012)\" cx=\"642.07\" cy=\"1103.58\" r=\"10.8\" fill=\"#ffffff\" fill-rule=\"evenodd\" fill-opacity=\"1\" stroke=\"#ff0000\" stroke-opacity=\"1\" stroke-width=\"3.2\"/>\n",
       "<circle clip-path=\"url(#clip012)\" cx=\"984.233\" cy=\"717.671\" r=\"10.8\" fill=\"#ffffff\" fill-rule=\"evenodd\" fill-opacity=\"1\" stroke=\"#ff0000\" stroke-opacity=\"1\" stroke-width=\"3.2\"/>\n",
       "<circle clip-path=\"url(#clip012)\" cx=\"537.96\" cy=\"1349.16\" r=\"10.8\" fill=\"#ffffff\" fill-rule=\"evenodd\" fill-opacity=\"1\" stroke=\"#ff0000\" stroke-opacity=\"1\" stroke-width=\"3.2\"/>\n",
       "<circle clip-path=\"url(#clip012)\" cx=\"531.829\" cy=\"1384.24\" r=\"10.8\" fill=\"#ffffff\" fill-rule=\"evenodd\" fill-opacity=\"1\" stroke=\"#ff0000\" stroke-opacity=\"1\" stroke-width=\"3.2\"/>\n",
       "<circle clip-path=\"url(#clip012)\" cx=\"1370.76\" cy=\"401.928\" r=\"10.8\" fill=\"#ffffff\" fill-rule=\"evenodd\" fill-opacity=\"1\" stroke=\"#ff0000\" stroke-opacity=\"1\" stroke-width=\"3.2\"/>\n",
       "<circle clip-path=\"url(#clip012)\" cx=\"1237.08\" cy=\"507.176\" r=\"10.8\" fill=\"#ffffff\" fill-rule=\"evenodd\" fill-opacity=\"1\" stroke=\"#ff0000\" stroke-opacity=\"1\" stroke-width=\"3.2\"/>\n",
       "<circle clip-path=\"url(#clip012)\" cx=\"868.599\" cy=\"822.918\" r=\"10.8\" fill=\"#ffffff\" fill-rule=\"evenodd\" fill-opacity=\"1\" stroke=\"#ff0000\" stroke-opacity=\"1\" stroke-width=\"3.2\"/>\n",
       "<circle clip-path=\"url(#clip012)\" cx=\"1419.65\" cy=\"366.846\" r=\"10.8\" fill=\"#ffffff\" fill-rule=\"evenodd\" fill-opacity=\"1\" stroke=\"#ff0000\" stroke-opacity=\"1\" stroke-width=\"3.2\"/>\n",
       "<circle clip-path=\"url(#clip012)\" cx=\"798.495\" cy=\"893.083\" r=\"10.8\" fill=\"#ffffff\" fill-rule=\"evenodd\" fill-opacity=\"1\" stroke=\"#ff0000\" stroke-opacity=\"1\" stroke-width=\"3.2\"/>\n",
       "<circle clip-path=\"url(#clip012)\" cx=\"944.58\" cy=\"752.753\" r=\"10.8\" fill=\"#ffffff\" fill-rule=\"evenodd\" fill-opacity=\"1\" stroke=\"#ff0000\" stroke-opacity=\"1\" stroke-width=\"3.2\"/>\n",
       "<circle clip-path=\"url(#clip012)\" cx=\"622.457\" cy=\"1138.66\" r=\"10.8\" fill=\"#ffffff\" fill-rule=\"evenodd\" fill-opacity=\"1\" stroke=\"#ff0000\" stroke-opacity=\"1\" stroke-width=\"3.2\"/>\n",
       "<circle clip-path=\"url(#clip012)\" cx=\"1108.05\" cy=\"612.423\" r=\"10.8\" fill=\"#ffffff\" fill-rule=\"evenodd\" fill-opacity=\"1\" stroke=\"#ff0000\" stroke-opacity=\"1\" stroke-width=\"3.2\"/>\n",
       "<circle clip-path=\"url(#clip012)\" cx=\"1471.95\" cy=\"331.763\" r=\"10.8\" fill=\"#ffffff\" fill-rule=\"evenodd\" fill-opacity=\"1\" stroke=\"#ff0000\" stroke-opacity=\"1\" stroke-width=\"3.2\"/>\n",
       "<circle clip-path=\"url(#clip012)\" cx=\"604.209\" cy=\"1173.74\" r=\"10.8\" fill=\"#ffffff\" fill-rule=\"evenodd\" fill-opacity=\"1\" stroke=\"#ff0000\" stroke-opacity=\"1\" stroke-width=\"3.2\"/>\n",
       "<circle clip-path=\"url(#clip012)\" cx=\"1066.08\" cy=\"647.506\" r=\"10.8\" fill=\"#ffffff\" fill-rule=\"evenodd\" fill-opacity=\"1\" stroke=\"#ff0000\" stroke-opacity=\"1\" stroke-width=\"3.2\"/>\n",
       "<circle clip-path=\"url(#clip012)\" cx=\"1997.19\" cy=\"86.1857\" r=\"10.8\" fill=\"#ffffff\" fill-rule=\"evenodd\" fill-opacity=\"1\" stroke=\"#ff0000\" stroke-opacity=\"1\" stroke-width=\"3.2\"/>\n",
       "<circle clip-path=\"url(#clip012)\" cx=\"1527.24\" cy=\"296.681\" r=\"10.8\" fill=\"#ffffff\" fill-rule=\"evenodd\" fill-opacity=\"1\" stroke=\"#ff0000\" stroke-opacity=\"1\" stroke-width=\"3.2\"/>\n",
       "<circle clip-path=\"url(#clip012)\" cx=\"766.359\" cy=\"928.166\" r=\"10.8\" fill=\"#ffffff\" fill-rule=\"evenodd\" fill-opacity=\"1\" stroke=\"#ff0000\" stroke-opacity=\"1\" stroke-width=\"3.2\"/>\n",
       "<circle clip-path=\"url(#clip012)\" cx=\"547.084\" cy=\"1314.07\" r=\"10.8\" fill=\"#ffffff\" fill-rule=\"evenodd\" fill-opacity=\"1\" stroke=\"#ff0000\" stroke-opacity=\"1\" stroke-width=\"3.2\"/>\n",
       "<circle clip-path=\"url(#clip012)\" cx=\"1193.61\" cy=\"542.258\" r=\"10.8\" fill=\"#ffffff\" fill-rule=\"evenodd\" fill-opacity=\"1\" stroke=\"#ff0000\" stroke-opacity=\"1\" stroke-width=\"3.2\"/>\n",
       "<circle clip-path=\"url(#clip012)\" cx=\"558.536\" cy=\"1278.99\" r=\"10.8\" fill=\"#ffffff\" fill-rule=\"evenodd\" fill-opacity=\"1\" stroke=\"#ff0000\" stroke-opacity=\"1\" stroke-width=\"3.2\"/>\n",
       "<circle clip-path=\"url(#clip012)\" cx=\"1280.97\" cy=\"472.093\" r=\"10.8\" fill=\"#ffffff\" fill-rule=\"evenodd\" fill-opacity=\"1\" stroke=\"#ff0000\" stroke-opacity=\"1\" stroke-width=\"3.2\"/>\n",
       "<circle clip-path=\"url(#clip012)\" cx=\"1325.26\" cy=\"437.011\" r=\"10.8\" fill=\"#ffffff\" fill-rule=\"evenodd\" fill-opacity=\"1\" stroke=\"#ff0000\" stroke-opacity=\"1\" stroke-width=\"3.2\"/>\n",
       "<circle clip-path=\"url(#clip012)\" cx=\"572.032\" cy=\"1243.91\" r=\"10.8\" fill=\"#ffffff\" fill-rule=\"evenodd\" fill-opacity=\"1\" stroke=\"#ff0000\" stroke-opacity=\"1\" stroke-width=\"3.2\"/>\n",
       "<circle clip-path=\"url(#clip012)\" cx=\"709.838\" cy=\"998.331\" r=\"10.8\" fill=\"#ffffff\" fill-rule=\"evenodd\" fill-opacity=\"1\" stroke=\"#ff0000\" stroke-opacity=\"1\" stroke-width=\"3.2\"/>\n",
       "<circle clip-path=\"url(#clip012)\" cx=\"1645.42\" cy=\"226.516\" r=\"10.8\" fill=\"#ffffff\" fill-rule=\"evenodd\" fill-opacity=\"1\" stroke=\"#ff0000\" stroke-opacity=\"1\" stroke-width=\"3.2\"/>\n",
       "<circle clip-path=\"url(#clip012)\" cx=\"587.349\" cy=\"1208.83\" r=\"10.8\" fill=\"#ffffff\" fill-rule=\"evenodd\" fill-opacity=\"1\" stroke=\"#ff0000\" stroke-opacity=\"1\" stroke-width=\"3.2\"/>\n",
       "<circle clip-path=\"url(#clip012)\" cx=\"1707.7\" cy=\"191.433\" r=\"10.8\" fill=\"#ffffff\" fill-rule=\"evenodd\" fill-opacity=\"1\" stroke=\"#ff0000\" stroke-opacity=\"1\" stroke-width=\"3.2\"/>\n",
       "<circle clip-path=\"url(#clip012)\" cx=\"1150.58\" cy=\"577.341\" r=\"10.8\" fill=\"#ffffff\" fill-rule=\"evenodd\" fill-opacity=\"1\" stroke=\"#ff0000\" stroke-opacity=\"1\" stroke-width=\"3.2\"/>\n",
       "<circle clip-path=\"url(#clip012)\" cx=\"1844.01\" cy=\"121.268\" r=\"10.8\" fill=\"#ffffff\" fill-rule=\"evenodd\" fill-opacity=\"1\" stroke=\"#ff0000\" stroke-opacity=\"1\" stroke-width=\"3.2\"/>\n",
       "<path clip-path=\"url(#clip010)\" d=\"M290.493 248.629 L608.066 248.629 L608.066 93.1086 L290.493 93.1086  Z\" fill=\"#f2f2f2\" fill-rule=\"evenodd\" fill-opacity=\"1\"/>\n",
       "<polyline clip-path=\"url(#clip010)\" style=\"stroke:#000000; stroke-linecap:round; stroke-linejoin:round; stroke-width:4; stroke-opacity:0; fill:none\" points=\"290.493,248.629 608.066,248.629 608.066,93.1086 290.493,93.1086 290.493,248.629 \"/>\n",
       "<polyline clip-path=\"url(#clip010)\" style=\"stroke:#00bfff; stroke-linecap:round; stroke-linejoin:round; stroke-width:16; stroke-opacity:1; fill:none\" points=\"314.197,144.949 456.422,144.949 \"/>\n",
       "<path clip-path=\"url(#clip010)\" d=\"M484.802 131.511 L484.802 158.386 L490.45 158.386 Q497.603 158.386 500.913 155.145 Q504.246 151.905 504.246 144.914 Q504.246 137.969 500.913 134.752 Q497.603 131.511 490.45 131.511 L484.802 131.511 M480.126 127.669 L489.733 127.669 Q499.779 127.669 504.478 131.858 Q509.177 136.025 509.177 144.914 Q509.177 153.849 504.455 158.039 Q499.732 162.229 489.733 162.229 L480.126 162.229 L480.126 127.669 Z\" fill=\"#000000\" fill-rule=\"nonzero\" fill-opacity=\"1\" /><path clip-path=\"url(#clip010)\" d=\"M528.228 149.196 Q523.066 149.196 521.075 150.377 Q519.084 151.557 519.084 154.405 Q519.084 156.673 520.566 158.016 Q522.07 159.335 524.64 159.335 Q528.181 159.335 530.311 156.835 Q532.464 154.312 532.464 150.145 L532.464 149.196 L528.228 149.196 M536.723 147.437 L536.723 162.229 L532.464 162.229 L532.464 158.293 Q531.005 160.655 528.83 161.789 Q526.654 162.9 523.505 162.9 Q519.524 162.9 517.163 160.678 Q514.825 158.432 514.825 154.682 Q514.825 150.307 517.742 148.085 Q520.681 145.863 526.492 145.863 L532.464 145.863 L532.464 145.446 Q532.464 142.507 530.519 140.909 Q528.598 139.289 525.103 139.289 Q522.88 139.289 520.774 139.821 Q518.668 140.354 516.723 141.419 L516.723 137.483 Q519.061 136.581 521.26 136.141 Q523.459 135.678 525.543 135.678 Q531.167 135.678 533.945 138.594 Q536.723 141.511 536.723 147.437 Z\" fill=\"#000000\" fill-rule=\"nonzero\" fill-opacity=\"1\" /><path clip-path=\"url(#clip010)\" d=\"M549.709 128.942 L549.709 136.303 L558.482 136.303 L558.482 139.613 L549.709 139.613 L549.709 153.687 Q549.709 156.858 550.566 157.761 Q551.445 158.664 554.107 158.664 L558.482 158.664 L558.482 162.229 L554.107 162.229 Q549.177 162.229 547.302 160.4 Q545.427 158.548 545.427 153.687 L545.427 139.613 L542.302 139.613 L542.302 136.303 L545.427 136.303 L545.427 128.942 L549.709 128.942 Z\" fill=\"#000000\" fill-rule=\"nonzero\" fill-opacity=\"1\" /><path clip-path=\"url(#clip010)\" d=\"M575.866 149.196 Q570.704 149.196 568.714 150.377 Q566.723 151.557 566.723 154.405 Q566.723 156.673 568.204 158.016 Q569.709 159.335 572.278 159.335 Q575.82 159.335 577.95 156.835 Q580.102 154.312 580.102 150.145 L580.102 149.196 L575.866 149.196 M584.362 147.437 L584.362 162.229 L580.102 162.229 L580.102 158.293 Q578.644 160.655 576.468 161.789 Q574.292 162.9 571.144 162.9 Q567.163 162.9 564.802 160.678 Q562.464 158.432 562.464 154.682 Q562.464 150.307 565.38 148.085 Q568.32 145.863 574.13 145.863 L580.102 145.863 L580.102 145.446 Q580.102 142.507 578.158 140.909 Q576.237 139.289 572.741 139.289 Q570.519 139.289 568.413 139.821 Q566.306 140.354 564.362 141.419 L564.362 137.483 Q566.7 136.581 568.899 136.141 Q571.098 135.678 573.181 135.678 Q578.806 135.678 581.584 138.594 Q584.362 141.511 584.362 147.437 Z\" fill=\"#000000\" fill-rule=\"nonzero\" fill-opacity=\"1\" /><polyline clip-path=\"url(#clip010)\" style=\"stroke:#ff0000; stroke-linecap:round; stroke-linejoin:round; stroke-width:16; stroke-opacity:1; fill:none\" points=\"314.197,196.789 456.422,196.789 \"/>\n",
       "<path clip-path=\"url(#clip010)\" d=\"M502.371 180.643 L502.371 185.203 Q499.709 183.93 497.348 183.305 Q494.987 182.68 492.788 182.68 Q488.969 182.68 486.885 184.161 Q484.825 185.643 484.825 188.374 Q484.825 190.666 486.191 191.847 Q487.58 193.004 491.422 193.722 L494.246 194.3 Q499.478 195.296 501.955 197.819 Q504.455 200.319 504.455 204.532 Q504.455 209.555 501.075 212.147 Q497.719 214.74 491.214 214.74 Q488.76 214.74 485.983 214.184 Q483.228 213.629 480.265 212.541 L480.265 207.726 Q483.112 209.323 485.844 210.133 Q488.575 210.944 491.214 210.944 Q495.219 210.944 497.395 209.37 Q499.57 207.796 499.57 204.879 Q499.57 202.333 497.996 200.897 Q496.445 199.462 492.881 198.745 L490.033 198.189 Q484.802 197.147 482.464 194.925 Q480.126 192.703 480.126 188.745 Q480.126 184.161 483.344 181.522 Q486.584 178.884 492.256 178.884 Q494.686 178.884 497.209 179.323 Q499.732 179.763 502.371 180.643 Z\" fill=\"#000000\" fill-rule=\"nonzero\" fill-opacity=\"1\" /><path clip-path=\"url(#clip010)\" d=\"M511.746 179.509 L516.422 179.509 L516.422 214.069 L511.746 214.069 L511.746 179.509 Z\" fill=\"#000000\" fill-rule=\"nonzero\" fill-opacity=\"1\" /><path clip-path=\"url(#clip010)\" d=\"M525.728 179.509 L532.695 179.509 L541.515 203.027 L550.38 179.509 L557.348 179.509 L557.348 214.069 L552.788 214.069 L552.788 183.722 L543.876 207.425 L539.177 207.425 L530.265 183.722 L530.265 214.069 L525.728 214.069 L525.728 179.509 Z\" fill=\"#000000\" fill-rule=\"nonzero\" fill-opacity=\"1\" /></svg>\n"
      ],
      "text/html": [
       "<?xml version=\"1.0\" encoding=\"utf-8\"?>\n",
       "<svg xmlns=\"http://www.w3.org/2000/svg\" xmlns:xlink=\"http://www.w3.org/1999/xlink\" width=\"600\" height=\"400\" viewBox=\"0 0 2400 1600\">\n",
       "<defs>\n",
       "  <clipPath id=\"clip060\">\n",
       "    <rect x=\"0\" y=\"0\" width=\"2400\" height=\"1600\"/>\n",
       "  </clipPath>\n",
       "</defs>\n",
       "<path clip-path=\"url(#clip060)\" d=\"M0 1600 L2400 1600 L2400 8.88178e-14 L0 8.88178e-14  Z\" fill=\"#ffffff\" fill-rule=\"evenodd\" fill-opacity=\"1\"/>\n",
       "<defs>\n",
       "  <clipPath id=\"clip061\">\n",
       "    <rect x=\"480\" y=\"0\" width=\"1681\" height=\"1600\"/>\n",
       "  </clipPath>\n",
       "</defs>\n",
       "<path clip-path=\"url(#clip060)\" d=\"M219.38 1423.18 L2352.76 1423.18 L2352.76 47.2441 L219.38 47.2441  Z\" fill=\"#f2f2f2\" fill-rule=\"evenodd\" fill-opacity=\"1\"/>\n",
       "<defs>\n",
       "  <clipPath id=\"clip062\">\n",
       "    <rect x=\"219\" y=\"47\" width=\"2134\" height=\"1377\"/>\n",
       "  </clipPath>\n",
       "</defs>\n",
       "<polyline clip-path=\"url(#clip062)\" style=\"stroke:#000000; stroke-linecap:round; stroke-linejoin:round; stroke-width:2; stroke-opacity:0.1; fill:none\" points=\"219.38,1423.18 219.38,47.2441 \"/>\n",
       "<polyline clip-path=\"url(#clip062)\" style=\"stroke:#000000; stroke-linecap:round; stroke-linejoin:round; stroke-width:2; stroke-opacity:0.1; fill:none\" points=\"649.102,1423.18 649.102,47.2441 \"/>\n",
       "<polyline clip-path=\"url(#clip062)\" style=\"stroke:#000000; stroke-linecap:round; stroke-linejoin:round; stroke-width:2; stroke-opacity:0.1; fill:none\" points=\"1078.82,1423.18 1078.82,47.2441 \"/>\n",
       "<polyline clip-path=\"url(#clip062)\" style=\"stroke:#000000; stroke-linecap:round; stroke-linejoin:round; stroke-width:2; stroke-opacity:0.1; fill:none\" points=\"1508.54,1423.18 1508.54,47.2441 \"/>\n",
       "<polyline clip-path=\"url(#clip062)\" style=\"stroke:#000000; stroke-linecap:round; stroke-linejoin:round; stroke-width:2; stroke-opacity:0.1; fill:none\" points=\"1938.27,1423.18 1938.27,47.2441 \"/>\n",
       "<polyline clip-path=\"url(#clip062)\" style=\"stroke:#000000; stroke-linecap:round; stroke-linejoin:round; stroke-width:2; stroke-opacity:0.1; fill:none\" points=\"219.38,1423.18 219.38,47.2441 \"/>\n",
       "<polyline clip-path=\"url(#clip062)\" style=\"stroke:#000000; stroke-linecap:round; stroke-linejoin:round; stroke-width:2; stroke-opacity:0.1; fill:none\" points=\"649.102,1423.18 649.102,47.2441 \"/>\n",
       "<polyline clip-path=\"url(#clip062)\" style=\"stroke:#000000; stroke-linecap:round; stroke-linejoin:round; stroke-width:2; stroke-opacity:0.1; fill:none\" points=\"1078.82,1423.18 1078.82,47.2441 \"/>\n",
       "<polyline clip-path=\"url(#clip062)\" style=\"stroke:#000000; stroke-linecap:round; stroke-linejoin:round; stroke-width:2; stroke-opacity:0.1; fill:none\" points=\"1508.54,1423.18 1508.54,47.2441 \"/>\n",
       "<polyline clip-path=\"url(#clip062)\" style=\"stroke:#000000; stroke-linecap:round; stroke-linejoin:round; stroke-width:2; stroke-opacity:0.1; fill:none\" points=\"1938.27,1423.18 1938.27,47.2441 \"/>\n",
       "<polyline clip-path=\"url(#clip062)\" style=\"stroke:#000000; stroke-linecap:round; stroke-linejoin:round; stroke-width:2; stroke-opacity:0.1; fill:none\" points=\"219.38,1384.24 2352.76,1384.24 \"/>\n",
       "<polyline clip-path=\"url(#clip062)\" style=\"stroke:#000000; stroke-linecap:round; stroke-linejoin:round; stroke-width:2; stroke-opacity:0.1; fill:none\" points=\"219.38,1040.43 2352.76,1040.43 \"/>\n",
       "<polyline clip-path=\"url(#clip062)\" style=\"stroke:#000000; stroke-linecap:round; stroke-linejoin:round; stroke-width:2; stroke-opacity:0.1; fill:none\" points=\"219.38,696.621 2352.76,696.621 \"/>\n",
       "<polyline clip-path=\"url(#clip062)\" style=\"stroke:#000000; stroke-linecap:round; stroke-linejoin:round; stroke-width:2; stroke-opacity:0.1; fill:none\" points=\"219.38,352.813 2352.76,352.813 \"/>\n",
       "<polyline clip-path=\"url(#clip062)\" style=\"stroke:#000000; stroke-linecap:round; stroke-linejoin:round; stroke-width:2; stroke-opacity:0.1; fill:none\" points=\"219.38,1384.24 2352.76,1384.24 \"/>\n",
       "<polyline clip-path=\"url(#clip062)\" style=\"stroke:#000000; stroke-linecap:round; stroke-linejoin:round; stroke-width:2; stroke-opacity:0.1; fill:none\" points=\"219.38,1040.43 2352.76,1040.43 \"/>\n",
       "<polyline clip-path=\"url(#clip062)\" style=\"stroke:#000000; stroke-linecap:round; stroke-linejoin:round; stroke-width:2; stroke-opacity:0.1; fill:none\" points=\"219.38,696.621 2352.76,696.621 \"/>\n",
       "<polyline clip-path=\"url(#clip062)\" style=\"stroke:#000000; stroke-linecap:round; stroke-linejoin:round; stroke-width:2; stroke-opacity:0.1; fill:none\" points=\"219.38,352.813 2352.76,352.813 \"/>\n",
       "<polyline clip-path=\"url(#clip060)\" style=\"stroke:#000000; stroke-linecap:round; stroke-linejoin:round; stroke-width:4; stroke-opacity:1; fill:none\" points=\"219.38,1423.18 2352.76,1423.18 \"/>\n",
       "<polyline clip-path=\"url(#clip060)\" style=\"stroke:#000000; stroke-linecap:round; stroke-linejoin:round; stroke-width:4; stroke-opacity:1; fill:none\" points=\"219.38,47.2441 2352.76,47.2441 \"/>\n",
       "<polyline clip-path=\"url(#clip060)\" style=\"stroke:#000000; stroke-linecap:round; stroke-linejoin:round; stroke-width:4; stroke-opacity:1; fill:none\" points=\"219.38,1423.18 219.38,1404.28 \"/>\n",
       "<polyline clip-path=\"url(#clip060)\" style=\"stroke:#000000; stroke-linecap:round; stroke-linejoin:round; stroke-width:4; stroke-opacity:1; fill:none\" points=\"649.102,1423.18 649.102,1404.28 \"/>\n",
       "<polyline clip-path=\"url(#clip060)\" style=\"stroke:#000000; stroke-linecap:round; stroke-linejoin:round; stroke-width:4; stroke-opacity:1; fill:none\" points=\"1078.82,1423.18 1078.82,1404.28 \"/>\n",
       "<polyline clip-path=\"url(#clip060)\" style=\"stroke:#000000; stroke-linecap:round; stroke-linejoin:round; stroke-width:4; stroke-opacity:1; fill:none\" points=\"1508.54,1423.18 1508.54,1404.28 \"/>\n",
       "<polyline clip-path=\"url(#clip060)\" style=\"stroke:#000000; stroke-linecap:round; stroke-linejoin:round; stroke-width:4; stroke-opacity:1; fill:none\" points=\"1938.27,1423.18 1938.27,1404.28 \"/>\n",
       "<polyline clip-path=\"url(#clip060)\" style=\"stroke:#000000; stroke-linecap:round; stroke-linejoin:round; stroke-width:4; stroke-opacity:1; fill:none\" points=\"219.38,47.2441 219.38,66.1417 \"/>\n",
       "<polyline clip-path=\"url(#clip060)\" style=\"stroke:#000000; stroke-linecap:round; stroke-linejoin:round; stroke-width:4; stroke-opacity:1; fill:none\" points=\"649.102,47.2441 649.102,66.1417 \"/>\n",
       "<polyline clip-path=\"url(#clip060)\" style=\"stroke:#000000; stroke-linecap:round; stroke-linejoin:round; stroke-width:4; stroke-opacity:1; fill:none\" points=\"1078.82,47.2441 1078.82,66.1417 \"/>\n",
       "<polyline clip-path=\"url(#clip060)\" style=\"stroke:#000000; stroke-linecap:round; stroke-linejoin:round; stroke-width:4; stroke-opacity:1; fill:none\" points=\"1508.54,47.2441 1508.54,66.1417 \"/>\n",
       "<polyline clip-path=\"url(#clip060)\" style=\"stroke:#000000; stroke-linecap:round; stroke-linejoin:round; stroke-width:4; stroke-opacity:1; fill:none\" points=\"1938.27,47.2441 1938.27,66.1417 \"/>\n",
       "<path clip-path=\"url(#clip060)\" d=\"M196.765 1454.1 Q193.153 1454.1 191.325 1457.66 Q189.519 1461.2 189.519 1468.33 Q189.519 1475.44 191.325 1479.01 Q193.153 1482.55 196.765 1482.55 Q200.399 1482.55 202.204 1479.01 Q204.033 1475.44 204.033 1468.33 Q204.033 1461.2 202.204 1457.66 Q200.399 1454.1 196.765 1454.1 M196.765 1450.39 Q202.575 1450.39 205.63 1455 Q208.709 1459.58 208.709 1468.33 Q208.709 1477.06 205.63 1481.67 Q202.575 1486.25 196.765 1486.25 Q190.954 1486.25 187.876 1481.67 Q184.82 1477.06 184.82 1468.33 Q184.82 1459.58 187.876 1455 Q190.954 1450.39 196.765 1450.39 Z\" fill=\"#000000\" fill-rule=\"nonzero\" fill-opacity=\"1\" /><path clip-path=\"url(#clip060)\" d=\"M216.926 1479.7 L221.811 1479.7 L221.811 1485.58 L216.926 1485.58 L216.926 1479.7 Z\" fill=\"#000000\" fill-rule=\"nonzero\" fill-opacity=\"1\" /><path clip-path=\"url(#clip060)\" d=\"M241.996 1454.1 Q238.385 1454.1 236.556 1457.66 Q234.75 1461.2 234.75 1468.33 Q234.75 1475.44 236.556 1479.01 Q238.385 1482.55 241.996 1482.55 Q245.63 1482.55 247.436 1479.01 Q249.264 1475.44 249.264 1468.33 Q249.264 1461.2 247.436 1457.66 Q245.63 1454.1 241.996 1454.1 M241.996 1450.39 Q247.806 1450.39 250.861 1455 Q253.94 1459.58 253.94 1468.33 Q253.94 1477.06 250.861 1481.67 Q247.806 1486.25 241.996 1486.25 Q236.186 1486.25 233.107 1481.67 Q230.051 1477.06 230.051 1468.33 Q230.051 1459.58 233.107 1455 Q236.186 1450.39 241.996 1450.39 Z\" fill=\"#000000\" fill-rule=\"nonzero\" fill-opacity=\"1\" /><path clip-path=\"url(#clip060)\" d=\"M627.099 1454.1 Q623.488 1454.1 621.66 1457.66 Q619.854 1461.2 619.854 1468.33 Q619.854 1475.44 621.66 1479.01 Q623.488 1482.55 627.099 1482.55 Q630.734 1482.55 632.539 1479.01 Q634.368 1475.44 634.368 1468.33 Q634.368 1461.2 632.539 1457.66 Q630.734 1454.1 627.099 1454.1 M627.099 1450.39 Q632.91 1450.39 635.965 1455 Q639.044 1459.58 639.044 1468.33 Q639.044 1477.06 635.965 1481.67 Q632.91 1486.25 627.099 1486.25 Q621.289 1486.25 618.211 1481.67 Q615.155 1477.06 615.155 1468.33 Q615.155 1459.58 618.211 1455 Q621.289 1450.39 627.099 1450.39 Z\" fill=\"#000000\" fill-rule=\"nonzero\" fill-opacity=\"1\" /><path clip-path=\"url(#clip060)\" d=\"M647.261 1479.7 L652.146 1479.7 L652.146 1485.58 L647.261 1485.58 L647.261 1479.7 Z\" fill=\"#000000\" fill-rule=\"nonzero\" fill-opacity=\"1\" /><path clip-path=\"url(#clip060)\" d=\"M663.141 1481.64 L670.78 1481.64 L670.78 1455.28 L662.47 1456.95 L662.47 1452.69 L670.733 1451.02 L675.409 1451.02 L675.409 1481.64 L683.048 1481.64 L683.048 1485.58 L663.141 1485.58 L663.141 1481.64 Z\" fill=\"#000000\" fill-rule=\"nonzero\" fill-opacity=\"1\" /><path clip-path=\"url(#clip060)\" d=\"M1057.01 1454.1 Q1053.4 1454.1 1051.57 1457.66 Q1049.76 1461.2 1049.76 1468.33 Q1049.76 1475.44 1051.57 1479.01 Q1053.4 1482.55 1057.01 1482.55 Q1060.64 1482.55 1062.45 1479.01 Q1064.27 1475.44 1064.27 1468.33 Q1064.27 1461.2 1062.45 1457.66 Q1060.64 1454.1 1057.01 1454.1 M1057.01 1450.39 Q1062.82 1450.39 1065.87 1455 Q1068.95 1459.58 1068.95 1468.33 Q1068.95 1477.06 1065.87 1481.67 Q1062.82 1486.25 1057.01 1486.25 Q1051.2 1486.25 1048.12 1481.67 Q1045.06 1477.06 1045.06 1468.33 Q1045.06 1459.58 1048.12 1455 Q1051.2 1450.39 1057.01 1450.39 Z\" fill=\"#000000\" fill-rule=\"nonzero\" fill-opacity=\"1\" /><path clip-path=\"url(#clip060)\" d=\"M1077.17 1479.7 L1082.05 1479.7 L1082.05 1485.58 L1077.17 1485.58 L1077.17 1479.7 Z\" fill=\"#000000\" fill-rule=\"nonzero\" fill-opacity=\"1\" /><path clip-path=\"url(#clip060)\" d=\"M1096.27 1481.64 L1112.58 1481.64 L1112.58 1485.58 L1090.64 1485.58 L1090.64 1481.64 Q1093.3 1478.89 1097.89 1474.26 Q1102.49 1469.61 1103.67 1468.27 Q1105.92 1465.74 1106.8 1464.01 Q1107.7 1462.25 1107.7 1460.56 Q1107.7 1457.8 1105.76 1456.07 Q1103.83 1454.33 1100.73 1454.33 Q1098.53 1454.33 1096.08 1455.09 Q1093.65 1455.86 1090.87 1457.41 L1090.87 1452.69 Q1093.7 1451.55 1096.15 1450.97 Q1098.6 1450.39 1100.64 1450.39 Q1106.01 1450.39 1109.2 1453.08 Q1112.4 1455.77 1112.4 1460.26 Q1112.4 1462.39 1111.59 1464.31 Q1110.8 1466.2 1108.7 1468.8 Q1108.12 1469.47 1105.02 1472.69 Q1101.91 1475.88 1096.27 1481.64 Z\" fill=\"#000000\" fill-rule=\"nonzero\" fill-opacity=\"1\" /><path clip-path=\"url(#clip060)\" d=\"M1486.25 1454.1 Q1482.64 1454.1 1480.81 1457.66 Q1479.01 1461.2 1479.01 1468.33 Q1479.01 1475.44 1480.81 1479.01 Q1482.64 1482.55 1486.25 1482.55 Q1489.89 1482.55 1491.69 1479.01 Q1493.52 1475.44 1493.52 1468.33 Q1493.52 1461.2 1491.69 1457.66 Q1489.89 1454.1 1486.25 1454.1 M1486.25 1450.39 Q1492.06 1450.39 1495.12 1455 Q1498.2 1459.58 1498.2 1468.33 Q1498.2 1477.06 1495.12 1481.67 Q1492.06 1486.25 1486.25 1486.25 Q1480.44 1486.25 1477.36 1481.67 Q1474.31 1477.06 1474.31 1468.33 Q1474.31 1459.58 1477.36 1455 Q1480.44 1450.39 1486.25 1450.39 Z\" fill=\"#000000\" fill-rule=\"nonzero\" fill-opacity=\"1\" /><path clip-path=\"url(#clip060)\" d=\"M1506.41 1479.7 L1511.3 1479.7 L1511.3 1485.58 L1506.41 1485.58 L1506.41 1479.7 Z\" fill=\"#000000\" fill-rule=\"nonzero\" fill-opacity=\"1\" /><path clip-path=\"url(#clip060)\" d=\"M1535.65 1466.95 Q1539.01 1467.66 1540.88 1469.93 Q1542.78 1472.2 1542.78 1475.53 Q1542.78 1480.65 1539.26 1483.45 Q1535.74 1486.25 1529.26 1486.25 Q1527.09 1486.25 1524.77 1485.81 Q1522.48 1485.39 1520.03 1484.54 L1520.03 1480.02 Q1521.97 1481.16 1524.29 1481.74 Q1526.6 1482.32 1529.12 1482.32 Q1533.52 1482.32 1535.81 1480.58 Q1538.13 1478.84 1538.13 1475.53 Q1538.13 1472.48 1535.98 1470.77 Q1533.85 1469.03 1530.03 1469.03 L1526 1469.03 L1526 1465.19 L1530.21 1465.19 Q1533.66 1465.19 1535.49 1463.82 Q1537.32 1462.43 1537.32 1459.84 Q1537.32 1457.18 1535.42 1455.77 Q1533.54 1454.33 1530.03 1454.33 Q1528.1 1454.33 1525.91 1454.75 Q1523.71 1455.16 1521.07 1456.04 L1521.07 1451.88 Q1523.73 1451.14 1526.04 1450.77 Q1528.38 1450.39 1530.44 1450.39 Q1535.77 1450.39 1538.87 1452.83 Q1541.97 1455.23 1541.97 1459.35 Q1541.97 1462.22 1540.33 1464.21 Q1538.68 1466.18 1535.65 1466.95 Z\" fill=\"#000000\" fill-rule=\"nonzero\" fill-opacity=\"1\" /><path clip-path=\"url(#clip060)\" d=\"M1915.41 1454.1 Q1911.8 1454.1 1909.97 1457.66 Q1908.16 1461.2 1908.16 1468.33 Q1908.16 1475.44 1909.97 1479.01 Q1911.8 1482.55 1915.41 1482.55 Q1919.04 1482.55 1920.85 1479.01 Q1922.68 1475.44 1922.68 1468.33 Q1922.68 1461.2 1920.85 1457.66 Q1919.04 1454.1 1915.41 1454.1 M1915.41 1450.39 Q1921.22 1450.39 1924.27 1455 Q1927.35 1459.58 1927.35 1468.33 Q1927.35 1477.06 1924.27 1481.67 Q1921.22 1486.25 1915.41 1486.25 Q1909.6 1486.25 1906.52 1481.67 Q1903.46 1477.06 1903.46 1468.33 Q1903.46 1459.58 1906.52 1455 Q1909.6 1450.39 1915.41 1450.39 Z\" fill=\"#000000\" fill-rule=\"nonzero\" fill-opacity=\"1\" /><path clip-path=\"url(#clip060)\" d=\"M1935.57 1479.7 L1940.45 1479.7 L1940.45 1485.58 L1935.57 1485.58 L1935.57 1479.7 Z\" fill=\"#000000\" fill-rule=\"nonzero\" fill-opacity=\"1\" /><path clip-path=\"url(#clip060)\" d=\"M1963.49 1455.09 L1951.68 1473.54 L1963.49 1473.54 L1963.49 1455.09 M1962.26 1451.02 L1968.14 1451.02 L1968.14 1473.54 L1973.07 1473.54 L1973.07 1477.43 L1968.14 1477.43 L1968.14 1485.58 L1963.49 1485.58 L1963.49 1477.43 L1947.88 1477.43 L1947.88 1472.92 L1962.26 1451.02 Z\" fill=\"#000000\" fill-rule=\"nonzero\" fill-opacity=\"1\" /><path clip-path=\"url(#clip060)\" d=\"M986.864 1525.81 L986.864 1543.66 L994.948 1543.66 Q999.436 1543.66 1001.89 1541.34 Q1004.34 1539.02 1004.34 1534.72 Q1004.34 1530.45 1001.89 1528.13 Q999.436 1525.81 994.948 1525.81 L986.864 1525.81 M980.435 1520.52 L994.948 1520.52 Q1002.94 1520.52 1007.01 1524.15 Q1011.12 1527.75 1011.12 1534.72 Q1011.12 1541.75 1007.01 1545.35 Q1002.94 1548.95 994.948 1548.95 L986.864 1548.95 L986.864 1568.04 L980.435 1568.04 L980.435 1520.52 Z\" fill=\"#000000\" fill-rule=\"nonzero\" fill-opacity=\"1\" /><path clip-path=\"url(#clip060)\" d=\"M1030.98 1536.5 Q1026.27 1536.5 1023.53 1540.19 Q1020.79 1543.85 1020.79 1550.25 Q1020.79 1556.65 1023.5 1560.34 Q1026.24 1564 1030.98 1564 Q1035.66 1564 1038.39 1560.31 Q1041.13 1556.62 1041.13 1550.25 Q1041.13 1543.92 1038.39 1540.23 Q1035.66 1536.5 1030.98 1536.5 M1030.98 1531.54 Q1038.62 1531.54 1042.98 1536.5 Q1047.34 1541.47 1047.34 1550.25 Q1047.34 1559 1042.98 1564 Q1038.62 1568.97 1030.98 1568.97 Q1023.31 1568.97 1018.95 1564 Q1014.62 1559 1014.62 1550.25 Q1014.62 1541.47 1018.95 1536.5 Q1023.31 1531.54 1030.98 1531.54 Z\" fill=\"#000000\" fill-rule=\"nonzero\" fill-opacity=\"1\" /><path clip-path=\"url(#clip060)\" d=\"M1077.7 1537.87 Q1076.72 1537.3 1075.54 1537.04 Q1074.39 1536.76 1072.99 1536.76 Q1068.03 1536.76 1065.35 1540 Q1062.71 1543.22 1062.71 1549.27 L1062.71 1568.04 L1056.82 1568.04 L1056.82 1532.4 L1062.71 1532.4 L1062.71 1537.93 Q1064.56 1534.69 1067.52 1533.13 Q1070.48 1531.54 1074.71 1531.54 Q1075.32 1531.54 1076.05 1531.63 Q1076.78 1531.7 1077.67 1531.85 L1077.7 1537.87 Z\" fill=\"#000000\" fill-rule=\"nonzero\" fill-opacity=\"1\" /><path clip-path=\"url(#clip060)\" d=\"M1089.64 1522.27 L1089.64 1532.4 L1101.7 1532.4 L1101.7 1536.95 L1089.64 1536.95 L1089.64 1556.3 Q1089.64 1560.66 1090.82 1561.9 Q1092.03 1563.14 1095.69 1563.14 L1101.7 1563.14 L1101.7 1568.04 L1095.69 1568.04 Q1088.91 1568.04 1086.33 1565.53 Q1083.75 1562.98 1083.75 1556.3 L1083.75 1536.95 L1079.45 1536.95 L1079.45 1532.4 L1083.75 1532.4 L1083.75 1522.27 L1089.64 1522.27 Z\" fill=\"#000000\" fill-rule=\"nonzero\" fill-opacity=\"1\" /><path clip-path=\"url(#clip060)\" d=\"M1127.45 1518.52 L1127.45 1523.39 L1121.85 1523.39 Q1118.7 1523.39 1117.46 1524.66 Q1116.25 1525.93 1116.25 1529.24 L1116.25 1532.4 L1125.89 1532.4 L1125.89 1536.95 L1116.25 1536.95 L1116.25 1568.04 L1110.36 1568.04 L1110.36 1536.95 L1104.76 1536.95 L1104.76 1532.4 L1110.36 1532.4 L1110.36 1529.91 Q1110.36 1523.96 1113.13 1521.26 Q1115.9 1518.52 1121.91 1518.52 L1127.45 1518.52 Z\" fill=\"#000000\" fill-rule=\"nonzero\" fill-opacity=\"1\" /><path clip-path=\"url(#clip060)\" d=\"M1146.17 1536.5 Q1141.46 1536.5 1138.72 1540.19 Q1135.98 1543.85 1135.98 1550.25 Q1135.98 1556.65 1138.69 1560.34 Q1141.42 1564 1146.17 1564 Q1150.84 1564 1153.58 1560.31 Q1156.32 1556.62 1156.32 1550.25 Q1156.32 1543.92 1153.58 1540.23 Q1150.84 1536.5 1146.17 1536.5 M1146.17 1531.54 Q1153.8 1531.54 1158.17 1536.5 Q1162.53 1541.47 1162.53 1550.25 Q1162.53 1559 1158.17 1564 Q1153.8 1568.97 1146.17 1568.97 Q1138.5 1568.97 1134.13 1564 Q1129.81 1559 1129.81 1550.25 Q1129.81 1541.47 1134.13 1536.5 Q1138.5 1531.54 1146.17 1531.54 Z\" fill=\"#000000\" fill-rule=\"nonzero\" fill-opacity=\"1\" /><path clip-path=\"url(#clip060)\" d=\"M1172.23 1518.52 L1178.09 1518.52 L1178.09 1568.04 L1172.23 1568.04 L1172.23 1518.52 Z\" fill=\"#000000\" fill-rule=\"nonzero\" fill-opacity=\"1\" /><path clip-path=\"url(#clip060)\" d=\"M1190.34 1532.4 L1196.2 1532.4 L1196.2 1568.04 L1190.34 1568.04 L1190.34 1532.4 M1190.34 1518.52 L1196.2 1518.52 L1196.2 1525.93 L1190.34 1525.93 L1190.34 1518.52 Z\" fill=\"#000000\" fill-rule=\"nonzero\" fill-opacity=\"1\" /><path clip-path=\"url(#clip060)\" d=\"M1222.27 1536.5 Q1217.56 1536.5 1214.82 1540.19 Q1212.08 1543.85 1212.08 1550.25 Q1212.08 1556.65 1214.79 1560.34 Q1217.53 1564 1222.27 1564 Q1226.95 1564 1229.68 1560.31 Q1232.42 1556.62 1232.42 1550.25 Q1232.42 1543.92 1229.68 1540.23 Q1226.95 1536.5 1222.27 1536.5 M1222.27 1531.54 Q1229.91 1531.54 1234.27 1536.5 Q1238.63 1541.47 1238.63 1550.25 Q1238.63 1559 1234.27 1564 Q1229.91 1568.97 1222.27 1568.97 Q1214.6 1568.97 1210.24 1564 Q1205.91 1559 1205.91 1550.25 Q1205.91 1541.47 1210.24 1536.5 Q1214.6 1531.54 1222.27 1531.54 Z\" fill=\"#000000\" fill-rule=\"nonzero\" fill-opacity=\"1\" /><path clip-path=\"url(#clip060)\" d=\"M1291.84 1545.76 Q1293.91 1546.46 1295.86 1548.76 Q1297.83 1551.05 1299.8 1555.06 L1306.33 1568.04 L1299.42 1568.04 L1293.34 1555.85 Q1290.99 1551.08 1288.76 1549.52 Q1286.56 1547.96 1282.74 1547.96 L1275.74 1547.96 L1275.74 1568.04 L1269.31 1568.04 L1269.31 1520.52 L1283.82 1520.52 Q1291.97 1520.52 1295.98 1523.93 Q1299.99 1527.34 1299.99 1534.21 Q1299.99 1538.7 1297.89 1541.66 Q1295.82 1544.62 1291.84 1545.76 M1275.74 1525.81 L1275.74 1542.68 L1283.82 1542.68 Q1288.47 1542.68 1290.83 1540.54 Q1293.21 1538.38 1293.21 1534.21 Q1293.21 1530.04 1290.83 1527.94 Q1288.47 1525.81 1283.82 1525.81 L1275.74 1525.81 Z\" fill=\"#000000\" fill-rule=\"nonzero\" fill-opacity=\"1\" /><path clip-path=\"url(#clip060)\" d=\"M1314.35 1532.4 L1320.2 1532.4 L1320.2 1568.04 L1314.35 1568.04 L1314.35 1532.4 M1314.35 1518.52 L1320.2 1518.52 L1320.2 1525.93 L1314.35 1525.93 L1314.35 1518.52 Z\" fill=\"#000000\" fill-rule=\"nonzero\" fill-opacity=\"1\" /><path clip-path=\"url(#clip060)\" d=\"M1355.18 1533.45 L1355.18 1538.98 Q1352.7 1537.71 1350.03 1537.07 Q1347.35 1536.44 1344.49 1536.44 Q1340.13 1536.44 1337.93 1537.77 Q1335.77 1539.11 1335.77 1541.79 Q1335.77 1543.82 1337.33 1545 Q1338.89 1546.15 1343.6 1547.2 L1345.6 1547.64 Q1351.84 1548.98 1354.45 1551.43 Q1357.09 1553.85 1357.09 1558.21 Q1357.09 1563.17 1353.15 1566.07 Q1349.23 1568.97 1342.36 1568.97 Q1339.49 1568.97 1336.37 1568.39 Q1333.29 1567.85 1329.85 1566.74 L1329.85 1560.69 Q1333.09 1562.38 1336.25 1563.24 Q1339.4 1564.07 1342.48 1564.07 Q1346.62 1564.07 1348.85 1562.66 Q1351.08 1561.23 1351.08 1558.65 Q1351.08 1556.27 1349.45 1554.99 Q1347.86 1553.72 1342.42 1552.54 L1340.38 1552.07 Q1334.94 1550.92 1332.52 1548.56 Q1330.1 1546.18 1330.1 1542.04 Q1330.1 1537.01 1333.67 1534.27 Q1337.23 1531.54 1343.79 1531.54 Q1347.04 1531.54 1349.9 1532.01 Q1352.76 1532.49 1355.18 1533.45 Z\" fill=\"#000000\" fill-rule=\"nonzero\" fill-opacity=\"1\" /><path clip-path=\"url(#clip060)\" d=\"M1366.2 1518.52 L1372.08 1518.52 L1372.08 1547.77 L1389.56 1532.4 L1397.04 1532.4 L1378.13 1549.07 L1397.83 1568.04 L1390.2 1568.04 L1372.08 1550.63 L1372.08 1568.04 L1366.2 1568.04 L1366.2 1518.52 Z\" fill=\"#000000\" fill-rule=\"nonzero\" fill-opacity=\"1\" /><path clip-path=\"url(#clip060)\" d=\"M1438.96 1518.58 Q1434.69 1525.9 1432.62 1533.06 Q1430.55 1540.23 1430.55 1547.58 Q1430.55 1554.93 1432.62 1562.16 Q1434.72 1569.35 1438.96 1576.64 L1433.86 1576.64 Q1429.09 1569.16 1426.7 1561.93 Q1424.35 1554.71 1424.35 1547.58 Q1424.35 1540.48 1426.7 1533.29 Q1429.06 1526.09 1433.86 1518.58 L1438.96 1518.58 Z\" fill=\"#000000\" fill-rule=\"nonzero\" fill-opacity=\"1\" /><path clip-path=\"url(#clip060)\" d=\"M1473.04 1533.45 L1473.04 1538.98 Q1470.56 1537.71 1467.89 1537.07 Q1465.21 1536.44 1462.35 1536.44 Q1457.99 1536.44 1455.79 1537.77 Q1453.63 1539.11 1453.63 1541.79 Q1453.63 1543.82 1455.19 1545 Q1456.75 1546.15 1461.46 1547.2 L1463.46 1547.64 Q1469.7 1548.98 1472.31 1551.43 Q1474.95 1553.85 1474.95 1558.21 Q1474.95 1563.17 1471.01 1566.07 Q1467.09 1568.97 1460.22 1568.97 Q1457.35 1568.97 1454.23 1568.39 Q1451.15 1567.85 1447.71 1566.74 L1447.71 1560.69 Q1450.96 1562.38 1454.11 1563.24 Q1457.26 1564.07 1460.35 1564.07 Q1464.48 1564.07 1466.71 1562.66 Q1468.94 1561.23 1468.94 1558.65 Q1468.94 1556.27 1467.32 1554.99 Q1465.72 1553.72 1460.28 1552.54 L1458.24 1552.07 Q1452.8 1550.92 1450.38 1548.56 Q1447.96 1546.18 1447.96 1542.04 Q1447.96 1537.01 1451.53 1534.27 Q1455.09 1531.54 1461.65 1531.54 Q1464.9 1531.54 1467.76 1532.01 Q1470.63 1532.49 1473.04 1533.45 Z\" fill=\"#000000\" fill-rule=\"nonzero\" fill-opacity=\"1\" /><path clip-path=\"url(#clip060)\" d=\"M1487.78 1550.25 Q1487.78 1556.71 1490.42 1560.4 Q1493.1 1564.07 1497.74 1564.07 Q1502.39 1564.07 1505.06 1560.4 Q1507.74 1556.71 1507.74 1550.25 Q1507.74 1543.79 1505.06 1540.13 Q1502.39 1536.44 1497.74 1536.44 Q1493.1 1536.44 1490.42 1540.13 Q1487.78 1543.79 1487.78 1550.25 M1507.74 1562.7 Q1505.89 1565.88 1503.06 1567.44 Q1500.26 1568.97 1496.31 1568.97 Q1489.85 1568.97 1485.78 1563.81 Q1481.73 1558.65 1481.73 1550.25 Q1481.73 1541.85 1485.78 1536.69 Q1489.85 1531.54 1496.31 1531.54 Q1500.26 1531.54 1503.06 1533.1 Q1505.89 1534.62 1507.74 1537.81 L1507.74 1532.4 L1513.59 1532.4 L1513.59 1581.6 L1507.74 1581.6 L1507.74 1562.7 Z\" fill=\"#000000\" fill-rule=\"nonzero\" fill-opacity=\"1\" /><path clip-path=\"url(#clip060)\" d=\"M1546.31 1537.87 Q1545.33 1537.3 1544.15 1537.04 Q1543 1536.76 1541.6 1536.76 Q1536.64 1536.76 1533.96 1540 Q1531.32 1543.22 1531.32 1549.27 L1531.32 1568.04 L1525.43 1568.04 L1525.43 1532.4 L1531.32 1532.4 L1531.32 1537.93 Q1533.17 1534.69 1536.13 1533.13 Q1539.09 1531.54 1543.32 1531.54 Q1543.93 1531.54 1544.66 1531.63 Q1545.39 1531.7 1546.28 1531.85 L1546.31 1537.87 Z\" fill=\"#000000\" fill-rule=\"nonzero\" fill-opacity=\"1\" /><path clip-path=\"url(#clip060)\" d=\"M1558.25 1522.27 L1558.25 1532.4 L1570.31 1532.4 L1570.31 1536.95 L1558.25 1536.95 L1558.25 1556.3 Q1558.25 1560.66 1559.43 1561.9 Q1560.64 1563.14 1564.3 1563.14 L1570.31 1563.14 L1570.31 1568.04 L1564.3 1568.04 Q1557.52 1568.04 1554.94 1565.53 Q1552.36 1562.98 1552.36 1556.3 L1552.36 1536.95 L1548.06 1536.95 L1548.06 1532.4 L1552.36 1532.4 L1552.36 1522.27 L1558.25 1522.27 Z\" fill=\"#000000\" fill-rule=\"nonzero\" fill-opacity=\"1\" /><path clip-path=\"url(#clip060)\" d=\"M1577.09 1518.58 L1582.18 1518.58 Q1586.96 1526.09 1589.31 1533.29 Q1591.7 1540.48 1591.7 1547.58 Q1591.7 1554.71 1589.31 1561.93 Q1586.96 1569.16 1582.18 1576.64 L1577.09 1576.64 Q1581.33 1569.35 1583.39 1562.16 Q1585.49 1554.93 1585.49 1547.58 Q1585.49 1540.23 1583.39 1533.06 Q1581.33 1525.9 1577.09 1518.58 Z\" fill=\"#000000\" fill-rule=\"nonzero\" fill-opacity=\"1\" /><polyline clip-path=\"url(#clip060)\" style=\"stroke:#000000; stroke-linecap:round; stroke-linejoin:round; stroke-width:4; stroke-opacity:1; fill:none\" points=\"219.38,1423.18 219.38,47.2441 \"/>\n",
       "<polyline clip-path=\"url(#clip060)\" style=\"stroke:#000000; stroke-linecap:round; stroke-linejoin:round; stroke-width:4; stroke-opacity:1; fill:none\" points=\"2352.76,1423.18 2352.76,47.2441 \"/>\n",
       "<polyline clip-path=\"url(#clip060)\" style=\"stroke:#000000; stroke-linecap:round; stroke-linejoin:round; stroke-width:4; stroke-opacity:1; fill:none\" points=\"219.38,1384.24 238.278,1384.24 \"/>\n",
       "<polyline clip-path=\"url(#clip060)\" style=\"stroke:#000000; stroke-linecap:round; stroke-linejoin:round; stroke-width:4; stroke-opacity:1; fill:none\" points=\"219.38,1040.43 238.278,1040.43 \"/>\n",
       "<polyline clip-path=\"url(#clip060)\" style=\"stroke:#000000; stroke-linecap:round; stroke-linejoin:round; stroke-width:4; stroke-opacity:1; fill:none\" points=\"219.38,696.621 238.278,696.621 \"/>\n",
       "<polyline clip-path=\"url(#clip060)\" style=\"stroke:#000000; stroke-linecap:round; stroke-linejoin:round; stroke-width:4; stroke-opacity:1; fill:none\" points=\"219.38,352.813 238.278,352.813 \"/>\n",
       "<polyline clip-path=\"url(#clip060)\" style=\"stroke:#000000; stroke-linecap:round; stroke-linejoin:round; stroke-width:4; stroke-opacity:1; fill:none\" points=\"2352.76,1384.24 2333.86,1384.24 \"/>\n",
       "<polyline clip-path=\"url(#clip060)\" style=\"stroke:#000000; stroke-linecap:round; stroke-linejoin:round; stroke-width:4; stroke-opacity:1; fill:none\" points=\"2352.76,1040.43 2333.86,1040.43 \"/>\n",
       "<polyline clip-path=\"url(#clip060)\" style=\"stroke:#000000; stroke-linecap:round; stroke-linejoin:round; stroke-width:4; stroke-opacity:1; fill:none\" points=\"2352.76,696.621 2333.86,696.621 \"/>\n",
       "<polyline clip-path=\"url(#clip060)\" style=\"stroke:#000000; stroke-linecap:round; stroke-linejoin:round; stroke-width:4; stroke-opacity:1; fill:none\" points=\"2352.76,352.813 2333.86,352.813 \"/>\n",
       "<path clip-path=\"url(#clip060)\" d=\"M126.205 1370.04 Q122.593 1370.04 120.765 1373.6 Q118.959 1377.14 118.959 1384.27 Q118.959 1391.38 120.765 1394.94 Q122.593 1398.49 126.205 1398.49 Q129.839 1398.49 131.644 1394.94 Q133.473 1391.38 133.473 1384.27 Q133.473 1377.14 131.644 1373.6 Q129.839 1370.04 126.205 1370.04 M126.205 1366.33 Q132.015 1366.33 135.07 1370.94 Q138.149 1375.52 138.149 1384.27 Q138.149 1393 135.07 1397.61 Q132.015 1402.19 126.205 1402.19 Q120.394 1402.19 117.316 1397.61 Q114.26 1393 114.26 1384.27 Q114.26 1375.52 117.316 1370.94 Q120.394 1366.33 126.205 1366.33 Z\" fill=\"#000000\" fill-rule=\"nonzero\" fill-opacity=\"1\" /><path clip-path=\"url(#clip060)\" d=\"M146.366 1395.64 L151.251 1395.64 L151.251 1401.52 L146.366 1401.52 L146.366 1395.64 Z\" fill=\"#000000\" fill-rule=\"nonzero\" fill-opacity=\"1\" /><path clip-path=\"url(#clip060)\" d=\"M171.436 1370.04 Q167.825 1370.04 165.996 1373.6 Q164.19 1377.14 164.19 1384.27 Q164.19 1391.38 165.996 1394.94 Q167.825 1398.49 171.436 1398.49 Q175.07 1398.49 176.876 1394.94 Q178.704 1391.38 178.704 1384.27 Q178.704 1377.14 176.876 1373.6 Q175.07 1370.04 171.436 1370.04 M171.436 1366.33 Q177.246 1366.33 180.301 1370.94 Q183.38 1375.52 183.38 1384.27 Q183.38 1393 180.301 1397.61 Q177.246 1402.19 171.436 1402.19 Q165.626 1402.19 162.547 1397.61 Q159.491 1393 159.491 1384.27 Q159.491 1375.52 162.547 1370.94 Q165.626 1366.33 171.436 1366.33 Z\" fill=\"#000000\" fill-rule=\"nonzero\" fill-opacity=\"1\" /><path clip-path=\"url(#clip060)\" d=\"M127.431 1026.23 Q123.82 1026.23 121.992 1029.79 Q120.186 1033.33 120.186 1040.46 Q120.186 1047.57 121.992 1051.14 Q123.82 1054.68 127.431 1054.68 Q131.066 1054.68 132.871 1051.14 Q134.7 1047.57 134.7 1040.46 Q134.7 1033.33 132.871 1029.79 Q131.066 1026.23 127.431 1026.23 M127.431 1022.52 Q133.242 1022.52 136.297 1027.13 Q139.376 1031.71 139.376 1040.46 Q139.376 1049.19 136.297 1053.8 Q133.242 1058.38 127.431 1058.38 Q121.621 1058.38 118.543 1053.8 Q115.487 1049.19 115.487 1040.46 Q115.487 1031.71 118.543 1027.13 Q121.621 1022.52 127.431 1022.52 Z\" fill=\"#000000\" fill-rule=\"nonzero\" fill-opacity=\"1\" /><path clip-path=\"url(#clip060)\" d=\"M147.593 1051.83 L152.478 1051.83 L152.478 1057.71 L147.593 1057.71 L147.593 1051.83 Z\" fill=\"#000000\" fill-rule=\"nonzero\" fill-opacity=\"1\" /><path clip-path=\"url(#clip060)\" d=\"M163.473 1053.77 L171.112 1053.77 L171.112 1027.41 L162.802 1029.08 L162.802 1024.82 L171.065 1023.15 L175.741 1023.15 L175.741 1053.77 L183.38 1053.77 L183.38 1057.71 L163.473 1057.71 L163.473 1053.77 Z\" fill=\"#000000\" fill-rule=\"nonzero\" fill-opacity=\"1\" /><path clip-path=\"url(#clip060)\" d=\"M127.802 682.42 Q124.191 682.42 122.362 685.985 Q120.556 689.526 120.556 696.656 Q120.556 703.762 122.362 707.327 Q124.191 710.869 127.802 710.869 Q131.436 710.869 133.242 707.327 Q135.07 703.762 135.07 696.656 Q135.07 689.526 133.242 685.985 Q131.436 682.42 127.802 682.42 M127.802 678.716 Q133.612 678.716 136.667 683.323 Q139.746 687.906 139.746 696.656 Q139.746 705.383 136.667 709.989 Q133.612 714.572 127.802 714.572 Q121.992 714.572 118.913 709.989 Q115.857 705.383 115.857 696.656 Q115.857 687.906 118.913 683.323 Q121.992 678.716 127.802 678.716 Z\" fill=\"#000000\" fill-rule=\"nonzero\" fill-opacity=\"1\" /><path clip-path=\"url(#clip060)\" d=\"M147.964 708.022 L152.848 708.022 L152.848 713.901 L147.964 713.901 L147.964 708.022 Z\" fill=\"#000000\" fill-rule=\"nonzero\" fill-opacity=\"1\" /><path clip-path=\"url(#clip060)\" d=\"M167.061 709.966 L183.38 709.966 L183.38 713.901 L161.436 713.901 L161.436 709.966 Q164.098 707.211 168.681 702.582 Q173.288 697.929 174.468 696.586 Q176.714 694.063 177.593 692.327 Q178.496 690.568 178.496 688.878 Q178.496 686.124 176.551 684.387 Q174.63 682.651 171.528 682.651 Q169.329 682.651 166.876 683.415 Q164.445 684.179 161.667 685.73 L161.667 681.008 Q164.491 679.874 166.945 679.295 Q169.399 678.716 171.436 678.716 Q176.806 678.716 180.001 681.401 Q183.195 684.087 183.195 688.577 Q183.195 690.707 182.385 692.628 Q181.598 694.526 179.491 697.119 Q178.913 697.79 175.811 701.008 Q172.709 704.202 167.061 709.966 Z\" fill=\"#000000\" fill-rule=\"nonzero\" fill-opacity=\"1\" /><path clip-path=\"url(#clip060)\" d=\"M126.853 338.611 Q123.242 338.611 121.413 342.176 Q119.607 345.718 119.607 352.847 Q119.607 359.954 121.413 363.519 Q123.242 367.06 126.853 367.06 Q130.487 367.06 132.292 363.519 Q134.121 359.954 134.121 352.847 Q134.121 345.718 132.292 342.176 Q130.487 338.611 126.853 338.611 M126.853 334.908 Q132.663 334.908 135.718 339.514 Q138.797 344.097 138.797 352.847 Q138.797 361.574 135.718 366.181 Q132.663 370.764 126.853 370.764 Q121.043 370.764 117.964 366.181 Q114.908 361.574 114.908 352.847 Q114.908 344.097 117.964 339.514 Q121.043 334.908 126.853 334.908 Z\" fill=\"#000000\" fill-rule=\"nonzero\" fill-opacity=\"1\" /><path clip-path=\"url(#clip060)\" d=\"M147.015 364.213 L151.899 364.213 L151.899 370.093 L147.015 370.093 L147.015 364.213 Z\" fill=\"#000000\" fill-rule=\"nonzero\" fill-opacity=\"1\" /><path clip-path=\"url(#clip060)\" d=\"M176.251 351.459 Q179.607 352.176 181.482 354.445 Q183.38 356.713 183.38 360.046 Q183.38 365.162 179.862 367.963 Q176.343 370.764 169.862 370.764 Q167.686 370.764 165.371 370.324 Q163.079 369.907 160.626 369.051 L160.626 364.537 Q162.57 365.671 164.885 366.25 Q167.2 366.829 169.723 366.829 Q174.121 366.829 176.413 365.093 Q178.727 363.357 178.727 360.046 Q178.727 356.991 176.575 355.278 Q174.445 353.542 170.626 353.542 L166.598 353.542 L166.598 349.699 L170.811 349.699 Q174.26 349.699 176.089 348.334 Q177.917 346.945 177.917 344.352 Q177.917 341.69 176.019 340.278 Q174.144 338.843 170.626 338.843 Q168.704 338.843 166.505 339.259 Q164.306 339.676 161.667 340.556 L161.667 336.389 Q164.329 335.648 166.644 335.278 Q168.982 334.908 171.042 334.908 Q176.366 334.908 179.468 337.338 Q182.57 339.746 182.57 343.866 Q182.57 346.736 180.926 348.727 Q179.283 350.695 176.251 351.459 Z\" fill=\"#000000\" fill-rule=\"nonzero\" fill-opacity=\"1\" /><path clip-path=\"url(#clip060)\" d=\"M21.7677 1277.87 L39.6235 1277.87 L39.6235 1269.79 Q39.6235 1265.3 37.3 1262.85 Q34.9765 1260.4 30.6797 1260.4 Q26.4147 1260.4 24.0912 1262.85 Q21.7677 1265.3 21.7677 1269.79 L21.7677 1277.87 M16.4842 1284.3 L16.4842 1269.79 Q16.4842 1261.8 20.1126 1257.73 Q23.7092 1253.62 30.6797 1253.62 Q37.7138 1253.62 41.3104 1257.73 Q44.907 1261.8 44.907 1269.79 L44.907 1277.87 L64.0042 1277.87 L64.0042 1284.3 L16.4842 1284.3 Z\" fill=\"#000000\" fill-rule=\"nonzero\" fill-opacity=\"1\" /><path clip-path=\"url(#clip060)\" d=\"M32.4621 1233.76 Q32.4621 1238.47 36.1542 1241.21 Q39.8145 1243.94 46.212 1243.94 Q52.6095 1243.94 56.3017 1241.24 Q59.9619 1238.5 59.9619 1233.76 Q59.9619 1229.08 56.2698 1226.34 Q52.5777 1223.6 46.212 1223.6 Q39.8781 1223.6 36.186 1226.34 Q32.4621 1229.08 32.4621 1233.76 M27.4968 1233.76 Q27.4968 1226.12 32.4621 1221.76 Q37.4273 1217.4 46.212 1217.4 Q54.9649 1217.4 59.9619 1221.76 Q64.9272 1226.12 64.9272 1233.76 Q64.9272 1241.43 59.9619 1245.79 Q54.9649 1250.12 46.212 1250.12 Q37.4273 1250.12 32.4621 1245.79 Q27.4968 1241.43 27.4968 1233.76 Z\" fill=\"#000000\" fill-rule=\"nonzero\" fill-opacity=\"1\" /><path clip-path=\"url(#clip060)\" d=\"M33.8307 1187.03 Q33.2578 1188.02 33.0032 1189.2 Q32.7167 1190.34 32.7167 1191.74 Q32.7167 1196.71 35.9632 1199.38 Q39.1779 1202.03 45.2253 1202.03 L64.0042 1202.03 L64.0042 1207.91 L28.3562 1207.91 L28.3562 1202.03 L33.8944 1202.03 Q30.6479 1200.18 29.0883 1197.22 Q27.4968 1194.26 27.4968 1190.03 Q27.4968 1189.42 27.5923 1188.69 Q27.656 1187.96 27.8151 1187.07 L33.8307 1187.03 Z\" fill=\"#000000\" fill-rule=\"nonzero\" fill-opacity=\"1\" /><path clip-path=\"url(#clip060)\" d=\"M18.2347 1175.1 L28.3562 1175.1 L28.3562 1163.04 L32.9077 1163.04 L32.9077 1175.1 L52.2594 1175.1 Q56.6199 1175.1 57.8613 1173.92 Q59.1026 1172.71 59.1026 1169.05 L59.1026 1163.04 L64.0042 1163.04 L64.0042 1169.05 Q64.0042 1175.83 61.4897 1178.41 Q58.9434 1180.99 52.2594 1180.99 L32.9077 1180.99 L32.9077 1185.28 L28.3562 1185.28 L28.3562 1180.99 L18.2347 1180.99 L18.2347 1175.1 Z\" fill=\"#000000\" fill-rule=\"nonzero\" fill-opacity=\"1\" /><path clip-path=\"url(#clip060)\" d=\"M14.479 1137.29 L19.3487 1137.29 L19.3487 1142.89 Q19.3487 1146.04 20.6219 1147.28 Q21.895 1148.49 25.2052 1148.49 L28.3562 1148.49 L28.3562 1138.85 L32.9077 1138.85 L32.9077 1148.49 L64.0042 1148.49 L64.0042 1154.38 L32.9077 1154.38 L32.9077 1159.98 L28.3562 1159.98 L28.3562 1154.38 L25.8736 1154.38 Q19.9216 1154.38 17.2162 1151.61 Q14.479 1148.84 14.479 1142.82 L14.479 1137.29 Z\" fill=\"#000000\" fill-rule=\"nonzero\" fill-opacity=\"1\" /><path clip-path=\"url(#clip060)\" d=\"M32.4621 1118.57 Q32.4621 1123.28 36.1542 1126.02 Q39.8145 1128.76 46.212 1128.76 Q52.6095 1128.76 56.3017 1126.05 Q59.9619 1123.31 59.9619 1118.57 Q59.9619 1113.89 56.2698 1111.15 Q52.5777 1108.42 46.212 1108.42 Q39.8781 1108.42 36.186 1111.15 Q32.4621 1113.89 32.4621 1118.57 M27.4968 1118.57 Q27.4968 1110.93 32.4621 1106.57 Q37.4273 1102.21 46.212 1102.21 Q54.9649 1102.21 59.9619 1106.57 Q64.9272 1110.93 64.9272 1118.57 Q64.9272 1126.24 59.9619 1130.6 Q54.9649 1134.93 46.212 1134.93 Q37.4273 1134.93 32.4621 1130.6 Q27.4968 1126.24 27.4968 1118.57 Z\" fill=\"#000000\" fill-rule=\"nonzero\" fill-opacity=\"1\" /><path clip-path=\"url(#clip060)\" d=\"M14.479 1092.5 L14.479 1086.65 L64.0042 1086.65 L64.0042 1092.5 L14.479 1092.5 Z\" fill=\"#000000\" fill-rule=\"nonzero\" fill-opacity=\"1\" /><path clip-path=\"url(#clip060)\" d=\"M28.3562 1074.39 L28.3562 1068.54 L64.0042 1068.54 L64.0042 1074.39 L28.3562 1074.39 M14.479 1074.39 L14.479 1068.54 L21.895 1068.54 L21.895 1074.39 L14.479 1074.39 Z\" fill=\"#000000\" fill-rule=\"nonzero\" fill-opacity=\"1\" /><path clip-path=\"url(#clip060)\" d=\"M32.4621 1042.47 Q32.4621 1047.18 36.1542 1049.92 Q39.8145 1052.65 46.212 1052.65 Q52.6095 1052.65 56.3017 1049.95 Q59.9619 1047.21 59.9619 1042.47 Q59.9619 1037.79 56.2698 1035.05 Q52.5777 1032.32 46.212 1032.32 Q39.8781 1032.32 36.186 1035.05 Q32.4621 1037.79 32.4621 1042.47 M27.4968 1042.47 Q27.4968 1034.83 32.4621 1030.47 Q37.4273 1026.11 46.212 1026.11 Q54.9649 1026.11 59.9619 1030.47 Q64.9272 1034.83 64.9272 1042.47 Q64.9272 1050.14 59.9619 1054.5 Q54.9649 1058.83 46.212 1058.83 Q37.4273 1058.83 32.4621 1054.5 Q27.4968 1050.14 27.4968 1042.47 Z\" fill=\"#000000\" fill-rule=\"nonzero\" fill-opacity=\"1\" /><path clip-path=\"url(#clip060)\" d=\"M44.7161 965.189 L47.5806 965.189 L47.5806 992.116 Q53.6281 991.734 56.8109 988.488 Q59.9619 985.209 59.9619 979.385 Q59.9619 976.011 59.1344 972.86 Q58.3069 969.677 56.6518 966.558 L62.1899 966.558 Q63.5267 969.709 64.227 973.019 Q64.9272 976.329 64.9272 979.735 Q64.9272 988.265 59.9619 993.262 Q54.9967 998.227 46.5303 998.227 Q37.7774 998.227 32.6531 993.516 Q27.4968 988.774 27.4968 980.753 Q27.4968 973.56 32.1438 969.39 Q36.7589 965.189 44.7161 965.189 M42.9973 971.045 Q38.1912 971.109 35.3266 973.751 Q32.4621 976.361 32.4621 980.69 Q32.4621 985.591 35.2312 988.551 Q38.0002 991.479 43.0292 991.925 L42.9973 971.045 Z\" fill=\"#000000\" fill-rule=\"nonzero\" fill-opacity=\"1\" /><path clip-path=\"url(#clip060)\" d=\"M28.3562 927.09 L45.7028 939.981 L64.0042 926.422 L64.0042 933.329 L49.9996 943.705 L64.0042 954.081 L64.0042 960.988 L45.3526 947.142 L28.3562 959.81 L28.3562 952.903 L41.0558 943.45 L28.3562 933.997 L28.3562 927.09 Z\" fill=\"#000000\" fill-rule=\"nonzero\" fill-opacity=\"1\" /><path clip-path=\"url(#clip060)\" d=\"M29.7248 893.638 L35.1993 893.638 Q33.8307 896.121 33.1623 898.636 Q32.4621 901.118 32.4621 903.664 Q32.4621 909.362 36.0905 912.513 Q39.6872 915.664 46.212 915.664 Q52.7369 915.664 56.3653 912.513 Q59.9619 909.362 59.9619 903.664 Q59.9619 901.118 59.2935 898.636 Q58.5933 896.121 57.2247 893.638 L62.6355 893.638 Q63.7814 896.089 64.3543 898.731 Q64.9272 901.341 64.9272 904.301 Q64.9272 912.354 59.8664 917.096 Q54.8057 921.839 46.212 921.839 Q37.491 921.839 32.4939 917.064 Q27.4968 912.258 27.4968 903.919 Q27.4968 901.214 28.0697 898.636 Q28.6108 896.057 29.7248 893.638 Z\" fill=\"#000000\" fill-rule=\"nonzero\" fill-opacity=\"1\" /><path clip-path=\"url(#clip060)\" d=\"M44.7161 852.962 L47.5806 852.962 L47.5806 879.889 Q53.6281 879.507 56.8109 876.26 Q59.9619 872.982 59.9619 867.157 Q59.9619 863.783 59.1344 860.632 Q58.3069 857.449 56.6518 854.33 L62.1899 854.33 Q63.5267 857.481 64.227 860.791 Q64.9272 864.102 64.9272 867.507 Q64.9272 876.037 59.9619 881.034 Q54.9967 886 46.5303 886 Q37.7774 886 32.6531 881.289 Q27.4968 876.547 27.4968 868.526 Q27.4968 861.333 32.1438 857.163 Q36.7589 852.962 44.7161 852.962 M42.9973 858.818 Q38.1912 858.882 35.3266 861.524 Q32.4621 864.133 32.4621 868.462 Q32.4621 873.364 35.2312 876.324 Q38.0002 879.252 43.0292 879.698 L42.9973 858.818 Z\" fill=\"#000000\" fill-rule=\"nonzero\" fill-opacity=\"1\" /><path clip-path=\"url(#clip060)\" d=\"M29.4065 820.624 L34.9447 820.624 Q33.6716 823.106 33.035 825.78 Q32.3984 828.454 32.3984 831.318 Q32.3984 835.679 33.7352 837.875 Q35.072 840.039 37.7456 840.039 Q39.7826 840.039 40.9603 838.48 Q42.1061 836.92 43.1565 832.209 L43.6021 830.204 Q44.9389 823.966 47.3897 821.356 Q49.8086 818.714 54.1691 818.714 Q59.1344 818.714 62.0308 822.661 Q64.9272 826.576 64.9272 833.451 Q64.9272 836.315 64.3543 839.435 Q63.8132 842.522 62.6992 845.959 L56.6518 845.959 Q58.3387 842.713 59.198 839.562 Q60.0256 836.411 60.0256 833.323 Q60.0256 829.186 58.6251 826.958 Q57.1929 824.73 54.6147 824.73 Q52.2276 824.73 50.9545 826.353 Q49.6813 827.944 48.5037 833.387 L48.0262 835.424 Q46.8804 840.867 44.5251 843.286 Q42.138 845.705 38.0002 845.705 Q32.9713 845.705 30.2341 842.14 Q27.4968 838.575 27.4968 832.018 Q27.4968 828.772 27.9743 825.907 Q28.4517 823.043 29.4065 820.624 Z\" fill=\"#000000\" fill-rule=\"nonzero\" fill-opacity=\"1\" /><path clip-path=\"url(#clip060)\" d=\"M29.4065 786.663 L34.9447 786.663 Q33.6716 789.145 33.035 791.819 Q32.3984 794.493 32.3984 797.357 Q32.3984 801.718 33.7352 803.914 Q35.072 806.078 37.7456 806.078 Q39.7826 806.078 40.9603 804.519 Q42.1061 802.959 43.1565 798.248 L43.6021 796.243 Q44.9389 790.005 47.3897 787.395 Q49.8086 784.753 54.1691 784.753 Q59.1344 784.753 62.0308 788.7 Q64.9272 792.615 64.9272 799.49 Q64.9272 802.354 64.3543 805.473 Q63.8132 808.561 62.6992 811.998 L56.6518 811.998 Q58.3387 808.752 59.198 805.601 Q60.0256 802.45 60.0256 799.362 Q60.0256 795.225 58.6251 792.997 Q57.1929 790.769 54.6147 790.769 Q52.2276 790.769 50.9545 792.392 Q49.6813 793.983 48.5037 799.426 L48.0262 801.463 Q46.8804 806.906 44.5251 809.325 Q42.138 811.744 38.0002 811.744 Q32.9713 811.744 30.2341 808.179 Q27.4968 804.614 27.4968 798.057 Q27.4968 794.811 27.9743 791.946 Q28.4517 789.082 29.4065 786.663 Z\" fill=\"#000000\" fill-rule=\"nonzero\" fill-opacity=\"1\" /><path clip-path=\"url(#clip060)\" d=\"M45.7664 731.249 Q39.4007 731.249 35.8996 733.891 Q32.3984 736.501 32.3984 741.243 Q32.3984 745.954 35.8996 748.596 Q39.4007 751.206 45.7664 751.206 Q52.1003 751.206 55.6014 748.596 Q59.1026 745.954 59.1026 741.243 Q59.1026 736.501 55.6014 733.891 Q52.1003 731.249 45.7664 731.249 M59.58 725.393 Q68.683 725.393 73.1071 729.435 Q77.5631 733.477 77.5631 741.816 Q77.5631 744.904 77.0857 747.641 Q76.6401 750.378 75.6852 752.956 L69.9879 752.956 Q71.3884 750.378 72.0568 747.864 Q72.7252 745.349 72.7252 742.739 Q72.7252 736.978 69.7015 734.114 Q66.7096 731.249 60.6303 731.249 L57.7339 731.249 Q60.885 733.064 62.4446 735.896 Q64.0042 738.729 64.0042 742.676 Q64.0042 749.232 59.0071 753.243 Q54.01 757.253 45.7664 757.253 Q37.491 757.253 32.4939 753.243 Q27.4968 749.232 27.4968 742.676 Q27.4968 738.729 29.0564 735.896 Q30.616 733.064 33.7671 731.249 L28.3562 731.249 L28.3562 725.393 L59.58 725.393 Z\" fill=\"#000000\" fill-rule=\"nonzero\" fill-opacity=\"1\" /><path clip-path=\"url(#clip060)\" d=\"M33.8307 692.673 Q33.2578 693.66 33.0032 694.837 Q32.7167 695.983 32.7167 697.384 Q32.7167 702.349 35.9632 705.023 Q39.1779 707.664 45.2253 707.664 L64.0042 707.664 L64.0042 713.553 L28.3562 713.553 L28.3562 707.664 L33.8944 707.664 Q30.6479 705.818 29.0883 702.858 Q27.4968 699.898 27.4968 695.665 Q27.4968 695.06 27.5923 694.328 Q27.656 693.596 27.8151 692.705 L33.8307 692.673 Z\" fill=\"#000000\" fill-rule=\"nonzero\" fill-opacity=\"1\" /><path clip-path=\"url(#clip060)\" d=\"M32.4621 674.149 Q32.4621 678.86 36.1542 681.597 Q39.8145 684.334 46.212 684.334 Q52.6095 684.334 56.3017 681.629 Q59.9619 678.891 59.9619 674.149 Q59.9619 669.47 56.2698 666.733 Q52.5777 663.996 46.212 663.996 Q39.8781 663.996 36.186 666.733 Q32.4621 669.47 32.4621 674.149 M27.4968 674.149 Q27.4968 666.51 32.4621 662.15 Q37.4273 657.789 46.212 657.789 Q54.9649 657.789 59.9619 662.15 Q64.9272 666.51 64.9272 674.149 Q64.9272 681.82 59.9619 686.18 Q54.9649 690.509 46.212 690.509 Q37.4273 690.509 32.4621 686.18 Q27.4968 681.82 27.4968 674.149 Z\" fill=\"#000000\" fill-rule=\"nonzero\" fill-opacity=\"1\" /><path clip-path=\"url(#clip060)\" d=\"M28.3562 651.487 L28.3562 645.631 L56.1743 638.31 L28.3562 631.021 L28.3562 624.114 L56.1743 616.794 L28.3562 609.505 L28.3562 603.649 L64.0042 612.974 L64.0042 619.881 L34.7856 627.552 L64.0042 635.254 L64.0042 642.161 L28.3562 651.487 Z\" fill=\"#000000\" fill-rule=\"nonzero\" fill-opacity=\"1\" /><path clip-path=\"url(#clip060)\" d=\"M18.2347 588.976 L28.3562 588.976 L28.3562 576.913 L32.9077 576.913 L32.9077 588.976 L52.2594 588.976 Q56.6199 588.976 57.8613 587.798 Q59.1026 586.589 59.1026 582.928 L59.1026 576.913 L64.0042 576.913 L64.0042 582.928 Q64.0042 589.708 61.4897 592.286 Q58.9434 594.864 52.2594 594.864 L32.9077 594.864 L32.9077 599.161 L28.3562 599.161 L28.3562 594.864 L18.2347 594.864 L18.2347 588.976 Z\" fill=\"#000000\" fill-rule=\"nonzero\" fill-opacity=\"1\" /><path clip-path=\"url(#clip060)\" d=\"M42.4881 539.578 L64.0042 539.578 L64.0042 545.434 L42.679 545.434 Q37.6183 545.434 35.1038 547.408 Q32.5894 549.381 32.5894 553.328 Q32.5894 558.07 35.6131 560.808 Q38.6368 563.545 43.8567 563.545 L64.0042 563.545 L64.0042 569.433 L14.479 569.433 L14.479 563.545 L33.8944 563.545 Q30.6797 561.444 29.0883 558.611 Q27.4968 555.747 27.4968 552.023 Q27.4968 545.88 31.3163 542.729 Q35.1038 539.578 42.4881 539.578 Z\" fill=\"#000000\" fill-rule=\"nonzero\" fill-opacity=\"1\" /><path clip-path=\"url(#clip060)\" d=\"M33.8307 486.52 Q33.2578 487.506 33.0032 488.684 Q32.7167 489.83 32.7167 491.23 Q32.7167 496.196 35.9632 498.869 Q39.1779 501.511 45.2253 501.511 L64.0042 501.511 L64.0042 507.399 L28.3562 507.399 L28.3562 501.511 L33.8944 501.511 Q30.6479 499.665 29.0883 496.705 Q27.4968 493.745 27.4968 489.512 Q27.4968 488.907 27.5923 488.175 Q27.656 487.443 27.8151 486.552 L33.8307 486.52 Z\" fill=\"#000000\" fill-rule=\"nonzero\" fill-opacity=\"1\" /><path clip-path=\"url(#clip060)\" d=\"M46.0847 464.176 Q46.0847 471.274 47.7079 474.011 Q49.3312 476.748 53.2461 476.748 Q56.3653 476.748 58.2114 474.711 Q60.0256 472.642 60.0256 469.11 Q60.0256 464.24 56.5881 461.312 Q53.1188 458.351 47.3897 458.351 L46.0847 458.351 L46.0847 464.176 M43.6657 452.495 L64.0042 452.495 L64.0042 458.351 L58.5933 458.351 Q61.8398 460.357 63.3994 463.349 Q64.9272 466.34 64.9272 470.669 Q64.9272 476.144 61.8716 479.39 Q58.7843 482.605 53.6281 482.605 Q47.6125 482.605 44.5569 478.594 Q41.5014 474.552 41.5014 466.563 L41.5014 458.351 L40.9285 458.351 Q36.8862 458.351 34.6901 461.025 Q32.4621 463.667 32.4621 468.473 Q32.4621 471.528 33.1941 474.425 Q33.9262 477.321 35.3903 479.995 L29.9795 479.995 Q28.7381 476.78 28.1334 473.756 Q27.4968 470.733 27.4968 467.868 Q27.4968 460.134 31.5072 456.314 Q35.5176 452.495 43.6657 452.495 Z\" fill=\"#000000\" fill-rule=\"nonzero\" fill-opacity=\"1\" /><path clip-path=\"url(#clip060)\" d=\"M18.2347 434.639 L28.3562 434.639 L28.3562 422.576 L32.9077 422.576 L32.9077 434.639 L52.2594 434.639 Q56.6199 434.639 57.8613 433.462 Q59.1026 432.252 59.1026 428.592 L59.1026 422.576 L64.0042 422.576 L64.0042 428.592 Q64.0042 435.371 61.4897 437.949 Q58.9434 440.527 52.2594 440.527 L32.9077 440.527 L32.9077 444.824 L28.3562 444.824 L28.3562 440.527 L18.2347 440.527 L18.2347 434.639 Z\" fill=\"#000000\" fill-rule=\"nonzero\" fill-opacity=\"1\" /><path clip-path=\"url(#clip060)\" d=\"M44.7161 384.382 L47.5806 384.382 L47.5806 411.309 Q53.6281 410.927 56.8109 407.68 Q59.9619 404.402 59.9619 398.577 Q59.9619 395.204 59.1344 392.053 Q58.3069 388.87 56.6518 385.751 L62.1899 385.751 Q63.5267 388.902 64.227 392.212 Q64.9272 395.522 64.9272 398.928 Q64.9272 407.458 59.9619 412.455 Q54.9967 417.42 46.5303 417.42 Q37.7774 417.42 32.6531 412.709 Q27.4968 407.967 27.4968 399.946 Q27.4968 392.753 32.1438 388.583 Q36.7589 384.382 44.7161 384.382 M42.9973 390.238 Q38.1912 390.302 35.3266 392.944 Q32.4621 395.554 32.4621 399.882 Q32.4621 404.784 35.2312 407.744 Q38.0002 410.672 43.0292 411.118 L42.9973 390.238 Z\" fill=\"#000000\" fill-rule=\"nonzero\" fill-opacity=\"1\" /><path clip-path=\"url(#clip060)\" d=\"M14.5426 339.981 Q21.8632 344.246 29.0246 346.315 Q36.186 348.384 43.5384 348.384 Q50.8908 348.384 58.1159 346.315 Q65.3091 344.214 72.5979 339.981 L72.5979 345.074 Q65.1182 349.848 57.8931 352.235 Q50.668 354.59 43.5384 354.59 Q36.4406 354.59 29.2474 352.235 Q22.0542 349.88 14.5426 345.074 L14.5426 339.981 Z\" fill=\"#000000\" fill-rule=\"nonzero\" fill-opacity=\"1\" /><path clip-path=\"url(#clip060)\" d=\"M58.5933 326.677 L58.5933 316.173 L22.3406 316.173 L24.6323 327.6 L18.7758 327.6 L16.4842 316.237 L16.4842 309.808 L58.5933 309.808 L58.5933 299.304 L64.0042 299.304 L64.0042 326.677 L58.5933 326.677 Z\" fill=\"#000000\" fill-rule=\"nonzero\" fill-opacity=\"1\" /><path clip-path=\"url(#clip060)\" d=\"M16.4842 276.738 L16.4842 271.327 L70.0516 287.878 L70.0516 293.289 L16.4842 276.738 Z\" fill=\"#000000\" fill-rule=\"nonzero\" fill-opacity=\"1\" /><path clip-path=\"url(#clip060)\" d=\"M67.3143 250.352 Q73.68 252.835 75.6216 255.19 Q77.5631 257.545 77.5631 261.492 L77.5631 266.171 L72.6615 266.171 L72.6615 262.733 Q72.6615 260.314 71.5157 258.978 Q70.3699 257.641 66.1048 256.017 L63.4312 254.967 L28.3562 269.385 L28.3562 263.179 L56.238 252.039 L28.3562 240.899 L28.3562 234.692 L67.3143 250.352 Z\" fill=\"#000000\" fill-rule=\"nonzero\" fill-opacity=\"1\" /><path clip-path=\"url(#clip060)\" d=\"M33.8307 205.951 Q33.2578 206.938 33.0032 208.116 Q32.7167 209.261 32.7167 210.662 Q32.7167 215.627 35.9632 218.301 Q39.1779 220.942 45.2253 220.942 L64.0042 220.942 L64.0042 226.831 L28.3562 226.831 L28.3562 220.942 L33.8944 220.942 Q30.6479 219.096 29.0883 216.136 Q27.4968 213.176 27.4968 208.943 Q27.4968 208.338 27.5923 207.606 Q27.656 206.874 27.8151 205.983 L33.8307 205.951 Z\" fill=\"#000000\" fill-rule=\"nonzero\" fill-opacity=\"1\" /><path clip-path=\"url(#clip060)\" d=\"M14.5426 200.731 L14.5426 195.639 Q22.0542 190.864 29.2474 188.509 Q36.4406 186.122 43.5384 186.122 Q50.668 186.122 57.8931 188.509 Q65.1182 190.864 72.5979 195.639 L72.5979 200.731 Q65.3091 196.498 58.1159 194.429 Q50.8908 192.329 43.5384 192.329 Q36.186 192.329 29.0246 194.429 Q21.8632 196.498 14.5426 200.731 Z\" fill=\"#000000\" fill-rule=\"nonzero\" fill-opacity=\"1\" /><polyline clip-path=\"url(#clip062)\" style=\"stroke:#00bfff; stroke-linecap:round; stroke-linejoin:round; stroke-width:16; stroke-opacity:1; fill:none\" points=\"630.165,1322.41 630.165,1322.41 630.223,1314.07 631.756,1278.99 635.408,1243.91 641.228,1208.83 649.366,1173.74 660.077,1138.66 673.73,1103.58 690.231,1068.5 710.731,1033.41 735.709,998.331 764.533,963.248 796.625,928.166 831.471,893.083 868.629,858.001 907.723,822.918 948.443,787.836 990.532,752.753 1033.78,717.671 1078,682.588 1123.06,647.506 1168.85,612.423 1215.25,577.341 1262.3,542.258 1310.65,507.176 1360.47,472.093 1411.83,437.011 1466.19,401.928 1524.17,366.846 1585.3,331.763 1649.19,296.681 1715.47,261.598 1783.86,226.516 1854.07,191.433 1925.9,156.351 1999.13,121.268 2087.1,86.1857 \"/>\n",
       "<circle clip-path=\"url(#clip062)\" cx=\"1925.9\" cy=\"156.351\" r=\"10.8\" fill=\"#ffffff\" fill-rule=\"evenodd\" fill-opacity=\"1\" stroke=\"#00bfff\" stroke-opacity=\"1\" stroke-width=\"3.2\"/>\n",
       "<circle clip-path=\"url(#clip062)\" cx=\"630.165\" cy=\"1322.41\" r=\"10.8\" fill=\"#ffffff\" fill-rule=\"evenodd\" fill-opacity=\"1\" stroke=\"#00bfff\" stroke-opacity=\"1\" stroke-width=\"3.2\"/>\n",
       "<circle clip-path=\"url(#clip062)\" cx=\"831.471\" cy=\"893.083\" r=\"10.8\" fill=\"#ffffff\" fill-rule=\"evenodd\" fill-opacity=\"1\" stroke=\"#00bfff\" stroke-opacity=\"1\" stroke-width=\"3.2\"/>\n",
       "<circle clip-path=\"url(#clip062)\" cx=\"1168.85\" cy=\"612.423\" r=\"10.8\" fill=\"#ffffff\" fill-rule=\"evenodd\" fill-opacity=\"1\" stroke=\"#00bfff\" stroke-opacity=\"1\" stroke-width=\"3.2\"/>\n",
       "<circle clip-path=\"url(#clip062)\" cx=\"1854.07\" cy=\"191.433\" r=\"10.8\" fill=\"#ffffff\" fill-rule=\"evenodd\" fill-opacity=\"1\" stroke=\"#00bfff\" stroke-opacity=\"1\" stroke-width=\"3.2\"/>\n",
       "<circle clip-path=\"url(#clip062)\" cx=\"1123.06\" cy=\"647.506\" r=\"10.8\" fill=\"#ffffff\" fill-rule=\"evenodd\" fill-opacity=\"1\" stroke=\"#00bfff\" stroke-opacity=\"1\" stroke-width=\"3.2\"/>\n",
       "<circle clip-path=\"url(#clip062)\" cx=\"630.165\" cy=\"1322.41\" r=\"10.8\" fill=\"#ffffff\" fill-rule=\"evenodd\" fill-opacity=\"1\" stroke=\"#00bfff\" stroke-opacity=\"1\" stroke-width=\"3.2\"/>\n",
       "<circle clip-path=\"url(#clip062)\" cx=\"631.756\" cy=\"1278.99\" r=\"10.8\" fill=\"#ffffff\" fill-rule=\"evenodd\" fill-opacity=\"1\" stroke=\"#00bfff\" stroke-opacity=\"1\" stroke-width=\"3.2\"/>\n",
       "<circle clip-path=\"url(#clip062)\" cx=\"990.532\" cy=\"752.753\" r=\"10.8\" fill=\"#ffffff\" fill-rule=\"evenodd\" fill-opacity=\"1\" stroke=\"#00bfff\" stroke-opacity=\"1\" stroke-width=\"3.2\"/>\n",
       "<circle clip-path=\"url(#clip062)\" cx=\"710.731\" cy=\"1033.41\" r=\"10.8\" fill=\"#ffffff\" fill-rule=\"evenodd\" fill-opacity=\"1\" stroke=\"#00bfff\" stroke-opacity=\"1\" stroke-width=\"3.2\"/>\n",
       "<circle clip-path=\"url(#clip062)\" cx=\"690.231\" cy=\"1068.5\" r=\"10.8\" fill=\"#ffffff\" fill-rule=\"evenodd\" fill-opacity=\"1\" stroke=\"#00bfff\" stroke-opacity=\"1\" stroke-width=\"3.2\"/>\n",
       "<circle clip-path=\"url(#clip062)\" cx=\"1524.17\" cy=\"366.846\" r=\"10.8\" fill=\"#ffffff\" fill-rule=\"evenodd\" fill-opacity=\"1\" stroke=\"#00bfff\" stroke-opacity=\"1\" stroke-width=\"3.2\"/>\n",
       "<circle clip-path=\"url(#clip062)\" cx=\"1310.65\" cy=\"507.176\" r=\"10.8\" fill=\"#ffffff\" fill-rule=\"evenodd\" fill-opacity=\"1\" stroke=\"#00bfff\" stroke-opacity=\"1\" stroke-width=\"3.2\"/>\n",
       "<circle clip-path=\"url(#clip062)\" cx=\"1783.86\" cy=\"226.516\" r=\"10.8\" fill=\"#ffffff\" fill-rule=\"evenodd\" fill-opacity=\"1\" stroke=\"#00bfff\" stroke-opacity=\"1\" stroke-width=\"3.2\"/>\n",
       "<circle clip-path=\"url(#clip062)\" cx=\"641.228\" cy=\"1208.83\" r=\"10.8\" fill=\"#ffffff\" fill-rule=\"evenodd\" fill-opacity=\"1\" stroke=\"#00bfff\" stroke-opacity=\"1\" stroke-width=\"3.2\"/>\n",
       "<circle clip-path=\"url(#clip062)\" cx=\"1078\" cy=\"682.588\" r=\"10.8\" fill=\"#ffffff\" fill-rule=\"evenodd\" fill-opacity=\"1\" stroke=\"#00bfff\" stroke-opacity=\"1\" stroke-width=\"3.2\"/>\n",
       "<circle clip-path=\"url(#clip062)\" cx=\"1411.83\" cy=\"437.011\" r=\"10.8\" fill=\"#ffffff\" fill-rule=\"evenodd\" fill-opacity=\"1\" stroke=\"#00bfff\" stroke-opacity=\"1\" stroke-width=\"3.2\"/>\n",
       "<circle clip-path=\"url(#clip062)\" cx=\"1715.47\" cy=\"261.598\" r=\"10.8\" fill=\"#ffffff\" fill-rule=\"evenodd\" fill-opacity=\"1\" stroke=\"#00bfff\" stroke-opacity=\"1\" stroke-width=\"3.2\"/>\n",
       "<circle clip-path=\"url(#clip062)\" cx=\"1999.13\" cy=\"121.268\" r=\"10.8\" fill=\"#ffffff\" fill-rule=\"evenodd\" fill-opacity=\"1\" stroke=\"#00bfff\" stroke-opacity=\"1\" stroke-width=\"3.2\"/>\n",
       "<circle clip-path=\"url(#clip062)\" cx=\"673.73\" cy=\"1103.58\" r=\"10.8\" fill=\"#ffffff\" fill-rule=\"evenodd\" fill-opacity=\"1\" stroke=\"#00bfff\" stroke-opacity=\"1\" stroke-width=\"3.2\"/>\n",
       "<circle clip-path=\"url(#clip062)\" cx=\"630.223\" cy=\"1314.07\" r=\"10.8\" fill=\"#ffffff\" fill-rule=\"evenodd\" fill-opacity=\"1\" stroke=\"#00bfff\" stroke-opacity=\"1\" stroke-width=\"3.2\"/>\n",
       "<circle clip-path=\"url(#clip062)\" cx=\"735.709\" cy=\"998.331\" r=\"10.8\" fill=\"#ffffff\" fill-rule=\"evenodd\" fill-opacity=\"1\" stroke=\"#00bfff\" stroke-opacity=\"1\" stroke-width=\"3.2\"/>\n",
       "<circle clip-path=\"url(#clip062)\" cx=\"764.533\" cy=\"963.248\" r=\"10.8\" fill=\"#ffffff\" fill-rule=\"evenodd\" fill-opacity=\"1\" stroke=\"#00bfff\" stroke-opacity=\"1\" stroke-width=\"3.2\"/>\n",
       "<circle clip-path=\"url(#clip062)\" cx=\"948.443\" cy=\"787.836\" r=\"10.8\" fill=\"#ffffff\" fill-rule=\"evenodd\" fill-opacity=\"1\" stroke=\"#00bfff\" stroke-opacity=\"1\" stroke-width=\"3.2\"/>\n",
       "<circle clip-path=\"url(#clip062)\" cx=\"1649.19\" cy=\"296.681\" r=\"10.8\" fill=\"#ffffff\" fill-rule=\"evenodd\" fill-opacity=\"1\" stroke=\"#00bfff\" stroke-opacity=\"1\" stroke-width=\"3.2\"/>\n",
       "<circle clip-path=\"url(#clip062)\" cx=\"1215.25\" cy=\"577.341\" r=\"10.8\" fill=\"#ffffff\" fill-rule=\"evenodd\" fill-opacity=\"1\" stroke=\"#00bfff\" stroke-opacity=\"1\" stroke-width=\"3.2\"/>\n",
       "<circle clip-path=\"url(#clip062)\" cx=\"1585.3\" cy=\"331.763\" r=\"10.8\" fill=\"#ffffff\" fill-rule=\"evenodd\" fill-opacity=\"1\" stroke=\"#00bfff\" stroke-opacity=\"1\" stroke-width=\"3.2\"/>\n",
       "<circle clip-path=\"url(#clip062)\" cx=\"907.723\" cy=\"822.918\" r=\"10.8\" fill=\"#ffffff\" fill-rule=\"evenodd\" fill-opacity=\"1\" stroke=\"#00bfff\" stroke-opacity=\"1\" stroke-width=\"3.2\"/>\n",
       "<circle clip-path=\"url(#clip062)\" cx=\"796.625\" cy=\"928.166\" r=\"10.8\" fill=\"#ffffff\" fill-rule=\"evenodd\" fill-opacity=\"1\" stroke=\"#00bfff\" stroke-opacity=\"1\" stroke-width=\"3.2\"/>\n",
       "<circle clip-path=\"url(#clip062)\" cx=\"660.077\" cy=\"1138.66\" r=\"10.8\" fill=\"#ffffff\" fill-rule=\"evenodd\" fill-opacity=\"1\" stroke=\"#00bfff\" stroke-opacity=\"1\" stroke-width=\"3.2\"/>\n",
       "<circle clip-path=\"url(#clip062)\" cx=\"2087.1\" cy=\"86.1857\" r=\"10.8\" fill=\"#ffffff\" fill-rule=\"evenodd\" fill-opacity=\"1\" stroke=\"#00bfff\" stroke-opacity=\"1\" stroke-width=\"3.2\"/>\n",
       "<circle clip-path=\"url(#clip062)\" cx=\"1466.19\" cy=\"401.928\" r=\"10.8\" fill=\"#ffffff\" fill-rule=\"evenodd\" fill-opacity=\"1\" stroke=\"#00bfff\" stroke-opacity=\"1\" stroke-width=\"3.2\"/>\n",
       "<circle clip-path=\"url(#clip062)\" cx=\"1360.47\" cy=\"472.093\" r=\"10.8\" fill=\"#ffffff\" fill-rule=\"evenodd\" fill-opacity=\"1\" stroke=\"#00bfff\" stroke-opacity=\"1\" stroke-width=\"3.2\"/>\n",
       "<circle clip-path=\"url(#clip062)\" cx=\"868.629\" cy=\"858.001\" r=\"10.8\" fill=\"#ffffff\" fill-rule=\"evenodd\" fill-opacity=\"1\" stroke=\"#00bfff\" stroke-opacity=\"1\" stroke-width=\"3.2\"/>\n",
       "<circle clip-path=\"url(#clip062)\" cx=\"1262.3\" cy=\"542.258\" r=\"10.8\" fill=\"#ffffff\" fill-rule=\"evenodd\" fill-opacity=\"1\" stroke=\"#00bfff\" stroke-opacity=\"1\" stroke-width=\"3.2\"/>\n",
       "<circle clip-path=\"url(#clip062)\" cx=\"649.366\" cy=\"1173.74\" r=\"10.8\" fill=\"#ffffff\" fill-rule=\"evenodd\" fill-opacity=\"1\" stroke=\"#00bfff\" stroke-opacity=\"1\" stroke-width=\"3.2\"/>\n",
       "<circle clip-path=\"url(#clip062)\" cx=\"1033.78\" cy=\"717.671\" r=\"10.8\" fill=\"#ffffff\" fill-rule=\"evenodd\" fill-opacity=\"1\" stroke=\"#00bfff\" stroke-opacity=\"1\" stroke-width=\"3.2\"/>\n",
       "<circle clip-path=\"url(#clip062)\" cx=\"635.408\" cy=\"1243.91\" r=\"10.8\" fill=\"#ffffff\" fill-rule=\"evenodd\" fill-opacity=\"1\" stroke=\"#00bfff\" stroke-opacity=\"1\" stroke-width=\"3.2\"/>\n",
       "<polyline clip-path=\"url(#clip062)\" style=\"stroke:#ff0000; stroke-linecap:round; stroke-linejoin:round; stroke-width:16; stroke-opacity:1; fill:none\" points=\"531.829,1384.24 537.96,1349.16 547.084,1314.07 558.536,1278.99 572.032,1243.91 587.349,1208.83 604.209,1173.74 622.457,1138.66 642.07,1103.58 663.086,1068.5 685.621,1033.41 709.838,998.331 736.661,963.248 766.359,928.166 798.495,893.083 832.682,858.001 868.599,822.918 905.974,787.836 944.58,752.753 984.233,717.671 1024.78,682.588 1066.08,647.506 1108.05,612.423 1150.58,577.341 1193.61,542.258 1237.08,507.176 1280.97,472.093 1325.26,437.011 1370.76,401.928 1419.65,366.846 1471.95,331.763 1527.24,296.681 1585.18,261.598 1645.42,226.516 1707.7,191.433 1772.05,156.351 1844.01,121.268 1997.19,86.1857 \"/>\n",
       "<circle clip-path=\"url(#clip062)\" cx=\"1772.05\" cy=\"156.351\" r=\"10.8\" fill=\"#ffffff\" fill-rule=\"evenodd\" fill-opacity=\"1\" stroke=\"#ff0000\" stroke-opacity=\"1\" stroke-width=\"3.2\"/>\n",
       "<circle clip-path=\"url(#clip062)\" cx=\"736.661\" cy=\"963.248\" r=\"10.8\" fill=\"#ffffff\" fill-rule=\"evenodd\" fill-opacity=\"1\" stroke=\"#ff0000\" stroke-opacity=\"1\" stroke-width=\"3.2\"/>\n",
       "<circle clip-path=\"url(#clip062)\" cx=\"685.621\" cy=\"1033.41\" r=\"10.8\" fill=\"#ffffff\" fill-rule=\"evenodd\" fill-opacity=\"1\" stroke=\"#ff0000\" stroke-opacity=\"1\" stroke-width=\"3.2\"/>\n",
       "<circle clip-path=\"url(#clip062)\" cx=\"663.086\" cy=\"1068.5\" r=\"10.8\" fill=\"#ffffff\" fill-rule=\"evenodd\" fill-opacity=\"1\" stroke=\"#ff0000\" stroke-opacity=\"1\" stroke-width=\"3.2\"/>\n",
       "<circle clip-path=\"url(#clip062)\" cx=\"832.682\" cy=\"858.001\" r=\"10.8\" fill=\"#ffffff\" fill-rule=\"evenodd\" fill-opacity=\"1\" stroke=\"#ff0000\" stroke-opacity=\"1\" stroke-width=\"3.2\"/>\n",
       "<circle clip-path=\"url(#clip062)\" cx=\"905.974\" cy=\"787.836\" r=\"10.8\" fill=\"#ffffff\" fill-rule=\"evenodd\" fill-opacity=\"1\" stroke=\"#ff0000\" stroke-opacity=\"1\" stroke-width=\"3.2\"/>\n",
       "<circle clip-path=\"url(#clip062)\" cx=\"1024.78\" cy=\"682.588\" r=\"10.8\" fill=\"#ffffff\" fill-rule=\"evenodd\" fill-opacity=\"1\" stroke=\"#ff0000\" stroke-opacity=\"1\" stroke-width=\"3.2\"/>\n",
       "<circle clip-path=\"url(#clip062)\" cx=\"1585.18\" cy=\"261.598\" r=\"10.8\" fill=\"#ffffff\" fill-rule=\"evenodd\" fill-opacity=\"1\" stroke=\"#ff0000\" stroke-opacity=\"1\" stroke-width=\"3.2\"/>\n",
       "<circle clip-path=\"url(#clip062)\" cx=\"642.07\" cy=\"1103.58\" r=\"10.8\" fill=\"#ffffff\" fill-rule=\"evenodd\" fill-opacity=\"1\" stroke=\"#ff0000\" stroke-opacity=\"1\" stroke-width=\"3.2\"/>\n",
       "<circle clip-path=\"url(#clip062)\" cx=\"984.233\" cy=\"717.671\" r=\"10.8\" fill=\"#ffffff\" fill-rule=\"evenodd\" fill-opacity=\"1\" stroke=\"#ff0000\" stroke-opacity=\"1\" stroke-width=\"3.2\"/>\n",
       "<circle clip-path=\"url(#clip062)\" cx=\"537.96\" cy=\"1349.16\" r=\"10.8\" fill=\"#ffffff\" fill-rule=\"evenodd\" fill-opacity=\"1\" stroke=\"#ff0000\" stroke-opacity=\"1\" stroke-width=\"3.2\"/>\n",
       "<circle clip-path=\"url(#clip062)\" cx=\"531.829\" cy=\"1384.24\" r=\"10.8\" fill=\"#ffffff\" fill-rule=\"evenodd\" fill-opacity=\"1\" stroke=\"#ff0000\" stroke-opacity=\"1\" stroke-width=\"3.2\"/>\n",
       "<circle clip-path=\"url(#clip062)\" cx=\"1370.76\" cy=\"401.928\" r=\"10.8\" fill=\"#ffffff\" fill-rule=\"evenodd\" fill-opacity=\"1\" stroke=\"#ff0000\" stroke-opacity=\"1\" stroke-width=\"3.2\"/>\n",
       "<circle clip-path=\"url(#clip062)\" cx=\"1237.08\" cy=\"507.176\" r=\"10.8\" fill=\"#ffffff\" fill-rule=\"evenodd\" fill-opacity=\"1\" stroke=\"#ff0000\" stroke-opacity=\"1\" stroke-width=\"3.2\"/>\n",
       "<circle clip-path=\"url(#clip062)\" cx=\"868.599\" cy=\"822.918\" r=\"10.8\" fill=\"#ffffff\" fill-rule=\"evenodd\" fill-opacity=\"1\" stroke=\"#ff0000\" stroke-opacity=\"1\" stroke-width=\"3.2\"/>\n",
       "<circle clip-path=\"url(#clip062)\" cx=\"1419.65\" cy=\"366.846\" r=\"10.8\" fill=\"#ffffff\" fill-rule=\"evenodd\" fill-opacity=\"1\" stroke=\"#ff0000\" stroke-opacity=\"1\" stroke-width=\"3.2\"/>\n",
       "<circle clip-path=\"url(#clip062)\" cx=\"798.495\" cy=\"893.083\" r=\"10.8\" fill=\"#ffffff\" fill-rule=\"evenodd\" fill-opacity=\"1\" stroke=\"#ff0000\" stroke-opacity=\"1\" stroke-width=\"3.2\"/>\n",
       "<circle clip-path=\"url(#clip062)\" cx=\"944.58\" cy=\"752.753\" r=\"10.8\" fill=\"#ffffff\" fill-rule=\"evenodd\" fill-opacity=\"1\" stroke=\"#ff0000\" stroke-opacity=\"1\" stroke-width=\"3.2\"/>\n",
       "<circle clip-path=\"url(#clip062)\" cx=\"622.457\" cy=\"1138.66\" r=\"10.8\" fill=\"#ffffff\" fill-rule=\"evenodd\" fill-opacity=\"1\" stroke=\"#ff0000\" stroke-opacity=\"1\" stroke-width=\"3.2\"/>\n",
       "<circle clip-path=\"url(#clip062)\" cx=\"1108.05\" cy=\"612.423\" r=\"10.8\" fill=\"#ffffff\" fill-rule=\"evenodd\" fill-opacity=\"1\" stroke=\"#ff0000\" stroke-opacity=\"1\" stroke-width=\"3.2\"/>\n",
       "<circle clip-path=\"url(#clip062)\" cx=\"1471.95\" cy=\"331.763\" r=\"10.8\" fill=\"#ffffff\" fill-rule=\"evenodd\" fill-opacity=\"1\" stroke=\"#ff0000\" stroke-opacity=\"1\" stroke-width=\"3.2\"/>\n",
       "<circle clip-path=\"url(#clip062)\" cx=\"604.209\" cy=\"1173.74\" r=\"10.8\" fill=\"#ffffff\" fill-rule=\"evenodd\" fill-opacity=\"1\" stroke=\"#ff0000\" stroke-opacity=\"1\" stroke-width=\"3.2\"/>\n",
       "<circle clip-path=\"url(#clip062)\" cx=\"1066.08\" cy=\"647.506\" r=\"10.8\" fill=\"#ffffff\" fill-rule=\"evenodd\" fill-opacity=\"1\" stroke=\"#ff0000\" stroke-opacity=\"1\" stroke-width=\"3.2\"/>\n",
       "<circle clip-path=\"url(#clip062)\" cx=\"1997.19\" cy=\"86.1857\" r=\"10.8\" fill=\"#ffffff\" fill-rule=\"evenodd\" fill-opacity=\"1\" stroke=\"#ff0000\" stroke-opacity=\"1\" stroke-width=\"3.2\"/>\n",
       "<circle clip-path=\"url(#clip062)\" cx=\"1527.24\" cy=\"296.681\" r=\"10.8\" fill=\"#ffffff\" fill-rule=\"evenodd\" fill-opacity=\"1\" stroke=\"#ff0000\" stroke-opacity=\"1\" stroke-width=\"3.2\"/>\n",
       "<circle clip-path=\"url(#clip062)\" cx=\"766.359\" cy=\"928.166\" r=\"10.8\" fill=\"#ffffff\" fill-rule=\"evenodd\" fill-opacity=\"1\" stroke=\"#ff0000\" stroke-opacity=\"1\" stroke-width=\"3.2\"/>\n",
       "<circle clip-path=\"url(#clip062)\" cx=\"547.084\" cy=\"1314.07\" r=\"10.8\" fill=\"#ffffff\" fill-rule=\"evenodd\" fill-opacity=\"1\" stroke=\"#ff0000\" stroke-opacity=\"1\" stroke-width=\"3.2\"/>\n",
       "<circle clip-path=\"url(#clip062)\" cx=\"1193.61\" cy=\"542.258\" r=\"10.8\" fill=\"#ffffff\" fill-rule=\"evenodd\" fill-opacity=\"1\" stroke=\"#ff0000\" stroke-opacity=\"1\" stroke-width=\"3.2\"/>\n",
       "<circle clip-path=\"url(#clip062)\" cx=\"558.536\" cy=\"1278.99\" r=\"10.8\" fill=\"#ffffff\" fill-rule=\"evenodd\" fill-opacity=\"1\" stroke=\"#ff0000\" stroke-opacity=\"1\" stroke-width=\"3.2\"/>\n",
       "<circle clip-path=\"url(#clip062)\" cx=\"1280.97\" cy=\"472.093\" r=\"10.8\" fill=\"#ffffff\" fill-rule=\"evenodd\" fill-opacity=\"1\" stroke=\"#ff0000\" stroke-opacity=\"1\" stroke-width=\"3.2\"/>\n",
       "<circle clip-path=\"url(#clip062)\" cx=\"1325.26\" cy=\"437.011\" r=\"10.8\" fill=\"#ffffff\" fill-rule=\"evenodd\" fill-opacity=\"1\" stroke=\"#ff0000\" stroke-opacity=\"1\" stroke-width=\"3.2\"/>\n",
       "<circle clip-path=\"url(#clip062)\" cx=\"572.032\" cy=\"1243.91\" r=\"10.8\" fill=\"#ffffff\" fill-rule=\"evenodd\" fill-opacity=\"1\" stroke=\"#ff0000\" stroke-opacity=\"1\" stroke-width=\"3.2\"/>\n",
       "<circle clip-path=\"url(#clip062)\" cx=\"709.838\" cy=\"998.331\" r=\"10.8\" fill=\"#ffffff\" fill-rule=\"evenodd\" fill-opacity=\"1\" stroke=\"#ff0000\" stroke-opacity=\"1\" stroke-width=\"3.2\"/>\n",
       "<circle clip-path=\"url(#clip062)\" cx=\"1645.42\" cy=\"226.516\" r=\"10.8\" fill=\"#ffffff\" fill-rule=\"evenodd\" fill-opacity=\"1\" stroke=\"#ff0000\" stroke-opacity=\"1\" stroke-width=\"3.2\"/>\n",
       "<circle clip-path=\"url(#clip062)\" cx=\"587.349\" cy=\"1208.83\" r=\"10.8\" fill=\"#ffffff\" fill-rule=\"evenodd\" fill-opacity=\"1\" stroke=\"#ff0000\" stroke-opacity=\"1\" stroke-width=\"3.2\"/>\n",
       "<circle clip-path=\"url(#clip062)\" cx=\"1707.7\" cy=\"191.433\" r=\"10.8\" fill=\"#ffffff\" fill-rule=\"evenodd\" fill-opacity=\"1\" stroke=\"#ff0000\" stroke-opacity=\"1\" stroke-width=\"3.2\"/>\n",
       "<circle clip-path=\"url(#clip062)\" cx=\"1150.58\" cy=\"577.341\" r=\"10.8\" fill=\"#ffffff\" fill-rule=\"evenodd\" fill-opacity=\"1\" stroke=\"#ff0000\" stroke-opacity=\"1\" stroke-width=\"3.2\"/>\n",
       "<circle clip-path=\"url(#clip062)\" cx=\"1844.01\" cy=\"121.268\" r=\"10.8\" fill=\"#ffffff\" fill-rule=\"evenodd\" fill-opacity=\"1\" stroke=\"#ff0000\" stroke-opacity=\"1\" stroke-width=\"3.2\"/>\n",
       "<path clip-path=\"url(#clip060)\" d=\"M290.493 248.629 L608.066 248.629 L608.066 93.1086 L290.493 93.1086  Z\" fill=\"#f2f2f2\" fill-rule=\"evenodd\" fill-opacity=\"1\"/>\n",
       "<polyline clip-path=\"url(#clip060)\" style=\"stroke:#000000; stroke-linecap:round; stroke-linejoin:round; stroke-width:4; stroke-opacity:0; fill:none\" points=\"290.493,248.629 608.066,248.629 608.066,93.1086 290.493,93.1086 290.493,248.629 \"/>\n",
       "<polyline clip-path=\"url(#clip060)\" style=\"stroke:#00bfff; stroke-linecap:round; stroke-linejoin:round; stroke-width:16; stroke-opacity:1; fill:none\" points=\"314.197,144.949 456.422,144.949 \"/>\n",
       "<path clip-path=\"url(#clip060)\" d=\"M484.802 131.511 L484.802 158.386 L490.45 158.386 Q497.603 158.386 500.913 155.145 Q504.246 151.905 504.246 144.914 Q504.246 137.969 500.913 134.752 Q497.603 131.511 490.45 131.511 L484.802 131.511 M480.126 127.669 L489.733 127.669 Q499.779 127.669 504.478 131.858 Q509.177 136.025 509.177 144.914 Q509.177 153.849 504.455 158.039 Q499.732 162.229 489.733 162.229 L480.126 162.229 L480.126 127.669 Z\" fill=\"#000000\" fill-rule=\"nonzero\" fill-opacity=\"1\" /><path clip-path=\"url(#clip060)\" d=\"M528.228 149.196 Q523.066 149.196 521.075 150.377 Q519.084 151.557 519.084 154.405 Q519.084 156.673 520.566 158.016 Q522.07 159.335 524.64 159.335 Q528.181 159.335 530.311 156.835 Q532.464 154.312 532.464 150.145 L532.464 149.196 L528.228 149.196 M536.723 147.437 L536.723 162.229 L532.464 162.229 L532.464 158.293 Q531.005 160.655 528.83 161.789 Q526.654 162.9 523.505 162.9 Q519.524 162.9 517.163 160.678 Q514.825 158.432 514.825 154.682 Q514.825 150.307 517.742 148.085 Q520.681 145.863 526.492 145.863 L532.464 145.863 L532.464 145.446 Q532.464 142.507 530.519 140.909 Q528.598 139.289 525.103 139.289 Q522.88 139.289 520.774 139.821 Q518.668 140.354 516.723 141.419 L516.723 137.483 Q519.061 136.581 521.26 136.141 Q523.459 135.678 525.543 135.678 Q531.167 135.678 533.945 138.594 Q536.723 141.511 536.723 147.437 Z\" fill=\"#000000\" fill-rule=\"nonzero\" fill-opacity=\"1\" /><path clip-path=\"url(#clip060)\" d=\"M549.709 128.942 L549.709 136.303 L558.482 136.303 L558.482 139.613 L549.709 139.613 L549.709 153.687 Q549.709 156.858 550.566 157.761 Q551.445 158.664 554.107 158.664 L558.482 158.664 L558.482 162.229 L554.107 162.229 Q549.177 162.229 547.302 160.4 Q545.427 158.548 545.427 153.687 L545.427 139.613 L542.302 139.613 L542.302 136.303 L545.427 136.303 L545.427 128.942 L549.709 128.942 Z\" fill=\"#000000\" fill-rule=\"nonzero\" fill-opacity=\"1\" /><path clip-path=\"url(#clip060)\" d=\"M575.866 149.196 Q570.704 149.196 568.714 150.377 Q566.723 151.557 566.723 154.405 Q566.723 156.673 568.204 158.016 Q569.709 159.335 572.278 159.335 Q575.82 159.335 577.95 156.835 Q580.102 154.312 580.102 150.145 L580.102 149.196 L575.866 149.196 M584.362 147.437 L584.362 162.229 L580.102 162.229 L580.102 158.293 Q578.644 160.655 576.468 161.789 Q574.292 162.9 571.144 162.9 Q567.163 162.9 564.802 160.678 Q562.464 158.432 562.464 154.682 Q562.464 150.307 565.38 148.085 Q568.32 145.863 574.13 145.863 L580.102 145.863 L580.102 145.446 Q580.102 142.507 578.158 140.909 Q576.237 139.289 572.741 139.289 Q570.519 139.289 568.413 139.821 Q566.306 140.354 564.362 141.419 L564.362 137.483 Q566.7 136.581 568.899 136.141 Q571.098 135.678 573.181 135.678 Q578.806 135.678 581.584 138.594 Q584.362 141.511 584.362 147.437 Z\" fill=\"#000000\" fill-rule=\"nonzero\" fill-opacity=\"1\" /><polyline clip-path=\"url(#clip060)\" style=\"stroke:#ff0000; stroke-linecap:round; stroke-linejoin:round; stroke-width:16; stroke-opacity:1; fill:none\" points=\"314.197,196.789 456.422,196.789 \"/>\n",
       "<path clip-path=\"url(#clip060)\" d=\"M502.371 180.643 L502.371 185.203 Q499.709 183.93 497.348 183.305 Q494.987 182.68 492.788 182.68 Q488.969 182.68 486.885 184.161 Q484.825 185.643 484.825 188.374 Q484.825 190.666 486.191 191.847 Q487.58 193.004 491.422 193.722 L494.246 194.3 Q499.478 195.296 501.955 197.819 Q504.455 200.319 504.455 204.532 Q504.455 209.555 501.075 212.147 Q497.719 214.74 491.214 214.74 Q488.76 214.74 485.983 214.184 Q483.228 213.629 480.265 212.541 L480.265 207.726 Q483.112 209.323 485.844 210.133 Q488.575 210.944 491.214 210.944 Q495.219 210.944 497.395 209.37 Q499.57 207.796 499.57 204.879 Q499.57 202.333 497.996 200.897 Q496.445 199.462 492.881 198.745 L490.033 198.189 Q484.802 197.147 482.464 194.925 Q480.126 192.703 480.126 188.745 Q480.126 184.161 483.344 181.522 Q486.584 178.884 492.256 178.884 Q494.686 178.884 497.209 179.323 Q499.732 179.763 502.371 180.643 Z\" fill=\"#000000\" fill-rule=\"nonzero\" fill-opacity=\"1\" /><path clip-path=\"url(#clip060)\" d=\"M511.746 179.509 L516.422 179.509 L516.422 214.069 L511.746 214.069 L511.746 179.509 Z\" fill=\"#000000\" fill-rule=\"nonzero\" fill-opacity=\"1\" /><path clip-path=\"url(#clip060)\" d=\"M525.728 179.509 L532.695 179.509 L541.515 203.027 L550.38 179.509 L557.348 179.509 L557.348 214.069 L552.788 214.069 L552.788 183.722 L543.876 207.425 L539.177 207.425 L530.265 183.722 L530.265 214.069 L525.728 214.069 L525.728 179.509 Z\" fill=\"#000000\" fill-rule=\"nonzero\" fill-opacity=\"1\" /></svg>\n"
      ]
     },
     "execution_count": 58,
     "metadata": {},
     "output_type": "execute_result"
    }
   ],
   "source": [
    "let\n",
    "    # regular -\n",
    "    plot(efficient_frontier, lw=4, xlabel=\"Portfolio Risk (sqrt)\", \n",
    "        ylabel=\"Portfolio excess growth rate (1/yr)\", fontsize=18, c=:deepskyblue1, \n",
    "        xlim=(0.0, 1.2*maximum(efficient_frontier).first), label=\"Data\", \n",
    "        bg=\"gray95\", background_color_outside=\"white\", framestyle = :box, fg_legend = :transparent)\n",
    "    scatter!(efficient_frontier, label=\"\", c=:white, msc=:deepskyblue1, ms=3)\n",
    "    \n",
    "    # single index model -\n",
    "    plot!(efficient_frontier_sim, lw=4, xlabel=\"Portfolio Risk (sqrt)\", \n",
    "        ylabel=\"Portfolio excess growth rate (1/yr)\", fontsize=18, label=\"SIM\", c=:red, \n",
    "        xlim=(0.0, 1.2*maximum(efficient_frontier_sim).first))\n",
    "    scatter!(efficient_frontier_sim, label=\"\", c=:white, msc=:red, ms=3)\n",
    "end"
   ]
  },
  {
   "cell_type": "markdown",
   "id": "a967a000-5c52-4592-9b57-c1352785832a",
   "metadata": {},
   "source": [
    "## Task 3: What's in a data-driven versus single index model portfolio?\n",
    "The single index model efficient frontier is shifted to the left compared with the data-driven portfolio. Let's explore how this left shift is reflected in the choices of the weights of the assets in the portfolio. To begin, specify a desired portfolio growth rate in the `desired_growth_rate` variable:"
   ]
  },
  {
   "cell_type": "code",
   "execution_count": 60,
   "id": "7d78bbf3-437c-4585-905e-63f624e43f75",
   "metadata": {},
   "outputs": [],
   "source": [
    "desired_growth_rate = 0.25; # select a desired *excess* return where both approaches have data"
   ]
  },
  {
   "cell_type": "markdown",
   "id": "08bea4c9-c150-49a2-a289-bb8a24db7c40",
   "metadata": {},
   "source": [
    "Next, let's resolve the minimum variance problem for the data-driven and single-index models, assuming a `desired_growth_rate` value. Update the `problem_risk` and `problem_risk_sim` problem instances with the new `R` field:"
   ]
  },
  {
   "cell_type": "code",
   "execution_count": 62,
   "id": "507df098-675f-4129-a47b-da99e6f07727",
   "metadata": {},
   "outputs": [],
   "source": [
    "problem_risk.R = desired_growth_rate;\n",
    "problem_risk_sim.R = desired_growth_rate;"
   ]
  },
  {
   "cell_type": "markdown",
   "id": "7dc44a36-83af-49db-b866-df3cdf0b6ccd",
   "metadata": {},
   "source": [
    "and solve the minimum-variance allocation problem for both versions of the problem instance:"
   ]
  },
  {
   "cell_type": "code",
   "execution_count": 64,
   "id": "6b51e88f-330f-46a7-b219-a48866d89112",
   "metadata": {
    "jupyter": {
     "source_hidden": true
    }
   },
   "outputs": [
    {
     "data": {
      "text/plain": [
       "Dict{String, Any} with 4 entries:\n",
       "  \"argmax\"          => [0.165404, -9.40698e-9, 0.325912, 9.23758e-6, -8.8728e-9…\n",
       "  \"reward\"          => 0.25\n",
       "  \"status\"          => LOCALLY_SOLVED\n",
       "  \"objective_value\" => 0.0537107"
      ]
     },
     "execution_count": 64,
     "metadata": {},
     "output_type": "execute_result"
    }
   ],
   "source": [
    "solution_data = nothing;\n",
    "solution_sim = nothing;\n",
    "try\n",
    "    solution_data = solve(problem_risk);\n",
    "    solution_sim = solve(problem_risk_sim);\n",
    "catch err\n",
    "    # uncoment below to see error message\n",
    "    # println(\"What the what? Something happened: $(err)\");\n",
    "end"
   ]
  },
  {
   "cell_type": "markdown",
   "id": "c770ef2f-435f-4d1a-915b-77902be99da0",
   "metadata": {},
   "source": [
    "`Unhide` the code block below to see how we constructed the portfolio allocation table for the data-driven and single-index model portfolios.\n",
    "* __Summary__: The data-driven and single-index model allocations are similar, where each non-zero allocation for the data-driven portfolio is preserved in the case of the single-index model. However, several minor differences between the two portfolios do not appear to be correlated with the $\\beta$ of the ticker. "
   ]
  },
  {
   "cell_type": "code",
   "execution_count": 66,
   "id": "6022fe05-6aa1-490a-bf83-a62d1827d3ca",
   "metadata": {},
   "outputs": [
    {
     "name": "stdout",
     "output_type": "stream",
     "text": [
      "========= =========== ========= ========= ===============\n",
      " \u001b[1m ticker \u001b[0m \u001b[1m         β \u001b[0m \u001b[1m  ω_data \u001b[0m \u001b[1m   ω_sim \u001b[0m \u001b[1m Δ_percentage \u001b[0m\n",
      " \u001b[90m String \u001b[0m \u001b[90m   Float64 \u001b[0m \u001b[90m Float64 \u001b[0m \u001b[90m Float64 \u001b[0m \u001b[90m      Float64 \u001b[0m\n",
      "========= =========== ========= ========= ===============\n",
      "    AAPL     1.24019    0.2007    0.1654       -17.6047\n",
      "     UNG    0.401587       0.0       0.0            0.0\n",
      "    MSFT     1.13379    0.3839    0.3259       -15.1054\n",
      "      KR    0.194428    0.0099       0.0            0.0\n",
      "    INTC     1.12753       0.0       0.0            0.0\n",
      "     CPB    0.227696       0.0       0.0            0.0\n",
      "      MU     1.52694       0.0       0.0            0.0\n",
      "     GIS    0.297464       0.0       0.0            0.0\n",
      "     AMD     1.67809    0.2702    0.2232       -17.3922\n",
      "     SJM    0.293066       0.0       0.0            0.0\n",
      "    NVDA     1.78828    0.0521    0.1637        214.365\n",
      "       K    0.326176       0.0       0.0            0.0\n",
      "      GS     1.26915       0.0       0.0            0.0\n",
      "     GLD   0.0822281       0.0     0.066            0.0\n",
      "     BAC     1.32778       0.0       0.0            0.0\n",
      "     CLX    0.243847       0.0       0.0            0.0\n",
      "     WFC     1.25441       0.0       0.0            0.0\n",
      "     CHD    0.332229    0.0832    0.0464       -44.2245\n",
      "       C     1.48297       0.0       0.0            0.0\n",
      "     HRL      0.3087       0.0       0.0            0.0\n",
      "       F     1.48548       0.0       0.0            0.0\n",
      "    REGN    0.551269       0.0    0.0094            0.0\n",
      "      GM     1.55162       0.0       0.0            0.0\n",
      "     KMB    0.379152       0.0       0.0            0.0\n",
      "========= =========== ========= ========= ===============\n"
     ]
    }
   ],
   "source": [
    "let\n",
    "    ω_data = solution_data[\"argmax\"];\n",
    "    ω_sim = solution_sim[\"argmax\"];\n",
    "    table_df = DataFrame();\n",
    "    for i ∈ eachindex(my_low_correlation_ticker_array)\n",
    "        ticker = my_low_correlation_ticker_array[i];\n",
    "        ω_dataᵢ = ω_data[i];\n",
    "        ω_simᵢ = ω_sim[i];\n",
    "        row_data = (\n",
    "            ticker = ticker,\n",
    "            β = sim_model_dictionary[ticker].β,\n",
    "            ω_data = round(ω_dataᵢ, digits=4) |> abs,\n",
    "            ω_sim = round(ω_simᵢ, digits=4) |> abs,\n",
    "            Δ_percentage = isapprox(ω_dataᵢ,0.0, atol=1e-2) ? 0.0 : ((ω_simᵢ - ω_dataᵢ)/(ω_dataᵢ))*100\n",
    "        );\n",
    "        push!(table_df,row_data)\n",
    "    end\n",
    "    table_df\n",
    "    pretty_table(table_df, tf=tf_simple)\n",
    "end"
   ]
  },
  {
   "cell_type": "markdown",
   "id": "f5783b18-2f56-4641-9464-82658cc68a38",
   "metadata": {},
   "source": [
    "## Disclaimer and Risks\n",
    "__This content is offered solely for training and informational purposes__. No offer or solicitation to buy or sell securities or derivative products or any investment or trading advice or strategy is made, given, or endorsed by the teaching team. \n",
    "\n",
    "__Trading involves risk__. Carefully review your financial situation before investing in securities, futures contracts, options, or commodity interests. Past performance, whether actual or indicated by historical tests of strategies, is no guarantee of future performance or success. Trading is generally inappropriate for someone with limited resources, investment or trading experience, or a low-risk tolerance.  Only risk capital that is not required for living expenses.\n",
    "\n",
    "__You are fully responsible for any investment or trading decisions you make__. You should decide solely based on your financial circumstances, investment or trading objectives, risk tolerance, and liquidity needs."
   ]
  }
 ],
 "metadata": {
  "kernelspec": {
   "display_name": "Julia 1.11.1",
   "language": "julia",
   "name": "julia-1.11"
  },
  "language_info": {
   "file_extension": ".jl",
   "mimetype": "application/julia",
   "name": "julia",
   "version": "1.11.1"
  }
 },
 "nbformat": 4,
 "nbformat_minor": 5
}
