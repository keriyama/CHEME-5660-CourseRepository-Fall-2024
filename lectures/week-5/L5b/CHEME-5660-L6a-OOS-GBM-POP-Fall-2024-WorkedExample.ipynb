{
 "cells": [
  {
   "cell_type": "markdown",
   "id": "4d9ec451-a1ef-4a2d-8b0b-7d4086ef2439",
   "metadata": {},
   "source": [
    "# Bonus Example: Out-of-Sample Share Price Simulation using Geometric Brownian Motion\n",
    "This example will familiarize students with creating single-asset geometric Brownian motion simulations of out-of-sample data. We'll use GBM parameters estimated from past data (`2018` to `2023`) to initialize a GBM model and simulate future share prices, i.e., from `01-03-24` until `09-23-24`.\n",
    "\n",
    "### Learning objectives\n",
    "* __Prerequisites__: we'll begin by loading the dataset. The data we'll explore is daily open-high-low-close values for firms in the [S&P500 index](https://en.wikipedia.org/wiki/S%26P_500) since `01-03-2024` until `09-23-2024`. We'll also load the historical lattice parameters.\n",
    "* __Task 1__: Construct an out-of-sample GBM model. In this task, we build a GBM model to simulate data we have not seen before. We used `2018` to `2023` data to estimate the drift and volatility parameters, but we'll now run price simulations for `2024` data.\n",
    "* __Task 2__: Compare GBM model prediction versus market observations. In this task, we'll visualize and compare the model simulations with market observations. In particular, we'll compute the expected value and the variance of the simulated price as a function of time and compare those values with what was observed in the market."
   ]
  },
  {
   "cell_type": "markdown",
   "id": "d1c4fd51-76c8-45ad-802a-8ccb2d89be4e",
   "metadata": {},
   "source": [
    "## Setup\n",
    "We set up the computational environment by including [the `Include.jl` file](Include.jl). The [`Include.jl` file](Include.jl) loads external packages, various functions that we will use in the exercise, and custom types to model the components of our example problem.\n",
    "* See the [Julia programming language documentation](https://docs.julialang.org/en/v1/) and the [VLQuantitativeFinancePackage.jl documentation](https://github.com/varnerlab/VLQuantitativeFinancePackage.jl) for additional information on functions and types used in this material. "
   ]
  },
  {
   "cell_type": "code",
   "execution_count": 58,
   "id": "7f3a8da7-74e6-4ddd-bd1b-ea9a0dd7fbbc",
   "metadata": {},
   "outputs": [
    {
     "data": {
      "text/plain": [
       "MyMarketDataSet (generic function with 1 method)"
      ]
     },
     "execution_count": 58,
     "metadata": {},
     "output_type": "execute_result"
    }
   ],
   "source": [
    "include(\"Include.jl\")"
   ]
  },
  {
   "cell_type": "markdown",
   "id": "cce7d206-816d-4c80-a66f-5f9e030517ad",
   "metadata": {},
   "source": [
    "## Prerequisites: Load and clean the testing dataset\n",
    "We gathered a daily open-high-low-close `dataset` for each firm in the [S&P500](https://en.wikipedia.org/wiki/S%26P_500) from `01-03-2024` until last week `09-23-24` close, along with data for a few exchange-traded funds and volatility products during that time. We load the `prediction_dataset` by calling the `MyOutOfSampleMarketDataSet()` function:"
   ]
  },
  {
   "cell_type": "code",
   "execution_count": 5,
   "id": "1e44a89c-ad3d-4553-b0bd-5abcc4e480a6",
   "metadata": {},
   "outputs": [
    {
     "ename": "LoadError",
     "evalue": "UndefVarError: `MyOutOfSampleMarketDataSet` not defined",
     "output_type": "error",
     "traceback": [
      "UndefVarError: `MyOutOfSampleMarketDataSet` not defined",
      "",
      "Stacktrace:",
      " [1] top-level scope",
      "   @ In[5]:1"
     ]
    }
   ],
   "source": [
    "prediction_dataset = MyOutOfSampleMarketDataSet() |> x-> x[\"dataset\"]"
   ]
  },
  {
   "cell_type": "markdown",
   "id": "617a032d-1d77-43e3-a02d-4c1e9b9cfe0f",
   "metadata": {},
   "source": [
    "Next, let's get a list of firms in the `prediction_dataset,` and save it in the `list_of_all_tickers::String` array:"
   ]
  },
  {
   "cell_type": "code",
   "execution_count": 7,
   "id": "de215081-5915-4210-b106-a00cd0190bc4",
   "metadata": {},
   "outputs": [
    {
     "ename": "LoadError",
     "evalue": "UndefVarError: `prediction_dataset` not defined",
     "output_type": "error",
     "traceback": [
      "UndefVarError: `prediction_dataset` not defined",
      "",
      "Stacktrace:",
      " [1] top-level scope",
      "   @ In[7]:1"
     ]
    }
   ],
   "source": [
    "list_of_all_tickers = keys(prediction_dataset) |> collect |> sort;"
   ]
  },
  {
   "cell_type": "markdown",
   "id": "9de3f79e-66a4-43f8-a866-88cf88ae937a",
   "metadata": {},
   "source": [
    "Finally, we saved the estimated real-world GBM model parameters using data from 2018 to 2023, so let's load the saved parameter file to initialize our GBM model.\n",
    "* Load the $(\\hat{\\mu},\\hat{\\sigma})$ dataset we computed previously [using `read(...)` method exported by the CSV.jl package](https://github.com/JuliaData/CSV.jl) and store this in the `parameters_df::DataFrame` variable. "
   ]
  },
  {
   "cell_type": "code",
   "execution_count": 9,
   "id": "881c0ed4-4fa1-4d18-9e21-cb6d8c4496e0",
   "metadata": {},
   "outputs": [],
   "source": [
    "parameters_df = CSV.read(joinpath(_PATH_TO_DATA,\"Parameters-SP500-2018-2023-Backup.csv\"), DataFrame);"
   ]
  },
  {
   "cell_type": "markdown",
   "id": "046952d1-1919-4ac3-a394-92878f92c59a",
   "metadata": {},
   "source": [
    "Finally, let's set some constants we'll use later in this notebook. The comments describe the constants, the units, permissible values, etc."
   ]
  },
  {
   "cell_type": "code",
   "execution_count": 11,
   "id": "5575c066-9c23-43c2-b940-13df448b37f0",
   "metadata": {},
   "outputs": [],
   "source": [
    "Δt = (1.0/252); # step size: 1-trading day in units of years\n",
    "risk_free_rate = 0.0; # hypothetical continuously compounding risk-free rate"
   ]
  },
  {
   "cell_type": "markdown",
   "id": "cdf32be4-90c6-4f16-b04f-ad344ff97453",
   "metadata": {},
   "source": [
    "## Task 1: Construct an out-of-sample GBM model\n",
    "In this task, we build a single asset GBM model to simulate data we have not seen before. We used `2018` to `2023` data to estimate the model parameters, but we'll now run price simulations for `2024` data.\n",
    "\n",
    "For the out-of-sample simulation, let's begin by specifying a `my_ticker_of_interest::String` and a `start_index::Int64` value. Note that when specifying the ticker to simulate, we must select a value in the `parameters_df::DataFrame` dataframe. "
   ]
  },
  {
   "cell_type": "code",
   "execution_count": 13,
   "id": "92378f49-2c03-4e3f-bb37-0e9ee075d6ce",
   "metadata": {},
   "outputs": [],
   "source": [
    "my_ticker_of_interest = \"SPY\";"
   ]
  },
  {
   "cell_type": "markdown",
   "id": "a03064e3-5db8-42cd-86f9-c5d80a26bc0f",
   "metadata": {},
   "source": [
    "Next, we select the parameters for `my_favorite_ticker::String.` We'll store these in the `my_parameters` variable, which is type [DataFrameRow](https://dataframes.juliadata.org/stable/lib/types/#DataFrames.DataFrameRow)."
   ]
  },
  {
   "cell_type": "code",
   "execution_count": 15,
   "id": "7fa84ce3-743b-43c4-ade9-40b3067eb826",
   "metadata": {},
   "outputs": [
    {
     "data": {
      "text/html": [
       "<div><div style = \"float: left;\"><span>DataFrameRow (3 columns)</span></div><div style = \"clear: both;\"></div></div><div class = \"data-frame\" style = \"overflow-x: scroll;\"><table class = \"data-frame\" style = \"margin-bottom: 6px;\"><thead><tr class = \"header\"><th class = \"rowLabel\" style = \"font-weight: bold; text-align: right;\">Row</th><th style = \"text-align: left;\">ticker</th><th style = \"text-align: left;\">drift</th><th style = \"text-align: left;\">volatility</th></tr><tr class = \"subheader headerLastRow\"><th class = \"rowLabel\" style = \"font-weight: bold; text-align: right;\"></th><th title = \"String7\" style = \"text-align: left;\">String7</th><th title = \"Float64\" style = \"text-align: left;\">Float64</th><th title = \"Float64\" style = \"text-align: left;\">Float64</th></tr></thead><tbody><tr><td class = \"rowLabel\" style = \"font-weight: bold; text-align: right;\">377</td><td style = \"text-align: left;\">SPY</td><td style = \"text-align: right;\">0.100555</td><td style = \"text-align: right;\">0.109962</td></tr></tbody></table></div>"
      ],
      "text/latex": [
       "\\begin{tabular}{r|ccc}\n",
       "\t& ticker & drift & volatility\\\\\n",
       "\t\\hline\n",
       "\t& String7 & Float64 & Float64\\\\\n",
       "\t\\hline\n",
       "\t377 & SPY & 0.100555 & 0.109962 \\\\\n",
       "\\end{tabular}\n"
      ],
      "text/plain": [
       "\u001b[1mDataFrameRow\u001b[0m\n",
       "\u001b[1m Row \u001b[0m│\u001b[1m ticker  \u001b[0m\u001b[1m drift    \u001b[0m\u001b[1m volatility \u001b[0m\n",
       "     │\u001b[90m String7 \u001b[0m\u001b[90m Float64  \u001b[0m\u001b[90m Float64    \u001b[0m\n",
       "─────┼───────────────────────────────\n",
       " 377 │ SPY      0.100555    0.109962"
      ]
     },
     "execution_count": 15,
     "metadata": {},
     "output_type": "execute_result"
    }
   ],
   "source": [
    "my_parameters = findfirst(x->x==my_ticker_of_interest, parameters_df[:,:ticker]) |> i-> parameters_df[i,:] "
   ]
  },
  {
   "cell_type": "markdown",
   "id": "bea34d43-1e34-4eeb-8e81-89a6046a865b",
   "metadata": {},
   "source": [
    "We can get the parameters from the `my_parameters::DataFrameRow` by passing in the column name to `my_parameters` row model [as a Julia Symbol](https://docs.julialang.org/en/v1/manual/metaprogramming/#Symbols)"
   ]
  },
  {
   "cell_type": "code",
   "execution_count": 17,
   "id": "706e1391-d976-45f3-8f8f-931c9c92330b",
   "metadata": {},
   "outputs": [],
   "source": [
    "μ̂ = my_parameters[:drift]; # drift parameter\n",
    "σ̂ = my_parameters[:volatility]; # volatility parameter"
   ]
  },
  {
   "cell_type": "markdown",
   "id": "986c923f-a80b-47bb-b3c9-e9ff243465a3",
   "metadata": {},
   "source": [
    "Now build an instance of the [MyGeometricBrownianMotionEquityModel](https://varnerlab.github.io/VLQuantitativeFinancePackage.jl/dev/equity/#VLQuantitativeFinancePackage.MyGeometricBrownianMotionEquityModel) using a [build function](https://varnerlab.github.io/VLQuantitativeFinancePackage.jl/dev/equity/#VLQuantitativeFinancePackage.build-Tuple{Type{MyGeometricBrownianMotionEquityModel},%20NamedTuple}), where you pass in values for the $(\\hat{\\mu},\\hat{\\sigma})$ parameters as arguments to the [build function](https://varnerlab.github.io/VLQuantitativeFinancePackage.jl/dev/equity/#VLQuantitativeFinancePackage.build-Tuple{Type{MyGeometricBrownianMotionEquityModel},%20NamedTuple}). Store this in the `model` variable:"
   ]
  },
  {
   "cell_type": "code",
   "execution_count": 19,
   "id": "637cbb97-e426-4956-b453-7134886dc075",
   "metadata": {},
   "outputs": [],
   "source": [
    "model = build(MyGeometricBrownianMotionEquityModel, (\n",
    "            μ = μ̂, σ = σ̂ ));"
   ]
  },
  {
   "cell_type": "markdown",
   "id": "d2f5ed06-9d1e-4f12-9ac2-3db8005ee5df",
   "metadata": {},
   "source": [
    "To simulate the GBM model, we need to specify the `number_of_samples,` i.e., the number of trajectories to compute, the initial share price `Sₒ,` the initial time `T₁,` the final time `T₂.` Pass these (along with your `model` instance) into the [sample function](https://varnerlab.github.io/VLQuantitativeFinancePackage.jl/dev/equity/#VLQuantitativeFinancePackage.sample-Tuple{MyGeometricBrownianMotionEquityModel,%20NamedTuple}). \n",
    "* The [sample function](https://varnerlab.github.io/VLQuantitativeFinancePackage.jl/dev/equity/#VLQuantitativeFinancePackage.sample-Tuple{MyGeometricBrownianMotionEquityModel,%20NamedTuple}) generates `number_of_samples` possible price trajectories from $T_{1}\\rightarrow{T}_{2}$ using the GBM `model` instance. The simulation data is returned as an array, where the first column in the time and columns `2:end` hold simulated trajectories. Store this in the variable `X`"
   ]
  },
  {
   "cell_type": "code",
   "execution_count": 21,
   "id": "67299179-5c46-4ba6-9b70-5d84acd771aa",
   "metadata": {},
   "outputs": [
    {
     "ename": "LoadError",
     "evalue": "UndefVarError: `prediction_dataset` not defined",
     "output_type": "error",
     "traceback": [
      "UndefVarError: `prediction_dataset` not defined",
      "",
      "Stacktrace:",
      " [1] top-level scope",
      "   @ In[21]:2"
     ]
    }
   ],
   "source": [
    "number_of_samples = 1000; # how many different futures should we simulate\n",
    "my_firm_dataset = prediction_dataset[my_ticker_of_interest]\n",
    "Sₒ = my_firm_dataset[1, :volume_weighted_average_price];\n",
    "T₁ = 0*Δt\n",
    "T₂ = (nrow(my_firm_dataset)-1)*Δt\n",
    "X = VLQuantitativeFinancePackage.sample(model, (Sₒ = Sₒ, T₁ = T₁, T₂ = T₂, Δt = Δt), \n",
    "    number_of_paths = number_of_samples);"
   ]
  },
  {
   "cell_type": "markdown",
   "id": "43f3dd8c-ae08-427e-bc95-3d4f863c23fe",
   "metadata": {},
   "source": [
    "## Task 2: Compare model prediction versus market observations\n",
    "In this task, we'll visualize and compare the GBM model simulations with market observations. In particular, we'll compute the expected value and the variance of the simulated price as a function of time.\n",
    "\n",
    "In addition to the numerical samples in the `X` array, we have analytical expressions for both the expected value and the variance of the share price. We've implemented the analytical expectation and variance calculations in the `𝔼(...)` and `Var(...)` functions. Let's call these functions to get analytical values for the expectation_arra and variance of the `VWAP.`"
   ]
  },
  {
   "cell_type": "code",
   "execution_count": 23,
   "id": "d82c5303-dc30-416f-8fef-f4e1b5995c2a",
   "metadata": {},
   "outputs": [
    {
     "ename": "LoadError",
     "evalue": "UndefVarError: `Sₒ` not defined",
     "output_type": "error",
     "traceback": [
      "UndefVarError: `Sₒ` not defined",
      "",
      "Stacktrace:",
      " [1] top-level scope",
      "   @ In[23]:1"
     ]
    }
   ],
   "source": [
    "expectation_array = expectation(model, (Sₒ = Sₒ, T₁ = T₁, T₂ = T₂, Δt = Δt));\n",
    "variance_array = variance(model, (Sₒ = Sₒ, T₁ = T₁, T₂ = T₂, Δt = Δt));"
   ]
  },
  {
   "cell_type": "markdown",
   "id": "84fa9622-2a3b-4c2e-8a33-3473defbf3b3",
   "metadata": {},
   "source": [
    "`Unhide` the block below to see how to plot the expected value and the variance of the simulated share price versus the actual shore price, as well as the sampled trajectories."
   ]
  },
  {
   "cell_type": "code",
   "execution_count": 25,
   "id": "f02a5c3a-e5e2-4901-8e2d-03b287538a16",
   "metadata": {
    "jupyter": {
     "source_hidden": true
    }
   },
   "outputs": [
    {
     "ename": "LoadError",
     "evalue": "UndefVarError: `expectation_array` not defined",
     "output_type": "error",
     "traceback": [
      "UndefVarError: `expectation_array` not defined",
      "",
      "Stacktrace:",
      " [1] top-level scope",
      "   @ In[25]:2"
     ]
    }
   ],
   "source": [
    "let\n",
    "    L68 = expectation_array[:,2] .- sqrt.(variance_array[:,2])\n",
    "    U68 = expectation_array[:,2] .+ sqrt.(variance_array[:,2])\n",
    "    L95 = expectation_array[:,2] .- 1.96*sqrt.(variance_array[:,2])\n",
    "    U95 = expectation_array[:,2] .+ 1.96*sqrt.(variance_array[:,2])\n",
    "    L99 = expectation_array[:,2] .- 2.576*sqrt.(variance_array[:,2])\n",
    "    U99 = expectation_array[:,2] .+ 2.576*sqrt.(variance_array[:,2])\n",
    "\n",
    "    plot(expectation_array[:,1], expectation_array[:,2], fillrange=L68, c=:deepskyblue1, alpha=0.75, label=\"\")\n",
    "    plot!(expectation_array[:,1], expectation_array[:,2], fillrange=U68, c=:deepskyblue1, alpha=0.75, label=\"\")\n",
    "    plot!(expectation_array[:,1], expectation_array[:,2], fillrange=L95, c=:deepskyblue1, alpha=0.4, label=\"\")\n",
    "    plot!(expectation_array[:,1], expectation_array[:,2], fillrange=U95, c=:deepskyblue1, alpha=0.4, label=\"\")\n",
    "    plot!(expectation_array[:,1], expectation_array[:,2], fillrange=L99, c=:deepskyblue1, alpha=0.3, label=\"\")\n",
    "    plot!(expectation_array[:,1], expectation_array[:,2], fillrange=U99, c=:deepskyblue1, alpha=0.3, label=\"\")\n",
    "\n",
    "    plot!(expectation_array[:,1], expectation_array[:,2],c=:blue, lw=3,ls=:dash, label=\"expectation\")\n",
    "    plot!(expectation_array[:,1], L68, c=:deepskyblue1, lw=1, label=\"\")\n",
    "    plot!(expectation_array[:,1], U68, c=:deepskyblue1, lw=1, label=\"\")\n",
    "    plot!(expectation_array[:,1], L95, c=:deepskyblue1, lw=1, label=\"\")\n",
    "    plot!(expectation_array[:,1], U95, c=:deepskyblue1, lw=1, label=\"\")\n",
    "    plot!(expectation_array[:,1], L99, c=:deepskyblue1, lw=1, label=\"\")\n",
    "    plot!(expectation_array[:,1], U99, c=:deepskyblue1, lw=1, label=\"\")\n",
    "\n",
    "    plot!(X[:,1],X[:,2:end], label=\"\", c=:gray50, alpha=0.3)\n",
    "    plot!(X[:,1], my_firm_dataset[1:end, :volume_weighted_average_price], lw=4, c=:red, \n",
    "        label=\"Firm-$(my_ticker_of_interest) actual\")\n",
    "     scatter!(X[1:end,1], my_firm_dataset[1:end, :volume_weighted_average_price], \n",
    "        label=\"\", msc=:red, mc=:white)\n",
    "\n",
    "\n",
    "    xlabel!(\"Time (years)\", fontsize=18)\n",
    "    ylabel!(\"Firm-$(my_ticker_of_interest) VWAP (USD/share)\", fontsize=18)\n",
    "end"
   ]
  },
  {
   "cell_type": "markdown",
   "id": "fd9e37a5-b468-488c-9cac-aaf0106f21a9",
   "metadata": {},
   "source": [
    "#### Check: Was this a successful GBM simulation?\n",
    "Determining if a model accurately represents data can be done in various ways, but we will utilize a straightforward functional test. This test involves checking if the simulated price falls within a specified lower bound ($L_{j}$) and upper bound ($U_{j}$) for all times $t_j$ within a given interval ($t_{j}\\in\\mathcal{I}_{k}$). \n",
    "\n",
    "* If the simulation meets this requirement, it is deemed a `success`. The values for $L_{j}$ and $U_{j}$ can be customized, but we set these to $\\mu\\pm{2.576}\\cdot{\\sigma}$, where $\\mu$ represents the expected value and $\\sigma$ is the standard deviation of the geometric Brownian motion simulation. \n",
    "* However, if the actual price exceeds the given bounds at any point, the simulation is considered a `failure`."
   ]
  },
  {
   "cell_type": "code",
   "execution_count": 27,
   "id": "6917782c-084a-459e-af0c-98d051291d25",
   "metadata": {
    "jupyter": {
     "source_hidden": true
    }
   },
   "outputs": [
    {
     "ename": "LoadError",
     "evalue": "UndefVarError: `expectation_array` not defined",
     "output_type": "error",
     "traceback": [
      "UndefVarError: `expectation_array` not defined",
      "",
      "Stacktrace:",
      " [1] top-level scope",
      "   @ ./In[27]:3"
     ]
    }
   ],
   "source": [
    "let\n",
    "    z = 2.576;\n",
    "    L = expectation_array[:,2] .- z*sqrt.(variance_array[:,2])\n",
    "    U = expectation_array[:,2] .+ z*sqrt.(variance_array[:,2])\n",
    "    T = nrow(my_firm_dataset);\n",
    "    start_index = 1;\n",
    "    stop_index = T;\n",
    "    \n",
    "    # check the bounds: if below L, or above U then the simulation failed\n",
    "    success_flag = true;\n",
    "    for k ∈ 1:T\n",
    "        if (my_firm_dataset[start_index+k-1,:volume_weighted_average_price] < L[k]) || (my_firm_dataset[start_index+k-1,:volume_weighted_average_price] > U[k])\n",
    "            success_flag = false;\n",
    "            break;\n",
    "        end\n",
    "    end\n",
    "    \n",
    "    println(\"The simulation of the VWAP of Firm-$(my_ticker_of_interest) between ($(start_index) -> $(stop_index)) was successful: $(success_flag)\")\n",
    "end"
   ]
  },
  {
   "cell_type": "markdown",
   "id": "a9c12e60-d217-49b2-8e3e-766bfafca2c6",
   "metadata": {},
   "source": [
    "## Task 3: Compute the probability of profit using GBM\n",
    "In this task, we will use a GBM model to compute the probability of profit (POP) for an equity trade using geometric Brownian motion (GBM) to estimate the future share price.\n",
    "\n",
    "Let's start by specifying the range of the fractional profit (loss) that we are interested in, which we store this in the `minumum_fractional_return::Array{Float64,1}` array:"
   ]
  },
  {
   "cell_type": "code",
   "execution_count": 29,
   "id": "eeb3cbbd-2c17-4966-a38c-6d41546e304c",
   "metadata": {},
   "outputs": [
    {
     "data": {
      "text/plain": [
       "21-element Vector{Float64}:\n",
       " -0.5\n",
       " -0.45\n",
       " -0.4\n",
       " -0.35\n",
       " -0.3\n",
       " -0.25\n",
       " -0.2\n",
       " -0.15\n",
       " -0.1\n",
       " -0.05\n",
       "  0.0\n",
       "  0.05\n",
       "  0.1\n",
       "  0.15\n",
       "  0.2\n",
       "  0.25\n",
       "  0.3\n",
       "  0.35\n",
       "  0.4\n",
       "  0.45\n",
       "  0.5"
      ]
     },
     "execution_count": 29,
     "metadata": {},
     "output_type": "execute_result"
    }
   ],
   "source": [
    "number_of_test_points = 21;\n",
    "minumum_fractional_return = range(-0.5,stop=0.5,length=number_of_test_points) |> collect"
   ]
  },
  {
   "cell_type": "markdown",
   "id": "c3856876-0d44-4060-813c-8df203f8ed28",
   "metadata": {},
   "source": [
    "Next, we'll estimate [the cumulative distribution function](https://en.wikipedia.org/wiki/Cumulative_distribution_function) for the fractional return, i.e., the scaled net present value for `2024` for `my_ticker_of_interest::String.`\n",
    "* __Strategy__: For each potential hypothetical future (specified by the `number_of_samples::Int64` variable), compute the fraction of these futures that are less than or equal to elements of the `minumum_fractional_return::Array{Float64,1}` array. This gives us an estimate of $P(X\\leq{x})$. In the $P(X\\leq{x})$ expression, big $X$ is a random value (observed fractional return), and $x$ is a specified value (desired fractional return).\n",
    "* `Unhide` the code block below to see how we estimated $P(X\\leq{x})$ for each element of the `minumum_fractional_return` array. We store these results in the `cumulative_probability_array::Array{Float64,2}` variable, where each row corresponds to a different desired fractional return, the first column in the fractional return $x$ and the second column holds the $P(X\\leq{x})$ values."
   ]
  },
  {
   "cell_type": "code",
   "execution_count": 31,
   "id": "07cb29d8-ad69-40d8-9d85-fc56f1fd3f2d",
   "metadata": {
    "jupyter": {
     "source_hidden": true
    }
   },
   "outputs": [
    {
     "ename": "LoadError",
     "evalue": "UndefVarError: `X` not defined",
     "output_type": "error",
     "traceback": [
      "UndefVarError: `X` not defined",
      "",
      "Stacktrace:",
      " [1] top-level scope",
      "   @ ./In[31]:9"
     ]
    }
   ],
   "source": [
    "cumulative_probability_array = let\n",
    "\n",
    "    cumulative_probability_array = Array{Float64,2}(undef, number_of_test_points, 2);\n",
    "    for i ∈ eachindex(minumum_fractional_return)\n",
    "        test_return = minumum_fractional_return[i];\n",
    "    \n",
    "        N₊ = 0; # How many positive examples do we have?\n",
    "        for j ∈ 1:number_of_samples\n",
    "            Sₒ = X[1,j+1]; # initial share price\n",
    "            S = X[end,j+1]; # final price, col 1 is time\n",
    "            estimate_fractional_return = (S - Sₒ)/Sₒ;\n",
    "\n",
    "            # in this potential future, estimate_fractional_return ≤ test_return?\n",
    "            if (estimate_fractional_return ≤ test_return)\n",
    "                N₊ += 1;\n",
    "            end\n",
    "        end\n",
    "\n",
    "        cumulative_probability_array[i,1] = test_return;\n",
    "        cumulative_probability_array[i,2] = (N₊/number_of_samples);\n",
    "    end\n",
    "\n",
    "    cumulative_probability_array;\n",
    "end;"
   ]
  },
  {
   "cell_type": "markdown",
   "id": "2884a515-d370-4a0f-ba71-f9d3282e746a",
   "metadata": {},
   "source": [
    "### Visualize\n",
    "`Unhide` the code block below to see how we plotted the estimated $P(X\\leq{x})$ values."
   ]
  },
  {
   "cell_type": "code",
   "execution_count": 33,
   "id": "70a27140-8996-41d2-9937-54f52d686016",
   "metadata": {
    "jupyter": {
     "source_hidden": true
    }
   },
   "outputs": [
    {
     "ename": "LoadError",
     "evalue": "UndefVarError: `cumulative_probability_array` not defined",
     "output_type": "error",
     "traceback": [
      "UndefVarError: `cumulative_probability_array` not defined",
      "",
      "Stacktrace:",
      " [1] top-level scope",
      "   @ In[33]:2"
     ]
    }
   ],
   "source": [
    "let\n",
    "    plot(cumulative_probability_array[:,1], cumulative_probability_array[:,2], \n",
    "        c=:blue, lw=2, label=\"$(my_ticker_of_interest) 2024\");\n",
    "    xlabel!(\"Future fractional return\", fontsize=18)\n",
    "    ylabel!(\"Probability P(X ≤ x)\", fontsize=18)\n",
    "end"
   ]
  },
  {
   "cell_type": "markdown",
   "id": "ff3f5619-ef29-4ffb-8729-f68aaf8e9e14",
   "metadata": {},
   "source": [
    "### Discussion\n",
    "1. Hmmm. The $P(X\\leq{x})$ curve looks rough. How would we change our calculations to make a smoother cumulative probability curve?\n",
    "1. What are the potential risks (or shortcomings) associated with using this approach to estimate the probability of profit?"
   ]
  },
  {
   "cell_type": "markdown",
   "id": "f1b11062-4278-46c7-b578-a8c0e277ff30",
   "metadata": {},
   "source": [
    "### Curious: What fractional return have we observed?\n",
    "We predicted the probability of observing a particular value for the fractional return. What value have we actually observed in the market?"
   ]
  },
  {
   "cell_type": "code",
   "execution_count": 36,
   "id": "2fc35460-8cee-4e26-b5ab-2eacf0ba226b",
   "metadata": {},
   "outputs": [
    {
     "ename": "LoadError",
     "evalue": "UndefVarError: `my_firm_dataset` not defined",
     "output_type": "error",
     "traceback": [
      "UndefVarError: `my_firm_dataset` not defined",
      "",
      "Stacktrace:",
      " [1] top-level scope",
      "   @ In[36]:2"
     ]
    }
   ],
   "source": [
    "f = let\n",
    "    Sₒ = my_firm_dataset[1, :volume_weighted_average_price];\n",
    "    S = my_firm_dataset[end, :volume_weighted_average_price];\n",
    "    f = (S - Sₒ)/Sₒ\n",
    "end\n",
    "println(\"$(my_ticker_of_interest) has a YTD fractional return of: $(f)\")"
   ]
  },
  {
   "cell_type": "markdown",
   "id": "08bd4e60-e133-45be-931c-dd397d952ecf",
   "metadata": {},
   "source": [
    "#### What probability did we give this fractional return?\n",
    "What is the probability that we'll see a fractional return greater than the observed fractional return in the market?"
   ]
  },
  {
   "cell_type": "code",
   "execution_count": 38,
   "id": "00e378f7-2fc1-4dc5-91d5-392956c72fd1",
   "metadata": {},
   "outputs": [
    {
     "ename": "LoadError",
     "evalue": "UndefVarError: `cumulative_probability_array` not defined",
     "output_type": "error",
     "traceback": [
      "UndefVarError: `cumulative_probability_array` not defined",
      "",
      "Stacktrace:",
      " [1] top-level scope",
      "   @ In[38]:2"
     ]
    }
   ],
   "source": [
    "p = let\n",
    "    i = findlast(x -> x ≤ f, cumulative_probability_array[:,1])\n",
    "    p = cumulative_probability_array[i,2]\n",
    "end\n",
    "println(\"Probability that we'll get a return greater than $(f) is $(1 - p)\")"
   ]
  },
  {
   "cell_type": "markdown",
   "id": "4db93780-68a9-44a1-a858-39f33a26da82",
   "metadata": {},
   "source": [
    "## Disclaimer and Risks\n",
    "__This content is offered solely for training and informational purposes__. No offer or solicitation to buy or sell securities or derivative products or any investment or trading advice or strategy is made, given, or endorsed by the teaching team. \n",
    "\n",
    "__Trading involves risk__. Carefully review your financial situation before investing in securities, futures contracts, options, or commodity interests. Past performance, whether actual or indicated by historical tests of strategies, is no guarantee of future performance or success. Trading is generally inappropriate for someone with limited resources, investment or trading experience, or a low-risk tolerance.  Only risk capital that is not required for living expenses.\n",
    "\n",
    "__You are fully responsible for any investment or trading decisions you make__. Such decisions should be based solely on evaluating your financial circumstances, investment or trading objectives, risk tolerance, and liquidity needs."
   ]
  }
 ],
 "metadata": {
  "kernelspec": {
   "display_name": "Julia 1.10.5",
   "language": "julia",
   "name": "julia-1.10"
  },
  "language_info": {
   "file_extension": ".jl",
   "mimetype": "application/julia",
   "name": "julia",
   "version": "1.10.5"
  }
 },
 "nbformat": 4,
 "nbformat_minor": 5
}
