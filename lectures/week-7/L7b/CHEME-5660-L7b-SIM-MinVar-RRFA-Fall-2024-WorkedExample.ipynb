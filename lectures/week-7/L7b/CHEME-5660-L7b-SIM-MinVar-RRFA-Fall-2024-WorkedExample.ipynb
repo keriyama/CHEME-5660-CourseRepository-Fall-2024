{
 "cells": [
  {
   "cell_type": "markdown",
   "id": "ff1d80a2-3db9-402c-9d26-812bdb715b4b",
   "metadata": {},
   "source": [
    "# Project: Single Index Models and the Capital Allocation Line\n",
    "In the worked example for this module, we compared data-driven and single-index models portfolio allocation for a basket of risky assets. Now, let's consider the case in which our portfolio can have both risk-free and risky assets. \n",
    "\n",
    "### Learning objectives\n",
    "The objective of this project is to compute the expected return vector $\\mathbb{E}(R_{i})$ and the covariance matrix $\\mathbf{\\Sigma}$ using the single index models, where we use `SPY` as the market, or benchmark, portfolio. Using these quantities, you'll explore the portfolio allocation problem for combinations of risky and risk-free assets.\n",
    "\n",
    "* __Prerequisites__: we'll begin by loading the historical dataset. The data we'll explore is daily open-high-low-close values for firms in the [S&P500 index](https://en.wikipedia.org/wiki/S%26P_500) between `01-03-2018` and `12-29-2023`.\n",
    "* __Task 1__: We'll compute the expected returns and the covariance arrays using the single index models\n",
    "* __Task 2__: We'll compute the efficient frontier by solving the minimum variance optimization problem for the single index model formulation for the low-correlation collection of risky assets.\n",
    "* __Task 3__: Finally, you'll compute the capital allocation line and the tangent portfolio using the single index models and look at what is inside your tangent portfolio."
   ]
  },
  {
   "cell_type": "markdown",
   "id": "f096d527-c415-4911-9223-2cafa58f7ec7",
   "metadata": {},
   "source": [
    "## Setup\n",
    "We set up the computational environment by including the `Include.jl` file. The `Include.jl` file loads external packages, various functions that we will use in the exercise, and custom types to model the components of our lab problem.\n",
    "* For additional information on functions and types used in this material, see the [Julia programming language documentation](https://docs.julialang.org/en/v1/) and the [VLQuantitativeFinancePackage.jl documentation](https://github.com/varnerlab/VLQuantitativeFinancePackage.jl). "
   ]
  },
  {
   "cell_type": "code",
   "execution_count": 3,
   "id": "77f92816-b118-4825-8a63-92e56dd0d332",
   "metadata": {},
   "outputs": [],
   "source": [
    "include(\"Include.jl\");"
   ]
  },
  {
   "cell_type": "markdown",
   "id": "cc18f2a7-bca8-48c8-9ef3-f8080c367233",
   "metadata": {},
   "source": [
    "## Prerequisites: Load and clean the historical dataset\n",
    "We gathered a daily open-high-low-close `dataset` for each firm in the [S&P500](https://en.wikipedia.org/wiki/S%26P_500) since `01-03-2018` until `12-29-2023`, along with data for a few exchange-traded funds and volatility products during that time. We load the `orignal_dataset` by calling the [load(...) method exported by the JLD2.jl package](https://github.com/JuliaIO/JLD2.jl.git)."
   ]
  },
  {
   "cell_type": "code",
   "execution_count": 5,
   "id": "7bf8ba31-69cb-465c-ac5d-75d32a880e47",
   "metadata": {},
   "outputs": [],
   "source": [
    "original_dataset = load(joinpath(_PATH_TO_DATA, \"SP500-Daily-OHLC-1-3-2018-to-12-29-2023.jld2\")) |> x-> x[\"dataset\"];"
   ]
  },
  {
   "cell_type": "markdown",
   "id": "abbcaf37-40df-4789-9983-c5cf1b02a872",
   "metadata": {},
   "source": [
    "### Clean the data\n",
    "Not all of the tickers in our dataset have the maximum number of trading days for various reasons, e.g., acquistion or de-listing events. Let's collect only those tickers with the maximum number of tradition days.\n",
    "\n",
    "* First, let's compute the number of records for a company that we know has a maximim value, e.g., `AAPL` and save that value in the `maximum_number_trading_days` variable:"
   ]
  },
  {
   "cell_type": "code",
   "execution_count": 7,
   "id": "26cf7149-0a9f-4523-b01a-fdd01b1c7c28",
   "metadata": {},
   "outputs": [],
   "source": [
    "maximum_number_trading_days = original_dataset[\"AAPL\"] |> nrow;"
   ]
  },
  {
   "cell_type": "markdown",
   "id": "85e73e9f-c3c9-460b-bd39-f59568925214",
   "metadata": {},
   "source": [
    "Next, iterate through our data and collect only tickers with `maximum_number_trading_days` records. Save that data in the `dataset::Dict{String,DataFrame}` variable:"
   ]
  },
  {
   "cell_type": "code",
   "execution_count": 9,
   "id": "7f77a6f3-181d-4a51-bb89-cfa1669ddd8b",
   "metadata": {},
   "outputs": [
    {
     "data": {
      "text/plain": [
       "Dict{String, DataFrame} with 460 entries:\n",
       "  \"NI\"   => \u001b[1m1508×8 DataFrame\u001b[0m\u001b[0m…\n",
       "  \"EMR\"  => \u001b[1m1508×8 DataFrame\u001b[0m\u001b[0m…\n",
       "  \"CTAS\" => \u001b[1m1508×8 DataFrame\u001b[0m\u001b[0m…\n",
       "  \"HSIC\" => \u001b[1m1508×8 DataFrame\u001b[0m\u001b[0m…\n",
       "  \"KIM\"  => \u001b[1m1508×8 DataFrame\u001b[0m\u001b[0m…\n",
       "  \"PLD\"  => \u001b[1m1508×8 DataFrame\u001b[0m\u001b[0m…\n",
       "  \"IEX\"  => \u001b[1m1508×8 DataFrame\u001b[0m\u001b[0m…\n",
       "  \"BAC\"  => \u001b[1m1508×8 DataFrame\u001b[0m\u001b[0m…\n",
       "  \"CBOE\" => \u001b[1m1508×8 DataFrame\u001b[0m\u001b[0m…\n",
       "  \"EXR\"  => \u001b[1m1508×8 DataFrame\u001b[0m\u001b[0m…\n",
       "  \"NCLH\" => \u001b[1m1508×8 DataFrame\u001b[0m\u001b[0m…\n",
       "  \"CVS\"  => \u001b[1m1508×8 DataFrame\u001b[0m\u001b[0m…\n",
       "  \"DRI\"  => \u001b[1m1508×8 DataFrame\u001b[0m\u001b[0m…\n",
       "  \"DTE\"  => \u001b[1m1508×8 DataFrame\u001b[0m\u001b[0m…\n",
       "  \"ZION\" => \u001b[1m1508×8 DataFrame\u001b[0m\u001b[0m…\n",
       "  \"AVY\"  => \u001b[1m1508×8 DataFrame\u001b[0m\u001b[0m…\n",
       "  \"EW\"   => \u001b[1m1508×8 DataFrame\u001b[0m\u001b[0m…\n",
       "  \"EA\"   => \u001b[1m1508×8 DataFrame\u001b[0m\u001b[0m…\n",
       "  \"NWSA\" => \u001b[1m1508×8 DataFrame\u001b[0m\u001b[0m…\n",
       "  \"CAG\"  => \u001b[1m1508×8 DataFrame\u001b[0m\u001b[0m…\n",
       "  \"GPC\"  => \u001b[1m1508×8 DataFrame\u001b[0m\u001b[0m…\n",
       "  \"FCX\"  => \u001b[1m1508×8 DataFrame\u001b[0m\u001b[0m…\n",
       "  \"GILD\" => \u001b[1m1508×8 DataFrame\u001b[0m\u001b[0m…\n",
       "  \"UNP\"  => \u001b[1m1508×8 DataFrame\u001b[0m\u001b[0m…\n",
       "  \"CDW\"  => \u001b[1m1508×8 DataFrame\u001b[0m\u001b[0m…\n",
       "  ⋮      => ⋮"
      ]
     },
     "execution_count": 9,
     "metadata": {},
     "output_type": "execute_result"
    }
   ],
   "source": [
    "dataset = Dict{String,DataFrame}();\n",
    "for (ticker,data) ∈ original_dataset\n",
    "    if (nrow(data) == maximum_number_trading_days)\n",
    "        dataset[ticker] = data;\n",
    "    end\n",
    "end\n",
    "dataset"
   ]
  },
  {
   "cell_type": "markdown",
   "id": "9afa5bbc-6f29-4731-8553-40f23adb06ce",
   "metadata": {},
   "source": [
    "Let's get a sorted list of firms that we have in cleaned up `dataset`, and save it in the `list_of_all_tickers` array:"
   ]
  },
  {
   "cell_type": "code",
   "execution_count": 11,
   "id": "317e013a-c072-46d0-9bdb-14edf2214462",
   "metadata": {},
   "outputs": [],
   "source": [
    "list_of_all_tickers = keys(dataset) |> collect |> sort;"
   ]
  },
  {
   "cell_type": "markdown",
   "id": "3e838fff-61c6-4e60-927d-23f0e77435bb",
   "metadata": {},
   "source": [
    "Finally, let's set some constant values, e.g., a value for the `risk_free_rate` and the $\\Delta{t}$ value (1-trading day in units of years):"
   ]
  },
  {
   "cell_type": "code",
   "execution_count": 13,
   "id": "0ad41506-1684-4193-9f85-640a7952cef2",
   "metadata": {},
   "outputs": [],
   "source": [
    "risk_free_rate = 0.0389; # continuous compounded risk-free rate (units: 1/yr)\n",
    "Δt = (1.0/252); # 1-trading day (units: years)"
   ]
  },
  {
   "cell_type": "markdown",
   "id": "59eb2997-8e06-4415-be05-43d7d37d354e",
   "metadata": {},
   "source": [
    "### Compute the covariance and expected return for all firms in the dataset\n",
    "The expected return $\\mathbb{E}(r_{i})$ and covariance matrix $\\Sigma$ will be used in our calculations, so we'll provide values for both of these items for the entire data set (all `N = 460` tickers), and then you can pick out which tickers you are interested in. \n",
    "\n",
    "* First, we compute the expected (annualized) log return by passing the `dataset` and the entire list of firms we have in the dataset (held in the $N\\times{1}$ `list_of_all_tickers` array) to the [log_growth_matrix(...) method](https://varnerlab.github.io/VLQuantitativeFinancePackage.jl/dev/equity/#VLQuantitativeFinancePackage.log_growth_matrix). The result is stored in the `all_firms_return_matrix` variable, a $T-1\\times{N}$ array of log return values. Each row of `all_firms_return_matrix` corresponds to a time value, while each column corresponds to a firm:"
   ]
  },
  {
   "cell_type": "code",
   "execution_count": 15,
   "id": "7b0d3cbf-228a-4af6-80ca-5cb5db292e77",
   "metadata": {},
   "outputs": [
    {
     "data": {
      "text/plain": [
       "1507×460 Matrix{Float64}:\n",
       "  0.336088   1.89038     6.98879   …   5.76269     1.75992    2.01562\n",
       "  2.15097   -0.657039    3.98147       3.96778    -0.750836   2.937\n",
       "  0.897421  -1.95507    -0.842654      2.86038    -0.394878   2.43031\n",
       "  6.16272    1.47313    -1.90992       6.56668     5.1095     3.37483\n",
       " -3.51528    4.88241    -0.306577      1.77612     3.328     -4.90903\n",
       " -0.36462   10.2428      2.76778   …  10.6928      2.20144    2.44313\n",
       "  3.26779    9.92523     7.33219       5.82065     2.35812    3.11215\n",
       " -0.208597   1.24649    -1.55764       2.68177    -1.59373    1.0681\n",
       "  1.65959   -0.294763    1.91961       0.400949   -0.140935   2.80741\n",
       "  0.1744     0.0990042  -0.522502     -0.199756   -0.544464  -1.12981\n",
       "  2.97962   -1.0158      3.82748   …  -0.0867694   2.25035    0.953927\n",
       "  0.874309  -0.725771    0.961274      0.243296    1.8525     1.44534\n",
       "  1.06706    0.0580966   1.8466        2.42106     1.36853    1.7907\n",
       "  ⋮                                ⋱                         \n",
       "  6.84042   -3.00103    14.2595    …   1.57549    15.7316     5.55569\n",
       "  9.98466   11.3858     19.6346       26.0367     27.5737     5.98557\n",
       " -0.47339   -0.29948    -6.8959        4.86467    -7.2843    -4.99467\n",
       "  0.512892  -5.22272    -7.85225      -5.5044     -4.72653    0.43672\n",
       "  3.48824    2.42758     0.420682      2.38842     2.66637    1.82285\n",
       " -0.276805  -2.928      -1.68008   …  -4.72665    -3.81599   -1.83426\n",
       " -0.787705   2.40002    -0.339965     -0.403442    1.53229   -2.12932\n",
       "  1.07029   -0.35239     3.66715       3.51896     3.53631   -0.748648\n",
       "  0.236013  -2.91543    -0.773453      5.13949     4.10492    1.26944\n",
       " -0.241942  -2.38307     0.456664      1.25146    -0.936607   1.20035\n",
       "  0.83941   -0.703668    0.433511  …  -0.205822   -0.232854   1.01781\n",
       " -2.03969   -3.92732    -1.24409      -1.19942    -2.9388     0.0732309"
      ]
     },
     "execution_count": 15,
     "metadata": {},
     "output_type": "execute_result"
    }
   ],
   "source": [
    "all_firms_excess_return_matrix = log_growth_matrix(dataset, list_of_all_tickers, \n",
    "    Δt = Δt, risk_free_rate = risk_free_rate) # one-trading day Δt"
   ]
  },
  {
   "cell_type": "markdown",
   "id": "5dd9cbb4-2472-45ca-b921-4dd0b55fb5e9",
   "metadata": {},
   "source": [
    "Next, estimate the expected excess return for each firm from the `all_firms_excess_return_matrix` using the [mean(...) function](https://docs.julialang.org/en/v1/stdlib/Statistics/#Statistics.mean), which is exported by the [Statistics.jl package](https://docs.julialang.org/en/v1/stdlib/Statistics/). We save the $N\\times{1}$ vector of expected values, i.e., $\\mathbb{E}(R_{1}),\\dotsc,\\mathbb{E}(R_{N})$ in the variable `μ`:"
   ]
  },
  {
   "cell_type": "code",
   "execution_count": 17,
   "id": "b83281ee-781a-44dd-8e79-a533324b8876",
   "metadata": {},
   "outputs": [],
   "source": [
    "μ = mean(all_firms_excess_return_matrix, dims=1) |> vec;"
   ]
  },
  {
   "cell_type": "markdown",
   "id": "7b7abf62-a58e-44e8-bab3-8b96edaaa17d",
   "metadata": {},
   "source": [
    "Finally, we estimate the annualized `correlation matrix` (assuming `252` trading days per year) from the `all_firms_return_matrix` using the [cor(...) function](https://docs.julialang.org/en/v1/stdlib/Statistics/#Statistics.cor), exported by the [Statistics.jl package](https://docs.julialang.org/en/v1/stdlib/Statistics/). We store the $N\\times{N}$ correlation matrix in the $ρ$ variable:"
   ]
  },
  {
   "cell_type": "code",
   "execution_count": 19,
   "id": "06d35f34-bf9e-43c5-b594-dbd3f13cca07",
   "metadata": {},
   "outputs": [
    {
     "data": {
      "text/plain": [
       "460×460 Matrix{Float64}:\n",
       " 1.0       0.300001  0.301695  0.479962  …  0.48165   0.333841  0.581071\n",
       " 0.300001  1.0       0.304549  0.317579     0.36358   0.461435  0.29548\n",
       " 0.301695  0.304549  1.0       0.254655     0.308162  0.359682  0.339325\n",
       " 0.479962  0.317579  0.254655  1.0          0.47834   0.253979  0.52406\n",
       " 0.304411  0.151737  0.223867  0.267654     0.191234  0.211721  0.363022\n",
       " 0.5611    0.193803  0.230915  0.446208  …  0.37737   0.227813  0.55824\n",
       " 0.557203  0.368804  0.374852  0.577663     0.51357   0.403288  0.597762\n",
       " 0.497469  0.220908  0.22843   0.592591     0.473501  0.191866  0.517024\n",
       " 0.534947  0.427773  0.298274  0.565422     0.545263  0.378167  0.489485\n",
       " 0.352345  0.380973  0.320304  0.31355      0.338222  0.483813  0.321355\n",
       " 0.486248  0.3863    0.367593  0.481361  …  0.451597  0.394284  0.55267\n",
       " 0.547685  0.352786  0.289148  0.542806     0.523489  0.297925  0.510328\n",
       " 0.312193  0.164855  0.256664  0.290533     0.215522  0.222574  0.405913\n",
       " ⋮                                       ⋱                      \n",
       " 0.33564   0.390322  0.308548  0.33613      0.347845  0.426606  0.361773\n",
       " 0.460143  0.49507   0.3898    0.44248      0.481424  0.474044  0.460455\n",
       " 0.340466  0.553811  0.293123  0.375041  …  0.369269  0.443582  0.347877\n",
       " 0.287902  0.136388  0.249735  0.289226     0.172524  0.173591  0.391128\n",
       " 0.297873  0.412647  0.268475  0.286367     0.330296  0.492088  0.275743\n",
       " 0.359474  0.343135  0.277976  0.281978     0.29382   0.385608  0.385279\n",
       " 0.518415  0.464553  0.322296  0.417341     0.461731  0.461953  0.46797\n",
       " 0.41707   0.394911  0.355828  0.406742  …  0.369295  0.327794  0.525507\n",
       " 0.459092  0.4635    0.332702  0.425792     0.403887  0.42216   0.498437\n",
       " 0.48165   0.36358   0.308162  0.47834      1.0       0.394423  0.46483\n",
       " 0.333841  0.461435  0.359682  0.253979     0.394423  1.0       0.273375\n",
       " 0.581071  0.29548   0.339325  0.52406      0.46483   0.273375  1.0"
      ]
     },
     "execution_count": 19,
     "metadata": {},
     "output_type": "execute_result"
    }
   ],
   "source": [
    "ρ = cor(all_firms_excess_return_matrix) # correlation matrix"
   ]
  },
  {
   "cell_type": "markdown",
   "id": "c399e928-b475-447d-b164-3464bbffb6dd",
   "metadata": {},
   "source": [
    "### Load single index models, compute the single index returns and covariance\n",
    "In a previous module, we estimated the parameters and residual distributions for each `ticker`$\\in$`list_of_all_tickers` and saved these to a [JLD2.jl file](https://github.com/JuliaIO/JLD2.jl). Load this file using the [load(...) function](https://juliaio.github.io/JLD2.jl/stable/#save-and-load-functions). \n",
    "* Store the model collection in the `sim_model_dictionary` variable, where the keys of the dictionary are the ticker symbols and the values are the parameterized [MySingleIndexModel instances](https://varnerlab.github.io/VLQuantitativeFinancePackage.jl/dev/portfolio/#VLQuantitativeFinancePackage.MySingleIndexModel) estimated previously."
   ]
  },
  {
   "cell_type": "code",
   "execution_count": 21,
   "id": "f3292c05-58be-46c8-8b6b-06853c388e3a",
   "metadata": {},
   "outputs": [
    {
     "data": {
      "text/plain": [
       "Dict{String, MySingleIndexModel} with 460 entries:\n",
       "  \"NI\"   => MySingleIndexModel(-0.0709741, 0.652999, 0.05, Normal{Float64}(μ=1.…\n",
       "  \"EMR\"  => MySingleIndexModel(-0.0523764, 1.23526, 0.05, Normal{Float64}(μ=-1.…\n",
       "  \"CTAS\" => MySingleIndexModel(0.121408, 1.17936, 0.05, Normal{Float64}(μ=2.298…\n",
       "  \"HSIC\" => MySingleIndexModel(-0.0820776, 0.913675, 0.05, Normal{Float64}(μ=1.…\n",
       "  \"KIM\"  => MySingleIndexModel(-0.0786588, 1.28859, 0.05, Normal{Float64}(μ=-6.…\n",
       "  \"PLD\"  => MySingleIndexModel(0.0276239, 1.02836, 0.05, Normal{Float64}(μ=-1.4…\n",
       "  \"IEX\"  => MySingleIndexModel(-0.0098079, 0.963259, 0.05, Normal{Float64}(μ=-1…\n",
       "  \"BAC\"  => MySingleIndexModel(-0.0885823, 1.32778, 0.05, Normal{Float64}(μ=-6.…\n",
       "  \"CBOE\" => MySingleIndexModel(-0.0143917, 0.588498, 0.05, Normal{Float64}(μ=3.…\n",
       "  \"EXR\"  => MySingleIndexModel(0.0222396, 0.725388, 0.05, Normal{Float64}(μ=1.0…\n",
       "  \"NCLH\" => MySingleIndexModel(-0.321969, 2.32891, 0.05, Normal{Float64}(μ=1.12…\n",
       "  \"CVS\"  => MySingleIndexModel(-0.0727375, 0.78292, 0.05, Normal{Float64}(μ=-6.…\n",
       "  \"DRI\"  => MySingleIndexModel(-0.0246557, 1.36306, 0.05, Normal{Float64}(μ=-5.…\n",
       "  \"DTE\"  => MySingleIndexModel(-0.0810004, 0.769165, 0.05, Normal{Float64}(μ=-9…\n",
       "  \"ZION\" => MySingleIndexModel(-0.133986, 1.36377, 0.05, Normal{Float64}(μ=2.91…\n",
       "  \"AVY\"  => MySingleIndexModel(-0.00850994, 1.16058, 0.05, Normal{Float64}(μ=-9…\n",
       "  \"EW\"   => MySingleIndexModel(0.0170927, 1.11274, 0.05, Normal{Float64}(μ=-2.1…\n",
       "  \"EA\"   => MySingleIndexModel(-0.041578, 0.629636, 0.05, Normal{Float64}(μ=6.3…\n",
       "  \"NWSA\" => MySingleIndexModel(-0.0333702, 1.12238, 0.05, Normal{Float64}(μ=1.2…\n",
       "  \"CAG\"  => MySingleIndexModel(-0.113992, 0.437623, 0.05, Normal{Float64}(μ=-6.…\n",
       "  \"GILD\" => MySingleIndexModel(-0.05894, 0.516018, 0.05, Normal{Float64}(μ=1.88…\n",
       "  \"FCX\"  => MySingleIndexModel(0.00087543, 1.80621, 0.05, Normal{Float64}(μ=-4.…\n",
       "  \"GPC\"  => MySingleIndexModel(-0.0382007, 1.06584, 0.05, Normal{Float64}(μ=-5.…\n",
       "  \"UNP\"  => MySingleIndexModel(0.00276248, 1.03174, 0.05, Normal{Float64}(μ=4.5…\n",
       "  \"CDW\"  => MySingleIndexModel(0.0900448, 1.21706, 0.05, Normal{Float64}(μ=8.39…\n",
       "  ⋮      => ⋮"
      ]
     },
     "execution_count": 21,
     "metadata": {},
     "output_type": "execute_result"
    }
   ],
   "source": [
    "sim_model_dictionary = load(joinpath(_PATH_TO_DATA, \"SIMs-SP500-01-03-18-to-12-29-23.jld2\")) |> x->x[\"sim\"]"
   ]
  },
  {
   "cell_type": "code",
   "execution_count": 111,
   "id": "3e65c4cb-be37-48e5-9f86-337194ba3b0c",
   "metadata": {},
   "outputs": [
    {
     "data": {
      "text/plain": [
       "0.01774577564368699"
      ]
     },
     "execution_count": 111,
     "metadata": {},
     "output_type": "execute_result"
    }
   ],
   "source": [
    "sim_model_dictionary[\"GLD\"].α"
   ]
  },
  {
   "cell_type": "markdown",
   "id": "6a2b46b8-6b18-47b2-97a8-51fd2fa6cf55",
   "metadata": {},
   "source": [
    "Next, pull out the excess return of the `market portfolio` from the excess expected return `μ.` To do this, look up the index for our market portfolio surrogate `SPY,` then get this column of data from the `μ` array. We'll store the expected excess return for `SPY` in the `Rₘ` variable (scalar value):"
   ]
  },
  {
   "cell_type": "code",
   "execution_count": 23,
   "id": "d30805d9-882a-4104-8721-fcfd6354d206",
   "metadata": {},
   "outputs": [
    {
     "name": "stdout",
     "output_type": "stream",
     "text": [
      "The expected excess SPY growth rate equals: 0.05571549125844323\n"
     ]
    }
   ],
   "source": [
    "Rₘ = findfirst(x->x == \"SPY\", list_of_all_tickers) |> i -> μ[i];\n",
    "println(\"The expected excess SPY growth rate equals: $(Rₘ)\")"
   ]
  },
  {
   "cell_type": "markdown",
   "id": "88616301-147b-4828-9967-c93ed2df15da",
   "metadata": {},
   "source": [
    "#### Compute the expected returns using single index models\n",
    "Now, compute the expected return for each ticker in the `dataset` using the single index models computed in the previous module using a `for-loop.` For iteration of the loop:\n",
    "* Get the `ticker` symbol from the `list_of_all_tickers` array, and pull out the corresponding single index model from the `sim_model_dictionary` dictionary. Then, pull out the $(\\alpha, \\beta)$ parameters from the `sim` model instance and compute the expected return $\\mathbb{E}(R_{i})$. Store the expected return in the `μ_sim` array"
   ]
  },
  {
   "cell_type": "code",
   "execution_count": 25,
   "id": "bd17f71d-50b2-41d6-8f34-bc70dd5ea568",
   "metadata": {},
   "outputs": [],
   "source": [
    "μ_sim = Array{Float64,1}();\n",
    "for i ∈ eachindex(list_of_all_tickers)\n",
    "    sim = list_of_all_tickers[i] |> ticker -> sim_model_dictionary[ticker];   \n",
    "    αᵢ = sim.α\n",
    "    βᵢ = sim.β\n",
    "    (αᵢ+risk_free_rate+βᵢ*Rₘ) |> R̄ᵢ-> push!(μ_sim,R̄ᵢ); # convert back to raw return?\n",
    "end"
   ]
  },
  {
   "cell_type": "markdown",
   "id": "6f89899c-8d58-47a5-8893-518fe16d0ecf",
   "metadata": {},
   "source": [
    "#### Compute the Covariance matrix using single index models\n",
    "Next, build the covariance array using single index models. Substituting the single index model for the excess return of asset $i$ and $j$ into the covariance expression (and simplifying) gives:\n",
    "$$\n",
    "\\begin{equation*}\n",
    "\\text{cov}(R_{i}, R_{j}) = \\begin{cases}\n",
    "\\beta_{i}^{2}\\sigma_{m}^{2}+\\sigma_{\\epsilon_{i}}^{2} & i = j \\\\\n",
    "\\beta_{i}\\beta_{j}\\sigma_{m}^2 & i \\neq j\n",
    "\\end{cases}\n",
    "\\end{equation*}\n",
    "$$\n",
    "where $\\sigma_{m}^2$ denotes the variance of the excess return of the market,  and $\\sigma_{\\epsilon_{i}}^{2}$ denotes the variance of the firm-specific error model.\n",
    "\n",
    "* To compute the risk $\\sigma_{m}$, which is the standard deviation of the return for the market portfolio, we first find the index for `SPY` in the `all_firms_excess_return_matrix` using the [Julia findfirst(..) function](https://docs.julialang.org/en/v1/base/arrays/#Base.findfirst-Tuple{Any}), and then pass that value to the `all_firms_excess_return_matrix` using the [Julia pipe operator](https://docs.julialang.org/en/v1/manual/functions/#Function-composition-and-piping). Finally, we calculate the standard deviation of the return using the [std(...) function exported by the Statistics.jl package](https://docs.julialang.org/en/v1/stdlib/Statistics/#Statistics)."
   ]
  },
  {
   "cell_type": "code",
   "execution_count": 27,
   "id": "15cce6be-a26e-4013-916d-220a2ce6fe86",
   "metadata": {},
   "outputs": [],
   "source": [
    "σₘ = findfirst(x->x == \"SPY\", list_of_all_tickers) |> i-> std(all_firms_excess_return_matrix[:, i]);"
   ]
  },
  {
   "cell_type": "markdown",
   "id": "5344a1a7-628e-42d6-8486-979ebce0a806",
   "metadata": {},
   "source": [
    "Finally, we populate the single index covariance array `Σ_sim` using nested `for-loops.`"
   ]
  },
  {
   "cell_type": "code",
   "execution_count": 29,
   "id": "9be7a42a-3568-4f0d-8280-07e47fe4995c",
   "metadata": {},
   "outputs": [
    {
     "data": {
      "text/plain": [
       "460×460 Matrix{Float64}:\n",
       " 0.0655125  0.0474137  0.0270404  …  0.0382685  0.0368694  0.028433\n",
       " 0.0474137  0.283672   0.0442603     0.0626386  0.0603485  0.0465398\n",
       " 0.0270404  0.0442603  0.124944      0.0357233  0.0344173  0.026542\n",
       " 0.0335284  0.0548799  0.0312985     0.0442946  0.0426752  0.0329104\n",
       " 0.0191946  0.0314181  0.017918      0.0253581  0.024431   0.0188408\n",
       " 0.0225451  0.0369023  0.0210457  …  0.0297845  0.0286956  0.0221295\n",
       " 0.0327104  0.0535409  0.0305348     0.0432139  0.041634   0.0321074\n",
       " 0.0339976  0.055648   0.0317365     0.0449145  0.0432724  0.033371\n",
       " 0.0335058  0.0548429  0.0312774     0.0442647  0.0426464  0.0328882\n",
       " 0.0223401  0.0365666  0.0208543     0.0295136  0.0284346  0.0219283\n",
       " 0.0275607  0.0451119  0.0257277  …  0.0364106  0.0350795  0.0270527\n",
       " 0.0398017  0.0651482  0.0371546     0.0525823  0.0506599  0.0390681\n",
       " 0.016821   0.0275329  0.0157022     0.0222223  0.0214099  0.0165109\n",
       " ⋮                                ⋱                        \n",
       " 0.0233556  0.0382289  0.0218022     0.0308552  0.0297272  0.0229251\n",
       " 0.0362529  0.0593394  0.0338417     0.0478939  0.0461429  0.0355846\n",
       " 0.0478076  0.0782523  0.044628   …  0.0631589  0.0608498  0.0469263\n",
       " 0.0150289  0.0245996  0.0140293     0.0198548  0.0191289  0.0147519\n",
       " 0.0275063  0.0450229  0.0256769     0.0363388  0.0350103  0.0269993\n",
       " 0.0267399  0.0437683  0.0249614     0.0353262  0.0340347  0.026247\n",
       " 0.0310632  0.0508449  0.0289972     0.0410378  0.0395375  0.0304906\n",
       " 0.024018   0.0393132  0.0224206  …  0.0317304  0.0305703  0.0235753\n",
       " 0.0313196  0.0512645  0.0292365     0.0413765  0.0398638  0.0307423\n",
       " 0.0382685  0.0626386  0.0357233     0.129873   0.0487084  0.0375631\n",
       " 0.0368694  0.0603485  0.0344173     0.0487084  0.161081   0.0361898\n",
       " 0.028433   0.0465398  0.026542      0.0375631  0.0361898  0.0594863"
      ]
     },
     "execution_count": 29,
     "metadata": {},
     "output_type": "execute_result"
    }
   ],
   "source": [
    "Σ_tmp = Array{Float64,2}(undef, length(μ), length(μ));\n",
    "for i ∈ eachindex(list_of_all_tickers)\n",
    "    outer_ticker = list_of_all_tickers[i];\n",
    "    sim_outer = sim_model_dictionary[outer_ticker];\n",
    "    \n",
    "    for j ∈ eachindex(list_of_all_tickers)\n",
    "        \n",
    "        inner_ticker = list_of_all_tickers[j];\n",
    "        sim_inner = sim_model_dictionary[inner_ticker];\n",
    "        \n",
    "        if (i == j)\n",
    "            βᵢ = sim_outer.β\n",
    "            ϵᵢ = sim_outer.ϵ\n",
    "            σ_ϵᵢ = params(ϵᵢ)[2];\n",
    "            Σ_tmp[i,j] = ((βᵢ)^2)*((σₘ)^2)+(σ_ϵᵢ)^2\n",
    "        else\n",
    "            βᵢ = sim_outer.β\n",
    "            βⱼ = sim_inner.β\n",
    "            Σ_tmp[i,j] = βᵢ*βⱼ*(σₘ)^2\n",
    "        end\n",
    "    end\n",
    "end\n",
    "Σ_sim  = Σ_tmp |> x-> x*(1/252)"
   ]
  },
  {
   "cell_type": "markdown",
   "id": "b5a168cb-36ad-4666-8309-5018e35c3d6b",
   "metadata": {},
   "source": [
    "## Task 1: Build the return array and covariance matrix for our tickers\n",
    "Before computing the efficient frontier and the capital allocation line using single index models, we need to determine which stocks to include in the risky portfolio. One approach is to choose stocks with small or negative correlations. Let's delve into this concept by selecting specific stock symbols and then using the methods from earlier modules to calculate their low-correlation partner firms.\n",
    "* We begin by populating the `correlated_ticker_pairs::Dict{String, Array{Tuple{String, String, Float64},1}}` dictionary. We populate this dictionary using a `for-loop` over the `list_of_all_tickers.` For each ticker:\n",
    "* We access the ticker at index `i` from the `list_of_all_tickers`. We then access the corresponding row in the correlation matrix `ρ` and then sort using the [Julia sortperm(...) function](https://docs.julialang.org/en/v1/base/sort/#Base.sortperm). This function returns the permutation vector that sorts the covariance entries from `smallest` to `largest.` Finally, we generate a list of tickers sorted by correlation in ascending order for each value of `test_ticker` using an [array comprehension operation](https://docs.julialang.org/en/v1/manual/arrays/#man-comprehensions) in combination with the [Julia pipe operation](https://docs.julialang.org/en/v1/manual/functions/#Function-composition-and-piping). We store both the ticker and the entry of the correlation matrix:"
   ]
  },
  {
   "cell_type": "code",
   "execution_count": 31,
   "id": "b99021e8-c1e9-4093-b151-9b3e2a668acf",
   "metadata": {},
   "outputs": [],
   "source": [
    "correlated_ticker_pairs = Dict{String, Array{Tuple{String, String, Float64},1}}();\n",
    "for i ∈ eachindex(list_of_all_tickers)\n",
    "    test_ticker = list_of_all_tickers[i];\n",
    "    id = sortperm(ρ[i,:])\n",
    "    [(test_ticker, list_of_all_tickers[id[j]],ρ[i,id[j]]) for j ∈ eachindex(id)] |> tuple -> correlated_ticker_pairs[test_ticker] = tuple;\n",
    "end"
   ]
  },
  {
   "cell_type": "markdown",
   "id": "e9a6533b-4969-444f-be16-5d8419ee1e64",
   "metadata": {},
   "source": [
    "Next, specify a collection of tickers that interest you in the `my_list_of_tickers` array, e.g., `AAPL,` `MSFT,` etc. We'll then find the `low` correlation twin tickers, and these (along with the initial tickers) in the `my_low_correlation_ticker_array` array:"
   ]
  },
  {
   "cell_type": "code",
   "execution_count": 33,
   "id": "0c389044-64cf-4cd0-af96-251ac5db2bf3",
   "metadata": {},
   "outputs": [],
   "source": [
    "my_list_of_tickers = [\"AAPL\", \"MSFT\", \"INTC\", \"MU\", \"AMD\", \"GS\", \"BAC\", \"WFC\", \"C\", \"F\", \"GM\"];\n",
    "my_low_correlation_ticker_array = Array{String,1}();\n",
    "for base_ticker ∈ my_list_of_tickers\n",
    "\n",
    "    correlated_list_of_tickers = correlated_ticker_pairs[base_ticker];\n",
    "    \n",
    "    # find high correlation tickers - \n",
    "    counter = 0;\n",
    "    twin_ticker = base_ticker;\n",
    "    while !(in(twin_ticker, my_low_correlation_ticker_array) == false && twin_ticker != base_ticker)\n",
    "        twin_ticker = correlated_list_of_tickers[counter+1][2];\n",
    "        counter += 1;\n",
    "    end\n",
    "\n",
    "    push!(my_low_correlation_ticker_array, base_ticker)\n",
    "    push!(my_low_correlation_ticker_array, twin_ticker)\n",
    "end\n",
    "my_low_correlation_ticker_array;"
   ]
  },
  {
   "cell_type": "markdown",
   "id": "832012b7-7bb3-4fd3-9bb5-a967e41c9524",
   "metadata": {},
   "source": [
    "Finally, we'll get the indexes of the `low` correlation tickers that we computed above, i.e., we'll look up the position of the tickers in the `my_low_correlation_ticker_array` list and save these values in the `my_list_of_firm_ids` variable:"
   ]
  },
  {
   "cell_type": "code",
   "execution_count": 35,
   "id": "4eca5912-f3f8-4441-b657-b2ee65cfddeb",
   "metadata": {},
   "outputs": [],
   "source": [
    "my_list_of_firm_ids = Array{Int64,1}();\n",
    "for ticker ∈ my_low_correlation_ticker_array\n",
    "    findfirst(x->x==ticker, list_of_all_tickers) |> i -> push!(my_list_of_firm_ids, i);\n",
    "end"
   ]
  },
  {
   "cell_type": "markdown",
   "id": "a6ea7cef-ac39-4671-b37e-90873460d199",
   "metadata": {},
   "source": [
    "Now that you have selected the firms in your risky portfolio, we'll compute the firm-specific expected return vector and covariance matrix for you. We'll store these in the $\\hat{\\mu}$ and $\\hat{\\Sigma}$ variables. First, we'll construct the $\\hat{\\mu}$ vector for the  `single index model` versions of the problem:"
   ]
  },
  {
   "cell_type": "code",
   "execution_count": 37,
   "id": "29a7ec5f-1e02-4c94-8d1d-db9f9e5cf480",
   "metadata": {},
   "outputs": [],
   "source": [
    "# --- DO NOT CHANGE THIS BLOCK ----------------------------------------- #\n",
    "μ̂_sim = Array{Float64,1}();\n",
    "for firm_index ∈ my_list_of_firm_ids\n",
    "    push!(μ̂_sim, μ_sim[firm_index])\n",
    "end\n",
    "# ---------------------------------------------------------------------- #"
   ]
  },
  {
   "cell_type": "markdown",
   "id": "3555c9f4-309d-477a-99f2-38f1072171ea",
   "metadata": {},
   "source": [
    "and then we'll compute the firm-specific covariance $\\hat{\\Sigma}$ matrix using the single index models:"
   ]
  },
  {
   "cell_type": "code",
   "execution_count": 39,
   "id": "935a72f9-d9a2-4d8c-aa9c-78ff3c72744c",
   "metadata": {},
   "outputs": [],
   "source": [
    "# --- DO NOT CHANGE THIS BLOCK FOR SIM  -------------------------------- #\n",
    "my_number_of_selected_firms = length(my_list_of_firm_ids)\n",
    "Σ̂_sim = Array{Float64,2}(undef, my_number_of_selected_firms, my_number_of_selected_firms);\n",
    "for i ∈ eachindex(my_list_of_firm_ids)\n",
    "    row_firm_index = my_list_of_firm_ids[i]\n",
    "    for j ∈ eachindex(my_list_of_firm_ids)\n",
    "        col_firm_index = my_list_of_firm_ids[j]\n",
    "        Σ̂_sim[i,j] = Σ_sim[row_firm_index, col_firm_index]\n",
    "    end\n",
    "end\n",
    "# ---------------------------------------------------------------------- #"
   ]
  },
  {
   "cell_type": "markdown",
   "id": "9cfa8846-ebcf-4c6b-9663-0995108b2bf0",
   "metadata": {},
   "source": [
    "## Task 2: Compute the efficient frontier for your collection of stocks\n",
    "Now, we can compute the single index model efficient frontier. To begin, create an instance of the [MyMarkowitzRiskyAssetOnlyPortfiolioChoiceProblem type](https://varnerlab.github.io/VLQuantitativeFinancePackage.jl/dev/portfolio/#VLQuantitativeFinancePackage.MyMarkowitzRiskyAssetOnlyPortfiolioChoiceProblem) using a custom [build(...) method](https://varnerlab.github.io/VLQuantitativeFinancePackage.jl/dev/portfolio/#VLQuantitativeFinancePackage.build-Tuple{Type{MyMarkowitzRiskyAssetOnlyPortfiolioChoiceProblem},%20NamedTuple}). Store this in the `problem_risk_sim` variable. \n",
    "* You'll need to pass your covariance array $\\hat{\\Sigma}_{sim}$, the expected return array $\\hat{\\mu}_{sim}$, along with bounds and an initial guess, to the [build(...) method](https://varnerlab.github.io/VLQuantitativeFinancePackage.jl/dev/portfolio/#VLQuantitativeFinancePackage.build-Tuple{Type{MyMarkowitzRiskyAssetOnlyPortfiolioChoiceProblem},%20NamedTuple}). Start by setting up the bounds and constants in the problem:"
   ]
  },
  {
   "cell_type": "code",
   "execution_count": 41,
   "id": "74ba44e6-6dfe-4a72-8ccb-1dedb81aa324",
   "metadata": {},
   "outputs": [],
   "source": [
    "number_of_firms = length(my_low_correlation_ticker_array);\n",
    "wₒ = zeros(number_of_firms);\n",
    "wₒ[1] = 1.0;\n",
    "bounds = zeros(number_of_firms,2);\n",
    "bounds[:,2] .= 1.0;\n",
    "risk_free_rate = 0.05;\n",
    "number_of_points = 40;"
   ]
  },
  {
   "cell_type": "markdown",
   "id": "bade0265-3a66-4019-9d75-3a0064de8439",
   "metadata": {},
   "source": [
    "and then build an instance of the [MyMarkowitzRiskyAssetOnlyPortfiolioChoiceProblem type](https://varnerlab.github.io/VLQuantitativeFinancePackage.jl/dev/portfolio/#VLQuantitativeFinancePackage.MyMarkowitzRiskyAssetOnlyPortfiolioChoiceProblem) using our custom [build(...) method](https://varnerlab.github.io/VLQuantitativeFinancePackage.jl/dev/portfolio/#VLQuantitativeFinancePackage.build-Tuple{Type{MyMarkowitzRiskyAssetOnlyPortfiolioChoiceProblem},%20NamedTuple}). Save this in the `problem_risk_sim` variable:"
   ]
  },
  {
   "cell_type": "code",
   "execution_count": 43,
   "id": "fabb5706-a310-4887-bd22-e2be14c9e41b",
   "metadata": {},
   "outputs": [],
   "source": [
    "problem_risk_sim = build(MyMarkowitzRiskyAssetOnlyPortfiolioChoiceProblem, (\n",
    "    Σ = Σ̂_sim, # single index covariance\n",
    "    μ = μ̂_sim, # single index expected return\n",
    "    bounds = bounds,\n",
    "    initial = wₒ,\n",
    "    R = 0.0\n",
    "));"
   ]
  },
  {
   "cell_type": "markdown",
   "id": "046d27d8-e64e-4bc0-b0ee-f11c4b648440",
   "metadata": {},
   "source": [
    "Next, we create an array with the minimum desired rewards (the calculation must achieve at least this much reward). In this case, assume we go from `0` to `10`$\\times{r_{f}}$ and take `number_of_points` steps.  We store these values in the `minimum_desired_reward_array` variable:"
   ]
  },
  {
   "cell_type": "code",
   "execution_count": 45,
   "id": "4fd46e60-e5c6-451c-971f-5715f08a6693",
   "metadata": {},
   "outputs": [],
   "source": [
    "minimum_desired_reward_array = range(0.0, stop = 10.0*risk_free_rate, length = number_of_points) |> collect;"
   ]
  },
  {
   "cell_type": "markdown",
   "id": "77aa21c4-c92f-4b56-bdc1-4183848c3f82",
   "metadata": {},
   "source": [
    "Finally, we now iterate through the `minimum_desired_reward_array` and compute the minimum risk required to achieve the specified reward level using a `for-loop.` For each pass through the loop, we:\n",
    "* Update the `problem_risk_sim` variable with the minimum desired reward (set the `R` field). We then pass the updated `problem_risk_sim` object to the [solve(...) method](https://varnerlab.github.io/VLQuantitativeFinancePackage.jl/dev/portfolio/#VLQuantitativeFinancePackage.solve-Tuple{MyMarkowitzRiskyAssetOnlyPortfiolioChoiceProblem}) (which initializes and solves the optimization problem). The solution returned from the [solve(...) method](https://varnerlab.github.io/VLQuantitativeFinancePackage.jl/dev/portfolio/#VLQuantitativeFinancePackage.solve-Tuple{MyMarkowitzRiskyAssetOnlyPortfiolioChoiceProblem}) is stored in the `solution` dictionary. \n",
    "* We check the `status` of the solution. If the `status` indicates an optimal solution was found, we store that solution in the `efficient_frontier` dictionary. In particular, we store the portfolio risk $\\sigma_{\\mathcal{P}}$ as the `key` and the portfolio's expected return as the `value` in the `efficient_frontier` dictionary.\n",
    "* Why the [try-catch environment](https://docs.julialang.org/en/v1/base/base/#try)? The [solve(...) method](https://varnerlab.github.io/VLQuantitativeFinancePackage.jl/dev/portfolio/#VLQuantitativeFinancePackage.solve-Tuple{MyMarkowitzRiskyAssetOnlyPortfiolioChoiceProblem}) has an [@assert statement](https://docs.julialang.org/en/v1/base/base/#Base.@assert) to check if the calculation has converged. Thus, the solve method can [throw](https://docs.julialang.org/en/v1/base/base/#Core.throw) an [AssertionError](https://docs.julialang.org/en/v1/base/base/#Core.AssertionError) if the optimization problem fails to converge. To gracefully handle this case, we use a [try-catch construct](https://docs.julialang.org/en/v1/base/base/#try). See the [is_solved_and_feasible method from the JuMP package](https://jump.dev/JuMP.jl/stable/api/JuMP/#JuMP.is_solved_and_feasible) for more information."
   ]
  },
  {
   "cell_type": "code",
   "execution_count": 47,
   "id": "d3bed593-f4dd-45f0-8d1c-3ff91eb2b2ce",
   "metadata": {},
   "outputs": [],
   "source": [
    "efficient_frontier_sim = Dict{Float64,Float64}();\n",
    "for i ∈ eachindex(minimum_desired_reward_array)\n",
    "    \n",
    "    # update the problem object -\n",
    "    problem_risk_sim.R = minimum_desired_reward_array[i];\n",
    "\n",
    "    try\n",
    "        solution = solve(problem_risk_sim)\n",
    "\n",
    "        # check: did this converge?\n",
    "        status_flag = solution[\"status\"];    \n",
    "        if (status_flag == MathOptInterface.LOCALLY_SOLVED)\n",
    "            key = sqrt(solution[\"objective_value\"]);\n",
    "            value = solution[\"reward\"];\n",
    "            efficient_frontier_sim[key] = value;\n",
    "        end\n",
    "    catch err\n",
    "        # Uncomment me to see which return failed -\n",
    "        # println(\"Ooops! That didn't work. What is going on: $(problem_risk_sim.R)\")\n",
    "    end\n",
    "end\n",
    "efficient_frontier_sim;"
   ]
  },
  {
   "cell_type": "markdown",
   "id": "9f661b18-2b07-4aec-a3c5-cacb480be9b8",
   "metadata": {},
   "source": [
    "## Task 3: Compute the capital allocation line and tangent portfolio using single index models \n",
    "Let's create an instance of the [MyMarkowitzRiskyRiskFreePortfiolioChoiceProblem type](https://varnerlab.github.io/VLQuantitativeFinancePackage.jl/dev/portfolio/#VLQuantitativeFinancePackage.MyMarkowitzRiskyRiskFreePortfiolioChoiceProblem) and store this in the `problem_risk_free` variable using our custom [build(...) method](https://varnerlab.github.io/VLQuantitativeFinancePackage.jl/dev/portfolio/#VLQuantitativeFinancePackage.build-Tuple{Type{MyMarkowitzRiskyRiskFreePortfiolioChoiceProblem},%20NamedTuple}). We pass the covariance array, expected return value, bounds, initial guess, and risk-free rate to the [build(...) method](https://varnerlab.github.io/VLQuantitativeFinancePackage.jl/dev/portfolio/#VLQuantitativeFinancePackage.build-Tuple{Type{MyMarkowitzRiskyRiskFreePortfiolioChoiceProblem},%20NamedTuple}):"
   ]
  },
  {
   "cell_type": "code",
   "execution_count": 49,
   "id": "afb7ecfd-bcaa-488b-bd3d-c233b9b81104",
   "metadata": {},
   "outputs": [],
   "source": [
    "problem_risk_free = build(MyMarkowitzRiskyRiskFreePortfiolioChoiceProblem, (\n",
    "    Σ = Σ̂_sim, # cov single index model\n",
    "    μ = μ̂_sim, # expected single index model\n",
    "    bounds = bounds,\n",
    "    initial = wₒ,\n",
    "    risk_free_rate = risk_free_rate,\n",
    "    R = 0.0\n",
    "));"
   ]
  },
  {
   "cell_type": "markdown",
   "id": "3e4a82f3-7b65-4d98-8b89-b95e673adea2",
   "metadata": {},
   "source": [
    "Next, we now iterate through the `minimum_desired_reward_array` and compute the minimum risk required to achieve the specified reward level using a `for-loop` for the combination of risky and risk-free assets. For each pass through the loop, we:\n",
    "* Update the `problem_risk_free` variable with the minimum desired reward (set the `R` field). We then pass the updated `problem_risk_free` object to the [solve(...) method](https://varnerlab.github.io/VLQuantitativeFinancePackage.jl/dev/portfolio/#VLQuantitativeFinancePackage.solve-Tuple{MyMarkowitzRiskyAssetOnlyPortfiolioChoiceProblem}) (which initializes and solves the optimization problem). The solution returned from the [solve(...) method](https://varnerlab.github.io/VLQuantitativeFinancePackage.jl/dev/portfolio/#VLQuantitativeFinancePackage.solve-Tuple{MyMarkowitzRiskyAssetOnlyPortfiolioChoiceProblem}) is stored in the `solution_risk_free` dictionary. \n",
    "* We check the `status` of the solution. If the `status` indicates an optimal solution was found, we store that solution in the `capital_allocation_line` dictionary. In particular, we store the portfolio risk $\\sigma_{\\mathcal{P}}$ as the `key` and the portfolio's expected return as the `value` in the `capital_allocation_line` dictionary.\n",
    "* Why the [try-catch environment](https://docs.julialang.org/en/v1/base/base/#try)? The [solve(...) method](https://varnerlab.github.io/VLQuantitativeFinancePackage.jl/dev/portfolio/#VLQuantitativeFinancePackage.solve-Tuple{MyMarkowitzRiskyAssetOnlyPortfiolioChoiceProblem}) has an [@assert statement](https://docs.julialang.org/en/v1/base/base/#Base.@assert) to check if the calculation has converged. Thus, the solve method can [throw](https://docs.julialang.org/en/v1/base/base/#Core.throw) an [AssertionError](https://docs.julialang.org/en/v1/base/base/#Core.AssertionError) if the optimization problem fails to converge. To gracefully handle this case, we use a [try-catch construct](https://docs.julialang.org/en/v1/base/base/#try). See the [is_solved_and_feasible method from the JuMP package](https://jump.dev/JuMP.jl/stable/api/JuMP/#JuMP.is_solved_and_feasible) for more information."
   ]
  },
  {
   "cell_type": "code",
   "execution_count": 51,
   "id": "69719983-50d4-475b-a5a5-8dfb586355f5",
   "metadata": {},
   "outputs": [],
   "source": [
    "capital_allocation_line = Dict{Float64,Float64}();\n",
    "for i ∈ eachindex(minimum_desired_reward_array)\n",
    "    \n",
    "    # update the problem object -\n",
    "    problem_risk_free.R = minimum_desired_reward_array[i];\n",
    "    \n",
    "    try\n",
    "        solution_risk_free = solve(problem_risk_free)\n",
    "\n",
    "        # check: did this converge?\n",
    "        status_flag = solution_risk_free[\"status\"];    \n",
    "        if (status_flag == MathOptInterface.LOCALLY_SOLVED)\n",
    "            key = sqrt(solution_risk_free[\"objective_value\"]);\n",
    "            value = solution_risk_free[\"reward\"];\n",
    "            capital_allocation_line[key] = value;\n",
    "        end\n",
    "    catch err\n",
    "    end\n",
    "end\n",
    "capital_allocation_line;"
   ]
  },
  {
   "cell_type": "markdown",
   "id": "8fba20a9-10bb-4b28-a177-bdd51f663d51",
   "metadata": {},
   "source": [
    "`Unhide` the code below to see how we plotted the efficient frontier and the capital allocation line using single index models of the return.  \n",
    "* __Summary__: The capital allocation line (dark gray) intersects the vertical axis at the risk-free rate, where the portfolio consists of only risk-free assets. At higher risk, the efficient frontier and the capital allocation line intersect at the tangent portfolio, which consists of only risk assets."
   ]
  },
  {
   "cell_type": "code",
   "execution_count": 53,
   "id": "c03b2e55-1424-46a9-9016-6f4305bd5e38",
   "metadata": {
    "jupyter": {
     "source_hidden": true
    }
   },
   "outputs": [
    {
     "data": {
      "image/png": "[encoded data removed]",
      "image/svg+xml": [
       "<?xml version=\"1.0\" encoding=\"utf-8\"?>\n",
       "<svg xmlns=\"http://www.w3.org/2000/svg\" xmlns:xlink=\"http://www.w3.org/1999/xlink\" width=\"600\" height=\"400\" viewBox=\"0 0 2400 1600\">\n",
       "<defs>\n",
       "  <clipPath id=\"clip280\">\n",
       "    <rect x=\"0\" y=\"0\" width=\"2400\" height=\"1600\"/>\n",
       "  </clipPath>\n",
       "</defs>\n",
       "<path clip-path=\"url(#clip280)\" d=\"M0 1600 L2400 1600 L2400 8.88178e-14 L0 8.88178e-14  Z\" fill=\"#ffffff\" fill-rule=\"evenodd\" fill-opacity=\"1\"/>\n",
       "<defs>\n",
       "  <clipPath id=\"clip281\">\n",
       "    <rect x=\"480\" y=\"0\" width=\"1681\" height=\"1600\"/>\n",
       "  </clipPath>\n",
       "</defs>\n",
       "<path clip-path=\"url(#clip280)\" d=\"M219.866 1423.18 L2352.76 1423.18 L2352.76 47.2441 L219.866 47.2441  Z\" fill=\"#ffffff\" fill-rule=\"evenodd\" fill-opacity=\"1\"/>\n",
       "<defs>\n",
       "  <clipPath id=\"clip282\">\n",
       "    <rect x=\"219\" y=\"47\" width=\"2134\" height=\"1377\"/>\n",
       "  </clipPath>\n",
       "</defs>\n",
       "<polyline clip-path=\"url(#clip282)\" style=\"stroke:#000000; stroke-linecap:round; stroke-linejoin:round; stroke-width:2; stroke-opacity:0.1; fill:none\" points=\"219.866,1423.18 219.866,47.2441 \"/>\n",
       "<polyline clip-path=\"url(#clip282)\" style=\"stroke:#000000; stroke-linecap:round; stroke-linejoin:round; stroke-width:2; stroke-opacity:0.1; fill:none\" points=\"659.077,1423.18 659.077,47.2441 \"/>\n",
       "<polyline clip-path=\"url(#clip282)\" style=\"stroke:#000000; stroke-linecap:round; stroke-linejoin:round; stroke-width:2; stroke-opacity:0.1; fill:none\" points=\"1098.29,1423.18 1098.29,47.2441 \"/>\n",
       "<polyline clip-path=\"url(#clip282)\" style=\"stroke:#000000; stroke-linecap:round; stroke-linejoin:round; stroke-width:2; stroke-opacity:0.1; fill:none\" points=\"1537.5,1423.18 1537.5,47.2441 \"/>\n",
       "<polyline clip-path=\"url(#clip282)\" style=\"stroke:#000000; stroke-linecap:round; stroke-linejoin:round; stroke-width:2; stroke-opacity:0.1; fill:none\" points=\"1976.71,1423.18 1976.71,47.2441 \"/>\n",
       "<polyline clip-path=\"url(#clip282)\" style=\"stroke:#000000; stroke-linecap:round; stroke-linejoin:round; stroke-width:2; stroke-opacity:0.1; fill:none\" points=\"219.866,1179.65 2352.76,1179.65 \"/>\n",
       "<polyline clip-path=\"url(#clip282)\" style=\"stroke:#000000; stroke-linecap:round; stroke-linejoin:round; stroke-width:2; stroke-opacity:0.1; fill:none\" points=\"219.866,906.281 2352.76,906.281 \"/>\n",
       "<polyline clip-path=\"url(#clip282)\" style=\"stroke:#000000; stroke-linecap:round; stroke-linejoin:round; stroke-width:2; stroke-opacity:0.1; fill:none\" points=\"219.866,632.916 2352.76,632.916 \"/>\n",
       "<polyline clip-path=\"url(#clip282)\" style=\"stroke:#000000; stroke-linecap:round; stroke-linejoin:round; stroke-width:2; stroke-opacity:0.1; fill:none\" points=\"219.866,359.551 2352.76,359.551 \"/>\n",
       "<polyline clip-path=\"url(#clip282)\" style=\"stroke:#000000; stroke-linecap:round; stroke-linejoin:round; stroke-width:2; stroke-opacity:0.1; fill:none\" points=\"219.866,86.1857 2352.76,86.1857 \"/>\n",
       "<polyline clip-path=\"url(#clip280)\" style=\"stroke:#000000; stroke-linecap:round; stroke-linejoin:round; stroke-width:4; stroke-opacity:1; fill:none\" points=\"219.866,1423.18 2352.76,1423.18 \"/>\n",
       "<polyline clip-path=\"url(#clip280)\" style=\"stroke:#000000; stroke-linecap:round; stroke-linejoin:round; stroke-width:4; stroke-opacity:1; fill:none\" points=\"219.866,1423.18 219.866,1404.28 \"/>\n",
       "<polyline clip-path=\"url(#clip280)\" style=\"stroke:#000000; stroke-linecap:round; stroke-linejoin:round; stroke-width:4; stroke-opacity:1; fill:none\" points=\"659.077,1423.18 659.077,1404.28 \"/>\n",
       "<polyline clip-path=\"url(#clip280)\" style=\"stroke:#000000; stroke-linecap:round; stroke-linejoin:round; stroke-width:4; stroke-opacity:1; fill:none\" points=\"1098.29,1423.18 1098.29,1404.28 \"/>\n",
       "<polyline clip-path=\"url(#clip280)\" style=\"stroke:#000000; stroke-linecap:round; stroke-linejoin:round; stroke-width:4; stroke-opacity:1; fill:none\" points=\"1537.5,1423.18 1537.5,1404.28 \"/>\n",
       "<polyline clip-path=\"url(#clip280)\" style=\"stroke:#000000; stroke-linecap:round; stroke-linejoin:round; stroke-width:4; stroke-opacity:1; fill:none\" points=\"1976.71,1423.18 1976.71,1404.28 \"/>\n",
       "<path clip-path=\"url(#clip280)\" d=\"M197.251 1454.1 Q193.64 1454.1 191.811 1457.66 Q190.005 1461.2 190.005 1468.33 Q190.005 1475.44 191.811 1479.01 Q193.64 1482.55 197.251 1482.55 Q200.885 1482.55 202.69 1479.01 Q204.519 1475.44 204.519 1468.33 Q204.519 1461.2 202.69 1457.66 Q200.885 1454.1 197.251 1454.1 M197.251 1450.39 Q203.061 1450.39 206.116 1455 Q209.195 1459.58 209.195 1468.33 Q209.195 1477.06 206.116 1481.67 Q203.061 1486.25 197.251 1486.25 Q191.44 1486.25 188.362 1481.67 Q185.306 1477.06 185.306 1468.33 Q185.306 1459.58 188.362 1455 Q191.44 1450.39 197.251 1450.39 Z\" fill=\"#000000\" fill-rule=\"nonzero\" fill-opacity=\"1\" /><path clip-path=\"url(#clip280)\" d=\"M217.413 1479.7 L222.297 1479.7 L222.297 1485.58 L217.413 1485.58 L217.413 1479.7 Z\" fill=\"#000000\" fill-rule=\"nonzero\" fill-opacity=\"1\" /><path clip-path=\"url(#clip280)\" d=\"M242.482 1454.1 Q238.871 1454.1 237.042 1457.66 Q235.237 1461.2 235.237 1468.33 Q235.237 1475.44 237.042 1479.01 Q238.871 1482.55 242.482 1482.55 Q246.116 1482.55 247.922 1479.01 Q249.75 1475.44 249.75 1468.33 Q249.75 1461.2 247.922 1457.66 Q246.116 1454.1 242.482 1454.1 M242.482 1450.39 Q248.292 1450.39 251.348 1455 Q254.426 1459.58 254.426 1468.33 Q254.426 1477.06 251.348 1481.67 Q248.292 1486.25 242.482 1486.25 Q236.672 1486.25 233.593 1481.67 Q230.538 1477.06 230.538 1468.33 Q230.538 1459.58 233.593 1455 Q236.672 1450.39 242.482 1450.39 Z\" fill=\"#000000\" fill-rule=\"nonzero\" fill-opacity=\"1\" /><path clip-path=\"url(#clip280)\" d=\"M637.075 1454.1 Q633.464 1454.1 631.635 1457.66 Q629.83 1461.2 629.83 1468.33 Q629.83 1475.44 631.635 1479.01 Q633.464 1482.55 637.075 1482.55 Q640.709 1482.55 642.515 1479.01 Q644.343 1475.44 644.343 1468.33 Q644.343 1461.2 642.515 1457.66 Q640.709 1454.1 637.075 1454.1 M637.075 1450.39 Q642.885 1450.39 645.941 1455 Q649.019 1459.58 649.019 1468.33 Q649.019 1477.06 645.941 1481.67 Q642.885 1486.25 637.075 1486.25 Q631.265 1486.25 628.186 1481.67 Q625.131 1477.06 625.131 1468.33 Q625.131 1459.58 628.186 1455 Q631.265 1450.39 637.075 1450.39 Z\" fill=\"#000000\" fill-rule=\"nonzero\" fill-opacity=\"1\" /><path clip-path=\"url(#clip280)\" d=\"M657.237 1479.7 L662.121 1479.7 L662.121 1485.58 L657.237 1485.58 L657.237 1479.7 Z\" fill=\"#000000\" fill-rule=\"nonzero\" fill-opacity=\"1\" /><path clip-path=\"url(#clip280)\" d=\"M673.116 1481.64 L680.755 1481.64 L680.755 1455.28 L672.445 1456.95 L672.445 1452.69 L680.709 1451.02 L685.385 1451.02 L685.385 1481.64 L693.024 1481.64 L693.024 1485.58 L673.116 1485.58 L673.116 1481.64 Z\" fill=\"#000000\" fill-rule=\"nonzero\" fill-opacity=\"1\" /><path clip-path=\"url(#clip280)\" d=\"M1076.47 1454.1 Q1072.86 1454.1 1071.03 1457.66 Q1069.23 1461.2 1069.23 1468.33 Q1069.23 1475.44 1071.03 1479.01 Q1072.86 1482.55 1076.47 1482.55 Q1080.11 1482.55 1081.91 1479.01 Q1083.74 1475.44 1083.74 1468.33 Q1083.74 1461.2 1081.91 1457.66 Q1080.11 1454.1 1076.47 1454.1 M1076.47 1450.39 Q1082.28 1450.39 1085.34 1455 Q1088.42 1459.58 1088.42 1468.33 Q1088.42 1477.06 1085.34 1481.67 Q1082.28 1486.25 1076.47 1486.25 Q1070.66 1486.25 1067.58 1481.67 Q1064.53 1477.06 1064.53 1468.33 Q1064.53 1459.58 1067.58 1455 Q1070.66 1450.39 1076.47 1450.39 Z\" fill=\"#000000\" fill-rule=\"nonzero\" fill-opacity=\"1\" /><path clip-path=\"url(#clip280)\" d=\"M1096.63 1479.7 L1101.52 1479.7 L1101.52 1485.58 L1096.63 1485.58 L1096.63 1479.7 Z\" fill=\"#000000\" fill-rule=\"nonzero\" fill-opacity=\"1\" /><path clip-path=\"url(#clip280)\" d=\"M1115.73 1481.64 L1132.05 1481.64 L1132.05 1485.58 L1110.11 1485.58 L1110.11 1481.64 Q1112.77 1478.89 1117.35 1474.26 Q1121.96 1469.61 1123.14 1468.27 Q1125.38 1465.74 1126.26 1464.01 Q1127.17 1462.25 1127.17 1460.56 Q1127.17 1457.8 1125.22 1456.07 Q1123.3 1454.33 1120.2 1454.33 Q1118 1454.33 1115.54 1455.09 Q1113.11 1455.86 1110.34 1457.41 L1110.34 1452.69 Q1113.16 1451.55 1115.61 1450.97 Q1118.07 1450.39 1120.1 1450.39 Q1125.48 1450.39 1128.67 1453.08 Q1131.86 1455.77 1131.86 1460.26 Q1131.86 1462.39 1131.05 1464.31 Q1130.27 1466.2 1128.16 1468.8 Q1127.58 1469.47 1124.48 1472.69 Q1121.38 1475.88 1115.73 1481.64 Z\" fill=\"#000000\" fill-rule=\"nonzero\" fill-opacity=\"1\" /><path clip-path=\"url(#clip280)\" d=\"M1515.21 1454.1 Q1511.6 1454.1 1509.77 1457.66 Q1507.96 1461.2 1507.96 1468.33 Q1507.96 1475.44 1509.77 1479.01 Q1511.6 1482.55 1515.21 1482.55 Q1518.84 1482.55 1520.65 1479.01 Q1522.48 1475.44 1522.48 1468.33 Q1522.48 1461.2 1520.65 1457.66 Q1518.84 1454.1 1515.21 1454.1 M1515.21 1450.39 Q1521.02 1450.39 1524.07 1455 Q1527.15 1459.58 1527.15 1468.33 Q1527.15 1477.06 1524.07 1481.67 Q1521.02 1486.25 1515.21 1486.25 Q1509.4 1486.25 1506.32 1481.67 Q1503.26 1477.06 1503.26 1468.33 Q1503.26 1459.58 1506.32 1455 Q1509.4 1450.39 1515.21 1450.39 Z\" fill=\"#000000\" fill-rule=\"nonzero\" fill-opacity=\"1\" /><path clip-path=\"url(#clip280)\" d=\"M1535.37 1479.7 L1540.25 1479.7 L1540.25 1485.58 L1535.37 1485.58 L1535.37 1479.7 Z\" fill=\"#000000\" fill-rule=\"nonzero\" fill-opacity=\"1\" /><path clip-path=\"url(#clip280)\" d=\"M1564.61 1466.95 Q1567.96 1467.66 1569.84 1469.93 Q1571.73 1472.2 1571.73 1475.53 Q1571.73 1480.65 1568.22 1483.45 Q1564.7 1486.25 1558.22 1486.25 Q1556.04 1486.25 1553.73 1485.81 Q1551.43 1485.39 1548.98 1484.54 L1548.98 1480.02 Q1550.92 1481.16 1553.24 1481.74 Q1555.55 1482.32 1558.08 1482.32 Q1562.48 1482.32 1564.77 1480.58 Q1567.08 1478.84 1567.08 1475.53 Q1567.08 1472.48 1564.93 1470.77 Q1562.8 1469.03 1558.98 1469.03 L1554.95 1469.03 L1554.95 1465.19 L1559.17 1465.19 Q1562.61 1465.19 1564.44 1463.82 Q1566.27 1462.43 1566.27 1459.84 Q1566.27 1457.18 1564.37 1455.77 Q1562.5 1454.33 1558.98 1454.33 Q1557.06 1454.33 1554.86 1454.75 Q1552.66 1455.16 1550.02 1456.04 L1550.02 1451.88 Q1552.68 1451.14 1555 1450.77 Q1557.34 1450.39 1559.4 1450.39 Q1564.72 1450.39 1567.82 1452.83 Q1570.92 1455.23 1570.92 1459.35 Q1570.92 1462.22 1569.28 1464.21 Q1567.64 1466.18 1564.61 1466.95 Z\" fill=\"#000000\" fill-rule=\"nonzero\" fill-opacity=\"1\" /><path clip-path=\"url(#clip280)\" d=\"M1953.85 1454.1 Q1950.24 1454.1 1948.41 1457.66 Q1946.61 1461.2 1946.61 1468.33 Q1946.61 1475.44 1948.41 1479.01 Q1950.24 1482.55 1953.85 1482.55 Q1957.49 1482.55 1959.29 1479.01 Q1961.12 1475.44 1961.12 1468.33 Q1961.12 1461.2 1959.29 1457.66 Q1957.49 1454.1 1953.85 1454.1 M1953.85 1450.39 Q1959.66 1450.39 1962.72 1455 Q1965.8 1459.58 1965.8 1468.33 Q1965.8 1477.06 1962.72 1481.67 Q1959.66 1486.25 1953.85 1486.25 Q1948.04 1486.25 1944.96 1481.67 Q1941.91 1477.06 1941.91 1468.33 Q1941.91 1459.58 1944.96 1455 Q1948.04 1450.39 1953.85 1450.39 Z\" fill=\"#000000\" fill-rule=\"nonzero\" fill-opacity=\"1\" /><path clip-path=\"url(#clip280)\" d=\"M1974.01 1479.7 L1978.9 1479.7 L1978.9 1485.58 L1974.01 1485.58 L1974.01 1479.7 Z\" fill=\"#000000\" fill-rule=\"nonzero\" fill-opacity=\"1\" /><path clip-path=\"url(#clip280)\" d=\"M2001.93 1455.09 L1990.12 1473.54 L2001.93 1473.54 L2001.93 1455.09 M2000.7 1451.02 L2006.58 1451.02 L2006.58 1473.54 L2011.51 1473.54 L2011.51 1477.43 L2006.58 1477.43 L2006.58 1485.58 L2001.93 1485.58 L2001.93 1477.43 L1986.33 1477.43 L1986.33 1472.92 L2000.7 1451.02 Z\" fill=\"#000000\" fill-rule=\"nonzero\" fill-opacity=\"1\" /><path clip-path=\"url(#clip280)\" d=\"M1007.33 1545.76 Q1009.4 1546.46 1011.34 1548.76 Q1013.32 1551.05 1015.29 1555.06 L1021.82 1568.04 L1014.91 1568.04 L1008.83 1555.85 Q1006.47 1551.08 1004.25 1549.52 Q1002.05 1547.96 998.231 1547.96 L991.229 1547.96 L991.229 1568.04 L984.799 1568.04 L984.799 1520.52 L999.313 1520.52 Q1007.46 1520.52 1011.47 1523.93 Q1015.48 1527.34 1015.48 1534.21 Q1015.48 1538.7 1013.38 1541.66 Q1011.31 1544.62 1007.33 1545.76 M991.229 1525.81 L991.229 1542.68 L999.313 1542.68 Q1003.96 1542.68 1006.32 1540.54 Q1008.7 1538.38 1008.7 1534.21 Q1008.7 1530.04 1006.32 1527.94 Q1003.96 1525.81 999.313 1525.81 L991.229 1525.81 Z\" fill=\"#000000\" fill-rule=\"nonzero\" fill-opacity=\"1\" /><path clip-path=\"url(#clip280)\" d=\"M1029.84 1532.4 L1035.69 1532.4 L1035.69 1568.04 L1029.84 1568.04 L1029.84 1532.4 M1029.84 1518.52 L1035.69 1518.52 L1035.69 1525.93 L1029.84 1525.93 L1029.84 1518.52 Z\" fill=\"#000000\" fill-rule=\"nonzero\" fill-opacity=\"1\" /><path clip-path=\"url(#clip280)\" d=\"M1070.67 1533.45 L1070.67 1538.98 Q1068.19 1537.71 1065.52 1537.07 Q1062.84 1536.44 1059.98 1536.44 Q1055.62 1536.44 1053.42 1537.77 Q1051.26 1539.11 1051.26 1541.79 Q1051.26 1543.82 1052.82 1545 Q1054.38 1546.15 1059.09 1547.2 L1061.09 1547.64 Q1067.33 1548.98 1069.94 1551.43 Q1072.58 1553.85 1072.58 1558.21 Q1072.58 1563.17 1068.64 1566.07 Q1064.72 1568.97 1057.85 1568.97 Q1054.98 1568.97 1051.86 1568.39 Q1048.77 1567.85 1045.34 1566.74 L1045.34 1560.69 Q1048.58 1562.38 1051.73 1563.24 Q1054.89 1564.07 1057.97 1564.07 Q1062.11 1564.07 1064.34 1562.66 Q1066.57 1561.23 1066.57 1558.65 Q1066.57 1556.27 1064.94 1554.99 Q1063.35 1553.72 1057.91 1552.54 L1055.87 1552.07 Q1050.43 1550.92 1048.01 1548.56 Q1045.59 1546.18 1045.59 1542.04 Q1045.59 1537.01 1049.16 1534.27 Q1052.72 1531.54 1059.28 1531.54 Q1062.52 1531.54 1065.39 1532.01 Q1068.25 1532.49 1070.67 1533.45 Z\" fill=\"#000000\" fill-rule=\"nonzero\" fill-opacity=\"1\" /><path clip-path=\"url(#clip280)\" d=\"M1081.69 1518.52 L1087.57 1518.52 L1087.57 1547.77 L1105.05 1532.4 L1112.53 1532.4 L1093.62 1549.07 L1113.32 1568.04 L1105.68 1568.04 L1087.57 1550.63 L1087.57 1568.04 L1081.69 1568.04 L1081.69 1518.52 Z\" fill=\"#000000\" fill-rule=\"nonzero\" fill-opacity=\"1\" /><path clip-path=\"url(#clip280)\" d=\"M1163.1 1533.45 L1163.1 1538.98 Q1160.62 1537.71 1157.95 1537.07 Q1155.27 1536.44 1152.41 1536.44 Q1148.05 1536.44 1145.85 1537.77 Q1143.69 1539.11 1143.69 1541.79 Q1143.69 1543.82 1145.25 1545 Q1146.81 1546.15 1151.52 1547.2 L1153.52 1547.64 Q1159.76 1548.98 1162.37 1551.43 Q1165.01 1553.85 1165.01 1558.21 Q1165.01 1563.17 1161.07 1566.07 Q1157.15 1568.97 1150.28 1568.97 Q1147.41 1568.97 1144.29 1568.39 Q1141.2 1567.85 1137.77 1566.74 L1137.77 1560.69 Q1141.01 1562.38 1144.16 1563.24 Q1147.32 1564.07 1150.4 1564.07 Q1154.54 1564.07 1156.77 1562.66 Q1159 1561.23 1159 1558.65 Q1159 1556.27 1157.37 1554.99 Q1155.78 1553.72 1150.34 1552.54 L1148.3 1552.07 Q1142.86 1550.92 1140.44 1548.56 Q1138.02 1546.18 1138.02 1542.04 Q1138.02 1537.01 1141.59 1534.27 Q1145.15 1531.54 1151.71 1531.54 Q1154.95 1531.54 1157.82 1532.01 Q1160.68 1532.49 1163.1 1533.45 Z\" fill=\"#000000\" fill-rule=\"nonzero\" fill-opacity=\"1\" /><path clip-path=\"url(#clip280)\" d=\"M1177.84 1550.25 Q1177.84 1556.71 1180.48 1560.4 Q1183.15 1564.07 1187.8 1564.07 Q1192.45 1564.07 1195.12 1560.4 Q1197.8 1556.71 1197.8 1550.25 Q1197.8 1543.79 1195.12 1540.13 Q1192.45 1536.44 1187.8 1536.44 Q1183.15 1536.44 1180.48 1540.13 Q1177.84 1543.79 1177.84 1550.25 M1197.8 1562.7 Q1195.95 1565.88 1193.12 1567.44 Q1190.32 1568.97 1186.37 1568.97 Q1179.91 1568.97 1175.83 1563.81 Q1171.79 1558.65 1171.79 1550.25 Q1171.79 1541.85 1175.83 1536.69 Q1179.91 1531.54 1186.37 1531.54 Q1190.32 1531.54 1193.12 1533.1 Q1195.95 1534.62 1197.8 1537.81 L1197.8 1532.4 L1203.65 1532.4 L1203.65 1581.6 L1197.8 1581.6 L1197.8 1562.7 Z\" fill=\"#000000\" fill-rule=\"nonzero\" fill-opacity=\"1\" /><path clip-path=\"url(#clip280)\" d=\"M1236.37 1537.87 Q1235.39 1537.3 1234.21 1537.04 Q1233.06 1536.76 1231.66 1536.76 Q1226.7 1536.76 1224.02 1540 Q1221.38 1543.22 1221.38 1549.27 L1221.38 1568.04 L1215.49 1568.04 L1215.49 1532.4 L1221.38 1532.4 L1221.38 1537.93 Q1223.23 1534.69 1226.19 1533.13 Q1229.15 1531.54 1233.38 1531.54 Q1233.98 1531.54 1234.72 1531.63 Q1235.45 1531.7 1236.34 1531.85 L1236.37 1537.87 Z\" fill=\"#000000\" fill-rule=\"nonzero\" fill-opacity=\"1\" /><path clip-path=\"url(#clip280)\" d=\"M1248.31 1522.27 L1248.31 1532.4 L1260.37 1532.4 L1260.37 1536.95 L1248.31 1536.95 L1248.31 1556.3 Q1248.31 1560.66 1249.49 1561.9 Q1250.69 1563.14 1254.36 1563.14 L1260.37 1563.14 L1260.37 1568.04 L1254.36 1568.04 Q1247.58 1568.04 1245 1565.53 Q1242.42 1562.98 1242.42 1556.3 L1242.42 1536.95 L1238.12 1536.95 L1238.12 1532.4 L1242.42 1532.4 L1242.42 1522.27 L1248.31 1522.27 Z\" fill=\"#000000\" fill-rule=\"nonzero\" fill-opacity=\"1\" /><path clip-path=\"url(#clip280)\" d=\"M1282.14 1518.58 Q1277.88 1525.9 1275.81 1533.06 Q1273.74 1540.23 1273.74 1547.58 Q1273.74 1554.93 1275.81 1562.16 Q1277.91 1569.35 1282.14 1576.64 L1277.05 1576.64 Q1272.27 1569.16 1269.89 1561.93 Q1267.53 1554.71 1267.53 1547.58 Q1267.53 1540.48 1269.89 1533.29 Q1272.24 1526.09 1277.05 1518.58 L1282.14 1518.58 Z\" fill=\"#000000\" fill-rule=\"nonzero\" fill-opacity=\"1\" /><path clip-path=\"url(#clip280)\" d=\"M1289.3 1532.4 L1295.51 1532.4 L1306.65 1562.31 L1317.79 1532.4 L1324 1532.4 L1310.63 1568.04 L1302.67 1568.04 L1289.3 1532.4 Z\" fill=\"#000000\" fill-rule=\"nonzero\" fill-opacity=\"1\" /><path clip-path=\"url(#clip280)\" d=\"M1348.28 1550.12 Q1341.18 1550.12 1338.45 1551.75 Q1335.71 1553.37 1335.71 1557.29 Q1335.71 1560.4 1337.75 1562.25 Q1339.81 1564.07 1343.35 1564.07 Q1348.22 1564.07 1351.15 1560.63 Q1354.11 1557.16 1354.11 1551.43 L1354.11 1550.12 L1348.28 1550.12 M1359.96 1547.71 L1359.96 1568.04 L1354.11 1568.04 L1354.11 1562.63 Q1352.1 1565.88 1349.11 1567.44 Q1346.12 1568.97 1341.79 1568.97 Q1336.31 1568.97 1333.07 1565.91 Q1329.85 1562.82 1329.85 1557.67 Q1329.85 1551.65 1333.86 1548.6 Q1337.91 1545.54 1345.89 1545.54 L1354.11 1545.54 L1354.11 1544.97 Q1354.11 1540.93 1351.43 1538.73 Q1348.79 1536.5 1343.98 1536.5 Q1340.93 1536.5 1338.03 1537.23 Q1335.14 1537.97 1332.46 1539.43 L1332.46 1534.02 Q1335.68 1532.78 1338.7 1532.17 Q1341.72 1531.54 1344.59 1531.54 Q1352.32 1531.54 1356.14 1535.55 Q1359.96 1539.56 1359.96 1547.71 Z\" fill=\"#000000\" fill-rule=\"nonzero\" fill-opacity=\"1\" /><path clip-path=\"url(#clip280)\" d=\"M1392.68 1537.87 Q1391.7 1537.3 1390.52 1537.04 Q1389.37 1536.76 1387.97 1536.76 Q1383.01 1536.76 1380.33 1540 Q1377.69 1543.22 1377.69 1549.27 L1377.69 1568.04 L1371.8 1568.04 L1371.8 1532.4 L1377.69 1532.4 L1377.69 1537.93 Q1379.54 1534.69 1382.5 1533.13 Q1385.46 1531.54 1389.69 1531.54 Q1390.29 1531.54 1391.03 1531.63 Q1391.76 1531.7 1392.65 1531.85 L1392.68 1537.87 Z\" fill=\"#000000\" fill-rule=\"nonzero\" fill-opacity=\"1\" /><path clip-path=\"url(#clip280)\" d=\"M1398.82 1532.4 L1404.68 1532.4 L1404.68 1568.04 L1398.82 1568.04 L1398.82 1532.4 M1398.82 1518.52 L1404.68 1518.52 L1404.68 1525.93 L1398.82 1525.93 L1398.82 1518.52 Z\" fill=\"#000000\" fill-rule=\"nonzero\" fill-opacity=\"1\" /><path clip-path=\"url(#clip280)\" d=\"M1433.14 1550.12 Q1426.04 1550.12 1423.3 1551.75 Q1420.56 1553.37 1420.56 1557.29 Q1420.56 1560.4 1422.6 1562.25 Q1424.67 1564.07 1428.2 1564.07 Q1433.07 1564.07 1436 1560.63 Q1438.96 1557.16 1438.96 1551.43 L1438.96 1550.12 L1433.14 1550.12 M1444.82 1547.71 L1444.82 1568.04 L1438.96 1568.04 L1438.96 1562.63 Q1436.96 1565.88 1433.96 1567.44 Q1430.97 1568.97 1426.64 1568.97 Q1421.17 1568.97 1417.92 1565.91 Q1414.71 1562.82 1414.71 1557.67 Q1414.71 1551.65 1418.72 1548.6 Q1422.76 1545.54 1430.75 1545.54 L1438.96 1545.54 L1438.96 1544.97 Q1438.96 1540.93 1436.29 1538.73 Q1433.65 1536.5 1428.84 1536.5 Q1425.78 1536.5 1422.89 1537.23 Q1419.99 1537.97 1417.32 1539.43 L1417.32 1534.02 Q1420.53 1532.78 1423.56 1532.17 Q1426.58 1531.54 1429.44 1531.54 Q1437.18 1531.54 1441 1535.55 Q1444.82 1539.56 1444.82 1547.71 Z\" fill=\"#000000\" fill-rule=\"nonzero\" fill-opacity=\"1\" /><path clip-path=\"url(#clip280)\" d=\"M1486.51 1546.53 L1486.51 1568.04 L1480.66 1568.04 L1480.66 1546.72 Q1480.66 1541.66 1478.68 1539.14 Q1476.71 1536.63 1472.76 1536.63 Q1468.02 1536.63 1465.28 1539.65 Q1462.55 1542.68 1462.55 1547.9 L1462.55 1568.04 L1456.66 1568.04 L1456.66 1532.4 L1462.55 1532.4 L1462.55 1537.93 Q1464.65 1534.72 1467.48 1533.13 Q1470.34 1531.54 1474.07 1531.54 Q1480.21 1531.54 1483.36 1535.36 Q1486.51 1539.14 1486.51 1546.53 Z\" fill=\"#000000\" fill-rule=\"nonzero\" fill-opacity=\"1\" /><path clip-path=\"url(#clip280)\" d=\"M1523.85 1533.76 L1523.85 1539.24 Q1521.36 1537.87 1518.85 1537.2 Q1516.37 1536.5 1513.82 1536.5 Q1508.12 1536.5 1504.97 1540.13 Q1501.82 1543.73 1501.82 1550.25 Q1501.82 1556.78 1504.97 1560.4 Q1508.12 1564 1513.82 1564 Q1516.37 1564 1518.85 1563.33 Q1521.36 1562.63 1523.85 1561.26 L1523.85 1566.68 Q1521.4 1567.82 1518.75 1568.39 Q1516.14 1568.97 1513.18 1568.97 Q1505.13 1568.97 1500.39 1563.91 Q1495.65 1558.85 1495.65 1550.25 Q1495.65 1541.53 1500.42 1536.53 Q1505.23 1531.54 1513.57 1531.54 Q1516.27 1531.54 1518.85 1532.11 Q1521.43 1532.65 1523.85 1533.76 Z\" fill=\"#000000\" fill-rule=\"nonzero\" fill-opacity=\"1\" /><path clip-path=\"url(#clip280)\" d=\"M1564.52 1548.76 L1564.52 1551.62 L1537.6 1551.62 Q1537.98 1557.67 1541.23 1560.85 Q1544.5 1564 1550.33 1564 Q1553.7 1564 1556.85 1563.17 Q1560.04 1562.35 1563.16 1560.69 L1563.16 1566.23 Q1560 1567.57 1556.69 1568.27 Q1553.38 1568.97 1549.98 1568.97 Q1541.45 1568.97 1536.45 1564 Q1531.49 1559.04 1531.49 1550.57 Q1531.49 1541.82 1536.2 1536.69 Q1540.94 1531.54 1548.96 1531.54 Q1556.15 1531.54 1560.32 1536.18 Q1564.52 1540.8 1564.52 1548.76 M1558.67 1547.04 Q1558.6 1542.23 1555.96 1539.37 Q1553.35 1536.5 1549.02 1536.5 Q1544.12 1536.5 1541.16 1539.27 Q1538.23 1542.04 1537.79 1547.07 L1558.67 1547.04 Z\" fill=\"#000000\" fill-rule=\"nonzero\" fill-opacity=\"1\" /><path clip-path=\"url(#clip280)\" d=\"M1573.21 1518.58 L1578.31 1518.58 Q1583.08 1526.09 1585.44 1533.29 Q1587.82 1540.48 1587.82 1547.58 Q1587.82 1554.71 1585.44 1561.93 Q1583.08 1569.16 1578.31 1576.64 L1573.21 1576.64 Q1577.45 1569.35 1579.52 1562.16 Q1581.62 1554.93 1581.62 1547.58 Q1581.62 1540.23 1579.52 1533.06 Q1577.45 1525.9 1573.21 1518.58 Z\" fill=\"#000000\" fill-rule=\"nonzero\" fill-opacity=\"1\" /><polyline clip-path=\"url(#clip280)\" style=\"stroke:#000000; stroke-linecap:round; stroke-linejoin:round; stroke-width:4; stroke-opacity:1; fill:none\" points=\"219.866,1423.18 219.866,47.2441 \"/>\n",
       "<polyline clip-path=\"url(#clip280)\" style=\"stroke:#000000; stroke-linecap:round; stroke-linejoin:round; stroke-width:4; stroke-opacity:1; fill:none\" points=\"219.866,1179.65 238.764,1179.65 \"/>\n",
       "<polyline clip-path=\"url(#clip280)\" style=\"stroke:#000000; stroke-linecap:round; stroke-linejoin:round; stroke-width:4; stroke-opacity:1; fill:none\" points=\"219.866,906.281 238.764,906.281 \"/>\n",
       "<polyline clip-path=\"url(#clip280)\" style=\"stroke:#000000; stroke-linecap:round; stroke-linejoin:round; stroke-width:4; stroke-opacity:1; fill:none\" points=\"219.866,632.916 238.764,632.916 \"/>\n",
       "<polyline clip-path=\"url(#clip280)\" style=\"stroke:#000000; stroke-linecap:round; stroke-linejoin:round; stroke-width:4; stroke-opacity:1; fill:none\" points=\"219.866,359.551 238.764,359.551 \"/>\n",
       "<polyline clip-path=\"url(#clip280)\" style=\"stroke:#000000; stroke-linecap:round; stroke-linejoin:round; stroke-width:4; stroke-opacity:1; fill:none\" points=\"219.866,86.1857 238.764,86.1857 \"/>\n",
       "<path clip-path=\"url(#clip280)\" d=\"M127.917 1165.44 Q124.306 1165.44 122.478 1169.01 Q120.672 1172.55 120.672 1179.68 Q120.672 1186.79 122.478 1190.35 Q124.306 1193.89 127.917 1193.89 Q131.552 1193.89 133.357 1190.35 Q135.186 1186.79 135.186 1179.68 Q135.186 1172.55 133.357 1169.01 Q131.552 1165.44 127.917 1165.44 M127.917 1161.74 Q133.728 1161.74 136.783 1166.35 Q139.862 1170.93 139.862 1179.68 Q139.862 1188.41 136.783 1193.01 Q133.728 1197.6 127.917 1197.6 Q122.107 1197.6 119.029 1193.01 Q115.973 1188.41 115.973 1179.68 Q115.973 1170.93 119.029 1166.35 Q122.107 1161.74 127.917 1161.74 Z\" fill=\"#000000\" fill-rule=\"nonzero\" fill-opacity=\"1\" /><path clip-path=\"url(#clip280)\" d=\"M148.079 1191.05 L152.964 1191.05 L152.964 1196.93 L148.079 1196.93 L148.079 1191.05 Z\" fill=\"#000000\" fill-rule=\"nonzero\" fill-opacity=\"1\" /><path clip-path=\"url(#clip280)\" d=\"M163.959 1192.99 L171.598 1192.99 L171.598 1166.63 L163.288 1168.29 L163.288 1164.03 L171.552 1162.37 L176.227 1162.37 L176.227 1192.99 L183.866 1192.99 L183.866 1196.93 L163.959 1196.93 L163.959 1192.99 Z\" fill=\"#000000\" fill-rule=\"nonzero\" fill-opacity=\"1\" /><path clip-path=\"url(#clip280)\" d=\"M128.288 892.08 Q124.677 892.08 122.848 895.644 Q121.043 899.186 121.043 906.316 Q121.043 913.422 122.848 916.987 Q124.677 920.529 128.288 920.529 Q131.922 920.529 133.728 916.987 Q135.556 913.422 135.556 906.316 Q135.556 899.186 133.728 895.644 Q131.922 892.08 128.288 892.08 M128.288 888.376 Q134.098 888.376 137.154 892.982 Q140.232 897.566 140.232 906.316 Q140.232 915.042 137.154 919.649 Q134.098 924.232 128.288 924.232 Q122.478 924.232 119.399 919.649 Q116.343 915.042 116.343 906.316 Q116.343 897.566 119.399 892.982 Q122.478 888.376 128.288 888.376 Z\" fill=\"#000000\" fill-rule=\"nonzero\" fill-opacity=\"1\" /><path clip-path=\"url(#clip280)\" d=\"M148.45 917.681 L153.334 917.681 L153.334 923.561 L148.45 923.561 L148.45 917.681 Z\" fill=\"#000000\" fill-rule=\"nonzero\" fill-opacity=\"1\" /><path clip-path=\"url(#clip280)\" d=\"M167.547 919.626 L183.866 919.626 L183.866 923.561 L161.922 923.561 L161.922 919.626 Q164.584 916.871 169.167 912.242 Q173.774 907.589 174.954 906.246 Q177.2 903.723 178.079 901.987 Q178.982 900.228 178.982 898.538 Q178.982 895.783 177.038 894.047 Q175.116 892.311 172.014 892.311 Q169.815 892.311 167.362 893.075 Q164.931 893.839 162.153 895.39 L162.153 890.668 Q164.977 889.533 167.431 888.955 Q169.885 888.376 171.922 888.376 Q177.292 888.376 180.487 891.061 Q183.681 893.746 183.681 898.237 Q183.681 900.367 182.871 902.288 Q182.084 904.186 179.977 906.779 Q179.399 907.45 176.297 910.667 Q173.195 913.862 167.547 919.626 Z\" fill=\"#000000\" fill-rule=\"nonzero\" fill-opacity=\"1\" /><path clip-path=\"url(#clip280)\" d=\"M127.339 618.715 Q123.728 618.715 121.899 622.279 Q120.093 625.821 120.093 632.951 Q120.093 640.057 121.899 643.622 Q123.728 647.163 127.339 647.163 Q130.973 647.163 132.779 643.622 Q134.607 640.057 134.607 632.951 Q134.607 625.821 132.779 622.279 Q130.973 618.715 127.339 618.715 M127.339 615.011 Q133.149 615.011 136.204 619.617 Q139.283 624.201 139.283 632.951 Q139.283 641.677 136.204 646.284 Q133.149 650.867 127.339 650.867 Q121.529 650.867 118.45 646.284 Q115.394 641.677 115.394 632.951 Q115.394 624.201 118.45 619.617 Q121.529 615.011 127.339 615.011 Z\" fill=\"#000000\" fill-rule=\"nonzero\" fill-opacity=\"1\" /><path clip-path=\"url(#clip280)\" d=\"M147.501 644.316 L152.385 644.316 L152.385 650.196 L147.501 650.196 L147.501 644.316 Z\" fill=\"#000000\" fill-rule=\"nonzero\" fill-opacity=\"1\" /><path clip-path=\"url(#clip280)\" d=\"M176.737 631.562 Q180.093 632.279 181.968 634.548 Q183.866 636.816 183.866 640.15 Q183.866 645.265 180.348 648.066 Q176.829 650.867 170.348 650.867 Q168.172 650.867 165.857 650.427 Q163.565 650.011 161.112 649.154 L161.112 644.64 Q163.056 645.775 165.371 646.353 Q167.686 646.932 170.209 646.932 Q174.607 646.932 176.899 645.196 Q179.214 643.46 179.214 640.15 Q179.214 637.094 177.061 635.381 Q174.931 633.645 171.112 633.645 L167.084 633.645 L167.084 629.802 L171.297 629.802 Q174.746 629.802 176.575 628.437 Q178.403 627.048 178.403 624.455 Q178.403 621.793 176.505 620.381 Q174.63 618.946 171.112 618.946 Q169.19 618.946 166.991 619.363 Q164.792 619.779 162.153 620.659 L162.153 616.492 Q164.815 615.752 167.13 615.381 Q169.468 615.011 171.528 615.011 Q176.852 615.011 179.954 617.441 Q183.056 619.849 183.056 623.969 Q183.056 626.839 181.413 628.83 Q179.769 630.798 176.737 631.562 Z\" fill=\"#000000\" fill-rule=\"nonzero\" fill-opacity=\"1\" /><path clip-path=\"url(#clip280)\" d=\"M126.205 345.349 Q122.593 345.349 120.765 348.914 Q118.959 352.456 118.959 359.585 Q118.959 366.692 120.765 370.257 Q122.593 373.798 126.205 373.798 Q129.839 373.798 131.644 370.257 Q133.473 366.692 133.473 359.585 Q133.473 352.456 131.644 348.914 Q129.839 345.349 126.205 345.349 M126.205 341.646 Q132.015 341.646 135.07 346.252 Q138.149 350.836 138.149 359.585 Q138.149 368.312 135.07 372.919 Q132.015 377.502 126.205 377.502 Q120.394 377.502 117.316 372.919 Q114.26 368.312 114.26 359.585 Q114.26 350.836 117.316 346.252 Q120.394 341.646 126.205 341.646 Z\" fill=\"#000000\" fill-rule=\"nonzero\" fill-opacity=\"1\" /><path clip-path=\"url(#clip280)\" d=\"M146.366 370.951 L151.251 370.951 L151.251 376.831 L146.366 376.831 L146.366 370.951 Z\" fill=\"#000000\" fill-rule=\"nonzero\" fill-opacity=\"1\" /><path clip-path=\"url(#clip280)\" d=\"M174.283 346.345 L162.477 364.794 L174.283 364.794 L174.283 346.345 M173.056 342.271 L178.936 342.271 L178.936 364.794 L183.866 364.794 L183.866 368.683 L178.936 368.683 L178.936 376.831 L174.283 376.831 L174.283 368.683 L158.681 368.683 L158.681 364.169 L173.056 342.271 Z\" fill=\"#000000\" fill-rule=\"nonzero\" fill-opacity=\"1\" /><path clip-path=\"url(#clip280)\" d=\"M127.686 71.9843 Q124.075 71.9843 122.246 75.5491 Q120.441 79.0908 120.441 86.2204 Q120.441 93.3268 122.246 96.8916 Q124.075 100.433 127.686 100.433 Q131.32 100.433 133.126 96.8916 Q134.954 93.3268 134.954 86.2204 Q134.954 79.0908 133.126 75.5491 Q131.32 71.9843 127.686 71.9843 M127.686 68.2807 Q133.496 68.2807 136.552 72.8871 Q139.63 77.4704 139.63 86.2204 Q139.63 94.9472 136.552 99.5536 Q133.496 104.137 127.686 104.137 Q121.876 104.137 118.797 99.5536 Q115.742 94.9472 115.742 86.2204 Q115.742 77.4704 118.797 72.8871 Q121.876 68.2807 127.686 68.2807 Z\" fill=\"#000000\" fill-rule=\"nonzero\" fill-opacity=\"1\" /><path clip-path=\"url(#clip280)\" d=\"M147.848 97.5861 L152.732 97.5861 L152.732 103.466 L147.848 103.466 L147.848 97.5861 Z\" fill=\"#000000\" fill-rule=\"nonzero\" fill-opacity=\"1\" /><path clip-path=\"url(#clip280)\" d=\"M162.964 68.9057 L181.32 68.9057 L181.32 72.8408 L167.246 72.8408 L167.246 81.313 Q168.264 80.9658 169.283 80.8037 Q170.302 80.6186 171.32 80.6186 Q177.107 80.6186 180.487 83.7898 Q183.866 86.9611 183.866 92.3777 Q183.866 97.9564 180.394 101.058 Q176.922 104.137 170.602 104.137 Q168.427 104.137 166.158 103.767 Q163.913 103.396 161.505 102.655 L161.505 97.9564 Q163.589 99.0907 165.811 99.6462 Q168.033 100.202 170.51 100.202 Q174.514 100.202 176.852 98.0953 Q179.19 95.9888 179.19 92.3777 Q179.19 88.7667 176.852 86.6602 Q174.514 84.5537 170.51 84.5537 Q168.635 84.5537 166.76 84.9704 Q164.908 85.387 162.964 86.2667 L162.964 68.9057 Z\" fill=\"#000000\" fill-rule=\"nonzero\" fill-opacity=\"1\" /><path clip-path=\"url(#clip280)\" d=\"M21.7677 1157.39 L39.6235 1157.39 L39.6235 1149.3 Q39.6235 1144.81 37.3 1142.36 Q34.9765 1139.91 30.6797 1139.91 Q26.4147 1139.91 24.0912 1142.36 Q21.7677 1144.81 21.7677 1149.3 L21.7677 1157.39 M16.4842 1163.81 L16.4842 1149.3 Q16.4842 1141.31 20.1126 1137.24 Q23.7092 1133.13 30.6797 1133.13 Q37.7138 1133.13 41.3104 1137.24 Q44.907 1141.31 44.907 1149.3 L44.907 1157.39 L64.0042 1157.39 L64.0042 1163.81 L16.4842 1163.81 Z\" fill=\"#000000\" fill-rule=\"nonzero\" fill-opacity=\"1\" /><path clip-path=\"url(#clip280)\" d=\"M32.4621 1113.27 Q32.4621 1117.98 36.1542 1120.72 Q39.8145 1123.46 46.212 1123.46 Q52.6095 1123.46 56.3017 1120.75 Q59.9619 1118.01 59.9619 1113.27 Q59.9619 1108.59 56.2698 1105.86 Q52.5777 1103.12 46.212 1103.12 Q39.8781 1103.12 36.186 1105.86 Q32.4621 1108.59 32.4621 1113.27 M27.4968 1113.27 Q27.4968 1105.63 32.4621 1101.27 Q37.4273 1096.91 46.212 1096.91 Q54.9649 1096.91 59.9619 1101.27 Q64.9272 1105.63 64.9272 1113.27 Q64.9272 1120.94 59.9619 1125.3 Q54.9649 1129.63 46.212 1129.63 Q37.4273 1129.63 32.4621 1125.3 Q27.4968 1120.94 27.4968 1113.27 Z\" fill=\"#000000\" fill-rule=\"nonzero\" fill-opacity=\"1\" /><path clip-path=\"url(#clip280)\" d=\"M33.8307 1066.55 Q33.2578 1067.53 33.0032 1068.71 Q32.7167 1069.86 32.7167 1071.26 Q32.7167 1076.22 35.9632 1078.9 Q39.1779 1081.54 45.2253 1081.54 L64.0042 1081.54 L64.0042 1087.43 L28.3562 1087.43 L28.3562 1081.54 L33.8944 1081.54 Q30.6479 1079.69 29.0883 1076.73 Q27.4968 1073.77 27.4968 1069.54 Q27.4968 1068.93 27.5923 1068.2 Q27.656 1067.47 27.8151 1066.58 L33.8307 1066.55 Z\" fill=\"#000000\" fill-rule=\"nonzero\" fill-opacity=\"1\" /><path clip-path=\"url(#clip280)\" d=\"M18.2347 1054.61 L28.3562 1054.61 L28.3562 1042.55 L32.9077 1042.55 L32.9077 1054.61 L52.2594 1054.61 Q56.6199 1054.61 57.8613 1053.43 Q59.1026 1052.22 59.1026 1048.56 L59.1026 1042.55 L64.0042 1042.55 L64.0042 1048.56 Q64.0042 1055.34 61.4897 1057.92 Q58.9434 1060.5 52.2594 1060.5 L32.9077 1060.5 L32.9077 1064.8 L28.3562 1064.8 L28.3562 1060.5 L18.2347 1060.5 L18.2347 1054.61 Z\" fill=\"#000000\" fill-rule=\"nonzero\" fill-opacity=\"1\" /><path clip-path=\"url(#clip280)\" d=\"M14.479 1016.8 L19.3487 1016.8 L19.3487 1022.4 Q19.3487 1025.55 20.6219 1026.79 Q21.895 1028 25.2052 1028 L28.3562 1028 L28.3562 1018.36 L32.9077 1018.36 L32.9077 1028 L64.0042 1028 L64.0042 1033.89 L32.9077 1033.89 L32.9077 1039.49 L28.3562 1039.49 L28.3562 1033.89 L25.8736 1033.89 Q19.9216 1033.89 17.2162 1031.12 Q14.479 1028.35 14.479 1022.34 L14.479 1016.8 Z\" fill=\"#000000\" fill-rule=\"nonzero\" fill-opacity=\"1\" /><path clip-path=\"url(#clip280)\" d=\"M32.4621 998.084 Q32.4621 1002.79 36.1542 1005.53 Q39.8145 1008.27 46.212 1008.27 Q52.6095 1008.27 56.3017 1005.56 Q59.9619 1002.83 59.9619 998.084 Q59.9619 993.405 56.2698 990.668 Q52.5777 987.931 46.212 987.931 Q39.8781 987.931 36.186 990.668 Q32.4621 993.405 32.4621 998.084 M27.4968 998.084 Q27.4968 990.445 32.4621 986.084 Q37.4273 981.724 46.212 981.724 Q54.9649 981.724 59.9619 986.084 Q64.9272 990.445 64.9272 998.084 Q64.9272 1005.75 59.9619 1010.12 Q54.9649 1014.44 46.212 1014.44 Q37.4273 1014.44 32.4621 1010.12 Q27.4968 1005.75 27.4968 998.084 Z\" fill=\"#000000\" fill-rule=\"nonzero\" fill-opacity=\"1\" /><path clip-path=\"url(#clip280)\" d=\"M14.479 972.016 L14.479 966.16 L64.0042 966.16 L64.0042 972.016 L14.479 972.016 Z\" fill=\"#000000\" fill-rule=\"nonzero\" fill-opacity=\"1\" /><path clip-path=\"url(#clip280)\" d=\"M28.3562 953.906 L28.3562 948.049 L64.0042 948.049 L64.0042 953.906 L28.3562 953.906 M14.479 953.906 L14.479 948.049 L21.895 948.049 L21.895 953.906 L14.479 953.906 Z\" fill=\"#000000\" fill-rule=\"nonzero\" fill-opacity=\"1\" /><path clip-path=\"url(#clip280)\" d=\"M32.4621 921.982 Q32.4621 926.692 36.1542 929.43 Q39.8145 932.167 46.212 932.167 Q52.6095 932.167 56.3017 929.462 Q59.9619 926.724 59.9619 921.982 Q59.9619 917.303 56.2698 914.566 Q52.5777 911.828 46.212 911.828 Q39.8781 911.828 36.186 914.566 Q32.4621 917.303 32.4621 921.982 M27.4968 921.982 Q27.4968 914.343 32.4621 909.982 Q37.4273 905.622 46.212 905.622 Q54.9649 905.622 59.9619 909.982 Q64.9272 914.343 64.9272 921.982 Q64.9272 929.652 59.9619 934.013 Q54.9649 938.342 46.212 938.342 Q37.4273 938.342 32.4621 934.013 Q27.4968 929.652 27.4968 921.982 Z\" fill=\"#000000\" fill-rule=\"nonzero\" fill-opacity=\"1\" /><path clip-path=\"url(#clip280)\" d=\"M45.7664 851.736 Q39.4007 851.736 35.8996 854.378 Q32.3984 856.988 32.3984 861.73 Q32.3984 866.441 35.8996 869.083 Q39.4007 871.693 45.7664 871.693 Q52.1003 871.693 55.6014 869.083 Q59.1026 866.441 59.1026 861.73 Q59.1026 856.988 55.6014 854.378 Q52.1003 851.736 45.7664 851.736 M59.58 845.88 Q68.683 845.88 73.1071 849.922 Q77.5631 853.964 77.5631 862.303 Q77.5631 865.391 77.0857 868.128 Q76.6401 870.865 75.6852 873.443 L69.9879 873.443 Q71.3884 870.865 72.0568 868.351 Q72.7252 865.836 72.7252 863.226 Q72.7252 857.465 69.7015 854.601 Q66.7096 851.736 60.6303 851.736 L57.7339 851.736 Q60.885 853.55 62.4446 856.383 Q64.0042 859.216 64.0042 863.163 Q64.0042 869.719 59.0071 873.73 Q54.01 877.74 45.7664 877.74 Q37.491 877.74 32.4939 873.73 Q27.4968 869.719 27.4968 863.163 Q27.4968 859.216 29.0564 856.383 Q30.616 853.55 33.7671 851.736 L28.3562 851.736 L28.3562 845.88 L59.58 845.88 Z\" fill=\"#000000\" fill-rule=\"nonzero\" fill-opacity=\"1\" /><path clip-path=\"url(#clip280)\" d=\"M33.8307 813.16 Q33.2578 814.147 33.0032 815.324 Q32.7167 816.47 32.7167 817.871 Q32.7167 822.836 35.9632 825.51 Q39.1779 828.151 45.2253 828.151 L64.0042 828.151 L64.0042 834.04 L28.3562 834.04 L28.3562 828.151 L33.8944 828.151 Q30.6479 826.305 29.0883 823.345 Q27.4968 820.385 27.4968 816.152 Q27.4968 815.547 27.5923 814.815 Q27.656 814.083 27.8151 813.192 L33.8307 813.16 Z\" fill=\"#000000\" fill-rule=\"nonzero\" fill-opacity=\"1\" /><path clip-path=\"url(#clip280)\" d=\"M32.4621 794.636 Q32.4621 799.346 36.1542 802.084 Q39.8145 804.821 46.212 804.821 Q52.6095 804.821 56.3017 802.116 Q59.9619 799.378 59.9619 794.636 Q59.9619 789.957 56.2698 787.22 Q52.5777 784.483 46.212 784.483 Q39.8781 784.483 36.186 787.22 Q32.4621 789.957 32.4621 794.636 M27.4968 794.636 Q27.4968 786.997 32.4621 782.636 Q37.4273 778.276 46.212 778.276 Q54.9649 778.276 59.9619 782.636 Q64.9272 786.997 64.9272 794.636 Q64.9272 802.307 59.9619 806.667 Q54.9649 810.996 46.212 810.996 Q37.4273 810.996 32.4621 806.667 Q27.4968 802.307 27.4968 794.636 Z\" fill=\"#000000\" fill-rule=\"nonzero\" fill-opacity=\"1\" /><path clip-path=\"url(#clip280)\" d=\"M28.3562 771.974 L28.3562 766.117 L56.1743 758.797 L28.3562 751.508 L28.3562 744.601 L56.1743 737.281 L28.3562 729.992 L28.3562 724.136 L64.0042 733.461 L64.0042 740.368 L34.7856 748.039 L64.0042 755.741 L64.0042 762.648 L28.3562 771.974 Z\" fill=\"#000000\" fill-rule=\"nonzero\" fill-opacity=\"1\" /><path clip-path=\"url(#clip280)\" d=\"M18.2347 709.463 L28.3562 709.463 L28.3562 697.4 L32.9077 697.4 L32.9077 709.463 L52.2594 709.463 Q56.6199 709.463 57.8613 708.285 Q59.1026 707.076 59.1026 703.415 L59.1026 697.4 L64.0042 697.4 L64.0042 703.415 Q64.0042 710.195 61.4897 712.773 Q58.9434 715.351 52.2594 715.351 L32.9077 715.351 L32.9077 719.648 L28.3562 719.648 L28.3562 715.351 L18.2347 715.351 L18.2347 709.463 Z\" fill=\"#000000\" fill-rule=\"nonzero\" fill-opacity=\"1\" /><path clip-path=\"url(#clip280)\" d=\"M42.4881 660.065 L64.0042 660.065 L64.0042 665.921 L42.679 665.921 Q37.6183 665.921 35.1038 667.895 Q32.5894 669.868 32.5894 673.815 Q32.5894 678.557 35.6131 681.294 Q38.6368 684.032 43.8567 684.032 L64.0042 684.032 L64.0042 689.92 L14.479 689.92 L14.479 684.032 L33.8944 684.032 Q30.6797 681.931 29.0883 679.098 Q27.4968 676.234 27.4968 672.51 Q27.4968 666.367 31.3163 663.216 Q35.1038 660.065 42.4881 660.065 Z\" fill=\"#000000\" fill-rule=\"nonzero\" fill-opacity=\"1\" /><path clip-path=\"url(#clip280)\" d=\"M33.8307 607.007 Q33.2578 607.993 33.0032 609.171 Q32.7167 610.317 32.7167 611.717 Q32.7167 616.683 35.9632 619.356 Q39.1779 621.998 45.2253 621.998 L64.0042 621.998 L64.0042 627.886 L28.3562 627.886 L28.3562 621.998 L33.8944 621.998 Q30.6479 620.152 29.0883 617.192 Q27.4968 614.232 27.4968 609.999 Q27.4968 609.394 27.5923 608.662 Q27.656 607.93 27.8151 607.038 L33.8307 607.007 Z\" fill=\"#000000\" fill-rule=\"nonzero\" fill-opacity=\"1\" /><path clip-path=\"url(#clip280)\" d=\"M46.0847 584.663 Q46.0847 591.761 47.7079 594.498 Q49.3312 597.235 53.2461 597.235 Q56.3653 597.235 58.2114 595.198 Q60.0256 593.129 60.0256 589.596 Q60.0256 584.727 56.5881 581.798 Q53.1188 578.838 47.3897 578.838 L46.0847 578.838 L46.0847 584.663 M43.6657 572.982 L64.0042 572.982 L64.0042 578.838 L58.5933 578.838 Q61.8398 580.844 63.3994 583.835 Q64.9272 586.827 64.9272 591.156 Q64.9272 596.631 61.8716 599.877 Q58.7843 603.092 53.6281 603.092 Q47.6125 603.092 44.5569 599.081 Q41.5014 595.039 41.5014 587.05 L41.5014 578.838 L40.9285 578.838 Q36.8862 578.838 34.6901 581.512 Q32.4621 584.154 32.4621 588.96 Q32.4621 592.015 33.1941 594.912 Q33.9262 597.808 35.3903 600.482 L29.9795 600.482 Q28.7381 597.267 28.1334 594.243 Q27.4968 591.22 27.4968 588.355 Q27.4968 580.621 31.5072 576.801 Q35.5176 572.982 43.6657 572.982 Z\" fill=\"#000000\" fill-rule=\"nonzero\" fill-opacity=\"1\" /><path clip-path=\"url(#clip280)\" d=\"M18.2347 555.126 L28.3562 555.126 L28.3562 543.063 L32.9077 543.063 L32.9077 555.126 L52.2594 555.126 Q56.6199 555.126 57.8613 553.948 Q59.1026 552.739 59.1026 549.079 L59.1026 543.063 L64.0042 543.063 L64.0042 549.079 Q64.0042 555.858 61.4897 558.436 Q58.9434 561.014 52.2594 561.014 L32.9077 561.014 L32.9077 565.311 L28.3562 565.311 L28.3562 561.014 L18.2347 561.014 L18.2347 555.126 Z\" fill=\"#000000\" fill-rule=\"nonzero\" fill-opacity=\"1\" /><path clip-path=\"url(#clip280)\" d=\"M44.7161 504.869 L47.5806 504.869 L47.5806 531.796 Q53.6281 531.414 56.8109 528.167 Q59.9619 524.889 59.9619 519.064 Q59.9619 515.691 59.1344 512.54 Q58.3069 509.357 56.6518 506.238 L62.1899 506.238 Q63.5267 509.389 64.227 512.699 Q64.9272 516.009 64.9272 519.415 Q64.9272 527.945 59.9619 532.942 Q54.9967 537.907 46.5303 537.907 Q37.7774 537.907 32.6531 533.196 Q27.4968 528.454 27.4968 520.433 Q27.4968 513.24 32.1438 509.07 Q36.7589 504.869 44.7161 504.869 M42.9973 510.725 Q38.1912 510.789 35.3266 513.431 Q32.4621 516.041 32.4621 520.369 Q32.4621 525.271 35.2312 528.231 Q38.0002 531.159 43.0292 531.605 L42.9973 510.725 Z\" fill=\"#000000\" fill-rule=\"nonzero\" fill-opacity=\"1\" /><path clip-path=\"url(#clip280)\" d=\"M14.5426 460.468 Q21.8632 464.733 29.0246 466.802 Q36.186 468.871 43.5384 468.871 Q50.8908 468.871 58.1159 466.802 Q65.3091 464.701 72.5979 460.468 L72.5979 465.561 Q65.1182 470.335 57.8931 472.722 Q50.668 475.077 43.5384 475.077 Q36.4406 475.077 29.2474 472.722 Q22.0542 470.367 14.5426 465.561 L14.5426 460.468 Z\" fill=\"#000000\" fill-rule=\"nonzero\" fill-opacity=\"1\" /><path clip-path=\"url(#clip280)\" d=\"M58.5933 447.164 L58.5933 436.66 L22.3406 436.66 L24.6323 448.087 L18.7758 448.087 L16.4842 436.724 L16.4842 430.295 L58.5933 430.295 L58.5933 419.791 L64.0042 419.791 L64.0042 447.164 L58.5933 447.164 Z\" fill=\"#000000\" fill-rule=\"nonzero\" fill-opacity=\"1\" /><path clip-path=\"url(#clip280)\" d=\"M16.4842 397.225 L16.4842 391.814 L70.0516 408.365 L70.0516 413.776 L16.4842 397.225 Z\" fill=\"#000000\" fill-rule=\"nonzero\" fill-opacity=\"1\" /><path clip-path=\"url(#clip280)\" d=\"M67.3143 370.839 Q73.68 373.322 75.6216 375.677 Q77.5631 378.032 77.5631 381.979 L77.5631 386.658 L72.6615 386.658 L72.6615 383.22 Q72.6615 380.801 71.5157 379.464 Q70.3699 378.128 66.1048 376.504 L63.4312 375.454 L28.3562 389.872 L28.3562 383.666 L56.238 372.526 L28.3562 361.386 L28.3562 355.179 L67.3143 370.839 Z\" fill=\"#000000\" fill-rule=\"nonzero\" fill-opacity=\"1\" /><path clip-path=\"url(#clip280)\" d=\"M33.8307 326.438 Q33.2578 327.425 33.0032 328.602 Q32.7167 329.748 32.7167 331.149 Q32.7167 336.114 35.9632 338.788 Q39.1779 341.429 45.2253 341.429 L64.0042 341.429 L64.0042 347.318 L28.3562 347.318 L28.3562 341.429 L33.8944 341.429 Q30.6479 339.583 29.0883 336.623 Q27.4968 333.663 27.4968 329.43 Q27.4968 328.825 27.5923 328.093 Q27.656 327.361 27.8151 326.47 L33.8307 326.438 Z\" fill=\"#000000\" fill-rule=\"nonzero\" fill-opacity=\"1\" /><path clip-path=\"url(#clip280)\" d=\"M14.5426 321.218 L14.5426 316.126 Q22.0542 311.351 29.2474 308.996 Q36.4406 306.609 43.5384 306.609 Q50.668 306.609 57.8931 308.996 Q65.1182 311.351 72.5979 316.126 L72.5979 321.218 Q65.3091 316.985 58.1159 314.916 Q50.8908 312.816 43.5384 312.816 Q36.186 312.816 29.0246 314.916 Q21.8632 316.985 14.5426 321.218 Z\" fill=\"#000000\" fill-rule=\"nonzero\" fill-opacity=\"1\" /><polyline clip-path=\"url(#clip282)\" style=\"stroke:#808080; stroke-linecap:round; stroke-linejoin:round; stroke-width:16; stroke-opacity:1; fill:none\" points=\"220.66,1316.37 220.66,1316.37 220.661,1316.37 220.664,1316.37 225.44,1312.82 281.125,1277.78 336.813,1242.73 392.501,1207.68 448.19,1172.64 503.878,1137.59 559.567,1102.54 615.256,1067.5 670.944,1032.45 726.633,997.403 782.322,962.356 838.01,927.309 893.699,892.262 949.388,857.215 1005.08,822.169 1060.76,787.122 1116.45,752.075 1172.14,717.028 1227.83,681.981 1283.52,646.935 1339.21,611.888 1394.9,576.841 1450.59,541.794 1506.27,506.747 1561.96,471.701 1617.65,436.654 1673.34,401.607 1729.03,366.56 1784.72,331.513 1840.41,296.467 1896.09,261.42 1951.78,226.373 2007.47,191.326 2063.16,156.279 2118.85,121.232 2174.54,86.1857 \"/>\n",
       "<circle clip-path=\"url(#clip282)\" cx=\"1896.09\" cy=\"261.42\" r=\"10.8\" fill=\"#ffffff\" fill-rule=\"evenodd\" fill-opacity=\"1\" stroke=\"#000000\" stroke-opacity=\"1\" stroke-width=\"3.2\"/>\n",
       "<circle clip-path=\"url(#clip282)\" cx=\"838.01\" cy=\"927.309\" r=\"10.8\" fill=\"#ffffff\" fill-rule=\"evenodd\" fill-opacity=\"1\" stroke=\"#000000\" stroke-opacity=\"1\" stroke-width=\"3.2\"/>\n",
       "<circle clip-path=\"url(#clip282)\" cx=\"1450.59\" cy=\"541.794\" r=\"10.8\" fill=\"#ffffff\" fill-rule=\"evenodd\" fill-opacity=\"1\" stroke=\"#000000\" stroke-opacity=\"1\" stroke-width=\"3.2\"/>\n",
       "<circle clip-path=\"url(#clip282)\" cx=\"2063.16\" cy=\"156.279\" r=\"10.8\" fill=\"#ffffff\" fill-rule=\"evenodd\" fill-opacity=\"1\" stroke=\"#000000\" stroke-opacity=\"1\" stroke-width=\"3.2\"/>\n",
       "<circle clip-path=\"url(#clip282)\" cx=\"1283.52\" cy=\"646.935\" r=\"10.8\" fill=\"#ffffff\" fill-rule=\"evenodd\" fill-opacity=\"1\" stroke=\"#000000\" stroke-opacity=\"1\" stroke-width=\"3.2\"/>\n",
       "<circle clip-path=\"url(#clip282)\" cx=\"1561.96\" cy=\"471.701\" r=\"10.8\" fill=\"#ffffff\" fill-rule=\"evenodd\" fill-opacity=\"1\" stroke=\"#000000\" stroke-opacity=\"1\" stroke-width=\"3.2\"/>\n",
       "<circle clip-path=\"url(#clip282)\" cx=\"559.567\" cy=\"1102.54\" r=\"10.8\" fill=\"#ffffff\" fill-rule=\"evenodd\" fill-opacity=\"1\" stroke=\"#000000\" stroke-opacity=\"1\" stroke-width=\"3.2\"/>\n",
       "<circle clip-path=\"url(#clip282)\" cx=\"220.66\" cy=\"1316.37\" r=\"10.8\" fill=\"#ffffff\" fill-rule=\"evenodd\" fill-opacity=\"1\" stroke=\"#000000\" stroke-opacity=\"1\" stroke-width=\"3.2\"/>\n",
       "<circle clip-path=\"url(#clip282)\" cx=\"1227.83\" cy=\"681.981\" r=\"10.8\" fill=\"#ffffff\" fill-rule=\"evenodd\" fill-opacity=\"1\" stroke=\"#000000\" stroke-opacity=\"1\" stroke-width=\"3.2\"/>\n",
       "<circle clip-path=\"url(#clip282)\" cx=\"220.66\" cy=\"1316.37\" r=\"10.8\" fill=\"#ffffff\" fill-rule=\"evenodd\" fill-opacity=\"1\" stroke=\"#000000\" stroke-opacity=\"1\" stroke-width=\"3.2\"/>\n",
       "<circle clip-path=\"url(#clip282)\" cx=\"392.501\" cy=\"1207.68\" r=\"10.8\" fill=\"#ffffff\" fill-rule=\"evenodd\" fill-opacity=\"1\" stroke=\"#000000\" stroke-opacity=\"1\" stroke-width=\"3.2\"/>\n",
       "<circle clip-path=\"url(#clip282)\" cx=\"893.699\" cy=\"892.262\" r=\"10.8\" fill=\"#ffffff\" fill-rule=\"evenodd\" fill-opacity=\"1\" stroke=\"#000000\" stroke-opacity=\"1\" stroke-width=\"3.2\"/>\n",
       "<circle clip-path=\"url(#clip282)\" cx=\"1506.27\" cy=\"506.747\" r=\"10.8\" fill=\"#ffffff\" fill-rule=\"evenodd\" fill-opacity=\"1\" stroke=\"#000000\" stroke-opacity=\"1\" stroke-width=\"3.2\"/>\n",
       "<circle clip-path=\"url(#clip282)\" cx=\"281.125\" cy=\"1277.78\" r=\"10.8\" fill=\"#ffffff\" fill-rule=\"evenodd\" fill-opacity=\"1\" stroke=\"#000000\" stroke-opacity=\"1\" stroke-width=\"3.2\"/>\n",
       "<circle clip-path=\"url(#clip282)\" cx=\"2118.85\" cy=\"121.232\" r=\"10.8\" fill=\"#ffffff\" fill-rule=\"evenodd\" fill-opacity=\"1\" stroke=\"#000000\" stroke-opacity=\"1\" stroke-width=\"3.2\"/>\n",
       "<circle clip-path=\"url(#clip282)\" cx=\"503.878\" cy=\"1137.59\" r=\"10.8\" fill=\"#ffffff\" fill-rule=\"evenodd\" fill-opacity=\"1\" stroke=\"#000000\" stroke-opacity=\"1\" stroke-width=\"3.2\"/>\n",
       "<circle clip-path=\"url(#clip282)\" cx=\"1617.65\" cy=\"436.654\" r=\"10.8\" fill=\"#ffffff\" fill-rule=\"evenodd\" fill-opacity=\"1\" stroke=\"#000000\" stroke-opacity=\"1\" stroke-width=\"3.2\"/>\n",
       "<circle clip-path=\"url(#clip282)\" cx=\"1729.03\" cy=\"366.56\" r=\"10.8\" fill=\"#ffffff\" fill-rule=\"evenodd\" fill-opacity=\"1\" stroke=\"#000000\" stroke-opacity=\"1\" stroke-width=\"3.2\"/>\n",
       "<circle clip-path=\"url(#clip282)\" cx=\"670.944\" cy=\"1032.45\" r=\"10.8\" fill=\"#ffffff\" fill-rule=\"evenodd\" fill-opacity=\"1\" stroke=\"#000000\" stroke-opacity=\"1\" stroke-width=\"3.2\"/>\n",
       "<circle clip-path=\"url(#clip282)\" cx=\"1060.76\" cy=\"787.122\" r=\"10.8\" fill=\"#ffffff\" fill-rule=\"evenodd\" fill-opacity=\"1\" stroke=\"#000000\" stroke-opacity=\"1\" stroke-width=\"3.2\"/>\n",
       "<circle clip-path=\"url(#clip282)\" cx=\"1951.78\" cy=\"226.373\" r=\"10.8\" fill=\"#ffffff\" fill-rule=\"evenodd\" fill-opacity=\"1\" stroke=\"#000000\" stroke-opacity=\"1\" stroke-width=\"3.2\"/>\n",
       "<circle clip-path=\"url(#clip282)\" cx=\"2007.47\" cy=\"191.326\" r=\"10.8\" fill=\"#ffffff\" fill-rule=\"evenodd\" fill-opacity=\"1\" stroke=\"#000000\" stroke-opacity=\"1\" stroke-width=\"3.2\"/>\n",
       "<circle clip-path=\"url(#clip282)\" cx=\"448.19\" cy=\"1172.64\" r=\"10.8\" fill=\"#ffffff\" fill-rule=\"evenodd\" fill-opacity=\"1\" stroke=\"#000000\" stroke-opacity=\"1\" stroke-width=\"3.2\"/>\n",
       "<circle clip-path=\"url(#clip282)\" cx=\"1673.34\" cy=\"401.607\" r=\"10.8\" fill=\"#ffffff\" fill-rule=\"evenodd\" fill-opacity=\"1\" stroke=\"#000000\" stroke-opacity=\"1\" stroke-width=\"3.2\"/>\n",
       "<circle clip-path=\"url(#clip282)\" cx=\"1339.21\" cy=\"611.888\" r=\"10.8\" fill=\"#ffffff\" fill-rule=\"evenodd\" fill-opacity=\"1\" stroke=\"#000000\" stroke-opacity=\"1\" stroke-width=\"3.2\"/>\n",
       "<circle clip-path=\"url(#clip282)\" cx=\"1840.41\" cy=\"296.467\" r=\"10.8\" fill=\"#ffffff\" fill-rule=\"evenodd\" fill-opacity=\"1\" stroke=\"#000000\" stroke-opacity=\"1\" stroke-width=\"3.2\"/>\n",
       "<circle clip-path=\"url(#clip282)\" cx=\"1394.9\" cy=\"576.841\" r=\"10.8\" fill=\"#ffffff\" fill-rule=\"evenodd\" fill-opacity=\"1\" stroke=\"#000000\" stroke-opacity=\"1\" stroke-width=\"3.2\"/>\n",
       "<circle clip-path=\"url(#clip282)\" cx=\"2174.54\" cy=\"86.1857\" r=\"10.8\" fill=\"#ffffff\" fill-rule=\"evenodd\" fill-opacity=\"1\" stroke=\"#000000\" stroke-opacity=\"1\" stroke-width=\"3.2\"/>\n",
       "<circle clip-path=\"url(#clip282)\" cx=\"1116.45\" cy=\"752.075\" r=\"10.8\" fill=\"#ffffff\" fill-rule=\"evenodd\" fill-opacity=\"1\" stroke=\"#000000\" stroke-opacity=\"1\" stroke-width=\"3.2\"/>\n",
       "<circle clip-path=\"url(#clip282)\" cx=\"1172.14\" cy=\"717.028\" r=\"10.8\" fill=\"#ffffff\" fill-rule=\"evenodd\" fill-opacity=\"1\" stroke=\"#000000\" stroke-opacity=\"1\" stroke-width=\"3.2\"/>\n",
       "<circle clip-path=\"url(#clip282)\" cx=\"225.44\" cy=\"1312.82\" r=\"10.8\" fill=\"#ffffff\" fill-rule=\"evenodd\" fill-opacity=\"1\" stroke=\"#000000\" stroke-opacity=\"1\" stroke-width=\"3.2\"/>\n",
       "<circle clip-path=\"url(#clip282)\" cx=\"1005.08\" cy=\"822.169\" r=\"10.8\" fill=\"#ffffff\" fill-rule=\"evenodd\" fill-opacity=\"1\" stroke=\"#000000\" stroke-opacity=\"1\" stroke-width=\"3.2\"/>\n",
       "<circle clip-path=\"url(#clip282)\" cx=\"949.388\" cy=\"857.215\" r=\"10.8\" fill=\"#ffffff\" fill-rule=\"evenodd\" fill-opacity=\"1\" stroke=\"#000000\" stroke-opacity=\"1\" stroke-width=\"3.2\"/>\n",
       "<circle clip-path=\"url(#clip282)\" cx=\"615.256\" cy=\"1067.5\" r=\"10.8\" fill=\"#ffffff\" fill-rule=\"evenodd\" fill-opacity=\"1\" stroke=\"#000000\" stroke-opacity=\"1\" stroke-width=\"3.2\"/>\n",
       "<circle clip-path=\"url(#clip282)\" cx=\"220.661\" cy=\"1316.37\" r=\"10.8\" fill=\"#ffffff\" fill-rule=\"evenodd\" fill-opacity=\"1\" stroke=\"#000000\" stroke-opacity=\"1\" stroke-width=\"3.2\"/>\n",
       "<circle clip-path=\"url(#clip282)\" cx=\"220.664\" cy=\"1316.37\" r=\"10.8\" fill=\"#ffffff\" fill-rule=\"evenodd\" fill-opacity=\"1\" stroke=\"#000000\" stroke-opacity=\"1\" stroke-width=\"3.2\"/>\n",
       "<circle clip-path=\"url(#clip282)\" cx=\"336.813\" cy=\"1242.73\" r=\"10.8\" fill=\"#ffffff\" fill-rule=\"evenodd\" fill-opacity=\"1\" stroke=\"#000000\" stroke-opacity=\"1\" stroke-width=\"3.2\"/>\n",
       "<circle clip-path=\"url(#clip282)\" cx=\"726.633\" cy=\"997.403\" r=\"10.8\" fill=\"#ffffff\" fill-rule=\"evenodd\" fill-opacity=\"1\" stroke=\"#000000\" stroke-opacity=\"1\" stroke-width=\"3.2\"/>\n",
       "<circle clip-path=\"url(#clip282)\" cx=\"782.322\" cy=\"962.356\" r=\"10.8\" fill=\"#ffffff\" fill-rule=\"evenodd\" fill-opacity=\"1\" stroke=\"#000000\" stroke-opacity=\"1\" stroke-width=\"3.2\"/>\n",
       "<circle clip-path=\"url(#clip282)\" cx=\"1784.72\" cy=\"331.513\" r=\"10.8\" fill=\"#ffffff\" fill-rule=\"evenodd\" fill-opacity=\"1\" stroke=\"#000000\" stroke-opacity=\"1\" stroke-width=\"3.2\"/>\n",
       "<polyline clip-path=\"url(#clip282)\" style=\"stroke:#ff0000; stroke-linecap:round; stroke-linejoin:round; stroke-width:16; stroke-opacity:1; fill:none\" points=\"546.313,1384.24 546.313,1384.24 546.321,1382.9 550.487,1347.87 559.449,1312.82 572.451,1277.78 588.852,1242.73 608.22,1207.68 630.141,1172.64 654.517,1137.59 681.461,1102.54 710.876,1067.5 743.765,1032.45 781.242,997.403 822.576,962.356 867.027,927.309 913.997,892.262 963.008,857.215 1013.68,822.169 1065.72,787.122 1118.89,752.075 1173,717.028 1227.92,681.981 1283.78,646.935 1342.69,611.888 1410.51,576.841 1486.64,541.794 1569.68,506.747 1658.43,471.701 1751.9,436.654 1849.28,401.607 1949.9,366.56 2053.24,331.513 2158.86,296.467 \"/>\n",
       "<circle clip-path=\"url(#clip282)\" cx=\"2053.24\" cy=\"331.513\" r=\"10.8\" fill=\"#ffffff\" fill-rule=\"evenodd\" fill-opacity=\"1\" stroke=\"#000000\" stroke-opacity=\"1\" stroke-width=\"3.2\"/>\n",
       "<circle clip-path=\"url(#clip282)\" cx=\"1751.9\" cy=\"436.654\" r=\"10.8\" fill=\"#ffffff\" fill-rule=\"evenodd\" fill-opacity=\"1\" stroke=\"#000000\" stroke-opacity=\"1\" stroke-width=\"3.2\"/>\n",
       "<circle clip-path=\"url(#clip282)\" cx=\"913.997\" cy=\"892.262\" r=\"10.8\" fill=\"#ffffff\" fill-rule=\"evenodd\" fill-opacity=\"1\" stroke=\"#000000\" stroke-opacity=\"1\" stroke-width=\"3.2\"/>\n",
       "<circle clip-path=\"url(#clip282)\" cx=\"1065.72\" cy=\"787.122\" r=\"10.8\" fill=\"#ffffff\" fill-rule=\"evenodd\" fill-opacity=\"1\" stroke=\"#000000\" stroke-opacity=\"1\" stroke-width=\"3.2\"/>\n",
       "<circle clip-path=\"url(#clip282)\" cx=\"822.576\" cy=\"962.356\" r=\"10.8\" fill=\"#ffffff\" fill-rule=\"evenodd\" fill-opacity=\"1\" stroke=\"#000000\" stroke-opacity=\"1\" stroke-width=\"3.2\"/>\n",
       "<circle clip-path=\"url(#clip282)\" cx=\"963.008\" cy=\"857.215\" r=\"10.8\" fill=\"#ffffff\" fill-rule=\"evenodd\" fill-opacity=\"1\" stroke=\"#000000\" stroke-opacity=\"1\" stroke-width=\"3.2\"/>\n",
       "<circle clip-path=\"url(#clip282)\" cx=\"1342.69\" cy=\"611.888\" r=\"10.8\" fill=\"#ffffff\" fill-rule=\"evenodd\" fill-opacity=\"1\" stroke=\"#000000\" stroke-opacity=\"1\" stroke-width=\"3.2\"/>\n",
       "<circle clip-path=\"url(#clip282)\" cx=\"1569.68\" cy=\"506.747\" r=\"10.8\" fill=\"#ffffff\" fill-rule=\"evenodd\" fill-opacity=\"1\" stroke=\"#000000\" stroke-opacity=\"1\" stroke-width=\"3.2\"/>\n",
       "<circle clip-path=\"url(#clip282)\" cx=\"1849.28\" cy=\"401.607\" r=\"10.8\" fill=\"#ffffff\" fill-rule=\"evenodd\" fill-opacity=\"1\" stroke=\"#000000\" stroke-opacity=\"1\" stroke-width=\"3.2\"/>\n",
       "<circle clip-path=\"url(#clip282)\" cx=\"588.852\" cy=\"1242.73\" r=\"10.8\" fill=\"#ffffff\" fill-rule=\"evenodd\" fill-opacity=\"1\" stroke=\"#000000\" stroke-opacity=\"1\" stroke-width=\"3.2\"/>\n",
       "<circle clip-path=\"url(#clip282)\" cx=\"630.141\" cy=\"1172.64\" r=\"10.8\" fill=\"#ffffff\" fill-rule=\"evenodd\" fill-opacity=\"1\" stroke=\"#000000\" stroke-opacity=\"1\" stroke-width=\"3.2\"/>\n",
       "<circle clip-path=\"url(#clip282)\" cx=\"1949.9\" cy=\"366.56\" r=\"10.8\" fill=\"#ffffff\" fill-rule=\"evenodd\" fill-opacity=\"1\" stroke=\"#000000\" stroke-opacity=\"1\" stroke-width=\"3.2\"/>\n",
       "<circle clip-path=\"url(#clip282)\" cx=\"1410.51\" cy=\"576.841\" r=\"10.8\" fill=\"#ffffff\" fill-rule=\"evenodd\" fill-opacity=\"1\" stroke=\"#000000\" stroke-opacity=\"1\" stroke-width=\"3.2\"/>\n",
       "<circle clip-path=\"url(#clip282)\" cx=\"1118.89\" cy=\"752.075\" r=\"10.8\" fill=\"#ffffff\" fill-rule=\"evenodd\" fill-opacity=\"1\" stroke=\"#000000\" stroke-opacity=\"1\" stroke-width=\"3.2\"/>\n",
       "<circle clip-path=\"url(#clip282)\" cx=\"743.765\" cy=\"1032.45\" r=\"10.8\" fill=\"#ffffff\" fill-rule=\"evenodd\" fill-opacity=\"1\" stroke=\"#000000\" stroke-opacity=\"1\" stroke-width=\"3.2\"/>\n",
       "<circle clip-path=\"url(#clip282)\" cx=\"1173\" cy=\"717.028\" r=\"10.8\" fill=\"#ffffff\" fill-rule=\"evenodd\" fill-opacity=\"1\" stroke=\"#000000\" stroke-opacity=\"1\" stroke-width=\"3.2\"/>\n",
       "<circle clip-path=\"url(#clip282)\" cx=\"1486.64\" cy=\"541.794\" r=\"10.8\" fill=\"#ffffff\" fill-rule=\"evenodd\" fill-opacity=\"1\" stroke=\"#000000\" stroke-opacity=\"1\" stroke-width=\"3.2\"/>\n",
       "<circle clip-path=\"url(#clip282)\" cx=\"2158.86\" cy=\"296.467\" r=\"10.8\" fill=\"#ffffff\" fill-rule=\"evenodd\" fill-opacity=\"1\" stroke=\"#000000\" stroke-opacity=\"1\" stroke-width=\"3.2\"/>\n",
       "<circle clip-path=\"url(#clip282)\" cx=\"572.451\" cy=\"1277.78\" r=\"10.8\" fill=\"#ffffff\" fill-rule=\"evenodd\" fill-opacity=\"1\" stroke=\"#000000\" stroke-opacity=\"1\" stroke-width=\"3.2\"/>\n",
       "<circle clip-path=\"url(#clip282)\" cx=\"1658.43\" cy=\"471.701\" r=\"10.8\" fill=\"#ffffff\" fill-rule=\"evenodd\" fill-opacity=\"1\" stroke=\"#000000\" stroke-opacity=\"1\" stroke-width=\"3.2\"/>\n",
       "<circle clip-path=\"url(#clip282)\" cx=\"550.487\" cy=\"1347.87\" r=\"10.8\" fill=\"#ffffff\" fill-rule=\"evenodd\" fill-opacity=\"1\" stroke=\"#000000\" stroke-opacity=\"1\" stroke-width=\"3.2\"/>\n",
       "<circle clip-path=\"url(#clip282)\" cx=\"546.313\" cy=\"1384.24\" r=\"10.8\" fill=\"#ffffff\" fill-rule=\"evenodd\" fill-opacity=\"1\" stroke=\"#000000\" stroke-opacity=\"1\" stroke-width=\"3.2\"/>\n",
       "<circle clip-path=\"url(#clip282)\" cx=\"546.321\" cy=\"1382.9\" r=\"10.8\" fill=\"#ffffff\" fill-rule=\"evenodd\" fill-opacity=\"1\" stroke=\"#000000\" stroke-opacity=\"1\" stroke-width=\"3.2\"/>\n",
       "<circle clip-path=\"url(#clip282)\" cx=\"710.876\" cy=\"1067.5\" r=\"10.8\" fill=\"#ffffff\" fill-rule=\"evenodd\" fill-opacity=\"1\" stroke=\"#000000\" stroke-opacity=\"1\" stroke-width=\"3.2\"/>\n",
       "<circle clip-path=\"url(#clip282)\" cx=\"1013.68\" cy=\"822.169\" r=\"10.8\" fill=\"#ffffff\" fill-rule=\"evenodd\" fill-opacity=\"1\" stroke=\"#000000\" stroke-opacity=\"1\" stroke-width=\"3.2\"/>\n",
       "<circle clip-path=\"url(#clip282)\" cx=\"546.313\" cy=\"1384.24\" r=\"10.8\" fill=\"#ffffff\" fill-rule=\"evenodd\" fill-opacity=\"1\" stroke=\"#000000\" stroke-opacity=\"1\" stroke-width=\"3.2\"/>\n",
       "<circle clip-path=\"url(#clip282)\" cx=\"654.517\" cy=\"1137.59\" r=\"10.8\" fill=\"#ffffff\" fill-rule=\"evenodd\" fill-opacity=\"1\" stroke=\"#000000\" stroke-opacity=\"1\" stroke-width=\"3.2\"/>\n",
       "<circle clip-path=\"url(#clip282)\" cx=\"559.449\" cy=\"1312.82\" r=\"10.8\" fill=\"#ffffff\" fill-rule=\"evenodd\" fill-opacity=\"1\" stroke=\"#000000\" stroke-opacity=\"1\" stroke-width=\"3.2\"/>\n",
       "<circle clip-path=\"url(#clip282)\" cx=\"608.22\" cy=\"1207.68\" r=\"10.8\" fill=\"#ffffff\" fill-rule=\"evenodd\" fill-opacity=\"1\" stroke=\"#000000\" stroke-opacity=\"1\" stroke-width=\"3.2\"/>\n",
       "<circle clip-path=\"url(#clip282)\" cx=\"681.461\" cy=\"1102.54\" r=\"10.8\" fill=\"#ffffff\" fill-rule=\"evenodd\" fill-opacity=\"1\" stroke=\"#000000\" stroke-opacity=\"1\" stroke-width=\"3.2\"/>\n",
       "<circle clip-path=\"url(#clip282)\" cx=\"867.027\" cy=\"927.309\" r=\"10.8\" fill=\"#ffffff\" fill-rule=\"evenodd\" fill-opacity=\"1\" stroke=\"#000000\" stroke-opacity=\"1\" stroke-width=\"3.2\"/>\n",
       "<circle clip-path=\"url(#clip282)\" cx=\"1227.92\" cy=\"681.981\" r=\"10.8\" fill=\"#ffffff\" fill-rule=\"evenodd\" fill-opacity=\"1\" stroke=\"#000000\" stroke-opacity=\"1\" stroke-width=\"3.2\"/>\n",
       "<circle clip-path=\"url(#clip282)\" cx=\"1283.78\" cy=\"646.935\" r=\"10.8\" fill=\"#ffffff\" fill-rule=\"evenodd\" fill-opacity=\"1\" stroke=\"#000000\" stroke-opacity=\"1\" stroke-width=\"3.2\"/>\n",
       "<circle clip-path=\"url(#clip282)\" cx=\"781.242\" cy=\"997.403\" r=\"10.8\" fill=\"#ffffff\" fill-rule=\"evenodd\" fill-opacity=\"1\" stroke=\"#000000\" stroke-opacity=\"1\" stroke-width=\"3.2\"/>\n",
       "<path clip-path=\"url(#clip280)\" d=\"M290.963 248.629 L1170.38 248.629 L1170.38 93.1086 L290.963 93.1086  Z\" fill=\"#ffffff\" fill-rule=\"evenodd\" fill-opacity=\"1\"/>\n",
       "<polyline clip-path=\"url(#clip280)\" style=\"stroke:#000000; stroke-linecap:round; stroke-linejoin:round; stroke-width:4; stroke-opacity:1; fill:none\" points=\"290.963,248.629 1170.38,248.629 1170.38,93.1086 290.963,93.1086 290.963,248.629 \"/>\n",
       "<polyline clip-path=\"url(#clip280)\" style=\"stroke:#808080; stroke-linecap:round; stroke-linejoin:round; stroke-width:16; stroke-opacity:1; fill:none\" points=\"314.661,144.949 456.854,144.949 \"/>\n",
       "<path clip-path=\"url(#clip280)\" d=\"M508.423 130.331 L508.423 135.261 Q506.062 133.062 503.377 131.974 Q500.715 130.886 497.705 130.886 Q491.78 130.886 488.631 134.52 Q485.483 138.132 485.483 144.983 Q485.483 151.812 488.631 155.446 Q491.78 159.057 497.705 159.057 Q500.715 159.057 503.377 157.969 Q506.062 156.881 508.423 154.682 L508.423 159.567 Q505.969 161.233 503.215 162.067 Q500.483 162.9 497.428 162.9 Q489.581 162.9 485.067 158.108 Q480.553 153.293 480.553 144.983 Q480.553 136.65 485.067 131.858 Q489.581 127.044 497.428 127.044 Q500.53 127.044 503.261 127.877 Q506.016 128.687 508.423 130.331 Z\" fill=\"#000000\" fill-rule=\"nonzero\" fill-opacity=\"1\" /><path clip-path=\"url(#clip280)\" d=\"M527.242 149.196 Q522.08 149.196 520.09 150.377 Q518.099 151.557 518.099 154.405 Q518.099 156.673 519.58 158.016 Q521.085 159.335 523.654 159.335 Q527.196 159.335 529.326 156.835 Q531.478 154.312 531.478 150.145 L531.478 149.196 L527.242 149.196 M535.738 147.437 L535.738 162.229 L531.478 162.229 L531.478 158.293 Q530.02 160.655 527.844 161.789 Q525.668 162.9 522.52 162.9 Q518.539 162.9 516.178 160.678 Q513.84 158.432 513.84 154.682 Q513.84 150.307 516.756 148.085 Q519.696 145.863 525.506 145.863 L531.478 145.863 L531.478 145.446 Q531.478 142.507 529.534 140.909 Q527.613 139.289 524.117 139.289 Q521.895 139.289 519.789 139.821 Q517.682 140.354 515.738 141.419 L515.738 137.483 Q518.076 136.581 520.275 136.141 Q522.474 135.678 524.557 135.678 Q530.182 135.678 532.96 138.594 Q535.738 141.511 535.738 147.437 Z\" fill=\"#000000\" fill-rule=\"nonzero\" fill-opacity=\"1\" /><path clip-path=\"url(#clip280)\" d=\"M548.631 158.34 L548.631 172.09 L544.349 172.09 L544.349 136.303 L548.631 136.303 L548.631 140.238 Q549.974 137.923 552.011 136.812 Q554.071 135.678 556.918 135.678 Q561.64 135.678 564.58 139.428 Q567.543 143.178 567.543 149.289 Q567.543 155.4 564.58 159.15 Q561.64 162.9 556.918 162.9 Q554.071 162.9 552.011 161.789 Q549.974 160.655 548.631 158.34 M563.122 149.289 Q563.122 144.59 561.177 141.928 Q559.256 139.243 555.876 139.243 Q552.497 139.243 550.552 141.928 Q548.631 144.59 548.631 149.289 Q548.631 153.988 550.552 156.673 Q552.497 159.335 555.876 159.335 Q559.256 159.335 561.177 156.673 Q563.122 153.988 563.122 149.289 Z\" fill=\"#000000\" fill-rule=\"nonzero\" fill-opacity=\"1\" /><path clip-path=\"url(#clip280)\" d=\"M574.603 136.303 L578.862 136.303 L578.862 162.229 L574.603 162.229 L574.603 136.303 M574.603 126.21 L578.862 126.21 L578.862 131.604 L574.603 131.604 L574.603 126.21 Z\" fill=\"#000000\" fill-rule=\"nonzero\" fill-opacity=\"1\" /><path clip-path=\"url(#clip280)\" d=\"M591.987 128.942 L591.987 136.303 L600.76 136.303 L600.76 139.613 L591.987 139.613 L591.987 153.687 Q591.987 156.858 592.844 157.761 Q593.723 158.664 596.385 158.664 L600.76 158.664 L600.76 162.229 L596.385 162.229 Q591.455 162.229 589.58 160.4 Q587.705 158.548 587.705 153.687 L587.705 139.613 L584.58 139.613 L584.58 136.303 L587.705 136.303 L587.705 128.942 L591.987 128.942 Z\" fill=\"#000000\" fill-rule=\"nonzero\" fill-opacity=\"1\" /><path clip-path=\"url(#clip280)\" d=\"M618.145 149.196 Q612.983 149.196 610.992 150.377 Q609.001 151.557 609.001 154.405 Q609.001 156.673 610.483 158.016 Q611.987 159.335 614.557 159.335 Q618.098 159.335 620.228 156.835 Q622.381 154.312 622.381 150.145 L622.381 149.196 L618.145 149.196 M626.64 147.437 L626.64 162.229 L622.381 162.229 L622.381 158.293 Q620.922 160.655 618.746 161.789 Q616.571 162.9 613.422 162.9 Q609.441 162.9 607.08 160.678 Q604.742 158.432 604.742 154.682 Q604.742 150.307 607.659 148.085 Q610.598 145.863 616.409 145.863 L622.381 145.863 L622.381 145.446 Q622.381 142.507 620.436 140.909 Q618.515 139.289 615.02 139.289 Q612.797 139.289 610.691 139.821 Q608.584 140.354 606.64 141.419 L606.64 137.483 Q608.978 136.581 611.177 136.141 Q613.376 135.678 615.459 135.678 Q621.084 135.678 623.862 138.594 Q626.64 141.511 626.64 147.437 Z\" fill=\"#000000\" fill-rule=\"nonzero\" fill-opacity=\"1\" /><path clip-path=\"url(#clip280)\" d=\"M635.413 126.21 L639.672 126.21 L639.672 162.229 L635.413 162.229 L635.413 126.21 Z\" fill=\"#000000\" fill-rule=\"nonzero\" fill-opacity=\"1\" /><path clip-path=\"url(#clip280)\" d=\"M675.39 132.275 L669.047 149.474 L681.755 149.474 L675.39 132.275 M672.751 127.669 L678.052 127.669 L691.223 162.229 L686.362 162.229 L683.214 153.363 L667.635 153.363 L664.487 162.229 L659.556 162.229 L672.751 127.669 Z\" fill=\"#000000\" fill-rule=\"nonzero\" fill-opacity=\"1\" /><path clip-path=\"url(#clip280)\" d=\"M696.084 126.21 L700.343 126.21 L700.343 162.229 L696.084 162.229 L696.084 126.21 Z\" fill=\"#000000\" fill-rule=\"nonzero\" fill-opacity=\"1\" /><path clip-path=\"url(#clip280)\" d=\"M709.255 126.21 L713.514 126.21 L713.514 162.229 L709.255 162.229 L709.255 126.21 Z\" fill=\"#000000\" fill-rule=\"nonzero\" fill-opacity=\"1\" /><path clip-path=\"url(#clip280)\" d=\"M732.473 139.289 Q729.047 139.289 727.056 141.974 Q725.065 144.636 725.065 149.289 Q725.065 153.942 727.033 156.627 Q729.024 159.289 732.473 159.289 Q735.875 159.289 737.866 156.604 Q739.857 153.918 739.857 149.289 Q739.857 144.682 737.866 141.997 Q735.875 139.289 732.473 139.289 M732.473 135.678 Q738.028 135.678 741.2 139.289 Q744.371 142.9 744.371 149.289 Q744.371 155.655 741.2 159.289 Q738.028 162.9 732.473 162.9 Q726.894 162.9 723.723 159.289 Q720.575 155.655 720.575 149.289 Q720.575 142.9 723.723 139.289 Q726.894 135.678 732.473 135.678 Z\" fill=\"#000000\" fill-rule=\"nonzero\" fill-opacity=\"1\" /><path clip-path=\"url(#clip280)\" d=\"M770.088 137.298 L770.088 141.28 Q768.283 140.284 766.454 139.798 Q764.648 139.289 762.797 139.289 Q758.653 139.289 756.361 141.928 Q754.07 144.544 754.07 149.289 Q754.07 154.034 756.361 156.673 Q758.653 159.289 762.797 159.289 Q764.648 159.289 766.454 158.803 Q768.283 158.293 770.088 157.298 L770.088 161.233 Q768.306 162.067 766.385 162.483 Q764.486 162.9 762.334 162.9 Q756.477 162.9 753.028 159.219 Q749.579 155.539 749.579 149.289 Q749.579 142.946 753.051 139.312 Q756.547 135.678 762.611 135.678 Q764.579 135.678 766.454 136.095 Q768.329 136.488 770.088 137.298 Z\" fill=\"#000000\" fill-rule=\"nonzero\" fill-opacity=\"1\" /><path clip-path=\"url(#clip280)\" d=\"M789.278 149.196 Q784.116 149.196 782.125 150.377 Q780.135 151.557 780.135 154.405 Q780.135 156.673 781.616 158.016 Q783.121 159.335 785.69 159.335 Q789.232 159.335 791.361 156.835 Q793.514 154.312 793.514 150.145 L793.514 149.196 L789.278 149.196 M797.773 147.437 L797.773 162.229 L793.514 162.229 L793.514 158.293 Q792.056 160.655 789.88 161.789 Q787.704 162.9 784.556 162.9 Q780.574 162.9 778.213 160.678 Q775.875 158.432 775.875 154.682 Q775.875 150.307 778.792 148.085 Q781.732 145.863 787.542 145.863 L793.514 145.863 L793.514 145.446 Q793.514 142.507 791.57 140.909 Q789.648 139.289 786.153 139.289 Q783.931 139.289 781.824 139.821 Q779.718 140.354 777.773 141.419 L777.773 137.483 Q780.111 136.581 782.31 136.141 Q784.509 135.678 786.593 135.678 Q792.218 135.678 794.996 138.594 Q797.773 141.511 797.773 147.437 Z\" fill=\"#000000\" fill-rule=\"nonzero\" fill-opacity=\"1\" /><path clip-path=\"url(#clip280)\" d=\"M810.759 128.942 L810.759 136.303 L819.532 136.303 L819.532 139.613 L810.759 139.613 L810.759 153.687 Q810.759 156.858 811.616 157.761 Q812.495 158.664 815.157 158.664 L819.532 158.664 L819.532 162.229 L815.157 162.229 Q810.227 162.229 808.352 160.4 Q806.477 158.548 806.477 153.687 L806.477 139.613 L803.352 139.613 L803.352 136.303 L806.477 136.303 L806.477 128.942 L810.759 128.942 Z\" fill=\"#000000\" fill-rule=\"nonzero\" fill-opacity=\"1\" /><path clip-path=\"url(#clip280)\" d=\"M825.134 136.303 L829.394 136.303 L829.394 162.229 L825.134 162.229 L825.134 136.303 M825.134 126.21 L829.394 126.21 L829.394 131.604 L825.134 131.604 L825.134 126.21 Z\" fill=\"#000000\" fill-rule=\"nonzero\" fill-opacity=\"1\" /><path clip-path=\"url(#clip280)\" d=\"M848.352 139.289 Q844.926 139.289 842.935 141.974 Q840.944 144.636 840.944 149.289 Q840.944 153.942 842.912 156.627 Q844.903 159.289 848.352 159.289 Q851.754 159.289 853.745 156.604 Q855.736 153.918 855.736 149.289 Q855.736 144.682 853.745 141.997 Q851.754 139.289 848.352 139.289 M848.352 135.678 Q853.907 135.678 857.079 139.289 Q860.25 142.9 860.25 149.289 Q860.25 155.655 857.079 159.289 Q853.907 162.9 848.352 162.9 Q842.773 162.9 839.602 159.289 Q836.454 155.655 836.454 149.289 Q836.454 142.9 839.602 139.289 Q842.773 135.678 848.352 135.678 Z\" fill=\"#000000\" fill-rule=\"nonzero\" fill-opacity=\"1\" /><path clip-path=\"url(#clip280)\" d=\"M888.861 146.581 L888.861 162.229 L884.602 162.229 L884.602 146.719 Q884.602 143.039 883.166 141.21 Q881.731 139.382 878.861 139.382 Q875.412 139.382 873.421 141.581 Q871.43 143.78 871.43 147.576 L871.43 162.229 L867.148 162.229 L867.148 136.303 L871.43 136.303 L871.43 140.331 Q872.958 137.993 875.018 136.835 Q877.102 135.678 879.81 135.678 Q884.277 135.678 886.569 138.456 Q888.861 141.21 888.861 146.581 Z\" fill=\"#000000\" fill-rule=\"nonzero\" fill-opacity=\"1\" /><path clip-path=\"url(#clip280)\" d=\"M912.611 127.669 L917.287 127.669 L917.287 158.293 L934.115 158.293 L934.115 162.229 L912.611 162.229 L912.611 127.669 Z\" fill=\"#000000\" fill-rule=\"nonzero\" fill-opacity=\"1\" /><path clip-path=\"url(#clip280)\" d=\"M938.837 136.303 L943.097 136.303 L943.097 162.229 L938.837 162.229 L938.837 136.303 M938.837 126.21 L943.097 126.21 L943.097 131.604 L938.837 131.604 L938.837 126.21 Z\" fill=\"#000000\" fill-rule=\"nonzero\" fill-opacity=\"1\" /><path clip-path=\"url(#clip280)\" d=\"M973.559 146.581 L973.559 162.229 L969.3 162.229 L969.3 146.719 Q969.3 143.039 967.865 141.21 Q966.43 139.382 963.559 139.382 Q960.11 139.382 958.12 141.581 Q956.129 143.78 956.129 147.576 L956.129 162.229 L951.847 162.229 L951.847 136.303 L956.129 136.303 L956.129 140.331 Q957.657 137.993 959.717 136.835 Q961.8 135.678 964.509 135.678 Q968.976 135.678 971.268 138.456 Q973.559 141.21 973.559 146.581 Z\" fill=\"#000000\" fill-rule=\"nonzero\" fill-opacity=\"1\" /><path clip-path=\"url(#clip280)\" d=\"M1004.23 148.201 L1004.23 150.284 L984.647 150.284 Q984.925 154.682 987.286 156.997 Q989.67 159.289 993.907 159.289 Q996.36 159.289 998.652 158.687 Q1000.97 158.085 1003.24 156.881 L1003.24 160.909 Q1000.94 161.881 998.536 162.391 Q996.129 162.9 993.652 162.9 Q987.448 162.9 983.814 159.289 Q980.203 155.678 980.203 149.52 Q980.203 143.155 983.629 139.428 Q987.078 135.678 992.911 135.678 Q998.143 135.678 1001.17 139.057 Q1004.23 142.414 1004.23 148.201 M999.971 146.951 Q999.925 143.456 998.004 141.372 Q996.106 139.289 992.957 139.289 Q989.393 139.289 987.24 141.303 Q985.11 143.317 984.786 146.974 L999.971 146.951 Z\" fill=\"#000000\" fill-rule=\"nonzero\" fill-opacity=\"1\" /><path clip-path=\"url(#clip280)\" d=\"M1036.52 126.257 Q1033.42 131.581 1031.92 136.789 Q1030.41 141.997 1030.41 147.344 Q1030.41 152.692 1031.92 157.946 Q1033.44 163.178 1036.52 168.479 L1032.82 168.479 Q1029.35 163.039 1027.61 157.784 Q1025.9 152.53 1025.9 147.344 Q1025.9 142.182 1027.61 136.951 Q1029.32 131.72 1032.82 126.257 L1036.52 126.257 Z\" fill=\"#000000\" fill-rule=\"nonzero\" fill-opacity=\"1\" /><path clip-path=\"url(#clip280)\" d=\"M1070.85 130.331 L1070.85 135.261 Q1068.49 133.062 1065.8 131.974 Q1063.14 130.886 1060.13 130.886 Q1054.21 130.886 1051.06 134.52 Q1047.91 138.132 1047.91 144.983 Q1047.91 151.812 1051.06 155.446 Q1054.21 159.057 1060.13 159.057 Q1063.14 159.057 1065.8 157.969 Q1068.49 156.881 1070.85 154.682 L1070.85 159.567 Q1068.4 161.233 1065.64 162.067 Q1062.91 162.9 1059.86 162.9 Q1052.01 162.9 1047.49 158.108 Q1042.98 153.293 1042.98 144.983 Q1042.98 136.65 1047.49 131.858 Q1052.01 127.044 1059.86 127.044 Q1062.96 127.044 1065.69 127.877 Q1068.44 128.687 1070.85 130.331 Z\" fill=\"#000000\" fill-rule=\"nonzero\" fill-opacity=\"1\" /><path clip-path=\"url(#clip280)\" d=\"M1089.62 132.275 L1083.28 149.474 L1095.99 149.474 L1089.62 132.275 M1086.98 127.669 L1092.29 127.669 L1105.46 162.229 L1100.6 162.229 L1097.45 153.363 L1081.87 153.363 L1078.72 162.229 L1073.79 162.229 L1086.98 127.669 Z\" fill=\"#000000\" fill-rule=\"nonzero\" fill-opacity=\"1\" /><path clip-path=\"url(#clip280)\" d=\"M1110.5 127.669 L1115.18 127.669 L1115.18 158.293 L1132.01 158.293 L1132.01 162.229 L1110.5 162.229 L1110.5 127.669 Z\" fill=\"#000000\" fill-rule=\"nonzero\" fill-opacity=\"1\" /><path clip-path=\"url(#clip280)\" d=\"M1136.06 126.257 L1139.76 126.257 Q1143.23 131.72 1144.95 136.951 Q1146.68 142.182 1146.68 147.344 Q1146.68 152.53 1144.95 157.784 Q1143.23 163.039 1139.76 168.479 L1136.06 168.479 Q1139.14 163.178 1140.64 157.946 Q1142.17 152.692 1142.17 147.344 Q1142.17 141.997 1140.64 136.789 Q1139.14 131.581 1136.06 126.257 Z\" fill=\"#000000\" fill-rule=\"nonzero\" fill-opacity=\"1\" /><polyline clip-path=\"url(#clip280)\" style=\"stroke:#ff0000; stroke-linecap:round; stroke-linejoin:round; stroke-width:16; stroke-opacity:1; fill:none\" points=\"314.661,196.789 456.854,196.789 \"/>\n",
       "<path clip-path=\"url(#clip280)\" d=\"M480.553 179.509 L502.405 179.509 L502.405 183.444 L485.229 183.444 L485.229 193.675 L501.687 193.675 L501.687 197.61 L485.229 197.61 L485.229 210.133 L502.821 210.133 L502.821 214.069 L480.553 214.069 L480.553 179.509 Z\" fill=\"#000000\" fill-rule=\"nonzero\" fill-opacity=\"1\" /><path clip-path=\"url(#clip280)\" d=\"M523.446 178.05 L523.446 181.592 L519.372 181.592 Q517.08 181.592 516.178 182.518 Q515.298 183.444 515.298 185.851 L515.298 188.143 L522.312 188.143 L522.312 191.453 L515.298 191.453 L515.298 214.069 L511.016 214.069 L511.016 191.453 L506.942 191.453 L506.942 188.143 L511.016 188.143 L511.016 186.337 Q511.016 182.009 513.029 180.041 Q515.043 178.05 519.418 178.05 L523.446 178.05 Z\" fill=\"#000000\" fill-rule=\"nonzero\" fill-opacity=\"1\" /><path clip-path=\"url(#clip280)\" d=\"M540.136 178.05 L540.136 181.592 L536.062 181.592 Q533.77 181.592 532.867 182.518 Q531.988 183.444 531.988 185.851 L531.988 188.143 L539.002 188.143 L539.002 191.453 L531.988 191.453 L531.988 214.069 L527.705 214.069 L527.705 191.453 L523.631 191.453 L523.631 188.143 L527.705 188.143 L527.705 186.337 Q527.705 182.009 529.719 180.041 Q531.733 178.05 536.108 178.05 L540.136 178.05 Z\" fill=\"#000000\" fill-rule=\"nonzero\" fill-opacity=\"1\" /><path clip-path=\"url(#clip280)\" d=\"M543.701 188.143 L547.96 188.143 L547.96 214.069 L543.701 214.069 L543.701 188.143 M543.701 178.05 L547.96 178.05 L547.96 183.444 L543.701 183.444 L543.701 178.05 Z\" fill=\"#000000\" fill-rule=\"nonzero\" fill-opacity=\"1\" /><path clip-path=\"url(#clip280)\" d=\"M575.529 189.138 L575.529 193.12 Q573.724 192.124 571.895 191.638 Q570.089 191.129 568.237 191.129 Q564.094 191.129 561.802 193.768 Q559.511 196.384 559.511 201.129 Q559.511 205.874 561.802 208.513 Q564.094 211.129 568.237 211.129 Q570.089 211.129 571.895 210.643 Q573.724 210.133 575.529 209.138 L575.529 213.073 Q573.747 213.907 571.825 214.323 Q569.927 214.74 567.775 214.74 Q561.918 214.74 558.469 211.059 Q555.02 207.379 555.02 201.129 Q555.02 194.786 558.492 191.152 Q561.988 187.518 568.052 187.518 Q570.02 187.518 571.895 187.935 Q573.77 188.328 575.529 189.138 Z\" fill=\"#000000\" fill-rule=\"nonzero\" fill-opacity=\"1\" /><path clip-path=\"url(#clip280)\" d=\"M582.936 188.143 L587.196 188.143 L587.196 214.069 L582.936 214.069 L582.936 188.143 M582.936 178.05 L587.196 178.05 L587.196 183.444 L582.936 183.444 L582.936 178.05 Z\" fill=\"#000000\" fill-rule=\"nonzero\" fill-opacity=\"1\" /><path clip-path=\"url(#clip280)\" d=\"M618.284 200.041 L618.284 202.124 L598.7 202.124 Q598.978 206.522 601.339 208.837 Q603.723 211.129 607.96 211.129 Q610.413 211.129 612.705 210.527 Q615.02 209.925 617.288 208.721 L617.288 212.749 Q614.997 213.721 612.589 214.231 Q610.182 214.74 607.705 214.74 Q601.501 214.74 597.867 211.129 Q594.256 207.518 594.256 201.36 Q594.256 194.995 597.682 191.268 Q601.131 187.518 606.964 187.518 Q612.196 187.518 615.228 190.897 Q618.284 194.254 618.284 200.041 M614.024 198.791 Q613.978 195.296 612.057 193.212 Q610.159 191.129 607.01 191.129 Q603.446 191.129 601.293 193.143 Q599.163 195.157 598.839 198.814 L614.024 198.791 Z\" fill=\"#000000\" fill-rule=\"nonzero\" fill-opacity=\"1\" /><path clip-path=\"url(#clip280)\" d=\"M646.825 198.421 L646.825 214.069 L642.566 214.069 L642.566 198.559 Q642.566 194.879 641.131 193.05 Q639.695 191.222 636.825 191.222 Q633.376 191.222 631.385 193.421 Q629.395 195.62 629.395 199.416 L629.395 214.069 L625.112 214.069 L625.112 188.143 L629.395 188.143 L629.395 192.171 Q630.922 189.833 632.983 188.675 Q635.066 187.518 637.774 187.518 Q642.242 187.518 644.533 190.296 Q646.825 193.05 646.825 198.421 Z\" fill=\"#000000\" fill-rule=\"nonzero\" fill-opacity=\"1\" /><path clip-path=\"url(#clip280)\" d=\"M659.533 180.782 L659.533 188.143 L668.306 188.143 L668.306 191.453 L659.533 191.453 L659.533 205.527 Q659.533 208.698 660.39 209.601 Q661.269 210.504 663.931 210.504 L668.306 210.504 L668.306 214.069 L663.931 214.069 Q659.001 214.069 657.126 212.24 Q655.251 210.388 655.251 205.527 L655.251 191.453 L652.126 191.453 L652.126 188.143 L655.251 188.143 L655.251 180.782 L659.533 180.782 Z\" fill=\"#000000\" fill-rule=\"nonzero\" fill-opacity=\"1\" /><path clip-path=\"url(#clip280)\" d=\"M689.163 179.509 L709.024 179.509 L709.024 183.444 L693.839 183.444 L693.839 193.629 L707.542 193.629 L707.542 197.564 L693.839 197.564 L693.839 214.069 L689.163 214.069 L689.163 179.509 Z\" fill=\"#000000\" fill-rule=\"nonzero\" fill-opacity=\"1\" /><path clip-path=\"url(#clip280)\" d=\"M727.82 192.124 Q727.102 191.708 726.246 191.522 Q725.413 191.314 724.394 191.314 Q720.783 191.314 718.839 193.675 Q716.917 196.013 716.917 200.411 L716.917 214.069 L712.635 214.069 L712.635 188.143 L716.917 188.143 L716.917 192.171 Q718.26 189.809 720.413 188.675 Q722.565 187.518 725.644 187.518 Q726.084 187.518 726.616 187.587 Q727.149 187.634 727.797 187.749 L727.82 192.124 Z\" fill=\"#000000\" fill-rule=\"nonzero\" fill-opacity=\"1\" /><path clip-path=\"url(#clip280)\" d=\"M741.292 191.129 Q737.866 191.129 735.875 193.814 Q733.885 196.476 733.885 201.129 Q733.885 205.782 735.852 208.467 Q737.843 211.129 741.292 211.129 Q744.695 211.129 746.686 208.444 Q748.676 205.758 748.676 201.129 Q748.676 196.522 746.686 193.837 Q744.695 191.129 741.292 191.129 M741.292 187.518 Q746.848 187.518 750.019 191.129 Q753.19 194.74 753.19 201.129 Q753.19 207.495 750.019 211.129 Q746.848 214.74 741.292 214.74 Q735.713 214.74 732.542 211.129 Q729.394 207.495 729.394 201.129 Q729.394 194.74 732.542 191.129 Q735.713 187.518 741.292 187.518 Z\" fill=\"#000000\" fill-rule=\"nonzero\" fill-opacity=\"1\" /><path clip-path=\"url(#clip280)\" d=\"M781.801 198.421 L781.801 214.069 L777.542 214.069 L777.542 198.559 Q777.542 194.879 776.107 193.05 Q774.672 191.222 771.801 191.222 Q768.352 191.222 766.361 193.421 Q764.371 195.62 764.371 199.416 L764.371 214.069 L760.088 214.069 L760.088 188.143 L764.371 188.143 L764.371 192.171 Q765.898 189.833 767.959 188.675 Q770.042 187.518 772.75 187.518 Q777.218 187.518 779.51 190.296 Q781.801 193.05 781.801 198.421 Z\" fill=\"#000000\" fill-rule=\"nonzero\" fill-opacity=\"1\" /><path clip-path=\"url(#clip280)\" d=\"M794.509 180.782 L794.509 188.143 L803.283 188.143 L803.283 191.453 L794.509 191.453 L794.509 205.527 Q794.509 208.698 795.366 209.601 Q796.246 210.504 798.908 210.504 L803.283 210.504 L803.283 214.069 L798.908 214.069 Q793.977 214.069 792.102 212.24 Q790.227 210.388 790.227 205.527 L790.227 191.453 L787.102 191.453 L787.102 188.143 L790.227 188.143 L790.227 180.782 L794.509 180.782 Z\" fill=\"#000000\" fill-rule=\"nonzero\" fill-opacity=\"1\" /><path clip-path=\"url(#clip280)\" d=\"M808.884 188.143 L813.144 188.143 L813.144 214.069 L808.884 214.069 L808.884 188.143 M808.884 178.05 L813.144 178.05 L813.144 183.444 L808.884 183.444 L808.884 178.05 Z\" fill=\"#000000\" fill-rule=\"nonzero\" fill-opacity=\"1\" /><path clip-path=\"url(#clip280)\" d=\"M844.231 200.041 L844.231 202.124 L824.648 202.124 Q824.926 206.522 827.287 208.837 Q829.671 211.129 833.907 211.129 Q836.361 211.129 838.653 210.527 Q840.968 209.925 843.236 208.721 L843.236 212.749 Q840.944 213.721 838.537 214.231 Q836.13 214.74 833.653 214.74 Q827.449 214.74 823.815 211.129 Q820.204 207.518 820.204 201.36 Q820.204 194.995 823.63 191.268 Q827.079 187.518 832.912 187.518 Q838.143 187.518 841.176 190.897 Q844.231 194.254 844.231 200.041 M839.972 198.791 Q839.926 195.296 838.005 193.212 Q836.106 191.129 832.958 191.129 Q829.394 191.129 827.241 193.143 Q825.111 195.157 824.787 198.814 L839.972 198.791 Z\" fill=\"#000000\" fill-rule=\"nonzero\" fill-opacity=\"1\" /><path clip-path=\"url(#clip280)\" d=\"M866.245 192.124 Q865.528 191.708 864.671 191.522 Q863.838 191.314 862.819 191.314 Q859.208 191.314 857.264 193.675 Q855.342 196.013 855.342 200.411 L855.342 214.069 L851.06 214.069 L851.06 188.143 L855.342 188.143 L855.342 192.171 Q856.685 189.809 858.838 188.675 Q860.991 187.518 864.069 187.518 Q864.509 187.518 865.041 187.587 Q865.574 187.634 866.222 187.749 L866.245 192.124 Z\" fill=\"#000000\" fill-rule=\"nonzero\" fill-opacity=\"1\" /></svg>\n"
      ],
      "text/html": [
       "<?xml version=\"1.0\" encoding=\"utf-8\"?>\n",
       "<svg xmlns=\"http://www.w3.org/2000/svg\" xmlns:xlink=\"http://www.w3.org/1999/xlink\" width=\"600\" height=\"400\" viewBox=\"0 0 2400 1600\">\n",
       "<defs>\n",
       "  <clipPath id=\"clip330\">\n",
       "    <rect x=\"0\" y=\"0\" width=\"2400\" height=\"1600\"/>\n",
       "  </clipPath>\n",
       "</defs>\n",
       "<path clip-path=\"url(#clip330)\" d=\"M0 1600 L2400 1600 L2400 8.88178e-14 L0 8.88178e-14  Z\" fill=\"#ffffff\" fill-rule=\"evenodd\" fill-opacity=\"1\"/>\n",
       "<defs>\n",
       "  <clipPath id=\"clip331\">\n",
       "    <rect x=\"480\" y=\"0\" width=\"1681\" height=\"1600\"/>\n",
       "  </clipPath>\n",
       "</defs>\n",
       "<path clip-path=\"url(#clip330)\" d=\"M219.866 1423.18 L2352.76 1423.18 L2352.76 47.2441 L219.866 47.2441  Z\" fill=\"#ffffff\" fill-rule=\"evenodd\" fill-opacity=\"1\"/>\n",
       "<defs>\n",
       "  <clipPath id=\"clip332\">\n",
       "    <rect x=\"219\" y=\"47\" width=\"2134\" height=\"1377\"/>\n",
       "  </clipPath>\n",
       "</defs>\n",
       "<polyline clip-path=\"url(#clip332)\" style=\"stroke:#000000; stroke-linecap:round; stroke-linejoin:round; stroke-width:2; stroke-opacity:0.1; fill:none\" points=\"219.866,1423.18 219.866,47.2441 \"/>\n",
       "<polyline clip-path=\"url(#clip332)\" style=\"stroke:#000000; stroke-linecap:round; stroke-linejoin:round; stroke-width:2; stroke-opacity:0.1; fill:none\" points=\"659.077,1423.18 659.077,47.2441 \"/>\n",
       "<polyline clip-path=\"url(#clip332)\" style=\"stroke:#000000; stroke-linecap:round; stroke-linejoin:round; stroke-width:2; stroke-opacity:0.1; fill:none\" points=\"1098.29,1423.18 1098.29,47.2441 \"/>\n",
       "<polyline clip-path=\"url(#clip332)\" style=\"stroke:#000000; stroke-linecap:round; stroke-linejoin:round; stroke-width:2; stroke-opacity:0.1; fill:none\" points=\"1537.5,1423.18 1537.5,47.2441 \"/>\n",
       "<polyline clip-path=\"url(#clip332)\" style=\"stroke:#000000; stroke-linecap:round; stroke-linejoin:round; stroke-width:2; stroke-opacity:0.1; fill:none\" points=\"1976.71,1423.18 1976.71,47.2441 \"/>\n",
       "<polyline clip-path=\"url(#clip332)\" style=\"stroke:#000000; stroke-linecap:round; stroke-linejoin:round; stroke-width:2; stroke-opacity:0.1; fill:none\" points=\"219.866,1179.65 2352.76,1179.65 \"/>\n",
       "<polyline clip-path=\"url(#clip332)\" style=\"stroke:#000000; stroke-linecap:round; stroke-linejoin:round; stroke-width:2; stroke-opacity:0.1; fill:none\" points=\"219.866,906.281 2352.76,906.281 \"/>\n",
       "<polyline clip-path=\"url(#clip332)\" style=\"stroke:#000000; stroke-linecap:round; stroke-linejoin:round; stroke-width:2; stroke-opacity:0.1; fill:none\" points=\"219.866,632.916 2352.76,632.916 \"/>\n",
       "<polyline clip-path=\"url(#clip332)\" style=\"stroke:#000000; stroke-linecap:round; stroke-linejoin:round; stroke-width:2; stroke-opacity:0.1; fill:none\" points=\"219.866,359.551 2352.76,359.551 \"/>\n",
       "<polyline clip-path=\"url(#clip332)\" style=\"stroke:#000000; stroke-linecap:round; stroke-linejoin:round; stroke-width:2; stroke-opacity:0.1; fill:none\" points=\"219.866,86.1857 2352.76,86.1857 \"/>\n",
       "<polyline clip-path=\"url(#clip330)\" style=\"stroke:#000000; stroke-linecap:round; stroke-linejoin:round; stroke-width:4; stroke-opacity:1; fill:none\" points=\"219.866,1423.18 2352.76,1423.18 \"/>\n",
       "<polyline clip-path=\"url(#clip330)\" style=\"stroke:#000000; stroke-linecap:round; stroke-linejoin:round; stroke-width:4; stroke-opacity:1; fill:none\" points=\"219.866,1423.18 219.866,1404.28 \"/>\n",
       "<polyline clip-path=\"url(#clip330)\" style=\"stroke:#000000; stroke-linecap:round; stroke-linejoin:round; stroke-width:4; stroke-opacity:1; fill:none\" points=\"659.077,1423.18 659.077,1404.28 \"/>\n",
       "<polyline clip-path=\"url(#clip330)\" style=\"stroke:#000000; stroke-linecap:round; stroke-linejoin:round; stroke-width:4; stroke-opacity:1; fill:none\" points=\"1098.29,1423.18 1098.29,1404.28 \"/>\n",
       "<polyline clip-path=\"url(#clip330)\" style=\"stroke:#000000; stroke-linecap:round; stroke-linejoin:round; stroke-width:4; stroke-opacity:1; fill:none\" points=\"1537.5,1423.18 1537.5,1404.28 \"/>\n",
       "<polyline clip-path=\"url(#clip330)\" style=\"stroke:#000000; stroke-linecap:round; stroke-linejoin:round; stroke-width:4; stroke-opacity:1; fill:none\" points=\"1976.71,1423.18 1976.71,1404.28 \"/>\n",
       "<path clip-path=\"url(#clip330)\" d=\"M197.251 1454.1 Q193.64 1454.1 191.811 1457.66 Q190.005 1461.2 190.005 1468.33 Q190.005 1475.44 191.811 1479.01 Q193.64 1482.55 197.251 1482.55 Q200.885 1482.55 202.69 1479.01 Q204.519 1475.44 204.519 1468.33 Q204.519 1461.2 202.69 1457.66 Q200.885 1454.1 197.251 1454.1 M197.251 1450.39 Q203.061 1450.39 206.116 1455 Q209.195 1459.58 209.195 1468.33 Q209.195 1477.06 206.116 1481.67 Q203.061 1486.25 197.251 1486.25 Q191.44 1486.25 188.362 1481.67 Q185.306 1477.06 185.306 1468.33 Q185.306 1459.58 188.362 1455 Q191.44 1450.39 197.251 1450.39 Z\" fill=\"#000000\" fill-rule=\"nonzero\" fill-opacity=\"1\" /><path clip-path=\"url(#clip330)\" d=\"M217.413 1479.7 L222.297 1479.7 L222.297 1485.58 L217.413 1485.58 L217.413 1479.7 Z\" fill=\"#000000\" fill-rule=\"nonzero\" fill-opacity=\"1\" /><path clip-path=\"url(#clip330)\" d=\"M242.482 1454.1 Q238.871 1454.1 237.042 1457.66 Q235.237 1461.2 235.237 1468.33 Q235.237 1475.44 237.042 1479.01 Q238.871 1482.55 242.482 1482.55 Q246.116 1482.55 247.922 1479.01 Q249.75 1475.44 249.75 1468.33 Q249.75 1461.2 247.922 1457.66 Q246.116 1454.1 242.482 1454.1 M242.482 1450.39 Q248.292 1450.39 251.348 1455 Q254.426 1459.58 254.426 1468.33 Q254.426 1477.06 251.348 1481.67 Q248.292 1486.25 242.482 1486.25 Q236.672 1486.25 233.593 1481.67 Q230.538 1477.06 230.538 1468.33 Q230.538 1459.58 233.593 1455 Q236.672 1450.39 242.482 1450.39 Z\" fill=\"#000000\" fill-rule=\"nonzero\" fill-opacity=\"1\" /><path clip-path=\"url(#clip330)\" d=\"M637.075 1454.1 Q633.464 1454.1 631.635 1457.66 Q629.83 1461.2 629.83 1468.33 Q629.83 1475.44 631.635 1479.01 Q633.464 1482.55 637.075 1482.55 Q640.709 1482.55 642.515 1479.01 Q644.343 1475.44 644.343 1468.33 Q644.343 1461.2 642.515 1457.66 Q640.709 1454.1 637.075 1454.1 M637.075 1450.39 Q642.885 1450.39 645.941 1455 Q649.019 1459.58 649.019 1468.33 Q649.019 1477.06 645.941 1481.67 Q642.885 1486.25 637.075 1486.25 Q631.265 1486.25 628.186 1481.67 Q625.131 1477.06 625.131 1468.33 Q625.131 1459.58 628.186 1455 Q631.265 1450.39 637.075 1450.39 Z\" fill=\"#000000\" fill-rule=\"nonzero\" fill-opacity=\"1\" /><path clip-path=\"url(#clip330)\" d=\"M657.237 1479.7 L662.121 1479.7 L662.121 1485.58 L657.237 1485.58 L657.237 1479.7 Z\" fill=\"#000000\" fill-rule=\"nonzero\" fill-opacity=\"1\" /><path clip-path=\"url(#clip330)\" d=\"M673.116 1481.64 L680.755 1481.64 L680.755 1455.28 L672.445 1456.95 L672.445 1452.69 L680.709 1451.02 L685.385 1451.02 L685.385 1481.64 L693.024 1481.64 L693.024 1485.58 L673.116 1485.58 L673.116 1481.64 Z\" fill=\"#000000\" fill-rule=\"nonzero\" fill-opacity=\"1\" /><path clip-path=\"url(#clip330)\" d=\"M1076.47 1454.1 Q1072.86 1454.1 1071.03 1457.66 Q1069.23 1461.2 1069.23 1468.33 Q1069.23 1475.44 1071.03 1479.01 Q1072.86 1482.55 1076.47 1482.55 Q1080.11 1482.55 1081.91 1479.01 Q1083.74 1475.44 1083.74 1468.33 Q1083.74 1461.2 1081.91 1457.66 Q1080.11 1454.1 1076.47 1454.1 M1076.47 1450.39 Q1082.28 1450.39 1085.34 1455 Q1088.42 1459.58 1088.42 1468.33 Q1088.42 1477.06 1085.34 1481.67 Q1082.28 1486.25 1076.47 1486.25 Q1070.66 1486.25 1067.58 1481.67 Q1064.53 1477.06 1064.53 1468.33 Q1064.53 1459.58 1067.58 1455 Q1070.66 1450.39 1076.47 1450.39 Z\" fill=\"#000000\" fill-rule=\"nonzero\" fill-opacity=\"1\" /><path clip-path=\"url(#clip330)\" d=\"M1096.63 1479.7 L1101.52 1479.7 L1101.52 1485.58 L1096.63 1485.58 L1096.63 1479.7 Z\" fill=\"#000000\" fill-rule=\"nonzero\" fill-opacity=\"1\" /><path clip-path=\"url(#clip330)\" d=\"M1115.73 1481.64 L1132.05 1481.64 L1132.05 1485.58 L1110.11 1485.58 L1110.11 1481.64 Q1112.77 1478.89 1117.35 1474.26 Q1121.96 1469.61 1123.14 1468.27 Q1125.38 1465.74 1126.26 1464.01 Q1127.17 1462.25 1127.17 1460.56 Q1127.17 1457.8 1125.22 1456.07 Q1123.3 1454.33 1120.2 1454.33 Q1118 1454.33 1115.54 1455.09 Q1113.11 1455.86 1110.34 1457.41 L1110.34 1452.69 Q1113.16 1451.55 1115.61 1450.97 Q1118.07 1450.39 1120.1 1450.39 Q1125.48 1450.39 1128.67 1453.08 Q1131.86 1455.77 1131.86 1460.26 Q1131.86 1462.39 1131.05 1464.31 Q1130.27 1466.2 1128.16 1468.8 Q1127.58 1469.47 1124.48 1472.69 Q1121.38 1475.88 1115.73 1481.64 Z\" fill=\"#000000\" fill-rule=\"nonzero\" fill-opacity=\"1\" /><path clip-path=\"url(#clip330)\" d=\"M1515.21 1454.1 Q1511.6 1454.1 1509.77 1457.66 Q1507.96 1461.2 1507.96 1468.33 Q1507.96 1475.44 1509.77 1479.01 Q1511.6 1482.55 1515.21 1482.55 Q1518.84 1482.55 1520.65 1479.01 Q1522.48 1475.44 1522.48 1468.33 Q1522.48 1461.2 1520.65 1457.66 Q1518.84 1454.1 1515.21 1454.1 M1515.21 1450.39 Q1521.02 1450.39 1524.07 1455 Q1527.15 1459.58 1527.15 1468.33 Q1527.15 1477.06 1524.07 1481.67 Q1521.02 1486.25 1515.21 1486.25 Q1509.4 1486.25 1506.32 1481.67 Q1503.26 1477.06 1503.26 1468.33 Q1503.26 1459.58 1506.32 1455 Q1509.4 1450.39 1515.21 1450.39 Z\" fill=\"#000000\" fill-rule=\"nonzero\" fill-opacity=\"1\" /><path clip-path=\"url(#clip330)\" d=\"M1535.37 1479.7 L1540.25 1479.7 L1540.25 1485.58 L1535.37 1485.58 L1535.37 1479.7 Z\" fill=\"#000000\" fill-rule=\"nonzero\" fill-opacity=\"1\" /><path clip-path=\"url(#clip330)\" d=\"M1564.61 1466.95 Q1567.96 1467.66 1569.84 1469.93 Q1571.73 1472.2 1571.73 1475.53 Q1571.73 1480.65 1568.22 1483.45 Q1564.7 1486.25 1558.22 1486.25 Q1556.04 1486.25 1553.73 1485.81 Q1551.43 1485.39 1548.98 1484.54 L1548.98 1480.02 Q1550.92 1481.16 1553.24 1481.74 Q1555.55 1482.32 1558.08 1482.32 Q1562.48 1482.32 1564.77 1480.58 Q1567.08 1478.84 1567.08 1475.53 Q1567.08 1472.48 1564.93 1470.77 Q1562.8 1469.03 1558.98 1469.03 L1554.95 1469.03 L1554.95 1465.19 L1559.17 1465.19 Q1562.61 1465.19 1564.44 1463.82 Q1566.27 1462.43 1566.27 1459.84 Q1566.27 1457.18 1564.37 1455.77 Q1562.5 1454.33 1558.98 1454.33 Q1557.06 1454.33 1554.86 1454.75 Q1552.66 1455.16 1550.02 1456.04 L1550.02 1451.88 Q1552.68 1451.14 1555 1450.77 Q1557.34 1450.39 1559.4 1450.39 Q1564.72 1450.39 1567.82 1452.83 Q1570.92 1455.23 1570.92 1459.35 Q1570.92 1462.22 1569.28 1464.21 Q1567.64 1466.18 1564.61 1466.95 Z\" fill=\"#000000\" fill-rule=\"nonzero\" fill-opacity=\"1\" /><path clip-path=\"url(#clip330)\" d=\"M1953.85 1454.1 Q1950.24 1454.1 1948.41 1457.66 Q1946.61 1461.2 1946.61 1468.33 Q1946.61 1475.44 1948.41 1479.01 Q1950.24 1482.55 1953.85 1482.55 Q1957.49 1482.55 1959.29 1479.01 Q1961.12 1475.44 1961.12 1468.33 Q1961.12 1461.2 1959.29 1457.66 Q1957.49 1454.1 1953.85 1454.1 M1953.85 1450.39 Q1959.66 1450.39 1962.72 1455 Q1965.8 1459.58 1965.8 1468.33 Q1965.8 1477.06 1962.72 1481.67 Q1959.66 1486.25 1953.85 1486.25 Q1948.04 1486.25 1944.96 1481.67 Q1941.91 1477.06 1941.91 1468.33 Q1941.91 1459.58 1944.96 1455 Q1948.04 1450.39 1953.85 1450.39 Z\" fill=\"#000000\" fill-rule=\"nonzero\" fill-opacity=\"1\" /><path clip-path=\"url(#clip330)\" d=\"M1974.01 1479.7 L1978.9 1479.7 L1978.9 1485.58 L1974.01 1485.58 L1974.01 1479.7 Z\" fill=\"#000000\" fill-rule=\"nonzero\" fill-opacity=\"1\" /><path clip-path=\"url(#clip330)\" d=\"M2001.93 1455.09 L1990.12 1473.54 L2001.93 1473.54 L2001.93 1455.09 M2000.7 1451.02 L2006.58 1451.02 L2006.58 1473.54 L2011.51 1473.54 L2011.51 1477.43 L2006.58 1477.43 L2006.58 1485.58 L2001.93 1485.58 L2001.93 1477.43 L1986.33 1477.43 L1986.33 1472.92 L2000.7 1451.02 Z\" fill=\"#000000\" fill-rule=\"nonzero\" fill-opacity=\"1\" /><path clip-path=\"url(#clip330)\" d=\"M1007.33 1545.76 Q1009.4 1546.46 1011.34 1548.76 Q1013.32 1551.05 1015.29 1555.06 L1021.82 1568.04 L1014.91 1568.04 L1008.83 1555.85 Q1006.47 1551.08 1004.25 1549.52 Q1002.05 1547.96 998.231 1547.96 L991.229 1547.96 L991.229 1568.04 L984.799 1568.04 L984.799 1520.52 L999.313 1520.52 Q1007.46 1520.52 1011.47 1523.93 Q1015.48 1527.34 1015.48 1534.21 Q1015.48 1538.7 1013.38 1541.66 Q1011.31 1544.62 1007.33 1545.76 M991.229 1525.81 L991.229 1542.68 L999.313 1542.68 Q1003.96 1542.68 1006.32 1540.54 Q1008.7 1538.38 1008.7 1534.21 Q1008.7 1530.04 1006.32 1527.94 Q1003.96 1525.81 999.313 1525.81 L991.229 1525.81 Z\" fill=\"#000000\" fill-rule=\"nonzero\" fill-opacity=\"1\" /><path clip-path=\"url(#clip330)\" d=\"M1029.84 1532.4 L1035.69 1532.4 L1035.69 1568.04 L1029.84 1568.04 L1029.84 1532.4 M1029.84 1518.52 L1035.69 1518.52 L1035.69 1525.93 L1029.84 1525.93 L1029.84 1518.52 Z\" fill=\"#000000\" fill-rule=\"nonzero\" fill-opacity=\"1\" /><path clip-path=\"url(#clip330)\" d=\"M1070.67 1533.45 L1070.67 1538.98 Q1068.19 1537.71 1065.52 1537.07 Q1062.84 1536.44 1059.98 1536.44 Q1055.62 1536.44 1053.42 1537.77 Q1051.26 1539.11 1051.26 1541.79 Q1051.26 1543.82 1052.82 1545 Q1054.38 1546.15 1059.09 1547.2 L1061.09 1547.64 Q1067.33 1548.98 1069.94 1551.43 Q1072.58 1553.85 1072.58 1558.21 Q1072.58 1563.17 1068.64 1566.07 Q1064.72 1568.97 1057.85 1568.97 Q1054.98 1568.97 1051.86 1568.39 Q1048.77 1567.85 1045.34 1566.74 L1045.34 1560.69 Q1048.58 1562.38 1051.73 1563.24 Q1054.89 1564.07 1057.97 1564.07 Q1062.11 1564.07 1064.34 1562.66 Q1066.57 1561.23 1066.57 1558.65 Q1066.57 1556.27 1064.94 1554.99 Q1063.35 1553.72 1057.91 1552.54 L1055.87 1552.07 Q1050.43 1550.92 1048.01 1548.56 Q1045.59 1546.18 1045.59 1542.04 Q1045.59 1537.01 1049.16 1534.27 Q1052.72 1531.54 1059.28 1531.54 Q1062.52 1531.54 1065.39 1532.01 Q1068.25 1532.49 1070.67 1533.45 Z\" fill=\"#000000\" fill-rule=\"nonzero\" fill-opacity=\"1\" /><path clip-path=\"url(#clip330)\" d=\"M1081.69 1518.52 L1087.57 1518.52 L1087.57 1547.77 L1105.05 1532.4 L1112.53 1532.4 L1093.62 1549.07 L1113.32 1568.04 L1105.68 1568.04 L1087.57 1550.63 L1087.57 1568.04 L1081.69 1568.04 L1081.69 1518.52 Z\" fill=\"#000000\" fill-rule=\"nonzero\" fill-opacity=\"1\" /><path clip-path=\"url(#clip330)\" d=\"M1163.1 1533.45 L1163.1 1538.98 Q1160.62 1537.71 1157.95 1537.07 Q1155.27 1536.44 1152.41 1536.44 Q1148.05 1536.44 1145.85 1537.77 Q1143.69 1539.11 1143.69 1541.79 Q1143.69 1543.82 1145.25 1545 Q1146.81 1546.15 1151.52 1547.2 L1153.52 1547.64 Q1159.76 1548.98 1162.37 1551.43 Q1165.01 1553.85 1165.01 1558.21 Q1165.01 1563.17 1161.07 1566.07 Q1157.15 1568.97 1150.28 1568.97 Q1147.41 1568.97 1144.29 1568.39 Q1141.2 1567.85 1137.77 1566.74 L1137.77 1560.69 Q1141.01 1562.38 1144.16 1563.24 Q1147.32 1564.07 1150.4 1564.07 Q1154.54 1564.07 1156.77 1562.66 Q1159 1561.23 1159 1558.65 Q1159 1556.27 1157.37 1554.99 Q1155.78 1553.72 1150.34 1552.54 L1148.3 1552.07 Q1142.86 1550.92 1140.44 1548.56 Q1138.02 1546.18 1138.02 1542.04 Q1138.02 1537.01 1141.59 1534.27 Q1145.15 1531.54 1151.71 1531.54 Q1154.95 1531.54 1157.82 1532.01 Q1160.68 1532.49 1163.1 1533.45 Z\" fill=\"#000000\" fill-rule=\"nonzero\" fill-opacity=\"1\" /><path clip-path=\"url(#clip330)\" d=\"M1177.84 1550.25 Q1177.84 1556.71 1180.48 1560.4 Q1183.15 1564.07 1187.8 1564.07 Q1192.45 1564.07 1195.12 1560.4 Q1197.8 1556.71 1197.8 1550.25 Q1197.8 1543.79 1195.12 1540.13 Q1192.45 1536.44 1187.8 1536.44 Q1183.15 1536.44 1180.48 1540.13 Q1177.84 1543.79 1177.84 1550.25 M1197.8 1562.7 Q1195.95 1565.88 1193.12 1567.44 Q1190.32 1568.97 1186.37 1568.97 Q1179.91 1568.97 1175.83 1563.81 Q1171.79 1558.65 1171.79 1550.25 Q1171.79 1541.85 1175.83 1536.69 Q1179.91 1531.54 1186.37 1531.54 Q1190.32 1531.54 1193.12 1533.1 Q1195.95 1534.62 1197.8 1537.81 L1197.8 1532.4 L1203.65 1532.4 L1203.65 1581.6 L1197.8 1581.6 L1197.8 1562.7 Z\" fill=\"#000000\" fill-rule=\"nonzero\" fill-opacity=\"1\" /><path clip-path=\"url(#clip330)\" d=\"M1236.37 1537.87 Q1235.39 1537.3 1234.21 1537.04 Q1233.06 1536.76 1231.66 1536.76 Q1226.7 1536.76 1224.02 1540 Q1221.38 1543.22 1221.38 1549.27 L1221.38 1568.04 L1215.49 1568.04 L1215.49 1532.4 L1221.38 1532.4 L1221.38 1537.93 Q1223.23 1534.69 1226.19 1533.13 Q1229.15 1531.54 1233.38 1531.54 Q1233.98 1531.54 1234.72 1531.63 Q1235.45 1531.7 1236.34 1531.85 L1236.37 1537.87 Z\" fill=\"#000000\" fill-rule=\"nonzero\" fill-opacity=\"1\" /><path clip-path=\"url(#clip330)\" d=\"M1248.31 1522.27 L1248.31 1532.4 L1260.37 1532.4 L1260.37 1536.95 L1248.31 1536.95 L1248.31 1556.3 Q1248.31 1560.66 1249.49 1561.9 Q1250.69 1563.14 1254.36 1563.14 L1260.37 1563.14 L1260.37 1568.04 L1254.36 1568.04 Q1247.58 1568.04 1245 1565.53 Q1242.42 1562.98 1242.42 1556.3 L1242.42 1536.95 L1238.12 1536.95 L1238.12 1532.4 L1242.42 1532.4 L1242.42 1522.27 L1248.31 1522.27 Z\" fill=\"#000000\" fill-rule=\"nonzero\" fill-opacity=\"1\" /><path clip-path=\"url(#clip330)\" d=\"M1282.14 1518.58 Q1277.88 1525.9 1275.81 1533.06 Q1273.74 1540.23 1273.74 1547.58 Q1273.74 1554.93 1275.81 1562.16 Q1277.91 1569.35 1282.14 1576.64 L1277.05 1576.64 Q1272.27 1569.16 1269.89 1561.93 Q1267.53 1554.71 1267.53 1547.58 Q1267.53 1540.48 1269.89 1533.29 Q1272.24 1526.09 1277.05 1518.58 L1282.14 1518.58 Z\" fill=\"#000000\" fill-rule=\"nonzero\" fill-opacity=\"1\" /><path clip-path=\"url(#clip330)\" d=\"M1289.3 1532.4 L1295.51 1532.4 L1306.65 1562.31 L1317.79 1532.4 L1324 1532.4 L1310.63 1568.04 L1302.67 1568.04 L1289.3 1532.4 Z\" fill=\"#000000\" fill-rule=\"nonzero\" fill-opacity=\"1\" /><path clip-path=\"url(#clip330)\" d=\"M1348.28 1550.12 Q1341.18 1550.12 1338.45 1551.75 Q1335.71 1553.37 1335.71 1557.29 Q1335.71 1560.4 1337.75 1562.25 Q1339.81 1564.07 1343.35 1564.07 Q1348.22 1564.07 1351.15 1560.63 Q1354.11 1557.16 1354.11 1551.43 L1354.11 1550.12 L1348.28 1550.12 M1359.96 1547.71 L1359.96 1568.04 L1354.11 1568.04 L1354.11 1562.63 Q1352.1 1565.88 1349.11 1567.44 Q1346.12 1568.97 1341.79 1568.97 Q1336.31 1568.97 1333.07 1565.91 Q1329.85 1562.82 1329.85 1557.67 Q1329.85 1551.65 1333.86 1548.6 Q1337.91 1545.54 1345.89 1545.54 L1354.11 1545.54 L1354.11 1544.97 Q1354.11 1540.93 1351.43 1538.73 Q1348.79 1536.5 1343.98 1536.5 Q1340.93 1536.5 1338.03 1537.23 Q1335.14 1537.97 1332.46 1539.43 L1332.46 1534.02 Q1335.68 1532.78 1338.7 1532.17 Q1341.72 1531.54 1344.59 1531.54 Q1352.32 1531.54 1356.14 1535.55 Q1359.96 1539.56 1359.96 1547.71 Z\" fill=\"#000000\" fill-rule=\"nonzero\" fill-opacity=\"1\" /><path clip-path=\"url(#clip330)\" d=\"M1392.68 1537.87 Q1391.7 1537.3 1390.52 1537.04 Q1389.37 1536.76 1387.97 1536.76 Q1383.01 1536.76 1380.33 1540 Q1377.69 1543.22 1377.69 1549.27 L1377.69 1568.04 L1371.8 1568.04 L1371.8 1532.4 L1377.69 1532.4 L1377.69 1537.93 Q1379.54 1534.69 1382.5 1533.13 Q1385.46 1531.54 1389.69 1531.54 Q1390.29 1531.54 1391.03 1531.63 Q1391.76 1531.7 1392.65 1531.85 L1392.68 1537.87 Z\" fill=\"#000000\" fill-rule=\"nonzero\" fill-opacity=\"1\" /><path clip-path=\"url(#clip330)\" d=\"M1398.82 1532.4 L1404.68 1532.4 L1404.68 1568.04 L1398.82 1568.04 L1398.82 1532.4 M1398.82 1518.52 L1404.68 1518.52 L1404.68 1525.93 L1398.82 1525.93 L1398.82 1518.52 Z\" fill=\"#000000\" fill-rule=\"nonzero\" fill-opacity=\"1\" /><path clip-path=\"url(#clip330)\" d=\"M1433.14 1550.12 Q1426.04 1550.12 1423.3 1551.75 Q1420.56 1553.37 1420.56 1557.29 Q1420.56 1560.4 1422.6 1562.25 Q1424.67 1564.07 1428.2 1564.07 Q1433.07 1564.07 1436 1560.63 Q1438.96 1557.16 1438.96 1551.43 L1438.96 1550.12 L1433.14 1550.12 M1444.82 1547.71 L1444.82 1568.04 L1438.96 1568.04 L1438.96 1562.63 Q1436.96 1565.88 1433.96 1567.44 Q1430.97 1568.97 1426.64 1568.97 Q1421.17 1568.97 1417.92 1565.91 Q1414.71 1562.82 1414.71 1557.67 Q1414.71 1551.65 1418.72 1548.6 Q1422.76 1545.54 1430.75 1545.54 L1438.96 1545.54 L1438.96 1544.97 Q1438.96 1540.93 1436.29 1538.73 Q1433.65 1536.5 1428.84 1536.5 Q1425.78 1536.5 1422.89 1537.23 Q1419.99 1537.97 1417.32 1539.43 L1417.32 1534.02 Q1420.53 1532.78 1423.56 1532.17 Q1426.58 1531.54 1429.44 1531.54 Q1437.18 1531.54 1441 1535.55 Q1444.82 1539.56 1444.82 1547.71 Z\" fill=\"#000000\" fill-rule=\"nonzero\" fill-opacity=\"1\" /><path clip-path=\"url(#clip330)\" d=\"M1486.51 1546.53 L1486.51 1568.04 L1480.66 1568.04 L1480.66 1546.72 Q1480.66 1541.66 1478.68 1539.14 Q1476.71 1536.63 1472.76 1536.63 Q1468.02 1536.63 1465.28 1539.65 Q1462.55 1542.68 1462.55 1547.9 L1462.55 1568.04 L1456.66 1568.04 L1456.66 1532.4 L1462.55 1532.4 L1462.55 1537.93 Q1464.65 1534.72 1467.48 1533.13 Q1470.34 1531.54 1474.07 1531.54 Q1480.21 1531.54 1483.36 1535.36 Q1486.51 1539.14 1486.51 1546.53 Z\" fill=\"#000000\" fill-rule=\"nonzero\" fill-opacity=\"1\" /><path clip-path=\"url(#clip330)\" d=\"M1523.85 1533.76 L1523.85 1539.24 Q1521.36 1537.87 1518.85 1537.2 Q1516.37 1536.5 1513.82 1536.5 Q1508.12 1536.5 1504.97 1540.13 Q1501.82 1543.73 1501.82 1550.25 Q1501.82 1556.78 1504.97 1560.4 Q1508.12 1564 1513.82 1564 Q1516.37 1564 1518.85 1563.33 Q1521.36 1562.63 1523.85 1561.26 L1523.85 1566.68 Q1521.4 1567.82 1518.75 1568.39 Q1516.14 1568.97 1513.18 1568.97 Q1505.13 1568.97 1500.39 1563.91 Q1495.65 1558.85 1495.65 1550.25 Q1495.65 1541.53 1500.42 1536.53 Q1505.23 1531.54 1513.57 1531.54 Q1516.27 1531.54 1518.85 1532.11 Q1521.43 1532.65 1523.85 1533.76 Z\" fill=\"#000000\" fill-rule=\"nonzero\" fill-opacity=\"1\" /><path clip-path=\"url(#clip330)\" d=\"M1564.52 1548.76 L1564.52 1551.62 L1537.6 1551.62 Q1537.98 1557.67 1541.23 1560.85 Q1544.5 1564 1550.33 1564 Q1553.7 1564 1556.85 1563.17 Q1560.04 1562.35 1563.16 1560.69 L1563.16 1566.23 Q1560 1567.57 1556.69 1568.27 Q1553.38 1568.97 1549.98 1568.97 Q1541.45 1568.97 1536.45 1564 Q1531.49 1559.04 1531.49 1550.57 Q1531.49 1541.82 1536.2 1536.69 Q1540.94 1531.54 1548.96 1531.54 Q1556.15 1531.54 1560.32 1536.18 Q1564.52 1540.8 1564.52 1548.76 M1558.67 1547.04 Q1558.6 1542.23 1555.96 1539.37 Q1553.35 1536.5 1549.02 1536.5 Q1544.12 1536.5 1541.16 1539.27 Q1538.23 1542.04 1537.79 1547.07 L1558.67 1547.04 Z\" fill=\"#000000\" fill-rule=\"nonzero\" fill-opacity=\"1\" /><path clip-path=\"url(#clip330)\" d=\"M1573.21 1518.58 L1578.31 1518.58 Q1583.08 1526.09 1585.44 1533.29 Q1587.82 1540.48 1587.82 1547.58 Q1587.82 1554.71 1585.44 1561.93 Q1583.08 1569.16 1578.31 1576.64 L1573.21 1576.64 Q1577.45 1569.35 1579.52 1562.16 Q1581.62 1554.93 1581.62 1547.58 Q1581.62 1540.23 1579.52 1533.06 Q1577.45 1525.9 1573.21 1518.58 Z\" fill=\"#000000\" fill-rule=\"nonzero\" fill-opacity=\"1\" /><polyline clip-path=\"url(#clip330)\" style=\"stroke:#000000; stroke-linecap:round; stroke-linejoin:round; stroke-width:4; stroke-opacity:1; fill:none\" points=\"219.866,1423.18 219.866,47.2441 \"/>\n",
       "<polyline clip-path=\"url(#clip330)\" style=\"stroke:#000000; stroke-linecap:round; stroke-linejoin:round; stroke-width:4; stroke-opacity:1; fill:none\" points=\"219.866,1179.65 238.764,1179.65 \"/>\n",
       "<polyline clip-path=\"url(#clip330)\" style=\"stroke:#000000; stroke-linecap:round; stroke-linejoin:round; stroke-width:4; stroke-opacity:1; fill:none\" points=\"219.866,906.281 238.764,906.281 \"/>\n",
       "<polyline clip-path=\"url(#clip330)\" style=\"stroke:#000000; stroke-linecap:round; stroke-linejoin:round; stroke-width:4; stroke-opacity:1; fill:none\" points=\"219.866,632.916 238.764,632.916 \"/>\n",
       "<polyline clip-path=\"url(#clip330)\" style=\"stroke:#000000; stroke-linecap:round; stroke-linejoin:round; stroke-width:4; stroke-opacity:1; fill:none\" points=\"219.866,359.551 238.764,359.551 \"/>\n",
       "<polyline clip-path=\"url(#clip330)\" style=\"stroke:#000000; stroke-linecap:round; stroke-linejoin:round; stroke-width:4; stroke-opacity:1; fill:none\" points=\"219.866,86.1857 238.764,86.1857 \"/>\n",
       "<path clip-path=\"url(#clip330)\" d=\"M127.917 1165.44 Q124.306 1165.44 122.478 1169.01 Q120.672 1172.55 120.672 1179.68 Q120.672 1186.79 122.478 1190.35 Q124.306 1193.89 127.917 1193.89 Q131.552 1193.89 133.357 1190.35 Q135.186 1186.79 135.186 1179.68 Q135.186 1172.55 133.357 1169.01 Q131.552 1165.44 127.917 1165.44 M127.917 1161.74 Q133.728 1161.74 136.783 1166.35 Q139.862 1170.93 139.862 1179.68 Q139.862 1188.41 136.783 1193.01 Q133.728 1197.6 127.917 1197.6 Q122.107 1197.6 119.029 1193.01 Q115.973 1188.41 115.973 1179.68 Q115.973 1170.93 119.029 1166.35 Q122.107 1161.74 127.917 1161.74 Z\" fill=\"#000000\" fill-rule=\"nonzero\" fill-opacity=\"1\" /><path clip-path=\"url(#clip330)\" d=\"M148.079 1191.05 L152.964 1191.05 L152.964 1196.93 L148.079 1196.93 L148.079 1191.05 Z\" fill=\"#000000\" fill-rule=\"nonzero\" fill-opacity=\"1\" /><path clip-path=\"url(#clip330)\" d=\"M163.959 1192.99 L171.598 1192.99 L171.598 1166.63 L163.288 1168.29 L163.288 1164.03 L171.552 1162.37 L176.227 1162.37 L176.227 1192.99 L183.866 1192.99 L183.866 1196.93 L163.959 1196.93 L163.959 1192.99 Z\" fill=\"#000000\" fill-rule=\"nonzero\" fill-opacity=\"1\" /><path clip-path=\"url(#clip330)\" d=\"M128.288 892.08 Q124.677 892.08 122.848 895.644 Q121.043 899.186 121.043 906.316 Q121.043 913.422 122.848 916.987 Q124.677 920.529 128.288 920.529 Q131.922 920.529 133.728 916.987 Q135.556 913.422 135.556 906.316 Q135.556 899.186 133.728 895.644 Q131.922 892.08 128.288 892.08 M128.288 888.376 Q134.098 888.376 137.154 892.982 Q140.232 897.566 140.232 906.316 Q140.232 915.042 137.154 919.649 Q134.098 924.232 128.288 924.232 Q122.478 924.232 119.399 919.649 Q116.343 915.042 116.343 906.316 Q116.343 897.566 119.399 892.982 Q122.478 888.376 128.288 888.376 Z\" fill=\"#000000\" fill-rule=\"nonzero\" fill-opacity=\"1\" /><path clip-path=\"url(#clip330)\" d=\"M148.45 917.681 L153.334 917.681 L153.334 923.561 L148.45 923.561 L148.45 917.681 Z\" fill=\"#000000\" fill-rule=\"nonzero\" fill-opacity=\"1\" /><path clip-path=\"url(#clip330)\" d=\"M167.547 919.626 L183.866 919.626 L183.866 923.561 L161.922 923.561 L161.922 919.626 Q164.584 916.871 169.167 912.242 Q173.774 907.589 174.954 906.246 Q177.2 903.723 178.079 901.987 Q178.982 900.228 178.982 898.538 Q178.982 895.783 177.038 894.047 Q175.116 892.311 172.014 892.311 Q169.815 892.311 167.362 893.075 Q164.931 893.839 162.153 895.39 L162.153 890.668 Q164.977 889.533 167.431 888.955 Q169.885 888.376 171.922 888.376 Q177.292 888.376 180.487 891.061 Q183.681 893.746 183.681 898.237 Q183.681 900.367 182.871 902.288 Q182.084 904.186 179.977 906.779 Q179.399 907.45 176.297 910.667 Q173.195 913.862 167.547 919.626 Z\" fill=\"#000000\" fill-rule=\"nonzero\" fill-opacity=\"1\" /><path clip-path=\"url(#clip330)\" d=\"M127.339 618.715 Q123.728 618.715 121.899 622.279 Q120.093 625.821 120.093 632.951 Q120.093 640.057 121.899 643.622 Q123.728 647.163 127.339 647.163 Q130.973 647.163 132.779 643.622 Q134.607 640.057 134.607 632.951 Q134.607 625.821 132.779 622.279 Q130.973 618.715 127.339 618.715 M127.339 615.011 Q133.149 615.011 136.204 619.617 Q139.283 624.201 139.283 632.951 Q139.283 641.677 136.204 646.284 Q133.149 650.867 127.339 650.867 Q121.529 650.867 118.45 646.284 Q115.394 641.677 115.394 632.951 Q115.394 624.201 118.45 619.617 Q121.529 615.011 127.339 615.011 Z\" fill=\"#000000\" fill-rule=\"nonzero\" fill-opacity=\"1\" /><path clip-path=\"url(#clip330)\" d=\"M147.501 644.316 L152.385 644.316 L152.385 650.196 L147.501 650.196 L147.501 644.316 Z\" fill=\"#000000\" fill-rule=\"nonzero\" fill-opacity=\"1\" /><path clip-path=\"url(#clip330)\" d=\"M176.737 631.562 Q180.093 632.279 181.968 634.548 Q183.866 636.816 183.866 640.15 Q183.866 645.265 180.348 648.066 Q176.829 650.867 170.348 650.867 Q168.172 650.867 165.857 650.427 Q163.565 650.011 161.112 649.154 L161.112 644.64 Q163.056 645.775 165.371 646.353 Q167.686 646.932 170.209 646.932 Q174.607 646.932 176.899 645.196 Q179.214 643.46 179.214 640.15 Q179.214 637.094 177.061 635.381 Q174.931 633.645 171.112 633.645 L167.084 633.645 L167.084 629.802 L171.297 629.802 Q174.746 629.802 176.575 628.437 Q178.403 627.048 178.403 624.455 Q178.403 621.793 176.505 620.381 Q174.63 618.946 171.112 618.946 Q169.19 618.946 166.991 619.363 Q164.792 619.779 162.153 620.659 L162.153 616.492 Q164.815 615.752 167.13 615.381 Q169.468 615.011 171.528 615.011 Q176.852 615.011 179.954 617.441 Q183.056 619.849 183.056 623.969 Q183.056 626.839 181.413 628.83 Q179.769 630.798 176.737 631.562 Z\" fill=\"#000000\" fill-rule=\"nonzero\" fill-opacity=\"1\" /><path clip-path=\"url(#clip330)\" d=\"M126.205 345.349 Q122.593 345.349 120.765 348.914 Q118.959 352.456 118.959 359.585 Q118.959 366.692 120.765 370.257 Q122.593 373.798 126.205 373.798 Q129.839 373.798 131.644 370.257 Q133.473 366.692 133.473 359.585 Q133.473 352.456 131.644 348.914 Q129.839 345.349 126.205 345.349 M126.205 341.646 Q132.015 341.646 135.07 346.252 Q138.149 350.836 138.149 359.585 Q138.149 368.312 135.07 372.919 Q132.015 377.502 126.205 377.502 Q120.394 377.502 117.316 372.919 Q114.26 368.312 114.26 359.585 Q114.26 350.836 117.316 346.252 Q120.394 341.646 126.205 341.646 Z\" fill=\"#000000\" fill-rule=\"nonzero\" fill-opacity=\"1\" /><path clip-path=\"url(#clip330)\" d=\"M146.366 370.951 L151.251 370.951 L151.251 376.831 L146.366 376.831 L146.366 370.951 Z\" fill=\"#000000\" fill-rule=\"nonzero\" fill-opacity=\"1\" /><path clip-path=\"url(#clip330)\" d=\"M174.283 346.345 L162.477 364.794 L174.283 364.794 L174.283 346.345 M173.056 342.271 L178.936 342.271 L178.936 364.794 L183.866 364.794 L183.866 368.683 L178.936 368.683 L178.936 376.831 L174.283 376.831 L174.283 368.683 L158.681 368.683 L158.681 364.169 L173.056 342.271 Z\" fill=\"#000000\" fill-rule=\"nonzero\" fill-opacity=\"1\" /><path clip-path=\"url(#clip330)\" d=\"M127.686 71.9843 Q124.075 71.9843 122.246 75.5491 Q120.441 79.0908 120.441 86.2204 Q120.441 93.3268 122.246 96.8916 Q124.075 100.433 127.686 100.433 Q131.32 100.433 133.126 96.8916 Q134.954 93.3268 134.954 86.2204 Q134.954 79.0908 133.126 75.5491 Q131.32 71.9843 127.686 71.9843 M127.686 68.2807 Q133.496 68.2807 136.552 72.8871 Q139.63 77.4704 139.63 86.2204 Q139.63 94.9472 136.552 99.5536 Q133.496 104.137 127.686 104.137 Q121.876 104.137 118.797 99.5536 Q115.742 94.9472 115.742 86.2204 Q115.742 77.4704 118.797 72.8871 Q121.876 68.2807 127.686 68.2807 Z\" fill=\"#000000\" fill-rule=\"nonzero\" fill-opacity=\"1\" /><path clip-path=\"url(#clip330)\" d=\"M147.848 97.5861 L152.732 97.5861 L152.732 103.466 L147.848 103.466 L147.848 97.5861 Z\" fill=\"#000000\" fill-rule=\"nonzero\" fill-opacity=\"1\" /><path clip-path=\"url(#clip330)\" d=\"M162.964 68.9057 L181.32 68.9057 L181.32 72.8408 L167.246 72.8408 L167.246 81.313 Q168.264 80.9658 169.283 80.8037 Q170.302 80.6186 171.32 80.6186 Q177.107 80.6186 180.487 83.7898 Q183.866 86.9611 183.866 92.3777 Q183.866 97.9564 180.394 101.058 Q176.922 104.137 170.602 104.137 Q168.427 104.137 166.158 103.767 Q163.913 103.396 161.505 102.655 L161.505 97.9564 Q163.589 99.0907 165.811 99.6462 Q168.033 100.202 170.51 100.202 Q174.514 100.202 176.852 98.0953 Q179.19 95.9888 179.19 92.3777 Q179.19 88.7667 176.852 86.6602 Q174.514 84.5537 170.51 84.5537 Q168.635 84.5537 166.76 84.9704 Q164.908 85.387 162.964 86.2667 L162.964 68.9057 Z\" fill=\"#000000\" fill-rule=\"nonzero\" fill-opacity=\"1\" /><path clip-path=\"url(#clip330)\" d=\"M21.7677 1157.39 L39.6235 1157.39 L39.6235 1149.3 Q39.6235 1144.81 37.3 1142.36 Q34.9765 1139.91 30.6797 1139.91 Q26.4147 1139.91 24.0912 1142.36 Q21.7677 1144.81 21.7677 1149.3 L21.7677 1157.39 M16.4842 1163.81 L16.4842 1149.3 Q16.4842 1141.31 20.1126 1137.24 Q23.7092 1133.13 30.6797 1133.13 Q37.7138 1133.13 41.3104 1137.24 Q44.907 1141.31 44.907 1149.3 L44.907 1157.39 L64.0042 1157.39 L64.0042 1163.81 L16.4842 1163.81 Z\" fill=\"#000000\" fill-rule=\"nonzero\" fill-opacity=\"1\" /><path clip-path=\"url(#clip330)\" d=\"M32.4621 1113.27 Q32.4621 1117.98 36.1542 1120.72 Q39.8145 1123.46 46.212 1123.46 Q52.6095 1123.46 56.3017 1120.75 Q59.9619 1118.01 59.9619 1113.27 Q59.9619 1108.59 56.2698 1105.86 Q52.5777 1103.12 46.212 1103.12 Q39.8781 1103.12 36.186 1105.86 Q32.4621 1108.59 32.4621 1113.27 M27.4968 1113.27 Q27.4968 1105.63 32.4621 1101.27 Q37.4273 1096.91 46.212 1096.91 Q54.9649 1096.91 59.9619 1101.27 Q64.9272 1105.63 64.9272 1113.27 Q64.9272 1120.94 59.9619 1125.3 Q54.9649 1129.63 46.212 1129.63 Q37.4273 1129.63 32.4621 1125.3 Q27.4968 1120.94 27.4968 1113.27 Z\" fill=\"#000000\" fill-rule=\"nonzero\" fill-opacity=\"1\" /><path clip-path=\"url(#clip330)\" d=\"M33.8307 1066.55 Q33.2578 1067.53 33.0032 1068.71 Q32.7167 1069.86 32.7167 1071.26 Q32.7167 1076.22 35.9632 1078.9 Q39.1779 1081.54 45.2253 1081.54 L64.0042 1081.54 L64.0042 1087.43 L28.3562 1087.43 L28.3562 1081.54 L33.8944 1081.54 Q30.6479 1079.69 29.0883 1076.73 Q27.4968 1073.77 27.4968 1069.54 Q27.4968 1068.93 27.5923 1068.2 Q27.656 1067.47 27.8151 1066.58 L33.8307 1066.55 Z\" fill=\"#000000\" fill-rule=\"nonzero\" fill-opacity=\"1\" /><path clip-path=\"url(#clip330)\" d=\"M18.2347 1054.61 L28.3562 1054.61 L28.3562 1042.55 L32.9077 1042.55 L32.9077 1054.61 L52.2594 1054.61 Q56.6199 1054.61 57.8613 1053.43 Q59.1026 1052.22 59.1026 1048.56 L59.1026 1042.55 L64.0042 1042.55 L64.0042 1048.56 Q64.0042 1055.34 61.4897 1057.92 Q58.9434 1060.5 52.2594 1060.5 L32.9077 1060.5 L32.9077 1064.8 L28.3562 1064.8 L28.3562 1060.5 L18.2347 1060.5 L18.2347 1054.61 Z\" fill=\"#000000\" fill-rule=\"nonzero\" fill-opacity=\"1\" /><path clip-path=\"url(#clip330)\" d=\"M14.479 1016.8 L19.3487 1016.8 L19.3487 1022.4 Q19.3487 1025.55 20.6219 1026.79 Q21.895 1028 25.2052 1028 L28.3562 1028 L28.3562 1018.36 L32.9077 1018.36 L32.9077 1028 L64.0042 1028 L64.0042 1033.89 L32.9077 1033.89 L32.9077 1039.49 L28.3562 1039.49 L28.3562 1033.89 L25.8736 1033.89 Q19.9216 1033.89 17.2162 1031.12 Q14.479 1028.35 14.479 1022.34 L14.479 1016.8 Z\" fill=\"#000000\" fill-rule=\"nonzero\" fill-opacity=\"1\" /><path clip-path=\"url(#clip330)\" d=\"M32.4621 998.084 Q32.4621 1002.79 36.1542 1005.53 Q39.8145 1008.27 46.212 1008.27 Q52.6095 1008.27 56.3017 1005.56 Q59.9619 1002.83 59.9619 998.084 Q59.9619 993.405 56.2698 990.668 Q52.5777 987.931 46.212 987.931 Q39.8781 987.931 36.186 990.668 Q32.4621 993.405 32.4621 998.084 M27.4968 998.084 Q27.4968 990.445 32.4621 986.084 Q37.4273 981.724 46.212 981.724 Q54.9649 981.724 59.9619 986.084 Q64.9272 990.445 64.9272 998.084 Q64.9272 1005.75 59.9619 1010.12 Q54.9649 1014.44 46.212 1014.44 Q37.4273 1014.44 32.4621 1010.12 Q27.4968 1005.75 27.4968 998.084 Z\" fill=\"#000000\" fill-rule=\"nonzero\" fill-opacity=\"1\" /><path clip-path=\"url(#clip330)\" d=\"M14.479 972.016 L14.479 966.16 L64.0042 966.16 L64.0042 972.016 L14.479 972.016 Z\" fill=\"#000000\" fill-rule=\"nonzero\" fill-opacity=\"1\" /><path clip-path=\"url(#clip330)\" d=\"M28.3562 953.906 L28.3562 948.049 L64.0042 948.049 L64.0042 953.906 L28.3562 953.906 M14.479 953.906 L14.479 948.049 L21.895 948.049 L21.895 953.906 L14.479 953.906 Z\" fill=\"#000000\" fill-rule=\"nonzero\" fill-opacity=\"1\" /><path clip-path=\"url(#clip330)\" d=\"M32.4621 921.982 Q32.4621 926.692 36.1542 929.43 Q39.8145 932.167 46.212 932.167 Q52.6095 932.167 56.3017 929.462 Q59.9619 926.724 59.9619 921.982 Q59.9619 917.303 56.2698 914.566 Q52.5777 911.828 46.212 911.828 Q39.8781 911.828 36.186 914.566 Q32.4621 917.303 32.4621 921.982 M27.4968 921.982 Q27.4968 914.343 32.4621 909.982 Q37.4273 905.622 46.212 905.622 Q54.9649 905.622 59.9619 909.982 Q64.9272 914.343 64.9272 921.982 Q64.9272 929.652 59.9619 934.013 Q54.9649 938.342 46.212 938.342 Q37.4273 938.342 32.4621 934.013 Q27.4968 929.652 27.4968 921.982 Z\" fill=\"#000000\" fill-rule=\"nonzero\" fill-opacity=\"1\" /><path clip-path=\"url(#clip330)\" d=\"M45.7664 851.736 Q39.4007 851.736 35.8996 854.378 Q32.3984 856.988 32.3984 861.73 Q32.3984 866.441 35.8996 869.083 Q39.4007 871.693 45.7664 871.693 Q52.1003 871.693 55.6014 869.083 Q59.1026 866.441 59.1026 861.73 Q59.1026 856.988 55.6014 854.378 Q52.1003 851.736 45.7664 851.736 M59.58 845.88 Q68.683 845.88 73.1071 849.922 Q77.5631 853.964 77.5631 862.303 Q77.5631 865.391 77.0857 868.128 Q76.6401 870.865 75.6852 873.443 L69.9879 873.443 Q71.3884 870.865 72.0568 868.351 Q72.7252 865.836 72.7252 863.226 Q72.7252 857.465 69.7015 854.601 Q66.7096 851.736 60.6303 851.736 L57.7339 851.736 Q60.885 853.55 62.4446 856.383 Q64.0042 859.216 64.0042 863.163 Q64.0042 869.719 59.0071 873.73 Q54.01 877.74 45.7664 877.74 Q37.491 877.74 32.4939 873.73 Q27.4968 869.719 27.4968 863.163 Q27.4968 859.216 29.0564 856.383 Q30.616 853.55 33.7671 851.736 L28.3562 851.736 L28.3562 845.88 L59.58 845.88 Z\" fill=\"#000000\" fill-rule=\"nonzero\" fill-opacity=\"1\" /><path clip-path=\"url(#clip330)\" d=\"M33.8307 813.16 Q33.2578 814.147 33.0032 815.324 Q32.7167 816.47 32.7167 817.871 Q32.7167 822.836 35.9632 825.51 Q39.1779 828.151 45.2253 828.151 L64.0042 828.151 L64.0042 834.04 L28.3562 834.04 L28.3562 828.151 L33.8944 828.151 Q30.6479 826.305 29.0883 823.345 Q27.4968 820.385 27.4968 816.152 Q27.4968 815.547 27.5923 814.815 Q27.656 814.083 27.8151 813.192 L33.8307 813.16 Z\" fill=\"#000000\" fill-rule=\"nonzero\" fill-opacity=\"1\" /><path clip-path=\"url(#clip330)\" d=\"M32.4621 794.636 Q32.4621 799.346 36.1542 802.084 Q39.8145 804.821 46.212 804.821 Q52.6095 804.821 56.3017 802.116 Q59.9619 799.378 59.9619 794.636 Q59.9619 789.957 56.2698 787.22 Q52.5777 784.483 46.212 784.483 Q39.8781 784.483 36.186 787.22 Q32.4621 789.957 32.4621 794.636 M27.4968 794.636 Q27.4968 786.997 32.4621 782.636 Q37.4273 778.276 46.212 778.276 Q54.9649 778.276 59.9619 782.636 Q64.9272 786.997 64.9272 794.636 Q64.9272 802.307 59.9619 806.667 Q54.9649 810.996 46.212 810.996 Q37.4273 810.996 32.4621 806.667 Q27.4968 802.307 27.4968 794.636 Z\" fill=\"#000000\" fill-rule=\"nonzero\" fill-opacity=\"1\" /><path clip-path=\"url(#clip330)\" d=\"M28.3562 771.974 L28.3562 766.117 L56.1743 758.797 L28.3562 751.508 L28.3562 744.601 L56.1743 737.281 L28.3562 729.992 L28.3562 724.136 L64.0042 733.461 L64.0042 740.368 L34.7856 748.039 L64.0042 755.741 L64.0042 762.648 L28.3562 771.974 Z\" fill=\"#000000\" fill-rule=\"nonzero\" fill-opacity=\"1\" /><path clip-path=\"url(#clip330)\" d=\"M18.2347 709.463 L28.3562 709.463 L28.3562 697.4 L32.9077 697.4 L32.9077 709.463 L52.2594 709.463 Q56.6199 709.463 57.8613 708.285 Q59.1026 707.076 59.1026 703.415 L59.1026 697.4 L64.0042 697.4 L64.0042 703.415 Q64.0042 710.195 61.4897 712.773 Q58.9434 715.351 52.2594 715.351 L32.9077 715.351 L32.9077 719.648 L28.3562 719.648 L28.3562 715.351 L18.2347 715.351 L18.2347 709.463 Z\" fill=\"#000000\" fill-rule=\"nonzero\" fill-opacity=\"1\" /><path clip-path=\"url(#clip330)\" d=\"M42.4881 660.065 L64.0042 660.065 L64.0042 665.921 L42.679 665.921 Q37.6183 665.921 35.1038 667.895 Q32.5894 669.868 32.5894 673.815 Q32.5894 678.557 35.6131 681.294 Q38.6368 684.032 43.8567 684.032 L64.0042 684.032 L64.0042 689.92 L14.479 689.92 L14.479 684.032 L33.8944 684.032 Q30.6797 681.931 29.0883 679.098 Q27.4968 676.234 27.4968 672.51 Q27.4968 666.367 31.3163 663.216 Q35.1038 660.065 42.4881 660.065 Z\" fill=\"#000000\" fill-rule=\"nonzero\" fill-opacity=\"1\" /><path clip-path=\"url(#clip330)\" d=\"M33.8307 607.007 Q33.2578 607.993 33.0032 609.171 Q32.7167 610.317 32.7167 611.717 Q32.7167 616.683 35.9632 619.356 Q39.1779 621.998 45.2253 621.998 L64.0042 621.998 L64.0042 627.886 L28.3562 627.886 L28.3562 621.998 L33.8944 621.998 Q30.6479 620.152 29.0883 617.192 Q27.4968 614.232 27.4968 609.999 Q27.4968 609.394 27.5923 608.662 Q27.656 607.93 27.8151 607.038 L33.8307 607.007 Z\" fill=\"#000000\" fill-rule=\"nonzero\" fill-opacity=\"1\" /><path clip-path=\"url(#clip330)\" d=\"M46.0847 584.663 Q46.0847 591.761 47.7079 594.498 Q49.3312 597.235 53.2461 597.235 Q56.3653 597.235 58.2114 595.198 Q60.0256 593.129 60.0256 589.596 Q60.0256 584.727 56.5881 581.798 Q53.1188 578.838 47.3897 578.838 L46.0847 578.838 L46.0847 584.663 M43.6657 572.982 L64.0042 572.982 L64.0042 578.838 L58.5933 578.838 Q61.8398 580.844 63.3994 583.835 Q64.9272 586.827 64.9272 591.156 Q64.9272 596.631 61.8716 599.877 Q58.7843 603.092 53.6281 603.092 Q47.6125 603.092 44.5569 599.081 Q41.5014 595.039 41.5014 587.05 L41.5014 578.838 L40.9285 578.838 Q36.8862 578.838 34.6901 581.512 Q32.4621 584.154 32.4621 588.96 Q32.4621 592.015 33.1941 594.912 Q33.9262 597.808 35.3903 600.482 L29.9795 600.482 Q28.7381 597.267 28.1334 594.243 Q27.4968 591.22 27.4968 588.355 Q27.4968 580.621 31.5072 576.801 Q35.5176 572.982 43.6657 572.982 Z\" fill=\"#000000\" fill-rule=\"nonzero\" fill-opacity=\"1\" /><path clip-path=\"url(#clip330)\" d=\"M18.2347 555.126 L28.3562 555.126 L28.3562 543.063 L32.9077 543.063 L32.9077 555.126 L52.2594 555.126 Q56.6199 555.126 57.8613 553.948 Q59.1026 552.739 59.1026 549.079 L59.1026 543.063 L64.0042 543.063 L64.0042 549.079 Q64.0042 555.858 61.4897 558.436 Q58.9434 561.014 52.2594 561.014 L32.9077 561.014 L32.9077 565.311 L28.3562 565.311 L28.3562 561.014 L18.2347 561.014 L18.2347 555.126 Z\" fill=\"#000000\" fill-rule=\"nonzero\" fill-opacity=\"1\" /><path clip-path=\"url(#clip330)\" d=\"M44.7161 504.869 L47.5806 504.869 L47.5806 531.796 Q53.6281 531.414 56.8109 528.167 Q59.9619 524.889 59.9619 519.064 Q59.9619 515.691 59.1344 512.54 Q58.3069 509.357 56.6518 506.238 L62.1899 506.238 Q63.5267 509.389 64.227 512.699 Q64.9272 516.009 64.9272 519.415 Q64.9272 527.945 59.9619 532.942 Q54.9967 537.907 46.5303 537.907 Q37.7774 537.907 32.6531 533.196 Q27.4968 528.454 27.4968 520.433 Q27.4968 513.24 32.1438 509.07 Q36.7589 504.869 44.7161 504.869 M42.9973 510.725 Q38.1912 510.789 35.3266 513.431 Q32.4621 516.041 32.4621 520.369 Q32.4621 525.271 35.2312 528.231 Q38.0002 531.159 43.0292 531.605 L42.9973 510.725 Z\" fill=\"#000000\" fill-rule=\"nonzero\" fill-opacity=\"1\" /><path clip-path=\"url(#clip330)\" d=\"M14.5426 460.468 Q21.8632 464.733 29.0246 466.802 Q36.186 468.871 43.5384 468.871 Q50.8908 468.871 58.1159 466.802 Q65.3091 464.701 72.5979 460.468 L72.5979 465.561 Q65.1182 470.335 57.8931 472.722 Q50.668 475.077 43.5384 475.077 Q36.4406 475.077 29.2474 472.722 Q22.0542 470.367 14.5426 465.561 L14.5426 460.468 Z\" fill=\"#000000\" fill-rule=\"nonzero\" fill-opacity=\"1\" /><path clip-path=\"url(#clip330)\" d=\"M58.5933 447.164 L58.5933 436.66 L22.3406 436.66 L24.6323 448.087 L18.7758 448.087 L16.4842 436.724 L16.4842 430.295 L58.5933 430.295 L58.5933 419.791 L64.0042 419.791 L64.0042 447.164 L58.5933 447.164 Z\" fill=\"#000000\" fill-rule=\"nonzero\" fill-opacity=\"1\" /><path clip-path=\"url(#clip330)\" d=\"M16.4842 397.225 L16.4842 391.814 L70.0516 408.365 L70.0516 413.776 L16.4842 397.225 Z\" fill=\"#000000\" fill-rule=\"nonzero\" fill-opacity=\"1\" /><path clip-path=\"url(#clip330)\" d=\"M67.3143 370.839 Q73.68 373.322 75.6216 375.677 Q77.5631 378.032 77.5631 381.979 L77.5631 386.658 L72.6615 386.658 L72.6615 383.22 Q72.6615 380.801 71.5157 379.464 Q70.3699 378.128 66.1048 376.504 L63.4312 375.454 L28.3562 389.872 L28.3562 383.666 L56.238 372.526 L28.3562 361.386 L28.3562 355.179 L67.3143 370.839 Z\" fill=\"#000000\" fill-rule=\"nonzero\" fill-opacity=\"1\" /><path clip-path=\"url(#clip330)\" d=\"M33.8307 326.438 Q33.2578 327.425 33.0032 328.602 Q32.7167 329.748 32.7167 331.149 Q32.7167 336.114 35.9632 338.788 Q39.1779 341.429 45.2253 341.429 L64.0042 341.429 L64.0042 347.318 L28.3562 347.318 L28.3562 341.429 L33.8944 341.429 Q30.6479 339.583 29.0883 336.623 Q27.4968 333.663 27.4968 329.43 Q27.4968 328.825 27.5923 328.093 Q27.656 327.361 27.8151 326.47 L33.8307 326.438 Z\" fill=\"#000000\" fill-rule=\"nonzero\" fill-opacity=\"1\" /><path clip-path=\"url(#clip330)\" d=\"M14.5426 321.218 L14.5426 316.126 Q22.0542 311.351 29.2474 308.996 Q36.4406 306.609 43.5384 306.609 Q50.668 306.609 57.8931 308.996 Q65.1182 311.351 72.5979 316.126 L72.5979 321.218 Q65.3091 316.985 58.1159 314.916 Q50.8908 312.816 43.5384 312.816 Q36.186 312.816 29.0246 314.916 Q21.8632 316.985 14.5426 321.218 Z\" fill=\"#000000\" fill-rule=\"nonzero\" fill-opacity=\"1\" /><polyline clip-path=\"url(#clip332)\" style=\"stroke:#808080; stroke-linecap:round; stroke-linejoin:round; stroke-width:16; stroke-opacity:1; fill:none\" points=\"220.66,1316.37 220.66,1316.37 220.661,1316.37 220.664,1316.37 225.44,1312.82 281.125,1277.78 336.813,1242.73 392.501,1207.68 448.19,1172.64 503.878,1137.59 559.567,1102.54 615.256,1067.5 670.944,1032.45 726.633,997.403 782.322,962.356 838.01,927.309 893.699,892.262 949.388,857.215 1005.08,822.169 1060.76,787.122 1116.45,752.075 1172.14,717.028 1227.83,681.981 1283.52,646.935 1339.21,611.888 1394.9,576.841 1450.59,541.794 1506.27,506.747 1561.96,471.701 1617.65,436.654 1673.34,401.607 1729.03,366.56 1784.72,331.513 1840.41,296.467 1896.09,261.42 1951.78,226.373 2007.47,191.326 2063.16,156.279 2118.85,121.232 2174.54,86.1857 \"/>\n",
       "<circle clip-path=\"url(#clip332)\" cx=\"1896.09\" cy=\"261.42\" r=\"10.8\" fill=\"#ffffff\" fill-rule=\"evenodd\" fill-opacity=\"1\" stroke=\"#000000\" stroke-opacity=\"1\" stroke-width=\"3.2\"/>\n",
       "<circle clip-path=\"url(#clip332)\" cx=\"838.01\" cy=\"927.309\" r=\"10.8\" fill=\"#ffffff\" fill-rule=\"evenodd\" fill-opacity=\"1\" stroke=\"#000000\" stroke-opacity=\"1\" stroke-width=\"3.2\"/>\n",
       "<circle clip-path=\"url(#clip332)\" cx=\"1450.59\" cy=\"541.794\" r=\"10.8\" fill=\"#ffffff\" fill-rule=\"evenodd\" fill-opacity=\"1\" stroke=\"#000000\" stroke-opacity=\"1\" stroke-width=\"3.2\"/>\n",
       "<circle clip-path=\"url(#clip332)\" cx=\"2063.16\" cy=\"156.279\" r=\"10.8\" fill=\"#ffffff\" fill-rule=\"evenodd\" fill-opacity=\"1\" stroke=\"#000000\" stroke-opacity=\"1\" stroke-width=\"3.2\"/>\n",
       "<circle clip-path=\"url(#clip332)\" cx=\"1283.52\" cy=\"646.935\" r=\"10.8\" fill=\"#ffffff\" fill-rule=\"evenodd\" fill-opacity=\"1\" stroke=\"#000000\" stroke-opacity=\"1\" stroke-width=\"3.2\"/>\n",
       "<circle clip-path=\"url(#clip332)\" cx=\"1561.96\" cy=\"471.701\" r=\"10.8\" fill=\"#ffffff\" fill-rule=\"evenodd\" fill-opacity=\"1\" stroke=\"#000000\" stroke-opacity=\"1\" stroke-width=\"3.2\"/>\n",
       "<circle clip-path=\"url(#clip332)\" cx=\"559.567\" cy=\"1102.54\" r=\"10.8\" fill=\"#ffffff\" fill-rule=\"evenodd\" fill-opacity=\"1\" stroke=\"#000000\" stroke-opacity=\"1\" stroke-width=\"3.2\"/>\n",
       "<circle clip-path=\"url(#clip332)\" cx=\"220.66\" cy=\"1316.37\" r=\"10.8\" fill=\"#ffffff\" fill-rule=\"evenodd\" fill-opacity=\"1\" stroke=\"#000000\" stroke-opacity=\"1\" stroke-width=\"3.2\"/>\n",
       "<circle clip-path=\"url(#clip332)\" cx=\"1227.83\" cy=\"681.981\" r=\"10.8\" fill=\"#ffffff\" fill-rule=\"evenodd\" fill-opacity=\"1\" stroke=\"#000000\" stroke-opacity=\"1\" stroke-width=\"3.2\"/>\n",
       "<circle clip-path=\"url(#clip332)\" cx=\"220.66\" cy=\"1316.37\" r=\"10.8\" fill=\"#ffffff\" fill-rule=\"evenodd\" fill-opacity=\"1\" stroke=\"#000000\" stroke-opacity=\"1\" stroke-width=\"3.2\"/>\n",
       "<circle clip-path=\"url(#clip332)\" cx=\"392.501\" cy=\"1207.68\" r=\"10.8\" fill=\"#ffffff\" fill-rule=\"evenodd\" fill-opacity=\"1\" stroke=\"#000000\" stroke-opacity=\"1\" stroke-width=\"3.2\"/>\n",
       "<circle clip-path=\"url(#clip332)\" cx=\"893.699\" cy=\"892.262\" r=\"10.8\" fill=\"#ffffff\" fill-rule=\"evenodd\" fill-opacity=\"1\" stroke=\"#000000\" stroke-opacity=\"1\" stroke-width=\"3.2\"/>\n",
       "<circle clip-path=\"url(#clip332)\" cx=\"1506.27\" cy=\"506.747\" r=\"10.8\" fill=\"#ffffff\" fill-rule=\"evenodd\" fill-opacity=\"1\" stroke=\"#000000\" stroke-opacity=\"1\" stroke-width=\"3.2\"/>\n",
       "<circle clip-path=\"url(#clip332)\" cx=\"281.125\" cy=\"1277.78\" r=\"10.8\" fill=\"#ffffff\" fill-rule=\"evenodd\" fill-opacity=\"1\" stroke=\"#000000\" stroke-opacity=\"1\" stroke-width=\"3.2\"/>\n",
       "<circle clip-path=\"url(#clip332)\" cx=\"2118.85\" cy=\"121.232\" r=\"10.8\" fill=\"#ffffff\" fill-rule=\"evenodd\" fill-opacity=\"1\" stroke=\"#000000\" stroke-opacity=\"1\" stroke-width=\"3.2\"/>\n",
       "<circle clip-path=\"url(#clip332)\" cx=\"503.878\" cy=\"1137.59\" r=\"10.8\" fill=\"#ffffff\" fill-rule=\"evenodd\" fill-opacity=\"1\" stroke=\"#000000\" stroke-opacity=\"1\" stroke-width=\"3.2\"/>\n",
       "<circle clip-path=\"url(#clip332)\" cx=\"1617.65\" cy=\"436.654\" r=\"10.8\" fill=\"#ffffff\" fill-rule=\"evenodd\" fill-opacity=\"1\" stroke=\"#000000\" stroke-opacity=\"1\" stroke-width=\"3.2\"/>\n",
       "<circle clip-path=\"url(#clip332)\" cx=\"1729.03\" cy=\"366.56\" r=\"10.8\" fill=\"#ffffff\" fill-rule=\"evenodd\" fill-opacity=\"1\" stroke=\"#000000\" stroke-opacity=\"1\" stroke-width=\"3.2\"/>\n",
       "<circle clip-path=\"url(#clip332)\" cx=\"670.944\" cy=\"1032.45\" r=\"10.8\" fill=\"#ffffff\" fill-rule=\"evenodd\" fill-opacity=\"1\" stroke=\"#000000\" stroke-opacity=\"1\" stroke-width=\"3.2\"/>\n",
       "<circle clip-path=\"url(#clip332)\" cx=\"1060.76\" cy=\"787.122\" r=\"10.8\" fill=\"#ffffff\" fill-rule=\"evenodd\" fill-opacity=\"1\" stroke=\"#000000\" stroke-opacity=\"1\" stroke-width=\"3.2\"/>\n",
       "<circle clip-path=\"url(#clip332)\" cx=\"1951.78\" cy=\"226.373\" r=\"10.8\" fill=\"#ffffff\" fill-rule=\"evenodd\" fill-opacity=\"1\" stroke=\"#000000\" stroke-opacity=\"1\" stroke-width=\"3.2\"/>\n",
       "<circle clip-path=\"url(#clip332)\" cx=\"2007.47\" cy=\"191.326\" r=\"10.8\" fill=\"#ffffff\" fill-rule=\"evenodd\" fill-opacity=\"1\" stroke=\"#000000\" stroke-opacity=\"1\" stroke-width=\"3.2\"/>\n",
       "<circle clip-path=\"url(#clip332)\" cx=\"448.19\" cy=\"1172.64\" r=\"10.8\" fill=\"#ffffff\" fill-rule=\"evenodd\" fill-opacity=\"1\" stroke=\"#000000\" stroke-opacity=\"1\" stroke-width=\"3.2\"/>\n",
       "<circle clip-path=\"url(#clip332)\" cx=\"1673.34\" cy=\"401.607\" r=\"10.8\" fill=\"#ffffff\" fill-rule=\"evenodd\" fill-opacity=\"1\" stroke=\"#000000\" stroke-opacity=\"1\" stroke-width=\"3.2\"/>\n",
       "<circle clip-path=\"url(#clip332)\" cx=\"1339.21\" cy=\"611.888\" r=\"10.8\" fill=\"#ffffff\" fill-rule=\"evenodd\" fill-opacity=\"1\" stroke=\"#000000\" stroke-opacity=\"1\" stroke-width=\"3.2\"/>\n",
       "<circle clip-path=\"url(#clip332)\" cx=\"1840.41\" cy=\"296.467\" r=\"10.8\" fill=\"#ffffff\" fill-rule=\"evenodd\" fill-opacity=\"1\" stroke=\"#000000\" stroke-opacity=\"1\" stroke-width=\"3.2\"/>\n",
       "<circle clip-path=\"url(#clip332)\" cx=\"1394.9\" cy=\"576.841\" r=\"10.8\" fill=\"#ffffff\" fill-rule=\"evenodd\" fill-opacity=\"1\" stroke=\"#000000\" stroke-opacity=\"1\" stroke-width=\"3.2\"/>\n",
       "<circle clip-path=\"url(#clip332)\" cx=\"2174.54\" cy=\"86.1857\" r=\"10.8\" fill=\"#ffffff\" fill-rule=\"evenodd\" fill-opacity=\"1\" stroke=\"#000000\" stroke-opacity=\"1\" stroke-width=\"3.2\"/>\n",
       "<circle clip-path=\"url(#clip332)\" cx=\"1116.45\" cy=\"752.075\" r=\"10.8\" fill=\"#ffffff\" fill-rule=\"evenodd\" fill-opacity=\"1\" stroke=\"#000000\" stroke-opacity=\"1\" stroke-width=\"3.2\"/>\n",
       "<circle clip-path=\"url(#clip332)\" cx=\"1172.14\" cy=\"717.028\" r=\"10.8\" fill=\"#ffffff\" fill-rule=\"evenodd\" fill-opacity=\"1\" stroke=\"#000000\" stroke-opacity=\"1\" stroke-width=\"3.2\"/>\n",
       "<circle clip-path=\"url(#clip332)\" cx=\"225.44\" cy=\"1312.82\" r=\"10.8\" fill=\"#ffffff\" fill-rule=\"evenodd\" fill-opacity=\"1\" stroke=\"#000000\" stroke-opacity=\"1\" stroke-width=\"3.2\"/>\n",
       "<circle clip-path=\"url(#clip332)\" cx=\"1005.08\" cy=\"822.169\" r=\"10.8\" fill=\"#ffffff\" fill-rule=\"evenodd\" fill-opacity=\"1\" stroke=\"#000000\" stroke-opacity=\"1\" stroke-width=\"3.2\"/>\n",
       "<circle clip-path=\"url(#clip332)\" cx=\"949.388\" cy=\"857.215\" r=\"10.8\" fill=\"#ffffff\" fill-rule=\"evenodd\" fill-opacity=\"1\" stroke=\"#000000\" stroke-opacity=\"1\" stroke-width=\"3.2\"/>\n",
       "<circle clip-path=\"url(#clip332)\" cx=\"615.256\" cy=\"1067.5\" r=\"10.8\" fill=\"#ffffff\" fill-rule=\"evenodd\" fill-opacity=\"1\" stroke=\"#000000\" stroke-opacity=\"1\" stroke-width=\"3.2\"/>\n",
       "<circle clip-path=\"url(#clip332)\" cx=\"220.661\" cy=\"1316.37\" r=\"10.8\" fill=\"#ffffff\" fill-rule=\"evenodd\" fill-opacity=\"1\" stroke=\"#000000\" stroke-opacity=\"1\" stroke-width=\"3.2\"/>\n",
       "<circle clip-path=\"url(#clip332)\" cx=\"220.664\" cy=\"1316.37\" r=\"10.8\" fill=\"#ffffff\" fill-rule=\"evenodd\" fill-opacity=\"1\" stroke=\"#000000\" stroke-opacity=\"1\" stroke-width=\"3.2\"/>\n",
       "<circle clip-path=\"url(#clip332)\" cx=\"336.813\" cy=\"1242.73\" r=\"10.8\" fill=\"#ffffff\" fill-rule=\"evenodd\" fill-opacity=\"1\" stroke=\"#000000\" stroke-opacity=\"1\" stroke-width=\"3.2\"/>\n",
       "<circle clip-path=\"url(#clip332)\" cx=\"726.633\" cy=\"997.403\" r=\"10.8\" fill=\"#ffffff\" fill-rule=\"evenodd\" fill-opacity=\"1\" stroke=\"#000000\" stroke-opacity=\"1\" stroke-width=\"3.2\"/>\n",
       "<circle clip-path=\"url(#clip332)\" cx=\"782.322\" cy=\"962.356\" r=\"10.8\" fill=\"#ffffff\" fill-rule=\"evenodd\" fill-opacity=\"1\" stroke=\"#000000\" stroke-opacity=\"1\" stroke-width=\"3.2\"/>\n",
       "<circle clip-path=\"url(#clip332)\" cx=\"1784.72\" cy=\"331.513\" r=\"10.8\" fill=\"#ffffff\" fill-rule=\"evenodd\" fill-opacity=\"1\" stroke=\"#000000\" stroke-opacity=\"1\" stroke-width=\"3.2\"/>\n",
       "<polyline clip-path=\"url(#clip332)\" style=\"stroke:#ff0000; stroke-linecap:round; stroke-linejoin:round; stroke-width:16; stroke-opacity:1; fill:none\" points=\"546.313,1384.24 546.313,1384.24 546.321,1382.9 550.487,1347.87 559.449,1312.82 572.451,1277.78 588.852,1242.73 608.22,1207.68 630.141,1172.64 654.517,1137.59 681.461,1102.54 710.876,1067.5 743.765,1032.45 781.242,997.403 822.576,962.356 867.027,927.309 913.997,892.262 963.008,857.215 1013.68,822.169 1065.72,787.122 1118.89,752.075 1173,717.028 1227.92,681.981 1283.78,646.935 1342.69,611.888 1410.51,576.841 1486.64,541.794 1569.68,506.747 1658.43,471.701 1751.9,436.654 1849.28,401.607 1949.9,366.56 2053.24,331.513 2158.86,296.467 \"/>\n",
       "<circle clip-path=\"url(#clip332)\" cx=\"2053.24\" cy=\"331.513\" r=\"10.8\" fill=\"#ffffff\" fill-rule=\"evenodd\" fill-opacity=\"1\" stroke=\"#000000\" stroke-opacity=\"1\" stroke-width=\"3.2\"/>\n",
       "<circle clip-path=\"url(#clip332)\" cx=\"1751.9\" cy=\"436.654\" r=\"10.8\" fill=\"#ffffff\" fill-rule=\"evenodd\" fill-opacity=\"1\" stroke=\"#000000\" stroke-opacity=\"1\" stroke-width=\"3.2\"/>\n",
       "<circle clip-path=\"url(#clip332)\" cx=\"913.997\" cy=\"892.262\" r=\"10.8\" fill=\"#ffffff\" fill-rule=\"evenodd\" fill-opacity=\"1\" stroke=\"#000000\" stroke-opacity=\"1\" stroke-width=\"3.2\"/>\n",
       "<circle clip-path=\"url(#clip332)\" cx=\"1065.72\" cy=\"787.122\" r=\"10.8\" fill=\"#ffffff\" fill-rule=\"evenodd\" fill-opacity=\"1\" stroke=\"#000000\" stroke-opacity=\"1\" stroke-width=\"3.2\"/>\n",
       "<circle clip-path=\"url(#clip332)\" cx=\"822.576\" cy=\"962.356\" r=\"10.8\" fill=\"#ffffff\" fill-rule=\"evenodd\" fill-opacity=\"1\" stroke=\"#000000\" stroke-opacity=\"1\" stroke-width=\"3.2\"/>\n",
       "<circle clip-path=\"url(#clip332)\" cx=\"963.008\" cy=\"857.215\" r=\"10.8\" fill=\"#ffffff\" fill-rule=\"evenodd\" fill-opacity=\"1\" stroke=\"#000000\" stroke-opacity=\"1\" stroke-width=\"3.2\"/>\n",
       "<circle clip-path=\"url(#clip332)\" cx=\"1342.69\" cy=\"611.888\" r=\"10.8\" fill=\"#ffffff\" fill-rule=\"evenodd\" fill-opacity=\"1\" stroke=\"#000000\" stroke-opacity=\"1\" stroke-width=\"3.2\"/>\n",
       "<circle clip-path=\"url(#clip332)\" cx=\"1569.68\" cy=\"506.747\" r=\"10.8\" fill=\"#ffffff\" fill-rule=\"evenodd\" fill-opacity=\"1\" stroke=\"#000000\" stroke-opacity=\"1\" stroke-width=\"3.2\"/>\n",
       "<circle clip-path=\"url(#clip332)\" cx=\"1849.28\" cy=\"401.607\" r=\"10.8\" fill=\"#ffffff\" fill-rule=\"evenodd\" fill-opacity=\"1\" stroke=\"#000000\" stroke-opacity=\"1\" stroke-width=\"3.2\"/>\n",
       "<circle clip-path=\"url(#clip332)\" cx=\"588.852\" cy=\"1242.73\" r=\"10.8\" fill=\"#ffffff\" fill-rule=\"evenodd\" fill-opacity=\"1\" stroke=\"#000000\" stroke-opacity=\"1\" stroke-width=\"3.2\"/>\n",
       "<circle clip-path=\"url(#clip332)\" cx=\"630.141\" cy=\"1172.64\" r=\"10.8\" fill=\"#ffffff\" fill-rule=\"evenodd\" fill-opacity=\"1\" stroke=\"#000000\" stroke-opacity=\"1\" stroke-width=\"3.2\"/>\n",
       "<circle clip-path=\"url(#clip332)\" cx=\"1949.9\" cy=\"366.56\" r=\"10.8\" fill=\"#ffffff\" fill-rule=\"evenodd\" fill-opacity=\"1\" stroke=\"#000000\" stroke-opacity=\"1\" stroke-width=\"3.2\"/>\n",
       "<circle clip-path=\"url(#clip332)\" cx=\"1410.51\" cy=\"576.841\" r=\"10.8\" fill=\"#ffffff\" fill-rule=\"evenodd\" fill-opacity=\"1\" stroke=\"#000000\" stroke-opacity=\"1\" stroke-width=\"3.2\"/>\n",
       "<circle clip-path=\"url(#clip332)\" cx=\"1118.89\" cy=\"752.075\" r=\"10.8\" fill=\"#ffffff\" fill-rule=\"evenodd\" fill-opacity=\"1\" stroke=\"#000000\" stroke-opacity=\"1\" stroke-width=\"3.2\"/>\n",
       "<circle clip-path=\"url(#clip332)\" cx=\"743.765\" cy=\"1032.45\" r=\"10.8\" fill=\"#ffffff\" fill-rule=\"evenodd\" fill-opacity=\"1\" stroke=\"#000000\" stroke-opacity=\"1\" stroke-width=\"3.2\"/>\n",
       "<circle clip-path=\"url(#clip332)\" cx=\"1173\" cy=\"717.028\" r=\"10.8\" fill=\"#ffffff\" fill-rule=\"evenodd\" fill-opacity=\"1\" stroke=\"#000000\" stroke-opacity=\"1\" stroke-width=\"3.2\"/>\n",
       "<circle clip-path=\"url(#clip332)\" cx=\"1486.64\" cy=\"541.794\" r=\"10.8\" fill=\"#ffffff\" fill-rule=\"evenodd\" fill-opacity=\"1\" stroke=\"#000000\" stroke-opacity=\"1\" stroke-width=\"3.2\"/>\n",
       "<circle clip-path=\"url(#clip332)\" cx=\"2158.86\" cy=\"296.467\" r=\"10.8\" fill=\"#ffffff\" fill-rule=\"evenodd\" fill-opacity=\"1\" stroke=\"#000000\" stroke-opacity=\"1\" stroke-width=\"3.2\"/>\n",
       "<circle clip-path=\"url(#clip332)\" cx=\"572.451\" cy=\"1277.78\" r=\"10.8\" fill=\"#ffffff\" fill-rule=\"evenodd\" fill-opacity=\"1\" stroke=\"#000000\" stroke-opacity=\"1\" stroke-width=\"3.2\"/>\n",
       "<circle clip-path=\"url(#clip332)\" cx=\"1658.43\" cy=\"471.701\" r=\"10.8\" fill=\"#ffffff\" fill-rule=\"evenodd\" fill-opacity=\"1\" stroke=\"#000000\" stroke-opacity=\"1\" stroke-width=\"3.2\"/>\n",
       "<circle clip-path=\"url(#clip332)\" cx=\"550.487\" cy=\"1347.87\" r=\"10.8\" fill=\"#ffffff\" fill-rule=\"evenodd\" fill-opacity=\"1\" stroke=\"#000000\" stroke-opacity=\"1\" stroke-width=\"3.2\"/>\n",
       "<circle clip-path=\"url(#clip332)\" cx=\"546.313\" cy=\"1384.24\" r=\"10.8\" fill=\"#ffffff\" fill-rule=\"evenodd\" fill-opacity=\"1\" stroke=\"#000000\" stroke-opacity=\"1\" stroke-width=\"3.2\"/>\n",
       "<circle clip-path=\"url(#clip332)\" cx=\"546.321\" cy=\"1382.9\" r=\"10.8\" fill=\"#ffffff\" fill-rule=\"evenodd\" fill-opacity=\"1\" stroke=\"#000000\" stroke-opacity=\"1\" stroke-width=\"3.2\"/>\n",
       "<circle clip-path=\"url(#clip332)\" cx=\"710.876\" cy=\"1067.5\" r=\"10.8\" fill=\"#ffffff\" fill-rule=\"evenodd\" fill-opacity=\"1\" stroke=\"#000000\" stroke-opacity=\"1\" stroke-width=\"3.2\"/>\n",
       "<circle clip-path=\"url(#clip332)\" cx=\"1013.68\" cy=\"822.169\" r=\"10.8\" fill=\"#ffffff\" fill-rule=\"evenodd\" fill-opacity=\"1\" stroke=\"#000000\" stroke-opacity=\"1\" stroke-width=\"3.2\"/>\n",
       "<circle clip-path=\"url(#clip332)\" cx=\"546.313\" cy=\"1384.24\" r=\"10.8\" fill=\"#ffffff\" fill-rule=\"evenodd\" fill-opacity=\"1\" stroke=\"#000000\" stroke-opacity=\"1\" stroke-width=\"3.2\"/>\n",
       "<circle clip-path=\"url(#clip332)\" cx=\"654.517\" cy=\"1137.59\" r=\"10.8\" fill=\"#ffffff\" fill-rule=\"evenodd\" fill-opacity=\"1\" stroke=\"#000000\" stroke-opacity=\"1\" stroke-width=\"3.2\"/>\n",
       "<circle clip-path=\"url(#clip332)\" cx=\"559.449\" cy=\"1312.82\" r=\"10.8\" fill=\"#ffffff\" fill-rule=\"evenodd\" fill-opacity=\"1\" stroke=\"#000000\" stroke-opacity=\"1\" stroke-width=\"3.2\"/>\n",
       "<circle clip-path=\"url(#clip332)\" cx=\"608.22\" cy=\"1207.68\" r=\"10.8\" fill=\"#ffffff\" fill-rule=\"evenodd\" fill-opacity=\"1\" stroke=\"#000000\" stroke-opacity=\"1\" stroke-width=\"3.2\"/>\n",
       "<circle clip-path=\"url(#clip332)\" cx=\"681.461\" cy=\"1102.54\" r=\"10.8\" fill=\"#ffffff\" fill-rule=\"evenodd\" fill-opacity=\"1\" stroke=\"#000000\" stroke-opacity=\"1\" stroke-width=\"3.2\"/>\n",
       "<circle clip-path=\"url(#clip332)\" cx=\"867.027\" cy=\"927.309\" r=\"10.8\" fill=\"#ffffff\" fill-rule=\"evenodd\" fill-opacity=\"1\" stroke=\"#000000\" stroke-opacity=\"1\" stroke-width=\"3.2\"/>\n",
       "<circle clip-path=\"url(#clip332)\" cx=\"1227.92\" cy=\"681.981\" r=\"10.8\" fill=\"#ffffff\" fill-rule=\"evenodd\" fill-opacity=\"1\" stroke=\"#000000\" stroke-opacity=\"1\" stroke-width=\"3.2\"/>\n",
       "<circle clip-path=\"url(#clip332)\" cx=\"1283.78\" cy=\"646.935\" r=\"10.8\" fill=\"#ffffff\" fill-rule=\"evenodd\" fill-opacity=\"1\" stroke=\"#000000\" stroke-opacity=\"1\" stroke-width=\"3.2\"/>\n",
       "<circle clip-path=\"url(#clip332)\" cx=\"781.242\" cy=\"997.403\" r=\"10.8\" fill=\"#ffffff\" fill-rule=\"evenodd\" fill-opacity=\"1\" stroke=\"#000000\" stroke-opacity=\"1\" stroke-width=\"3.2\"/>\n",
       "<path clip-path=\"url(#clip330)\" d=\"M290.963 248.629 L1170.38 248.629 L1170.38 93.1086 L290.963 93.1086  Z\" fill=\"#ffffff\" fill-rule=\"evenodd\" fill-opacity=\"1\"/>\n",
       "<polyline clip-path=\"url(#clip330)\" style=\"stroke:#000000; stroke-linecap:round; stroke-linejoin:round; stroke-width:4; stroke-opacity:1; fill:none\" points=\"290.963,248.629 1170.38,248.629 1170.38,93.1086 290.963,93.1086 290.963,248.629 \"/>\n",
       "<polyline clip-path=\"url(#clip330)\" style=\"stroke:#808080; stroke-linecap:round; stroke-linejoin:round; stroke-width:16; stroke-opacity:1; fill:none\" points=\"314.661,144.949 456.854,144.949 \"/>\n",
       "<path clip-path=\"url(#clip330)\" d=\"M508.423 130.331 L508.423 135.261 Q506.062 133.062 503.377 131.974 Q500.715 130.886 497.705 130.886 Q491.78 130.886 488.631 134.52 Q485.483 138.132 485.483 144.983 Q485.483 151.812 488.631 155.446 Q491.78 159.057 497.705 159.057 Q500.715 159.057 503.377 157.969 Q506.062 156.881 508.423 154.682 L508.423 159.567 Q505.969 161.233 503.215 162.067 Q500.483 162.9 497.428 162.9 Q489.581 162.9 485.067 158.108 Q480.553 153.293 480.553 144.983 Q480.553 136.65 485.067 131.858 Q489.581 127.044 497.428 127.044 Q500.53 127.044 503.261 127.877 Q506.016 128.687 508.423 130.331 Z\" fill=\"#000000\" fill-rule=\"nonzero\" fill-opacity=\"1\" /><path clip-path=\"url(#clip330)\" d=\"M527.242 149.196 Q522.08 149.196 520.09 150.377 Q518.099 151.557 518.099 154.405 Q518.099 156.673 519.58 158.016 Q521.085 159.335 523.654 159.335 Q527.196 159.335 529.326 156.835 Q531.478 154.312 531.478 150.145 L531.478 149.196 L527.242 149.196 M535.738 147.437 L535.738 162.229 L531.478 162.229 L531.478 158.293 Q530.02 160.655 527.844 161.789 Q525.668 162.9 522.52 162.9 Q518.539 162.9 516.178 160.678 Q513.84 158.432 513.84 154.682 Q513.84 150.307 516.756 148.085 Q519.696 145.863 525.506 145.863 L531.478 145.863 L531.478 145.446 Q531.478 142.507 529.534 140.909 Q527.613 139.289 524.117 139.289 Q521.895 139.289 519.789 139.821 Q517.682 140.354 515.738 141.419 L515.738 137.483 Q518.076 136.581 520.275 136.141 Q522.474 135.678 524.557 135.678 Q530.182 135.678 532.96 138.594 Q535.738 141.511 535.738 147.437 Z\" fill=\"#000000\" fill-rule=\"nonzero\" fill-opacity=\"1\" /><path clip-path=\"url(#clip330)\" d=\"M548.631 158.34 L548.631 172.09 L544.349 172.09 L544.349 136.303 L548.631 136.303 L548.631 140.238 Q549.974 137.923 552.011 136.812 Q554.071 135.678 556.918 135.678 Q561.64 135.678 564.58 139.428 Q567.543 143.178 567.543 149.289 Q567.543 155.4 564.58 159.15 Q561.64 162.9 556.918 162.9 Q554.071 162.9 552.011 161.789 Q549.974 160.655 548.631 158.34 M563.122 149.289 Q563.122 144.59 561.177 141.928 Q559.256 139.243 555.876 139.243 Q552.497 139.243 550.552 141.928 Q548.631 144.59 548.631 149.289 Q548.631 153.988 550.552 156.673 Q552.497 159.335 555.876 159.335 Q559.256 159.335 561.177 156.673 Q563.122 153.988 563.122 149.289 Z\" fill=\"#000000\" fill-rule=\"nonzero\" fill-opacity=\"1\" /><path clip-path=\"url(#clip330)\" d=\"M574.603 136.303 L578.862 136.303 L578.862 162.229 L574.603 162.229 L574.603 136.303 M574.603 126.21 L578.862 126.21 L578.862 131.604 L574.603 131.604 L574.603 126.21 Z\" fill=\"#000000\" fill-rule=\"nonzero\" fill-opacity=\"1\" /><path clip-path=\"url(#clip330)\" d=\"M591.987 128.942 L591.987 136.303 L600.76 136.303 L600.76 139.613 L591.987 139.613 L591.987 153.687 Q591.987 156.858 592.844 157.761 Q593.723 158.664 596.385 158.664 L600.76 158.664 L600.76 162.229 L596.385 162.229 Q591.455 162.229 589.58 160.4 Q587.705 158.548 587.705 153.687 L587.705 139.613 L584.58 139.613 L584.58 136.303 L587.705 136.303 L587.705 128.942 L591.987 128.942 Z\" fill=\"#000000\" fill-rule=\"nonzero\" fill-opacity=\"1\" /><path clip-path=\"url(#clip330)\" d=\"M618.145 149.196 Q612.983 149.196 610.992 150.377 Q609.001 151.557 609.001 154.405 Q609.001 156.673 610.483 158.016 Q611.987 159.335 614.557 159.335 Q618.098 159.335 620.228 156.835 Q622.381 154.312 622.381 150.145 L622.381 149.196 L618.145 149.196 M626.64 147.437 L626.64 162.229 L622.381 162.229 L622.381 158.293 Q620.922 160.655 618.746 161.789 Q616.571 162.9 613.422 162.9 Q609.441 162.9 607.08 160.678 Q604.742 158.432 604.742 154.682 Q604.742 150.307 607.659 148.085 Q610.598 145.863 616.409 145.863 L622.381 145.863 L622.381 145.446 Q622.381 142.507 620.436 140.909 Q618.515 139.289 615.02 139.289 Q612.797 139.289 610.691 139.821 Q608.584 140.354 606.64 141.419 L606.64 137.483 Q608.978 136.581 611.177 136.141 Q613.376 135.678 615.459 135.678 Q621.084 135.678 623.862 138.594 Q626.64 141.511 626.64 147.437 Z\" fill=\"#000000\" fill-rule=\"nonzero\" fill-opacity=\"1\" /><path clip-path=\"url(#clip330)\" d=\"M635.413 126.21 L639.672 126.21 L639.672 162.229 L635.413 162.229 L635.413 126.21 Z\" fill=\"#000000\" fill-rule=\"nonzero\" fill-opacity=\"1\" /><path clip-path=\"url(#clip330)\" d=\"M675.39 132.275 L669.047 149.474 L681.755 149.474 L675.39 132.275 M672.751 127.669 L678.052 127.669 L691.223 162.229 L686.362 162.229 L683.214 153.363 L667.635 153.363 L664.487 162.229 L659.556 162.229 L672.751 127.669 Z\" fill=\"#000000\" fill-rule=\"nonzero\" fill-opacity=\"1\" /><path clip-path=\"url(#clip330)\" d=\"M696.084 126.21 L700.343 126.21 L700.343 162.229 L696.084 162.229 L696.084 126.21 Z\" fill=\"#000000\" fill-rule=\"nonzero\" fill-opacity=\"1\" /><path clip-path=\"url(#clip330)\" d=\"M709.255 126.21 L713.514 126.21 L713.514 162.229 L709.255 162.229 L709.255 126.21 Z\" fill=\"#000000\" fill-rule=\"nonzero\" fill-opacity=\"1\" /><path clip-path=\"url(#clip330)\" d=\"M732.473 139.289 Q729.047 139.289 727.056 141.974 Q725.065 144.636 725.065 149.289 Q725.065 153.942 727.033 156.627 Q729.024 159.289 732.473 159.289 Q735.875 159.289 737.866 156.604 Q739.857 153.918 739.857 149.289 Q739.857 144.682 737.866 141.997 Q735.875 139.289 732.473 139.289 M732.473 135.678 Q738.028 135.678 741.2 139.289 Q744.371 142.9 744.371 149.289 Q744.371 155.655 741.2 159.289 Q738.028 162.9 732.473 162.9 Q726.894 162.9 723.723 159.289 Q720.575 155.655 720.575 149.289 Q720.575 142.9 723.723 139.289 Q726.894 135.678 732.473 135.678 Z\" fill=\"#000000\" fill-rule=\"nonzero\" fill-opacity=\"1\" /><path clip-path=\"url(#clip330)\" d=\"M770.088 137.298 L770.088 141.28 Q768.283 140.284 766.454 139.798 Q764.648 139.289 762.797 139.289 Q758.653 139.289 756.361 141.928 Q754.07 144.544 754.07 149.289 Q754.07 154.034 756.361 156.673 Q758.653 159.289 762.797 159.289 Q764.648 159.289 766.454 158.803 Q768.283 158.293 770.088 157.298 L770.088 161.233 Q768.306 162.067 766.385 162.483 Q764.486 162.9 762.334 162.9 Q756.477 162.9 753.028 159.219 Q749.579 155.539 749.579 149.289 Q749.579 142.946 753.051 139.312 Q756.547 135.678 762.611 135.678 Q764.579 135.678 766.454 136.095 Q768.329 136.488 770.088 137.298 Z\" fill=\"#000000\" fill-rule=\"nonzero\" fill-opacity=\"1\" /><path clip-path=\"url(#clip330)\" d=\"M789.278 149.196 Q784.116 149.196 782.125 150.377 Q780.135 151.557 780.135 154.405 Q780.135 156.673 781.616 158.016 Q783.121 159.335 785.69 159.335 Q789.232 159.335 791.361 156.835 Q793.514 154.312 793.514 150.145 L793.514 149.196 L789.278 149.196 M797.773 147.437 L797.773 162.229 L793.514 162.229 L793.514 158.293 Q792.056 160.655 789.88 161.789 Q787.704 162.9 784.556 162.9 Q780.574 162.9 778.213 160.678 Q775.875 158.432 775.875 154.682 Q775.875 150.307 778.792 148.085 Q781.732 145.863 787.542 145.863 L793.514 145.863 L793.514 145.446 Q793.514 142.507 791.57 140.909 Q789.648 139.289 786.153 139.289 Q783.931 139.289 781.824 139.821 Q779.718 140.354 777.773 141.419 L777.773 137.483 Q780.111 136.581 782.31 136.141 Q784.509 135.678 786.593 135.678 Q792.218 135.678 794.996 138.594 Q797.773 141.511 797.773 147.437 Z\" fill=\"#000000\" fill-rule=\"nonzero\" fill-opacity=\"1\" /><path clip-path=\"url(#clip330)\" d=\"M810.759 128.942 L810.759 136.303 L819.532 136.303 L819.532 139.613 L810.759 139.613 L810.759 153.687 Q810.759 156.858 811.616 157.761 Q812.495 158.664 815.157 158.664 L819.532 158.664 L819.532 162.229 L815.157 162.229 Q810.227 162.229 808.352 160.4 Q806.477 158.548 806.477 153.687 L806.477 139.613 L803.352 139.613 L803.352 136.303 L806.477 136.303 L806.477 128.942 L810.759 128.942 Z\" fill=\"#000000\" fill-rule=\"nonzero\" fill-opacity=\"1\" /><path clip-path=\"url(#clip330)\" d=\"M825.134 136.303 L829.394 136.303 L829.394 162.229 L825.134 162.229 L825.134 136.303 M825.134 126.21 L829.394 126.21 L829.394 131.604 L825.134 131.604 L825.134 126.21 Z\" fill=\"#000000\" fill-rule=\"nonzero\" fill-opacity=\"1\" /><path clip-path=\"url(#clip330)\" d=\"M848.352 139.289 Q844.926 139.289 842.935 141.974 Q840.944 144.636 840.944 149.289 Q840.944 153.942 842.912 156.627 Q844.903 159.289 848.352 159.289 Q851.754 159.289 853.745 156.604 Q855.736 153.918 855.736 149.289 Q855.736 144.682 853.745 141.997 Q851.754 139.289 848.352 139.289 M848.352 135.678 Q853.907 135.678 857.079 139.289 Q860.25 142.9 860.25 149.289 Q860.25 155.655 857.079 159.289 Q853.907 162.9 848.352 162.9 Q842.773 162.9 839.602 159.289 Q836.454 155.655 836.454 149.289 Q836.454 142.9 839.602 139.289 Q842.773 135.678 848.352 135.678 Z\" fill=\"#000000\" fill-rule=\"nonzero\" fill-opacity=\"1\" /><path clip-path=\"url(#clip330)\" d=\"M888.861 146.581 L888.861 162.229 L884.602 162.229 L884.602 146.719 Q884.602 143.039 883.166 141.21 Q881.731 139.382 878.861 139.382 Q875.412 139.382 873.421 141.581 Q871.43 143.78 871.43 147.576 L871.43 162.229 L867.148 162.229 L867.148 136.303 L871.43 136.303 L871.43 140.331 Q872.958 137.993 875.018 136.835 Q877.102 135.678 879.81 135.678 Q884.277 135.678 886.569 138.456 Q888.861 141.21 888.861 146.581 Z\" fill=\"#000000\" fill-rule=\"nonzero\" fill-opacity=\"1\" /><path clip-path=\"url(#clip330)\" d=\"M912.611 127.669 L917.287 127.669 L917.287 158.293 L934.115 158.293 L934.115 162.229 L912.611 162.229 L912.611 127.669 Z\" fill=\"#000000\" fill-rule=\"nonzero\" fill-opacity=\"1\" /><path clip-path=\"url(#clip330)\" d=\"M938.837 136.303 L943.097 136.303 L943.097 162.229 L938.837 162.229 L938.837 136.303 M938.837 126.21 L943.097 126.21 L943.097 131.604 L938.837 131.604 L938.837 126.21 Z\" fill=\"#000000\" fill-rule=\"nonzero\" fill-opacity=\"1\" /><path clip-path=\"url(#clip330)\" d=\"M973.559 146.581 L973.559 162.229 L969.3 162.229 L969.3 146.719 Q969.3 143.039 967.865 141.21 Q966.43 139.382 963.559 139.382 Q960.11 139.382 958.12 141.581 Q956.129 143.78 956.129 147.576 L956.129 162.229 L951.847 162.229 L951.847 136.303 L956.129 136.303 L956.129 140.331 Q957.657 137.993 959.717 136.835 Q961.8 135.678 964.509 135.678 Q968.976 135.678 971.268 138.456 Q973.559 141.21 973.559 146.581 Z\" fill=\"#000000\" fill-rule=\"nonzero\" fill-opacity=\"1\" /><path clip-path=\"url(#clip330)\" d=\"M1004.23 148.201 L1004.23 150.284 L984.647 150.284 Q984.925 154.682 987.286 156.997 Q989.67 159.289 993.907 159.289 Q996.36 159.289 998.652 158.687 Q1000.97 158.085 1003.24 156.881 L1003.24 160.909 Q1000.94 161.881 998.536 162.391 Q996.129 162.9 993.652 162.9 Q987.448 162.9 983.814 159.289 Q980.203 155.678 980.203 149.52 Q980.203 143.155 983.629 139.428 Q987.078 135.678 992.911 135.678 Q998.143 135.678 1001.17 139.057 Q1004.23 142.414 1004.23 148.201 M999.971 146.951 Q999.925 143.456 998.004 141.372 Q996.106 139.289 992.957 139.289 Q989.393 139.289 987.24 141.303 Q985.11 143.317 984.786 146.974 L999.971 146.951 Z\" fill=\"#000000\" fill-rule=\"nonzero\" fill-opacity=\"1\" /><path clip-path=\"url(#clip330)\" d=\"M1036.52 126.257 Q1033.42 131.581 1031.92 136.789 Q1030.41 141.997 1030.41 147.344 Q1030.41 152.692 1031.92 157.946 Q1033.44 163.178 1036.52 168.479 L1032.82 168.479 Q1029.35 163.039 1027.61 157.784 Q1025.9 152.53 1025.9 147.344 Q1025.9 142.182 1027.61 136.951 Q1029.32 131.72 1032.82 126.257 L1036.52 126.257 Z\" fill=\"#000000\" fill-rule=\"nonzero\" fill-opacity=\"1\" /><path clip-path=\"url(#clip330)\" d=\"M1070.85 130.331 L1070.85 135.261 Q1068.49 133.062 1065.8 131.974 Q1063.14 130.886 1060.13 130.886 Q1054.21 130.886 1051.06 134.52 Q1047.91 138.132 1047.91 144.983 Q1047.91 151.812 1051.06 155.446 Q1054.21 159.057 1060.13 159.057 Q1063.14 159.057 1065.8 157.969 Q1068.49 156.881 1070.85 154.682 L1070.85 159.567 Q1068.4 161.233 1065.64 162.067 Q1062.91 162.9 1059.86 162.9 Q1052.01 162.9 1047.49 158.108 Q1042.98 153.293 1042.98 144.983 Q1042.98 136.65 1047.49 131.858 Q1052.01 127.044 1059.86 127.044 Q1062.96 127.044 1065.69 127.877 Q1068.44 128.687 1070.85 130.331 Z\" fill=\"#000000\" fill-rule=\"nonzero\" fill-opacity=\"1\" /><path clip-path=\"url(#clip330)\" d=\"M1089.62 132.275 L1083.28 149.474 L1095.99 149.474 L1089.62 132.275 M1086.98 127.669 L1092.29 127.669 L1105.46 162.229 L1100.6 162.229 L1097.45 153.363 L1081.87 153.363 L1078.72 162.229 L1073.79 162.229 L1086.98 127.669 Z\" fill=\"#000000\" fill-rule=\"nonzero\" fill-opacity=\"1\" /><path clip-path=\"url(#clip330)\" d=\"M1110.5 127.669 L1115.18 127.669 L1115.18 158.293 L1132.01 158.293 L1132.01 162.229 L1110.5 162.229 L1110.5 127.669 Z\" fill=\"#000000\" fill-rule=\"nonzero\" fill-opacity=\"1\" /><path clip-path=\"url(#clip330)\" d=\"M1136.06 126.257 L1139.76 126.257 Q1143.23 131.72 1144.95 136.951 Q1146.68 142.182 1146.68 147.344 Q1146.68 152.53 1144.95 157.784 Q1143.23 163.039 1139.76 168.479 L1136.06 168.479 Q1139.14 163.178 1140.64 157.946 Q1142.17 152.692 1142.17 147.344 Q1142.17 141.997 1140.64 136.789 Q1139.14 131.581 1136.06 126.257 Z\" fill=\"#000000\" fill-rule=\"nonzero\" fill-opacity=\"1\" /><polyline clip-path=\"url(#clip330)\" style=\"stroke:#ff0000; stroke-linecap:round; stroke-linejoin:round; stroke-width:16; stroke-opacity:1; fill:none\" points=\"314.661,196.789 456.854,196.789 \"/>\n",
       "<path clip-path=\"url(#clip330)\" d=\"M480.553 179.509 L502.405 179.509 L502.405 183.444 L485.229 183.444 L485.229 193.675 L501.687 193.675 L501.687 197.61 L485.229 197.61 L485.229 210.133 L502.821 210.133 L502.821 214.069 L480.553 214.069 L480.553 179.509 Z\" fill=\"#000000\" fill-rule=\"nonzero\" fill-opacity=\"1\" /><path clip-path=\"url(#clip330)\" d=\"M523.446 178.05 L523.446 181.592 L519.372 181.592 Q517.08 181.592 516.178 182.518 Q515.298 183.444 515.298 185.851 L515.298 188.143 L522.312 188.143 L522.312 191.453 L515.298 191.453 L515.298 214.069 L511.016 214.069 L511.016 191.453 L506.942 191.453 L506.942 188.143 L511.016 188.143 L511.016 186.337 Q511.016 182.009 513.029 180.041 Q515.043 178.05 519.418 178.05 L523.446 178.05 Z\" fill=\"#000000\" fill-rule=\"nonzero\" fill-opacity=\"1\" /><path clip-path=\"url(#clip330)\" d=\"M540.136 178.05 L540.136 181.592 L536.062 181.592 Q533.77 181.592 532.867 182.518 Q531.988 183.444 531.988 185.851 L531.988 188.143 L539.002 188.143 L539.002 191.453 L531.988 191.453 L531.988 214.069 L527.705 214.069 L527.705 191.453 L523.631 191.453 L523.631 188.143 L527.705 188.143 L527.705 186.337 Q527.705 182.009 529.719 180.041 Q531.733 178.05 536.108 178.05 L540.136 178.05 Z\" fill=\"#000000\" fill-rule=\"nonzero\" fill-opacity=\"1\" /><path clip-path=\"url(#clip330)\" d=\"M543.701 188.143 L547.96 188.143 L547.96 214.069 L543.701 214.069 L543.701 188.143 M543.701 178.05 L547.96 178.05 L547.96 183.444 L543.701 183.444 L543.701 178.05 Z\" fill=\"#000000\" fill-rule=\"nonzero\" fill-opacity=\"1\" /><path clip-path=\"url(#clip330)\" d=\"M575.529 189.138 L575.529 193.12 Q573.724 192.124 571.895 191.638 Q570.089 191.129 568.237 191.129 Q564.094 191.129 561.802 193.768 Q559.511 196.384 559.511 201.129 Q559.511 205.874 561.802 208.513 Q564.094 211.129 568.237 211.129 Q570.089 211.129 571.895 210.643 Q573.724 210.133 575.529 209.138 L575.529 213.073 Q573.747 213.907 571.825 214.323 Q569.927 214.74 567.775 214.74 Q561.918 214.74 558.469 211.059 Q555.02 207.379 555.02 201.129 Q555.02 194.786 558.492 191.152 Q561.988 187.518 568.052 187.518 Q570.02 187.518 571.895 187.935 Q573.77 188.328 575.529 189.138 Z\" fill=\"#000000\" fill-rule=\"nonzero\" fill-opacity=\"1\" /><path clip-path=\"url(#clip330)\" d=\"M582.936 188.143 L587.196 188.143 L587.196 214.069 L582.936 214.069 L582.936 188.143 M582.936 178.05 L587.196 178.05 L587.196 183.444 L582.936 183.444 L582.936 178.05 Z\" fill=\"#000000\" fill-rule=\"nonzero\" fill-opacity=\"1\" /><path clip-path=\"url(#clip330)\" d=\"M618.284 200.041 L618.284 202.124 L598.7 202.124 Q598.978 206.522 601.339 208.837 Q603.723 211.129 607.96 211.129 Q610.413 211.129 612.705 210.527 Q615.02 209.925 617.288 208.721 L617.288 212.749 Q614.997 213.721 612.589 214.231 Q610.182 214.74 607.705 214.74 Q601.501 214.74 597.867 211.129 Q594.256 207.518 594.256 201.36 Q594.256 194.995 597.682 191.268 Q601.131 187.518 606.964 187.518 Q612.196 187.518 615.228 190.897 Q618.284 194.254 618.284 200.041 M614.024 198.791 Q613.978 195.296 612.057 193.212 Q610.159 191.129 607.01 191.129 Q603.446 191.129 601.293 193.143 Q599.163 195.157 598.839 198.814 L614.024 198.791 Z\" fill=\"#000000\" fill-rule=\"nonzero\" fill-opacity=\"1\" /><path clip-path=\"url(#clip330)\" d=\"M646.825 198.421 L646.825 214.069 L642.566 214.069 L642.566 198.559 Q642.566 194.879 641.131 193.05 Q639.695 191.222 636.825 191.222 Q633.376 191.222 631.385 193.421 Q629.395 195.62 629.395 199.416 L629.395 214.069 L625.112 214.069 L625.112 188.143 L629.395 188.143 L629.395 192.171 Q630.922 189.833 632.983 188.675 Q635.066 187.518 637.774 187.518 Q642.242 187.518 644.533 190.296 Q646.825 193.05 646.825 198.421 Z\" fill=\"#000000\" fill-rule=\"nonzero\" fill-opacity=\"1\" /><path clip-path=\"url(#clip330)\" d=\"M659.533 180.782 L659.533 188.143 L668.306 188.143 L668.306 191.453 L659.533 191.453 L659.533 205.527 Q659.533 208.698 660.39 209.601 Q661.269 210.504 663.931 210.504 L668.306 210.504 L668.306 214.069 L663.931 214.069 Q659.001 214.069 657.126 212.24 Q655.251 210.388 655.251 205.527 L655.251 191.453 L652.126 191.453 L652.126 188.143 L655.251 188.143 L655.251 180.782 L659.533 180.782 Z\" fill=\"#000000\" fill-rule=\"nonzero\" fill-opacity=\"1\" /><path clip-path=\"url(#clip330)\" d=\"M689.163 179.509 L709.024 179.509 L709.024 183.444 L693.839 183.444 L693.839 193.629 L707.542 193.629 L707.542 197.564 L693.839 197.564 L693.839 214.069 L689.163 214.069 L689.163 179.509 Z\" fill=\"#000000\" fill-rule=\"nonzero\" fill-opacity=\"1\" /><path clip-path=\"url(#clip330)\" d=\"M727.82 192.124 Q727.102 191.708 726.246 191.522 Q725.413 191.314 724.394 191.314 Q720.783 191.314 718.839 193.675 Q716.917 196.013 716.917 200.411 L716.917 214.069 L712.635 214.069 L712.635 188.143 L716.917 188.143 L716.917 192.171 Q718.26 189.809 720.413 188.675 Q722.565 187.518 725.644 187.518 Q726.084 187.518 726.616 187.587 Q727.149 187.634 727.797 187.749 L727.82 192.124 Z\" fill=\"#000000\" fill-rule=\"nonzero\" fill-opacity=\"1\" /><path clip-path=\"url(#clip330)\" d=\"M741.292 191.129 Q737.866 191.129 735.875 193.814 Q733.885 196.476 733.885 201.129 Q733.885 205.782 735.852 208.467 Q737.843 211.129 741.292 211.129 Q744.695 211.129 746.686 208.444 Q748.676 205.758 748.676 201.129 Q748.676 196.522 746.686 193.837 Q744.695 191.129 741.292 191.129 M741.292 187.518 Q746.848 187.518 750.019 191.129 Q753.19 194.74 753.19 201.129 Q753.19 207.495 750.019 211.129 Q746.848 214.74 741.292 214.74 Q735.713 214.74 732.542 211.129 Q729.394 207.495 729.394 201.129 Q729.394 194.74 732.542 191.129 Q735.713 187.518 741.292 187.518 Z\" fill=\"#000000\" fill-rule=\"nonzero\" fill-opacity=\"1\" /><path clip-path=\"url(#clip330)\" d=\"M781.801 198.421 L781.801 214.069 L777.542 214.069 L777.542 198.559 Q777.542 194.879 776.107 193.05 Q774.672 191.222 771.801 191.222 Q768.352 191.222 766.361 193.421 Q764.371 195.62 764.371 199.416 L764.371 214.069 L760.088 214.069 L760.088 188.143 L764.371 188.143 L764.371 192.171 Q765.898 189.833 767.959 188.675 Q770.042 187.518 772.75 187.518 Q777.218 187.518 779.51 190.296 Q781.801 193.05 781.801 198.421 Z\" fill=\"#000000\" fill-rule=\"nonzero\" fill-opacity=\"1\" /><path clip-path=\"url(#clip330)\" d=\"M794.509 180.782 L794.509 188.143 L803.283 188.143 L803.283 191.453 L794.509 191.453 L794.509 205.527 Q794.509 208.698 795.366 209.601 Q796.246 210.504 798.908 210.504 L803.283 210.504 L803.283 214.069 L798.908 214.069 Q793.977 214.069 792.102 212.24 Q790.227 210.388 790.227 205.527 L790.227 191.453 L787.102 191.453 L787.102 188.143 L790.227 188.143 L790.227 180.782 L794.509 180.782 Z\" fill=\"#000000\" fill-rule=\"nonzero\" fill-opacity=\"1\" /><path clip-path=\"url(#clip330)\" d=\"M808.884 188.143 L813.144 188.143 L813.144 214.069 L808.884 214.069 L808.884 188.143 M808.884 178.05 L813.144 178.05 L813.144 183.444 L808.884 183.444 L808.884 178.05 Z\" fill=\"#000000\" fill-rule=\"nonzero\" fill-opacity=\"1\" /><path clip-path=\"url(#clip330)\" d=\"M844.231 200.041 L844.231 202.124 L824.648 202.124 Q824.926 206.522 827.287 208.837 Q829.671 211.129 833.907 211.129 Q836.361 211.129 838.653 210.527 Q840.968 209.925 843.236 208.721 L843.236 212.749 Q840.944 213.721 838.537 214.231 Q836.13 214.74 833.653 214.74 Q827.449 214.74 823.815 211.129 Q820.204 207.518 820.204 201.36 Q820.204 194.995 823.63 191.268 Q827.079 187.518 832.912 187.518 Q838.143 187.518 841.176 190.897 Q844.231 194.254 844.231 200.041 M839.972 198.791 Q839.926 195.296 838.005 193.212 Q836.106 191.129 832.958 191.129 Q829.394 191.129 827.241 193.143 Q825.111 195.157 824.787 198.814 L839.972 198.791 Z\" fill=\"#000000\" fill-rule=\"nonzero\" fill-opacity=\"1\" /><path clip-path=\"url(#clip330)\" d=\"M866.245 192.124 Q865.528 191.708 864.671 191.522 Q863.838 191.314 862.819 191.314 Q859.208 191.314 857.264 193.675 Q855.342 196.013 855.342 200.411 L855.342 214.069 L851.06 214.069 L851.06 188.143 L855.342 188.143 L855.342 192.171 Q856.685 189.809 858.838 188.675 Q860.991 187.518 864.069 187.518 Q864.509 187.518 865.041 187.587 Q865.574 187.634 866.222 187.749 L866.245 192.124 Z\" fill=\"#000000\" fill-rule=\"nonzero\" fill-opacity=\"1\" /></svg>\n"
      ]
     },
     "execution_count": 53,
     "metadata": {},
     "output_type": "execute_result"
    }
   ],
   "source": [
    "let\n",
    "    plot(capital_allocation_line, lw=4, xlabel=\"Risk sqrt(variance)\", \n",
    "        ylabel=\"Portfolio growth rate (1/yr)\", fontsize=18, c=:gray, \n",
    "        xlim=(0.0, 1.1*maximum(capital_allocation_line).first), label=\"Capital Allocation Line (CAL)\")\n",
    "    scatter!(capital_allocation_line, label=\"\", msc=:black, mc=:white, ms=3)\n",
    "    \n",
    "    plot!(efficient_frontier_sim, lw=4, xlabel=\"Risk sqrt(variance)\", \n",
    "        ylabel=\"Portfolio growth rate (1/yr)\", fontsize=18, label=\"Efficient Frontier\", c=:red, \n",
    "        xlim=(0.0, 1.1*maximum(efficient_frontier_sim).first))\n",
    "    scatter!(efficient_frontier_sim, label=\"\", c=:white, mec=:red, ms=3)\n",
    "end"
   ]
  },
  {
   "cell_type": "markdown",
   "id": "cb480043-5eeb-4b1d-8941-816c95c1098a",
   "metadata": {},
   "source": [
    "## Task 3: Where is the tangent portfolio and what's in it?\n",
    "The tangent portfolio is the point on the capital allocation line where the fraction of assets invested in the pool of risky assets is `1`, i.e., all of the investment budget is invested in risky assets. Let's estimate the expected return of the tangent portfolio $\\mathcal{T}$ by trial and error: \n",
    "* `Procedure`: adjust the risk, solve the allocation problem and compute the fraction in risk assets $\\theta$"
   ]
  },
  {
   "cell_type": "code",
   "execution_count": 55,
   "id": "a6730de5-115c-4f5e-92ff-e3e2a60df897",
   "metadata": {},
   "outputs": [
    {
     "name": "stdout",
     "output_type": "stream",
     "text": [
      "fraction in risk-free assets: -1.2516705918619309e-5, fraction in risky assets: 1.0000125167059186\n"
     ]
    }
   ],
   "source": [
    "problem_risk_free.R = 0.28845 # tangent 0.28845\n",
    "allocation_sum_constraint = solve(problem_risk_free) |> x-> x[\"argmax\"] |> x-> sum(x);\n",
    "println(\"fraction in risk-free assets: $(1-allocation_sum_constraint), fraction in risky assets: $(allocation_sum_constraint)\")"
   ]
  },
  {
   "cell_type": "markdown",
   "id": "f23f7c8a-cf6a-42f8-afda-1ec17003549c",
   "metadata": {},
   "source": [
    "Let's solve the investment problem at the tangent portfolio:"
   ]
  },
  {
   "cell_type": "code",
   "execution_count": 57,
   "id": "d7ea30cf-ca2c-4834-9c1a-50bb462333b8",
   "metadata": {},
   "outputs": [
    {
     "data": {
      "text/plain": [
       "Dict{String, Any} with 4 entries:\n",
       "  \"argmax\"          => [0.256757, -9.41674e-9, 0.431485, 4.92923e-8, -8.83e-9, …\n",
       "  \"reward\"          => 0.28845\n",
       "  \"status\"          => LOCALLY_SOLVED\n",
       "  \"objective_value\" => 0.0556123"
      ]
     },
     "execution_count": 57,
     "metadata": {},
     "output_type": "execute_result"
    }
   ],
   "source": [
    "tangent_portfolio_solution = nothing;\n",
    "try\n",
    "    tangent_portfolio_solution = solve(problem_risk_free)\n",
    "catch err\n",
    "    println(\"Hmmmm. That's not what we expected ...\")\n",
    "end"
   ]
  },
  {
   "cell_type": "markdown",
   "id": "55c37d53-e4e0-43c5-9316-768c4c8a70b2",
   "metadata": {},
   "source": [
    "#### What's in the tangent portfolio?\n",
    "`Unhide` the code block below to see how we constructed the portfolio allocation table for the single-index model tangent portfolio.\n",
    "* __Summary__: For my choice of tickers, the portfolio allocation problem selected a combination of assets to hold in the tangent portfolio, where the investment budget was unequally divided between the tickers. The overall $\\beta$ for the tangent portfolio was greater than the market portfolio, i.e., `SPY.`"
   ]
  },
  {
   "cell_type": "code",
   "execution_count": 107,
   "id": "f9bed152-5413-4ab0-b24c-a470e48f1f6b",
   "metadata": {},
   "outputs": [
    {
     "name": "stdout",
     "output_type": "stream",
     "text": [
      "========= =========== ============= ==========\n",
      " \u001b[1m ticker \u001b[0m \u001b[1m         β \u001b[0m \u001b[1m           μ̂ \u001b[0m \u001b[1m       ω \u001b[0m\n",
      " \u001b[90m String \u001b[0m \u001b[90m   Float64 \u001b[0m \u001b[90m     Float64 \u001b[0m \u001b[90m Float64 \u001b[0m\n",
      "========= =========== ============= ==========\n",
      "    AAPL     1.24019      0.252299    0.2568\n",
      "     UNG    0.401587     -0.262874       0.0\n",
      "    MSFT     1.13379      0.247495    0.4315\n",
      "      KR    0.194428     0.0728545       0.0\n",
      "    INTC     1.12753     0.0203302       0.0\n",
      "     CPB    0.227696    -0.0228451       0.0\n",
      "      MU     1.52694       0.11468       0.0\n",
      "     GIS    0.297464    0.00900617       0.0\n",
      "     AMD     1.67809      0.432685    0.2561\n",
      "     SJM    0.293066   -0.00413963       0.0\n",
      "      GS     1.26915     0.0726663       0.0\n",
      "     GLD   0.0822281     0.0612272    0.0006\n",
      "     BAC     1.32778     0.0242955       0.0\n",
      "     CLX    0.243847    -0.0100511       0.0\n",
      "     WFC     1.25441    -0.0343123       0.0\n",
      "     CHD    0.332229      0.101898    0.0394\n",
      "       C     1.48297    -0.0564997       0.0\n",
      "     HRL      0.3087    -0.0266377       0.0\n",
      "       F     1.48548    -0.0015333       0.0\n",
      "    REGN    0.551269      0.129707    0.0156\n",
      "      GM     1.55162    -0.0219692       0.0\n",
      "       K    0.326176    -0.0396948       0.0\n",
      "   total     1.25921           0.0       1.0\n",
      "========= =========== ============= ==========\n"
     ]
    }
   ],
   "source": [
    "let\n",
    "    ω = tangent_portfolio_solution[\"argmax\"];\n",
    "    table_df = DataFrame();\n",
    "    for i ∈ eachindex(my_low_correlation_ticker_array)\n",
    "        ticker = my_low_correlation_ticker_array[i];\n",
    "        ωᵢ = ω[i];\n",
    "        row_data = (\n",
    "            ticker = ticker,\n",
    "            β = sim_model_dictionary[ticker].β,\n",
    "            μ̂ = μ̂_sim[i],\n",
    "            ω = round(ωᵢ, digits=4) |> abs,\n",
    "        );\n",
    "        push!(table_df,row_data)\n",
    "    end\n",
    "\n",
    "    beta_vec = table_df[:,:β] |> collect;\n",
    "    w_vec = table_df[:,:ω] |> collect\n",
    "    \n",
    "    # compute the total -\n",
    "    total = table_df[:,:ω] |> sum\n",
    "    last_row = (\n",
    "        ticker = \"total\",\n",
    "        β = dot(beta_vec,w_vec),\n",
    "        μ̂ = 0.0,\n",
    "        ω = total,\n",
    "    )\n",
    "    push!(table_df,last_row)\n",
    "    pretty_table(table_df, tf=tf_simple)\n",
    "end"
   ]
  },
  {
   "cell_type": "markdown",
   "id": "8829063b-2ab2-422e-a7a3-4bbc06778f70",
   "metadata": {},
   "source": [
    "### Disclaimer and Risks\n",
    "__This content is offered solely for training and informational purposes__. No offer or solicitation to buy or sell securities or derivative products or any investment or trading advice or strategy is made, given, or endorsed by the teaching team. \n",
    "\n",
    "__Trading involves risk__. Carefully review your financial situation before investing in securities, futures contracts, options, or commodity interests. Past performance, whether actual or indicated by historical tests of strategies, is no guarantee of future performance or success. Trading is generally inappropriate for someone with limited resources, investment or trading experience, or a low-risk tolerance.  Only risk capital that is not required for living expenses.\n",
    "\n",
    "__You are fully responsible for any investment or trading decisions you make__. You should decide solely based on your financial circumstances, investment or trading objectives, risk tolerance, and liquidity needs."
   ]
  }
 ],
 "metadata": {
  "kernelspec": {
   "display_name": "Julia 1.11.0",
   "language": "julia",
   "name": "julia-1.11"
  },
  "language_info": {
   "file_extension": ".jl",
   "mimetype": "application/julia",
   "name": "julia",
   "version": "1.11.0"
  }
 },
 "nbformat": 4,
 "nbformat_minor": 5
}
