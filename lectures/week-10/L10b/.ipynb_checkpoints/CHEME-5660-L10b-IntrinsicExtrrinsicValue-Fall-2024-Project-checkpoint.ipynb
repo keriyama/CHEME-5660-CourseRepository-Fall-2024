{
 "cells": [
  {
   "cell_type": "markdown",
   "id": "f144b817-3e4c-40aa-a613-cee3a498259f",
   "metadata": {},
   "source": [
    "# Project: Understanding the Intrinsic and Extrinsic Value of Options Premium\n",
    "The premium that a buyer of an American options contract pays $\\mathcal{P}$ is composed of two components, the `intrinsic` value $\\mathcal{P}_{int}$ and `extrinsic` value $\\mathcal{P}_{ext}$:\n",
    "* The `intrinsic` value $\\mathcal{P}_{int}$ of the options premium is the value of the option contract if exercised now, i.e., it is the current payoff of the contract. Thus, the intrinsic value will be a function of the scaled strike price $K/S_{\\circ}$. However, the intrinsic value will not be a _direct_ function of the time to expiration.\n",
    "* The `extrinsic` value $\\mathcal{P}_{ext}$ is the difference between the current premium $\\mathcal{P}$ and the intrinsic value, i.e., $\\mathcal{P}_{ext} = \\mathcal{P} - \\mathcal{P}_{int}$. As the days to expiration `DTE` of the options contract approaches zero, the `extrinsic` value approaches zero, i.e., $\\lim_{DTE\\rightarrow{0}}\\,\\mathcal{P}_{ext}\\rightarrow{0}$. Thus, the extrinsic value will be a function of the scaled strike price $K/S_{\\circ}$ (through the intrinsic value) and the days to expiration (through the premium).\n",
    "\n",
    "## Learning tasks\n",
    "This project aims to familiarize students with understanding option contracts `intrinsic` and `extrinsic` values and to help them consider what factors control each.\n",
    "\n",
    "* __Prerequisites__: load and interrogate the options chains for different values of the days to expiration (DTE) parameter for an example underlying ticker, in this case, [Advanced Micro Devices](https://finance.yahoo.com/quote/AMD/) with the ticker symbol `AMD.`\n",
    "* __Task 1__: Compute the Intrinsic and Extrinsic values of American put contacts. In this task, we will compute the intrinsic and extrinsic values of an `AMD` put contract with `DTE` days to expiration (where `DTE` was specified above) using our market dataset. We'll show that the intrinsic and extrinsic values change as a function of the scaled strike price $K/S_{\\circ}$.\n",
    "* __Task 2__: Compute the Intrinsic and Extrinsic values of American call contacts. In this task, we will compute the intrinsic and extrinsic values of an `AMD` call contract with `DTE` days to expiration (where `DTE` was specified above) using our market dataset. We'll show that the intrinsic and extrinsic values change as a function of the scaled strike price $K/S_{\\circ}$."
   ]
  },
  {
   "cell_type": "markdown",
   "id": "73db5884-9206-4961-b8bc-76a3759c6efb",
   "metadata": {},
   "source": [
    "## Setup\n",
    "Set up the computational environment by including the `Include.jl` file. The `Include.jl` file loads external packages, various functions we will use in the exercise, and custom types to model the components of our example problem.\n",
    "* For additional information on functions and types used in this material, see the [Julia programming language documentation](https://docs.julialang.org/en/v1/) and the [VLQuantitativeFinancePackage.jl documentation](https://github.com/varnerlab/VLQuantitativeFinancePackage.jl). "
   ]
  },
  {
   "cell_type": "code",
   "execution_count": 3,
   "id": "1c825800-8970-4e90-af28-73731624a92e",
   "metadata": {},
   "outputs": [],
   "source": [
    "include(\"Include.jl\");"
   ]
  },
  {
   "cell_type": "markdown",
   "id": "6ee82c31-03be-4009-8548-7ec2ddf5f51c",
   "metadata": {},
   "source": [
    "## Prerequisites\n",
    "Load the options chain dataset using the `MyOptionsChainDataSet()` function. This function returns the pricing data as a [Julia Dictionary type](https://docs.julialang.org/en/v1/base/collections/#Dictionaries) with `keys` holding the number of days to expiration `DTE::Int64` and `values` being a [Vector](https://docs.julialang.org/en/v1/base/arrays/#Base.Vector-Tuple{UndefInitializer,%20Any}) of multilevel dictionaries. We'll store the options contract price data in the `dataset` variable.\n",
    "* In this project, we'll use options pricing data for [Advanced Micro Devices](https://finance.yahoo.com/quote/AMD/) as the underlying asset. The `dataset` variable holds pricing information for `call` and `put` contracts. Each contract has a different strike price. In addition to the contract price, there is additional information about the underlying asset and contract. \n",
    "* For any given `DTE` key, the price data is organized as a `Vector{Dict{String, Any}},` where each element in the vector is a dictionary with the `keys`: `day,` `details,` `last_quote,` `last_trade,` `underlying_asset,` `open_interest` and `break_even_price.` Each key (except for the `open_interest` and `break_even_price` keys) points to another dictionary.\n",
    "* Finally, we populate lists of `call` and `put` options in the `list_of_put_options_chains` and `list_of_call_options_chains` variables, which have the type `Dict{Int64, DataFrame},` using the `search(...)` function."
   ]
  },
  {
   "cell_type": "code",
   "execution_count": 5,
   "id": "82a16488-4c73-4759-932b-3bc653c3c65a",
   "metadata": {},
   "outputs": [
    {
     "name": "stderr",
     "output_type": "stream",
     "text": [
      "Error encountered while load File{DataFormat{:CSV}, String}(\"/Users/jeffreyvarner/Desktop/julia_work/CHEME-5660-CourseRepository-Fall-2024/lectures/week-10/L10b/data/MU-options-chain-62-DTE.csv\").\n",
      "\n",
      "Fatal error:\n"
     ]
    },
    {
     "ename": "LoadError",
     "evalue": "ArgumentError: Package CSVFiles [5d742f6a-9f54-50ce-8119-2520741973ca] is required but does not seem to be installed:\n - Run `Pkg.instantiate()` to install all recorded dependencies.\n\nStacktrace:\n  [1] \u001b[0m\u001b[1m_require\u001b[22m\u001b[0m\u001b[1m(\u001b[22m\u001b[90mpkg\u001b[39m::\u001b[0mBase.PkgId, \u001b[90menv\u001b[39m::\u001b[0mNothing\u001b[0m\u001b[1m)\u001b[22m\n\u001b[90m    @\u001b[39m \u001b[90mBase\u001b[39m \u001b[90m./\u001b[39m\u001b[90m\u001b[4mloading.jl:2438\u001b[24m\u001b[39m\n  [2] \u001b[0m\u001b[1m__require_prelocked\u001b[22m\u001b[0m\u001b[1m(\u001b[22m\u001b[90muuidkey\u001b[39m::\u001b[0mBase.PkgId, \u001b[90menv\u001b[39m::\u001b[0mNothing\u001b[0m\u001b[1m)\u001b[22m\n\u001b[90m    @\u001b[39m \u001b[90mBase\u001b[39m \u001b[90m./\u001b[39m\u001b[90m\u001b[4mloading.jl:2315\u001b[24m\u001b[39m\n  [3] \u001b[0m\u001b[1m#invoke_in_world#3\u001b[22m\n\u001b[90m    @\u001b[39m \u001b[90m./\u001b[39m\u001b[90m\u001b[4messentials.jl:1089\u001b[24m\u001b[39m\u001b[90m [inlined]\u001b[39m\n  [4] \u001b[0m\u001b[1minvoke_in_world\u001b[22m\n\u001b[90m    @\u001b[39m \u001b[90m./\u001b[39m\u001b[90m\u001b[4messentials.jl:1086\u001b[24m\u001b[39m\u001b[90m [inlined]\u001b[39m\n  [5] \u001b[0m\u001b[1m_require_prelocked\u001b[22m\n\u001b[90m    @\u001b[39m \u001b[90m./\u001b[39m\u001b[90m\u001b[4mloading.jl:2302\u001b[24m\u001b[39m\u001b[90m [inlined]\u001b[39m\n  [6] \u001b[0m\u001b[1m_require_prelocked\u001b[22m\n\u001b[90m    @\u001b[39m \u001b[90m./\u001b[39m\u001b[90m\u001b[4mloading.jl:2301\u001b[24m\u001b[39m\u001b[90m [inlined]\u001b[39m\n  [7] \u001b[0m\u001b[1mmacro expansion\u001b[22m\n\u001b[90m    @\u001b[39m \u001b[90m./\u001b[39m\u001b[90m\u001b[4mlock.jl:273\u001b[24m\u001b[39m\u001b[90m [inlined]\u001b[39m\n  [8] \u001b[0m\u001b[1mrequire\u001b[22m\u001b[0m\u001b[1m(\u001b[22m\u001b[90muuidkey\u001b[39m::\u001b[0mBase.PkgId\u001b[0m\u001b[1m)\u001b[22m\n\u001b[90m    @\u001b[39m \u001b[90mBase\u001b[39m \u001b[90m./\u001b[39m\u001b[90m\u001b[4mloading.jl:2298\u001b[24m\u001b[39m\n  [9] \u001b[0m\u001b[1m#34\u001b[22m\n\u001b[90m    @\u001b[39m \u001b[90m~/.julia/packages/FileIO/hCQX2/src/\u001b[39m\u001b[90m\u001b[4mloadsave.jl:203\u001b[24m\u001b[39m\u001b[90m [inlined]\u001b[39m\n [10] \u001b[0m\u001b[1mlock\u001b[22m\u001b[0m\u001b[1m(\u001b[22m\u001b[90mf\u001b[39m::\u001b[0mFileIO.var\"#34#35\"\u001b[90m{Base.PkgId}\u001b[39m, \u001b[90ml\u001b[39m::\u001b[0mReentrantLock\u001b[0m\u001b[1m)\u001b[22m\n\u001b[90m    @\u001b[39m \u001b[90mBase\u001b[39m \u001b[90m./\u001b[39m\u001b[90m\u001b[4mlock.jl:232\u001b[24m\u001b[39m\n [11] \u001b[0m\u001b[1maction\u001b[22m\u001b[0m\u001b[1m(\u001b[22m\u001b[90mcall\u001b[39m::\u001b[0mSymbol, \u001b[90mlibraries\u001b[39m::\u001b[0mVector\u001b[90m{Union{Base.PkgId, Module}}\u001b[39m, \u001b[90mfile\u001b[39m::\u001b[0mFileIO.Formatted, \u001b[90margs\u001b[39m::\u001b[0mString; \u001b[90moptions\u001b[39m::\u001b[0m@Kwargs\u001b[90m{}\u001b[39m\u001b[0m\u001b[1m)\u001b[22m\n\u001b[90m    @\u001b[39m \u001b[35mFileIO\u001b[39m \u001b[90m~/.julia/packages/FileIO/hCQX2/src/\u001b[39m\u001b[90m\u001b[4mloadsave.jl:203\u001b[24m\u001b[39m\n [12] \u001b[0m\u001b[1maction\u001b[22m\n\u001b[90m    @\u001b[39m \u001b[90m~/.julia/packages/FileIO/hCQX2/src/\u001b[39m\u001b[90m\u001b[4mloadsave.jl:196\u001b[24m\u001b[39m\u001b[90m [inlined]\u001b[39m\n [13] \u001b[0m\u001b[1maction\u001b[22m\n\u001b[90m    @\u001b[39m \u001b[90m~/.julia/packages/FileIO/hCQX2/src/\u001b[39m\u001b[90m\u001b[4mloadsave.jl:185\u001b[24m\u001b[39m\u001b[90m [inlined]\u001b[39m\n [14] \u001b[0m\u001b[1mload\u001b[22m\u001b[0m\u001b[1m(\u001b[22m\u001b[90mfile\u001b[39m::\u001b[0mString, \u001b[90margs\u001b[39m::\u001b[0mString; \u001b[90moptions\u001b[39m::\u001b[0m@Kwargs\u001b[90m{}\u001b[39m\u001b[0m\u001b[1m)\u001b[22m\n\u001b[90m    @\u001b[39m \u001b[35mFileIO\u001b[39m \u001b[90m~/.julia/packages/FileIO/hCQX2/src/\u001b[39m\u001b[90m\u001b[4mloadsave.jl:113\u001b[24m\u001b[39m\n [15] \u001b[0m\u001b[1mload\u001b[22m\n\u001b[90m    @\u001b[39m \u001b[90m~/.julia/packages/FileIO/hCQX2/src/\u001b[39m\u001b[90m\u001b[4mloadsave.jl:109\u001b[24m\u001b[39m\u001b[90m [inlined]\u001b[39m\n [16] \u001b[0m\u001b[1mMyOptionsChainDataSet\u001b[22m\u001b[0m\u001b[1m(\u001b[22m\u001b[90mbasedate\u001b[39m::\u001b[0mDate\u001b[0m\u001b[1m)\u001b[22m\n\u001b[90m    @\u001b[39m \u001b[36mMain\u001b[39m \u001b[90m~/Desktop/julia_work/CHEME-5660-CourseRepository-Fall-2024/lectures/week-10/L10b/src/\u001b[39m\u001b[90m\u001b[4mFiles.jl:15\u001b[24m\u001b[39m\n [17] top-level scope\n\u001b[90m    @\u001b[39m \u001b[90m\u001b[4mIn[5]:1\u001b[24m\u001b[39m",
     "output_type": "error",
     "traceback": [
      "ArgumentError: Package CSVFiles [5d742f6a-9f54-50ce-8119-2520741973ca] is required but does not seem to be installed:\n - Run `Pkg.instantiate()` to install all recorded dependencies.\n\nStacktrace:\n  [1] \u001b[0m\u001b[1m_require\u001b[22m\u001b[0m\u001b[1m(\u001b[22m\u001b[90mpkg\u001b[39m::\u001b[0mBase.PkgId, \u001b[90menv\u001b[39m::\u001b[0mNothing\u001b[0m\u001b[1m)\u001b[22m\n\u001b[90m    @\u001b[39m \u001b[90mBase\u001b[39m \u001b[90m./\u001b[39m\u001b[90m\u001b[4mloading.jl:2438\u001b[24m\u001b[39m\n  [2] \u001b[0m\u001b[1m__require_prelocked\u001b[22m\u001b[0m\u001b[1m(\u001b[22m\u001b[90muuidkey\u001b[39m::\u001b[0mBase.PkgId, \u001b[90menv\u001b[39m::\u001b[0mNothing\u001b[0m\u001b[1m)\u001b[22m\n\u001b[90m    @\u001b[39m \u001b[90mBase\u001b[39m \u001b[90m./\u001b[39m\u001b[90m\u001b[4mloading.jl:2315\u001b[24m\u001b[39m\n  [3] \u001b[0m\u001b[1m#invoke_in_world#3\u001b[22m\n\u001b[90m    @\u001b[39m \u001b[90m./\u001b[39m\u001b[90m\u001b[4messentials.jl:1089\u001b[24m\u001b[39m\u001b[90m [inlined]\u001b[39m\n  [4] \u001b[0m\u001b[1minvoke_in_world\u001b[22m\n\u001b[90m    @\u001b[39m \u001b[90m./\u001b[39m\u001b[90m\u001b[4messentials.jl:1086\u001b[24m\u001b[39m\u001b[90m [inlined]\u001b[39m\n  [5] \u001b[0m\u001b[1m_require_prelocked\u001b[22m\n\u001b[90m    @\u001b[39m \u001b[90m./\u001b[39m\u001b[90m\u001b[4mloading.jl:2302\u001b[24m\u001b[39m\u001b[90m [inlined]\u001b[39m\n  [6] \u001b[0m\u001b[1m_require_prelocked\u001b[22m\n\u001b[90m    @\u001b[39m \u001b[90m./\u001b[39m\u001b[90m\u001b[4mloading.jl:2301\u001b[24m\u001b[39m\u001b[90m [inlined]\u001b[39m\n  [7] \u001b[0m\u001b[1mmacro expansion\u001b[22m\n\u001b[90m    @\u001b[39m \u001b[90m./\u001b[39m\u001b[90m\u001b[4mlock.jl:273\u001b[24m\u001b[39m\u001b[90m [inlined]\u001b[39m\n  [8] \u001b[0m\u001b[1mrequire\u001b[22m\u001b[0m\u001b[1m(\u001b[22m\u001b[90muuidkey\u001b[39m::\u001b[0mBase.PkgId\u001b[0m\u001b[1m)\u001b[22m\n\u001b[90m    @\u001b[39m \u001b[90mBase\u001b[39m \u001b[90m./\u001b[39m\u001b[90m\u001b[4mloading.jl:2298\u001b[24m\u001b[39m\n  [9] \u001b[0m\u001b[1m#34\u001b[22m\n\u001b[90m    @\u001b[39m \u001b[90m~/.julia/packages/FileIO/hCQX2/src/\u001b[39m\u001b[90m\u001b[4mloadsave.jl:203\u001b[24m\u001b[39m\u001b[90m [inlined]\u001b[39m\n [10] \u001b[0m\u001b[1mlock\u001b[22m\u001b[0m\u001b[1m(\u001b[22m\u001b[90mf\u001b[39m::\u001b[0mFileIO.var\"#34#35\"\u001b[90m{Base.PkgId}\u001b[39m, \u001b[90ml\u001b[39m::\u001b[0mReentrantLock\u001b[0m\u001b[1m)\u001b[22m\n\u001b[90m    @\u001b[39m \u001b[90mBase\u001b[39m \u001b[90m./\u001b[39m\u001b[90m\u001b[4mlock.jl:232\u001b[24m\u001b[39m\n [11] \u001b[0m\u001b[1maction\u001b[22m\u001b[0m\u001b[1m(\u001b[22m\u001b[90mcall\u001b[39m::\u001b[0mSymbol, \u001b[90mlibraries\u001b[39m::\u001b[0mVector\u001b[90m{Union{Base.PkgId, Module}}\u001b[39m, \u001b[90mfile\u001b[39m::\u001b[0mFileIO.Formatted, \u001b[90margs\u001b[39m::\u001b[0mString; \u001b[90moptions\u001b[39m::\u001b[0m@Kwargs\u001b[90m{}\u001b[39m\u001b[0m\u001b[1m)\u001b[22m\n\u001b[90m    @\u001b[39m \u001b[35mFileIO\u001b[39m \u001b[90m~/.julia/packages/FileIO/hCQX2/src/\u001b[39m\u001b[90m\u001b[4mloadsave.jl:203\u001b[24m\u001b[39m\n [12] \u001b[0m\u001b[1maction\u001b[22m\n\u001b[90m    @\u001b[39m \u001b[90m~/.julia/packages/FileIO/hCQX2/src/\u001b[39m\u001b[90m\u001b[4mloadsave.jl:196\u001b[24m\u001b[39m\u001b[90m [inlined]\u001b[39m\n [13] \u001b[0m\u001b[1maction\u001b[22m\n\u001b[90m    @\u001b[39m \u001b[90m~/.julia/packages/FileIO/hCQX2/src/\u001b[39m\u001b[90m\u001b[4mloadsave.jl:185\u001b[24m\u001b[39m\u001b[90m [inlined]\u001b[39m\n [14] \u001b[0m\u001b[1mload\u001b[22m\u001b[0m\u001b[1m(\u001b[22m\u001b[90mfile\u001b[39m::\u001b[0mString, \u001b[90margs\u001b[39m::\u001b[0mString; \u001b[90moptions\u001b[39m::\u001b[0m@Kwargs\u001b[90m{}\u001b[39m\u001b[0m\u001b[1m)\u001b[22m\n\u001b[90m    @\u001b[39m \u001b[35mFileIO\u001b[39m \u001b[90m~/.julia/packages/FileIO/hCQX2/src/\u001b[39m\u001b[90m\u001b[4mloadsave.jl:113\u001b[24m\u001b[39m\n [15] \u001b[0m\u001b[1mload\u001b[22m\n\u001b[90m    @\u001b[39m \u001b[90m~/.julia/packages/FileIO/hCQX2/src/\u001b[39m\u001b[90m\u001b[4mloadsave.jl:109\u001b[24m\u001b[39m\u001b[90m [inlined]\u001b[39m\n [16] \u001b[0m\u001b[1mMyOptionsChainDataSet\u001b[22m\u001b[0m\u001b[1m(\u001b[22m\u001b[90mbasedate\u001b[39m::\u001b[0mDate\u001b[0m\u001b[1m)\u001b[22m\n\u001b[90m    @\u001b[39m \u001b[36mMain\u001b[39m \u001b[90m~/Desktop/julia_work/CHEME-5660-CourseRepository-Fall-2024/lectures/week-10/L10b/src/\u001b[39m\u001b[90m\u001b[4mFiles.jl:15\u001b[24m\u001b[39m\n [17] top-level scope\n\u001b[90m    @\u001b[39m \u001b[90m\u001b[4mIn[5]:1\u001b[24m\u001b[39m",
      "",
      "Stacktrace:",
      " [1] handle_error(e::ArgumentError, q::Base.PkgId, bt::Vector{Union{Ptr{Nothing}, Base.InterpreterIP}})",
      "   @ FileIO ~/.julia/packages/FileIO/hCQX2/src/error_handling.jl:71",
      " [2] handle_exceptions(exceptions::Vector{Tuple{Any, Union{Base.PkgId, Module}, Vector}}, action::String)",
      "   @ FileIO ~/.julia/packages/FileIO/hCQX2/src/error_handling.jl:66",
      " [3] action(call::Symbol, libraries::Vector{Union{Base.PkgId, Module}}, file::FileIO.Formatted, args::String; options::@Kwargs{})",
      "   @ FileIO ~/.julia/packages/FileIO/hCQX2/src/loadsave.jl:228",
      " [4] action",
      "   @ ~/.julia/packages/FileIO/hCQX2/src/loadsave.jl:196 [inlined]",
      " [5] action",
      "   @ ~/.julia/packages/FileIO/hCQX2/src/loadsave.jl:185 [inlined]",
      " [6] load(file::String, args::String; options::@Kwargs{})",
      "   @ FileIO ~/.julia/packages/FileIO/hCQX2/src/loadsave.jl:113",
      " [7] load",
      "   @ ~/.julia/packages/FileIO/hCQX2/src/loadsave.jl:109 [inlined]",
      " [8] MyOptionsChainDataSet(basedate::Date)",
      "   @ Main ~/Desktop/julia_work/CHEME-5660-CourseRepository-Fall-2024/lectures/week-10/L10b/src/Files.jl:15",
      " [9] top-level scope",
      "   @ In[5]:1"
     ]
    }
   ],
   "source": [
    "dataset = MyOptionsChainDataSet(Date(\"2023-06-19\"));"
   ]
  },
  {
   "cell_type": "markdown",
   "id": "490c976a-df49-4b71-b1a9-40cf46e749ff",
   "metadata": {},
   "source": [
    "Let's populate a list of `put` and `call` options written against `AMD`  whose strike price is between `60` and `180` USD/share. We store these lists in the `list_of_put_options_chains` and `list_of_call_options_chains,` which have the type `Dict{Int64, DataFrame}.`\n",
    "\n",
    "* __Put options__: `Unhide` the code block below to see how we populate a list of `put` options with strike prices between `60.0 ≤ K ≤ 180.0` in the `list_of_put_options_chains` variable"
   ]
  },
  {
   "cell_type": "code",
   "execution_count": 7,
   "id": "8fa2c8b7-63e6-4791-a1d7-9aeb6c4fbd5c",
   "metadata": {},
   "outputs": [
    {
     "ename": "LoadError",
     "evalue": "UndefVarError: `dataset` not defined in `Main`\nSuggestion: check for spelling errors or missing imports.",
     "output_type": "error",
     "traceback": [
      "UndefVarError: `dataset` not defined in `Main`\nSuggestion: check for spelling errors or missing imports.",
      "",
      "Stacktrace:",
      " [1] top-level scope",
      "   @ In[7]:1"
     ]
    }
   ],
   "source": [
    "list_of_put_options_chains = Dict{Int64,DataFrame}();\n",
    "DTEs = keys(dataset) |> collect |> sort;\n",
    "for dte_value ∈ DTEs\n",
    "    search(dataset, dte_value, (DTE::Int64, record::Dict{String, Any}) -> begin\n",
    "            K = record[\"details\"][\"strike_price\"]; # strike for this contract\n",
    "            if (record[\"details\"][\"contract_type\"] == \"put\" && 60.0 ≤ K ≤ 180.0)\n",
    "                return true\n",
    "            end\n",
    "            return false\n",
    "        end\n",
    "    ) |> dataframe -> list_of_put_options_chains[dte_value] = dataframe;\n",
    "end"
   ]
  },
  {
   "cell_type": "markdown",
   "id": "66c1963e-d5b7-4e17-a7fd-678b2a17a8cc",
   "metadata": {},
   "source": [
    "* __Call options__: `Unhide` the code block below to see how we populate a list of `call` options with strike prices between `60.0 ≤ K ≤ 180.0` in the `list_of_call_options_chains` variable"
   ]
  },
  {
   "cell_type": "code",
   "execution_count": 9,
   "id": "6ebf2d76-f090-43cd-b791-2acd6f802347",
   "metadata": {},
   "outputs": [
    {
     "ename": "LoadError",
     "evalue": "UndefVarError: `dataset` not defined in `Main`\nSuggestion: check for spelling errors or missing imports.",
     "output_type": "error",
     "traceback": [
      "UndefVarError: `dataset` not defined in `Main`\nSuggestion: check for spelling errors or missing imports.",
      "",
      "Stacktrace:",
      " [1] top-level scope",
      "   @ In[9]:1"
     ]
    }
   ],
   "source": [
    "list_of_call_options_chains = Dict{Int64,DataFrame}();\n",
    "DTEs = keys(dataset) |> collect |> sort;\n",
    "for dte_value ∈ DTEs\n",
    "    search(dataset, dte_value, (DTE::Int64, record::Dict{String, Any}) -> begin\n",
    "            K = record[\"details\"][\"strike_price\"]; # strike for this contract\n",
    "            if (record[\"details\"][\"contract_type\"] == \"call\" && 60.0 ≤ K ≤ 180.0)\n",
    "                return true\n",
    "            end\n",
    "            return false\n",
    "        end\n",
    "    ) |> dataframe -> list_of_call_options_chains[dte_value] = dataframe;\n",
    "end"
   ]
  },
  {
   "cell_type": "markdown",
   "id": "29b62a14-18e4-4660-a579-ddd3e270c760",
   "metadata": {},
   "source": [
    "### Constants\n",
    "Finally, let's set some constants we'll need for the rest of the project. The time step size `Δt::Float64` will be `1 calendar day`, the days to expiration `DTE` will be `39-days`, and we'll simulate a range of underlying prices from $S_{1}\\rightarrow{S}_{2}$ in steps of `1-USD/share`. Finally, we set the `number_of_prices::Int64` variable, which holds the number of underlying prices we will use below. "
   ]
  },
  {
   "cell_type": "code",
   "execution_count": 11,
   "id": "619a7f96-be37-462c-963a-c5ebb763d0df",
   "metadata": {},
   "outputs": [],
   "source": [
    "Δt = (1/365);\n",
    "DTE = 39;\n",
    "S₁ = 60.0;\n",
    "S₂ = 180.0;\n",
    "S = range(S₁, stop = S₂, step=1.0) |> collect;\n",
    "number_of_prices = length(S);"
   ]
  },
  {
   "cell_type": "markdown",
   "id": "8e81c37e-d219-4d7a-b6bd-8b7b463c7382",
   "metadata": {},
   "source": [
    "## Task 1: Compute the Intrinsic and Extrinsic values of American put contacts\n",
    "In this task, we will compute the intrinsic and extrinsic values of an `AMD` put contract with `DTE` days to expiration (where `DTE` was specified above) using our market dataset. We'll show that the intrinsic and extrinsic values change as a function of the scaled strike price $K/S_{\\circ}$. For a `put` contract:\n",
    "* When $K/S_{\\circ}\\leq{1}$, the `put` contract's intrinsic value is zero. Any non-zero premium observed in the marketplace is composed of only extrinsic value. In other words, if the `put` contract were to be exercised now, it would be worthless. However, buyers are willing to pay a non-zero premium for a seemingly worthless contract because they believe market conditions will change such that $K/S(T)>1$ at some `T` in the future (at which point the contract will no longer be worthless if exercised).\n",
    "* When $K/S_{\\circ}>{1}$, the premium observed in the marketplace will be a combination of extrinsic and intrinsic value. The contract has some value if exercised now, whereas the remainder of the observed premium consists of extrinsic value. The higher the `DTE,` the more the extrinsic value. As $K/S_{\\circ}\\rightarrow\\infty$, the contract will have an increasing fraction of intrinsic value.\n",
    "\n",
    "Let's start to explore these scenarios by selecting the `DTE` contracts in the `list_of_put_options_chains::Dict{Int64, DataFrame}` variable, which we'll store in the `tmp_put_contract_list::DataFrame` variable. Each row in `tmp_put_contract_list::DataFrame` corresponds to a different `put` contract with the same days to expiration `DTE` value but different strike prices $K$."
   ]
  },
  {
   "cell_type": "code",
   "execution_count": 13,
   "id": "6926c1c9-8d13-4e29-94a1-8545aaf141d5",
   "metadata": {},
   "outputs": [
    {
     "ename": "LoadError",
     "evalue": "KeyError: key 39 not found",
     "output_type": "error",
     "traceback": [
      "KeyError: key 39 not found",
      "",
      "Stacktrace:",
      " [1] getindex(h::Dict{Int64, DataFrame}, key::Int64)",
      "   @ Base ./dict.jl:477",
      " [2] top-level scope",
      "   @ In[13]:1"
     ]
    }
   ],
   "source": [
    "tmp_put_contract_list = list_of_put_options_chains[DTE]"
   ]
  },
  {
   "cell_type": "markdown",
   "id": "5824b0ed-a3d8-4264-8bc8-7347ebfccb18",
   "metadata": {},
   "source": [
    "Next, for each contract in `tmp_put_contract_list::DataFrame,` we compute the payoff if we exercised the contract now, i.e., the intrinsic value and the extrinsic value (observed premium - intrinsic value) for each strike price in our list of contracts (which has dimension `number_of_put_contracts::Int64`). \n",
    "* We store the intrinsic, extrinsic et al. data in the `put_data_dictionary::Dict{Float64, NamedTuple}` dictionary, where the keys of this dictionary are strike prices $K$, and the values are a collection of various data associated with each contract.\n",
    "* We process each contract (row) in the `tmp_put_contract_list::DataFrame` using [a `for-loop`](https://docs.julialang.org/en/v1/base/base/#for). During each iteration of the loop, we access [data from the `tmp_contract_list::DataFrame` using the index and the column name](https://dataframes.juliadata.org/stable/man/comparisons/#Accessing-data). We then create [an instance of the `MyAmericanPutContractModel` model](https://varnerlab.github.io/VLQuantitativeFinancePackage.jl/dev/derivatives/#VLQuantitativeFinancePackage.MyAmericanPutContractModel) with the observed mid-point premium, strike price $K$ and other contract parameters, and [compute the payoff](https://varnerlab.github.io/VLQuantitativeFinancePackage.jl/dev/derivatives/#VLQuantitativeFinancePackage.payoff).\n",
    "* Finally, we encode the intrinsic, extrinsic values and other data for each contract [in a `NamedTuple` instance](https://docs.julialang.org/en/v1/base/base/#Core.NamedTuple) and store that in the `put_data_dictionary::Dict{Float64, NamedTuple}` dictionary, with the key being the strike price $K$."
   ]
  },
  {
   "cell_type": "code",
   "execution_count": 15,
   "id": "1b456f90-b541-42e6-a91c-e94ad34be022",
   "metadata": {},
   "outputs": [
    {
     "ename": "LoadError",
     "evalue": "UndefVarError: `tmp_put_contract_list` not defined in `Main`\nSuggestion: check for spelling errors or missing imports.",
     "output_type": "error",
     "traceback": [
      "UndefVarError: `tmp_put_contract_list` not defined in `Main`\nSuggestion: check for spelling errors or missing imports.",
      "",
      "Stacktrace:",
      " [1] top-level scope",
      "   @ In[15]:1"
     ]
    }
   ],
   "source": [
    "number_of_put_contracts = nrow(tmp_put_contract_list);\n",
    "put_data_dictionary = Dict{Float64, NamedTuple}();\n",
    "for i ∈ 1:number_of_put_contracts\n",
    "    K = tmp_put_contract_list[i,:strike];\n",
    "    𝒫_ask = tmp_put_contract_list[i,:ask];\n",
    "    𝒫_bid = tmp_put_contract_list[i,:bid];\n",
    "    𝒫_mid = tmp_put_contract_list[i,:midpoint];\n",
    "    Sₒ = tmp_put_contract_list[i,:underlying]\n",
    "\n",
    "    # compute payoff (intrinsic) using short-cut syntax    \n",
    "    payoff_array = build(MyAmericanPutContractModel, (\n",
    "        K = K, sense = 1, copy = 1, DTE = (DTE*Δt), IV = 0.1, premium = 𝒫_mid)) |> model -> model([Sₒ]);\n",
    "\n",
    "    # capture the data\n",
    "    data = (\n",
    "        intrinsic = payoff_array[1,end],\n",
    "        extrinsic_bid = (𝒫_bid - payoff_array[1,end]),\n",
    "        extrinsic_ask = (𝒫_ask - payoff_array[1,end]),\n",
    "        extrinsic_mid = (𝒫_mid - payoff_array[1,end]),\n",
    "        premium_bid = 𝒫_bid,\n",
    "        premium_ask = 𝒫_ask,\n",
    "        premium_mid = 𝒫_mid,\n",
    "        underlying = Sₒ\n",
    "    );\n",
    "    put_data_dictionary[K] = data;\n",
    "end"
   ]
  },
  {
   "cell_type": "markdown",
   "id": "8a35812b-66ed-4457-b113-b693ce3d1e84",
   "metadata": {},
   "source": [
    "### Visualize\n",
    "Given the data stored in the `put_data_dictionary::Dict{Float64, NamedTuple}` dictionary, let's visualize the extrinsic and intrinsic values for the `put` contract as a function of the scaled strike price $K/S_{\\circ}$. Collect data in the `put_dataframe::DataFrame` to make this plot using the code block below.\n",
    "* For each contract in `put_data_dictionary::Dict{Float64, NamedTuple}` dictionary (where we iterate over the strike prices, i.e., the keys), we access the data from `put_data_dictionary::Dict{Float64, NamedTuple}` and compute several fields, e.g., the scaled strike price $K/S_{\\circ}$, the fraction of the observed premium contained in the intrinsic and extrinsic values, etc. The data that we will visualize is stored in the `put_dataframe::DataFrame` variable."
   ]
  },
  {
   "cell_type": "code",
   "execution_count": 17,
   "id": "c315719d-4450-4790-b484-e7f64f97f69e",
   "metadata": {},
   "outputs": [
    {
     "ename": "LoadError",
     "evalue": "UndefVarError: `put_data_dictionary` not defined in `Main`\nSuggestion: check for spelling errors or missing imports.",
     "output_type": "error",
     "traceback": [
      "UndefVarError: `put_data_dictionary` not defined in `Main`\nSuggestion: check for spelling errors or missing imports.",
      "",
      "Stacktrace:",
      " [1] top-level scope",
      "   @ ./In[17]:3"
     ]
    }
   ],
   "source": [
    "put_dataframe = let\n",
    "\n",
    "    put_strike_price_array = keys(put_data_dictionary) |> collect |> sort; # how many strikes do we have?\n",
    "    put_dataframe = DataFrame(); # initialize some storage\n",
    "    counter = 0; # counter\n",
    "    skip = 1; # skip constant\n",
    "    \n",
    "    # main loop\n",
    "    for K ∈ put_strike_price_array\n",
    "\n",
    "        if (mod(counter,skip) == 0)\n",
    "            data = put_data_dictionary[K];\n",
    "            row_df = (\n",
    "                K = K, # strike\n",
    "                scaled_K = (K/data.underlying), # scaled strike\n",
    "                intrinsic = data.intrinsic, # intrinsic value\n",
    "                extrinsic_bid = data.extrinsic_bid, # extrinsic of the bid\n",
    "                extrinsic_ask = data.extrinsic_ask, # extrinsic of the ask\n",
    "                premium_bid = data.premium_bid, # bid premium\n",
    "                premium_ask = data.premium_ask, # ask premium\n",
    "                fraction_extrinsic_ask = (data.extrinsic_ask/data.premium_ask)*100, # fraction of extrinsic for ask premium\n",
    "                fraction_intrinsic_ask = (data.intrinsic/data.premium_ask)*100, # fraction of intrinsic for ask premium\n",
    "            );\n",
    "            push!(put_dataframe, row_df);\n",
    "        end\n",
    "        counter += 1;\n",
    "    end\n",
    "    put_dataframe;\n",
    "end;"
   ]
  },
  {
   "cell_type": "markdown",
   "id": "ebdcb219-ee3e-4e31-950e-0f1cf2a4fddc",
   "metadata": {},
   "source": [
    "#### Summary\n",
    "`Unhide` the code block below to see how we visualized the fraction of the `ask` price made up of the extrinsic and intrinsic values of `put` contract data we stored in the `put_dataframe::DataFrame` variable. \n",
    "* The observed `put` premium (green line) increases as $K/S_{\\circ}\\uparrow$. Thus, the observed scaled premium is _directly proportional_ to the scaled strike price $K/S_{\\circ}$ and reaches a maximum at some $K/S_{\\circ}\\gg{1}$ value (edge of the data). Thus, as $K/S_{\\circ}\\rightarrow\\infty$, the payoff from exercising a `put` contract goes to $\\infty$. On the other hand, the condition $K/S_{\\circ}\\ll{1}$ implies $K\\ll{S}_{\\circ}$, which means the contract holder (following exercising the contract) buys shares at the market $S_{\\circ}$ and sells them at the strike $K$ (which gives a loss); hence the intrinsic value is zero in this regime.\n",
    "* The extrinsic fraction (blue line) of the premium decreases as $K/S_{\\circ}\\uparrow$. Thus, for a `put` contract, the extrinsic portion of the premium is _inversely proportional_ to the scaled strike price $K/S_{\\circ}$.\n",
    "* On the other hand, the premium's intrinsic portion (red line) is _directly proportional_ to the scaled strike price $K/S_{\\circ}$."
   ]
  },
  {
   "cell_type": "code",
   "execution_count": 19,
   "id": "0898ecc4-2d63-4372-8f65-cfb96907987b",
   "metadata": {},
   "outputs": [
    {
     "ename": "LoadError",
     "evalue": "UndefVarError: `put_dataframe` not defined in `Main`\nSuggestion: check for spelling errors or missing imports.",
     "output_type": "error",
     "traceback": [
      "UndefVarError: `put_dataframe` not defined in `Main`\nSuggestion: check for spelling errors or missing imports.",
      "",
      "Stacktrace:",
      " [1] top-level scope",
      "   @ In[19]:2"
     ]
    }
   ],
   "source": [
    "let\n",
    "    plot(put_dataframe[:,:scaled_K], put_dataframe[:,:fraction_extrinsic_ask], c=:blue, lw=3, label=\"Extrinsic put (ask)\", legend=:left, \n",
    "        bg=\"gray95\", background_color_outside=\"white\", framestyle = :box, fg_legend = :transparent)\n",
    "    plot!(put_dataframe[:,:scaled_K], put_dataframe[:,:fraction_intrinsic_ask], c=:red, lw=3, label=\"Intrinsic put (ask)\")\n",
    "    plot!(put_dataframe[:,:scaled_K], 100*(put_dataframe[:,:premium_ask]/(maximum(put_dataframe[:,:premium_ask]))), lw=3, label=\"Put premium (ask; observed)\")\n",
    "    xlabel!(\"Scaled strike price K/Sₒ (AU)\", fontsize=18)\n",
    "    ylabel!(\"Fraction of Option Premium (AU)\", fontsize=18)\n",
    "end"
   ]
  },
  {
   "cell_type": "markdown",
   "id": "d5108af0-7c94-44ef-81ae-994c01777ca5",
   "metadata": {},
   "source": [
    "## Task 2: Compute the Intrinsic and Extrinsic values of American call contacts\n",
    "In this task, we will compute the intrinsic and extrinsic values of an `AMD` call contract with `DTE` days to expiration (where `DTE` was specified above) using our market dataset. We'll show that the intrinsic and extrinsic values change as a function of the scaled strike price $K/S_{\\circ}$. For a `call` contract:\n",
    "* When $K/S_{\\circ}\\leq{1}$, the contract's intrinsic value becomes maximum, and the extrinsic value decays to zero. The premium observed in the marketplace in this regime is comprised of an increasing fraction of intrinsic value. In other words, if the `call` contract were exercised in this regime, the contract owner would have a non-negative payoff. \n",
    "* When $K/S_{\\circ}>{1}$, the premium observed in the marketplace is solely extrinsic value, i.e., the contract has a zero-payoff if exercised. However, buyers are willing to pay a non-zero premium for a seemingly worthless contract because they believe market conditions will change such that $K/S(T)<1$ at some `T` in the future (at which point the contract will no longer be worthless if exercised).\n",
    "\n",
    "Let's start to explore these scenarios by selecting the `DTE` contracts in the `list_of_call_options_chains::Dict{Int64, DataFrame}` variable, which we'll store in the `tmp_call_contract_list::DataFrame` variable. Each row in `tmp_call_contract_list::DataFrame` corresponds to a different `call` contract with the same days to expiration `DTE` value but different strike prices $K$."
   ]
  },
  {
   "cell_type": "code",
   "execution_count": 21,
   "id": "6f473fa3-1f57-4183-83bb-e064241c986f",
   "metadata": {},
   "outputs": [
    {
     "ename": "LoadError",
     "evalue": "KeyError: key 39 not found",
     "output_type": "error",
     "traceback": [
      "KeyError: key 39 not found",
      "",
      "Stacktrace:",
      " [1] getindex(h::Dict{Int64, DataFrame}, key::Int64)",
      "   @ Base ./dict.jl:477",
      " [2] top-level scope",
      "   @ In[21]:1"
     ]
    }
   ],
   "source": [
    "tmp_call_contract_list = list_of_call_options_chains[DTE]"
   ]
  },
  {
   "cell_type": "markdown",
   "id": "a58ed05c-ded1-4241-8265-0d331ad154ad",
   "metadata": {},
   "source": [
    "Next, for each contract in `tmp_call_contract_list::DataFrame,` we compute the payoff if we exercised the contract now, i.e., the intrinsic value and the extrinsic value (observed premium - intrinsic value) for each strike price in our list of contracts (which has dimension `number_of_call_contracts::Int64`). \n",
    "* We store the intrinsic, extrinsic et al. data in the `call_data_dictionary::Dict{Float64, NamedTuple}` dictionary, where the keys of this dictionary are strike prices $K$, and the values are a collection of various data associated with each contract.\n",
    "* We process each contract (row) in the `tmp_call_contract_list::DataFrame` using [a `for-loop`](https://docs.julialang.org/en/v1/base/base/#for). During each iteration of the loop, we access [data from the `tmp_contract_list::DataFrame` using the index and the column name](https://dataframes.juliadata.org/stable/man/comparisons/#Accessing-data). We then create [an instance of the `MyAmericanCallContractModel` model](https://varnerlab.github.io/VLQuantitativeFinancePackage.jl/dev/derivatives/#VLQuantitativeFinancePackage.MyAmericanCallContractModel) with the observed mid-point premium, strike price $K$ and other contract parameters, and [compute the payoff](https://varnerlab.github.io/VLQuantitativeFinancePackage.jl/dev/derivatives/#VLQuantitativeFinancePackage.payoff).\n",
    "* Finally, we encode the intrinsic, extrinsic values and other data for each contract [in a `NamedTuple` instance](https://docs.julialang.org/en/v1/base/base/#Core.NamedTuple) and store that in the `call_data_dictionary::Dict{Float64, NamedTuple}` dictionary, with the key being the strike price $K$."
   ]
  },
  {
   "cell_type": "code",
   "execution_count": 23,
   "id": "77ae3738-0cbe-429b-b6d0-371a1fa74e87",
   "metadata": {},
   "outputs": [
    {
     "ename": "LoadError",
     "evalue": "UndefVarError: `tmp_call_contract_list` not defined in `Main`\nSuggestion: check for spelling errors or missing imports.",
     "output_type": "error",
     "traceback": [
      "UndefVarError: `tmp_call_contract_list` not defined in `Main`\nSuggestion: check for spelling errors or missing imports.",
      "",
      "Stacktrace:",
      " [1] top-level scope",
      "   @ In[23]:1"
     ]
    }
   ],
   "source": [
    "number_of_call_contracts = nrow(tmp_call_contract_list);\n",
    "call_data_dictionary = Dict{Float64, NamedTuple}();\n",
    "for i ∈ 1:number_of_call_contracts\n",
    "    K = tmp_call_contract_list[i,:strike];\n",
    "    𝒫_ask = tmp_call_contract_list[i,:ask];\n",
    "    𝒫_bid = tmp_call_contract_list[i,:bid];\n",
    "    𝒫_mid = tmp_call_contract_list[i,:midpoint];\n",
    "    Sₒ = tmp_call_contract_list[i,:underlying]\n",
    "\n",
    "    # compute payoff (intrinsic) using short-cut syntax    \n",
    "    payoff_array = build(MyAmericanCallContractModel, (\n",
    "        K = K, sense = 1, copy = 1, DTE = (DTE*Δt), IV = 0.1, premium = 𝒫_mid)) |> model -> model([Sₒ]);\n",
    "\n",
    "    # capture the data\n",
    "    data = (\n",
    "        intrinsic = payoff_array[1,end],\n",
    "        extrinsic_bid = (𝒫_bid - payoff_array[1,end]),\n",
    "        extrinsic_ask = (𝒫_ask - payoff_array[1,end]),\n",
    "        extrinsic_mid = (𝒫_mid - payoff_array[1,end]),\n",
    "        premium_bid = 𝒫_bid,\n",
    "        premium_ask = 𝒫_ask,\n",
    "        premium_mid = 𝒫_mid,\n",
    "        underlying = Sₒ\n",
    "    );\n",
    "    call_data_dictionary[K] = data;\n",
    "end"
   ]
  },
  {
   "cell_type": "markdown",
   "id": "115c188c-c34d-4305-afe0-da19d9a22306",
   "metadata": {},
   "source": [
    "### Visualize\n",
    "Given the data stored in the `call_data_dictionary::Dict{Float64, NamedTuple}` dictionary, let's visualize the extrinsic and intrinsic values for the `call` contracts as a function of the scaled strike price $K/S_{\\circ}$. Collect data in the `call_dataframe::DataFrame` to make this plot using the code block below.\n",
    "* For each contract in `call_data_dictionary::Dict{Float64, NamedTuple}` dictionary (where we iterate over the strike prices, i.e., the keys), we access the data from `call_data_dictionary::Dict{Float64, NamedTuple}` and compute several fields, e.g., the scaled strike price $K/S_{\\circ}$, the fraction of the observed premium contained in the intrinsic and extrinsic values, etc. The data we will visualize is stored in the `call_dataframe::DataFrame` variable."
   ]
  },
  {
   "cell_type": "code",
   "execution_count": 25,
   "id": "03905570-8917-484d-a285-d7d67049d0ea",
   "metadata": {},
   "outputs": [
    {
     "ename": "LoadError",
     "evalue": "UndefVarError: `call_data_dictionary` not defined in `Main`\nSuggestion: check for spelling errors or missing imports.",
     "output_type": "error",
     "traceback": [
      "UndefVarError: `call_data_dictionary` not defined in `Main`\nSuggestion: check for spelling errors or missing imports.",
      "",
      "Stacktrace:",
      " [1] top-level scope",
      "   @ ./In[25]:3"
     ]
    }
   ],
   "source": [
    "call_dataframe = let\n",
    "\n",
    "    call_strike_price_array = keys(call_data_dictionary) |> collect |> sort; # how many strikes do we have?\n",
    "    call_dataframe = DataFrame(); # initialize some storage\n",
    "    counter = 0; # counter\n",
    "    skip = 1; # skip constant\n",
    "    \n",
    "    # main loop\n",
    "    for K ∈ call_strike_price_array\n",
    "\n",
    "        if (mod(counter,skip) == 0)\n",
    "            data = call_data_dictionary[K];\n",
    "            row_df = (\n",
    "                K = K, # strike\n",
    "                scaled_K = (K/data.underlying), # scaled strike\n",
    "                intrinsic = data.intrinsic, # intrinsic value\n",
    "                extrinsic_bid = data.extrinsic_bid, # extrinsic of the bid\n",
    "                extrinsic_ask = data.extrinsic_ask, # extrinsic of the ask\n",
    "                premium_bid = data.premium_bid, # bid premium\n",
    "                premium_ask = data.premium_ask, # ask premium\n",
    "                fraction_extrinsic_ask = (data.extrinsic_ask/data.premium_ask)*100, # fraction of extrinsic for ask premium\n",
    "                fraction_intrinsic_ask = (data.intrinsic/data.premium_ask)*100, # fraction of intrinsic for ask premium\n",
    "            );\n",
    "            push!(call_dataframe, row_df);\n",
    "        end\n",
    "        counter += 1;\n",
    "    end\n",
    "    call_dataframe;\n",
    "end;"
   ]
  },
  {
   "cell_type": "markdown",
   "id": "40fde440-c649-4029-ad2c-61192a123428",
   "metadata": {},
   "source": [
    "#### Summary\n",
    "`Unhide` the code block below to see how we visualized the fraction of the `ask` price made up of the extrinsic and intrinsic values of `call` contract data as a function of $K/S_{\\circ}$ stored in the `call_dataframe::DataFrame` variable.\n",
    "* The observed scaled `call` premium (green line) decreases as $K/S_{\\circ}\\uparrow$ and reaches a maximum at some $K/S_{\\circ}\\ll{1}$ value (edge of the data). Thus, as $K/S_{\\circ}\\uparrow$, the payoff from exercising a `call` contract goes to zero. On the other hand, the condition $K/S_{\\circ}\\ll{1}$ implies $K\\ll{S}_{\\circ}$, which means the contract holder (following exercising the contract) buys shares at the strike $K$ and sells them at $S_{\\circ}$.\n",
    "* The extrinsic fraction (blue line) of the premium increases as $K/S_{\\circ}\\uparrow$, i.e., for a `call` contract, the extrinsic portion of the premium is _directly proportional_ to the scaled strike price $K/S_{\\circ}$. Of course, the contract premium goes to zero as $K/S_{\\circ}\\rightarrow\\infty$, thus, the actual total value of the contract is small in this regime.\n",
    "* Conversely, the premium's intrinsic portion (red line) is _indirectly proportional_ to the scaled strike price $K/S_{\\circ}$. Thus, as $K/S_{\\circ}\\downarrow$, the intrinsic value of the contract increases."
   ]
  },
  {
   "cell_type": "code",
   "execution_count": 27,
   "id": "2e573155-0c0c-498b-b2cc-7f98ac8baa1d",
   "metadata": {
    "jupyter": {
     "source_hidden": true
    }
   },
   "outputs": [
    {
     "ename": "LoadError",
     "evalue": "UndefVarError: `call_dataframe` not defined in `Main`\nSuggestion: check for spelling errors or missing imports.",
     "output_type": "error",
     "traceback": [
      "UndefVarError: `call_dataframe` not defined in `Main`\nSuggestion: check for spelling errors or missing imports.",
      "",
      "Stacktrace:",
      " [1] top-level scope",
      "   @ In[27]:2"
     ]
    }
   ],
   "source": [
    "let\n",
    "    plot(call_dataframe[:,:scaled_K], call_dataframe[:,:fraction_extrinsic_ask], c=:blue, lw=3, label=\"Extrinsic call (ask)\", legend=:left, \n",
    "        bg=\"gray95\", background_color_outside=\"white\", framestyle = :box, fg_legend = :transparent)\n",
    "    plot!(call_dataframe[:,:scaled_K], call_dataframe[:,:fraction_intrinsic_ask], c=:red, lw=3, label=\"Intrinsic call (ask)\")\n",
    "    plot!(call_dataframe[:,:scaled_K], 100*(call_dataframe[:,:premium_ask]/(maximum(call_dataframe[:,:premium_ask]))), lw=2, ls=:dash,\n",
    "        label=\"Scaled call premium (observed)\", legend=:right)\n",
    "    xlabel!(\"Scaled strike price K/Sₒ (AU)\", fontsize=18)\n",
    "    ylabel!(\"Fraction of Option Premium (AU)\", fontsize=18)\n",
    "end"
   ]
  },
  {
   "cell_type": "markdown",
   "id": "130798f3-f7e4-4389-8caa-1d660d669b72",
   "metadata": {},
   "source": [
    "## Disclaimer and Risks\n",
    "__This content is offered solely for training and informational purposes__. No offer or solicitation to buy or sell securities or derivative products or any investment or trading advice or strategy is made, given, or endorsed by the teaching team. \n",
    "\n",
    "__Trading involves risk__. Carefully review your financial situation before investing in securities, futures contracts, options, or commodity interests. Past performance, whether actual or indicated by historical tests of strategies, is no guarantee of future performance or success. Trading is generally inappropriate for someone with limited resources, investment or trading experience, or a low-risk tolerance.  Only risk capital that is not required for living expenses.\n",
    "\n",
    "__You are fully responsible for any investment or trading decisions you make__. Such decisions should be based solely on evaluating your financial circumstances, investment or trading objectives, risk tolerance, and liquidity needs."
   ]
  }
 ],
 "metadata": {
  "kernelspec": {
   "display_name": "Julia 1.11.1",
   "language": "julia",
   "name": "julia-1.11"
  },
  "language_info": {
   "file_extension": ".jl",
   "mimetype": "application/julia",
   "name": "julia",
   "version": "1.11.1"
  }
 },
 "nbformat": 4,
 "nbformat_minor": 5
}
