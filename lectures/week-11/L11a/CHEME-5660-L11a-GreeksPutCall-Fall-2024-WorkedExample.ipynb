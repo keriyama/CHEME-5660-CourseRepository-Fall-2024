{
 "cells": [
  {
   "cell_type": "markdown",
   "id": "96a4ae07-db43-42b7-b9c3-28b679a8dd32",
   "metadata": {},
   "source": [
    "# Example: Calculate Delta, Theta, Vega, Rho, and Gamma for Short and Long Options Contracts\n",
    "[The Greeks](https://en.wikipedia.org/wiki/en:Greeks_(finance)?variant=zh-tw) are quantitative measures that describe the sensitivity of an American option's price to various risk factors. Understanding and monitoring the Greeks is crucial for effective options trading and risk management. The key Greeks for American options include `delta,` `gamma,` `vega,` `theta,` and `rho,` each quantifying how the option's value changes with movements in the underlying asset price, volatility, time decay, and interest rates.\n",
    "\n",
    "## Learning objectives\n",
    "This example will familiarize you with calculating [the Greeks](https://en.wikipedia.org/wiki/en:Greeks_(finance)?variant=zh-tw) for long and short American-style option contracts, and give you a chance to test your calculations using actual contracts from the [NVIDIA Corporation](https://finance.yahoo.com/quote/NVDA/) (ticker `NVDA`). Let's get started!\n",
    "* __Prerequisites__: We'll begin by setting some parameter values for the contracts, then we'll build contract models for the example call and put options on `NVDA.`\n",
    "* __Task 1__: Compute the Greeks for a Long `NVDA` Call Option.\n",
    "    * `TODO`: Compute `delta` and check the computed and observed `delta` values for a long call\n",
    "    * `TODO`: Compute `theta` and check the computed and observed `theta` values for a long call\n",
    "    * `TODO`: Compute `vega` and check the computed and observed `vega` values for a long call\n",
    "    * `TODO`: Compute `rho` and check the computed and observed `rho` values for a long call\n",
    "    * `TODO`: Compute `gamma` and check the computed and observed `gamma` values for a long call\n",
    "* __Task 2__: Compute the Greeks for a Long `NVDA` Put Option.\n",
    "    * `TODO`: Compute `delta` and check the computed and observed `delta` values for a long put\n",
    "    * `TODO`: Compute `theta` and check the computed and observed `theta` values for a long put\n",
    "    * `TODO`: Compute `vega` and check the computed and observed `vega` values for a long put\n",
    "    * `TODO`: Compute `rho` and check the computed and observed `rho` values for a long put\n",
    "    * `TODO`: Compute `gamma` and check the computed and observed `gamma` values for a long put\n",
    "* __Task 3__: Conversion of the Greeks for Long Contracts to Short Contracts"
   ]
  },
  {
   "cell_type": "markdown",
   "id": "5ac08825-a65e-4d28-ac55-369d90e2e748",
   "metadata": {},
   "source": [
    "## Setup\n",
    "Set up the computational environment by including the `Include.jl` file. The `Include.jl` file loads external packages, various functions we will use in the exercise, and custom types to model the components of our example problem.\n",
    "* For additional information on functions and types used in this material, see the [Julia programming language documentation](https://docs.julialang.org/en/v1/) and the [VLQuantitativeFinancePackage.jl documentation](https://github.com/varnerlab/VLQuantitativeFinancePackage.jl). "
   ]
  },
  {
   "cell_type": "code",
   "execution_count": 3,
   "id": "19560570-f64d-46f3-bb73-a78c31752d2d",
   "metadata": {},
   "outputs": [
    {
     "name": "stderr",
     "output_type": "stream",
     "text": [
      "\u001b[32m\u001b[1m    Updating\u001b[22m\u001b[39m git-repo `https://github.com/varnerlab/VLQuantitativeFinancePackage.jl.git`\n",
      "\u001b[32m\u001b[1m    Updating\u001b[22m\u001b[39m registry at `~/.julia/registries/General.toml`\n",
      "\u001b[32m\u001b[1m   Resolving\u001b[22m\u001b[39m package versions...\n",
      "\u001b[32m\u001b[1m   Installed\u001b[22m\u001b[39m SentinelArrays ─ v1.4.7\n",
      "\u001b[32m\u001b[1m   Installed\u001b[22m\u001b[39m Adapt ────────── v4.1.1\n",
      "\u001b[32m\u001b[1m   Installed\u001b[22m\u001b[39m Distances ────── v0.10.12\n",
      "\u001b[32m\u001b[1m   Installed\u001b[22m\u001b[39m ForwardDiff ──── v0.10.37\n",
      "\u001b[32m\u001b[1m    Updating\u001b[22m\u001b[39m `~/Desktop/julia_work/CHEME-5660-CourseRepository-Fall-2024/lectures/week-11/L11a/Project.toml`\n",
      "  \u001b[90m[336ed68f] \u001b[39m\u001b[92m+ CSV v0.10.15\u001b[39m\n",
      "\u001b[33m⌅\u001b[39m \u001b[90m[5ae59095] \u001b[39m\u001b[92m+ Colors v0.12.11\u001b[39m\n",
      "  \u001b[90m[a93c6f00] \u001b[39m\u001b[92m+ DataFrames v1.7.0\u001b[39m\n",
      "  \u001b[90m[31c24e10] \u001b[39m\u001b[92m+ Distributions v0.25.112\u001b[39m\n",
      "  \u001b[90m[5789e2e9] \u001b[39m\u001b[92m+ FileIO v1.16.4\u001b[39m\n",
      "  \u001b[90m[09f84164] \u001b[39m\u001b[92m+ HypothesisTests v0.11.3\u001b[39m\n",
      "  \u001b[90m[033835bb] \u001b[39m\u001b[92m+ JLD2 v0.5.7\u001b[39m\n",
      "  \u001b[90m[91a5bcdd] \u001b[39m\u001b[92m+ Plots v1.40.8\u001b[39m\n",
      "  \u001b[90m[08abe8d2] \u001b[39m\u001b[92m+ PrettyTables v2.4.0\u001b[39m\n",
      "  \u001b[90m[10745b16] \u001b[39m\u001b[92m+ Statistics v1.11.1\u001b[39m\n",
      "  \u001b[90m[f3b207a7] \u001b[39m\u001b[92m+ StatsPlots v0.15.7\u001b[39m\n",
      "  \u001b[90m[4119e0bf] \u001b[39m\u001b[92m+ VLQuantitativeFinancePackage v1.0.0-DEV `https://github.com/varnerlab/VLQuantitativeFinancePackage.jl.git#main`\u001b[39m\n",
      "  \u001b[90m[ade2ca70] \u001b[39m\u001b[93m~ Dates ⇒ v1.11.0\u001b[39m\n",
      "  \u001b[90m[37e2e46d] \u001b[39m\u001b[93m~ LinearAlgebra ⇒ v1.11.0\u001b[39m\n",
      "\u001b[32m\u001b[1m    Updating\u001b[22m\u001b[39m `~/Desktop/julia_work/CHEME-5660-CourseRepository-Fall-2024/lectures/week-11/L11a/Manifest.toml`\n",
      "  \u001b[90m[621f4979] \u001b[39m\u001b[92m+ AbstractFFTs v1.5.0\u001b[39m\n",
      "  \u001b[90m[7d9f7c33] \u001b[39m\u001b[92m+ Accessors v0.1.38\u001b[39m\n",
      "  \u001b[90m[79e6a3ab] \u001b[39m\u001b[92m+ Adapt v4.1.1\u001b[39m\n",
      "  \u001b[90m[66dad0bd] \u001b[39m\u001b[92m+ AliasTables v1.1.3\u001b[39m\n",
      "  \u001b[90m[7d9fca2a] \u001b[39m\u001b[92m+ Arpack v0.5.4\u001b[39m\n",
      "  \u001b[90m[4fba245c] \u001b[39m\u001b[92m+ ArrayInterface v7.16.0\u001b[39m\n",
      "  \u001b[90m[13072b0f] \u001b[39m\u001b[92m+ AxisAlgorithms v1.1.0\u001b[39m\n",
      "  \u001b[90m[6e4b80f9] \u001b[39m\u001b[92m+ BenchmarkTools v1.5.0\u001b[39m\n",
      "  \u001b[90m[d1d4a3ce] \u001b[39m\u001b[92m+ BitFlags v0.1.9\u001b[39m\n",
      "  \u001b[90m[336ed68f] \u001b[39m\u001b[92m+ CSV v0.10.15\u001b[39m\n",
      "  \u001b[90m[d360d2e6] \u001b[39m\u001b[92m+ ChainRulesCore v1.25.0\u001b[39m\n",
      "  \u001b[90m[aaaa29a8] \u001b[39m\u001b[92m+ Clustering v0.15.7\u001b[39m\n",
      "  \u001b[90m[523fee87] \u001b[39m\u001b[92m+ CodecBzip2 v0.8.4\u001b[39m\n",
      "  \u001b[90m[944b1d66] \u001b[39m\u001b[92m+ CodecZlib v0.7.6\u001b[39m\n",
      "  \u001b[90m[35d6a980] \u001b[39m\u001b[92m+ ColorSchemes v3.27.0\u001b[39m\n",
      "\u001b[33m⌅\u001b[39m \u001b[90m[3da002f7] \u001b[39m\u001b[92m+ ColorTypes v0.11.5\u001b[39m\n",
      "  \u001b[90m[c3611d14] \u001b[39m\u001b[92m+ ColorVectorSpace v0.10.0\u001b[39m\n",
      "\u001b[33m⌅\u001b[39m \u001b[90m[5ae59095] \u001b[39m\u001b[92m+ Colors v0.12.11\u001b[39m\n",
      "  \u001b[90m[861a8166] \u001b[39m\u001b[92m+ Combinatorics v1.0.2\u001b[39m\n",
      "  \u001b[90m[38540f10] \u001b[39m\u001b[92m+ CommonSolve v0.2.4\u001b[39m\n",
      "  \u001b[90m[bbf7d656] \u001b[39m\u001b[92m+ CommonSubexpressions v0.3.1\u001b[39m\n",
      "  \u001b[90m[34da2185] \u001b[39m\u001b[92m+ Compat v4.16.0\u001b[39m\n",
      "  \u001b[90m[a33af91c] \u001b[39m\u001b[92m+ CompositionsBase v0.1.2\u001b[39m\n",
      "  \u001b[90m[f0e56b4a] \u001b[39m\u001b[92m+ ConcurrentUtilities v2.4.2\u001b[39m\n",
      "  \u001b[90m[187b0558] \u001b[39m\u001b[92m+ ConstructionBase v1.5.8\u001b[39m\n",
      "  \u001b[90m[d38c429a] \u001b[39m\u001b[92m+ Contour v0.6.3\u001b[39m\n",
      "  \u001b[90m[a8cc5b0e] \u001b[39m\u001b[92m+ Crayons v4.1.1\u001b[39m\n",
      "  \u001b[90m[9a962f9c] \u001b[39m\u001b[92m+ DataAPI v1.16.0\u001b[39m\n",
      "  \u001b[90m[a93c6f00] \u001b[39m\u001b[92m+ DataFrames v1.7.0\u001b[39m\n",
      "  \u001b[90m[864edb3b] \u001b[39m\u001b[92m+ DataStructures v0.18.20\u001b[39m\n",
      "  \u001b[90m[e2d170a0] \u001b[39m\u001b[92m+ DataValueInterfaces v1.0.0\u001b[39m\n",
      "  \u001b[90m[8bb1440f] \u001b[39m\u001b[92m+ DelimitedFiles v1.9.1\u001b[39m\n",
      "  \u001b[90m[163ba53b] \u001b[39m\u001b[92m+ DiffResults v1.1.0\u001b[39m\n",
      "  \u001b[90m[b552c78f] \u001b[39m\u001b[92m+ DiffRules v1.15.1\u001b[39m\n",
      "  \u001b[90m[b4f34e82] \u001b[39m\u001b[92m+ Distances v0.10.12\u001b[39m\n",
      "  \u001b[90m[31c24e10] \u001b[39m\u001b[92m+ Distributions v0.25.112\u001b[39m\n",
      "  \u001b[90m[ffbed154] \u001b[39m\u001b[92m+ DocStringExtensions v0.9.3\u001b[39m\n",
      "  \u001b[90m[460bff9d] \u001b[39m\u001b[92m+ ExceptionUnwrapping v0.1.10\u001b[39m\n",
      "  \u001b[90m[e2ba6199] \u001b[39m\u001b[92m+ ExprTools v0.1.10\u001b[39m\n",
      "  \u001b[90m[c87230d0] \u001b[39m\u001b[92m+ FFMPEG v0.4.2\u001b[39m\n",
      "  \u001b[90m[7a1cc6ca] \u001b[39m\u001b[92m+ FFTW v1.8.0\u001b[39m\n",
      "  \u001b[90m[9aa1b823] \u001b[39m\u001b[92m+ FastClosures v0.3.2\u001b[39m\n",
      "  \u001b[90m[5789e2e9] \u001b[39m\u001b[92m+ FileIO v1.16.4\u001b[39m\n",
      "  \u001b[90m[48062228] \u001b[39m\u001b[92m+ FilePathsBase v0.9.22\u001b[39m\n",
      "  \u001b[90m[1a297f60] \u001b[39m\u001b[92m+ FillArrays v1.13.0\u001b[39m\n",
      "  \u001b[90m[6a86dc24] \u001b[39m\u001b[92m+ FiniteDiff v2.26.0\u001b[39m\n",
      "  \u001b[90m[53c48c17] \u001b[39m\u001b[92m+ FixedPointNumbers v0.8.5\u001b[39m\n",
      "  \u001b[90m[1fa38f19] \u001b[39m\u001b[92m+ Format v1.3.7\u001b[39m\n",
      "  \u001b[90m[f6369f11] \u001b[39m\u001b[92m+ ForwardDiff v0.10.37\u001b[39m\n",
      "  \u001b[90m[28b8d3ca] \u001b[39m\u001b[92m+ GR v0.73.8\u001b[39m\n",
      "  \u001b[90m[42e2da0e] \u001b[39m\u001b[92m+ Grisu v1.0.2\u001b[39m\n",
      "  \u001b[90m[cd3eb016] \u001b[39m\u001b[92m+ HTTP v1.10.9\u001b[39m\n",
      "  \u001b[90m[34004b35] \u001b[39m\u001b[92m+ HypergeometricFunctions v0.3.24\u001b[39m\n",
      "  \u001b[90m[09f84164] \u001b[39m\u001b[92m+ HypothesisTests v0.11.3\u001b[39m\n",
      "  \u001b[90m[842dd82b] \u001b[39m\u001b[92m+ InlineStrings v1.4.2\u001b[39m\n",
      "  \u001b[90m[a98d9a8b] \u001b[39m\u001b[92m+ Interpolations v0.15.1\u001b[39m\n",
      "  \u001b[90m[3587e190] \u001b[39m\u001b[92m+ InverseFunctions v0.1.17\u001b[39m\n",
      "  \u001b[90m[41ab1584] \u001b[39m\u001b[92m+ InvertedIndices v1.3.0\u001b[39m\n",
      "  \u001b[90m[92d709cd] \u001b[39m\u001b[92m+ IrrationalConstants v0.2.2\u001b[39m\n",
      "  \u001b[90m[82899510] \u001b[39m\u001b[92m+ IteratorInterfaceExtensions v1.0.0\u001b[39m\n",
      "  \u001b[90m[033835bb] \u001b[39m\u001b[92m+ JLD2 v0.5.7\u001b[39m\n",
      "  \u001b[90m[1019f520] \u001b[39m\u001b[92m+ JLFzf v0.1.8\u001b[39m\n",
      "  \u001b[90m[692b3bcd] \u001b[39m\u001b[92m+ JLLWrappers v1.6.1\u001b[39m\n",
      "  \u001b[90m[682c06a0] \u001b[39m\u001b[92m+ JSON v0.21.4\u001b[39m\n",
      "  \u001b[90m[4076af6c] \u001b[39m\u001b[92m+ JuMP v1.23.3\u001b[39m\n",
      "  \u001b[90m[5ab0869b] \u001b[39m\u001b[92m+ KernelDensity v0.6.9\u001b[39m\n",
      "  \u001b[90m[b964fa9f] \u001b[39m\u001b[92m+ LaTeXStrings v1.4.0\u001b[39m\n",
      "  \u001b[90m[23fbe1c1] \u001b[39m\u001b[92m+ Latexify v0.16.5\u001b[39m\n",
      "  \u001b[90m[d3d80556] \u001b[39m\u001b[92m+ LineSearches v7.3.0\u001b[39m\n",
      "  \u001b[90m[5c8ed15e] \u001b[39m\u001b[92m+ LinearOperators v2.9.0\u001b[39m\n",
      "  \u001b[90m[2ab3a3ac] \u001b[39m\u001b[92m+ LogExpFunctions v0.3.28\u001b[39m\n",
      "  \u001b[90m[e6f89c97] \u001b[39m\u001b[92m+ LoggingExtras v1.1.0\u001b[39m\n",
      "  \u001b[90m[2fda8390] \u001b[39m\u001b[92m+ LsqFit v0.15.0\u001b[39m\n",
      "  \u001b[90m[1914dd2f] \u001b[39m\u001b[92m+ MacroTools v0.5.13\u001b[39m\n",
      "\u001b[32m⌃\u001b[39m \u001b[90m[2621e9c9] \u001b[39m\u001b[92m+ MadNLP v0.7.0\u001b[39m\n",
      "  \u001b[90m[b8f27783] \u001b[39m\u001b[92m+ MathOptInterface v1.33.0\u001b[39m\n",
      "  \u001b[90m[739be429] \u001b[39m\u001b[92m+ MbedTLS v1.1.9\u001b[39m\n",
      "  \u001b[90m[442fdcdd] \u001b[39m\u001b[92m+ Measures v0.3.2\u001b[39m\n",
      "  \u001b[90m[e1d29d7a] \u001b[39m\u001b[92m+ Missings v1.2.0\u001b[39m\n",
      "  \u001b[90m[6f286f6a] \u001b[39m\u001b[92m+ MultivariateStats v0.10.3\u001b[39m\n",
      "  \u001b[90m[d8a4904e] \u001b[39m\u001b[92m+ MutableArithmetics v1.5.2\u001b[39m\n",
      "\u001b[33m⌅\u001b[39m \u001b[90m[a4795742] \u001b[39m\u001b[92m+ NLPModels v0.20.0\u001b[39m\n",
      "  \u001b[90m[d41bc354] \u001b[39m\u001b[92m+ NLSolversBase v7.8.3\u001b[39m\n",
      "  \u001b[90m[77ba4419] \u001b[39m\u001b[92m+ NaNMath v1.0.2\u001b[39m\n",
      "  \u001b[90m[b8a86587] \u001b[39m\u001b[92m+ NearestNeighbors v0.4.20\u001b[39m\n",
      "  \u001b[90m[510215fc] \u001b[39m\u001b[92m+ Observables v0.5.5\u001b[39m\n",
      "  \u001b[90m[6fe1bfb0] \u001b[39m\u001b[92m+ OffsetArrays v1.14.1\u001b[39m\n",
      "  \u001b[90m[4d8831e6] \u001b[39m\u001b[92m+ OpenSSL v1.4.3\u001b[39m\n",
      "  \u001b[90m[429524aa] \u001b[39m\u001b[92m+ Optim v1.9.4\u001b[39m\n",
      "  \u001b[90m[bac558e1] \u001b[39m\u001b[92m+ OrderedCollections v1.6.3\u001b[39m\n",
      "  \u001b[90m[90014a1f] \u001b[39m\u001b[92m+ PDMats v0.11.31\u001b[39m\n",
      "  \u001b[90m[d96e819e] \u001b[39m\u001b[92m+ Parameters v0.12.3\u001b[39m\n",
      "  \u001b[90m[69de0a69] \u001b[39m\u001b[92m+ Parsers v2.8.1\u001b[39m\n",
      "  \u001b[90m[b98c9c47] \u001b[39m\u001b[92m+ Pipe v1.3.0\u001b[39m\n",
      "  \u001b[90m[ccf2f8ad] \u001b[39m\u001b[92m+ PlotThemes v3.3.0\u001b[39m\n",
      "  \u001b[90m[995b91a9] \u001b[39m\u001b[92m+ PlotUtils v1.4.3\u001b[39m\n",
      "  \u001b[90m[91a5bcdd] \u001b[39m\u001b[92m+ Plots v1.40.8\u001b[39m\n",
      "  \u001b[90m[2dfb63ee] \u001b[39m\u001b[92m+ PooledArrays v1.4.3\u001b[39m\n",
      "  \u001b[90m[85a6dd25] \u001b[39m\u001b[92m+ PositiveFactorizations v0.2.4\u001b[39m\n",
      "  \u001b[90m[aea7be01] \u001b[39m\u001b[92m+ PrecompileTools v1.2.1\u001b[39m\n",
      "  \u001b[90m[21216c6a] \u001b[39m\u001b[92m+ Preferences v1.4.3\u001b[39m\n",
      "  \u001b[90m[08abe8d2] \u001b[39m\u001b[92m+ PrettyTables v2.4.0\u001b[39m\n",
      "  \u001b[90m[43287f4e] \u001b[39m\u001b[92m+ PtrArrays v1.2.1\u001b[39m\n",
      "  \u001b[90m[1fd47b50] \u001b[39m\u001b[92m+ QuadGK v2.11.1\u001b[39m\n",
      "  \u001b[90m[c84ed2f1] \u001b[39m\u001b[92m+ Ratios v0.4.5\u001b[39m\n",
      "  \u001b[90m[3cdcf5f2] \u001b[39m\u001b[92m+ RecipesBase v1.3.4\u001b[39m\n",
      "  \u001b[90m[01d81517] \u001b[39m\u001b[92m+ RecipesPipeline v0.6.12\u001b[39m\n",
      "  \u001b[90m[189a3867] \u001b[39m\u001b[92m+ Reexport v1.2.2\u001b[39m\n",
      "  \u001b[90m[05181044] \u001b[39m\u001b[92m+ RelocatableFolders v1.0.1\u001b[39m\n",
      "  \u001b[90m[ae029012] \u001b[39m\u001b[92m+ Requires v1.3.0\u001b[39m\n",
      "  \u001b[90m[79098fc4] \u001b[39m\u001b[92m+ Rmath v0.8.0\u001b[39m\n",
      "  \u001b[90m[f2b01f46] \u001b[39m\u001b[92m+ Roots v2.2.1\u001b[39m\n",
      "  \u001b[90m[6c6a2e73] \u001b[39m\u001b[92m+ Scratch v1.2.1\u001b[39m\n",
      "  \u001b[90m[91c51154] \u001b[39m\u001b[92m+ SentinelArrays v1.4.7\u001b[39m\n",
      "  \u001b[90m[efcf1570] \u001b[39m\u001b[92m+ Setfield v1.1.1\u001b[39m\n",
      "  \u001b[90m[992d4aef] \u001b[39m\u001b[92m+ Showoff v1.0.3\u001b[39m\n",
      "  \u001b[90m[777ac1f9] \u001b[39m\u001b[92m+ SimpleBufferStream v1.2.0\u001b[39m\n",
      "  \u001b[90m[ff4d7338] \u001b[39m\u001b[92m+ SolverCore v0.3.8\u001b[39m\n",
      "  \u001b[90m[a2af1166] \u001b[39m\u001b[92m+ SortingAlgorithms v1.2.1\u001b[39m\n",
      "  \u001b[90m[276daf66] \u001b[39m\u001b[92m+ SpecialFunctions v2.4.0\u001b[39m\n",
      "  \u001b[90m[860ef19b] \u001b[39m\u001b[92m+ StableRNGs v1.0.2\u001b[39m\n",
      "  \u001b[90m[90137ffa] \u001b[39m\u001b[92m+ StaticArrays v1.9.8\u001b[39m\n",
      "  \u001b[90m[1e83bf80] \u001b[39m\u001b[92m+ StaticArraysCore v1.4.3\u001b[39m\n",
      "  \u001b[90m[10745b16] \u001b[39m\u001b[92m+ Statistics v1.11.1\u001b[39m\n",
      "  \u001b[90m[82ae8749] \u001b[39m\u001b[92m+ StatsAPI v1.7.0\u001b[39m\n",
      "  \u001b[90m[2913bbd2] \u001b[39m\u001b[92m+ StatsBase v0.34.3\u001b[39m\n",
      "  \u001b[90m[4c63d2b9] \u001b[39m\u001b[92m+ StatsFuns v1.3.2\u001b[39m\n",
      "  \u001b[90m[f3b207a7] \u001b[39m\u001b[92m+ StatsPlots v0.15.7\u001b[39m\n",
      "  \u001b[90m[892a3eda] \u001b[39m\u001b[92m+ StringManipulation v0.4.0\u001b[39m\n",
      "  \u001b[90m[ab02a1b2] \u001b[39m\u001b[92m+ TableOperations v1.2.0\u001b[39m\n",
      "  \u001b[90m[3783bdb8] \u001b[39m\u001b[92m+ TableTraits v1.0.1\u001b[39m\n",
      "  \u001b[90m[bd369af6] \u001b[39m\u001b[92m+ Tables v1.12.0\u001b[39m\n",
      "  \u001b[90m[62fd8b95] \u001b[39m\u001b[92m+ TensorCore v0.1.1\u001b[39m\n",
      "  \u001b[90m[a759f4b9] \u001b[39m\u001b[92m+ TimerOutputs v0.5.25\u001b[39m\n",
      "  \u001b[90m[3bb67fe8] \u001b[39m\u001b[92m+ TranscodingStreams v0.11.3\u001b[39m\n",
      "  \u001b[90m[5c2747f8] \u001b[39m\u001b[92m+ URIs v1.5.1\u001b[39m\n",
      "  \u001b[90m[3a884ed6] \u001b[39m\u001b[92m+ UnPack v1.0.2\u001b[39m\n",
      "  \u001b[90m[1cfade01] \u001b[39m\u001b[92m+ UnicodeFun v0.4.1\u001b[39m\n",
      "  \u001b[90m[1986cc42] \u001b[39m\u001b[92m+ Unitful v1.21.0\u001b[39m\n",
      "  \u001b[90m[45397f5d] \u001b[39m\u001b[92m+ UnitfulLatexify v1.6.4\u001b[39m\n",
      "  \u001b[90m[41fe7b60] \u001b[39m\u001b[92m+ Unzip v0.2.0\u001b[39m\n",
      "  \u001b[90m[4119e0bf] \u001b[39m\u001b[92m+ VLQuantitativeFinancePackage v1.0.0-DEV `https://github.com/varnerlab/VLQuantitativeFinancePackage.jl.git#main`\u001b[39m\n",
      "  \u001b[90m[ea10d353] \u001b[39m\u001b[92m+ WeakRefStrings v1.4.2\u001b[39m\n",
      "  \u001b[90m[cc8bc4a8] \u001b[39m\u001b[92m+ Widgets v0.6.6\u001b[39m\n",
      "  \u001b[90m[efce3f68] \u001b[39m\u001b[92m+ WoodburyMatrices v1.0.0\u001b[39m\n",
      "  \u001b[90m[76eceee3] \u001b[39m\u001b[92m+ WorkerUtilities v1.6.1\u001b[39m\n",
      "\u001b[33m⌅\u001b[39m \u001b[90m[68821587] \u001b[39m\u001b[92m+ Arpack_jll v3.5.1+1\u001b[39m\n",
      "  \u001b[90m[6e34b625] \u001b[39m\u001b[92m+ Bzip2_jll v1.0.8+2\u001b[39m\n",
      "  \u001b[90m[83423d85] \u001b[39m\u001b[92m+ Cairo_jll v1.18.2+1\u001b[39m\n",
      "  \u001b[90m[ee1fde0b] \u001b[39m\u001b[92m+ Dbus_jll v1.14.10+0\u001b[39m\n",
      "  \u001b[90m[2702e6a9] \u001b[39m\u001b[92m+ EpollShim_jll v0.0.20230411+0\u001b[39m\n",
      "  \u001b[90m[2e619515] \u001b[39m\u001b[92m+ Expat_jll v2.6.2+0\u001b[39m\n",
      "\u001b[33m⌅\u001b[39m \u001b[90m[b22a6f82] \u001b[39m\u001b[92m+ FFMPEG_jll v4.4.4+1\u001b[39m\n",
      "  \u001b[90m[f5851436] \u001b[39m\u001b[92m+ FFTW_jll v3.3.10+1\u001b[39m\n",
      "  \u001b[90m[a3f928ae] \u001b[39m\u001b[92m+ Fontconfig_jll v2.13.96+0\u001b[39m\n",
      "  \u001b[90m[d7e528f0] \u001b[39m\u001b[92m+ FreeType2_jll v2.13.2+0\u001b[39m\n",
      "  \u001b[90m[559328eb] \u001b[39m\u001b[92m+ FriBidi_jll v1.0.14+0\u001b[39m\n",
      "  \u001b[90m[0656b61e] \u001b[39m\u001b[92m+ GLFW_jll v3.4.0+1\u001b[39m\n",
      "  \u001b[90m[d2c73de3] \u001b[39m\u001b[92m+ GR_jll v0.73.8+0\u001b[39m\n",
      "  \u001b[90m[78b55507] \u001b[39m\u001b[92m+ Gettext_jll v0.21.0+0\u001b[39m\n",
      "  \u001b[90m[7746bdde] \u001b[39m\u001b[92m+ Glib_jll v2.80.5+0\u001b[39m\n",
      "  \u001b[90m[3b182d85] \u001b[39m\u001b[92m+ Graphite2_jll v1.3.14+0\u001b[39m\n",
      "  \u001b[90m[2e76f6c2] \u001b[39m\u001b[92m+ HarfBuzz_jll v8.3.1+0\u001b[39m\n",
      "  \u001b[90m[1d5cc7b8] \u001b[39m\u001b[92m+ IntelOpenMP_jll v2024.2.1+0\u001b[39m\n",
      "  \u001b[90m[aacddb02] \u001b[39m\u001b[92m+ JpegTurbo_jll v3.0.4+0\u001b[39m\n",
      "  \u001b[90m[c1c5ebd0] \u001b[39m\u001b[92m+ LAME_jll v3.100.2+0\u001b[39m\n",
      "  \u001b[90m[88015f11] \u001b[39m\u001b[92m+ LERC_jll v4.0.0+0\u001b[39m\n",
      "  \u001b[90m[1d63c593] \u001b[39m\u001b[92m+ LLVMOpenMP_jll v18.1.7+0\u001b[39m\n",
      "  \u001b[90m[dd4b983a] \u001b[39m\u001b[92m+ LZO_jll v2.10.2+1\u001b[39m\n",
      "\u001b[33m⌅\u001b[39m \u001b[90m[e9f186c6] \u001b[39m\u001b[92m+ Libffi_jll v3.2.2+1\u001b[39m\n",
      "  \u001b[90m[d4300ac3] \u001b[39m\u001b[92m+ Libgcrypt_jll v1.11.0+0\u001b[39m\n",
      "  \u001b[90m[7e76a0d4] \u001b[39m\u001b[92m+ Libglvnd_jll v1.6.0+0\u001b[39m\n",
      "  \u001b[90m[7add5ba3] \u001b[39m\u001b[92m+ Libgpg_error_jll v1.50.0+0\u001b[39m\n",
      "  \u001b[90m[94ce4f54] \u001b[39m\u001b[92m+ Libiconv_jll v1.17.0+1\u001b[39m\n",
      "  \u001b[90m[4b2f31a3] \u001b[39m\u001b[92m+ Libmount_jll v2.40.1+0\u001b[39m\n",
      "  \u001b[90m[89763e89] \u001b[39m\u001b[92m+ Libtiff_jll v4.7.0+0\u001b[39m\n",
      "  \u001b[90m[38a345b3] \u001b[39m\u001b[92m+ Libuuid_jll v2.40.1+0\u001b[39m\n",
      "  \u001b[90m[856f044c] \u001b[39m\u001b[92m+ MKL_jll v2024.2.0+0\u001b[39m\n",
      "  \u001b[90m[e7412a2a] \u001b[39m\u001b[92m+ Ogg_jll v1.3.5+1\u001b[39m\n",
      "  \u001b[90m[458c3c95] \u001b[39m\u001b[92m+ OpenSSL_jll v3.0.15+1\u001b[39m\n",
      "  \u001b[90m[efe28fd5] \u001b[39m\u001b[92m+ OpenSpecFun_jll v0.5.5+0\u001b[39m\n",
      "  \u001b[90m[91d4177d] \u001b[39m\u001b[92m+ Opus_jll v1.3.3+0\u001b[39m\n",
      "  \u001b[90m[36c8627f] \u001b[39m\u001b[92m+ Pango_jll v1.54.1+0\u001b[39m\n",
      "  \u001b[90m[30392449] \u001b[39m\u001b[92m+ Pixman_jll v0.43.4+0\u001b[39m\n",
      "  \u001b[90m[c0090381] \u001b[39m\u001b[92m+ Qt6Base_jll v6.7.1+1\u001b[39m\n",
      "  \u001b[90m[629bc702] \u001b[39m\u001b[92m+ Qt6Declarative_jll v6.7.1+2\u001b[39m\n",
      "  \u001b[90m[ce943373] \u001b[39m\u001b[92m+ Qt6ShaderTools_jll v6.7.1+1\u001b[39m\n",
      "  \u001b[90m[e99dba38] \u001b[39m\u001b[92m+ Qt6Wayland_jll v6.7.1+1\u001b[39m\n",
      "  \u001b[90m[f50d1b31] \u001b[39m\u001b[92m+ Rmath_jll v0.5.1+0\u001b[39m\n",
      "  \u001b[90m[a44049a8] \u001b[39m\u001b[92m+ Vulkan_Loader_jll v1.3.243+0\u001b[39m\n",
      "  \u001b[90m[a2964d1f] \u001b[39m\u001b[92m+ Wayland_jll v1.21.0+1\u001b[39m\n",
      "  \u001b[90m[2381bf8a] \u001b[39m\u001b[92m+ Wayland_protocols_jll v1.31.0+0\u001b[39m\n",
      "  \u001b[90m[02c8fc9c] \u001b[39m\u001b[92m+ XML2_jll v2.13.4+0\u001b[39m\n",
      "  \u001b[90m[aed1982a] \u001b[39m\u001b[92m+ XSLT_jll v1.1.41+0\u001b[39m\n",
      "  \u001b[90m[ffd25f8a] \u001b[39m\u001b[92m+ XZ_jll v5.6.3+0\u001b[39m\n",
      "  \u001b[90m[f67eecfb] \u001b[39m\u001b[92m+ Xorg_libICE_jll v1.1.1+0\u001b[39m\n",
      "  \u001b[90m[c834827a] \u001b[39m\u001b[92m+ Xorg_libSM_jll v1.2.4+0\u001b[39m\n",
      "  \u001b[90m[4f6342f7] \u001b[39m\u001b[92m+ Xorg_libX11_jll v1.8.6+0\u001b[39m\n",
      "  \u001b[90m[0c0b7dd1] \u001b[39m\u001b[92m+ Xorg_libXau_jll v1.0.11+0\u001b[39m\n",
      "  \u001b[90m[935fb764] \u001b[39m\u001b[92m+ Xorg_libXcursor_jll v1.2.0+4\u001b[39m\n",
      "  \u001b[90m[a3789734] \u001b[39m\u001b[92m+ Xorg_libXdmcp_jll v1.1.4+0\u001b[39m\n",
      "  \u001b[90m[1082639a] \u001b[39m\u001b[92m+ Xorg_libXext_jll v1.3.6+0\u001b[39m\n",
      "  \u001b[90m[d091e8ba] \u001b[39m\u001b[92m+ Xorg_libXfixes_jll v5.0.3+4\u001b[39m\n",
      "  \u001b[90m[a51aa0fd] \u001b[39m\u001b[92m+ Xorg_libXi_jll v1.7.10+4\u001b[39m\n",
      "  \u001b[90m[d1454406] \u001b[39m\u001b[92m+ Xorg_libXinerama_jll v1.1.4+4\u001b[39m\n",
      "  \u001b[90m[ec84b674] \u001b[39m\u001b[92m+ Xorg_libXrandr_jll v1.5.2+4\u001b[39m\n",
      "  \u001b[90m[ea2f1a96] \u001b[39m\u001b[92m+ Xorg_libXrender_jll v0.9.11+0\u001b[39m\n",
      "  \u001b[90m[14d82f49] \u001b[39m\u001b[92m+ Xorg_libpthread_stubs_jll v0.1.1+0\u001b[39m\n",
      "  \u001b[90m[c7cfdc94] \u001b[39m\u001b[92m+ Xorg_libxcb_jll v1.17.0+0\u001b[39m\n",
      "  \u001b[90m[cc61e674] \u001b[39m\u001b[92m+ Xorg_libxkbfile_jll v1.1.2+0\u001b[39m\n",
      "  \u001b[90m[e920d4aa] \u001b[39m\u001b[92m+ Xorg_xcb_util_cursor_jll v0.1.4+0\u001b[39m\n",
      "  \u001b[90m[12413925] \u001b[39m\u001b[92m+ Xorg_xcb_util_image_jll v0.4.0+1\u001b[39m\n",
      "  \u001b[90m[2def613f] \u001b[39m\u001b[92m+ Xorg_xcb_util_jll v0.4.0+1\u001b[39m\n",
      "  \u001b[90m[975044d2] \u001b[39m\u001b[92m+ Xorg_xcb_util_keysyms_jll v0.4.0+1\u001b[39m\n",
      "  \u001b[90m[0d47668e] \u001b[39m\u001b[92m+ Xorg_xcb_util_renderutil_jll v0.3.9+1\u001b[39m\n",
      "  \u001b[90m[c22f9ab0] \u001b[39m\u001b[92m+ Xorg_xcb_util_wm_jll v0.4.1+1\u001b[39m\n",
      "  \u001b[90m[35661453] \u001b[39m\u001b[92m+ Xorg_xkbcomp_jll v1.4.6+0\u001b[39m\n",
      "  \u001b[90m[33bec58e] \u001b[39m\u001b[92m+ Xorg_xkeyboard_config_jll v2.39.0+0\u001b[39m\n",
      "  \u001b[90m[c5fb5394] \u001b[39m\u001b[92m+ Xorg_xtrans_jll v1.5.0+0\u001b[39m\n",
      "  \u001b[90m[3161d3a3] \u001b[39m\u001b[92m+ Zstd_jll v1.5.6+1\u001b[39m\n",
      "  \u001b[90m[35ca27e7] \u001b[39m\u001b[92m+ eudev_jll v3.2.9+0\u001b[39m\n",
      "  \u001b[90m[214eeab7] \u001b[39m\u001b[92m+ fzf_jll v0.53.0+0\u001b[39m\n",
      "  \u001b[90m[1a1c6b14] \u001b[39m\u001b[92m+ gperf_jll v3.1.1+0\u001b[39m\n",
      "  \u001b[90m[a4ae2306] \u001b[39m\u001b[92m+ libaom_jll v3.9.0+0\u001b[39m\n",
      "  \u001b[90m[0ac62f75] \u001b[39m\u001b[92m+ libass_jll v0.15.2+0\u001b[39m\n",
      "  \u001b[90m[1183f4f0] \u001b[39m\u001b[92m+ libdecor_jll v0.2.2+0\u001b[39m\n",
      "  \u001b[90m[2db6ffa8] \u001b[39m\u001b[92m+ libevdev_jll v1.11.0+0\u001b[39m\n",
      "  \u001b[90m[f638f0a6] \u001b[39m\u001b[92m+ libfdk_aac_jll v2.0.3+0\u001b[39m\n",
      "  \u001b[90m[36db933b] \u001b[39m\u001b[92m+ libinput_jll v1.18.0+0\u001b[39m\n",
      "  \u001b[90m[b53b4c65] \u001b[39m\u001b[92m+ libpng_jll v1.6.44+0\u001b[39m\n",
      "  \u001b[90m[f27f6e37] \u001b[39m\u001b[92m+ libvorbis_jll v1.3.7+2\u001b[39m\n",
      "  \u001b[90m[009596ad] \u001b[39m\u001b[92m+ mtdev_jll v1.1.6+0\u001b[39m\n",
      "  \u001b[90m[1317d2d5] \u001b[39m\u001b[92m+ oneTBB_jll v2021.12.0+0\u001b[39m\n",
      "\u001b[33m⌅\u001b[39m \u001b[90m[1270edf5] \u001b[39m\u001b[92m+ x264_jll v2021.5.5+0\u001b[39m\n",
      "\u001b[33m⌅\u001b[39m \u001b[90m[dfaa095f] \u001b[39m\u001b[92m+ x265_jll v3.5.0+0\u001b[39m\n",
      "  \u001b[90m[d8fb68d0] \u001b[39m\u001b[92m+ xkbcommon_jll v1.4.1+1\u001b[39m\n",
      "  \u001b[90m[0dad84c5] \u001b[39m\u001b[92m+ ArgTools v1.1.2\u001b[39m\n",
      "  \u001b[90m[56f22d72] \u001b[39m\u001b[92m+ Artifacts v1.11.0\u001b[39m\n",
      "  \u001b[90m[2a0f44e3] \u001b[39m\u001b[92m+ Base64 v1.11.0\u001b[39m\n",
      "  \u001b[90m[ade2ca70] \u001b[39m\u001b[92m+ Dates v1.11.0\u001b[39m\n",
      "  \u001b[90m[8ba89e20] \u001b[39m\u001b[92m+ Distributed v1.11.0\u001b[39m\n",
      "  \u001b[90m[f43a241f] \u001b[39m\u001b[92m+ Downloads v1.6.0\u001b[39m\n",
      "  \u001b[90m[7b1f6079] \u001b[39m\u001b[92m+ FileWatching v1.11.0\u001b[39m\n",
      "  \u001b[90m[9fa8497b] \u001b[39m\u001b[92m+ Future v1.11.0\u001b[39m\n",
      "  \u001b[90m[b77e0a4c] \u001b[39m\u001b[92m+ InteractiveUtils v1.11.0\u001b[39m\n",
      "  \u001b[90m[4af54fe1] \u001b[39m\u001b[92m+ LazyArtifacts v1.11.0\u001b[39m\n",
      "  \u001b[90m[b27032c2] \u001b[39m\u001b[92m+ LibCURL v0.6.4\u001b[39m\n",
      "  \u001b[90m[76f85450] \u001b[39m\u001b[92m+ LibGit2 v1.11.0\u001b[39m\n",
      "  \u001b[90m[8f399da3] \u001b[39m\u001b[92m+ Libdl v1.11.0\u001b[39m\n",
      "  \u001b[90m[37e2e46d] \u001b[39m\u001b[92m+ LinearAlgebra v1.11.0\u001b[39m\n",
      "  \u001b[90m[56ddb016] \u001b[39m\u001b[92m+ Logging v1.11.0\u001b[39m\n",
      "  \u001b[90m[d6f4376e] \u001b[39m\u001b[92m+ Markdown v1.11.0\u001b[39m\n",
      "  \u001b[90m[a63ad114] \u001b[39m\u001b[92m+ Mmap v1.11.0\u001b[39m\n",
      "  \u001b[90m[ca575930] \u001b[39m\u001b[92m+ NetworkOptions v1.2.0\u001b[39m\n",
      "  \u001b[90m[44cfe95a] \u001b[39m\u001b[92m+ Pkg v1.11.0\u001b[39m\n",
      "  \u001b[90m[de0858da] \u001b[39m\u001b[92m+ Printf v1.11.0\u001b[39m\n",
      "  \u001b[90m[9abbd945] \u001b[39m\u001b[92m+ Profile v1.11.0\u001b[39m\n",
      "  \u001b[90m[3fa0cd96] \u001b[39m\u001b[92m+ REPL v1.11.0\u001b[39m\n",
      "  \u001b[90m[9a3f8284] \u001b[39m\u001b[92m+ Random v1.11.0\u001b[39m\n",
      "  \u001b[90m[ea8e919c] \u001b[39m\u001b[92m+ SHA v0.7.0\u001b[39m\n",
      "  \u001b[90m[9e88b42a] \u001b[39m\u001b[92m+ Serialization v1.11.0\u001b[39m\n",
      "  \u001b[90m[1a1011a3] \u001b[39m\u001b[92m+ SharedArrays v1.11.0\u001b[39m\n",
      "  \u001b[90m[6462fe0b] \u001b[39m\u001b[92m+ Sockets v1.11.0\u001b[39m\n",
      "  \u001b[90m[2f01184e] \u001b[39m\u001b[92m+ SparseArrays v1.11.0\u001b[39m\n",
      "  \u001b[90m[f489334b] \u001b[39m\u001b[92m+ StyledStrings v1.11.0\u001b[39m\n",
      "  \u001b[90m[4607b0f0] \u001b[39m\u001b[92m+ SuiteSparse\u001b[39m\n",
      "  \u001b[90m[fa267f1f] \u001b[39m\u001b[92m+ TOML v1.0.3\u001b[39m\n",
      "  \u001b[90m[a4e569a6] \u001b[39m\u001b[92m+ Tar v1.10.0\u001b[39m\n",
      "  \u001b[90m[8dfed614] \u001b[39m\u001b[92m+ Test v1.11.0\u001b[39m\n",
      "  \u001b[90m[cf7118a7] \u001b[39m\u001b[92m+ UUIDs v1.11.0\u001b[39m\n",
      "  \u001b[90m[4ec0a83e] \u001b[39m\u001b[92m+ Unicode v1.11.0\u001b[39m\n",
      "  \u001b[90m[e66e0078] \u001b[39m\u001b[92m+ CompilerSupportLibraries_jll v1.1.1+0\u001b[39m\n",
      "  \u001b[90m[deac9b47] \u001b[39m\u001b[92m+ LibCURL_jll v8.6.0+0\u001b[39m\n",
      "  \u001b[90m[e37daf67] \u001b[39m\u001b[92m+ LibGit2_jll v1.7.2+0\u001b[39m\n",
      "  \u001b[90m[29816b5a] \u001b[39m\u001b[92m+ LibSSH2_jll v1.11.0+1\u001b[39m\n",
      "  \u001b[90m[c8ffd9c3] \u001b[39m\u001b[92m+ MbedTLS_jll v2.28.6+0\u001b[39m\n",
      "  \u001b[90m[14a3606d] \u001b[39m\u001b[92m+ MozillaCACerts_jll v2023.12.12\u001b[39m\n",
      "  \u001b[90m[4536629a] \u001b[39m\u001b[92m+ OpenBLAS_jll v0.3.27+1\u001b[39m\n",
      "  \u001b[90m[05823500] \u001b[39m\u001b[92m+ OpenLibm_jll v0.8.1+2\u001b[39m\n",
      "  \u001b[90m[efcefdf7] \u001b[39m\u001b[92m+ PCRE2_jll v10.42.0+1\u001b[39m\n",
      "  \u001b[90m[bea87d4a] \u001b[39m\u001b[92m+ SuiteSparse_jll v7.7.0+0\u001b[39m\n",
      "  \u001b[90m[83775a58] \u001b[39m\u001b[92m+ Zlib_jll v1.2.13+1\u001b[39m\n",
      "  \u001b[90m[8e850b90] \u001b[39m\u001b[92m+ libblastrampoline_jll v5.11.0+0\u001b[39m\n",
      "  \u001b[90m[8e850ede] \u001b[39m\u001b[92m+ nghttp2_jll v1.59.0+0\u001b[39m\n",
      "  \u001b[90m[3f19e933] \u001b[39m\u001b[92m+ p7zip_jll v17.4.0+2\u001b[39m\n",
      "\u001b[36m\u001b[1m        Info\u001b[22m\u001b[39m Packages marked with \u001b[32m⌃\u001b[39m and \u001b[33m⌅\u001b[39m have new versions available. Those with \u001b[32m⌃\u001b[39m may be upgradable, but those with \u001b[33m⌅\u001b[39m are restricted by compatibility constraints from upgrading. To see why use `status --outdated -m`\n",
      "\u001b[92m\u001b[1mPrecompiling\u001b[22m\u001b[39m project...\n",
      "    479.2 ms\u001b[32m  ✓ \u001b[39m\u001b[90mCommonSolve\u001b[39m\n",
      "    483.3 ms\u001b[32m  ✓ \u001b[39m\u001b[90mAdapt\u001b[39m\n",
      "    485.7 ms\u001b[32m  ✓ \u001b[39m\u001b[90mInverseFunctions\u001b[39m\n",
      "    812.4 ms\u001b[32m  ✓ \u001b[39m\u001b[90mCombinatorics\u001b[39m\n",
      "    675.1 ms\u001b[32m  ✓ \u001b[39m\u001b[90mDistances\u001b[39m\n",
      "    670.9 ms\u001b[32m  ✓ \u001b[39m\u001b[90mStaticArrays → StaticArraysChainRulesCoreExt\u001b[39m\n",
      "    984.6 ms\u001b[32m  ✓ \u001b[39m\u001b[90mSentinelArrays\u001b[39m\n",
      "    647.7 ms\u001b[32m  ✓ \u001b[39m\u001b[90mOffsetArrays → OffsetArraysAdaptExt\u001b[39m\n",
      "    797.6 ms\u001b[32m  ✓ \u001b[39m\u001b[90mCompositionsBase → CompositionsBaseInverseFunctionsExt\u001b[39m\n",
      "    611.6 ms\u001b[32m  ✓ \u001b[39m\u001b[90mLogExpFunctions → LogExpFunctionsInverseFunctionsExt\u001b[39m\n",
      "    800.2 ms\u001b[32m  ✓ \u001b[39m\u001b[90mInverseFunctions → InverseFunctionsDatesExt\u001b[39m\n",
      "    880.0 ms\u001b[32m  ✓ \u001b[39m\u001b[90mInverseFunctions → InverseFunctionsTestExt\u001b[39m\n",
      "    691.9 ms\u001b[32m  ✓ \u001b[39m\u001b[90mUnitful → InverseFunctionsUnitfulExt\u001b[39m\n",
      "    883.4 ms\u001b[32m  ✓ \u001b[39m\u001b[90mAdapt → AdaptStaticArraysExt\u001b[39m\n",
      "    473.1 ms\u001b[32m  ✓ \u001b[39m\u001b[90mDistances → DistancesChainRulesCoreExt\u001b[39m\n",
      "    860.9 ms\u001b[32m  ✓ \u001b[39m\u001b[90mDistances → DistancesSparseArraysExt\u001b[39m\n",
      "    708.1 ms\u001b[32m  ✓ \u001b[39m\u001b[90mTableOperations\u001b[39m\n",
      "    535.3 ms\u001b[32m  ✓ \u001b[39m\u001b[90mStatsFuns → StatsFunsInverseFunctionsExt\u001b[39m\n",
      "   1322.4 ms\u001b[32m  ✓ \u001b[39m\u001b[90mAccessors\u001b[39m\n",
      "   1467.5 ms\u001b[32m  ✓ \u001b[39m\u001b[90mNearestNeighbors\u001b[39m\n",
      "   1894.0 ms\u001b[32m  ✓ \u001b[39m\u001b[90mInterpolations\u001b[39m\n",
      "    762.4 ms\u001b[32m  ✓ \u001b[39m\u001b[90mAccessors → AccessorsTestExt\u001b[39m\n",
      "    766.6 ms\u001b[32m  ✓ \u001b[39m\u001b[90mAccessors → AccessorsDatesExt\u001b[39m\n",
      "    910.4 ms\u001b[32m  ✓ \u001b[39m\u001b[90mAccessors → AccessorsUnitfulExt\u001b[39m\n",
      "    705.7 ms\u001b[32m  ✓ \u001b[39m\u001b[90mAccessors → AccessorsStaticArraysExt\u001b[39m\n",
      "   2363.9 ms\u001b[32m  ✓ \u001b[39m\u001b[90mForwardDiff\u001b[39m\n",
      "    897.3 ms\u001b[32m  ✓ \u001b[39m\u001b[90mForwardDiff → ForwardDiffStaticArraysExt\u001b[39m\n",
      "   1301.5 ms\u001b[32m  ✓ \u001b[39m\u001b[90mInterpolations → InterpolationsUnitfulExt\u001b[39m\n",
      "   1801.2 ms\u001b[32m  ✓ \u001b[39m\u001b[90mClustering\u001b[39m\n",
      "    802.1 ms\u001b[32m  ✓ \u001b[39m\u001b[90mNLSolversBase\u001b[39m\n",
      "   1980.6 ms\u001b[32m  ✓ \u001b[39m\u001b[90mRoots\u001b[39m\n",
      "   1522.1 ms\u001b[32m  ✓ \u001b[39m\u001b[90mKernelDensity\u001b[39m\n",
      "    769.9 ms\u001b[32m  ✓ \u001b[39m\u001b[90mRoots → RootsChainRulesCoreExt\u001b[39m\n",
      "    902.9 ms\u001b[32m  ✓ \u001b[39m\u001b[90mRoots → RootsForwardDiffExt\u001b[39m\n",
      "   1260.1 ms\u001b[32m  ✓ \u001b[39m\u001b[90mLsqFit\u001b[39m\n",
      "   5672.1 ms\u001b[32m  ✓ \u001b[39m\u001b[90mPlotUtils\u001b[39m\n",
      "   1564.6 ms\u001b[32m  ✓ \u001b[39m\u001b[90mLineSearches\u001b[39m\n",
      "   2468.7 ms\u001b[32m  ✓ \u001b[39mHypothesisTests\n",
      "   2241.7 ms\u001b[32m  ✓ \u001b[39m\u001b[90mPlotThemes\u001b[39m\n",
      "   2397.8 ms\u001b[32m  ✓ \u001b[39m\u001b[90mOptim\u001b[39m\n",
      "   2691.0 ms\u001b[32m  ✓ \u001b[39m\u001b[90mRecipesPipeline\u001b[39m\n",
      "   8576.5 ms\u001b[32m  ✓ \u001b[39mCSV\n",
      "  20769.0 ms\u001b[32m  ✓ \u001b[39mDataFrames\n",
      "   1398.0 ms\u001b[32m  ✓ \u001b[39m\u001b[90mLatexify → DataFramesExt\u001b[39m\n",
      "  40567.2 ms\u001b[32m  ✓ \u001b[39m\u001b[90mMathOptInterface\u001b[39m\n",
      "   2582.6 ms\u001b[32m  ✓ \u001b[39m\u001b[90mOptim → OptimMOIExt\u001b[39m\n",
      "   3816.1 ms\u001b[32m  ✓ \u001b[39m\u001b[90mMadNLP\u001b[39m\n",
      "  32098.0 ms\u001b[32m  ✓ \u001b[39mPlots\n",
      "  12219.4 ms\u001b[32m  ✓ \u001b[39m\u001b[90mJuMP\u001b[39m\n",
      "   2785.4 ms\u001b[32m  ✓ \u001b[39mPlots → FileIOExt\n",
      "   2866.0 ms\u001b[32m  ✓ \u001b[39mPlots → UnitfulExt\n",
      "   4679.6 ms\u001b[32m  ✓ \u001b[39mVLQuantitativeFinancePackage\n",
      "   3943.3 ms\u001b[32m  ✓ \u001b[39mStatsPlots\n",
      "  53 dependencies successfully precompiled in 64 seconds. 275 already precompiled.\n",
      "\u001b[32m\u001b[1m  Activating\u001b[22m\u001b[39m project at `~/Desktop/julia_work/CHEME-5660-CourseRepository-Fall-2024/lectures/week-11/L11a`\n",
      "\u001b[32m\u001b[1m  No Changes\u001b[22m\u001b[39m to `~/Desktop/julia_work/CHEME-5660-CourseRepository-Fall-2024/lectures/week-11/L11a/Project.toml`\n",
      "\u001b[32m\u001b[1m  No Changes\u001b[22m\u001b[39m to `~/Desktop/julia_work/CHEME-5660-CourseRepository-Fall-2024/lectures/week-11/L11a/Manifest.toml`\n",
      "\u001b[32m\u001b[1m    Updating\u001b[22m\u001b[39m registry at `~/.julia/registries/General.toml`\n",
      "\u001b[32m\u001b[1m    Updating\u001b[22m\u001b[39m git-repo `https://github.com/varnerlab/VLQuantitativeFinancePackage.jl.git`\n",
      "\u001b[32m\u001b[1m  No Changes\u001b[22m\u001b[39m to `~/Desktop/julia_work/CHEME-5660-CourseRepository-Fall-2024/lectures/week-11/L11a/Project.toml`\n",
      "\u001b[32m\u001b[1m  No Changes\u001b[22m\u001b[39m to `~/Desktop/julia_work/CHEME-5660-CourseRepository-Fall-2024/lectures/week-11/L11a/Manifest.toml`\n",
      "\u001b[36m\u001b[1m        Info\u001b[22m\u001b[39m We haven't cleaned this depot up for a bit, running Pkg.gc()...\n",
      "\u001b[32m\u001b[1m      Active\u001b[22m\u001b[39m manifest files: 148 found\n",
      "\u001b[32m\u001b[1m      Active\u001b[22m\u001b[39m artifact files: 234 found\n",
      "\u001b[32m\u001b[1m      Active\u001b[22m\u001b[39m scratchspaces: 10 found\n",
      "\u001b[32m\u001b[1m     Deleted\u001b[22m\u001b[39m 14 package installations (8.538 MiB)\n",
      "\u001b[36m\u001b[1m[ \u001b[22m\u001b[39m\u001b[36m\u001b[1mInfo: \u001b[22m\u001b[39mPrecompiling VLQuantitativeFinancePackage [4119e0bf-20d0-4785-913e-5ebdb0caa218] (cache misses: wrong dep version loaded (12), wrong source (2), invalid header (4))\n",
      "\u001b[36m\u001b[1m[ \u001b[22m\u001b[39m\u001b[36m\u001b[1mInfo: \u001b[22m\u001b[39mPrecompiling Plots [91a5bcdd-55d7-5caf-9e0b-520d859cae80] (cache misses: wrong dep version loaded (14), invalid header (2))\n",
      "\u001b[36m\u001b[1m[ \u001b[22m\u001b[39m\u001b[36m\u001b[1mInfo: \u001b[22m\u001b[39mPrecompiling FileIOExt [f5f51d8f-5827-5d2e-939b-192fcd6ec70c] (cache misses: wrong dep version loaded (16), invalid header (4))\n",
      "\u001b[36m\u001b[1m[ \u001b[22m\u001b[39m\u001b[36m\u001b[1mInfo: \u001b[22m\u001b[39mPrecompiling IJuliaExt [2f4121a4-3b3a-5ce6-9c5e-1f2673ce168a] (cache misses: wrong dep version loaded (16), invalid header (4))\n",
      "\u001b[36m\u001b[1m[ \u001b[22m\u001b[39m\u001b[36m\u001b[1mInfo: \u001b[22m\u001b[39mPrecompiling StatsPlots [f3b207a7-027a-5e70-b257-86293d7955fd] (cache misses: wrong dep version loaded (6), invalid header (6))\n",
      "\u001b[36m\u001b[1m[ \u001b[22m\u001b[39m\u001b[36m\u001b[1mInfo: \u001b[22m\u001b[39mPrecompiling ForwardDiffStaticArraysExt [b74fd6d0-9da7-541f-a07d-1b6af30a262f] (cache misses: wrong dep version loaded (8), invalid header (4))\n",
      "\u001b[33m\u001b[1m┌ \u001b[22m\u001b[39m\u001b[33m\u001b[1mWarning: \u001b[22m\u001b[39mModule ForwardDiff with build ID fafbfcfd-eede-d065-0000-fc8bfc1c7114 is missing from the cache.\n",
      "\u001b[33m\u001b[1m│ \u001b[22m\u001b[39mThis may mean ForwardDiff [f6369f11-7733-5829-9624-2563aa707210] does not support precompilation but is imported by a module that does.\n",
      "\u001b[33m\u001b[1m└ \u001b[22m\u001b[39m\u001b[90m@ Base loading.jl:2464\u001b[39m\n",
      "\u001b[36m\u001b[1m┌ \u001b[22m\u001b[39m\u001b[36m\u001b[1mInfo: \u001b[22m\u001b[39mSkipping precompilation due to precompilable error. Importing ForwardDiffStaticArraysExt [b74fd6d0-9da7-541f-a07d-1b6af30a262f].\n",
      "\u001b[36m\u001b[1m└ \u001b[22m\u001b[39m  exception = Error when precompiling module, potentially caused by a __precompile__(false) declaration in the module.\n",
      "\u001b[36m\u001b[1m[ \u001b[22m\u001b[39m\u001b[36m\u001b[1mInfo: \u001b[22m\u001b[39mPrecompiling HypothesisTests [09f84164-cd44-5f33-b23f-e6b0d136a0d5] (cache misses: wrong dep version loaded (2), invalid header (4))\n",
      "\u001b[36m\u001b[1m[ \u001b[22m\u001b[39m\u001b[36m\u001b[1mInfo: \u001b[22m\u001b[39mPrecompiling RootsForwardDiffExt [a63bd285-541a-50a0-818b-605bb84ce7b2] (cache misses: wrong dep version loaded (2), invalid header (4))\n",
      "\u001b[33m\u001b[1m┌ \u001b[22m\u001b[39m\u001b[33m\u001b[1mWarning: \u001b[22m\u001b[39mModule ForwardDiff with build ID fafbfcfd-eede-d065-0000-fc8bfc1c7114 is missing from the cache.\n",
      "\u001b[33m\u001b[1m│ \u001b[22m\u001b[39mThis may mean ForwardDiff [f6369f11-7733-5829-9624-2563aa707210] does not support precompilation but is imported by a module that does.\n",
      "\u001b[33m\u001b[1m└ \u001b[22m\u001b[39m\u001b[90m@ Base loading.jl:2464\u001b[39m\n",
      "\u001b[36m\u001b[1m┌ \u001b[22m\u001b[39m\u001b[36m\u001b[1mInfo: \u001b[22m\u001b[39mSkipping precompilation due to precompilable error. Importing RootsForwardDiffExt [a63bd285-541a-50a0-818b-605bb84ce7b2].\n",
      "\u001b[36m\u001b[1m└ \u001b[22m\u001b[39m  exception = Error when precompiling module, potentially caused by a __precompile__(false) declaration in the module.\n"
     ]
    }
   ],
   "source": [
    "include(\"Include.jl\")"
   ]
  },
  {
   "cell_type": "markdown",
   "id": "be66405f-98bd-4b3d-8fb7-b564c943135e",
   "metadata": {},
   "source": [
    "## Prerequisites\n",
    "Let's build models for options on [NVIDIA Corporation](https://finance.yahoo.com/quote/NVDA/) as the underlying asset with ticker `NVDA,` in particular, out-of-the-money (OTM) short call and put options.  First, we set some constants and parameter values that will be used in the notebook, and then we'll build contract models."
   ]
  },
  {
   "cell_type": "markdown",
   "id": "6841cd5a-57a0-4dda-b9cf-ede1fdf00395",
   "metadata": {},
   "source": [
    "### Parameters and constants\n",
    "Let's set a value for the step size `Δt,` i.e., `1 day` in units of years (assuming a `365-day` year), the risk-free rate at the time we gathered the data for the option contracts; we approximate this value using the [yield on the 10-year Treasury Note](https://ycharts.com/indicators/10_year_treasury_rate). We also set a value for the underlying share price `Sₒ` and the number of levels in the binomial tree model, `h`; we assume 6-levels per day."
   ]
  },
  {
   "cell_type": "code",
   "execution_count": 6,
   "id": "e90db124-feb0-48e9-ba26-23cd497c43be",
   "metadata": {},
   "outputs": [],
   "source": [
    "Δt = (1/365);\n",
    "risk_free_rate = 0.0431; # yield 10-year treasury note on 13-Jun-2024\n",
    "Sₒ = 131.88; # after close on 14-Jun-2024 (close: 131.88)\n",
    "h = 366; # 6-points per trading day"
   ]
  },
  {
   "cell_type": "markdown",
   "id": "c568b555-4e26-40fa-974f-f2177d7a33a2",
   "metadata": {},
   "source": [
    "### Contract models\n",
    "Next, we construct contract models for the options in this example. We begin by building an instance of the [MyAmericanCallContractModel type](https://varnerlab.github.io/VLQuantitativeFinancePackage.jl/dev/derivatives/#VLQuantitativeFinancePackage.MyAmericanCallContractModel) using the [custom build(...) method](https://varnerlab.github.io/VLQuantitativeFinancePackage.jl/dev/derivatives/#VLQuantitativeFinancePackage.build-Tuple{Type{MyAmericanCallContractModel},%20NamedTuple}). The [build(...) method](https://varnerlab.github.io/VLQuantitativeFinancePackage.jl/dev/derivatives/#VLQuantitativeFinancePackage.build-Tuple{Type{MyAmericanCallContractModel},%20NamedTuple}) takes two arguments: the type to build, and a [NamedTuple](https://docs.julialang.org/en/v1/base/base/#Core.NamedTuple) containing the strike price `K`, the `premium` paid for the option, the days to expiration `DTE` (units: years), the `sense = 1` (long), the number of contracts in the `copy` field and the implied volatility in the `IV` field.\n",
    "\n",
    "We save the call option contract model in the `call_option_model` variable:"
   ]
  },
  {
   "cell_type": "code",
   "execution_count": 8,
   "id": "26de778b-bf72-4288-be3a-fe8032c383cf",
   "metadata": {},
   "outputs": [],
   "source": [
    "call_option_model = build(MyAmericanCallContractModel, (\n",
    "    K = 136.0, \n",
    "    premium = 9.23, # mark price\n",
    "    DTE = (61.0)*Δt,\n",
    "    sense = 1,\n",
    "    copy = 1,\n",
    "    IV = 0.4848\n",
    "));"
   ]
  },
  {
   "cell_type": "markdown",
   "id": "b922ec50-2a0a-468f-b432-e04099b6efd7",
   "metadata": {},
   "source": [
    "The put contract, which is an instance of the [MyAmericanPutContractModel type](https://varnerlab.github.io/VLQuantitativeFinancePackage.jl/dev/derivatives/#VLQuantitativeFinancePackage.MyAmericanPutContractModel), is constructed in a similar way to the call option. We save the put option contract model in the `put_option_model` variable:"
   ]
  },
  {
   "cell_type": "code",
   "execution_count": 10,
   "id": "a13b1d75-7f0b-4b9b-8f1e-6cb47767d2ef",
   "metadata": {},
   "outputs": [],
   "source": [
    "put_option_model = build(MyAmericanPutContractModel, (\n",
    "    K = 128.0, \n",
    "    premium = 7.78, # mark price\n",
    "    DTE = (61.0)*Δt,\n",
    "    sense = 1,\n",
    "    copy = 1,\n",
    "    IV = 0.4787\n",
    "));"
   ]
  },
  {
   "cell_type": "markdown",
   "id": "7a62473b-5bb7-49e3-8467-ac1662090e82",
   "metadata": {},
   "source": [
    "__Note__: In both cases, we construct long contract models, i.e., we look at option dynamics from the perspective of a contract buyer. To convert to a short perspective, i.e., from the perspective of the contract seller, we multiply the Greek values by `-1`; see below."
   ]
  },
  {
   "cell_type": "markdown",
   "id": "034b010a-1978-4c44-90b2-8e009dbdde41",
   "metadata": {},
   "source": [
    "## Task 1: Compute the Greeks for a Long Call Option\n",
    "Let's begin our examination of the Greeks by calculating the Greek values for a long call option. From the buyer's viewpoint, a long call option is a substitute for owning shares. The buyer speculates that the underlying share price will go up during the contract and hopes to profit from the increase in the option contract's price. \n",
    "* However, the option contract price is a function of many different market factors, not just the share price of the underlying asset. The Greeks provide a quantitative means of computing the contract price's sensitivity to changes in market conditions.\n",
    "\n",
    "Let's start our exploration of the Greeks by computing `delta` for the long call."
   ]
  },
  {
   "cell_type": "markdown",
   "id": "c0fb748c-3b2f-4cb1-8de9-1ed187a0a3b0",
   "metadata": {},
   "source": [
    "### Delta long call\n",
    "The `delta` for an American option contract quantifies the rate of change in the option's premium $\\mathcal{P}$ with respect to a `+1 USD/share` change in the underlying asset's price and is defined as:\n",
    "$$\n",
    "\\Delta(\\star) \\equiv \\frac{\\partial\\mathcal{P}}{\\partial{S}}\\,\\Biggr|_{\\star}\n",
    "$$\n",
    "where $\\Delta(\\star)$ is evaluated at the current state of the market $\\star$, e.g., the current value of the underlying share price, the implied volatility of the contract, the number of days left until contract expiration, the current risk-free rate, etc. The quantity of $\\Delta$ is bounded in the range $-1\\leq\\Delta\\leq{1}$ and changes with various market conditions, i.e., $\\Delta$ is _not_ constant.\n",
    "\n",
    "* We estimate $\\Delta$ using the [delta(...) function](https://varnerlab.github.io/VLQuantitativeFinancePackage.jl/dev/derivatives/#VLQuantitativeFinancePackage.delta). The [delta(...) function](https://varnerlab.github.io/VLQuantitativeFinancePackage.jl/dev/derivatives/#VLQuantitativeFinancePackage.delta) takes several arguments: the `call_option_model` instance, and several parameters used to compute the risk-neutral binomial share price tree, e.g., the number of tree levels `h,` the current share price  `Sₒ,` the number of days to expiration `T,` etc. and returns a value for `delta.` We store the estimated value for delta in the `delta_long_call` variable"
   ]
  },
  {
   "cell_type": "code",
   "execution_count": 14,
   "id": "781194c3-cae4-45d1-a3c7-31523b5805ca",
   "metadata": {},
   "outputs": [
    {
     "data": {
      "text/plain": [
       "0.4920000000000009"
      ]
     },
     "execution_count": 14,
     "metadata": {},
     "output_type": "execute_result"
    }
   ],
   "source": [
    "delta_long_call = delta(call_option_model, h = h,  T = call_option_model.DTE, \n",
    "    σ = call_option_model.IV, Sₒ = Sₒ, μ = risk_free_rate)"
   ]
  },
  {
   "cell_type": "markdown",
   "id": "4a7c273d-1458-4145-af76-669a0df181d8",
   "metadata": {},
   "source": [
    "__Summary__: For a long call, $\\Delta(\\star)\\geq{0}$ implies that the option premium $\\mathcal{P}$ increases with increasing share price. This underscores the use case of long-call contracts as share replacements for underlying shares. \n",
    "* Further, $\\Delta(\\star)$ can be used to compute the equivalent number of shares that the option represents, denoted as $n_{c}$ shares per contract:\n",
    "$$\n",
    "n_{c} = 100\\cdot\\Delta_{c}(\\star)\n",
    "$$\n",
    "where $\\Delta_{c}(\\star)$ denotes the $\\Delta(\\star)$ value for a long-call contract. Thus, this long call contract is equivalent to:"
   ]
  },
  {
   "cell_type": "code",
   "execution_count": 16,
   "id": "67151026-cc78-4b4d-bc3a-cc79f3828499",
   "metadata": {},
   "outputs": [
    {
     "name": "stdout",
     "output_type": "stream",
     "text": [
      "Number of share equivalents: 49.20000000000009 shares per contract\n"
     ]
    }
   ],
   "source": [
    "println(\"Number of share equivalents: $(delta_long_call*100) shares per contract\")"
   ]
  },
  {
   "cell_type": "markdown",
   "id": "5dfeab74-d710-4735-9708-1a683630a2aa",
   "metadata": {},
   "source": [
    "#### Check: How good is our delta estimate?\n",
    "The delta value for the `long-call` is `delta = 0.4979.` Let's use the [Julia @assert macro](https://docs.julialang.org/en/v1/base/base/#Base.@assert) in combination with the [Julia isapprox(...) function](https://docs.julialang.org/en/v1/base/math/#Base.isapprox) to compare the computed and observed values. \n",
    "* The [isapprox(...) function](https://docs.julialang.org/en/v1/base/math/#Base.isapprox) compares two values and returns `true` if the two values are equal to some absolute or relative tolerance, in this case, specified by the absolute tolerance `atol` variable. If `false` (values are not equal), an [AssertionError](https://docs.julialang.org/en/v1/base/base/#Core.AssertionError) is generated:"
   ]
  },
  {
   "cell_type": "code",
   "execution_count": 18,
   "id": "42f86536-12e6-460a-8caf-80d0edd2f58c",
   "metadata": {},
   "outputs": [],
   "source": [
    "observed_value_delta_long_call = 0.4979; # NVDA 61-DTE K = 136 long call after close 14-Jun-2024 \n",
    "@assert isapprox(observed_value_delta_long_call, delta_long_call, atol=1e-2) # good to second decimal place, and sign is correct!"
   ]
  },
  {
   "cell_type": "markdown",
   "id": "57f77130-acae-4780-a7e9-f54623aa6fc1",
   "metadata": {
    "jp-MarkdownHeadingCollapsed": true
   },
   "source": [
    "### Theta long call\n",
    "`Theta` measures the rate of change in the options premium $\\mathcal{P}$ for a `1-day` decrease in the time to maturity `T` of the contract. The `theta` metric  is defined as:\n",
    "$$\n",
    "\\begin{equation}\n",
    "\\Theta(\\star) \\equiv \\frac{\\partial\\mathcal{P}}{\\partial{T}}\\,\\Biggr|_{\\star}\n",
    "\\end{equation}\n",
    "$$\n",
    "where $\\Theta(\\star)$ is evaluated at the current state of the market $\\star$, e.g., the current value of the underlying share price, the implied volatility of the contract, the number of days left until contract expiration, the current risk-free rate, etc. \n",
    "* We estimate $\\Theta$ using the [theta(...) function](https://varnerlab.github.io/VLQuantitativeFinancePackage.jl/dev/derivatives/#VLQuantitativeFinancePackage.theta). The [theta(...) function](https://varnerlab.github.io/VLQuantitativeFinancePackage.jl/dev/derivatives/#VLQuantitativeFinancePackage.theta) takes several arguments: the `call_option_model` instance, and several parameters used to compute the risk-neutral binomial share price tree, e.g., the number of tree levels `h,` the current share price  `Sₒ,` the number of days to expiration `T,` etc. and returns a value for `theta.` We store the estimated value for theta in the `theta_long_call` variable"
   ]
  },
  {
   "cell_type": "code",
   "execution_count": 20,
   "id": "3150c1ec-10e9-491b-a4f8-6d83e6615146",
   "metadata": {},
   "outputs": [
    {
     "data": {
      "text/plain": [
       "-0.09199999999999875"
      ]
     },
     "execution_count": 20,
     "metadata": {},
     "output_type": "execute_result"
    }
   ],
   "source": [
    "theta_long_call = theta(call_option_model, h = h,  T = call_option_model.DTE, \n",
    "    σ = call_option_model.IV, Sₒ = Sₒ, μ = risk_free_rate)"
   ]
  },
  {
   "cell_type": "markdown",
   "id": "1af80fc1-d5ae-45af-8cf8-c6a14a5fe280",
   "metadata": {},
   "source": [
    "__Summary__: For a long-call, $\\Theta(\\star)<0$ implies that the option premium $\\mathcal{P}$ decreases as we approach the expiration of the contract. Thus, all else being constant, a long call will _lose value_ with time. This loss is referred to as the time-decay of the long call contract. For the `NVDA` call contract, we have a time-decay value of (units: USD per day per contract):"
   ]
  },
  {
   "cell_type": "code",
   "execution_count": 22,
   "id": "59d0062b-17db-4183-a987-8e313d5b7fbd",
   "metadata": {},
   "outputs": [
    {
     "name": "stdout",
     "output_type": "stream",
     "text": [
      "The long-call changes in value: -9.199999999999875 USD per day per contract\n"
     ]
    }
   ],
   "source": [
    "println(\"The long-call changes in value: $(theta_long_call*100) USD per day per contract\")"
   ]
  },
  {
   "cell_type": "markdown",
   "id": "e514f334-478a-431b-8fda-33ffb280b9b9",
   "metadata": {},
   "source": [
    "#### Check: How good is our theta estimate?\n",
    "This option's observed `theta` value is `theta = -0.0937` (long call). Let's use the [Julia @assert macro](https://docs.julialang.org/en/v1/base/base/#Base.@assert) in combination with the [Julia isapprox(...) function](https://docs.julialang.org/en/v1/base/math/#Base.isapprox) to compare the computed and observed values. \n",
    "* The [isapprox(...) function](https://docs.julialang.org/en/v1/base/math/#Base.isapprox) compares two values and returns `true` if the two values are equal to some absolute or relative tolerance, in this case, specified by the absolute tolerance `atol` variable. If `false` (values are not equal), an [AssertionError](https://docs.julialang.org/en/v1/base/base/#Core.AssertionError) is generated:"
   ]
  },
  {
   "cell_type": "code",
   "execution_count": 24,
   "id": "74481baf-5216-45a7-a488-cafa01bbff9b",
   "metadata": {},
   "outputs": [],
   "source": [
    "observed_value_theta_long_call = -0.0937; # NVDA 61-DTE K = 136 long call after close 14-Jun-2024 \n",
    "@assert isapprox(observed_value_theta_long_call, theta_long_call, atol=1e-2) # good to second decimal place, and sign is correct!"
   ]
  },
  {
   "cell_type": "markdown",
   "id": "aa2ed6e4-fba6-4adf-a9b0-8ea9c0bca585",
   "metadata": {
    "jp-MarkdownHeadingCollapsed": true
   },
   "source": [
    "### Vega long call\n",
    "`Vega` measures the rate of change in the option's premium $\\mathcal{P}$ with respect to a `+1%` change in the underlying asset's implied volatility `IV.` The `vega` metric is defined as:\n",
    "$$\n",
    "V(\\star) \\equiv \\frac{\\partial\\mathcal{P}}{\\partial{\\sigma}}\\Biggr|_{\\star}\n",
    "$$\n",
    "where $\\sigma$ denotes the implied volatility `IV.`  The `vega` is evaluated at the current state of the market $\\star$, e.g., the current value of the underlying share price, the implied volatility of the contract, the number of days left until contract expiration, the current risk-free rate, etc. \n",
    "* We estimate `vega` using the [vega(...) function](https://varnerlab.github.io/VLQuantitativeFinancePackage.jl/dev/derivatives/#VLQuantitativeFinancePackage.vega). The [vega(...) function](https://varnerlab.github.io/VLQuantitativeFinancePackage.jl/dev/derivatives/#VLQuantitativeFinancePackage.vega) takes several arguments: the `call_option_model` instance, and several parameters used to compute the risk-neutral binomial share price tree, e.g., the number of tree levels `h,` the current share price  `Sₒ,` the number of days to expiration `T,` etc. and returns a value for `vega.` We store the estimated value for vega in the `vega_long_call` variable"
   ]
  },
  {
   "cell_type": "code",
   "execution_count": 26,
   "id": "cc97c035-accc-4a0a-99e7-ca885cca265f",
   "metadata": {},
   "outputs": [
    {
     "data": {
      "text/plain": [
       "0.21600000000000108"
      ]
     },
     "execution_count": 26,
     "metadata": {},
     "output_type": "execute_result"
    }
   ],
   "source": [
    "vega_long_call = vega(call_option_model, h = h,  T = call_option_model.DTE, \n",
    "    σ = call_option_model.IV, Sₒ = Sₒ, μ = risk_free_rate)"
   ]
  },
  {
   "cell_type": "markdown",
   "id": "c2b5dc70-02a2-4ded-8421-86d1ccb3706e",
   "metadata": {},
   "source": [
    "__Summary__: For the long call contract, $V(\\star)>0$. Thus, the option premium for this long call will increase with increasing implied volatility. In other words, as the uncertainty in the future share price increases (measured by the implied volatility), an option contract becomes more expensive. This makes sense as the option seller demands additional compensation for the additional risk. "
   ]
  },
  {
   "cell_type": "markdown",
   "id": "eed5d152-da71-46f4-84da-85bbb7c49b42",
   "metadata": {},
   "source": [
    "#### Check: How good is our vega estimate?\n",
    "This `vega` value for the `long-call` is `vega = 0.2159.` Let's use the [Julia @assert macro](https://docs.julialang.org/en/v1/base/base/#Base.@assert) in combination with the [Julia isapprox(...) function](https://docs.julialang.org/en/v1/base/math/#Base.isapprox) to compare the computed and observed values. \n",
    "* The [isapprox(...) function](https://docs.julialang.org/en/v1/base/math/#Base.isapprox) compares two values and returns `true` if the two values are equal to some absolute or relative tolerance, in this case, specified by the absolute tolerance `atol` variable. If `false` (values are not equal), an [AssertionError](https://docs.julialang.org/en/v1/base/base/#Core.AssertionError) is generated:"
   ]
  },
  {
   "cell_type": "code",
   "execution_count": 29,
   "id": "32d66ca6-5232-4acb-a25a-71024139f466",
   "metadata": {},
   "outputs": [],
   "source": [
    "observed_value_vega_long_call = 0.2159; # NVDA 61-DTE K = 136 long call after close 14-Jun-2024 \n",
    "@assert isapprox(observed_value_vega_long_call, vega_long_call, atol=1e-2) # good to the second decimal place, and sign is correct!"
   ]
  },
  {
   "cell_type": "markdown",
   "id": "9ee6c224-a26d-4907-a7f8-3ac658bd783b",
   "metadata": {
    "jp-MarkdownHeadingCollapsed": true
   },
   "source": [
    "### Rho long call\n",
    "`Rho` measures the rate of change in the options premium $\\mathcal{P}$ for a `+1%` change in the risk-free rate $r_{f}$. The `rho` metric is defined as:\n",
    "$$\n",
    "\\begin{equation}\n",
    "\\rho(\\star)\\equiv\\frac{\\partial\\mathcal{P}}{\\partial{r_{f}}}\\Biggr|_{\\star}\n",
    "\\end{equation}\n",
    "$$\n",
    "where $\\rho(\\star)$ is evaluated at the current state of the market $\\star$, e.g., the current value of the underlying share price, the implied volatility of the contract, the number of days left until contract expiration, the current risk-free rate, etc. \n",
    "* We estimate $\\rho$ using the [rho(...) function](https://varnerlab.github.io/VLQuantitativeFinancePackage.jl/dev/derivatives/#VLQuantitativeFinancePackage.rho). The [rho(...) function](https://varnerlab.github.io/VLQuantitativeFinancePackage.jl/dev/derivatives/#VLQuantitativeFinancePackage.rho) takes several arguments: the `call_option_model` instance, and several parameters used to compute the risk-neutral binomial share price tree, e.g., the number of tree levels `h,` the current share price  `Sₒ,` the number of days to expiration `T,` etc. and returns a value for `rho.` We store the estimated value for rho in the `rho_long_call` variable"
   ]
  },
  {
   "cell_type": "code",
   "execution_count": 31,
   "id": "263bb74a-ef12-4ae6-9ce4-6c5d689b306d",
   "metadata": {},
   "outputs": [
    {
     "data": {
      "text/plain": [
       "0.0940000000000012"
      ]
     },
     "execution_count": 31,
     "metadata": {},
     "output_type": "execute_result"
    }
   ],
   "source": [
    "rho_long_call = rho(call_option_model, h = h,  T = call_option_model.DTE, \n",
    "    σ = call_option_model.IV, Sₒ = Sₒ, μ = risk_free_rate)"
   ]
  },
  {
   "cell_type": "markdown",
   "id": "9f5f9b9b-79b1-4270-9f9b-999c68af02ba",
   "metadata": {},
   "source": [
    "__Summary__: `rho` quantifies how much an option's price will theoretically change due to interest rate fluctuations, which is an important consideration, especially for longer-term options positions. In normal circumstances, the risk-free rate doesn't typically change. However, when interest rates increase during inflationary periods, `rho` can influence option premiums. For this option, changes in $r_{f}$ results in:"
   ]
  },
  {
   "cell_type": "code",
   "execution_count": 33,
   "id": "8297dcfe-2fa4-4871-8fea-9d6ebdc5c545",
   "metadata": {},
   "outputs": [
    {
     "name": "stdout",
     "output_type": "stream",
     "text": [
      "Change in contract value by a 1% increase in risk-free rate: 9.40000000000012 USD per contract\n"
     ]
    }
   ],
   "source": [
    "println(\"Change in contract value by a 1% increase in risk-free rate: $(rho_long_call*100) USD per contract\")"
   ]
  },
  {
   "cell_type": "markdown",
   "id": "b1192b4b-d766-4d41-a178-e5035a44e5ee",
   "metadata": {},
   "source": [
    "#### Check: How good is our rho estimate?\n",
    "The `rho` value for the `long-call` is `rho = 0.0950.` Let's use the [Julia @assert macro](https://docs.julialang.org/en/v1/base/base/#Base.@assert) in combination with the [Julia isapprox(...) function](https://docs.julialang.org/en/v1/base/math/#Base.isapprox) to compare the computed and observed values. \n",
    "* The [isapprox(...) function](https://docs.julialang.org/en/v1/base/math/#Base.isapprox) compares two values and returns `true` if the two values are equal to some absolute or relative tolerance, in this case, specified by the absolute tolerance `atol` variable. If `false` (values are not equal), an [AssertionError](https://docs.julialang.org/en/v1/base/base/#Core.AssertionError) is generated:"
   ]
  },
  {
   "cell_type": "code",
   "execution_count": 35,
   "id": "09c34590-c9c0-4285-a1b4-52895429ca38",
   "metadata": {},
   "outputs": [],
   "source": [
    "observed_value_rho_long_call = 0.0950; # NVDA 61-DTE K = 136 long call after close 14-Jun-2024 \n",
    "@assert isapprox(observed_value_rho_long_call, rho_long_call, atol=1e-2) # good to the second decimal place, and sign is correct!"
   ]
  },
  {
   "cell_type": "markdown",
   "id": "adadce7d-fd9d-4276-9310-bb5b880b339a",
   "metadata": {},
   "source": [
    "### Gamma long call\n",
    "Finally, $\\Gamma$ is the last of the common Greeks. The $\\Gamma$ metric measures the rate of change in the `delta` for a `+1 USD/share` change in the underlying price and is defined as:\n",
    "$$\n",
    "\\begin{equation}\n",
    "\\Gamma(\\star) \\equiv \\frac{\\partial^2\\mathcal{P}}{\\partial{S}^2}\\Biggr|_{\\star}\n",
    "\\end{equation}\n",
    "$$\n",
    "where $\\Gamma(\\star)$ is evaluated at the current state of the market $\\star$, e.g., the current value of the underlying share price, the implied volatility of the contract, the number of days left until contract expiration, the current risk-free rate, etc. \n",
    "* We estimate $\\Gamma$ using the [gamma(...) function](https://varnerlab.github.io/VLQuantitativeFinancePackage.jl/dev/derivatives/#VLQuantitativeFinancePackage.gamma). The [gamma(...) function](https://varnerlab.github.io/VLQuantitativeFinancePackage.jl/dev/derivatives/#VLQuantitativeFinancePackage.gamma) takes several arguments: the `call_option_model` instance, and several parameters used to compute the risk-neutral binomial share price tree, e.g., the number of tree levels `h,` the current share price  `Sₒ,` the number of days to expiration `T,` etc. and returns a value for `Gamma.` We store the estimated value for gamma in the `gamma_long_call` variable"
   ]
  },
  {
   "cell_type": "code",
   "execution_count": 37,
   "id": "7fcf5dfa-8cfd-445e-b7b6-e7e9f7c0fa03",
   "metadata": {},
   "outputs": [
    {
     "data": {
      "text/plain": [
       "0.022999999999999687"
      ]
     },
     "execution_count": 37,
     "metadata": {},
     "output_type": "execute_result"
    }
   ],
   "source": [
    "gamma_long_call = gamma(call_option_model, h = h,  T = call_option_model.DTE, \n",
    "    σ = call_option_model.IV, Sₒ = Sₒ, μ = risk_free_rate)"
   ]
  },
  {
   "cell_type": "markdown",
   "id": "6b5b8d3e-7541-4bf0-9257-3121983a6e1a",
   "metadata": {},
   "source": [
    "__Summary__: The long call option has a $\\Gamma(\\star)>0$, the premium's sensitivity to share price movements increases. This means that the premium becomes more responsive to changes in share price. The gamma value indicates how sensitive an option's delta is to changes in the underlying price, with higher gamma values indicating greater delta sensitivity."
   ]
  },
  {
   "cell_type": "markdown",
   "id": "119fb507-4556-4d9a-855e-c190b0c45f42",
   "metadata": {},
   "source": [
    "#### Check: How good is our gamma estimate?\n",
    "The `gamma` value for the `long-call` is `gamma = 0.0152.` Let's use the [Julia @assert macro](https://docs.julialang.org/en/v1/base/base/#Base.@assert) in combination with the [Julia isapprox(...) function](https://docs.julialang.org/en/v1/base/math/#Base.isapprox) to compare the computed and observed values. \n",
    "* The [isapprox(...) function](https://docs.julialang.org/en/v1/base/math/#Base.isapprox) compares two values and returns `true` if the two values are equal to some absolute or relative tolerance, in this case, specified by the absolute tolerance `atol` variable. If `false` (values are not equal), an [AssertionError](https://docs.julialang.org/en/v1/base/base/#Core.AssertionError) is generated:"
   ]
  },
  {
   "cell_type": "code",
   "execution_count": 40,
   "id": "653f72c9-40a1-409d-af41-8b9814bcdce7",
   "metadata": {},
   "outputs": [],
   "source": [
    "observed_value_gamma_long_call = 0.0152; # NVDA 61-DTE K = 136 long call after close 14-Jun-2024 \n",
    "@assert isapprox(observed_value_gamma_long_call, gamma_long_call, atol=1e-2) # good to the second decimal place, and sign is correct!"
   ]
  },
  {
   "cell_type": "markdown",
   "id": "c2c72ebe-2092-4420-a18b-865c3682362d",
   "metadata": {
    "jp-MarkdownHeadingCollapsed": true
   },
   "source": [
    "## Task 2: Compute the Greeks for a Long Put Option\n",
    "Now, let's look at the Greek values for a long-put option. In each case, we'll compare the computed value with values observed in the market and contrast the results of the long put contract with those of the long call. Let's begin with `delta.`"
   ]
  },
  {
   "cell_type": "markdown",
   "id": "6df24abd-5898-4c8a-a46d-7710143222b1",
   "metadata": {},
   "source": [
    "### Delta long put\n",
    "Like the call option, we estimate $\\Delta$ using the [delta(...) function](https://varnerlab.github.io/VLQuantitativeFinancePackage.jl/dev/derivatives/#VLQuantitativeFinancePackage.delta), but in this case using the `put_option_model` instance, all other parameters held the same:"
   ]
  },
  {
   "cell_type": "code",
   "execution_count": 43,
   "id": "f7fe117d-e8ed-4369-9d0d-237ab54ebf32",
   "metadata": {},
   "outputs": [
    {
     "data": {
      "text/plain": [
       "-0.3879999999999999"
      ]
     },
     "execution_count": 43,
     "metadata": {},
     "output_type": "execute_result"
    }
   ],
   "source": [
    "delta_long_put = delta(put_option_model, h = h,  T = put_option_model.DTE, \n",
    "    σ = put_option_model.IV, Sₒ = Sₒ, μ = risk_free_rate)"
   ]
  },
  {
   "cell_type": "markdown",
   "id": "ea56f4a8-9a52-4b6b-bd93-061ae26704dd",
   "metadata": {},
   "source": [
    "__Summary__: The $\\Delta(\\star)<0$ for the long-put (opposite sign of the call). Thus, as the underlying share price increases, the value of the put option _decreases_. This is consistent with the notion that long puts make a `bearish` directional assumption, i.e., a buyer will purchase a put option if they believe the underlying asset's share price will decrease. \n",
    "* _What about the number of share equivalents?_ The number of share equivalents for a long put, denoted as $n_{p}$, will be _negative_. Huh, what? This means that we are _short_ the shares but _long_ the put (confused yet?). By being _short the shares_, we benefit from the decrease in the underlying price. For this long put, we have a $n_{p}$ defined as:\n",
    "$$\n",
    "n_{p} = 100\\cdot\\Delta_{p}(\\star)\n",
    "$$\n",
    "where $\\Delta_{p}(\\star)$ denotes the $\\Delta(\\star)$ value for a long-put contract. Thus, this long put contract is equivalent to:"
   ]
  },
  {
   "cell_type": "code",
   "execution_count": 45,
   "id": "c2f5484e-d933-4cfd-8f2d-7e2f7450a433",
   "metadata": {},
   "outputs": [
    {
     "name": "stdout",
     "output_type": "stream",
     "text": [
      "Number of share equivalents for our long-put: -38.79999999999999 shares per contract\n"
     ]
    }
   ],
   "source": [
    "println(\"Number of share equivalents for our long-put: $(delta_long_put*100) shares per contract\")"
   ]
  },
  {
   "cell_type": "markdown",
   "id": "362ad578-31ad-4bf4-90f3-1a593d61e5dc",
   "metadata": {},
   "source": [
    "#### Check: How good is our delta estimate?\n",
    "The observed `delta` value for the `long put` is `delta = -0.3847` (long put). Let's use the [Julia @assert macro](https://docs.julialang.org/en/v1/base/base/#Base.@assert) in combination with the [Julia isapprox(...) function](https://docs.julialang.org/en/v1/base/math/#Base.isapprox) to compare the computed and observed values. \n",
    "* The [isapprox(...) function](https://docs.julialang.org/en/v1/base/math/#Base.isapprox) compares two values and returns `true` if the two values are equal to some absolute or relative tolerance, in this case, specified by the absolute tolerance `atol` variable. If `false` (values are not equal), an [AssertionError](https://docs.julialang.org/en/v1/base/base/#Core.AssertionError) is generated:"
   ]
  },
  {
   "cell_type": "code",
   "execution_count": 47,
   "id": "56d95e3c-0948-48eb-8b1d-f85c7b1d6007",
   "metadata": {},
   "outputs": [],
   "source": [
    "observed_value_delta_long_put = -0.3847; # NVDA 61-DTE K = 128 long put after close 14-Jun-2024 \n",
    "@assert isapprox(observed_value_delta_long_put, delta_long_put, atol=1e-2) # good to second decimal place, and sign is correct!"
   ]
  },
  {
   "cell_type": "markdown",
   "id": "4520f323-ae17-4a4d-a090-3032be11f731",
   "metadata": {},
   "source": [
    "### Theta\n",
    "Like the call option, we estimate $\\Theta$ using the [theta(...) function](https://varnerlab.github.io/VLQuantitativeFinancePackage.jl/dev/derivatives/#VLQuantitativeFinancePackage.theta), but in this case using the `put_option_model` instance, all other parameters held the same:"
   ]
  },
  {
   "cell_type": "code",
   "execution_count": 49,
   "id": "8862789f-439f-4343-82a5-0f163ef45061",
   "metadata": {},
   "outputs": [
    {
     "data": {
      "text/plain": [
       "-0.07499999999999929"
      ]
     },
     "execution_count": 49,
     "metadata": {},
     "output_type": "execute_result"
    }
   ],
   "source": [
    "theta_long_put = theta(put_option_model, h = h,  T = put_option_model.DTE, \n",
    "    σ = put_option_model.IV, Sₒ = Sₒ, μ = risk_free_rate)"
   ]
  },
  {
   "cell_type": "markdown",
   "id": "30db563d-af61-4c6f-964b-10dafbb1d3ba",
   "metadata": {},
   "source": [
    "__Summary__: The $\\Theta(\\star)<0$ for the long-put (same sign as the call option). Thus, the long-call and the long-put behave similarly in that the price of the option contract _decreases_ as the contract approaches expiration, where all else is held constant. For the `NVDA` put contract, we have a time-decay value of (units: USD per day per contract):"
   ]
  },
  {
   "cell_type": "code",
   "execution_count": 51,
   "id": "1cc2c9c3-ee6e-4610-8614-cc985e018a76",
   "metadata": {},
   "outputs": [
    {
     "name": "stdout",
     "output_type": "stream",
     "text": [
      "The long-put changes in value: -7.499999999999929 USD per day per contract\n"
     ]
    }
   ],
   "source": [
    "println(\"The long-put changes in value: $(theta_long_put*100) USD per day per contract\")"
   ]
  },
  {
   "cell_type": "markdown",
   "id": "479e2480-1cad-4534-a21c-8de4002d9eea",
   "metadata": {},
   "source": [
    "#### Check: How good is our theta estimate?\n",
    "The observed `theta` value for the `long put` is `theta = -0.0726` (long put). Let's use the [Julia @assert macro](https://docs.julialang.org/en/v1/base/base/#Base.@assert) in combination with the [Julia isapprox(...) function](https://docs.julialang.org/en/v1/base/math/#Base.isapprox) to compare the computed and observed values. \n",
    "* The [isapprox(...) function](https://docs.julialang.org/en/v1/base/math/#Base.isapprox) compares two values and returns `true` if the two values are equal to some absolute or relative tolerance, in this case, specified by the absolute tolerance `atol` variable. If `false` (values are not equal), an [AssertionError](https://docs.julialang.org/en/v1/base/base/#Core.AssertionError) is generated:"
   ]
  },
  {
   "cell_type": "code",
   "execution_count": 53,
   "id": "903ab3eb-a639-43b5-8e52-8d26b35a0f90",
   "metadata": {},
   "outputs": [],
   "source": [
    "observed_value_theta_long_put = -0.0726; # NVDA 61-DTE K = 128 long put after close 14-Jun-2024 \n",
    "@assert isapprox(observed_value_theta_long_put, theta_long_put, atol=1e-2) # good to the second decimal place, and sign is correct!"
   ]
  },
  {
   "cell_type": "markdown",
   "id": "f29c6b28-a286-433e-bf22-dd08bb81e81f",
   "metadata": {},
   "source": [
    "### Vega\n",
    "Like the call option, we estimate `Vega` using the [vega(...) function](https://varnerlab.github.io/VLQuantitativeFinancePackage.jl/dev/derivatives/#VLQuantitativeFinancePackage.vega), but in this case using the `put_option_model` instance, all other parameters held the same:"
   ]
  },
  {
   "cell_type": "code",
   "execution_count": 55,
   "id": "6ec46313-f919-4e55-97a9-dac45fb09c35",
   "metadata": {},
   "outputs": [
    {
     "data": {
      "text/plain": [
       "0.20700000000000074"
      ]
     },
     "execution_count": 55,
     "metadata": {},
     "output_type": "execute_result"
    }
   ],
   "source": [
    "vega_long_put = vega(put_option_model, h = h,  T = put_option_model.DTE, \n",
    "    σ = put_option_model.IV, Sₒ = Sₒ, μ = risk_free_rate)"
   ]
  },
  {
   "cell_type": "markdown",
   "id": "e477dd52-eb7e-421a-b8c0-4e30a1744253",
   "metadata": {},
   "source": [
    "__Summary__: For the long put contract, $V(\\star)>0$. Thus, the option premium for the long put (like the long call) will increase with implied volatility; as the uncertainty in the future share price increases (measured by the implied volatility), an option contract becomes more expensive (both call and puts). This makes sense as the option seller will demand additional compensation for the additional risk. "
   ]
  },
  {
   "cell_type": "markdown",
   "id": "99a01877-34a6-4742-99c6-c7f2a1b9ed34",
   "metadata": {},
   "source": [
    "#### Check: How good is our vega estimate?\n",
    "The observed `vega` value for the `long put` is `vega = 0.2068.` Let's use the [Julia @assert macro](https://docs.julialang.org/en/v1/base/base/#Base.@assert) in combination with the [Julia isapprox(...) function](https://docs.julialang.org/en/v1/base/math/#Base.isapprox) to compare the computed and observed values. \n",
    "* The [isapprox(...) function](https://docs.julialang.org/en/v1/base/math/#Base.isapprox) compares two values and returns `true` if the two values are equal to some absolute or relative tolerance, in this case, specified by the absolute tolerance `atol` variable. If `false` (values are not equal), an [AssertionError](https://docs.julialang.org/en/v1/base/base/#Core.AssertionError) is generated:"
   ]
  },
  {
   "cell_type": "code",
   "execution_count": 58,
   "id": "8a39a4e0-0c22-4af8-9c4c-c30705278253",
   "metadata": {},
   "outputs": [],
   "source": [
    "observed_value_vega_long_put = 0.2068; # NVDA 61-DTE K = 128 long put after close 14-Jun-2024 \n",
    "@assert isapprox(observed_value_vega_long_put, vega_long_put, atol=1e-2) # good to the second decimal place, and sign is correct!"
   ]
  },
  {
   "cell_type": "markdown",
   "id": "f12fac85-d508-4815-ac24-d7f2db0b7bc9",
   "metadata": {},
   "source": [
    "### Rho\n",
    "Like the call option, we estimate $\\rho$ using the [rho(...) function](https://varnerlab.github.io/VLQuantitativeFinancePackage.jl/dev/derivatives/#VLQuantitativeFinancePackage.rho), but in this case using the `put_option_model` instance, all other parameters held the same:"
   ]
  },
  {
   "cell_type": "code",
   "execution_count": 60,
   "id": "050d564d-6bff-4314-98ac-da1106a64a90",
   "metadata": {},
   "outputs": [
    {
     "data": {
      "text/plain": [
       "-0.0829999999999993"
      ]
     },
     "execution_count": 60,
     "metadata": {},
     "output_type": "execute_result"
    }
   ],
   "source": [
    "rho_long_put = rho(put_option_model, h = h,  T = put_option_model.DTE, \n",
    "    σ = put_option_model.IV, Sₒ = Sₒ, μ = risk_free_rate)"
   ]
  },
  {
   "cell_type": "markdown",
   "id": "71a5742a-8a08-46cf-9271-18919aa12bdf",
   "metadata": {},
   "source": [
    "__Summary__: `rho` quantifies how much an option's price will theoretically change due to interest rate fluctuations, which is an important consideration, especially for longer-term options positions. However, unlike the long call contract, $\\rho(\\star)<0$ for the long-put contract."
   ]
  },
  {
   "cell_type": "code",
   "execution_count": 62,
   "id": "e9a8137c-7034-45f3-a5bc-045a4d85ea18",
   "metadata": {},
   "outputs": [
    {
     "name": "stdout",
     "output_type": "stream",
     "text": [
      "Change in put contract price by a 1% increase in risk-free rate: -8.29999999999993 USD per contract\n"
     ]
    }
   ],
   "source": [
    "println(\"Change in put contract price by a 1% increase in risk-free rate: $(rho_long_put*100) USD per contract\")"
   ]
  },
  {
   "cell_type": "markdown",
   "id": "7c041641-1d5f-4e04-80db-203ba02d63c7",
   "metadata": {},
   "source": [
    "#### Check: How good is our rho estimate?\n",
    "The observed `rho` value for the `long put` is `rho = -0.0902` Let's use the [Julia @assert macro](https://docs.julialang.org/en/v1/base/base/#Base.@assert) in combination with the [Julia isapprox(...) function](https://docs.julialang.org/en/v1/base/math/#Base.isapprox) to compare the computed and observed values. \n",
    "* The [isapprox(...) function](https://docs.julialang.org/en/v1/base/math/#Base.isapprox) compares two values and returns `true` if the two values are equal to some absolute or relative tolerance, in this case, specified by the absolute tolerance `atol` variable. If `false` (values are not equal), an [AssertionError](https://docs.julialang.org/en/v1/base/base/#Core.AssertionError) is generated:"
   ]
  },
  {
   "cell_type": "code",
   "execution_count": 64,
   "id": "790f7d8e-7374-4e10-b1a1-39e1fd33b338",
   "metadata": {},
   "outputs": [],
   "source": [
    "observed_value_rho_long_put = -0.0902; # NVDA 61-DTE K = 128 long put after close 14-Jun-2024 \n",
    "@assert isapprox(observed_value_rho_long_put, rho_long_put, atol=1e-2) # good to the second decimal place, and sign is correct!"
   ]
  },
  {
   "cell_type": "markdown",
   "id": "3bf8d7da-af12-4bf9-bad9-974b638259d8",
   "metadata": {},
   "source": [
    "### Gamma\n",
    "Finally, like the $\\Gamma$ calculation for the long-call, we estimate $\\Gamma$ using the [gamma(...) function](https://varnerlab.github.io/VLQuantitativeFinancePackage.jl/dev/derivatives/#VLQuantitativeFinancePackage.gamma), but in this case using the `put_option_model` instance, all other parameters held the same:"
   ]
  },
  {
   "cell_type": "code",
   "execution_count": 66,
   "id": "15459b4f-ee70-4fb5-9380-38523d0f7e78",
   "metadata": {},
   "outputs": [
    {
     "data": {
      "text/plain": [
       "0.020000000000000462"
      ]
     },
     "execution_count": 66,
     "metadata": {},
     "output_type": "execute_result"
    }
   ],
   "source": [
    "gamma_long_put = gamma(put_option_model, h = h,  T = put_option_model.DTE, \n",
    "    σ = put_option_model.IV, Sₒ = Sₒ, μ = risk_free_rate)"
   ]
  },
  {
   "cell_type": "markdown",
   "id": "7b495c9f-6896-4632-8ab1-b6fc315acebb",
   "metadata": {},
   "source": [
    "__Summary__: The long put option has a $\\Gamma(star)>0$, which increases the premium's sensitivity to share price movements, i.e., the premium becomes more responsive to changes in share price. The $\\Gamma$ value indicates how sensitive an option's `delta` is to changes in the underlying price, with higher $\\Gamma$ values indicating greater `delta` sensitivity."
   ]
  },
  {
   "cell_type": "markdown",
   "id": "356f0573-4616-4021-96a4-6fd4c16a755a",
   "metadata": {},
   "source": [
    "#### Check: How good is our gamma estimate?\n",
    "The observed `gamma` value for the `long put` is `gamma = 0.0150.` Let's use the [Julia @assert macro](https://docs.julialang.org/en/v1/base/base/#Base.@assert) in combination with the [Julia isapprox(...) function](https://docs.julialang.org/en/v1/base/math/#Base.isapprox) to compare the computed and observed values. \n",
    "* The [isapprox(...) function](https://docs.julialang.org/en/v1/base/math/#Base.isapprox) compares two values and returns `true` if the two values are equal to some absolute or relative tolerance, in this case, specified by the absolute tolerance `atol` variable. If `false` (values are not equal), an [AssertionError](https://docs.julialang.org/en/v1/base/base/#Core.AssertionError) is generated:"
   ]
  },
  {
   "cell_type": "code",
   "execution_count": 69,
   "id": "88995f90-2f18-4c59-915d-2d21c7e64145",
   "metadata": {},
   "outputs": [],
   "source": [
    "observed_value_gamma_long_put = 0.0150; # NVDA 61-DTE K = 128 long put after close 14-Jun-2024 \n",
    "@assert isapprox(observed_value_gamma_long_put, gamma_long_put, atol=1e-2) # good to the second decimal place, and sign is correct!"
   ]
  },
  {
   "cell_type": "markdown",
   "id": "5d43874c-1353-495e-94d6-e9caafd18290",
   "metadata": {},
   "source": [
    "## Task 3: Conversion of the Greeks to Short Contracts\n",
    "We computed `delta, theta, vega, rho` and `gamma` values for `long` put and call contacts in the previous tasks. The immediate question is, then, what about short contracts? Computing the Greek values for short contracts is easy: the Greek values for long and short Greek contracts must sum to `0`:\n",
    "\n",
    "* Denote the short value of a Greek by an overbar, i.e., the short `delta` for a call evaluated at market conditions $\\star$ would be given by $\\bar{\\Delta}_{c}(\\star)$. Then, the following condition must hold (for all market states $\\star$):\n",
    "$$\n",
    "\\begin{equation}\n",
    "\\bar{\\Delta}_{c}(\\star) + \\Delta_{c}\\left(\\star\\right) = 0\\quad\\forall\\star\n",
    "\\end{equation}\n",
    "$$\n",
    "\n",
    "It's important to note that the interconversion between long and short Greek values is a universal concept applicable to all the Greeks we have explored. This understanding will serve as a solid foundation for your options trading knowledge.\n",
    "\n",
    "`Unhide` the code block below to see how we constructed a table for the Greeks for the long-call `NVDA` contract."
   ]
  },
  {
   "cell_type": "code",
   "execution_count": null,
   "id": "f76bbe62-44be-4002-9d28-cd8c6f14c13f",
   "metadata": {
    "jupyter": {
     "source_hidden": true
    }
   },
   "outputs": [],
   "source": [
    "let\n",
    "    \n",
    "    sense = -1;\n",
    "    greek_dataframe = DataFrame();\n",
    "\n",
    "    # delta -\n",
    "    delta_row = (\n",
    "        greek = \"delta\", \n",
    "        call_long_calc = delta_long_call,\n",
    "        call_short_calc = (sense)*delta_long_call,\n",
    "        check = delta_long_call + (sense)*delta_long_call,\n",
    "        call_long_obs = observed_value_delta_long_call,\n",
    "        error_percentage = ((delta_long_call - observed_value_delta_long_call)/(observed_value_delta_long_call))*100\n",
    "    )\n",
    "    push!(greek_dataframe,delta_row);\n",
    "\n",
    "    # theta\n",
    "    theta_row = (\n",
    "        greek = \"theta\", \n",
    "        call_long_calc = theta_long_call,\n",
    "        call_short_calc = (sense)*theta_long_call,\n",
    "        check = theta_long_call + (sense)*theta_long_call,\n",
    "        call_long_obs = observed_value_theta_long_call,\n",
    "        error_percentage = ((theta_long_call - observed_value_theta_long_call)/(observed_value_theta_long_call))*100,\n",
    "    )\n",
    "    push!(greek_dataframe,theta_row);\n",
    "\n",
    "    # vega -\n",
    "    vega_row = (\n",
    "        greek = \"vega\", \n",
    "        call_long_calc = vega_long_call,\n",
    "        call_short_calc = (sense)*vega_long_call,\n",
    "        check = vega_long_call + (sense)*vega_long_call,\n",
    "        call_long_obs = observed_value_vega_long_call,\n",
    "        error_percentage = ((vega_long_call - observed_value_vega_long_call)/(observed_value_vega_long_call))*100\n",
    "    )\n",
    "    push!(greek_dataframe,vega_row);\n",
    "\n",
    "    # rho -\n",
    "    rho_row = (\n",
    "        greek = \"rho\", \n",
    "        call_long_calc = rho_long_call,\n",
    "        call_short_calc = (sense)*rho_long_call,\n",
    "        check = rho_long_call + (sense)*rho_long_call,\n",
    "        call_long_obs = observed_value_rho_long_call,\n",
    "        error_percentage = ((rho_long_call - observed_value_rho_long_call)/(observed_value_rho_long_call))*100\n",
    "    )\n",
    "    push!(greek_dataframe,rho_row);\n",
    "\n",
    "    # gamma -\n",
    "    gamma_row = (\n",
    "        greek = \"gamma\", \n",
    "        call_long_calc = gamma_long_call,\n",
    "        call_short_calc = (sense)*gamma_long_call,\n",
    "        check = gamma_long_call + (sense)*gamma_long_call,\n",
    "        call_long_obs = observed_value_gamma_long_call,\n",
    "        error_percentage = ((gamma_long_call - observed_value_gamma_long_call)/(observed_value_gamma_long_call))*100\n",
    "    )\n",
    "    push!(greek_dataframe,gamma_row);\n",
    "\n",
    "    # display -\n",
    "    greek_dataframe\n",
    "end"
   ]
  },
  {
   "cell_type": "markdown",
   "id": "a4767eed-ae8c-4317-9407-3f3edf65cdbc",
   "metadata": {},
   "source": [
    "and the `NVDA` put contract:"
   ]
  },
  {
   "cell_type": "code",
   "execution_count": null,
   "id": "57b2ef6f-f029-4131-b747-87d8c908b213",
   "metadata": {
    "jupyter": {
     "source_hidden": true
    }
   },
   "outputs": [],
   "source": [
    "let\n",
    "    \n",
    "    sense = -1;\n",
    "    greek_dataframe = DataFrame();\n",
    "\n",
    "    # delta -\n",
    "    delta_row = (\n",
    "        greek = \"delta\", \n",
    "        put_long_calc = delta_long_put,\n",
    "        put_short_calc = (sense)*delta_long_put,\n",
    "        check = delta_long_put + (sense)*delta_long_put,\n",
    "        put_long_obs = observed_value_delta_long_put,\n",
    "        error_percentage = ((delta_long_put - observed_value_delta_long_put)/(observed_value_delta_long_put))*100\n",
    "    )\n",
    "    push!(greek_dataframe,delta_row);\n",
    "\n",
    "    # theta\n",
    "    theta_row = (\n",
    "        greek = \"theta\", \n",
    "        put_long_calc = theta_long_put,\n",
    "        put_short_calc = (sense)*theta_long_put,\n",
    "        check = theta_long_put + (sense)*theta_long_put,\n",
    "        put_long_obs = observed_value_theta_long_put,\n",
    "        error_percentage = ((theta_long_put - observed_value_theta_long_put)/(observed_value_theta_long_put))*100,\n",
    "    )\n",
    "    push!(greek_dataframe,theta_row);\n",
    "\n",
    "    # vega -\n",
    "    vega_row = (\n",
    "        greek = \"vega\", \n",
    "        put_long_calc = vega_long_put,\n",
    "        put_short_calc = (sense)*vega_long_put,\n",
    "        check = vega_long_put + (sense)*vega_long_put,\n",
    "        put_long_obs = observed_value_vega_long_put,\n",
    "        error_percentage = ((vega_long_put - observed_value_vega_long_put)/(observed_value_vega_long_put))*100\n",
    "    )\n",
    "    push!(greek_dataframe,vega_row);\n",
    "\n",
    "    # rho -\n",
    "    rho_row = (\n",
    "        greek = \"rho\", \n",
    "        put_long_calc = rho_long_put,\n",
    "        put_short_calc = (sense)*rho_long_put,\n",
    "        check = rho_long_put + (sense)*rho_long_put,\n",
    "        put_long_obs = observed_value_rho_long_put,\n",
    "        error_percentage = ((rho_long_put - observed_value_rho_long_put)/(observed_value_rho_long_put))*100\n",
    "    )\n",
    "    push!(greek_dataframe,rho_row);\n",
    "\n",
    "    # gamma -\n",
    "    gamma_row = (\n",
    "        greek = \"gamma\", \n",
    "        put_long_calc = gamma_long_put,\n",
    "        put_short_calc = (sense)*gamma_long_put,\n",
    "        check = gamma_long_put + (sense)*gamma_long_put,\n",
    "        put_long_obs = observed_value_gamma_long_put,\n",
    "        error_percentage = ((gamma_long_put - observed_value_gamma_long_put)/(observed_value_gamma_long_put))*100\n",
    "    )\n",
    "    push!(greek_dataframe,gamma_row);\n",
    "\n",
    "    # display -\n",
    "    greek_dataframe\n",
    "end"
   ]
  },
  {
   "cell_type": "markdown",
   "id": "98358cf8-8ab3-482e-9964-6221118e4966",
   "metadata": {},
   "source": [
    "__Summary__: In general, our estimates of [the Greeks](https://en.wikipedia.org/wiki/en:Greeks_(finance)?variant=zh-tw) have percentage error in the range of `1-5%` for both the call and put contracts. The exception is $\\Gamma$, with a percentage error above `30%` in both cases (we overestimated the $\\Gamma$ in each case). However, the $\\Gamma$ value is small, and the sign was correctly captured, so while not ideal, the impact on the premium will be small."
   ]
  },
  {
   "cell_type": "markdown",
   "id": "74c2ee7e-9f7c-4852-beb3-755bb6626c45",
   "metadata": {},
   "source": [
    "## Disclaimer and Risks\n",
    "__This content is offered solely for training and informational purposes__. No offer or solicitation to buy or sell securities or derivative products or any investment or trading advice or strategy is made, given, or endorsed by the teaching team. \n",
    "\n",
    "__Trading involves risk__. Carefully review your financial situation before investing in securities, futures contracts, options, or commodity interests. Past performance, whether actual or indicated by historical tests of strategies, is no guarantee of future performance or success. Trading is generally inappropriate for someone with limited resources, investment or trading experience, or a low-risk tolerance.  Only risk capital that is not required for living expenses.\n",
    "\n",
    "__You are fully responsible for any investment or trading decisions you make__. You should decide solely based on your financial circumstances, investment or trading objectives, risk tolerance, and liquidity needs."
   ]
  }
 ],
 "metadata": {
  "kernelspec": {
   "display_name": "Julia 1.11.1",
   "language": "julia",
   "name": "julia-1.11"
  },
  "language_info": {
   "file_extension": ".jl",
   "mimetype": "application/julia",
   "name": "julia",
   "version": "1.11.1"
  }
 },
 "nbformat": 4,
 "nbformat_minor": 5
}
