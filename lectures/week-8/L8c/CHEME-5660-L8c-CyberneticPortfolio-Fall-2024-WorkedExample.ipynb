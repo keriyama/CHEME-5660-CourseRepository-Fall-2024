{
 "cells": [
  {
   "cell_type": "markdown",
   "id": "f8e24ffd-a586-41ce-b217-6589d1972561",
   "metadata": {},
   "source": [
    "# Example: Cybernetic Portfolio Allocation Performance\n",
    "Fill me in."
   ]
  },
  {
   "cell_type": "markdown",
   "id": "7d239333-156d-43d8-92e7-66ddeeaf0b04",
   "metadata": {},
   "source": [
    "## Setup\n",
    "We set up the computational environment by including [the `Include.jl` file](Include.jl). The `Include.jl` file loads external packages, various functions that we will use in the exercise, and custom types to model the components of our lab problem.\n",
    "* For additional information on functions and types used in this material, see the [Julia programming language documentation](https://docs.julialang.org/en/v1/) and the [VLQuantitativeFinancePackage.jl documentation](https://github.com/varnerlab/VLQuantitativeFinancePackage.jl)."
   ]
  },
  {
   "cell_type": "code",
   "execution_count": 3,
   "id": "22aa2f02-a36f-40ac-b263-e1d1ae5cedbe",
   "metadata": {},
   "outputs": [],
   "source": [
    "include(\"Include.jl\");"
   ]
  },
  {
   "cell_type": "markdown",
   "id": "52f05a08-baad-4425-a918-f93ef907ed8e",
   "metadata": {},
   "source": [
    "## Prerequisites: Load and clean the testing dataset\n",
    "We gathered a daily open-high-low-close `dataset` for each firm in the [S&P500](https://en.wikipedia.org/wiki/S%26P_500) from `01-03-2024` until last week `09-23-24` close, along with data for a few exchange-traded funds and volatility products during that time. We load the `out_of_sample_dataset::Dict{String, DataFrame}` by calling the `MyOutOfSampleMarketDataSet()` function:"
   ]
  },
  {
   "cell_type": "code",
   "execution_count": 5,
   "id": "6ea0eb00-be11-41e4-a148-8e61092563a3",
   "metadata": {},
   "outputs": [
    {
     "data": {
      "text/plain": [
       "Dict{String, DataFrame} with 488 entries:\n",
       "  \"NI\"   => \u001b[1m182×8 DataFrame\u001b[0m\u001b[0m…\n",
       "  \"EMR\"  => \u001b[1m182×8 DataFrame\u001b[0m\u001b[0m…\n",
       "  \"CTAS\" => \u001b[1m182×8 DataFrame\u001b[0m\u001b[0m…\n",
       "  \"HSIC\" => \u001b[1m182×8 DataFrame\u001b[0m\u001b[0m…\n",
       "  \"KIM\"  => \u001b[1m182×8 DataFrame\u001b[0m\u001b[0m…\n",
       "  \"PLD\"  => \u001b[1m182×8 DataFrame\u001b[0m\u001b[0m…\n",
       "  \"IEX\"  => \u001b[1m182×8 DataFrame\u001b[0m\u001b[0m…\n",
       "  \"BAC\"  => \u001b[1m182×8 DataFrame\u001b[0m\u001b[0m…\n",
       "  \"CBOE\" => \u001b[1m182×8 DataFrame\u001b[0m\u001b[0m…\n",
       "  \"EXR\"  => \u001b[1m182×8 DataFrame\u001b[0m\u001b[0m…\n",
       "  \"NCLH\" => \u001b[1m182×8 DataFrame\u001b[0m\u001b[0m…\n",
       "  \"CVS\"  => \u001b[1m182×8 DataFrame\u001b[0m\u001b[0m…\n",
       "  \"DRI\"  => \u001b[1m182×8 DataFrame\u001b[0m\u001b[0m…\n",
       "  \"DTE\"  => \u001b[1m182×8 DataFrame\u001b[0m\u001b[0m…\n",
       "  \"ZION\" => \u001b[1m182×8 DataFrame\u001b[0m\u001b[0m…\n",
       "  \"AVY\"  => \u001b[1m182×8 DataFrame\u001b[0m\u001b[0m…\n",
       "  \"EW\"   => \u001b[1m182×8 DataFrame\u001b[0m\u001b[0m…\n",
       "  \"EA\"   => \u001b[1m182×8 DataFrame\u001b[0m\u001b[0m…\n",
       "  \"NWSA\" => \u001b[1m182×8 DataFrame\u001b[0m\u001b[0m…\n",
       "  \"BBWI\" => \u001b[1m182×8 DataFrame\u001b[0m\u001b[0m…\n",
       "  \"CAG\"  => \u001b[1m182×8 DataFrame\u001b[0m\u001b[0m…\n",
       "  \"GPC\"  => \u001b[1m182×8 DataFrame\u001b[0m\u001b[0m…\n",
       "  \"FCX\"  => \u001b[1m182×8 DataFrame\u001b[0m\u001b[0m…\n",
       "  \"GILD\" => \u001b[1m182×8 DataFrame\u001b[0m\u001b[0m…\n",
       "  \"UNP\"  => \u001b[1m182×8 DataFrame\u001b[0m\u001b[0m…\n",
       "  ⋮      => ⋮"
      ]
     },
     "execution_count": 5,
     "metadata": {},
     "output_type": "execute_result"
    }
   ],
   "source": [
    "out_of_sample_dataset = MyOutOfSampleMarketDataSet() |> x-> x[\"dataset\"]"
   ]
  },
  {
   "cell_type": "code",
   "execution_count": 6,
   "id": "c56cdef4-76ce-42d1-b6b2-3ccada5d85ab",
   "metadata": {},
   "outputs": [],
   "source": [
    "out_of_sample_dataset[\"AAPL\"];"
   ]
  },
  {
   "cell_type": "markdown",
   "id": "e0ecd475-9ee0-49b4-8283-ec8444394f43",
   "metadata": {},
   "source": [
    "### Load single index models and compute the covariance\n",
    "Previously, we estimated the parameters and residual distributions for each `ticker` and saved these to a [JLD2.jl file](https://github.com/JuliaIO/JLD2.jl). Load this file using the [load(...) function](https://juliaio.github.io/JLD2.jl/stable/#save-and-load-functions). \n",
    "* Store the model collection in the `sim_model_dictionary` variable, where the keys of the dictionary are the ticker symbols and the values are the parameterized [MySingleIndexModel instances](https://varnerlab.github.io/VLQuantitativeFinancePackage.jl/dev/portfolio/#VLQuantitativeFinancePackage.MySingleIndexModel) estimated previously."
   ]
  },
  {
   "cell_type": "code",
   "execution_count": 8,
   "id": "4b9cf866-05e2-487d-8ecd-46989bc326fa",
   "metadata": {},
   "outputs": [
    {
     "data": {
      "text/plain": [
       "Dict{String, MySingleIndexModel} with 460 entries:\n",
       "  \"NI\"   => MySingleIndexModel(-0.0671224, 0.652999, 0.0389, Normal{Float64}(μ=…\n",
       "  \"EMR\"  => MySingleIndexModel(-0.0549877, 1.23526, 0.0389, Normal{Float64}(μ=-…\n",
       "  \"CTAS\" => MySingleIndexModel(0.119417, 1.17936, 0.0389, Normal{Float64}(μ=-6.…\n",
       "  \"HSIC\" => MySingleIndexModel(-0.0811194, 0.913675, 0.0389, Normal{Float64}(μ=…\n",
       "  \"KIM\"  => MySingleIndexModel(-0.0818621, 1.28859, 0.0389, Normal{Float64}(μ=-…\n",
       "  \"PLD\"  => MySingleIndexModel(0.0273092, 1.02836, 0.0389, Normal{Float64}(μ=1.…\n",
       "  \"IEX\"  => MySingleIndexModel(-0.00940007, 0.963259, 0.0389, Normal{Float64}(μ…\n",
       "  \"BAC\"  => MySingleIndexModel(-0.0922207, 1.32778, 0.0389, Normal{Float64}(μ=-…\n",
       "  \"CBOE\" => MySingleIndexModel(-0.00982405, 0.588498, 0.0389, Normal{Float64}(μ…\n",
       "  \"EXR\"  => MySingleIndexModel(0.0252878, 0.725388, 0.0389, Normal{Float64}(μ=3…\n",
       "  \"NCLH\" => MySingleIndexModel(-0.336719, 2.32891, 0.0389, Normal{Float64}(μ=1.…\n",
       "  \"CVS\"  => MySingleIndexModel(-0.0703279, 0.78292, 0.0389, Normal{Float64}(μ=-…\n",
       "  \"DRI\"  => MySingleIndexModel(-0.0286856, 1.36306, 0.0389, Normal{Float64}(μ=8…\n",
       "  \"DTE\"  => MySingleIndexModel(-0.0784382, 0.769165, 0.0389, Normal{Float64}(μ=…\n",
       "  \"ZION\" => MySingleIndexModel(-0.138024, 1.36377, 0.0389, Normal{Float64}(μ=9.…\n",
       "  \"AVY\"  => MySingleIndexModel(-0.0102924, 1.16058, 0.0389, Normal{Float64}(μ=-…\n",
       "  \"EW\"   => MySingleIndexModel(0.0158413, 1.11274, 0.0389, Normal{Float64}(μ=-1…\n",
       "  \"EA\"   => MySingleIndexModel(-0.0374669, 0.629636, 0.0389, Normal{Float64}(μ=…\n",
       "  \"NWSA\" => MySingleIndexModel(-0.0347286, 1.12238, 0.0389, Normal{Float64}(μ=1…\n",
       "  \"CAG\"  => MySingleIndexModel(-0.10775, 0.437623, 0.0389, Normal{Float64}(μ=-7…\n",
       "  \"GILD\" => MySingleIndexModel(-0.0535678, 0.516018, 0.0389, Normal{Float64}(μ=…\n",
       "  \"FCX\"  => MySingleIndexModel(-0.00807345, 1.80621, 0.0389, Normal{Float64}(μ=…\n",
       "  \"GPC\"  => MySingleIndexModel(-0.0389315, 1.06584, 0.0389, Normal{Float64}(μ=3…\n",
       "  \"UNP\"  => MySingleIndexModel(0.00241017, 1.03174, 0.0389, Normal{Float64}(μ=4…\n",
       "  \"CDW\"  => MySingleIndexModel(0.0876354, 1.21706, 0.0389, Normal{Float64}(μ=1.…\n",
       "  ⋮      => ⋮"
      ]
     },
     "execution_count": 8,
     "metadata": {},
     "output_type": "execute_result"
    }
   ],
   "source": [
    "sim_model_dictionary = load(joinpath(_PATH_TO_DATA, \"SIMs-SP500-01-03-18-to-12-29-23.jld2\")) |> x->x[\"sim\"]"
   ]
  },
  {
   "cell_type": "markdown",
   "id": "29fbd221-9ad7-41f8-9326-556034158bbc",
   "metadata": {},
   "source": [
    "Next, let's build a sorted list of firms that we have in cleaned up `sim_model_dictionary::Dict{String, MySingleIndexModel}` and save it in the `list_of_all_tickers::Array{String,1}` array:"
   ]
  },
  {
   "cell_type": "code",
   "execution_count": 10,
   "id": "be561ccf-4b76-4422-85b6-d64cf40698b0",
   "metadata": {},
   "outputs": [],
   "source": [
    "list_of_all_tickers = keys(sim_model_dictionary) |> collect |> sort;"
   ]
  },
  {
   "cell_type": "markdown",
   "id": "1de18979-a9ef-490c-b169-e4edb8276b5c",
   "metadata": {},
   "source": [
    "Set some constants. Since we don't have access to historical data in this case study, we'll estimate some parameters from other sources or set typical values."
   ]
  },
  {
   "cell_type": "code",
   "execution_count": 35,
   "id": "fcf9f480-b1c5-451a-b2df-97035a9c0616",
   "metadata": {},
   "outputs": [],
   "source": [
    "σₘ = 0.1621; # implied volatility for SPY\n",
    "μₘ = 0.10; # assumed expected return for SPY\n",
    "risk_free_rate = 0.0389; # hypothetical continuous compounded risk-free rate (units: 1/year)\n",
    "Δt = (1.0/252.0); # time step for 1-trading day (units: 1/year)\n",
    "initial_buffer_size = 10; "
   ]
  },
  {
   "cell_type": "markdown",
   "id": "3b151a5f-4654-4cb5-a052-3bcf929f4b9c",
   "metadata": {},
   "source": [
    "#### Compute: Covariance matrix using single index models\n",
    "Next, build the covariance array using single index models. Substituting the single index model for the excess return of asset $i$ and $j$ into the covariance expression (and simplifying) gives:\n",
    "$$\n",
    "\\begin{equation*}\n",
    "\\text{cov}(R_{i}, R_{j}) = \\begin{cases}\n",
    "\\beta_{i}^{2}\\sigma_{m}^{2}+\\sigma_{\\epsilon_{i}}^{2} & i = j \\\\\n",
    "\\beta_{i}\\beta_{j}\\sigma_{m}^2 & i \\neq j\n",
    "\\end{cases}\n",
    "\\end{equation*}\n",
    "$$\n",
    "where $\\sigma_{m}^2$ denotes the variance of the excess return of the market,  and $\\sigma_{\\epsilon_{i}}^{2}$ denotes the variance of the firm-specific error model. We populate the single index covariance array `Σ` using nested [`for-loops.`](https://docs.julialang.org/en/v1/base/base/#for)."
   ]
  },
  {
   "cell_type": "code",
   "execution_count": 14,
   "id": "9bb80e11-4706-4cf4-bcef-7dcac243bab8",
   "metadata": {},
   "outputs": [],
   "source": [
    "Σ = let\n",
    "    Σ_tmp = Array{Float64,2}(undef, length(list_of_all_tickers), length(list_of_all_tickers));\n",
    "    for i ∈ eachindex(list_of_all_tickers)\n",
    "        \n",
    "        outer_ticker = list_of_all_tickers[i]; # ticker on the rows \n",
    "        sim_outer = sim_model_dictionary[outer_ticker]; # get SIM model for row ticker\n",
    "        \n",
    "        for j ∈ eachindex(list_of_all_tickers)\n",
    "            \n",
    "            inner_ticker = list_of_all_tickers[j]; # ticker in the cols\n",
    "            sim_inner = sim_model_dictionary[inner_ticker]; # get SIM model of the col ticker\n",
    "            \n",
    "            if (i == j) # we have a diagonal element\n",
    "                βᵢ = sim_outer.β\n",
    "                ϵᵢ = sim_outer.ϵ\n",
    "                σ_ϵᵢ = params(ϵᵢ)[2];\n",
    "                Σ_tmp[i,j] = ((βᵢ)^2)*((σₘ)^2)+(σ_ϵᵢ)^2\n",
    "            else\n",
    "                βᵢ = sim_outer.β\n",
    "                βⱼ = sim_inner.β\n",
    "                Σ_tmp[i,j] = βᵢ*βⱼ*(σₘ)^2\n",
    "            end\n",
    "        end\n",
    "    end\n",
    "    Σ_sim  = Σ_tmp |> x-> x*(1/252) # annualize\n",
    "end;"
   ]
  },
  {
   "cell_type": "markdown",
   "id": "f2b82757-281d-4b63-b8c6-3d5e9e22cb8c",
   "metadata": {},
   "source": [
    "## Task 1: Populate the 2024 Market Dataset and Form a Portfolio\n",
    "Fill me in"
   ]
  },
  {
   "cell_type": "code",
   "execution_count": 16,
   "id": "6a834872-4328-4d96-8e42-cca096edbc10",
   "metadata": {},
   "outputs": [],
   "source": [
    "my_list_of_tickers = [\"AAPL\", \"MSFT\", \"MU\", \"AMD\", \"NVDA\", \"JNJ\", \"PG\", \"MRK\", \"PFE\", \"GS\", \"WFC\", \"JPM\", \"SPY\"]; # your set of tickers + SPY"
   ]
  },
  {
   "cell_type": "markdown",
   "id": "d1b1103d-01ba-46e3-878c-e9f621fd6887",
   "metadata": {},
   "source": [
    "fill me in"
   ]
  },
  {
   "cell_type": "code",
   "execution_count": 32,
   "id": "2d89da04-0cbd-4c95-8899-8016488d83d9",
   "metadata": {},
   "outputs": [
    {
     "data": {
      "text/html": [
       "<div><div style = \"float: left;\"><span>182×13 DataFrame</span></div><div style = \"float: right;\"><span style = \"font-style: italic;\">157 rows omitted</span></div><div style = \"clear: both;\"></div></div><div class = \"data-frame\" style = \"overflow-x: scroll;\"><table class = \"data-frame\" style = \"margin-bottom: 6px;\"><thead><tr class = \"header\"><th class = \"rowNumber\" style = \"font-weight: bold; text-align: right;\">Row</th><th style = \"text-align: left;\">WFC</th><th style = \"text-align: left;\">PG</th><th style = \"text-align: left;\">MSFT</th><th style = \"text-align: left;\">JPM</th><th style = \"text-align: left;\">MRK</th><th style = \"text-align: left;\">PFE</th><th style = \"text-align: left;\">AAPL</th><th style = \"text-align: left;\">NVDA</th><th style = \"text-align: left;\">JNJ</th><th style = \"text-align: left;\">GS</th><th style = \"text-align: left;\">AMD</th><th style = \"text-align: left;\">SPY</th><th style = \"text-align: left;\">MU</th></tr><tr class = \"subheader headerLastRow\"><th class = \"rowNumber\" style = \"font-weight: bold; text-align: right;\"></th><th title = \"Float64\" style = \"text-align: left;\">Float64</th><th title = \"Float64\" style = \"text-align: left;\">Float64</th><th title = \"Float64\" style = \"text-align: left;\">Float64</th><th title = \"Float64\" style = \"text-align: left;\">Float64</th><th title = \"Float64\" style = \"text-align: left;\">Float64</th><th title = \"Float64\" style = \"text-align: left;\">Float64</th><th title = \"Float64\" style = \"text-align: left;\">Float64</th><th title = \"Float64\" style = \"text-align: left;\">Float64</th><th title = \"Float64\" style = \"text-align: left;\">Float64</th><th title = \"Float64\" style = \"text-align: left;\">Float64</th><th title = \"Float64\" style = \"text-align: left;\">Float64</th><th title = \"Float64\" style = \"text-align: left;\">Float64</th><th title = \"Float64\" style = \"text-align: left;\">Float64</th></tr></thead><tbody><tr><td class = \"rowNumber\" style = \"font-weight: bold; text-align: right;\">1</td><td style = \"text-align: right;\">48.6458</td><td style = \"text-align: right;\">147.994</td><td style = \"text-align: right;\">371.164</td><td style = \"text-align: right;\">171.333</td><td style = \"text-align: right;\">115.049</td><td style = \"text-align: right;\">29.7929</td><td style = \"text-align: right;\">184.323</td><td style = \"text-align: right;\">47.6677</td><td style = \"text-align: right;\">160.932</td><td style = \"text-align: right;\">381.116</td><td style = \"text-align: right;\">135.287</td><td style = \"text-align: right;\">469.898</td><td style = \"text-align: right;\">82.0679</td></tr><tr><td class = \"rowNumber\" style = \"font-weight: bold; text-align: right;\">2</td><td style = \"text-align: right;\">49.4574</td><td style = \"text-align: right;\">148.757</td><td style = \"text-align: right;\">369.808</td><td style = \"text-align: right;\">172.02</td><td style = \"text-align: right;\">117.028</td><td style = \"text-align: right;\">29.2061</td><td style = \"text-align: right;\">182.018</td><td style = \"text-align: right;\">48.0888</td><td style = \"text-align: right;\">160.88</td><td style = \"text-align: right;\">383.82</td><td style = \"text-align: right;\">136.436</td><td style = \"text-align: right;\">468.554</td><td style = \"text-align: right;\">83.1953</td></tr><tr><td class = \"rowNumber\" style = \"font-weight: bold; text-align: right;\">3</td><td style = \"text-align: right;\">50.0134</td><td style = \"text-align: right;\">147.472</td><td style = \"text-align: right;\">368.951</td><td style = \"text-align: right;\">172.464</td><td style = \"text-align: right;\">117.087</td><td style = \"text-align: right;\">29.2798</td><td style = \"text-align: right;\">181.474</td><td style = \"text-align: right;\">49.0192</td><td style = \"text-align: right;\">160.868</td><td style = \"text-align: right;\">386.709</td><td style = \"text-align: right;\">139.025</td><td style = \"text-align: right;\">468.078</td><td style = \"text-align: right;\">82.8071</td></tr><tr><td class = \"rowNumber\" style = \"font-weight: bold; text-align: right;\">4</td><td style = \"text-align: right;\">49.5721</td><td style = \"text-align: right;\">148.469</td><td style = \"text-align: right;\">372.911</td><td style = \"text-align: right;\">171.031</td><td style = \"text-align: right;\">117.057</td><td style = \"text-align: right;\">29.5119</td><td style = \"text-align: right;\">184.37</td><td style = \"text-align: right;\">51.3375</td><td style = \"text-align: right;\">160.955</td><td style = \"text-align: right;\">387.721</td><td style = \"text-align: right;\">144.89</td><td style = \"text-align: right;\">471.969</td><td style = \"text-align: right;\">84.9118</td></tr><tr><td class = \"rowNumber\" style = \"font-weight: bold; text-align: right;\">5</td><td style = \"text-align: right;\">49.2363</td><td style = \"text-align: right;\">149.023</td><td style = \"text-align: right;\">374.47</td><td style = \"text-align: right;\">170.726</td><td style = \"text-align: right;\">118.633</td><td style = \"text-align: right;\">29.4901</td><td style = \"text-align: right;\">184.371</td><td style = \"text-align: right;\">53.1155</td><td style = \"text-align: right;\">161.675</td><td style = \"text-align: right;\">383.367</td><td style = \"text-align: right;\">148.098</td><td style = \"text-align: right;\">473.537</td><td style = \"text-align: right;\">83.4795</td></tr><tr><td class = \"rowNumber\" style = \"font-weight: bold; text-align: right;\">6</td><td style = \"text-align: right;\">48.9249</td><td style = \"text-align: right;\">149.81</td><td style = \"text-align: right;\">381.63</td><td style = \"text-align: right;\">170.217</td><td style = \"text-align: right;\">118.607</td><td style = \"text-align: right;\">29.0134</td><td style = \"text-align: right;\">185.251</td><td style = \"text-align: right;\">54.1639</td><td style = \"text-align: right;\">161.782</td><td style = \"text-align: right;\">381.305</td><td style = \"text-align: right;\">148.298</td><td style = \"text-align: right;\">475.682</td><td style = \"text-align: right;\">82.3212</td></tr><tr><td class = \"rowNumber\" style = \"font-weight: bold; text-align: right;\">7</td><td style = \"text-align: right;\">48.8278</td><td style = \"text-align: right;\">150.225</td><td style = \"text-align: right;\">384.628</td><td style = \"text-align: right;\">169.65</td><td style = \"text-align: right;\">118.27</td><td style = \"text-align: right;\">28.423</td><td style = \"text-align: right;\">185.06</td><td style = \"text-align: right;\">54.5998</td><td style = \"text-align: right;\">161.177</td><td style = \"text-align: right;\">378.449</td><td style = \"text-align: right;\">146.862</td><td style = \"text-align: right;\">475.315</td><td style = \"text-align: right;\">82.8573</td></tr><tr><td class = \"rowNumber\" style = \"font-weight: bold; text-align: right;\">8</td><td style = \"text-align: right;\">47.649</td><td style = \"text-align: right;\">150.487</td><td style = \"text-align: right;\">387.404</td><td style = \"text-align: right;\">171.553</td><td style = \"text-align: right;\">118.408</td><td style = \"text-align: right;\">28.7143</td><td style = \"text-align: right;\">185.82</td><td style = \"text-align: right;\">54.6709</td><td style = \"text-align: right;\">162.171</td><td style = \"text-align: right;\">378.65</td><td style = \"text-align: right;\">146.539</td><td style = \"text-align: right;\">476.587</td><td style = \"text-align: right;\">82.3265</td></tr><tr><td class = \"rowNumber\" style = \"font-weight: bold; text-align: right;\">9</td><td style = \"text-align: right;\">46.7974</td><td style = \"text-align: right;\">149.894</td><td style = \"text-align: right;\">390.702</td><td style = \"text-align: right;\">166.874</td><td style = \"text-align: right;\">118.525</td><td style = \"text-align: right;\">28.3475</td><td style = \"text-align: right;\">182.887</td><td style = \"text-align: right;\">56.1219</td><td style = \"text-align: right;\">160.869</td><td style = \"text-align: right;\">380.505</td><td style = \"text-align: right;\">156.685</td><td style = \"text-align: right;\">474.914</td><td style = \"text-align: right;\">84.2181</td></tr><tr><td class = \"rowNumber\" style = \"font-weight: bold; text-align: right;\">10</td><td style = \"text-align: right;\">46.6645</td><td style = \"text-align: right;\">149.897</td><td style = \"text-align: right;\">388.36</td><td style = \"text-align: right;\">167.462</td><td style = \"text-align: right;\">118.36</td><td style = \"text-align: right;\">28.1532</td><td style = \"text-align: right;\">181.92</td><td style = \"text-align: right;\">55.6716</td><td style = \"text-align: right;\">160.549</td><td style = \"text-align: right;\">377.209</td><td style = \"text-align: right;\">157.906</td><td style = \"text-align: right;\">471.773</td><td style = \"text-align: right;\">83.2566</td></tr><tr><td class = \"rowNumber\" style = \"font-weight: bold; text-align: right;\">11</td><td style = \"text-align: right;\">46.3813</td><td style = \"text-align: right;\">147.78</td><td style = \"text-align: right;\">392.721</td><td style = \"text-align: right;\">166.587</td><td style = \"text-align: right;\">118.158</td><td style = \"text-align: right;\">27.9184</td><td style = \"text-align: right;\">187.936</td><td style = \"text-align: right;\">57.0793</td><td style = \"text-align: right;\">160.677</td><td style = \"text-align: right;\">377.217</td><td style = \"text-align: right;\">163.149</td><td style = \"text-align: right;\">474.746</td><td style = \"text-align: right;\">85.0237</td></tr><tr><td class = \"rowNumber\" style = \"font-weight: bold; text-align: right;\">12</td><td style = \"text-align: right;\">47.6046</td><td style = \"text-align: right;\">147.894</td><td style = \"text-align: right;\">396.721</td><td style = \"text-align: right;\">169.425</td><td style = \"text-align: right;\">118.683</td><td style = \"text-align: right;\">28.2173</td><td style = \"text-align: right;\">190.615</td><td style = \"text-align: right;\">58.5409</td><td style = \"text-align: right;\">161.369</td><td style = \"text-align: right;\">379.762</td><td style = \"text-align: right;\">168.353</td><td style = \"text-align: right;\">479.967</td><td style = \"text-align: right;\">87.0114</td></tr><tr><td class = \"rowNumber\" style = \"font-weight: bold; text-align: right;\">13</td><td style = \"text-align: right;\">48.5189</td><td style = \"text-align: right;\">147.624</td><td style = \"text-align: right;\">396.853</td><td style = \"text-align: right;\">170.552</td><td style = \"text-align: right;\">119.485</td><td style = \"text-align: right;\">28.2758</td><td style = \"text-align: right;\">193.989</td><td style = \"text-align: right;\">59.7767</td><td style = \"text-align: right;\">162.467</td><td style = \"text-align: right;\">387.805</td><td style = \"text-align: right;\">168.278</td><td style = \"text-align: right;\">483.678</td><td style = \"text-align: right;\">88.9644</td></tr><tr><td style = \"text-align: right;\">&vellip;</td><td style = \"text-align: right;\">&vellip;</td><td style = \"text-align: right;\">&vellip;</td><td style = \"text-align: right;\">&vellip;</td><td style = \"text-align: right;\">&vellip;</td><td style = \"text-align: right;\">&vellip;</td><td style = \"text-align: right;\">&vellip;</td><td style = \"text-align: right;\">&vellip;</td><td style = \"text-align: right;\">&vellip;</td><td style = \"text-align: right;\">&vellip;</td><td style = \"text-align: right;\">&vellip;</td><td style = \"text-align: right;\">&vellip;</td><td style = \"text-align: right;\">&vellip;</td><td style = \"text-align: right;\">&vellip;</td></tr><tr><td class = \"rowNumber\" style = \"font-weight: bold; text-align: right;\">171</td><td style = \"text-align: right;\">54.4403</td><td style = \"text-align: right;\">175.958</td><td style = \"text-align: right;\">402.934</td><td style = \"text-align: right;\">213.748</td><td style = \"text-align: right;\">118.528</td><td style = \"text-align: right;\">28.5067</td><td style = \"text-align: right;\">221.681</td><td style = \"text-align: right;\">103.377</td><td style = \"text-align: right;\">164.7</td><td style = \"text-align: right;\">482.319</td><td style = \"text-align: right;\">134.421</td><td style = \"text-align: right;\">542.773</td><td style = \"text-align: right;\">86.5362</td></tr><tr><td class = \"rowNumber\" style = \"font-weight: bold; text-align: right;\">172</td><td style = \"text-align: right;\">54.6923</td><td style = \"text-align: right;\">175.959</td><td style = \"text-align: right;\">404.995</td><td style = \"text-align: right;\">216.714</td><td style = \"text-align: right;\">115.437</td><td style = \"text-align: right;\">29.2897</td><td style = \"text-align: right;\">219.351</td><td style = \"text-align: right;\">105.409</td><td style = \"text-align: right;\">166.574</td><td style = \"text-align: right;\">489.522</td><td style = \"text-align: right;\">137.068</td><td style = \"text-align: right;\">545.158</td><td style = \"text-align: right;\">86.1208</td></tr><tr><td class = \"rowNumber\" style = \"font-weight: bold; text-align: right;\">173</td><td style = \"text-align: right;\">54.379</td><td style = \"text-align: right;\">177.379</td><td style = \"text-align: right;\">413.055</td><td style = \"text-align: right;\">205.216</td><td style = \"text-align: right;\">115.157</td><td style = \"text-align: right;\">29.6592</td><td style = \"text-align: right;\">219.576</td><td style = \"text-align: right;\">107.036</td><td style = \"text-align: right;\">167.453</td><td style = \"text-align: right;\">468.034</td><td style = \"text-align: right;\">140.454</td><td style = \"text-align: right;\">547.18</td><td style = \"text-align: right;\">86.1777</td></tr><tr><td class = \"rowNumber\" style = \"font-weight: bold; text-align: right;\">174</td><td style = \"text-align: right;\">53.2836</td><td style = \"text-align: right;\">174.357</td><td style = \"text-align: right;\">418.673</td><td style = \"text-align: right;\">205.28</td><td style = \"text-align: right;\">114.698</td><td style = \"text-align: right;\">29.5231</td><td style = \"text-align: right;\">221.168</td><td style = \"text-align: right;\">112.53</td><td style = \"text-align: right;\">164.954</td><td style = \"text-align: right;\">465.972</td><td style = \"text-align: right;\">145.592</td><td style = \"text-align: right;\">548.672</td><td style = \"text-align: right;\">88.8311</td></tr><tr><td class = \"rowNumber\" style = \"font-weight: bold; text-align: right;\">175</td><td style = \"text-align: right;\">51.9653</td><td style = \"text-align: right;\">173.39</td><td style = \"text-align: right;\">424.326</td><td style = \"text-align: right;\">206.456</td><td style = \"text-align: right;\">114.97</td><td style = \"text-align: right;\">29.1702</td><td style = \"text-align: right;\">222.389</td><td style = \"text-align: right;\">118.9</td><td style = \"text-align: right;\">164.165</td><td style = \"text-align: right;\">472.101</td><td style = \"text-align: right;\">149.985</td><td style = \"text-align: right;\">556.947</td><td style = \"text-align: right;\">86.592</td></tr><tr><td class = \"rowNumber\" style = \"font-weight: bold; text-align: right;\">176</td><td style = \"text-align: right;\">52.4953</td><td style = \"text-align: right;\">174.004</td><td style = \"text-align: right;\">429.747</td><td style = \"text-align: right;\">204.907</td><td style = \"text-align: right;\">115.716</td><td style = \"text-align: right;\">29.1553</td><td style = \"text-align: right;\">222.925</td><td style = \"text-align: right;\">119.0</td><td style = \"text-align: right;\">165.26</td><td style = \"text-align: right;\">479.432</td><td style = \"text-align: right;\">152.068</td><td style = \"text-align: right;\">561.53</td><td style = \"text-align: right;\">90.6122</td></tr><tr><td class = \"rowNumber\" style = \"font-weight: bold; text-align: right;\">177</td><td style = \"text-align: right;\">53.563</td><td style = \"text-align: right;\">176.592</td><td style = \"text-align: right;\">430.839</td><td style = \"text-align: right;\">207.283</td><td style = \"text-align: right;\">117.628</td><td style = \"text-align: right;\">29.8995</td><td style = \"text-align: right;\">215.93</td><td style = \"text-align: right;\">116.542</td><td style = \"text-align: right;\">166.681</td><td style = \"text-align: right;\">484.45</td><td style = \"text-align: right;\">152.284</td><td style = \"text-align: right;\">561.838</td><td style = \"text-align: right;\">87.1686</td></tr><tr><td class = \"rowNumber\" style = \"font-weight: bold; text-align: right;\">178</td><td style = \"text-align: right;\">54.6348</td><td style = \"text-align: right;\">176.007</td><td style = \"text-align: right;\">436.521</td><td style = \"text-align: right;\">208.858</td><td style = \"text-align: right;\">118.325</td><td style = \"text-align: right;\">29.8192</td><td style = \"text-align: right;\">216.173</td><td style = \"text-align: right;\">116.558</td><td style = \"text-align: right;\">167.0</td><td style = \"text-align: right;\">485.957</td><td style = \"text-align: right;\">151.677</td><td style = \"text-align: right;\">563.479</td><td style = \"text-align: right;\">88.5185</td></tr><tr><td class = \"rowNumber\" style = \"font-weight: bold; text-align: right;\">179</td><td style = \"text-align: right;\">54.5339</td><td style = \"text-align: right;\">174.397</td><td style = \"text-align: right;\">432.264</td><td style = \"text-align: right;\">208.14</td><td style = \"text-align: right;\">118.65</td><td style = \"text-align: right;\">29.8677</td><td style = \"text-align: right;\">220.444</td><td style = \"text-align: right;\">115.041</td><td style = \"text-align: right;\">166.746</td><td style = \"text-align: right;\">485.913</td><td style = \"text-align: right;\">149.982</td><td style = \"text-align: right;\">563.524</td><td style = \"text-align: right;\">87.7636</td></tr><tr><td class = \"rowNumber\" style = \"font-weight: bold; text-align: right;\">180</td><td style = \"text-align: right;\">55.7098</td><td style = \"text-align: right;\">171.476</td><td style = \"text-align: right;\">438.977</td><td style = \"text-align: right;\">210.318</td><td style = \"text-align: right;\">117.398</td><td style = \"text-align: right;\">29.7389</td><td style = \"text-align: right;\">228.385</td><td style = \"text-align: right;\">118.532</td><td style = \"text-align: right;\">165.033</td><td style = \"text-align: right;\">502.37</td><td style = \"text-align: right;\">156.661</td><td style = \"text-align: right;\">569.635</td><td style = \"text-align: right;\">89.3156</td></tr><tr><td class = \"rowNumber\" style = \"font-weight: bold; text-align: right;\">181</td><td style = \"text-align: right;\">56.0501</td><td style = \"text-align: right;\">173.671</td><td style = \"text-align: right;\">435.766</td><td style = \"text-align: right;\">210.767</td><td style = \"text-align: right;\">117.076</td><td style = \"text-align: right;\">29.3897</td><td style = \"text-align: right;\">229.016</td><td style = \"text-align: right;\">116.427</td><td style = \"text-align: right;\">164.207</td><td style = \"text-align: right;\">498.604</td><td style = \"text-align: right;\">154.941</td><td style = \"text-align: right;\">567.724</td><td style = \"text-align: right;\">90.1301</td></tr><tr><td class = \"rowNumber\" style = \"font-weight: bold; text-align: right;\">182</td><td style = \"text-align: right;\">55.2288</td><td style = \"text-align: right;\">173.913</td><td style = \"text-align: right;\">433.766</td><td style = \"text-align: right;\">211.158</td><td style = \"text-align: right;\">116.025</td><td style = \"text-align: right;\">29.2939</td><td style = \"text-align: right;\">227.062</td><td style = \"text-align: right;\">115.996</td><td style = \"text-align: right;\">163.174</td><td style = \"text-align: right;\">497.501</td><td style = \"text-align: right;\">156.205</td><td style = \"text-align: right;\">569.324</td><td style = \"text-align: right;\">93.6269</td></tr></tbody></table></div>"
      ],
      "text/latex": [
       "\\begin{tabular}{r|cccccccccc}\n",
       "\t& WFC & PG & MSFT & JPM & MRK & PFE & AAPL & NVDA & JNJ & \\\\\n",
       "\t\\hline\n",
       "\t& Float64 & Float64 & Float64 & Float64 & Float64 & Float64 & Float64 & Float64 & Float64 & \\\\\n",
       "\t\\hline\n",
       "\t1 & 48.6458 & 147.994 & 371.164 & 171.333 & 115.049 & 29.7929 & 184.323 & 47.6677 & 160.932 & $\\dots$ \\\\\n",
       "\t2 & 49.4574 & 148.757 & 369.808 & 172.02 & 117.028 & 29.2061 & 182.018 & 48.0888 & 160.88 & $\\dots$ \\\\\n",
       "\t3 & 50.0134 & 147.472 & 368.951 & 172.464 & 117.087 & 29.2798 & 181.474 & 49.0192 & 160.868 & $\\dots$ \\\\\n",
       "\t4 & 49.5721 & 148.469 & 372.911 & 171.031 & 117.057 & 29.5119 & 184.37 & 51.3375 & 160.955 & $\\dots$ \\\\\n",
       "\t5 & 49.2363 & 149.023 & 374.47 & 170.726 & 118.633 & 29.4901 & 184.371 & 53.1155 & 161.675 & $\\dots$ \\\\\n",
       "\t6 & 48.9249 & 149.81 & 381.63 & 170.217 & 118.607 & 29.0134 & 185.251 & 54.1639 & 161.782 & $\\dots$ \\\\\n",
       "\t7 & 48.8278 & 150.225 & 384.628 & 169.65 & 118.27 & 28.423 & 185.06 & 54.5998 & 161.177 & $\\dots$ \\\\\n",
       "\t8 & 47.649 & 150.487 & 387.404 & 171.553 & 118.408 & 28.7143 & 185.82 & 54.6709 & 162.171 & $\\dots$ \\\\\n",
       "\t9 & 46.7974 & 149.894 & 390.702 & 166.874 & 118.525 & 28.3475 & 182.887 & 56.1219 & 160.869 & $\\dots$ \\\\\n",
       "\t10 & 46.6645 & 149.897 & 388.36 & 167.462 & 118.36 & 28.1532 & 181.92 & 55.6716 & 160.549 & $\\dots$ \\\\\n",
       "\t11 & 46.3813 & 147.78 & 392.721 & 166.587 & 118.158 & 27.9184 & 187.936 & 57.0793 & 160.677 & $\\dots$ \\\\\n",
       "\t12 & 47.6046 & 147.894 & 396.721 & 169.425 & 118.683 & 28.2173 & 190.615 & 58.5409 & 161.369 & $\\dots$ \\\\\n",
       "\t13 & 48.5189 & 147.624 & 396.853 & 170.552 & 119.485 & 28.2758 & 193.989 & 59.7767 & 162.467 & $\\dots$ \\\\\n",
       "\t14 & 48.8885 & 154.396 & 397.329 & 169.076 & 119.399 & 28.3447 & 194.82 & 59.4725 & 159.339 & $\\dots$ \\\\\n",
       "\t15 & 49.7064 & 152.914 & 403.082 & 170.366 & 119.023 & 28.479 & 195.206 & 61.7176 & 158.988 & $\\dots$ \\\\\n",
       "\t16 & 49.7715 & 154.601 & 404.827 & 172.276 & 119.603 & 27.5612 & 194.734 & 61.9052 & 159.208 & $\\dots$ \\\\\n",
       "\t17 & 50.2596 & 155.999 & 404.024 & 172.406 & 120.751 & 27.5272 & 193.121 & 61.1517 & 159.69 & $\\dots$ \\\\\n",
       "\t18 & 50.3115 & 156.083 & 408.11 & 172.245 & 121.068 & 27.5015 & 191.295 & 61.8646 & 159.451 & $\\dots$ \\\\\n",
       "\t19 & 51.0843 & 157.191 & 408.707 & 175.569 & 121.276 & 27.249 & 188.793 & 62.8595 & 158.747 & $\\dots$ \\\\\n",
       "\t20 & 50.6565 & 157.389 & 403.043 & 175.825 & 121.311 & 27.1758 & 185.352 & 61.5108 & 159.112 & $\\dots$ \\\\\n",
       "\t21 & 48.6029 & 158.736 & 404.463 & 173.262 & 125.145 & 27.0559 & 185.569 & 62.4717 & 158.058 & $\\dots$ \\\\\n",
       "\t22 & 48.9389 & 158.301 & 409.899 & 174.784 & 126.701 & 26.8687 & 184.744 & 65.6028 & 156.754 & $\\dots$ \\\\\n",
       "\t23 & 48.6894 & 158.387 & 406.236 & 174.282 & 126.422 & 26.6577 & 187.682 & 68.6606 & 155.958 & $\\dots$ \\\\\n",
       "\t24 & 48.3668 & 158.739 & 404.866 & 174.717 & 126.763 & 27.2675 & 188.479 & 67.8475 & 157.593 & $\\dots$ \\\\\n",
       "\t25 & 48.2585 & 159.239 & 411.918 & 175.137 & 127.487 & 27.4718 & 189.38 & 69.2666 & 158.073 & $\\dots$ \\\\\n",
       "\t26 & 48.2954 & 158.458 & 413.833 & 174.488 & 126.5 & 27.5312 & 188.303 & 70.0962 & 156.009 & $\\dots$ \\\\\n",
       "\t27 & 47.924 & 157.466 & 418.759 & 174.692 & 125.59 & 27.5223 & 189.006 & 71.456 & 156.573 & $\\dots$ \\\\\n",
       "\t28 & 48.8666 & 156.828 & 416.817 & 175.754 & 125.113 & 27.674 & 187.591 & 72.8812 & 157.653 & $\\dots$ \\\\\n",
       "\t29 & 48.1528 & 156.461 & 406.719 & 174.17 & 125.281 & 27.103 & 185.042 & 71.967 & 156.517 & $\\dots$ \\\\\n",
       "\t30 & 48.328 & 155.512 & 407.428 & 175.386 & 125.609 & 27.0467 & 183.621 & 73.2461 & 155.519 & $\\dots$ \\\\\n",
       "\t$\\dots$ & $\\dots$ & $\\dots$ & $\\dots$ & $\\dots$ & $\\dots$ & $\\dots$ & $\\dots$ & $\\dots$ & $\\dots$ &  \\\\\n",
       "\\end{tabular}\n"
      ],
      "text/plain": [
       "\u001b[1m182×13 DataFrame\u001b[0m\n",
       "\u001b[1m Row \u001b[0m│\u001b[1m WFC     \u001b[0m\u001b[1m PG      \u001b[0m\u001b[1m MSFT    \u001b[0m\u001b[1m JPM     \u001b[0m\u001b[1m MRK     \u001b[0m\u001b[1m PFE     \u001b[0m\u001b[1m AAPL    \u001b[0m\u001b[1m NVDA    \u001b[0m ⋯\n",
       "     │\u001b[90m Float64 \u001b[0m\u001b[90m Float64 \u001b[0m\u001b[90m Float64 \u001b[0m\u001b[90m Float64 \u001b[0m\u001b[90m Float64 \u001b[0m\u001b[90m Float64 \u001b[0m\u001b[90m Float64 \u001b[0m\u001b[90m Float64 \u001b[0m ⋯\n",
       "─────┼──────────────────────────────────────────────────────────────────────────\n",
       "   1 │ 48.6458  147.994  371.164  171.333  115.049  29.7929  184.323   47.6677 ⋯\n",
       "   2 │ 49.4574  148.757  369.808  172.02   117.028  29.2061  182.018   48.0888\n",
       "   3 │ 50.0134  147.472  368.951  172.464  117.087  29.2798  181.474   49.0192\n",
       "   4 │ 49.5721  148.469  372.911  171.031  117.057  29.5119  184.37    51.3375\n",
       "   5 │ 49.2363  149.023  374.47   170.726  118.633  29.4901  184.371   53.1155 ⋯\n",
       "   6 │ 48.9249  149.81   381.63   170.217  118.607  29.0134  185.251   54.1639\n",
       "   7 │ 48.8278  150.225  384.628  169.65   118.27   28.423   185.06    54.5998\n",
       "   8 │ 47.649   150.487  387.404  171.553  118.408  28.7143  185.82    54.6709\n",
       "   9 │ 46.7974  149.894  390.702  166.874  118.525  28.3475  182.887   56.1219 ⋯\n",
       "  10 │ 46.6645  149.897  388.36   167.462  118.36   28.1532  181.92    55.6716\n",
       "  11 │ 46.3813  147.78   392.721  166.587  118.158  27.9184  187.936   57.0793\n",
       "  ⋮  │    ⋮        ⋮        ⋮        ⋮        ⋮        ⋮        ⋮        ⋮     ⋱\n",
       " 173 │ 54.379   177.379  413.055  205.216  115.157  29.6592  219.576  107.036\n",
       " 174 │ 53.2836  174.357  418.673  205.28   114.698  29.5231  221.168  112.53   ⋯\n",
       " 175 │ 51.9653  173.39   424.326  206.456  114.97   29.1702  222.389  118.9\n",
       " 176 │ 52.4953  174.004  429.747  204.907  115.716  29.1553  222.925  119.0\n",
       " 177 │ 53.563   176.592  430.839  207.283  117.628  29.8995  215.93   116.542\n",
       " 178 │ 54.6348  176.007  436.521  208.858  118.325  29.8192  216.173  116.558  ⋯\n",
       " 179 │ 54.5339  174.397  432.264  208.14   118.65   29.8677  220.444  115.041\n",
       " 180 │ 55.7098  171.476  438.977  210.318  117.398  29.7389  228.385  118.532\n",
       " 181 │ 56.0501  173.671  435.766  210.767  117.076  29.3897  229.016  116.427\n",
       " 182 │ 55.2288  173.913  433.766  211.158  116.025  29.2939  227.062  115.996  ⋯\n",
       "\u001b[36m                                                  5 columns and 161 rows omitted\u001b[0m"
      ]
     },
     "execution_count": 32,
     "metadata": {},
     "output_type": "execute_result"
    }
   ],
   "source": [
    "market_df = let\n",
    "\n",
    "    number_of_rows = nrow(out_of_sample_dataset[\"AAPL\"]); # how many dates do we have in the out-of-sample dataset \n",
    "    market_df = DataFrame()\n",
    "    for i ∈ 1:number_of_rows\n",
    "        tmp = Dict{Symbol,Union{DateTime, Float64}}();\n",
    "        for ticker ∈ my_list_of_tickers\n",
    "            data_df = out_of_sample_dataset[ticker];\n",
    "            tmp[Symbol(ticker)] = data_df[i,:volume_weighted_average_price];\n",
    "        end\n",
    "        push!(market_df, tmp |> NamedTuple);\n",
    "    end\n",
    "    market_df\n",
    "end"
   ]
  },
  {
   "cell_type": "markdown",
   "id": "be102099-e6b6-49bf-a94b-cf49c8242b63",
   "metadata": {},
   "source": [
    "Fill me in"
   ]
  },
  {
   "cell_type": "code",
   "execution_count": null,
   "id": "a866cdc0-34ec-4e95-a8cf-8e3a4623ea64",
   "metadata": {},
   "outputs": [],
   "source": []
  },
  {
   "cell_type": "markdown",
   "id": "95e9bb39-ad10-430b-b126-004e54c06493",
   "metadata": {},
   "source": [
    "## Task 2: Compute the 2024 performance of an equally weighted portfolio\n",
    "Fill me in"
   ]
  },
  {
   "cell_type": "code",
   "execution_count": null,
   "id": "5a2df3c9-946f-4894-9bb0-4018769fa722",
   "metadata": {},
   "outputs": [],
   "source": []
  },
  {
   "cell_type": "markdown",
   "id": "e8a319fd-3a4e-4f96-a01d-f4de51f6cd12",
   "metadata": {},
   "source": [
    "## Task 3: Compute the 2024 performance of a cybernetic weighted portfolio\n",
    "Fill me in."
   ]
  },
  {
   "cell_type": "code",
   "execution_count": null,
   "id": "3aefdf36-4572-433d-bb7a-d4720c4cf590",
   "metadata": {},
   "outputs": [],
   "source": []
  },
  {
   "cell_type": "markdown",
   "id": "fb1723c5-2730-402f-ac6c-dbf4d675a0a8",
   "metadata": {},
   "source": [
    "## Disclaimer and Risks\n",
    "__This content is offered solely for training and informational purposes__. No offer or solicitation to buy or sell securities or derivative products or any investment or trading advice or strategy is made, given, or endorsed by the teaching team. \n",
    "\n",
    "__Trading involves risk__. Carefully review your financial situation before investing in securities, futures contracts, options, or commodity interests. Past performance, whether actual or indicated by historical tests of strategies, is no guarantee of future performance or success. Trading is generally inappropriate for someone with limited resources, investment or trading experience, or a low-risk tolerance.  Only risk capital that is not required for living expenses.\n",
    "\n",
    "__You are fully responsible for any investment or trading decisions you make__. You should decide solely based on your financial circumstances, investment or trading objectives, risk tolerance, and liquidity needs."
   ]
  }
 ],
 "metadata": {
  "kernelspec": {
   "display_name": "Julia 1.11.0",
   "language": "julia",
   "name": "julia-1.11"
  },
  "language_info": {
   "file_extension": ".jl",
   "mimetype": "application/julia",
   "name": "julia",
   "version": "1.11.0"
  }
 },
 "nbformat": 4,
 "nbformat_minor": 5
}
