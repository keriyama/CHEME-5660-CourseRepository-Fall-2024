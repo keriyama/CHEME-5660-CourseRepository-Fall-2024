





include("Include.jl");





𝒟(r,t) = exp(r*t); # setup a function to compute the continuous discount factor





Sₒ = 50.0; # initial share price
h = 2; # levels of the tree starting from zero
u = 1.2; # magnitide of an up move
d = 0.8; # magnitide of a down move 
p = 0.6282; # probability of an up move
r̄ = 0.05; # risk-free rate
K = 52; # strike price
DTE = 2.0; # two-years until expiration





hull_lattice_model = VLQuantitativeFinancePackage.build(MyBinomialEquityPriceTree, (
        u = u, d = d, p = p, μ = r̄)) |> (x-> populate(x, Sₒ = Sₒ, h = h));


hull_lattice_model.levels


hull_lattice_model.data


hull_lattice_model.connectivity





price_computed_by_Hull = 5.0894; # units: USD/share





american_put_contract_model = VLQuantitativeFinancePackage.build(MyAmericanPutContractModel, (
        K = K, DTE = DTE, sense = 1));





my_put_premium = premium(american_put_contract_model, hull_lattice_model)





@assert isapprox(price_computed_by_Hull, my_put_premium, rtol=1e-4)





hull_lattice_model.data





hull_lattice_model.data[0]





node_to_look_at = 1;





parent = hull_lattice_model.data[node_to_look_at];
kids = hull_lattice_model.connectivity[node_to_look_at];





decision, EV, FV = let

    # Hold: if we hold, we get the expected payoff in the future
    expected_discounted_future_value = 0.0;
    for i ∈ eachindex(kids)
        k = kids[i];
        S = hull_lattice_model.data[k].price;
        p = hull_lattice_model.data[k].probability;
        
        payoff = (1/𝒟(r̄,DTE))*max(K-S,0.0); # intrinsic value
        expected_discounted_future_value += p*payoff;
    end

    # Excercise: exercise now, we get the intrinsic value of the current node
    S = parent.price;
    V = max(K-S,0.0); # payoff if we exercise now

    # What should I do?
    decision = nothing;
    if (max(V,expected_discounted_future_value) == V)
        decision = :exercise # We make more by exercising the contract
    else
        decision = :hold
    end

    decision, V, expected_discounted_future_value
end;


FV, EV, decision
