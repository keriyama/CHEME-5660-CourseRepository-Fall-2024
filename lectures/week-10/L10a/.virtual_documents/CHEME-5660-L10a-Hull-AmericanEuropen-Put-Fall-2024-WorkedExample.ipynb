





include("Include.jl");





𝒟(r,t) = exp(r,t); # setup a function to compute the continuous discount factor





Sₒ = 50.0; # initial share price
h = 2; # levels of the tree starting from zero
u = 1.2; # magnitide of an up move
d = 0.8; # magnitide of a down move 
p = 0.6282; # probability of an up move
r̄ = 0.05; # risk-free rate
K = 52; # strike price
DTE = 2; # two-years until expiration





hull_lattice_model = VLQuantitativeFinancePackage.build(MyBinomialEquityPriceTree, (
        u = u, d = d, p = p, μ = r̄)) |> (x-> populate(x, Sₒ = Sₒ, h = h));


hull_lattice_model.levels


hull_lattice_model.data


hull_lattice_model.connectivity





price_computed_by_Hull = 5.0894; # units: USD/share





american_put_contract_model = VLQuantitativeFinancePackage.build(MyAmericanPutContractModel, (
        K = K, DTE = DTE, sense = 1));





my_put_premium = premium(american_put_contract_model, hull_lattice_model)





@assert isapprox(price_computed_by_Hull, my_put_premium, rtol=1e-4)





hull_lattice_model.data





hull_lattice_model.data[0]





node_to_look_at = 2;





parent = hull_lattice_model.data[node_to_look_at]
kids = hull_lattice_model.connectivity[node_to_look_at]





V = [4,20];
P = [0.46713,0.138235]
expectation = (1/D(0.05,1))*transpose(P)*V


hull_lattice_model.data[0]



