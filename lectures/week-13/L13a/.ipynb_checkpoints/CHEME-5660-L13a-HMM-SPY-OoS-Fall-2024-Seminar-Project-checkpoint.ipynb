{
 "cells": [
  {
   "cell_type": "markdown",
   "id": "736fe6e3-e0eb-4fdf-97ad-e6539b9b9993",
   "metadata": {},
   "source": [
    "# Project: Calculating out-of-sample Markov Model Performance\n",
    "We will build on our previous discussions about Markov models during this project. Students will evaluate the out-of-sample performance of the daily growth rate model we developed in the worked example. We anticipate that the out-of-sample performance will be inferior to the in-sample training data. Toward this hypothesis, we will examine various model performance metrics and assess the extent of the performance degradation.\n",
    "\n",
    "### Learning objectives\n",
    "* __Prerequisites__: We begin by loading the daily growth rate Markov model file we saved in the worked example. Using this data, we'll set various variables and constants that are used later.\n",
    "* __Task 1__: Compute the encoded out-of-sample model prediction. Starting from the stationary distribution $\\bar\\pi$, generate a population of encoded `SPY` growth rate samples\n",
    "* __Task 2__: Decode the out-of-sample model prediction. This will take the samples from Task 1 and transform them from discrete internal state variables to floating point values for the daily excess growth rate.\n",
    "* __Task 3__: How good is the out-of-sample model prediction? Finally, we'll compare the properties of the out-of-sample prediction with the observed out-of-sample `SPY` growth rate sequence."
   ]
  },
  {
   "cell_type": "markdown",
   "id": "bc341a7d-b349-49d0-9d8c-cf0623d4ad87",
   "metadata": {},
   "source": [
    "## Setup\n",
    "We set up the computational environment by including the `Include.jl` file. The `Include.jl` file loads external packages, various functions that we will use in the exercise, and custom types to model the components of our lab problem.\n",
    "* For additional information on functions and types used in this material, see the [Julia programming language documentation](https://docs.julialang.org/en/v1/) and the [VLQuantitativeFinancePackage.jl documentation](https://github.com/varnerlab/VLQuantitativeFinancePackage.jl). "
   ]
  },
  {
   "cell_type": "code",
   "execution_count": 3,
   "id": "190ae5bf-90ab-454f-89e2-16c0db79cd7c",
   "metadata": {},
   "outputs": [],
   "source": [
    "include(\"Include.jl\");"
   ]
  },
  {
   "cell_type": "markdown",
   "id": "156e6fad-5c1b-442d-8cf5-d3202ab413e0",
   "metadata": {},
   "source": [
    "## Prerequisites: Load and clean the historical dataset\n",
    "We gathered an out-of-sample daily open-high-low-close `dataset` for each firm in the [S&P500](https://en.wikipedia.org/wiki/S%26P_500) from `01-03-2024` until `10-25-2024`, along with data for a few exchange-traded funds and volatility products during that time. In this block of code, we:\n",
    "* Load and clean the historical data; store the cleaned data in the `dataset` variable. We then calculate the expected excess return $\\mathbb{E}(R_{i})$ for each `ticker` in the `dataset.` Finally, you'll select a firm by changing the value in the `ticker` variable. We store the computed excess return for the `ticker` in the `Rᵢ` variable.\n",
    "* Load the previous HMM model codes that we saved during model training.\n",
    "\n",
    "Let's start by setting some constant values."
   ]
  },
  {
   "cell_type": "code",
   "execution_count": 5,
   "id": "181d99d3-a236-4449-9dfb-7fb418e0e22b",
   "metadata": {},
   "outputs": [],
   "source": [
    "risk_free_rate = 0.0421; # 17-Jun-2024 10-year treasury\n",
    "Δt = (1/252); # time step 1 x trading in units of years\n",
    "number_of_paths = 10000; # number of potential futures should we look at\n",
    "blue_color = colorant\"rgb(68,152,242)\";\n",
    "ticker = \"AAPL\"; # This is the ticker we want to explore\n",
    "\n",
    "# palette -\n",
    "my_color_palette = Dict{Int64,RGB}();\n",
    "my_color_palette[0] = colorant\"#e5e5e5\";\n",
    "my_color_palette[1] = colorant\"#ff7d00\";\n",
    "my_color_palette[2] = colorant\"#14213d\";\n",
    "my_color_palette[3] = colorant\"#ffecd1\";\n",
    "my_color_palette[4] = colorant\"rgb(49,52,58)\";\n",
    "my_color_palette[5] = colorant\"#c0d6df\";\n",
    "my_color_palette[6] = colorant\"#000000\";"
   ]
  },
  {
   "cell_type": "code",
   "execution_count": 6,
   "id": "b6910534-d442-413e-93f0-7f8f5288bb0a",
   "metadata": {},
   "outputs": [
    {
     "data": {
      "image/svg+xml": [
       "<?xml version=\"1.0\" encoding=\"UTF-8\"?>\n",
       "<!DOCTYPE svg PUBLIC \"-//W3C//DTD SVG 1.1//EN\"\n",
       " \"http://www.w3.org/Graphics/SVG/1.1/DTD/svg11.dtd\">\n",
       "<svg xmlns=\"http://www.w3.org/2000/svg\" version=\"1.1\"\n",
       "     width=\"25mm\" height=\"25mm\" viewBox=\"0 0 1 1\">\n",
       "    <rect width=\"1\" height=\"1\" fill=\"#FF7D00\" stroke=\"none\"/>\n",
       "</svg>\n"
      ],
      "text/plain": [
       "RGB{N0f8}(1.0, 0.49, 0.0)"
      ]
     },
     "execution_count": 6,
     "metadata": {},
     "output_type": "execute_result"
    }
   ],
   "source": [
    "my_color_palette[1]"
   ]
  },
  {
   "cell_type": "markdown",
   "id": "81a960e7-351c-419a-925f-305d5c1bcb84",
   "metadata": {},
   "source": [
    "#### Out-of-sample Dataset\n",
    "Next, load and clean the historical out-of-sample dataset. We load the `out_of_sample_dataset` by calling the `MyOutOfSamplePortfolioDataSet()` function:"
   ]
  },
  {
   "cell_type": "code",
   "execution_count": 8,
   "id": "2216612d-b0a0-4432-bc58-d9658f014e2f",
   "metadata": {},
   "outputs": [],
   "source": [
    "out_of_sample_dataset = MyOutOfSamplePortfolioDataSet() |> x->x[\"dataset\"];"
   ]
  },
  {
   "cell_type": "markdown",
   "id": "09159593-3d5a-46ef-9b17-6760f2c8202e",
   "metadata": {},
   "source": [
    "Not all tickers in our dataset have the maximum number of trading days for various reasons, e.g., acquisition or de-listing events. Let's collect only those tickers with the maximum number of traditional days. First, let's compute the number of records for a company that we know has a maximum value, e.g., `AAPL,` and save that value in the `maximum_number_trading_days` variable:"
   ]
  },
  {
   "cell_type": "code",
   "execution_count": 10,
   "id": "bee2f30d-dd16-45d9-876b-50de983070e6",
   "metadata": {},
   "outputs": [],
   "source": [
    "maximum_number_trading_days = out_of_sample_dataset[\"AAPL\"] |> nrow;"
   ]
  },
  {
   "cell_type": "markdown",
   "id": "996a5319-3eb5-4d8f-920b-e6f4b37572eb",
   "metadata": {},
   "source": [
    "Then, iterate through our data and collect only tickers with `maximum_number_trading_days` records. Save that data in the `dataset::Dict{String,DataFrame}` variable:"
   ]
  },
  {
   "cell_type": "code",
   "execution_count": 12,
   "id": "08011c73-056d-4876-bce4-1110b5dc82a8",
   "metadata": {},
   "outputs": [],
   "source": [
    "dataset = Dict{String,DataFrame}();\n",
    "for (ticker,data) ∈ out_of_sample_dataset\n",
    "    if (nrow(data) == maximum_number_trading_days)\n",
    "        dataset[ticker] = data;\n",
    "    end\n",
    "end"
   ]
  },
  {
   "cell_type": "markdown",
   "id": "b3ea2a00-bd38-461d-a181-3bc767d24d64",
   "metadata": {},
   "source": [
    "Lastly, let's get a sorted list of firms that we have in cleaned up `dataset` and save it in the `list_of_all_tickers::Array{String,1}` array"
   ]
  },
  {
   "cell_type": "code",
   "execution_count": 14,
   "id": "ee4ba89a-94c8-44ed-ab70-978cab734273",
   "metadata": {},
   "outputs": [],
   "source": [
    "list_of_all_tickers = keys(dataset) |> collect |> x->sort(x);"
   ]
  },
  {
   "cell_type": "markdown",
   "id": "a24de705-bb26-4a0a-bda2-cc1a58233e98",
   "metadata": {},
   "source": [
    "We compute the expected (annualized) log growth rate by passing the `dataset` and the entire list of firms we have in the dataset (held in the $N\\times{1}$ `list_of_all_tickers` array) to the [log_growth_matrix(...) method](https://varnerlab.github.io/VLQuantitativeFinancePackage.jl/dev/equity/#VLQuantitativeFinancePackage.log_growth_matrix). \n",
    "* The result is stored in the `all_firms_return_matrix::Array{Float64,2}` variable, a $T-1\\times{N}$ array of log return values. Each row of `all_firms_return_matrix` corresponds to a time value, while each column corresponds to a firm:"
   ]
  },
  {
   "cell_type": "code",
   "execution_count": 16,
   "id": "1ac1c146-624c-4be8-935d-93647a64bcfe",
   "metadata": {},
   "outputs": [],
   "source": [
    "all_firms_excess_return_matrix = log_growth_matrix(dataset, list_of_all_tickers, \n",
    "    Δt = Δt, risk_free_rate = risk_free_rate);"
   ]
  },
  {
   "cell_type": "markdown",
   "id": "69b11dea-6534-4e5e-94db-95842ae92c14",
   "metadata": {},
   "source": [
    "Extract the growth rate for your `ticker::String` of interest, and save this in the `Rᵢ::Array{Float64,1}` array. This is the observed _out-of-sample_ data."
   ]
  },
  {
   "cell_type": "code",
   "execution_count": 18,
   "id": "406ab396-ac21-40d5-b776-c2dd92af6132",
   "metadata": {},
   "outputs": [],
   "source": [
    "Rᵢ = findfirst(x->x==ticker, list_of_all_tickers) |> i-> all_firms_excess_return_matrix[:,i];"
   ]
  },
  {
   "cell_type": "markdown",
   "id": "954c22fe-1042-4640-b234-a3d9ddb3c138",
   "metadata": {},
   "source": [
    "#### Load the HMM model\n",
    "We saved the Markov model, and the Jump Markov model along with some other data when we explored the in-sample performance of the approach. Let's load that file here to grab those model instances. We start by specifying the `path_to_save_file::String` variable:"
   ]
  },
  {
   "cell_type": "code",
   "execution_count": 20,
   "id": "3e6f27d5-667f-4c1e-9f25-0f23193f902f",
   "metadata": {},
   "outputs": [],
   "source": [
    "path_to_save_file = joinpath(_PATH_TO_DATA,\"HMM-WJ-$(ticker)-daily-aggregate.jld2\");"
   ]
  },
  {
   "cell_type": "markdown",
   "id": "01749671-3f75-42f2-a92b-2aacef972b41",
   "metadata": {},
   "source": [
    "Then we load the [`HDF5` binary saved file](https://en.wikipedia.org/wiki/Hierarchical_Data_Format) holding our data from the previous example located using the [load(...) function exported by the JLD2.jl package to read the binary save file](https://github.com/JuliaIO/JLD2.jl.git). This will load up the saved data into the `saved_state_dictionary::Dict{String, Any}` variable"
   ]
  },
  {
   "cell_type": "code",
   "execution_count": 22,
   "id": "0471db80-be12-488f-96c1-0026d22d568f",
   "metadata": {},
   "outputs": [
    {
     "data": {
      "text/plain": [
       "Dict{String, Any} with 9 entries:\n",
       "  \"in_sample_decoded_archi… => [2.06043 1.13203 … -0.758264 -8.36132; 4.24356 -…\n",
       "  \"insampledataset\"         => [1.51294, 1.10337, 0.783659, 0.74692, -0.651317,…\n",
       "  \"stationary\"              => Categorical{Float64, Vector{Float64}}(…\n",
       "  \"model\"                   => MyHiddenMarkovModel([1, 2, 3, 4, 5, 6, 7, 8, 9, …\n",
       "  \"jump_model\"              => MyHiddenMarkovModelWithJumps([1, 2, 3, 4, 5, 6, …\n",
       "  \"decode\"                  => Dict{Int64, Normal}(5=>Normal{Float64}(μ=-3.6322…\n",
       "  \"encoded_archive\"         => [28 4 … 14 13; 5 6 … 71 48; … ; 74 66 … 57 12; 5…\n",
       "  \"encoded_archive_with_ju… => [67 57 … 24 1; 77 28 … 20 12; … ; 53 44 … 10 28;…\n",
       "  \"in_sample_decoded_archi… => [-0.457983 -3.93559 … -1.69421 -1.8232; -3.89384…"
      ]
     },
     "execution_count": 22,
     "metadata": {},
     "output_type": "execute_result"
    }
   ],
   "source": [
    "saved_state_dict = load(path_to_save_file)"
   ]
  },
  {
   "cell_type": "code",
   "execution_count": null,
   "id": "4277f6c7-5713-4b39-90e3-fe9906671259",
   "metadata": {},
   "outputs": [],
   "source": []
  },
  {
   "cell_type": "markdown",
   "id": "657f6133-bb7d-478e-afd8-5a9b186e041f",
   "metadata": {},
   "source": [
    "## Task 1: Compute the encoded out-of-sample model prediction\n",
    "In this task, you will sample either the `model::MyHiddenMarkovModel` or the `model::MyHiddenMarkovModelWithJumps` instance to generate a family of _encoded_ state sequences, i.e., a series of discrete state values $s_{j}\\in\\mathcal{S}$ where each sample trajectory starts from a draw from the stationary distribution $\\bar\\pi$. \n",
    "\n",
    "We computed the stationary distribution $\\bar\\pi$ in the worked example. Here we access the saved value from the `saved_state_dict::Dict{String, Any}` dictionary using the `stationary::String` key. We save the stationary distribution in the `π̄::Categorical{Float64, Vector{Float64}}` variable:"
   ]
  },
  {
   "cell_type": "code",
   "execution_count": 24,
   "id": "3b279650-c9b3-40c9-9b92-eeb9aa38eed9",
   "metadata": {},
   "outputs": [],
   "source": [
    "π̄ = saved_state_dict[\"stationary\"];"
   ]
  },
  {
   "cell_type": "markdown",
   "id": "2ce3e4b6-aa8c-4e88-82cf-9fdcdcc2fae5",
   "metadata": {},
   "source": [
    "Let's now generate the `encoded_archive::Array{Int64,2}` array, which holds `number_of_paths` discrete state trajectories each of length `number_of_steps` by using some fantastic _syntactic-sugar in Julia_:\n",
    "* Internally, we've created a function `(m::MyHiddenMarkovModelWithJumps)(start::Int64, steps::Int64) = _simulate(m, start, steps)` which provides a short-cut syntax to sampling the `model::MyHiddenMarkovModelWithJumps` instance, where the sampling logic is encoded in the private `_simulate(m, start, steps)` function. We have a similar function for the `m::MyHiddenMarkovModel` type.\n",
    "\n",
    "After declaring how many sample paths we want (specified in the `number_of_paths::Int64` variable), how many steps we are going to take (specified in the `number_of_steps::Int64` variable), and initializing the `encoded_archive::Array{Int64,2}` array which will store the model samples, we populate the sample array using a nested [`for-loop`](https://docs.julialang.org/en/v1/manual/variables-and-scoping/#Loops-and-Comprehensions):\n",
    "* The outer loop iterates over the sample paths, the `i` index, where we generate an initial state for each sample path by drawing a sample from the $\\bar\\pi$ distribution. We save the initial state in the `start_state::Int64` variable.\n",
    "* The inner loop iterates over the time steps in each sample path, the `j` index, where we generate a `number_of_steps`$\\times$ `1` array of discrete state values $s\\in\\mathcal{S}$ in the `tmp::Array{Int64,1}` array. We then add the values of the `tmp` array to the `encoded_archive` array, where the time steps are on the rows and the sample paths are on the columns."
   ]
  },
  {
   "cell_type": "code",
   "execution_count": 26,
   "id": "69a57ccc-9510-4a04-8c1e-ae4c8304a129",
   "metadata": {},
   "outputs": [
    {
     "data": {
      "text/plain": [
       "205×10000 Matrix{Int64}:\n",
       "  6  28  73  65   6  25  50  47  67  …  11  27  29  57  63  54   5   8  16\n",
       " 19  17   2  58  49  71  46  53   6     52   1  54  35  22  35  48  18   9\n",
       " 32  52  17  39   5   6  22  43  67     44  80  30  45  49  42  71   9  46\n",
       " 61  22  37  46   1  72  50  36   6     28   4   8  13  66  43  58  73  50\n",
       " 57  49  28  22  60   1  44   5   1     26  14  59  13  16  36  43  30  26\n",
       " 28  66  46  30  71  75  63   1  15  …  59  63  12  26  65  46  12  47  16\n",
       " 46  10  47  49   7  64   9  20  13     72  50   7  19  49  26  56  27  54\n",
       " 26  17  13  36  71  23  64  23  70     54   9  15  30  52  10  36   8  21\n",
       " 28  24  36  58  45  77  56  41  54     15   9  69  32  74  76  38   5  22\n",
       " 10  14  38  18  33  72  41  59  16     17   3  32  40  72  67  18  48  64\n",
       " 76  71  57  65  51   1  49  48  61  …   6  48  40  29   1  78  34  53  23\n",
       " 66  12  37  20  50  74   8  55   8     33  42  38  56   6  78  24  39  59\n",
       " 57  67   7   1  68  19   4  17  61     67  43  45  31  80  79   2  72  34\n",
       "  ⋮                   ⋮              ⋱                   ⋮              \n",
       " 14  50  33  70  34  76  21  43  25     22  23  16  63  46  52  42  29  64\n",
       " 22   9  42   1   8  69  20  42  61     49  41   9  75  42  44  31  59  45\n",
       " 46  46  24  64   8  47  65  24  64  …  61  44  71  14  59  66  37  48  68\n",
       " 50  39  14  70   5  51  72  15  53     25  35  47   1  79  64  48  35  62\n",
       "  9  42  74  50  75  56  66   1  67     59  33  40   3  31  20  75  14  69\n",
       " 19  19  50  35  14  19  77  12  54     70  49  29   5  63  15  14  63  75\n",
       " 21   3  35  17  25   8  58  21  31     10  56   1  15  61  60  71  23  64\n",
       " 34   3  24  24  67   5  21  69  56  …  71  31  72   3  33  36  52  12  36\n",
       " 35  51  25  49  54  62  46  67  61     73  11  49   8  57  45  13  67  26\n",
       " 21  23  61  32  69  55  42  76  12     16  52  24  33  37  62  32   6  10\n",
       " 66  65  78  12  47  44  43  32  65     10  16   2  35  57  28  22  80  59\n",
       " 64  40  19  65  40  35  34  14  49     72  65  11  17  28  53  50  80  12"
      ]
     },
     "execution_count": 26,
     "metadata": {},
     "output_type": "execute_result"
    }
   ],
   "source": [
    "encoded_archive = let\n",
    "    \n",
    "    model = saved_state_dict[\"model\"]; # grab which ever version of the model you want\n",
    "    number_of_steps = length(Rᵢ); # how much data do we have?\n",
    "    encoded_archive = Array{Int64,2}(undef, number_of_steps, number_of_paths);\n",
    "    \n",
    "    for i ∈ 1:number_of_paths\n",
    "        start_state = rand(π̄);\n",
    "        tmp = model(start_state, number_of_steps) # generates state sequence of length number_of_steps\n",
    "        for j ∈ 1:number_of_steps\n",
    "            encoded_archive[j,i] = tmp[j]\n",
    "        end\n",
    "    end\n",
    "    encoded_archive\n",
    "end"
   ]
  },
  {
   "cell_type": "markdown",
   "id": "74af8935-6994-4a0e-8958-78d6ba9bb9ef",
   "metadata": {},
   "source": [
    "## Task 2: Decode the out-of-sample model prediction\n",
    "Now that we have populated the `encoded_archive::Array{Int64,2}` array, which holds the hidden discrete states, we need to convert the discrete states back into floating point excess growth rate values. We do this using a _decoding model_ which transforms the encoded values into growth rate values. We generated (and persisted) the _decode model_ in the worked example. \n",
    "* Load the _decode model_ from the `saved_state_dict::Dict{String, Any}` dictionary using the `decode::String` key. We save the _decode model_ in the `decode_distribution_model::Dict{Int64, Normal}` dictionary."
   ]
  },
  {
   "cell_type": "code",
   "execution_count": 28,
   "id": "6b9a746a-da0a-4b7d-8c27-92ad29a0198b",
   "metadata": {},
   "outputs": [],
   "source": [
    "decode_distribution_model = saved_state_dict[\"decode\"];"
   ]
  },
  {
   "cell_type": "markdown",
   "id": "1422919e-1313-44f9-9ef9-cafe1e813ba9",
   "metadata": {},
   "source": [
    "The `decode_distribution_model::Dict{Int64, Normal}` dictionary holds a [Normal distribution model](https://juliastats.org/Distributions.jl/stable/univariate/#Distributions.Normal) for each state $s\\in\\mathcal{S}$. We sample these distributions to generate a value of the excess growth rate that corresponds to a particular discrete state `s.` Thus, to decode the encoded sample array, we iterate through the `encoded_archive` array and sample the _decode model_ that is associated with $s\\in\\mathcal{S}$, and then save that value in the `out_of_sample_decoded_archive::Array{Float64,2}` array using a nested [`for-loop`](https://docs.julialang.org/en/v1/manual/variables-and-scoping/#Loops-and-Comprehensions):\n",
    "* The outer loop iterates over the sample paths, the `i` index, while the inner loop, the `j` index, iterates over the time steps. Inside the inner loop, we select a state `s,` access the corresponding _Normal decode model_ for state `s,` (the `j,i` element of the `encoded_archive`) and sample that model [using a `rand(...)` method exported by the  Distributions.jl package](https://juliastats.org/Distributions.jl/stable/univariate/#Base.rand-Tuple{AbstractRNG,%20UnivariateDistribution}) in combination with the [Julia pipe `|>` operator](https://docs.julialang.org/en/v1/manual/functions/#Function-composition-and-piping).\n",
    "\n",
    "The `out_of_sample_decoded_archive::Array{Float64,2}` holds values for the excess growth rate for each time step and sample path."
   ]
  },
  {
   "cell_type": "code",
   "execution_count": 30,
   "id": "109e52ba-e33f-4a14-8702-67867a4999ee",
   "metadata": {},
   "outputs": [
    {
     "data": {
      "text/plain": [
       "205×10000 Matrix{Float64}:\n",
       " -3.24519    -0.515251   3.11841    …  -3.69418     -2.68091   -1.412\n",
       " -1.16967    -1.38911   -5.91998        0.539626    -1.27705   -2.52297\n",
       " -0.225815    0.781928  -1.46611        2.75261     -2.55823    0.468052\n",
       "  1.42543    -0.880094   0.0119765      1.19587      3.0303     0.65824\n",
       "  1.10799     0.557595  -0.47839        0.307611    -0.359728  -0.63756\n",
       " -0.460702    1.92512    0.442004   …  -2.03519      0.497878  -1.4298\n",
       "  0.439346   -2.39282    0.468467       1.04245     -0.534687   0.900245\n",
       " -0.62848    -1.35239   -1.9399        -0.0245787   -2.63084   -0.990345\n",
       " -0.481877   -0.769708  -0.0335946      0.0573464   -3.7772    -0.898983\n",
       " -2.35374    -1.78687    0.0780038     -1.31826      0.545345   1.73877\n",
       "  4.03889     2.65688    1.0931     …  -0.148446     0.824302  -0.818598\n",
       "  1.94037    -2.00772    0.0350392     -0.748038     0.120443   1.23853\n",
       "  1.12088     2.03606   -2.99937       -5.39337      2.84089   -0.12619\n",
       "  ⋮                                 ⋱                          \n",
       " -1.79864     0.6746    -0.18812        0.253132    -0.413699   1.73839\n",
       " -0.874329   -2.52756    0.249363      -0.294703     1.28827    0.38656\n",
       "  0.425833    0.444233  -0.746562   …  -0.00834992   0.531907   2.2566\n",
       "  0.648828    0.106528  -1.6613         0.538231    -0.100277   1.55709\n",
       " -2.61165     0.234066   3.3631         3.58688     -1.74304    2.43067\n",
       " -1.18801    -1.1379     0.666569      -1.6723       1.6241     3.57044\n",
       " -0.967521   -4.70107   -0.0863531      2.62424     -0.827888   1.73298\n",
       " -0.111915   -4.48614   -0.742653   …   0.746104    -1.87536   -0.0320805\n",
       " -0.0853373   0.726374  -0.655383      -1.90239      2.04623   -0.623396\n",
       " -0.950749   -0.854541   1.46805       -0.230236    -3.17814   -2.32824\n",
       "  1.91256     1.81058    4.75031       -0.90376      9.8261     1.32451\n",
       "  1.70258     0.166275  -1.16125        0.648532    11.5221    -2.02492"
      ]
     },
     "execution_count": 30,
     "metadata": {},
     "output_type": "execute_result"
    }
   ],
   "source": [
    "out_of_sample_decoded_archive = let\n",
    "\n",
    "    number_of_steps = length(Rᵢ); # average number of trading days per year\n",
    "    \n",
    "    out_of_sample_decoded_archive = Array{Float64,2}(undef, number_of_steps, number_of_paths);\n",
    "    for i ∈ 1:number_of_paths\n",
    "        for j ∈ 1:number_of_steps\n",
    "            s = encoded_archive[j,i];\n",
    "            out_of_sample_decoded_archive[j,i] =  decode_distribution_model[s] |> d -> rand(d)\n",
    "        end\n",
    "    end\n",
    "    out_of_sample_decoded_archive # actual excess growth value (not internal state variables)\n",
    "end"
   ]
  },
  {
   "cell_type": "markdown",
   "id": "1e6801e8-ce21-4fa5-b110-462d8316e3a9",
   "metadata": {},
   "source": [
    "## Task 3: How good is the out-of-sample model prediction?\n",
    "Now that we have populated the `out_of_sample_decoded_archive::Array{Float64,2}` array with excess growth rate values, we can test how well the out-of-sample simulations replicate the properties of the out-of-sample observations. \n",
    "* First, let's plot the simulated distributions versus the observed out-of-sample excess growth distributions and examine them to get a qualitative idea of how close the simulations are to the observed values. \n",
    "* Then, we'll [use the `ApproximateTwoSampleKSTest` method exported by the HypothesisTests.jl package](https://github.com/JuliaStats/HypothesisTests.jl) to compute the fraction of trials that appear to be drawn from the same distribution."
   ]
  },
  {
   "cell_type": "markdown",
   "id": "25f483fe-bae2-49b0-95ec-32e4194929be",
   "metadata": {},
   "source": [
    "`Unhide` the code block below to see how we plotted the observed and simulated excess annual growth rate distribution for the out-of-sample data.\n",
    "* __Summary__: The simulated out-of-sample excess growth rate distributions (blue lines) and the observed distribution (red line) are qualitatively similar; however, the simulated distributions appear to be more heavily tailed, with more density for near-zero growth rates and broader tails. "
   ]
  },
  {
   "cell_type": "code",
   "execution_count": 33,
   "id": "f30cb814-63e4-42c9-a88b-9b85fc6ee67e",
   "metadata": {},
   "outputs": [
    {
     "data": {
      "text/plain": [
       "\"/Users/jeffreyvarner/Desktop/julia_work/CHEME-5660-CourseRepository-Fall-2024/lectures/week-13/L13a/figs/Fig-SPY-ExcessGrowthRate-Distribution-Daily-HMM-BB.svg\""
      ]
     },
     "execution_count": 33,
     "metadata": {},
     "output_type": "execute_result"
    }
   ],
   "source": [
    "let\n",
    "    theme(:dark)\n",
    "    \n",
    "    q = plot(); \n",
    "    skip = 1000;\n",
    "    N = 1:skip:number_of_paths |> collect |> length;\n",
    "    density!(out_of_sample_decoded_archive[:,1], lw=1, c=my_color_palette[0], foreground_color_axis=:white, \n",
    "        foreground_color_grid=\"white\", framestyle = :box, bg = :black,\n",
    "        foreground_color_border = :white, legend_font_color = :white, legend_background_color=my_color_palette[4],\n",
    "        fg_legend = :transparent, foreground_color=:white, foreground_color_text=:white,\n",
    "        yguidefontcolor=:white, xguidefontcolor=:white, legend=:topleft, label=\"Simulated N = 10K ($(N))\", ls=:dash)\n",
    "    \n",
    "    for i ∈ 2:skip:number_of_paths\n",
    "        density!(out_of_sample_decoded_archive[:,i], lw=1, c=my_color_palette[0], label=\"\", ls=:dash)\n",
    "    end\n",
    "    density!(Rᵢ, c=my_color_palette[1], lw=3, label=\"Observed\")\n",
    "    xlabel!(\"Excess growth rate daily $(ticker) (1/year)\", fontsize=18)\n",
    "    ylabel!(\"Probability Density (AU)\", fontsize=18)\n",
    "    current()\n",
    "\n",
    "    # dump\n",
    "    savefig(joinpath(_PATH_TO_FIGURES, \"Fig-$(ticker)-ExcessGrowthRate-Distribution-Daily-HMM-BB.svg\"))\n",
    "end"
   ]
  },
  {
   "cell_type": "markdown",
   "id": "dd3eb3dd-d67f-4463-b74e-3da2fd2bbcc0",
   "metadata": {},
   "source": [
    "### Check: Mean and standard deviation of the out-of-sample data\n",
    "The distributions above _look similar_ but let's dig deeper. For example, is the mean of out-of-sample predicted excess growth rate distribution (or the standard deviation) consistent with the observed data? Let's check if the simulated values bound the observed mean (and standard deviation) for the out-of-sample data.\n",
    "\n",
    "#### Simulated mean and standard deviation\n",
    "Compute the mean over the time dimension (rows) of the `out_of_sample_decoded_archive` array using [the Julia `mean(...)` function, where the `dim = 1` argument allows us to compute the mean over the rows](https://docs.julialang.org/en/v1/stdlib/Statistics/#Statistics.mean). \n",
    "* This will return `number_of_paths` values for the mean (a value for each sample path), so we compute the mean over the sample paths [using the `mean(...)` function again](https://docs.julialang.org/en/v1/stdlib/Statistics/#Statistics.mean) in combination with the [Julia pipe `|>` operator](https://docs.julialang.org/en/v1/manual/functions/#Function-composition-and-piping). We save the simulated sample mean as the `μ̄::Float64` variable:"
   ]
  },
  {
   "cell_type": "code",
   "execution_count": 35,
   "id": "50478b7d-103d-4198-b3a0-7960630ad08e",
   "metadata": {},
   "outputs": [
    {
     "name": "stdout",
     "output_type": "stream",
     "text": [
      "Out-of-sample estimated simulated mean: μ̄ = 0.0515227667147685\n"
     ]
    }
   ],
   "source": [
    "μ̄ = mean(out_of_sample_decoded_archive, dims=1) |> x -> mean(x); # average mean\n",
    "println(\"Out-of-sample estimated simulated mean: μ̄ = $(μ̄)\")"
   ]
  },
  {
   "cell_type": "markdown",
   "id": "a22a9419-f33f-4e01-a2a4-f5b6ce493512",
   "metadata": {},
   "source": [
    "Similarly, we compute the expected standard deviation over time and then over the `number_of_paths` sample paths using [the `std(...)` function with the `dim = 1` argument](https://docs.julialang.org/en/v1/stdlib/Statistics/#Statistics.std) in combination with [the `mean(...)` function again](https://docs.julialang.org/en/v1/stdlib/Statistics/#Statistics.mean) and the [Julia pipe `|>` operator](https://docs.julialang.org/en/v1/manual/functions/#Function-composition-and-piping). We save the simulated sample standard deviation as the `σ̄::Float64` variable:"
   ]
  },
  {
   "cell_type": "code",
   "execution_count": 37,
   "id": "d42ed1cb-6d7c-4cad-9bf3-e9db8e429f83",
   "metadata": {},
   "outputs": [
    {
     "name": "stdout",
     "output_type": "stream",
     "text": [
      "Out-of-sample estimated simulated standard deviation: σ̄ = 2.5013801338681465\n"
     ]
    }
   ],
   "source": [
    "σ̄ = std(out_of_sample_decoded_archive, dims=1) |> x -> mean(x); # average standard deviation\n",
    "println(\"Out-of-sample estimated simulated standard deviation: σ̄ = $(σ̄)\")"
   ]
  },
  {
   "cell_type": "markdown",
   "id": "9c2b1607-3a81-4509-ab28-b50cadbd7e2b",
   "metadata": {},
   "source": [
    "#### Comparison with observed values\n",
    "Next, let's compute the observed mean and standard deviation values from the `out_of_sample_dataset` using the [Julia `mean(...)`](https://docs.julialang.org/en/v1/stdlib/Statistics/#Statistics.mean) and [`std(...)` functions exported by Statistics.jl](https://docs.julialang.org/en/v1/stdlib/Statistics/#Statistics.mean). Save these values in the `μ::Float64` and `σ::Float64` variables:"
   ]
  },
  {
   "cell_type": "code",
   "execution_count": 39,
   "id": "0db9aa55-357c-43e1-aac7-e1eb64e6593d",
   "metadata": {},
   "outputs": [],
   "source": [
    "μ = mean(Rᵢ, dims=1) |> first; # observed growth rate from data\n",
    "σ = std(Rᵢ, dims=1) |> first; # observed standard deviation from data"
   ]
  },
  {
   "cell_type": "markdown",
   "id": "6476fe7a-f776-47b3-8d9e-162789b1295e",
   "metadata": {},
   "source": [
    "__Test I__: Let's test whether the observed out-of-sample excess growth rate mean is contained in a $\\pm$ `SEM` range around the mean computed over the simulations samples, i.e.., we test the condition: \n",
    "$$\n",
    "\\mu \\in R_{\\mu} \\equiv \\left[\\bar{\\mu}-\\frac{\\bar{\\sigma}}{\\sqrt{N}},\\,\\bar{\\mu}+\\frac{\\bar{\\sigma}}{\\sqrt{N}}\\right]\n",
    "$$\n",
    "using the [Julia @assert macro](https://docs.julialang.org/en/v1/base/base/#Base.@assert). If $\\mu\\notin{R}_{\\mu}$, i.e., the observed mean is not bounded by $\\pm$`SEM`, then an [AssertionError is thrown](https://docs.julialang.org/en/v1/base/base/#Core.AssertionError), where `SEM` denotes the [standard error of the mean](https://en.wikipedia.org/wiki/Standard_error)."
   ]
  },
  {
   "cell_type": "code",
   "execution_count": 41,
   "id": "9cb3d618-2a25-46d6-9a39-fe4aa42b27d1",
   "metadata": {},
   "outputs": [
    {
     "name": "stdout",
     "output_type": "stream",
     "text": [
      "R = (0.026508965376087035, 0.07653656805344997) and μ = 0.21807268014995296, μ̄ = 0.0515227667147685\n"
     ]
    },
    {
     "ename": "LoadError",
     "evalue": "AssertionError: R[1] ≤ μ && μ ≤ R[2]",
     "output_type": "error",
     "traceback": [
      "AssertionError: R[1] ≤ μ && μ ≤ R[2]",
      "",
      "Stacktrace:",
      " [1] top-level scope",
      "   @ In[41]:4"
     ]
    }
   ],
   "source": [
    "let\n",
    "    R = (μ̄ - σ̄/√number_of_paths, μ̄ + σ̄/√number_of_paths);\n",
    "    println(\"R = $(R) and μ = $(μ), μ̄ = $(μ̄)\")\n",
    "    @assert R[1] ≤ μ && μ ≤ R[2]\n",
    "end"
   ]
  },
  {
   "cell_type": "code",
   "execution_count": 42,
   "id": "1ab3cfd1-ec92-4afa-98c8-f186e5f16a78",
   "metadata": {},
   "outputs": [
    {
     "name": "stdout",
     "output_type": "stream",
     "text": [
      "The percentage difference between the observed and simulated mean is: 76.3735802763831%\n"
     ]
    }
   ],
   "source": [
    "let\n",
    "    ϵ = 100*abs(((μ - μ̄)/μ)); # percentage difference in std\n",
    "    println(\"The percentage difference between the observed and simulated mean is: $(ϵ)%\")\n",
    "end"
   ]
  },
  {
   "cell_type": "markdown",
   "id": "84060076-d831-42a9-9b8f-519ce16416a4",
   "metadata": {},
   "source": [
    "__Test II__: Next, test the simulated versus observed standard deviation of the excess growth, i.e., the volatility for the out-of-sample values. In this case, we test the conditions:\n",
    "$$\n",
    "\\sigma\\in R_{\\sigma} \\equiv \\left[\\sqrt\\frac{(N-1)\\cdot\\bar{\\sigma}^2}{\\chi_{r}^2},\\,\\sqrt{\\frac{(N-1)\\cdot\\bar{\\sigma}^2}{\\chi_{l}^2}}\\,\\right]\n",
    "$$\n",
    "using the [Julia @assert macro](https://docs.julialang.org/en/v1/base/base/#Base.@assert). If $\\sigma\\notin{R}_{\\sigma}$, i.e., the observed standard deviation is not bounded by $\\pm\\sqrt{(N-1)\\cdot{\\bar{\\sigma}^{2}}/\\chi_{\\star}^{2}}$, then an [AssertionError is thrown](https://docs.julialang.org/en/v1/base/base/#Core.AssertionError). \n",
    "* Where $\\chi_{\\star}^{2}$ denotes the $\\star=\\left\\{l,r\\right\\}$ left (`l`) or right (`r`) tail of the [chi-squared distribution with $N − 1$ degrees of freedom](https://en.wikipedia.org/wiki/Chi-squared_distribution). We use [the `Chisq(...)` distribution model exported by Distributions.jl](https://github.com/JuliaStats/Distributions.jl) in combination with [the `quantile(...)` function also exported by the Distributions.jl package](https://juliastats.org/Distributions.jl/stable/univariate/#Statistics.quantile-Tuple{UnivariateDistribution,%20Real}) to compute the $\\chi_{\\star}^{2}$ values:"
   ]
  },
  {
   "cell_type": "code",
   "execution_count": 44,
   "id": "e37b3f69-6b4a-44e1-9613-43c9b83bfe65",
   "metadata": {},
   "outputs": [
    {
     "name": "stdout",
     "output_type": "stream",
     "text": [
      "For CI = 99.0%, the (χₗ,χᵣ) = (9673.948839577637,10331.933577929449)\n"
     ]
    }
   ],
   "source": [
    "α = 0.99;\n",
    "ᾱ = (1 - α);\n",
    "chi_d = Chisq(number_of_paths);\n",
    "χₗ = quantile(chi_d,ᾱ);\n",
    "χᵣ = quantile(chi_d,α);\n",
    "println(\"For CI = $(100*α)%, the (χₗ,χᵣ) = ($(χₗ),$(χᵣ))\")"
   ]
  },
  {
   "cell_type": "markdown",
   "id": "b5ab93e6-ae9a-4edb-a63d-dde964cb2ae3",
   "metadata": {},
   "source": [
    "Finally, check if $\\sigma\\in{R}_{\\sigma}$ using the [Julia @assert macro](https://docs.julialang.org/en/v1/base/base/#Base.@assert):"
   ]
  },
  {
   "cell_type": "code",
   "execution_count": 46,
   "id": "a7d0eb4c-6f29-423b-9e60-87cceadc9cef",
   "metadata": {},
   "outputs": [
    {
     "name": "stdout",
     "output_type": "stream",
     "text": [
      "R = (2.460748209423698, 2.5430569579436018) at CI = 99.0% and σ = 1.6027436349537245, σ̄ = 2.5013801338681465\n"
     ]
    },
    {
     "ename": "LoadError",
     "evalue": "AssertionError: R[1] ≤ σ && σ ≤ R[2]",
     "output_type": "error",
     "traceback": [
      "AssertionError: R[1] ≤ σ && σ ≤ R[2]",
      "",
      "Stacktrace:",
      " [1] top-level scope",
      "   @ In[46]:4"
     ]
    }
   ],
   "source": [
    "let\n",
    "    R = (sqrt(((number_of_paths - 1)*σ̄^2)/(χᵣ)), sqrt(((number_of_paths - 1)*σ̄^2)/(χₗ)));\n",
    "    println(\"R = $(R) at CI = $(100*α)% and σ = $(σ), σ̄ = $(σ̄)\")\n",
    "    @assert R[1] ≤ σ && σ ≤ R[2]\n",
    "end"
   ]
  },
  {
   "cell_type": "markdown",
   "id": "94fdb21a-31fe-45ac-acae-72623f0851a3",
   "metadata": {},
   "source": [
    "__What if we fail Test II__? Currently, the model simulation fails `Test II,` i.e., the uncertainty of the standard deviation computed by the Markov model does not include the standard deviation value calculated from the out-of-sample observations (the simulated range is biased high); the standard deviation values have a percentage difference of:"
   ]
  },
  {
   "cell_type": "code",
   "execution_count": 48,
   "id": "9bca3271-be42-44dc-99b7-2fdb0467c3f8",
   "metadata": {},
   "outputs": [
    {
     "name": "stdout",
     "output_type": "stream",
     "text": [
      "The percentage difference between the observed and simulated stdev is: 56.06863626323919%\n"
     ]
    }
   ],
   "source": [
    "let\n",
    "    ϵ = 100*abs(((σ - σ̄)/σ)); # percentage difference in std\n",
    "    println(\"The percentage difference between the observed and simulated stdev is: $(ϵ)%\")\n",
    "end"
   ]
  },
  {
   "cell_type": "markdown",
   "id": "a5b51b0c-435e-4282-ae78-1de59796ce84",
   "metadata": {},
   "source": [
    "### Check: Are the predicted and observed out-of-sample distributions the same? \n",
    "If our Markov model is correct, then the observed excess growth rate distribution and the excess growth distribution calculated by our model should look like they are drawn from the same distribution. To check this hypothesis, use [the ApproximateTwoSampleKSTest exported by the HypothesisTests.jl package](https://github.com/JuliaStats/HypothesisTests.jl) \n",
    "* `H0:null hypothesis` is that `x` and `y` are drawn from the same distribution against the `H1:alternative hypothesis` that `x` and `y` come from different distributions.\n",
    "\n",
    "We have `number_of_paths` example trajectories, so let's do the test on each sample and compute an overall expected score. Specify a `pvalue_cutoff` value to check against. If the test returns `pvalue > pvalue_cutoff,` then we fail to reject `H0:null hypothesis`, i.e., `x` and `y` appear to be drawn from the same distribution."
   ]
  },
  {
   "cell_type": "code",
   "execution_count": 50,
   "id": "1d19b22f-aa0d-4676-a72d-afcb92a61dac",
   "metadata": {},
   "outputs": [
    {
     "name": "stdout",
     "output_type": "stream",
     "text": [
      "Pass percentage: 69.36%\n"
     ]
    }
   ],
   "source": [
    "pvalue_cutoff = 0.05; # if larger than this, we reject the H0\n",
    "pass_counter = 0;\n",
    "for i ∈ 1:number_of_paths\n",
    "    test_value = ApproximateTwoSampleKSTest(Rᵢ, out_of_sample_decoded_archive[:,i]) |> pvalue   \n",
    "    if (test_value > pvalue_cutoff)\n",
    "        pass_counter += 1 # we pass (fail to reject) x and y are from the same distribution\n",
    "    end\n",
    "end\n",
    "println(\"Pass percentage: $((pass_counter/number_of_paths)*100)%\")"
   ]
  },
  {
   "cell_type": "code",
   "execution_count": 51,
   "id": "791e3c30-3a0f-4bc1-a3dd-cebcb2b15b8f",
   "metadata": {},
   "outputs": [
    {
     "data": {
      "text/plain": [
       "Approximate two sample Kolmogorov-Smirnov test\n",
       "----------------------------------------------\n",
       "Population details:\n",
       "    parameter of interest:   Supremum of CDF differences\n",
       "    value under h_0:         0.0\n",
       "    point estimate:          0.112195\n",
       "\n",
       "Test summary:\n",
       "    outcome with 95% confidence: fail to reject h_0\n",
       "    two-sided p-value:           0.1514\n",
       "\n",
       "Details:\n",
       "    number of observations:   [205,205]\n",
       "    KS-statistic:              1.1358890361470284\n"
      ]
     },
     "execution_count": 51,
     "metadata": {},
     "output_type": "execute_result"
    }
   ],
   "source": [
    "ApproximateTwoSampleKSTest(Rᵢ, out_of_sample_decoded_archive[:,rand(1:number_of_paths)])"
   ]
  },
  {
   "cell_type": "code",
   "execution_count": 52,
   "id": "5a50ea5f-df36-444c-aa5c-11dc7a167ab0",
   "metadata": {},
   "outputs": [
    {
     "data": {
      "text/plain": [
       "\"/Users/jeffreyvarner/Desktop/julia_work/CHEME-5660-CourseRepository-Fall-2024/lectures/week-13/L13a/figs/Fig-SPY-ExcessGrowthRate-TimeSeries-Daily-HMM-BB.svg\""
      ]
     },
     "execution_count": 52,
     "metadata": {},
     "output_type": "execute_result"
    }
   ],
   "source": [
    "let\n",
    "    index_to_plot = rand(1:number_of_paths);\n",
    "    number_of_steps = length(out_of_sample_dataset); # average number of trading days per year\n",
    "\n",
    "    # plot(out_of_sample_decoded_archive[:,index_to_plot], linetype=:steppost, label=\"Simulated i = $(index_to_plot)\", \n",
    "    #     bg=\"gray97\", background_color_outside=\"white\", framestyle = :box, fg_legend = :transparent)\n",
    "    plot(out_of_sample_decoded_archive[:,index_to_plot], linetype=:steppost, foreground_color_axis=:white, \n",
    "        foreground_color_grid=\"white\", framestyle = :box, bg = :black,\n",
    "        foreground_color_border = :white, legend_font_color = :white, legend_background_color=my_color_palette[4],\n",
    "        fg_legend = :transparent, foreground_color=:white, foreground_color_text=:white,\n",
    "        yguidefontcolor=:white, xguidefontcolor=:white, legend=:topleft, ls=:dash, c=my_color_palette[0], label=\"Prediction: i = $(index_to_plot)\")\n",
    "    \n",
    "    plot!(Rᵢ, linetype=:steppost, c=my_color_palette[1], label=\"Observed\", lw=1)\n",
    "    xlabel!(\"Trading day index\", fintsize=18)\n",
    "    ylabel!(\"Excess Annual Growth Rate $(ticker) (AU)\", fontsize=18)\n",
    "\n",
    "    # dump\n",
    "    savefig(joinpath(_PATH_TO_FIGURES, \"Fig-$(ticker)-ExcessGrowthRate-TimeSeries-Daily-HMM-BB.svg\"))\n",
    "end"
   ]
  },
  {
   "cell_type": "code",
   "execution_count": 53,
   "id": "74484adf-9b4c-4c71-be3d-bce4b4653cd0",
   "metadata": {},
   "outputs": [
    {
     "data": {
      "image/png": "[encoded data removed]",
      "image/svg+xml": [
       "<?xml version=\"1.0\" encoding=\"utf-8\"?>\n",
       "<svg xmlns=\"http://www.w3.org/2000/svg\" xmlns:xlink=\"http://www.w3.org/1999/xlink\" width=\"600\" height=\"400\" viewBox=\"0 0 2400 1600\">\n",
       "<defs>\n",
       "  <clipPath id=\"clip730\">\n",
       "    <rect x=\"0\" y=\"0\" width=\"2400\" height=\"1600\"/>\n",
       "  </clipPath>\n",
       "</defs>\n",
       "<path clip-path=\"url(#clip730)\" d=\"M0 1600 L2400 1600 L2400 8.88178e-14 L0 8.88178e-14  Z\" fill=\"#363d46\" fill-rule=\"evenodd\" fill-opacity=\"1\"/>\n",
       "<defs>\n",
       "  <clipPath id=\"clip731\">\n",
       "    <rect x=\"480\" y=\"0\" width=\"1681\" height=\"1600\"/>\n",
       "  </clipPath>\n",
       "</defs>\n",
       "<path clip-path=\"url(#clip730)\" d=\"M112.177 1486.45 L2352.76 1486.45 L2352.76 47.2441 L112.177 47.2441  Z\" fill=\"#30343b\" fill-rule=\"evenodd\" fill-opacity=\"1\"/>\n",
       "<defs>\n",
       "  <clipPath id=\"clip732\">\n",
       "    <rect x=\"112\" y=\"47\" width=\"2242\" height=\"1440\"/>\n",
       "  </clipPath>\n",
       "</defs>\n",
       "<polyline clip-path=\"url(#clip732)\" style=\"stroke:#adb2b7; stroke-linecap:round; stroke-linejoin:round; stroke-width:2; stroke-opacity:0.1; fill:none\" points=\"301.19,1486.45 301.19,47.2441 \"/>\n",
       "<polyline clip-path=\"url(#clip732)\" style=\"stroke:#adb2b7; stroke-linecap:round; stroke-linejoin:round; stroke-width:2; stroke-opacity:0.1; fill:none\" points=\"618.822,1486.45 618.822,47.2441 \"/>\n",
       "<polyline clip-path=\"url(#clip732)\" style=\"stroke:#adb2b7; stroke-linecap:round; stroke-linejoin:round; stroke-width:2; stroke-opacity:0.1; fill:none\" points=\"936.454,1486.45 936.454,47.2441 \"/>\n",
       "<polyline clip-path=\"url(#clip732)\" style=\"stroke:#adb2b7; stroke-linecap:round; stroke-linejoin:round; stroke-width:2; stroke-opacity:0.1; fill:none\" points=\"1254.09,1486.45 1254.09,47.2441 \"/>\n",
       "<polyline clip-path=\"url(#clip732)\" style=\"stroke:#adb2b7; stroke-linecap:round; stroke-linejoin:round; stroke-width:2; stroke-opacity:0.1; fill:none\" points=\"1571.72,1486.45 1571.72,47.2441 \"/>\n",
       "<polyline clip-path=\"url(#clip732)\" style=\"stroke:#adb2b7; stroke-linecap:round; stroke-linejoin:round; stroke-width:2; stroke-opacity:0.1; fill:none\" points=\"1889.35,1486.45 1889.35,47.2441 \"/>\n",
       "<polyline clip-path=\"url(#clip732)\" style=\"stroke:#adb2b7; stroke-linecap:round; stroke-linejoin:round; stroke-width:2; stroke-opacity:0.1; fill:none\" points=\"2206.98,1486.45 2206.98,47.2441 \"/>\n",
       "<polyline clip-path=\"url(#clip732)\" style=\"stroke:#adb2b7; stroke-linecap:round; stroke-linejoin:round; stroke-width:2; stroke-opacity:0.1; fill:none\" points=\"112.177,1445.72 2352.76,1445.72 \"/>\n",
       "<polyline clip-path=\"url(#clip732)\" style=\"stroke:#adb2b7; stroke-linecap:round; stroke-linejoin:round; stroke-width:2; stroke-opacity:0.1; fill:none\" points=\"112.177,1198.41 2352.76,1198.41 \"/>\n",
       "<polyline clip-path=\"url(#clip732)\" style=\"stroke:#adb2b7; stroke-linecap:round; stroke-linejoin:round; stroke-width:2; stroke-opacity:0.1; fill:none\" points=\"112.177,951.11 2352.76,951.11 \"/>\n",
       "<polyline clip-path=\"url(#clip732)\" style=\"stroke:#adb2b7; stroke-linecap:round; stroke-linejoin:round; stroke-width:2; stroke-opacity:0.1; fill:none\" points=\"112.177,703.807 2352.76,703.807 \"/>\n",
       "<polyline clip-path=\"url(#clip732)\" style=\"stroke:#adb2b7; stroke-linecap:round; stroke-linejoin:round; stroke-width:2; stroke-opacity:0.1; fill:none\" points=\"112.177,456.504 2352.76,456.504 \"/>\n",
       "<polyline clip-path=\"url(#clip732)\" style=\"stroke:#adb2b7; stroke-linecap:round; stroke-linejoin:round; stroke-width:2; stroke-opacity:0.1; fill:none\" points=\"112.177,209.2 2352.76,209.2 \"/>\n",
       "<polyline clip-path=\"url(#clip730)\" style=\"stroke:#adb2b7; stroke-linecap:round; stroke-linejoin:round; stroke-width:4; stroke-opacity:1; fill:none\" points=\"112.177,1486.45 2352.76,1486.45 \"/>\n",
       "<polyline clip-path=\"url(#clip730)\" style=\"stroke:#adb2b7; stroke-linecap:round; stroke-linejoin:round; stroke-width:4; stroke-opacity:1; fill:none\" points=\"301.19,1486.45 301.19,1467.55 \"/>\n",
       "<polyline clip-path=\"url(#clip730)\" style=\"stroke:#adb2b7; stroke-linecap:round; stroke-linejoin:round; stroke-width:4; stroke-opacity:1; fill:none\" points=\"618.822,1486.45 618.822,1467.55 \"/>\n",
       "<polyline clip-path=\"url(#clip730)\" style=\"stroke:#adb2b7; stroke-linecap:round; stroke-linejoin:round; stroke-width:4; stroke-opacity:1; fill:none\" points=\"936.454,1486.45 936.454,1467.55 \"/>\n",
       "<polyline clip-path=\"url(#clip730)\" style=\"stroke:#adb2b7; stroke-linecap:round; stroke-linejoin:round; stroke-width:4; stroke-opacity:1; fill:none\" points=\"1254.09,1486.45 1254.09,1467.55 \"/>\n",
       "<polyline clip-path=\"url(#clip730)\" style=\"stroke:#adb2b7; stroke-linecap:round; stroke-linejoin:round; stroke-width:4; stroke-opacity:1; fill:none\" points=\"1571.72,1486.45 1571.72,1467.55 \"/>\n",
       "<polyline clip-path=\"url(#clip730)\" style=\"stroke:#adb2b7; stroke-linecap:round; stroke-linejoin:round; stroke-width:4; stroke-opacity:1; fill:none\" points=\"1889.35,1486.45 1889.35,1467.55 \"/>\n",
       "<polyline clip-path=\"url(#clip730)\" style=\"stroke:#adb2b7; stroke-linecap:round; stroke-linejoin:round; stroke-width:4; stroke-opacity:1; fill:none\" points=\"2206.98,1486.45 2206.98,1467.55 \"/>\n",
       "<path clip-path=\"url(#clip730)\" d=\"M279.025 1517.37 Q275.414 1517.37 273.586 1520.93 Q271.78 1524.47 271.78 1531.6 Q271.78 1538.71 273.586 1542.27 Q275.414 1545.82 279.025 1545.82 Q282.66 1545.82 284.465 1542.27 Q286.294 1538.71 286.294 1531.6 Q286.294 1524.47 284.465 1520.93 Q282.66 1517.37 279.025 1517.37 M279.025 1513.66 Q284.835 1513.66 287.891 1518.27 Q290.97 1522.85 290.97 1531.6 Q290.97 1540.33 287.891 1544.94 Q284.835 1549.52 279.025 1549.52 Q273.215 1549.52 270.136 1544.94 Q267.081 1540.33 267.081 1531.6 Q267.081 1522.85 270.136 1518.27 Q273.215 1513.66 279.025 1513.66 Z\" fill=\"#ffffff\" fill-rule=\"nonzero\" fill-opacity=\"1\" /><path clip-path=\"url(#clip730)\" d=\"M299.187 1542.97 L304.071 1542.97 L304.071 1548.85 L299.187 1548.85 L299.187 1542.97 Z\" fill=\"#ffffff\" fill-rule=\"nonzero\" fill-opacity=\"1\" /><path clip-path=\"url(#clip730)\" d=\"M313.076 1514.29 L335.298 1514.29 L335.298 1516.28 L322.752 1548.85 L317.868 1548.85 L329.673 1518.22 L313.076 1518.22 L313.076 1514.29 Z\" fill=\"#ffffff\" fill-rule=\"nonzero\" fill-opacity=\"1\" /><path clip-path=\"url(#clip730)\" d=\"M596.253 1517.37 Q592.642 1517.37 590.813 1520.93 Q589.007 1524.47 589.007 1531.6 Q589.007 1538.71 590.813 1542.27 Q592.642 1545.82 596.253 1545.82 Q599.887 1545.82 601.692 1542.27 Q603.521 1538.71 603.521 1531.6 Q603.521 1524.47 601.692 1520.93 Q599.887 1517.37 596.253 1517.37 M596.253 1513.66 Q602.063 1513.66 605.118 1518.27 Q608.197 1522.85 608.197 1531.6 Q608.197 1540.33 605.118 1544.94 Q602.063 1549.52 596.253 1549.52 Q590.443 1549.52 587.364 1544.94 Q584.308 1540.33 584.308 1531.6 Q584.308 1522.85 587.364 1518.27 Q590.443 1513.66 596.253 1513.66 Z\" fill=\"#ffffff\" fill-rule=\"nonzero\" fill-opacity=\"1\" /><path clip-path=\"url(#clip730)\" d=\"M616.415 1542.97 L621.299 1542.97 L621.299 1548.85 L616.415 1548.85 L616.415 1542.97 Z\" fill=\"#ffffff\" fill-rule=\"nonzero\" fill-opacity=\"1\" /><path clip-path=\"url(#clip730)\" d=\"M641.484 1532.44 Q638.151 1532.44 636.229 1534.22 Q634.331 1536 634.331 1539.13 Q634.331 1542.25 636.229 1544.03 Q638.151 1545.82 641.484 1545.82 Q644.817 1545.82 646.739 1544.03 Q648.66 1542.23 648.66 1539.13 Q648.66 1536 646.739 1534.22 Q644.84 1532.44 641.484 1532.44 M636.808 1530.45 Q633.799 1529.7 632.109 1527.64 Q630.442 1525.58 630.442 1522.62 Q630.442 1518.48 633.382 1516.07 Q636.345 1513.66 641.484 1513.66 Q646.646 1513.66 649.586 1516.07 Q652.526 1518.48 652.526 1522.62 Q652.526 1525.58 650.836 1527.64 Q649.169 1529.7 646.183 1530.45 Q649.563 1531.23 651.438 1533.52 Q653.336 1535.82 653.336 1539.13 Q653.336 1544.15 650.257 1546.83 Q647.201 1549.52 641.484 1549.52 Q635.766 1549.52 632.688 1546.83 Q629.632 1544.15 629.632 1539.13 Q629.632 1535.82 631.53 1533.52 Q633.428 1531.23 636.808 1530.45 M635.095 1523.06 Q635.095 1525.75 636.762 1527.25 Q638.452 1528.76 641.484 1528.76 Q644.493 1528.76 646.183 1527.25 Q647.896 1525.75 647.896 1523.06 Q647.896 1520.38 646.183 1518.87 Q644.493 1517.37 641.484 1517.37 Q638.452 1517.37 636.762 1518.87 Q635.095 1520.38 635.095 1523.06 Z\" fill=\"#ffffff\" fill-rule=\"nonzero\" fill-opacity=\"1\" /><path clip-path=\"url(#clip730)\" d=\"M913.931 1517.37 Q910.32 1517.37 908.492 1520.93 Q906.686 1524.47 906.686 1531.6 Q906.686 1538.71 908.492 1542.27 Q910.32 1545.82 913.931 1545.82 Q917.566 1545.82 919.371 1542.27 Q921.2 1538.71 921.2 1531.6 Q921.2 1524.47 919.371 1520.93 Q917.566 1517.37 913.931 1517.37 M913.931 1513.66 Q919.742 1513.66 922.797 1518.27 Q925.876 1522.85 925.876 1531.6 Q925.876 1540.33 922.797 1544.94 Q919.742 1549.52 913.931 1549.52 Q908.121 1549.52 905.043 1544.94 Q901.987 1540.33 901.987 1531.6 Q901.987 1522.85 905.043 1518.27 Q908.121 1513.66 913.931 1513.66 Z\" fill=\"#ffffff\" fill-rule=\"nonzero\" fill-opacity=\"1\" /><path clip-path=\"url(#clip730)\" d=\"M934.093 1542.97 L938.978 1542.97 L938.978 1548.85 L934.093 1548.85 L934.093 1542.97 Z\" fill=\"#ffffff\" fill-rule=\"nonzero\" fill-opacity=\"1\" /><path clip-path=\"url(#clip730)\" d=\"M949.302 1548.13 L949.302 1543.87 Q951.061 1544.7 952.866 1545.14 Q954.672 1545.58 956.408 1545.58 Q961.038 1545.58 963.468 1542.48 Q965.922 1539.36 966.269 1533.01 Q964.927 1535.01 962.866 1536.07 Q960.806 1537.13 958.306 1537.13 Q953.121 1537.13 950.089 1534.01 Q947.079 1530.86 947.079 1525.42 Q947.079 1520.1 950.228 1516.88 Q953.376 1513.66 958.607 1513.66 Q964.602 1513.66 967.751 1518.27 Q970.922 1522.85 970.922 1531.6 Q970.922 1539.77 967.033 1544.66 Q963.167 1549.52 956.616 1549.52 Q954.857 1549.52 953.052 1549.17 Q951.246 1548.82 949.302 1548.13 M958.607 1533.48 Q961.755 1533.48 963.584 1531.32 Q965.436 1529.17 965.436 1525.42 Q965.436 1521.7 963.584 1519.54 Q961.755 1517.37 958.607 1517.37 Q955.459 1517.37 953.607 1519.54 Q951.778 1521.7 951.778 1525.42 Q951.778 1529.17 953.607 1531.32 Q955.459 1533.48 958.607 1533.48 Z\" fill=\"#ffffff\" fill-rule=\"nonzero\" fill-opacity=\"1\" /><path clip-path=\"url(#clip730)\" d=\"M1221.24 1544.91 L1228.88 1544.91 L1228.88 1518.55 L1220.57 1520.21 L1220.57 1515.95 L1228.83 1514.29 L1233.51 1514.29 L1233.51 1544.91 L1241.15 1544.91 L1241.15 1548.85 L1221.24 1548.85 L1221.24 1544.91 Z\" fill=\"#ffffff\" fill-rule=\"nonzero\" fill-opacity=\"1\" /><path clip-path=\"url(#clip730)\" d=\"M1250.59 1542.97 L1255.48 1542.97 L1255.48 1548.85 L1250.59 1548.85 L1250.59 1542.97 Z\" fill=\"#ffffff\" fill-rule=\"nonzero\" fill-opacity=\"1\" /><path clip-path=\"url(#clip730)\" d=\"M1275.66 1517.37 Q1272.05 1517.37 1270.22 1520.93 Q1268.42 1524.47 1268.42 1531.6 Q1268.42 1538.71 1270.22 1542.27 Q1272.05 1545.82 1275.66 1545.82 Q1279.3 1545.82 1281.1 1542.27 Q1282.93 1538.71 1282.93 1531.6 Q1282.93 1524.47 1281.1 1520.93 Q1279.3 1517.37 1275.66 1517.37 M1275.66 1513.66 Q1281.47 1513.66 1284.53 1518.27 Q1287.61 1522.85 1287.61 1531.6 Q1287.61 1540.33 1284.53 1544.94 Q1281.47 1549.52 1275.66 1549.52 Q1269.85 1549.52 1266.77 1544.94 Q1263.72 1540.33 1263.72 1531.6 Q1263.72 1522.85 1266.77 1518.27 Q1269.85 1513.66 1275.66 1513.66 Z\" fill=\"#ffffff\" fill-rule=\"nonzero\" fill-opacity=\"1\" /><path clip-path=\"url(#clip730)\" d=\"M1539.49 1544.91 L1547.12 1544.91 L1547.12 1518.55 L1538.81 1520.21 L1538.81 1515.95 L1547.08 1514.29 L1551.75 1514.29 L1551.75 1544.91 L1559.39 1544.91 L1559.39 1548.85 L1539.49 1548.85 L1539.49 1544.91 Z\" fill=\"#ffffff\" fill-rule=\"nonzero\" fill-opacity=\"1\" /><path clip-path=\"url(#clip730)\" d=\"M1568.84 1542.97 L1573.72 1542.97 L1573.72 1548.85 L1568.84 1548.85 L1568.84 1542.97 Z\" fill=\"#ffffff\" fill-rule=\"nonzero\" fill-opacity=\"1\" /><path clip-path=\"url(#clip730)\" d=\"M1584.72 1544.91 L1592.36 1544.91 L1592.36 1518.55 L1584.05 1520.21 L1584.05 1515.95 L1592.31 1514.29 L1596.99 1514.29 L1596.99 1544.91 L1604.62 1544.91 L1604.62 1548.85 L1584.72 1548.85 L1584.72 1544.91 Z\" fill=\"#ffffff\" fill-rule=\"nonzero\" fill-opacity=\"1\" /><path clip-path=\"url(#clip730)\" d=\"M1857.3 1544.91 L1864.94 1544.91 L1864.94 1518.55 L1856.63 1520.21 L1856.63 1515.95 L1864.9 1514.29 L1869.57 1514.29 L1869.57 1544.91 L1877.21 1544.91 L1877.21 1548.85 L1857.3 1548.85 L1857.3 1544.91 Z\" fill=\"#ffffff\" fill-rule=\"nonzero\" fill-opacity=\"1\" /><path clip-path=\"url(#clip730)\" d=\"M1886.66 1542.97 L1891.54 1542.97 L1891.54 1548.85 L1886.66 1548.85 L1886.66 1542.97 Z\" fill=\"#ffffff\" fill-rule=\"nonzero\" fill-opacity=\"1\" /><path clip-path=\"url(#clip730)\" d=\"M1905.75 1544.91 L1922.07 1544.91 L1922.07 1548.85 L1900.13 1548.85 L1900.13 1544.91 Q1902.79 1542.16 1907.37 1537.53 Q1911.98 1532.88 1913.16 1531.53 Q1915.41 1529.01 1916.28 1527.27 Q1917.19 1525.51 1917.19 1523.82 Q1917.19 1521.07 1915.24 1519.33 Q1913.32 1517.6 1910.22 1517.6 Q1908.02 1517.6 1905.57 1518.36 Q1903.14 1519.13 1900.36 1520.68 L1900.36 1515.95 Q1903.18 1514.82 1905.64 1514.24 Q1908.09 1513.66 1910.13 1513.66 Q1915.5 1513.66 1918.69 1516.35 Q1921.89 1519.03 1921.89 1523.52 Q1921.89 1525.65 1921.08 1527.57 Q1920.29 1529.47 1918.18 1532.07 Q1917.6 1532.74 1914.5 1535.95 Q1911.4 1539.15 1905.75 1544.91 Z\" fill=\"#ffffff\" fill-rule=\"nonzero\" fill-opacity=\"1\" /><path clip-path=\"url(#clip730)\" d=\"M2174.46 1544.91 L2182.1 1544.91 L2182.1 1518.55 L2173.79 1520.21 L2173.79 1515.95 L2182.05 1514.29 L2186.73 1514.29 L2186.73 1544.91 L2194.37 1544.91 L2194.37 1548.85 L2174.46 1548.85 L2174.46 1544.91 Z\" fill=\"#ffffff\" fill-rule=\"nonzero\" fill-opacity=\"1\" /><path clip-path=\"url(#clip730)\" d=\"M2203.81 1542.97 L2208.7 1542.97 L2208.7 1548.85 L2203.81 1548.85 L2203.81 1542.97 Z\" fill=\"#ffffff\" fill-rule=\"nonzero\" fill-opacity=\"1\" /><path clip-path=\"url(#clip730)\" d=\"M2233.05 1530.21 Q2236.41 1530.93 2238.28 1533.2 Q2240.18 1535.47 2240.18 1538.8 Q2240.18 1543.92 2236.66 1546.72 Q2233.14 1549.52 2226.66 1549.52 Q2224.48 1549.52 2222.17 1549.08 Q2219.88 1548.66 2217.42 1547.81 L2217.42 1543.29 Q2219.37 1544.43 2221.68 1545.01 Q2224 1545.58 2226.52 1545.58 Q2230.92 1545.58 2233.21 1543.85 Q2235.53 1542.11 2235.53 1538.8 Q2235.53 1535.75 2233.37 1534.03 Q2231.24 1532.3 2227.42 1532.3 L2223.4 1532.3 L2223.4 1528.45 L2227.61 1528.45 Q2231.06 1528.45 2232.89 1527.09 Q2234.72 1525.7 2234.72 1523.11 Q2234.72 1520.45 2232.82 1519.03 Q2230.94 1517.6 2227.42 1517.6 Q2225.5 1517.6 2223.3 1518.01 Q2221.1 1518.43 2218.47 1519.31 L2218.47 1515.14 Q2221.13 1514.4 2223.44 1514.03 Q2225.78 1513.66 2227.84 1513.66 Q2233.16 1513.66 2236.27 1516.09 Q2239.37 1518.5 2239.37 1522.62 Q2239.37 1525.49 2237.72 1527.48 Q2236.08 1529.45 2233.05 1530.21 Z\" fill=\"#ffffff\" fill-rule=\"nonzero\" fill-opacity=\"1\" /><polyline clip-path=\"url(#clip730)\" style=\"stroke:#adb2b7; stroke-linecap:round; stroke-linejoin:round; stroke-width:4; stroke-opacity:1; fill:none\" points=\"112.177,1486.45 112.177,47.2441 \"/>\n",
       "<polyline clip-path=\"url(#clip730)\" style=\"stroke:#adb2b7; stroke-linecap:round; stroke-linejoin:round; stroke-width:4; stroke-opacity:1; fill:none\" points=\"112.177,1445.72 131.075,1445.72 \"/>\n",
       "<polyline clip-path=\"url(#clip730)\" style=\"stroke:#adb2b7; stroke-linecap:round; stroke-linejoin:round; stroke-width:4; stroke-opacity:1; fill:none\" points=\"112.177,1198.41 131.075,1198.41 \"/>\n",
       "<polyline clip-path=\"url(#clip730)\" style=\"stroke:#adb2b7; stroke-linecap:round; stroke-linejoin:round; stroke-width:4; stroke-opacity:1; fill:none\" points=\"112.177,951.11 131.075,951.11 \"/>\n",
       "<polyline clip-path=\"url(#clip730)\" style=\"stroke:#adb2b7; stroke-linecap:round; stroke-linejoin:round; stroke-width:4; stroke-opacity:1; fill:none\" points=\"112.177,703.807 131.075,703.807 \"/>\n",
       "<polyline clip-path=\"url(#clip730)\" style=\"stroke:#adb2b7; stroke-linecap:round; stroke-linejoin:round; stroke-width:4; stroke-opacity:1; fill:none\" points=\"112.177,456.504 131.075,456.504 \"/>\n",
       "<polyline clip-path=\"url(#clip730)\" style=\"stroke:#adb2b7; stroke-linecap:round; stroke-linejoin:round; stroke-width:4; stroke-opacity:1; fill:none\" points=\"112.177,209.2 131.075,209.2 \"/>\n",
       "<path clip-path=\"url(#clip730)\" d=\"M64.2328 1431.51 Q60.6217 1431.51 58.793 1435.08 Q56.9875 1438.62 56.9875 1445.75 Q56.9875 1452.86 58.793 1456.42 Q60.6217 1459.96 64.2328 1459.96 Q67.867 1459.96 69.6726 1456.42 Q71.5013 1452.86 71.5013 1445.75 Q71.5013 1438.62 69.6726 1435.08 Q67.867 1431.51 64.2328 1431.51 M64.2328 1427.81 Q70.0429 1427.81 73.0985 1432.42 Q76.1772 1437 76.1772 1445.75 Q76.1772 1454.48 73.0985 1459.08 Q70.0429 1463.67 64.2328 1463.67 Q58.4226 1463.67 55.344 1459.08 Q52.2884 1454.48 52.2884 1445.75 Q52.2884 1437 55.344 1432.42 Q58.4226 1427.81 64.2328 1427.81 Z\" fill=\"#ffffff\" fill-rule=\"nonzero\" fill-opacity=\"1\" /><path clip-path=\"url(#clip730)\" d=\"M56.2699 1211.76 L63.9087 1211.76 L63.9087 1185.39 L55.5986 1187.06 L55.5986 1182.8 L63.8624 1181.13 L68.5383 1181.13 L68.5383 1211.76 L76.1772 1211.76 L76.1772 1215.69 L56.2699 1215.69 L56.2699 1211.76 Z\" fill=\"#ffffff\" fill-rule=\"nonzero\" fill-opacity=\"1\" /><path clip-path=\"url(#clip730)\" d=\"M59.8578 964.455 L76.1772 964.455 L76.1772 968.39 L54.2328 968.39 L54.2328 964.455 Q56.8949 961.7 61.4782 957.07 Q66.0846 952.418 67.2652 951.075 Q69.5105 948.552 70.3902 946.816 Q71.2929 945.057 71.2929 943.367 Q71.2929 940.612 69.3485 938.876 Q67.4272 937.14 64.3254 937.14 Q62.1263 937.14 59.6726 937.904 Q57.2421 938.668 54.4643 940.219 L54.4643 935.497 Q57.2884 934.362 59.7421 933.784 Q62.1958 933.205 64.2328 933.205 Q69.6031 933.205 72.7976 935.89 Q75.992 938.575 75.992 943.066 Q75.992 945.196 75.1818 947.117 Q74.3948 949.015 72.2883 951.608 Q71.7096 952.279 68.6078 955.496 Q65.5059 958.691 59.8578 964.455 Z\" fill=\"#ffffff\" fill-rule=\"nonzero\" fill-opacity=\"1\" /><path clip-path=\"url(#clip730)\" d=\"M69.0476 702.453 Q72.404 703.17 74.279 705.439 Q76.1772 707.707 76.1772 711.04 Q76.1772 716.156 72.6587 718.957 Q69.1402 721.758 62.6587 721.758 Q60.4828 721.758 58.168 721.318 Q55.8764 720.902 53.4227 720.045 L53.4227 715.531 Q55.3671 716.665 57.6819 717.244 Q59.9967 717.823 62.5198 717.823 Q66.918 717.823 69.2096 716.087 Q71.5244 714.351 71.5244 711.04 Q71.5244 707.985 69.3717 706.272 Q67.242 704.536 63.4226 704.536 L59.3949 704.536 L59.3949 700.693 L63.6078 700.693 Q67.0569 700.693 68.8855 699.328 Q70.7142 697.939 70.7142 695.346 Q70.7142 692.684 68.8161 691.272 Q66.9411 689.837 63.4226 689.837 Q61.5013 689.837 59.3023 690.254 Q57.1032 690.67 54.4643 691.55 L54.4643 687.383 Q57.1264 686.642 59.4412 686.272 Q61.7791 685.902 63.8393 685.902 Q69.1633 685.902 72.2652 688.332 Q75.367 690.74 75.367 694.86 Q75.367 697.73 73.7235 699.721 Q72.08 701.689 69.0476 702.453 Z\" fill=\"#ffffff\" fill-rule=\"nonzero\" fill-opacity=\"1\" /><path clip-path=\"url(#clip730)\" d=\"M66.5939 443.298 L54.7884 461.747 L66.5939 461.747 L66.5939 443.298 M65.367 439.224 L71.2466 439.224 L71.2466 461.747 L76.1772 461.747 L76.1772 465.635 L71.2466 465.635 L71.2466 473.784 L66.5939 473.784 L66.5939 465.635 L50.9921 465.635 L50.9921 461.122 L65.367 439.224 Z\" fill=\"#ffffff\" fill-rule=\"nonzero\" fill-opacity=\"1\" /><path clip-path=\"url(#clip730)\" d=\"M55.2745 191.92 L73.6309 191.92 L73.6309 195.856 L59.5569 195.856 L59.5569 204.328 Q60.5754 203.981 61.5939 203.819 Q62.6124 203.633 63.6309 203.633 Q69.418 203.633 72.7976 206.805 Q76.1772 209.976 76.1772 215.393 Q76.1772 220.971 72.705 224.073 Q69.2328 227.152 62.9134 227.152 Q60.7374 227.152 58.4689 226.781 Q56.2236 226.411 53.8162 225.67 L53.8162 220.971 Q55.8995 222.105 58.1217 222.661 Q60.3439 223.217 62.8208 223.217 Q66.8254 223.217 69.1633 221.11 Q71.5013 219.004 71.5013 215.393 Q71.5013 211.781 69.1633 209.675 Q66.8254 207.568 62.8208 207.568 Q60.9458 207.568 59.0708 207.985 Q57.2189 208.402 55.2745 209.281 L55.2745 191.92 Z\" fill=\"#ffffff\" fill-rule=\"nonzero\" fill-opacity=\"1\" /><polyline clip-path=\"url(#clip732)\" style=\"stroke:#fe4365; stroke-linecap:round; stroke-linejoin:round; stroke-width:4; stroke-opacity:1; fill:none\" points=\"175.59,1445.72 186.212,1445.71 196.834,1445.71 207.455,1445.71 218.077,1445.69 228.699,1445.66 239.321,1445.59 249.943,1445.49 260.565,1445.35 271.187,1445.17 281.809,1444.97 292.43,1444.78 303.052,1444.62 313.674,1444.48 324.296,1444.34 334.918,1444.15 345.54,1443.86 356.162,1443.45 366.784,1442.97 377.405,1442.44 388.027,1441.91 398.649,1441.39 409.271,1440.85 419.893,1440.28 430.515,1439.67 441.137,1439.05 451.759,1438.51 462.38,1438.11 473.002,1437.86 483.624,1437.67 494.246,1437.36 504.868,1436.72 515.49,1435.58 526.112,1433.86 536.734,1431.58 547.355,1428.83 557.977,1425.78 568.599,1422.6 579.221,1419.48 589.843,1416.59 600.465,1414.07 611.087,1411.88 621.709,1409.8 632.33,1407.39 642.952,1404.12 653.574,1399.49 664.196,1393.25 674.818,1385.5 685.44,1376.72 696.062,1367.58 706.684,1358.73 717.306,1350.47 727.927,1342.57 738.549,1334.36 749.171,1324.92 759.793,1313.52 770.415,1299.85 781.037,1284.14 791.659,1267.03 802.281,1249.34 812.902,1231.67 823.524,1214.15 834.146,1196.25 844.768,1176.95 855.39,1155.16 866.012,1130.08 876.634,1101.59 887.256,1070.26 897.877,1037.18 908.499,1003.68 919.121,970.967 929.743,939.755 940.365,910 950.987,880.912 961.609,851.288 972.231,820.037 982.852,786.569 993.474,750.827 1004.1,712.975 1014.72,673.038 1025.34,630.826 1035.96,586.258 1046.58,539.921 1057.21,493.431 1067.83,449.266 1078.45,409.993 1089.07,377.241 1099.69,350.951 1110.31,329.348 1120.94,309.725 1131.56,289.704 1142.18,268.373 1152.8,246.66 1163.42,226.717 1174.05,210.589 1184.67,198.949 1195.29,190.628 1205.91,183.191 1216.53,174.156 1227.16,162.141 1237.78,147.349 1248.4,131.278 1259.02,115.941 1269.64,103.097 1280.26,93.8372 1290.89,88.6776 1301.51,87.9763 1312.13,92.3425 1322.75,102.706 1333.37,119.924 1344,144.114 1354.62,174.145 1365.24,207.7 1375.86,242.008 1386.48,274.891 1397.11,305.543 1407.73,334.611 1418.35,363.603 1428.97,394.063 1439.59,426.959 1450.22,462.528 1460.84,500.46 1471.46,540.197 1482.08,581.156 1492.7,622.8 1503.32,664.59 1513.95,705.901 1524.57,746.019 1535.19,784.277 1545.81,820.294 1556.43,854.196 1567.06,886.644 1577.68,918.597 1588.3,950.901 1598.92,983.934 1609.54,1017.51 1620.17,1051.04 1630.79,1083.84 1641.41,1115.37 1652.03,1145.24 1662.65,1173.14 1673.27,1198.71 1683.9,1221.57 1694.52,1241.44 1705.14,1258.32 1715.76,1272.54 1726.38,1284.77 1737.01,1295.77 1747.63,1306.21 1758.25,1316.55 1768.87,1327.01 1779.49,1337.64 1790.12,1348.34 1800.74,1358.92 1811.36,1369.12 1821.98,1378.69 1832.6,1387.41 1843.22,1395.19 1853.85,1402.05 1864.47,1408.05 1875.09,1413.3 1885.71,1417.91 1896.33,1421.95 1906.96,1425.5 1917.58,1428.6 1928.2,1431.29 1938.82,1433.63 1949.44,1435.66 1960.07,1437.41 1970.69,1438.86 1981.31,1440.01 1991.93,1440.88 2002.55,1441.49 2013.17,1441.94 2023.8,1442.28 2034.42,1442.6 2045.04,1442.92 2055.66,1443.25 2066.28,1443.56 2076.91,1443.82 2087.53,1444.03 2098.15,1444.18 2108.77,1444.29 2119.39,1444.37 2130.02,1444.42 2140.64,1444.47 2151.26,1444.53 2161.88,1444.63 2172.5,1444.78 2183.12,1444.96 2193.75,1445.17 2204.37,1445.35 2214.99,1445.49 2225.61,1445.59 2236.23,1445.66 2246.86,1445.69 2257.48,1445.71 2268.1,1445.71 2278.72,1445.71 2289.34,1445.72 \"/>\n",
       "<path clip-path=\"url(#clip730)\" d=\"M2001.58 198.898 L2278.07 198.898 L2278.07 95.2176 L2001.58 95.2176  Z\" fill=\"#363d46\" fill-rule=\"evenodd\" fill-opacity=\"1\"/>\n",
       "<polyline clip-path=\"url(#clip730)\" style=\"stroke:#ffffff; stroke-linecap:round; stroke-linejoin:round; stroke-width:4; stroke-opacity:1; fill:none\" points=\"2001.58,198.898 2278.07,198.898 2278.07,95.2176 2001.58,95.2176 2001.58,198.898 \"/>\n",
       "<polyline clip-path=\"url(#clip730)\" style=\"stroke:#fe4365; stroke-linecap:round; stroke-linejoin:round; stroke-width:4; stroke-opacity:1; fill:none\" points=\"2026.48,147.058 2175.85,147.058 \"/>\n",
       "<path clip-path=\"url(#clip730)\" d=\"M2214.59 166.745 Q2212.78 171.375 2211.07 172.787 Q2209.36 174.199 2206.49 174.199 L2203.08 174.199 L2203.08 170.634 L2205.58 170.634 Q2207.34 170.634 2208.31 169.8 Q2209.29 168.967 2210.47 165.865 L2211.23 163.921 L2200.74 138.412 L2205.26 138.412 L2213.36 158.689 L2221.46 138.412 L2225.98 138.412 L2214.59 166.745 Z\" fill=\"#ffffff\" fill-rule=\"nonzero\" fill-opacity=\"1\" /><path clip-path=\"url(#clip730)\" d=\"M2233.27 160.402 L2240.91 160.402 L2240.91 134.037 L2232.6 135.703 L2232.6 131.444 L2240.86 129.778 L2245.54 129.778 L2245.54 160.402 L2253.17 160.402 L2253.17 164.338 L2233.27 164.338 L2233.27 160.402 Z\" fill=\"#ffffff\" fill-rule=\"nonzero\" fill-opacity=\"1\" /></svg>\n"
      ],
      "text/html": [
       "<?xml version=\"1.0\" encoding=\"utf-8\"?>\n",
       "<svg xmlns=\"http://www.w3.org/2000/svg\" xmlns:xlink=\"http://www.w3.org/1999/xlink\" width=\"600\" height=\"400\" viewBox=\"0 0 2400 1600\">\n",
       "<defs>\n",
       "  <clipPath id=\"clip780\">\n",
       "    <rect x=\"0\" y=\"0\" width=\"2400\" height=\"1600\"/>\n",
       "  </clipPath>\n",
       "</defs>\n",
       "<path clip-path=\"url(#clip780)\" d=\"M0 1600 L2400 1600 L2400 8.88178e-14 L0 8.88178e-14  Z\" fill=\"#363d46\" fill-rule=\"evenodd\" fill-opacity=\"1\"/>\n",
       "<defs>\n",
       "  <clipPath id=\"clip781\">\n",
       "    <rect x=\"480\" y=\"0\" width=\"1681\" height=\"1600\"/>\n",
       "  </clipPath>\n",
       "</defs>\n",
       "<path clip-path=\"url(#clip780)\" d=\"M112.177 1486.45 L2352.76 1486.45 L2352.76 47.2441 L112.177 47.2441  Z\" fill=\"#30343b\" fill-rule=\"evenodd\" fill-opacity=\"1\"/>\n",
       "<defs>\n",
       "  <clipPath id=\"clip782\">\n",
       "    <rect x=\"112\" y=\"47\" width=\"2242\" height=\"1440\"/>\n",
       "  </clipPath>\n",
       "</defs>\n",
       "<polyline clip-path=\"url(#clip782)\" style=\"stroke:#adb2b7; stroke-linecap:round; stroke-linejoin:round; stroke-width:2; stroke-opacity:0.1; fill:none\" points=\"301.19,1486.45 301.19,47.2441 \"/>\n",
       "<polyline clip-path=\"url(#clip782)\" style=\"stroke:#adb2b7; stroke-linecap:round; stroke-linejoin:round; stroke-width:2; stroke-opacity:0.1; fill:none\" points=\"618.822,1486.45 618.822,47.2441 \"/>\n",
       "<polyline clip-path=\"url(#clip782)\" style=\"stroke:#adb2b7; stroke-linecap:round; stroke-linejoin:round; stroke-width:2; stroke-opacity:0.1; fill:none\" points=\"936.454,1486.45 936.454,47.2441 \"/>\n",
       "<polyline clip-path=\"url(#clip782)\" style=\"stroke:#adb2b7; stroke-linecap:round; stroke-linejoin:round; stroke-width:2; stroke-opacity:0.1; fill:none\" points=\"1254.09,1486.45 1254.09,47.2441 \"/>\n",
       "<polyline clip-path=\"url(#clip782)\" style=\"stroke:#adb2b7; stroke-linecap:round; stroke-linejoin:round; stroke-width:2; stroke-opacity:0.1; fill:none\" points=\"1571.72,1486.45 1571.72,47.2441 \"/>\n",
       "<polyline clip-path=\"url(#clip782)\" style=\"stroke:#adb2b7; stroke-linecap:round; stroke-linejoin:round; stroke-width:2; stroke-opacity:0.1; fill:none\" points=\"1889.35,1486.45 1889.35,47.2441 \"/>\n",
       "<polyline clip-path=\"url(#clip782)\" style=\"stroke:#adb2b7; stroke-linecap:round; stroke-linejoin:round; stroke-width:2; stroke-opacity:0.1; fill:none\" points=\"2206.98,1486.45 2206.98,47.2441 \"/>\n",
       "<polyline clip-path=\"url(#clip782)\" style=\"stroke:#adb2b7; stroke-linecap:round; stroke-linejoin:round; stroke-width:2; stroke-opacity:0.1; fill:none\" points=\"112.177,1445.72 2352.76,1445.72 \"/>\n",
       "<polyline clip-path=\"url(#clip782)\" style=\"stroke:#adb2b7; stroke-linecap:round; stroke-linejoin:round; stroke-width:2; stroke-opacity:0.1; fill:none\" points=\"112.177,1198.41 2352.76,1198.41 \"/>\n",
       "<polyline clip-path=\"url(#clip782)\" style=\"stroke:#adb2b7; stroke-linecap:round; stroke-linejoin:round; stroke-width:2; stroke-opacity:0.1; fill:none\" points=\"112.177,951.11 2352.76,951.11 \"/>\n",
       "<polyline clip-path=\"url(#clip782)\" style=\"stroke:#adb2b7; stroke-linecap:round; stroke-linejoin:round; stroke-width:2; stroke-opacity:0.1; fill:none\" points=\"112.177,703.807 2352.76,703.807 \"/>\n",
       "<polyline clip-path=\"url(#clip782)\" style=\"stroke:#adb2b7; stroke-linecap:round; stroke-linejoin:round; stroke-width:2; stroke-opacity:0.1; fill:none\" points=\"112.177,456.504 2352.76,456.504 \"/>\n",
       "<polyline clip-path=\"url(#clip782)\" style=\"stroke:#adb2b7; stroke-linecap:round; stroke-linejoin:round; stroke-width:2; stroke-opacity:0.1; fill:none\" points=\"112.177,209.2 2352.76,209.2 \"/>\n",
       "<polyline clip-path=\"url(#clip780)\" style=\"stroke:#adb2b7; stroke-linecap:round; stroke-linejoin:round; stroke-width:4; stroke-opacity:1; fill:none\" points=\"112.177,1486.45 2352.76,1486.45 \"/>\n",
       "<polyline clip-path=\"url(#clip780)\" style=\"stroke:#adb2b7; stroke-linecap:round; stroke-linejoin:round; stroke-width:4; stroke-opacity:1; fill:none\" points=\"301.19,1486.45 301.19,1467.55 \"/>\n",
       "<polyline clip-path=\"url(#clip780)\" style=\"stroke:#adb2b7; stroke-linecap:round; stroke-linejoin:round; stroke-width:4; stroke-opacity:1; fill:none\" points=\"618.822,1486.45 618.822,1467.55 \"/>\n",
       "<polyline clip-path=\"url(#clip780)\" style=\"stroke:#adb2b7; stroke-linecap:round; stroke-linejoin:round; stroke-width:4; stroke-opacity:1; fill:none\" points=\"936.454,1486.45 936.454,1467.55 \"/>\n",
       "<polyline clip-path=\"url(#clip780)\" style=\"stroke:#adb2b7; stroke-linecap:round; stroke-linejoin:round; stroke-width:4; stroke-opacity:1; fill:none\" points=\"1254.09,1486.45 1254.09,1467.55 \"/>\n",
       "<polyline clip-path=\"url(#clip780)\" style=\"stroke:#adb2b7; stroke-linecap:round; stroke-linejoin:round; stroke-width:4; stroke-opacity:1; fill:none\" points=\"1571.72,1486.45 1571.72,1467.55 \"/>\n",
       "<polyline clip-path=\"url(#clip780)\" style=\"stroke:#adb2b7; stroke-linecap:round; stroke-linejoin:round; stroke-width:4; stroke-opacity:1; fill:none\" points=\"1889.35,1486.45 1889.35,1467.55 \"/>\n",
       "<polyline clip-path=\"url(#clip780)\" style=\"stroke:#adb2b7; stroke-linecap:round; stroke-linejoin:round; stroke-width:4; stroke-opacity:1; fill:none\" points=\"2206.98,1486.45 2206.98,1467.55 \"/>\n",
       "<path clip-path=\"url(#clip780)\" d=\"M279.025 1517.37 Q275.414 1517.37 273.586 1520.93 Q271.78 1524.47 271.78 1531.6 Q271.78 1538.71 273.586 1542.27 Q275.414 1545.82 279.025 1545.82 Q282.66 1545.82 284.465 1542.27 Q286.294 1538.71 286.294 1531.6 Q286.294 1524.47 284.465 1520.93 Q282.66 1517.37 279.025 1517.37 M279.025 1513.66 Q284.835 1513.66 287.891 1518.27 Q290.97 1522.85 290.97 1531.6 Q290.97 1540.33 287.891 1544.94 Q284.835 1549.52 279.025 1549.52 Q273.215 1549.52 270.136 1544.94 Q267.081 1540.33 267.081 1531.6 Q267.081 1522.85 270.136 1518.27 Q273.215 1513.66 279.025 1513.66 Z\" fill=\"#ffffff\" fill-rule=\"nonzero\" fill-opacity=\"1\" /><path clip-path=\"url(#clip780)\" d=\"M299.187 1542.97 L304.071 1542.97 L304.071 1548.85 L299.187 1548.85 L299.187 1542.97 Z\" fill=\"#ffffff\" fill-rule=\"nonzero\" fill-opacity=\"1\" /><path clip-path=\"url(#clip780)\" d=\"M313.076 1514.29 L335.298 1514.29 L335.298 1516.28 L322.752 1548.85 L317.868 1548.85 L329.673 1518.22 L313.076 1518.22 L313.076 1514.29 Z\" fill=\"#ffffff\" fill-rule=\"nonzero\" fill-opacity=\"1\" /><path clip-path=\"url(#clip780)\" d=\"M596.253 1517.37 Q592.642 1517.37 590.813 1520.93 Q589.007 1524.47 589.007 1531.6 Q589.007 1538.71 590.813 1542.27 Q592.642 1545.82 596.253 1545.82 Q599.887 1545.82 601.692 1542.27 Q603.521 1538.71 603.521 1531.6 Q603.521 1524.47 601.692 1520.93 Q599.887 1517.37 596.253 1517.37 M596.253 1513.66 Q602.063 1513.66 605.118 1518.27 Q608.197 1522.85 608.197 1531.6 Q608.197 1540.33 605.118 1544.94 Q602.063 1549.52 596.253 1549.52 Q590.443 1549.52 587.364 1544.94 Q584.308 1540.33 584.308 1531.6 Q584.308 1522.85 587.364 1518.27 Q590.443 1513.66 596.253 1513.66 Z\" fill=\"#ffffff\" fill-rule=\"nonzero\" fill-opacity=\"1\" /><path clip-path=\"url(#clip780)\" d=\"M616.415 1542.97 L621.299 1542.97 L621.299 1548.85 L616.415 1548.85 L616.415 1542.97 Z\" fill=\"#ffffff\" fill-rule=\"nonzero\" fill-opacity=\"1\" /><path clip-path=\"url(#clip780)\" d=\"M641.484 1532.44 Q638.151 1532.44 636.229 1534.22 Q634.331 1536 634.331 1539.13 Q634.331 1542.25 636.229 1544.03 Q638.151 1545.82 641.484 1545.82 Q644.817 1545.82 646.739 1544.03 Q648.66 1542.23 648.66 1539.13 Q648.66 1536 646.739 1534.22 Q644.84 1532.44 641.484 1532.44 M636.808 1530.45 Q633.799 1529.7 632.109 1527.64 Q630.442 1525.58 630.442 1522.62 Q630.442 1518.48 633.382 1516.07 Q636.345 1513.66 641.484 1513.66 Q646.646 1513.66 649.586 1516.07 Q652.526 1518.48 652.526 1522.62 Q652.526 1525.58 650.836 1527.64 Q649.169 1529.7 646.183 1530.45 Q649.563 1531.23 651.438 1533.52 Q653.336 1535.82 653.336 1539.13 Q653.336 1544.15 650.257 1546.83 Q647.201 1549.52 641.484 1549.52 Q635.766 1549.52 632.688 1546.83 Q629.632 1544.15 629.632 1539.13 Q629.632 1535.82 631.53 1533.52 Q633.428 1531.23 636.808 1530.45 M635.095 1523.06 Q635.095 1525.75 636.762 1527.25 Q638.452 1528.76 641.484 1528.76 Q644.493 1528.76 646.183 1527.25 Q647.896 1525.75 647.896 1523.06 Q647.896 1520.38 646.183 1518.87 Q644.493 1517.37 641.484 1517.37 Q638.452 1517.37 636.762 1518.87 Q635.095 1520.38 635.095 1523.06 Z\" fill=\"#ffffff\" fill-rule=\"nonzero\" fill-opacity=\"1\" /><path clip-path=\"url(#clip780)\" d=\"M913.931 1517.37 Q910.32 1517.37 908.492 1520.93 Q906.686 1524.47 906.686 1531.6 Q906.686 1538.71 908.492 1542.27 Q910.32 1545.82 913.931 1545.82 Q917.566 1545.82 919.371 1542.27 Q921.2 1538.71 921.2 1531.6 Q921.2 1524.47 919.371 1520.93 Q917.566 1517.37 913.931 1517.37 M913.931 1513.66 Q919.742 1513.66 922.797 1518.27 Q925.876 1522.85 925.876 1531.6 Q925.876 1540.33 922.797 1544.94 Q919.742 1549.52 913.931 1549.52 Q908.121 1549.52 905.043 1544.94 Q901.987 1540.33 901.987 1531.6 Q901.987 1522.85 905.043 1518.27 Q908.121 1513.66 913.931 1513.66 Z\" fill=\"#ffffff\" fill-rule=\"nonzero\" fill-opacity=\"1\" /><path clip-path=\"url(#clip780)\" d=\"M934.093 1542.97 L938.978 1542.97 L938.978 1548.85 L934.093 1548.85 L934.093 1542.97 Z\" fill=\"#ffffff\" fill-rule=\"nonzero\" fill-opacity=\"1\" /><path clip-path=\"url(#clip780)\" d=\"M949.302 1548.13 L949.302 1543.87 Q951.061 1544.7 952.866 1545.14 Q954.672 1545.58 956.408 1545.58 Q961.038 1545.58 963.468 1542.48 Q965.922 1539.36 966.269 1533.01 Q964.927 1535.01 962.866 1536.07 Q960.806 1537.13 958.306 1537.13 Q953.121 1537.13 950.089 1534.01 Q947.079 1530.86 947.079 1525.42 Q947.079 1520.1 950.228 1516.88 Q953.376 1513.66 958.607 1513.66 Q964.602 1513.66 967.751 1518.27 Q970.922 1522.85 970.922 1531.6 Q970.922 1539.77 967.033 1544.66 Q963.167 1549.52 956.616 1549.52 Q954.857 1549.52 953.052 1549.17 Q951.246 1548.82 949.302 1548.13 M958.607 1533.48 Q961.755 1533.48 963.584 1531.32 Q965.436 1529.17 965.436 1525.42 Q965.436 1521.7 963.584 1519.54 Q961.755 1517.37 958.607 1517.37 Q955.459 1517.37 953.607 1519.54 Q951.778 1521.7 951.778 1525.42 Q951.778 1529.17 953.607 1531.32 Q955.459 1533.48 958.607 1533.48 Z\" fill=\"#ffffff\" fill-rule=\"nonzero\" fill-opacity=\"1\" /><path clip-path=\"url(#clip780)\" d=\"M1221.24 1544.91 L1228.88 1544.91 L1228.88 1518.55 L1220.57 1520.21 L1220.57 1515.95 L1228.83 1514.29 L1233.51 1514.29 L1233.51 1544.91 L1241.15 1544.91 L1241.15 1548.85 L1221.24 1548.85 L1221.24 1544.91 Z\" fill=\"#ffffff\" fill-rule=\"nonzero\" fill-opacity=\"1\" /><path clip-path=\"url(#clip780)\" d=\"M1250.59 1542.97 L1255.48 1542.97 L1255.48 1548.85 L1250.59 1548.85 L1250.59 1542.97 Z\" fill=\"#ffffff\" fill-rule=\"nonzero\" fill-opacity=\"1\" /><path clip-path=\"url(#clip780)\" d=\"M1275.66 1517.37 Q1272.05 1517.37 1270.22 1520.93 Q1268.42 1524.47 1268.42 1531.6 Q1268.42 1538.71 1270.22 1542.27 Q1272.05 1545.82 1275.66 1545.82 Q1279.3 1545.82 1281.1 1542.27 Q1282.93 1538.71 1282.93 1531.6 Q1282.93 1524.47 1281.1 1520.93 Q1279.3 1517.37 1275.66 1517.37 M1275.66 1513.66 Q1281.47 1513.66 1284.53 1518.27 Q1287.61 1522.85 1287.61 1531.6 Q1287.61 1540.33 1284.53 1544.94 Q1281.47 1549.52 1275.66 1549.52 Q1269.85 1549.52 1266.77 1544.94 Q1263.72 1540.33 1263.72 1531.6 Q1263.72 1522.85 1266.77 1518.27 Q1269.85 1513.66 1275.66 1513.66 Z\" fill=\"#ffffff\" fill-rule=\"nonzero\" fill-opacity=\"1\" /><path clip-path=\"url(#clip780)\" d=\"M1539.49 1544.91 L1547.12 1544.91 L1547.12 1518.55 L1538.81 1520.21 L1538.81 1515.95 L1547.08 1514.29 L1551.75 1514.29 L1551.75 1544.91 L1559.39 1544.91 L1559.39 1548.85 L1539.49 1548.85 L1539.49 1544.91 Z\" fill=\"#ffffff\" fill-rule=\"nonzero\" fill-opacity=\"1\" /><path clip-path=\"url(#clip780)\" d=\"M1568.84 1542.97 L1573.72 1542.97 L1573.72 1548.85 L1568.84 1548.85 L1568.84 1542.97 Z\" fill=\"#ffffff\" fill-rule=\"nonzero\" fill-opacity=\"1\" /><path clip-path=\"url(#clip780)\" d=\"M1584.72 1544.91 L1592.36 1544.91 L1592.36 1518.55 L1584.05 1520.21 L1584.05 1515.95 L1592.31 1514.29 L1596.99 1514.29 L1596.99 1544.91 L1604.62 1544.91 L1604.62 1548.85 L1584.72 1548.85 L1584.72 1544.91 Z\" fill=\"#ffffff\" fill-rule=\"nonzero\" fill-opacity=\"1\" /><path clip-path=\"url(#clip780)\" d=\"M1857.3 1544.91 L1864.94 1544.91 L1864.94 1518.55 L1856.63 1520.21 L1856.63 1515.95 L1864.9 1514.29 L1869.57 1514.29 L1869.57 1544.91 L1877.21 1544.91 L1877.21 1548.85 L1857.3 1548.85 L1857.3 1544.91 Z\" fill=\"#ffffff\" fill-rule=\"nonzero\" fill-opacity=\"1\" /><path clip-path=\"url(#clip780)\" d=\"M1886.66 1542.97 L1891.54 1542.97 L1891.54 1548.85 L1886.66 1548.85 L1886.66 1542.97 Z\" fill=\"#ffffff\" fill-rule=\"nonzero\" fill-opacity=\"1\" /><path clip-path=\"url(#clip780)\" d=\"M1905.75 1544.91 L1922.07 1544.91 L1922.07 1548.85 L1900.13 1548.85 L1900.13 1544.91 Q1902.79 1542.16 1907.37 1537.53 Q1911.98 1532.88 1913.16 1531.53 Q1915.41 1529.01 1916.28 1527.27 Q1917.19 1525.51 1917.19 1523.82 Q1917.19 1521.07 1915.24 1519.33 Q1913.32 1517.6 1910.22 1517.6 Q1908.02 1517.6 1905.57 1518.36 Q1903.14 1519.13 1900.36 1520.68 L1900.36 1515.95 Q1903.18 1514.82 1905.64 1514.24 Q1908.09 1513.66 1910.13 1513.66 Q1915.5 1513.66 1918.69 1516.35 Q1921.89 1519.03 1921.89 1523.52 Q1921.89 1525.65 1921.08 1527.57 Q1920.29 1529.47 1918.18 1532.07 Q1917.6 1532.74 1914.5 1535.95 Q1911.4 1539.15 1905.75 1544.91 Z\" fill=\"#ffffff\" fill-rule=\"nonzero\" fill-opacity=\"1\" /><path clip-path=\"url(#clip780)\" d=\"M2174.46 1544.91 L2182.1 1544.91 L2182.1 1518.55 L2173.79 1520.21 L2173.79 1515.95 L2182.05 1514.29 L2186.73 1514.29 L2186.73 1544.91 L2194.37 1544.91 L2194.37 1548.85 L2174.46 1548.85 L2174.46 1544.91 Z\" fill=\"#ffffff\" fill-rule=\"nonzero\" fill-opacity=\"1\" /><path clip-path=\"url(#clip780)\" d=\"M2203.81 1542.97 L2208.7 1542.97 L2208.7 1548.85 L2203.81 1548.85 L2203.81 1542.97 Z\" fill=\"#ffffff\" fill-rule=\"nonzero\" fill-opacity=\"1\" /><path clip-path=\"url(#clip780)\" d=\"M2233.05 1530.21 Q2236.41 1530.93 2238.28 1533.2 Q2240.18 1535.47 2240.18 1538.8 Q2240.18 1543.92 2236.66 1546.72 Q2233.14 1549.52 2226.66 1549.52 Q2224.48 1549.52 2222.17 1549.08 Q2219.88 1548.66 2217.42 1547.81 L2217.42 1543.29 Q2219.37 1544.43 2221.68 1545.01 Q2224 1545.58 2226.52 1545.58 Q2230.92 1545.58 2233.21 1543.85 Q2235.53 1542.11 2235.53 1538.8 Q2235.53 1535.75 2233.37 1534.03 Q2231.24 1532.3 2227.42 1532.3 L2223.4 1532.3 L2223.4 1528.45 L2227.61 1528.45 Q2231.06 1528.45 2232.89 1527.09 Q2234.72 1525.7 2234.72 1523.11 Q2234.72 1520.45 2232.82 1519.03 Q2230.94 1517.6 2227.42 1517.6 Q2225.5 1517.6 2223.3 1518.01 Q2221.1 1518.43 2218.47 1519.31 L2218.47 1515.14 Q2221.13 1514.4 2223.44 1514.03 Q2225.78 1513.66 2227.84 1513.66 Q2233.16 1513.66 2236.27 1516.09 Q2239.37 1518.5 2239.37 1522.62 Q2239.37 1525.49 2237.72 1527.48 Q2236.08 1529.45 2233.05 1530.21 Z\" fill=\"#ffffff\" fill-rule=\"nonzero\" fill-opacity=\"1\" /><polyline clip-path=\"url(#clip780)\" style=\"stroke:#adb2b7; stroke-linecap:round; stroke-linejoin:round; stroke-width:4; stroke-opacity:1; fill:none\" points=\"112.177,1486.45 112.177,47.2441 \"/>\n",
       "<polyline clip-path=\"url(#clip780)\" style=\"stroke:#adb2b7; stroke-linecap:round; stroke-linejoin:round; stroke-width:4; stroke-opacity:1; fill:none\" points=\"112.177,1445.72 131.075,1445.72 \"/>\n",
       "<polyline clip-path=\"url(#clip780)\" style=\"stroke:#adb2b7; stroke-linecap:round; stroke-linejoin:round; stroke-width:4; stroke-opacity:1; fill:none\" points=\"112.177,1198.41 131.075,1198.41 \"/>\n",
       "<polyline clip-path=\"url(#clip780)\" style=\"stroke:#adb2b7; stroke-linecap:round; stroke-linejoin:round; stroke-width:4; stroke-opacity:1; fill:none\" points=\"112.177,951.11 131.075,951.11 \"/>\n",
       "<polyline clip-path=\"url(#clip780)\" style=\"stroke:#adb2b7; stroke-linecap:round; stroke-linejoin:round; stroke-width:4; stroke-opacity:1; fill:none\" points=\"112.177,703.807 131.075,703.807 \"/>\n",
       "<polyline clip-path=\"url(#clip780)\" style=\"stroke:#adb2b7; stroke-linecap:round; stroke-linejoin:round; stroke-width:4; stroke-opacity:1; fill:none\" points=\"112.177,456.504 131.075,456.504 \"/>\n",
       "<polyline clip-path=\"url(#clip780)\" style=\"stroke:#adb2b7; stroke-linecap:round; stroke-linejoin:round; stroke-width:4; stroke-opacity:1; fill:none\" points=\"112.177,209.2 131.075,209.2 \"/>\n",
       "<path clip-path=\"url(#clip780)\" d=\"M64.2328 1431.51 Q60.6217 1431.51 58.793 1435.08 Q56.9875 1438.62 56.9875 1445.75 Q56.9875 1452.86 58.793 1456.42 Q60.6217 1459.96 64.2328 1459.96 Q67.867 1459.96 69.6726 1456.42 Q71.5013 1452.86 71.5013 1445.75 Q71.5013 1438.62 69.6726 1435.08 Q67.867 1431.51 64.2328 1431.51 M64.2328 1427.81 Q70.0429 1427.81 73.0985 1432.42 Q76.1772 1437 76.1772 1445.75 Q76.1772 1454.48 73.0985 1459.08 Q70.0429 1463.67 64.2328 1463.67 Q58.4226 1463.67 55.344 1459.08 Q52.2884 1454.48 52.2884 1445.75 Q52.2884 1437 55.344 1432.42 Q58.4226 1427.81 64.2328 1427.81 Z\" fill=\"#ffffff\" fill-rule=\"nonzero\" fill-opacity=\"1\" /><path clip-path=\"url(#clip780)\" d=\"M56.2699 1211.76 L63.9087 1211.76 L63.9087 1185.39 L55.5986 1187.06 L55.5986 1182.8 L63.8624 1181.13 L68.5383 1181.13 L68.5383 1211.76 L76.1772 1211.76 L76.1772 1215.69 L56.2699 1215.69 L56.2699 1211.76 Z\" fill=\"#ffffff\" fill-rule=\"nonzero\" fill-opacity=\"1\" /><path clip-path=\"url(#clip780)\" d=\"M59.8578 964.455 L76.1772 964.455 L76.1772 968.39 L54.2328 968.39 L54.2328 964.455 Q56.8949 961.7 61.4782 957.07 Q66.0846 952.418 67.2652 951.075 Q69.5105 948.552 70.3902 946.816 Q71.2929 945.057 71.2929 943.367 Q71.2929 940.612 69.3485 938.876 Q67.4272 937.14 64.3254 937.14 Q62.1263 937.14 59.6726 937.904 Q57.2421 938.668 54.4643 940.219 L54.4643 935.497 Q57.2884 934.362 59.7421 933.784 Q62.1958 933.205 64.2328 933.205 Q69.6031 933.205 72.7976 935.89 Q75.992 938.575 75.992 943.066 Q75.992 945.196 75.1818 947.117 Q74.3948 949.015 72.2883 951.608 Q71.7096 952.279 68.6078 955.496 Q65.5059 958.691 59.8578 964.455 Z\" fill=\"#ffffff\" fill-rule=\"nonzero\" fill-opacity=\"1\" /><path clip-path=\"url(#clip780)\" d=\"M69.0476 702.453 Q72.404 703.17 74.279 705.439 Q76.1772 707.707 76.1772 711.04 Q76.1772 716.156 72.6587 718.957 Q69.1402 721.758 62.6587 721.758 Q60.4828 721.758 58.168 721.318 Q55.8764 720.902 53.4227 720.045 L53.4227 715.531 Q55.3671 716.665 57.6819 717.244 Q59.9967 717.823 62.5198 717.823 Q66.918 717.823 69.2096 716.087 Q71.5244 714.351 71.5244 711.04 Q71.5244 707.985 69.3717 706.272 Q67.242 704.536 63.4226 704.536 L59.3949 704.536 L59.3949 700.693 L63.6078 700.693 Q67.0569 700.693 68.8855 699.328 Q70.7142 697.939 70.7142 695.346 Q70.7142 692.684 68.8161 691.272 Q66.9411 689.837 63.4226 689.837 Q61.5013 689.837 59.3023 690.254 Q57.1032 690.67 54.4643 691.55 L54.4643 687.383 Q57.1264 686.642 59.4412 686.272 Q61.7791 685.902 63.8393 685.902 Q69.1633 685.902 72.2652 688.332 Q75.367 690.74 75.367 694.86 Q75.367 697.73 73.7235 699.721 Q72.08 701.689 69.0476 702.453 Z\" fill=\"#ffffff\" fill-rule=\"nonzero\" fill-opacity=\"1\" /><path clip-path=\"url(#clip780)\" d=\"M66.5939 443.298 L54.7884 461.747 L66.5939 461.747 L66.5939 443.298 M65.367 439.224 L71.2466 439.224 L71.2466 461.747 L76.1772 461.747 L76.1772 465.635 L71.2466 465.635 L71.2466 473.784 L66.5939 473.784 L66.5939 465.635 L50.9921 465.635 L50.9921 461.122 L65.367 439.224 Z\" fill=\"#ffffff\" fill-rule=\"nonzero\" fill-opacity=\"1\" /><path clip-path=\"url(#clip780)\" d=\"M55.2745 191.92 L73.6309 191.92 L73.6309 195.856 L59.5569 195.856 L59.5569 204.328 Q60.5754 203.981 61.5939 203.819 Q62.6124 203.633 63.6309 203.633 Q69.418 203.633 72.7976 206.805 Q76.1772 209.976 76.1772 215.393 Q76.1772 220.971 72.705 224.073 Q69.2328 227.152 62.9134 227.152 Q60.7374 227.152 58.4689 226.781 Q56.2236 226.411 53.8162 225.67 L53.8162 220.971 Q55.8995 222.105 58.1217 222.661 Q60.3439 223.217 62.8208 223.217 Q66.8254 223.217 69.1633 221.11 Q71.5013 219.004 71.5013 215.393 Q71.5013 211.781 69.1633 209.675 Q66.8254 207.568 62.8208 207.568 Q60.9458 207.568 59.0708 207.985 Q57.2189 208.402 55.2745 209.281 L55.2745 191.92 Z\" fill=\"#ffffff\" fill-rule=\"nonzero\" fill-opacity=\"1\" /><polyline clip-path=\"url(#clip782)\" style=\"stroke:#fe4365; stroke-linecap:round; stroke-linejoin:round; stroke-width:4; stroke-opacity:1; fill:none\" points=\"175.59,1445.72 186.212,1445.71 196.834,1445.71 207.455,1445.71 218.077,1445.69 228.699,1445.66 239.321,1445.59 249.943,1445.49 260.565,1445.35 271.187,1445.17 281.809,1444.97 292.43,1444.78 303.052,1444.62 313.674,1444.48 324.296,1444.34 334.918,1444.15 345.54,1443.86 356.162,1443.45 366.784,1442.97 377.405,1442.44 388.027,1441.91 398.649,1441.39 409.271,1440.85 419.893,1440.28 430.515,1439.67 441.137,1439.05 451.759,1438.51 462.38,1438.11 473.002,1437.86 483.624,1437.67 494.246,1437.36 504.868,1436.72 515.49,1435.58 526.112,1433.86 536.734,1431.58 547.355,1428.83 557.977,1425.78 568.599,1422.6 579.221,1419.48 589.843,1416.59 600.465,1414.07 611.087,1411.88 621.709,1409.8 632.33,1407.39 642.952,1404.12 653.574,1399.49 664.196,1393.25 674.818,1385.5 685.44,1376.72 696.062,1367.58 706.684,1358.73 717.306,1350.47 727.927,1342.57 738.549,1334.36 749.171,1324.92 759.793,1313.52 770.415,1299.85 781.037,1284.14 791.659,1267.03 802.281,1249.34 812.902,1231.67 823.524,1214.15 834.146,1196.25 844.768,1176.95 855.39,1155.16 866.012,1130.08 876.634,1101.59 887.256,1070.26 897.877,1037.18 908.499,1003.68 919.121,970.967 929.743,939.755 940.365,910 950.987,880.912 961.609,851.288 972.231,820.037 982.852,786.569 993.474,750.827 1004.1,712.975 1014.72,673.038 1025.34,630.826 1035.96,586.258 1046.58,539.921 1057.21,493.431 1067.83,449.266 1078.45,409.993 1089.07,377.241 1099.69,350.951 1110.31,329.348 1120.94,309.725 1131.56,289.704 1142.18,268.373 1152.8,246.66 1163.42,226.717 1174.05,210.589 1184.67,198.949 1195.29,190.628 1205.91,183.191 1216.53,174.156 1227.16,162.141 1237.78,147.349 1248.4,131.278 1259.02,115.941 1269.64,103.097 1280.26,93.8372 1290.89,88.6776 1301.51,87.9763 1312.13,92.3425 1322.75,102.706 1333.37,119.924 1344,144.114 1354.62,174.145 1365.24,207.7 1375.86,242.008 1386.48,274.891 1397.11,305.543 1407.73,334.611 1418.35,363.603 1428.97,394.063 1439.59,426.959 1450.22,462.528 1460.84,500.46 1471.46,540.197 1482.08,581.156 1492.7,622.8 1503.32,664.59 1513.95,705.901 1524.57,746.019 1535.19,784.277 1545.81,820.294 1556.43,854.196 1567.06,886.644 1577.68,918.597 1588.3,950.901 1598.92,983.934 1609.54,1017.51 1620.17,1051.04 1630.79,1083.84 1641.41,1115.37 1652.03,1145.24 1662.65,1173.14 1673.27,1198.71 1683.9,1221.57 1694.52,1241.44 1705.14,1258.32 1715.76,1272.54 1726.38,1284.77 1737.01,1295.77 1747.63,1306.21 1758.25,1316.55 1768.87,1327.01 1779.49,1337.64 1790.12,1348.34 1800.74,1358.92 1811.36,1369.12 1821.98,1378.69 1832.6,1387.41 1843.22,1395.19 1853.85,1402.05 1864.47,1408.05 1875.09,1413.3 1885.71,1417.91 1896.33,1421.95 1906.96,1425.5 1917.58,1428.6 1928.2,1431.29 1938.82,1433.63 1949.44,1435.66 1960.07,1437.41 1970.69,1438.86 1981.31,1440.01 1991.93,1440.88 2002.55,1441.49 2013.17,1441.94 2023.8,1442.28 2034.42,1442.6 2045.04,1442.92 2055.66,1443.25 2066.28,1443.56 2076.91,1443.82 2087.53,1444.03 2098.15,1444.18 2108.77,1444.29 2119.39,1444.37 2130.02,1444.42 2140.64,1444.47 2151.26,1444.53 2161.88,1444.63 2172.5,1444.78 2183.12,1444.96 2193.75,1445.17 2204.37,1445.35 2214.99,1445.49 2225.61,1445.59 2236.23,1445.66 2246.86,1445.69 2257.48,1445.71 2268.1,1445.71 2278.72,1445.71 2289.34,1445.72 \"/>\n",
       "<path clip-path=\"url(#clip780)\" d=\"M2001.58 198.898 L2278.07 198.898 L2278.07 95.2176 L2001.58 95.2176  Z\" fill=\"#363d46\" fill-rule=\"evenodd\" fill-opacity=\"1\"/>\n",
       "<polyline clip-path=\"url(#clip780)\" style=\"stroke:#ffffff; stroke-linecap:round; stroke-linejoin:round; stroke-width:4; stroke-opacity:1; fill:none\" points=\"2001.58,198.898 2278.07,198.898 2278.07,95.2176 2001.58,95.2176 2001.58,198.898 \"/>\n",
       "<polyline clip-path=\"url(#clip780)\" style=\"stroke:#fe4365; stroke-linecap:round; stroke-linejoin:round; stroke-width:4; stroke-opacity:1; fill:none\" points=\"2026.48,147.058 2175.85,147.058 \"/>\n",
       "<path clip-path=\"url(#clip780)\" d=\"M2214.59 166.745 Q2212.78 171.375 2211.07 172.787 Q2209.36 174.199 2206.49 174.199 L2203.08 174.199 L2203.08 170.634 L2205.58 170.634 Q2207.34 170.634 2208.31 169.8 Q2209.29 168.967 2210.47 165.865 L2211.23 163.921 L2200.74 138.412 L2205.26 138.412 L2213.36 158.689 L2221.46 138.412 L2225.98 138.412 L2214.59 166.745 Z\" fill=\"#ffffff\" fill-rule=\"nonzero\" fill-opacity=\"1\" /><path clip-path=\"url(#clip780)\" d=\"M2233.27 160.402 L2240.91 160.402 L2240.91 134.037 L2232.6 135.703 L2232.6 131.444 L2240.86 129.778 L2245.54 129.778 L2245.54 160.402 L2253.17 160.402 L2253.17 164.338 L2233.27 164.338 L2233.27 160.402 Z\" fill=\"#ffffff\" fill-rule=\"nonzero\" fill-opacity=\"1\" /></svg>\n"
      ]
     },
     "execution_count": 53,
     "metadata": {},
     "output_type": "execute_result"
    }
   ],
   "source": [
    "let\n",
    "\n",
    "    # method = gkl_divergence();\n",
    "    \n",
    "    distance_array = Array{Float64,1}();\n",
    "    for i ∈ 1:number_of_paths\n",
    "        R̂ = out_of_sample_decoded_archive[:,i]; # simulated return\n",
    "        r = corr_dist(R̂,Rᵢ);\n",
    "        push!(distance_array,r);\n",
    "    end\n",
    "\n",
    "    density(distance_array);\n",
    "end"
   ]
  },
  {
   "cell_type": "code",
   "execution_count": 54,
   "id": "88240bfd-a627-4522-8e66-c4b6dccad3b4",
   "metadata": {},
   "outputs": [
    {
     "data": {
      "text/plain": [
       "\"/Users/jeffreyvarner/Desktop/julia_work/CHEME-5660-CourseRepository-Fall-2024/lectures/week-13/L13a/figs/Fig-SPY-ExcessGrowthRate-TimeSeries-Daily-HMM-BB.svg\""
      ]
     },
     "execution_count": 54,
     "metadata": {},
     "output_type": "execute_result"
    }
   ],
   "source": [
    "let\n",
    "    # generate a random index -\n",
    "    random_index = rand(1:number_of_paths);\n",
    "    number_of_steps = length(Rᵢ);\n",
    "    # random_index = 12\n",
    "\n",
    "    L = number_of_steps;\n",
    "    τ  = range(0,step=1,stop=(L-1));\n",
    "    AC_observed = autocor(abs.(Rᵢ), τ); \n",
    "    AC_outofsampledata = autocor(abs.(out_of_sample_decoded_archive[:,random_index]), τ);\n",
    "\n",
    "    # plot(autocor(abs.(Rᵢ), (1:(number_of_steps-1) |> collect)), label=\"Observed\", c=:red, \n",
    "    #     bg=\"gray95\", background_color_outside=\"white\", framestyle = :box, fg_legend = :transparent, linetype=:steppost)\n",
    "    \n",
    "    plot(AC_observed, label=\"Observed\", linetype=:steppost, foreground_color_axis=:white, \n",
    "        foreground_color_grid=\"white\", framestyle = :box, bg = :black,\n",
    "        foreground_color_border = :white, legend_font_color = :white, legend_background_color=my_color_palette[4],\n",
    "        fg_legend = :transparent, foreground_color=:white, foreground_color_text=:white,\n",
    "        yguidefontcolor=:white, xguidefontcolor=:white, legend=:topright, c=my_color_palette[1])\n",
    "    \n",
    "    plot!(AC_outofsampledata, c=my_color_palette[0], label=\"Simulated (i = $(random_index))\", linetype=:steppost)\n",
    "    \n",
    "    LINE = (1.96/sqrt(number_of_steps))*ones(number_of_steps-1);\n",
    "    plot!(LINE, label=\"95% confidence\", lw=2, c=:white, ls=:dash)\n",
    "    plot!(-LINE, label=\"\", lw=2, c=:white, ls=:dash)\n",
    "    xlabel!(\"Lag (trading day)\", fontsize=18)\n",
    "    ylabel!(\"$(ticker) autocorrelation |growth|ᵖ (AU)\", fontsize=18)\n",
    "\n",
    "    # dump\n",
    "    savefig(joinpath(_PATH_TO_FIGURES, \"Fig-$(ticker)-ExcessGrowthRate-TimeSeries-Daily-HMM-BB.svg\"))\n",
    "end"
   ]
  },
  {
   "cell_type": "code",
   "execution_count": 55,
   "id": "11e3c398-4e0e-4ff4-a870-7693556a9472",
   "metadata": {},
   "outputs": [
    {
     "data": {
      "text/plain": [
       "\"/Users/jeffreyvarner/Desktop/julia_work/CHEME-5660-CourseRepository-Fall-2024/lectures/week-13/L13a/figs/Fig-SPY-ExcessGrowthRate-Autocorrelation-Daily-HMM-BB.svg\""
      ]
     },
     "execution_count": 55,
     "metadata": {},
     "output_type": "execute_result"
    }
   ],
   "source": [
    "let\n",
    "    # generate a random index -\n",
    "    random_index = rand(1:number_of_paths);\n",
    "    number_of_steps = length(Rᵢ);\n",
    "    # random_index = 12\n",
    "\n",
    "    L = number_of_steps;\n",
    "    τ  = range(0,step=1,stop=(L-1));\n",
    "    AC_observed = autocor(Rᵢ, τ); \n",
    "    AC_outofsampledata = autocor(out_of_sample_decoded_archive[:,random_index], τ);\n",
    "\n",
    "    # plot(autocor(abs.(Rᵢ), (1:(number_of_steps-1) |> collect)), label=\"Observed\", c=:red, \n",
    "    #     bg=\"gray95\", background_color_outside=\"white\", framestyle = :box, fg_legend = :transparent, linetype=:steppost)\n",
    "    \n",
    "    plot(AC_observed, label=\"Observed\", linetype=:steppost, foreground_color_axis=:white, \n",
    "        foreground_color_grid=\"white\", framestyle = :box, bg = :black,\n",
    "        foreground_color_border = :white, legend_font_color = :white, legend_background_color=my_color_palette[4],\n",
    "        fg_legend = :transparent, foreground_color=:white, foreground_color_text=:white,\n",
    "        yguidefontcolor=:white, xguidefontcolor=:white, legend=:topright, c=my_color_palette[1])\n",
    "    \n",
    "    plot!(AC_outofsampledata, c=my_color_palette[0], label=\"Simulated (i = $(random_index))\", linetype=:steppost)\n",
    "    \n",
    "    LINE = (1.96/sqrt(number_of_steps))*ones(number_of_steps-1);\n",
    "    plot!(LINE, label=\"95% confidence\", lw=2, c=:white, ls=:dash)\n",
    "    plot!(-LINE, label=\"\", lw=2, c=:white, ls=:dash)\n",
    "    xlabel!(\"Lag (trading day)\", fontsize=18)\n",
    "    ylabel!(\"$(ticker) autocorrelation growth (AU)\", fontsize=18)\n",
    "\n",
    "    # dump\n",
    "    savefig(joinpath(_PATH_TO_FIGURES, \"Fig-$(ticker)-ExcessGrowthRate-Autocorrelation-Daily-HMM-BB.svg\"))\n",
    "end"
   ]
  },
  {
   "cell_type": "markdown",
   "id": "ff6e8b82-0d4d-43f5-9a59-00019a4e45c2",
   "metadata": {},
   "source": [
    "## Disclaimer and Risks\n",
    "__This content is offered solely for training and informational purposes__. No offer or solicitation to buy or sell securities or derivative products or any investment or trading advice or strategy is made, given, or endorsed by the teaching team. \n",
    "\n",
    "__Trading involves risk__. Carefully review your financial situation before investing in securities, futures contracts, options, or commodity interests. Past performance, whether actual or indicated by historical tests of strategies, is no guarantee of future performance or success. Trading is generally inappropriate for someone with limited resources, investment or trading experience, or a low-risk tolerance.  Only risk capital that is not required for living expenses.\n",
    "\n",
    "__You are fully responsible for any investment or trading decisions you make__. You should decide solely based on your financial circumstances, investment or trading objectives, risk tolerance, and liquidity needs."
   ]
  },
  {
   "cell_type": "code",
   "execution_count": null,
   "id": "98d8e523-0306-4854-916b-ed43e7618820",
   "metadata": {},
   "outputs": [],
   "source": []
  }
 ],
 "metadata": {
  "kernelspec": {
   "display_name": "Julia 1.11.1",
   "language": "julia",
   "name": "julia-1.11"
  },
  "language_info": {
   "file_extension": ".jl",
   "mimetype": "application/julia",
   "name": "julia",
   "version": "1.11.1"
  }
 },
 "nbformat": 4,
 "nbformat_minor": 5
}
