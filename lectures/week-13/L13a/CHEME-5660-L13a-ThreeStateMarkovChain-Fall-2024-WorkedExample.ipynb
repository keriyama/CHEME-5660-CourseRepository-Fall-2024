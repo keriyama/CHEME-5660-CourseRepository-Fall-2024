{
 "cells": [
  {
   "cell_type": "markdown",
   "id": "a1293aec-55db-45f8-866c-13da40b367bb",
   "metadata": {},
   "source": [
    "## Example: Three-State Markov Model\n",
    "In this example, let's construct and then sample a three-state Markov model, with three states $\\mathcal{S}\\equiv\\left\\{1,2,3\\right\\}$, shown below:\n",
    "<div>\n",
    "    <center>\n",
    "        <img src=\"figs/Fig-ThreeState-MM-Schematic.svg\" width=\"580\"/>\n",
    "    </center>\n",
    "</div>\n",
    "where the $p_{ij}$ values describe the probability of moving from state $s_{i}$ to state $s_{j}$ in the next time step. The states in the model could represent many things, for example an investors attitide toward an asset."
   ]
  },
  {
   "cell_type": "markdown",
   "id": "0bbaa043-d87e-403e-a2f7-69475d5bbd7f",
   "metadata": {},
   "source": [
    "## Setup\n",
    "Let's load some required packages for the example by calling the `include(...)` function on our [initialization file `Include.jl`](Include.jl):"
   ]
  },
  {
   "cell_type": "code",
   "execution_count": 3,
   "id": "ec70e14c-9cdf-45a6-ba16-b955ea8967b2",
   "metadata": {},
   "outputs": [
    {
     "name": "stderr",
     "output_type": "stream",
     "text": [
      "\u001b[32m\u001b[1m    Updating\u001b[22m\u001b[39m git-repo `https://github.com/varnerlab/VLQuantitativeFinancePackage.jl.git`\n",
      "\u001b[32m\u001b[1m   Resolving\u001b[22m\u001b[39m package versions...\n",
      "\u001b[32m\u001b[1m    Updating\u001b[22m\u001b[39m `~/Desktop/julia_work/CHEME-5660-CourseRepository-Fall-2024/lectures/week-13/L13a/Project.toml`\n",
      "  \u001b[90m[336ed68f] \u001b[39m\u001b[92m+ CSV v0.10.15\u001b[39m\n",
      "  \u001b[90m[5ae59095] \u001b[39m\u001b[92m+ Colors v0.13.0\u001b[39m\n",
      "  \u001b[90m[a93c6f00] \u001b[39m\u001b[92m+ DataFrames v1.7.0\u001b[39m\n",
      "  \u001b[90m[b4f34e82] \u001b[39m\u001b[92m+ Distances v0.10.12\u001b[39m\n",
      "  \u001b[90m[31c24e10] \u001b[39m\u001b[92m+ Distributions v0.25.113\u001b[39m\n",
      "  \u001b[90m[5789e2e9] \u001b[39m\u001b[92m+ FileIO v1.16.5\u001b[39m\n",
      "  \u001b[90m[09f84164] \u001b[39m\u001b[92m+ HypothesisTests v0.11.3\u001b[39m\n",
      "  \u001b[90m[033835bb] \u001b[39m\u001b[92m+ JLD2 v0.5.8\u001b[39m\n",
      "  \u001b[90m[91a5bcdd] \u001b[39m\u001b[92m+ Plots v1.40.9\u001b[39m\n",
      "  \u001b[90m[10745b16] \u001b[39m\u001b[92m+ Statistics v1.11.1\u001b[39m\n",
      "  \u001b[90m[2913bbd2] \u001b[39m\u001b[92m+ StatsBase v0.34.3\u001b[39m\n",
      "  \u001b[90m[f3b207a7] \u001b[39m\u001b[92m+ StatsPlots v0.15.7\u001b[39m\n",
      "  \u001b[90m[4119e0bf] \u001b[39m\u001b[92m+ VLQuantitativeFinancePackage v1.0.0-DEV `https://github.com/varnerlab/VLQuantitativeFinancePackage.jl.git#main`\u001b[39m\n",
      "  \u001b[90m[37e2e46d] \u001b[39m\u001b[93m~ LinearAlgebra ⇒ v1.11.0\u001b[39m\n",
      "\u001b[32m\u001b[1m    Updating\u001b[22m\u001b[39m `~/Desktop/julia_work/CHEME-5660-CourseRepository-Fall-2024/lectures/week-13/L13a/Manifest.toml`\n",
      "  \u001b[90m[621f4979] \u001b[39m\u001b[92m+ AbstractFFTs v1.5.0\u001b[39m\n",
      "  \u001b[90m[7d9f7c33] \u001b[39m\u001b[92m+ Accessors v0.1.38\u001b[39m\n",
      "  \u001b[90m[79e6a3ab] \u001b[39m\u001b[92m+ Adapt v4.1.1\u001b[39m\n",
      "  \u001b[90m[66dad0bd] \u001b[39m\u001b[92m+ AliasTables v1.1.3\u001b[39m\n",
      "  \u001b[90m[7d9fca2a] \u001b[39m\u001b[92m+ Arpack v0.5.4\u001b[39m\n",
      "  \u001b[90m[4fba245c] \u001b[39m\u001b[92m+ ArrayInterface v7.17.1\u001b[39m\n",
      "  \u001b[90m[13072b0f] \u001b[39m\u001b[92m+ AxisAlgorithms v1.1.0\u001b[39m\n",
      "  \u001b[90m[6e4b80f9] \u001b[39m\u001b[92m+ BenchmarkTools v1.5.0\u001b[39m\n",
      "  \u001b[90m[d1d4a3ce] \u001b[39m\u001b[92m+ BitFlags v0.1.9\u001b[39m\n",
      "  \u001b[90m[336ed68f] \u001b[39m\u001b[92m+ CSV v0.10.15\u001b[39m\n",
      "  \u001b[90m[d360d2e6] \u001b[39m\u001b[92m+ ChainRulesCore v1.25.0\u001b[39m\n",
      "  \u001b[90m[aaaa29a8] \u001b[39m\u001b[92m+ Clustering v0.15.7\u001b[39m\n",
      "  \u001b[90m[523fee87] \u001b[39m\u001b[92m+ CodecBzip2 v0.8.4\u001b[39m\n",
      "  \u001b[90m[944b1d66] \u001b[39m\u001b[92m+ CodecZlib v0.7.6\u001b[39m\n",
      "  \u001b[90m[35d6a980] \u001b[39m\u001b[92m+ ColorSchemes v3.27.1\u001b[39m\n",
      "  \u001b[90m[3da002f7] \u001b[39m\u001b[92m+ ColorTypes v0.12.0\u001b[39m\n",
      "  \u001b[90m[c3611d14] \u001b[39m\u001b[92m+ ColorVectorSpace v0.11.0\u001b[39m\n",
      "  \u001b[90m[5ae59095] \u001b[39m\u001b[92m+ Colors v0.13.0\u001b[39m\n",
      "  \u001b[90m[861a8166] \u001b[39m\u001b[92m+ Combinatorics v1.0.2\u001b[39m\n",
      "  \u001b[90m[38540f10] \u001b[39m\u001b[92m+ CommonSolve v0.2.4\u001b[39m\n",
      "  \u001b[90m[bbf7d656] \u001b[39m\u001b[92m+ CommonSubexpressions v0.3.1\u001b[39m\n",
      "  \u001b[90m[34da2185] \u001b[39m\u001b[92m+ Compat v4.16.0\u001b[39m\n",
      "  \u001b[90m[a33af91c] \u001b[39m\u001b[92m+ CompositionsBase v0.1.2\u001b[39m\n",
      "  \u001b[90m[f0e56b4a] \u001b[39m\u001b[92m+ ConcurrentUtilities v2.4.2\u001b[39m\n",
      "  \u001b[90m[187b0558] \u001b[39m\u001b[92m+ ConstructionBase v1.5.8\u001b[39m\n",
      "  \u001b[90m[d38c429a] \u001b[39m\u001b[92m+ Contour v0.6.3\u001b[39m\n",
      "  \u001b[90m[a8cc5b0e] \u001b[39m\u001b[92m+ Crayons v4.1.1\u001b[39m\n",
      "  \u001b[90m[9a962f9c] \u001b[39m\u001b[92m+ DataAPI v1.16.0\u001b[39m\n",
      "  \u001b[90m[a93c6f00] \u001b[39m\u001b[92m+ DataFrames v1.7.0\u001b[39m\n",
      "  \u001b[90m[864edb3b] \u001b[39m\u001b[92m+ DataStructures v0.18.20\u001b[39m\n",
      "  \u001b[90m[e2d170a0] \u001b[39m\u001b[92m+ DataValueInterfaces v1.0.0\u001b[39m\n",
      "  \u001b[90m[8bb1440f] \u001b[39m\u001b[92m+ DelimitedFiles v1.9.1\u001b[39m\n",
      "  \u001b[90m[163ba53b] \u001b[39m\u001b[92m+ DiffResults v1.1.0\u001b[39m\n",
      "  \u001b[90m[b552c78f] \u001b[39m\u001b[92m+ DiffRules v1.15.1\u001b[39m\n",
      "  \u001b[90m[b4f34e82] \u001b[39m\u001b[92m+ Distances v0.10.12\u001b[39m\n",
      "  \u001b[90m[31c24e10] \u001b[39m\u001b[92m+ Distributions v0.25.113\u001b[39m\n",
      "  \u001b[90m[ffbed154] \u001b[39m\u001b[92m+ DocStringExtensions v0.9.3\u001b[39m\n",
      "  \u001b[90m[460bff9d] \u001b[39m\u001b[92m+ ExceptionUnwrapping v0.1.10\u001b[39m\n",
      "  \u001b[90m[e2ba6199] \u001b[39m\u001b[92m+ ExprTools v0.1.10\u001b[39m\n",
      "  \u001b[90m[c87230d0] \u001b[39m\u001b[92m+ FFMPEG v0.4.2\u001b[39m\n",
      "  \u001b[90m[7a1cc6ca] \u001b[39m\u001b[92m+ FFTW v1.8.0\u001b[39m\n",
      "  \u001b[90m[9aa1b823] \u001b[39m\u001b[92m+ FastClosures v0.3.2\u001b[39m\n",
      "  \u001b[90m[5789e2e9] \u001b[39m\u001b[92m+ FileIO v1.16.5\u001b[39m\n",
      "  \u001b[90m[48062228] \u001b[39m\u001b[92m+ FilePathsBase v0.9.22\u001b[39m\n",
      "  \u001b[90m[1a297f60] \u001b[39m\u001b[92m+ FillArrays v1.13.0\u001b[39m\n",
      "  \u001b[90m[6a86dc24] \u001b[39m\u001b[92m+ FiniteDiff v2.26.1\u001b[39m\n",
      "  \u001b[90m[53c48c17] \u001b[39m\u001b[92m+ FixedPointNumbers v0.8.5\u001b[39m\n",
      "  \u001b[90m[1fa38f19] \u001b[39m\u001b[92m+ Format v1.3.7\u001b[39m\n",
      "  \u001b[90m[f6369f11] \u001b[39m\u001b[92m+ ForwardDiff v0.10.38\u001b[39m\n",
      "  \u001b[90m[28b8d3ca] \u001b[39m\u001b[92m+ GR v0.73.8\u001b[39m\n",
      "  \u001b[90m[42e2da0e] \u001b[39m\u001b[92m+ Grisu v1.0.2\u001b[39m\n",
      "  \u001b[90m[cd3eb016] \u001b[39m\u001b[92m+ HTTP v1.10.10\u001b[39m\n",
      "  \u001b[90m[34004b35] \u001b[39m\u001b[92m+ HypergeometricFunctions v0.3.25\u001b[39m\n",
      "  \u001b[90m[09f84164] \u001b[39m\u001b[92m+ HypothesisTests v0.11.3\u001b[39m\n",
      "  \u001b[90m[842dd82b] \u001b[39m\u001b[92m+ InlineStrings v1.4.2\u001b[39m\n",
      "  \u001b[90m[a98d9a8b] \u001b[39m\u001b[92m+ Interpolations v0.15.1\u001b[39m\n",
      "  \u001b[90m[3587e190] \u001b[39m\u001b[92m+ InverseFunctions v0.1.17\u001b[39m\n",
      "  \u001b[90m[41ab1584] \u001b[39m\u001b[92m+ InvertedIndices v1.3.0\u001b[39m\n",
      "  \u001b[90m[92d709cd] \u001b[39m\u001b[92m+ IrrationalConstants v0.2.2\u001b[39m\n",
      "  \u001b[90m[82899510] \u001b[39m\u001b[92m+ IteratorInterfaceExtensions v1.0.0\u001b[39m\n",
      "  \u001b[90m[033835bb] \u001b[39m\u001b[92m+ JLD2 v0.5.8\u001b[39m\n",
      "  \u001b[90m[1019f520] \u001b[39m\u001b[92m+ JLFzf v0.1.8\u001b[39m\n",
      "  \u001b[90m[692b3bcd] \u001b[39m\u001b[92m+ JLLWrappers v1.6.1\u001b[39m\n",
      "  \u001b[90m[682c06a0] \u001b[39m\u001b[92m+ JSON v0.21.4\u001b[39m\n",
      "  \u001b[90m[4076af6c] \u001b[39m\u001b[92m+ JuMP v1.23.4\u001b[39m\n",
      "  \u001b[90m[5ab0869b] \u001b[39m\u001b[92m+ KernelDensity v0.6.9\u001b[39m\n",
      "  \u001b[90m[b964fa9f] \u001b[39m\u001b[92m+ LaTeXStrings v1.4.0\u001b[39m\n",
      "  \u001b[90m[23fbe1c1] \u001b[39m\u001b[92m+ Latexify v0.16.5\u001b[39m\n",
      "  \u001b[90m[d3d80556] \u001b[39m\u001b[92m+ LineSearches v7.3.0\u001b[39m\n",
      "  \u001b[90m[5c8ed15e] \u001b[39m\u001b[92m+ LinearOperators v2.9.0\u001b[39m\n",
      "  \u001b[90m[2ab3a3ac] \u001b[39m\u001b[92m+ LogExpFunctions v0.3.28\u001b[39m\n",
      "  \u001b[90m[e6f89c97] \u001b[39m\u001b[92m+ LoggingExtras v1.1.0\u001b[39m\n",
      "  \u001b[90m[2fda8390] \u001b[39m\u001b[92m+ LsqFit v0.15.0\u001b[39m\n",
      "  \u001b[90m[1914dd2f] \u001b[39m\u001b[92m+ MacroTools v0.5.13\u001b[39m\n",
      "\u001b[32m⌃\u001b[39m \u001b[90m[2621e9c9] \u001b[39m\u001b[92m+ MadNLP v0.7.0\u001b[39m\n",
      "  \u001b[90m[b8f27783] \u001b[39m\u001b[92m+ MathOptInterface v1.34.0\u001b[39m\n",
      "  \u001b[90m[739be429] \u001b[39m\u001b[92m+ MbedTLS v1.1.9\u001b[39m\n",
      "  \u001b[90m[442fdcdd] \u001b[39m\u001b[92m+ Measures v0.3.2\u001b[39m\n",
      "  \u001b[90m[e1d29d7a] \u001b[39m\u001b[92m+ Missings v1.2.0\u001b[39m\n",
      "  \u001b[90m[6f286f6a] \u001b[39m\u001b[92m+ MultivariateStats v0.10.3\u001b[39m\n",
      "  \u001b[90m[d8a4904e] \u001b[39m\u001b[92m+ MutableArithmetics v1.6.0\u001b[39m\n",
      "\u001b[33m⌅\u001b[39m \u001b[90m[a4795742] \u001b[39m\u001b[92m+ NLPModels v0.20.0\u001b[39m\n",
      "  \u001b[90m[d41bc354] \u001b[39m\u001b[92m+ NLSolversBase v7.8.3\u001b[39m\n",
      "  \u001b[90m[77ba4419] \u001b[39m\u001b[92m+ NaNMath v1.0.2\u001b[39m\n",
      "  \u001b[90m[b8a86587] \u001b[39m\u001b[92m+ NearestNeighbors v0.4.21\u001b[39m\n",
      "  \u001b[90m[510215fc] \u001b[39m\u001b[92m+ Observables v0.5.5\u001b[39m\n",
      "  \u001b[90m[6fe1bfb0] \u001b[39m\u001b[92m+ OffsetArrays v1.14.1\u001b[39m\n",
      "  \u001b[90m[4d8831e6] \u001b[39m\u001b[92m+ OpenSSL v1.4.3\u001b[39m\n",
      "  \u001b[90m[429524aa] \u001b[39m\u001b[92m+ Optim v1.10.0\u001b[39m\n",
      "  \u001b[90m[bac558e1] \u001b[39m\u001b[92m+ OrderedCollections v1.6.3\u001b[39m\n",
      "  \u001b[90m[90014a1f] \u001b[39m\u001b[92m+ PDMats v0.11.31\u001b[39m\n",
      "  \u001b[90m[d96e819e] \u001b[39m\u001b[92m+ Parameters v0.12.3\u001b[39m\n",
      "  \u001b[90m[69de0a69] \u001b[39m\u001b[92m+ Parsers v2.8.1\u001b[39m\n",
      "  \u001b[90m[b98c9c47] \u001b[39m\u001b[92m+ Pipe v1.3.0\u001b[39m\n",
      "  \u001b[90m[ccf2f8ad] \u001b[39m\u001b[92m+ PlotThemes v3.3.0\u001b[39m\n",
      "  \u001b[90m[995b91a9] \u001b[39m\u001b[92m+ PlotUtils v1.4.3\u001b[39m\n",
      "  \u001b[90m[91a5bcdd] \u001b[39m\u001b[92m+ Plots v1.40.9\u001b[39m\n",
      "  \u001b[90m[2dfb63ee] \u001b[39m\u001b[92m+ PooledArrays v1.4.3\u001b[39m\n",
      "  \u001b[90m[85a6dd25] \u001b[39m\u001b[92m+ PositiveFactorizations v0.2.4\u001b[39m\n",
      "  \u001b[90m[aea7be01] \u001b[39m\u001b[92m+ PrecompileTools v1.2.1\u001b[39m\n",
      "  \u001b[90m[21216c6a] \u001b[39m\u001b[92m+ Preferences v1.4.3\u001b[39m\n",
      "  \u001b[90m[08abe8d2] \u001b[39m\u001b[92m+ PrettyTables v2.4.0\u001b[39m\n",
      "  \u001b[90m[43287f4e] \u001b[39m\u001b[92m+ PtrArrays v1.2.1\u001b[39m\n",
      "  \u001b[90m[1fd47b50] \u001b[39m\u001b[92m+ QuadGK v2.11.1\u001b[39m\n",
      "  \u001b[90m[c84ed2f1] \u001b[39m\u001b[92m+ Ratios v0.4.5\u001b[39m\n",
      "  \u001b[90m[3cdcf5f2] \u001b[39m\u001b[92m+ RecipesBase v1.3.4\u001b[39m\n",
      "  \u001b[90m[01d81517] \u001b[39m\u001b[92m+ RecipesPipeline v0.6.12\u001b[39m\n",
      "  \u001b[90m[189a3867] \u001b[39m\u001b[92m+ Reexport v1.2.2\u001b[39m\n",
      "  \u001b[90m[05181044] \u001b[39m\u001b[92m+ RelocatableFolders v1.0.1\u001b[39m\n",
      "  \u001b[90m[ae029012] \u001b[39m\u001b[92m+ Requires v1.3.0\u001b[39m\n",
      "  \u001b[90m[79098fc4] \u001b[39m\u001b[92m+ Rmath v0.8.0\u001b[39m\n",
      "  \u001b[90m[f2b01f46] \u001b[39m\u001b[92m+ Roots v2.2.1\u001b[39m\n",
      "  \u001b[90m[6c6a2e73] \u001b[39m\u001b[92m+ Scratch v1.2.1\u001b[39m\n",
      "  \u001b[90m[91c51154] \u001b[39m\u001b[92m+ SentinelArrays v1.4.7\u001b[39m\n",
      "  \u001b[90m[efcf1570] \u001b[39m\u001b[92m+ Setfield v1.1.1\u001b[39m\n",
      "  \u001b[90m[992d4aef] \u001b[39m\u001b[92m+ Showoff v1.0.3\u001b[39m\n",
      "  \u001b[90m[777ac1f9] \u001b[39m\u001b[92m+ SimpleBufferStream v1.2.0\u001b[39m\n",
      "  \u001b[90m[ff4d7338] \u001b[39m\u001b[92m+ SolverCore v0.3.8\u001b[39m\n",
      "  \u001b[90m[a2af1166] \u001b[39m\u001b[92m+ SortingAlgorithms v1.2.1\u001b[39m\n",
      "  \u001b[90m[276daf66] \u001b[39m\u001b[92m+ SpecialFunctions v2.4.0\u001b[39m\n",
      "  \u001b[90m[860ef19b] \u001b[39m\u001b[92m+ StableRNGs v1.0.2\u001b[39m\n",
      "  \u001b[90m[90137ffa] \u001b[39m\u001b[92m+ StaticArrays v1.9.8\u001b[39m\n",
      "  \u001b[90m[1e83bf80] \u001b[39m\u001b[92m+ StaticArraysCore v1.4.3\u001b[39m\n",
      "  \u001b[90m[10745b16] \u001b[39m\u001b[92m+ Statistics v1.11.1\u001b[39m\n",
      "  \u001b[90m[82ae8749] \u001b[39m\u001b[92m+ StatsAPI v1.7.0\u001b[39m\n",
      "  \u001b[90m[2913bbd2] \u001b[39m\u001b[92m+ StatsBase v0.34.3\u001b[39m\n",
      "  \u001b[90m[4c63d2b9] \u001b[39m\u001b[92m+ StatsFuns v1.3.2\u001b[39m\n",
      "  \u001b[90m[f3b207a7] \u001b[39m\u001b[92m+ StatsPlots v0.15.7\u001b[39m\n",
      "  \u001b[90m[892a3eda] \u001b[39m\u001b[92m+ StringManipulation v0.4.0\u001b[39m\n",
      "  \u001b[90m[ab02a1b2] \u001b[39m\u001b[92m+ TableOperations v1.2.0\u001b[39m\n",
      "  \u001b[90m[3783bdb8] \u001b[39m\u001b[92m+ TableTraits v1.0.1\u001b[39m\n",
      "  \u001b[90m[bd369af6] \u001b[39m\u001b[92m+ Tables v1.12.0\u001b[39m\n",
      "  \u001b[90m[62fd8b95] \u001b[39m\u001b[92m+ TensorCore v0.1.1\u001b[39m\n",
      "  \u001b[90m[a759f4b9] \u001b[39m\u001b[92m+ TimerOutputs v0.5.25\u001b[39m\n",
      "  \u001b[90m[3bb67fe8] \u001b[39m\u001b[92m+ TranscodingStreams v0.11.3\u001b[39m\n",
      "  \u001b[90m[5c2747f8] \u001b[39m\u001b[92m+ URIs v1.5.1\u001b[39m\n",
      "  \u001b[90m[3a884ed6] \u001b[39m\u001b[92m+ UnPack v1.0.2\u001b[39m\n",
      "  \u001b[90m[1cfade01] \u001b[39m\u001b[92m+ UnicodeFun v0.4.1\u001b[39m\n",
      "  \u001b[90m[1986cc42] \u001b[39m\u001b[92m+ Unitful v1.21.0\u001b[39m\n",
      "  \u001b[90m[45397f5d] \u001b[39m\u001b[92m+ UnitfulLatexify v1.6.4\u001b[39m\n",
      "  \u001b[90m[41fe7b60] \u001b[39m\u001b[92m+ Unzip v0.2.0\u001b[39m\n",
      "  \u001b[90m[4119e0bf] \u001b[39m\u001b[92m+ VLQuantitativeFinancePackage v1.0.0-DEV `https://github.com/varnerlab/VLQuantitativeFinancePackage.jl.git#main`\u001b[39m\n",
      "  \u001b[90m[ea10d353] \u001b[39m\u001b[92m+ WeakRefStrings v1.4.2\u001b[39m\n",
      "  \u001b[90m[cc8bc4a8] \u001b[39m\u001b[92m+ Widgets v0.6.7\u001b[39m\n",
      "  \u001b[90m[efce3f68] \u001b[39m\u001b[92m+ WoodburyMatrices v1.0.0\u001b[39m\n",
      "  \u001b[90m[76eceee3] \u001b[39m\u001b[92m+ WorkerUtilities v1.6.1\u001b[39m\n",
      "\u001b[33m⌅\u001b[39m \u001b[90m[68821587] \u001b[39m\u001b[92m+ Arpack_jll v3.5.1+1\u001b[39m\n",
      "  \u001b[90m[6e34b625] \u001b[39m\u001b[92m+ Bzip2_jll v1.0.8+2\u001b[39m\n",
      "  \u001b[90m[83423d85] \u001b[39m\u001b[92m+ Cairo_jll v1.18.2+1\u001b[39m\n",
      "  \u001b[90m[ee1fde0b] \u001b[39m\u001b[92m+ Dbus_jll v1.14.10+0\u001b[39m\n",
      "  \u001b[90m[2702e6a9] \u001b[39m\u001b[92m+ EpollShim_jll v0.0.20230411+0\u001b[39m\n",
      "  \u001b[90m[2e619515] \u001b[39m\u001b[92m+ Expat_jll v2.6.4+0\u001b[39m\n",
      "\u001b[33m⌅\u001b[39m \u001b[90m[b22a6f82] \u001b[39m\u001b[92m+ FFMPEG_jll v4.4.4+1\u001b[39m\n",
      "  \u001b[90m[f5851436] \u001b[39m\u001b[92m+ FFTW_jll v3.3.10+1\u001b[39m\n",
      "  \u001b[90m[a3f928ae] \u001b[39m\u001b[92m+ Fontconfig_jll v2.13.96+0\u001b[39m\n",
      "  \u001b[90m[d7e528f0] \u001b[39m\u001b[92m+ FreeType2_jll v2.13.2+0\u001b[39m\n",
      "  \u001b[90m[559328eb] \u001b[39m\u001b[92m+ FriBidi_jll v1.0.14+0\u001b[39m\n",
      "  \u001b[90m[0656b61e] \u001b[39m\u001b[92m+ GLFW_jll v3.4.0+1\u001b[39m\n",
      "  \u001b[90m[d2c73de3] \u001b[39m\u001b[92m+ GR_jll v0.73.8+0\u001b[39m\n",
      "  \u001b[90m[78b55507] \u001b[39m\u001b[92m+ Gettext_jll v0.21.0+0\u001b[39m\n",
      "  \u001b[90m[7746bdde] \u001b[39m\u001b[92m+ Glib_jll v2.80.5+0\u001b[39m\n",
      "  \u001b[90m[3b182d85] \u001b[39m\u001b[92m+ Graphite2_jll v1.3.14+0\u001b[39m\n",
      "  \u001b[90m[2e76f6c2] \u001b[39m\u001b[92m+ HarfBuzz_jll v8.3.1+0\u001b[39m\n",
      "  \u001b[90m[1d5cc7b8] \u001b[39m\u001b[92m+ IntelOpenMP_jll v2024.2.1+0\u001b[39m\n",
      "  \u001b[90m[aacddb02] \u001b[39m\u001b[92m+ JpegTurbo_jll v3.0.4+0\u001b[39m\n",
      "  \u001b[90m[c1c5ebd0] \u001b[39m\u001b[92m+ LAME_jll v3.100.2+0\u001b[39m\n",
      "  \u001b[90m[88015f11] \u001b[39m\u001b[92m+ LERC_jll v4.0.0+0\u001b[39m\n",
      "  \u001b[90m[1d63c593] \u001b[39m\u001b[92m+ LLVMOpenMP_jll v18.1.7+0\u001b[39m\n",
      "  \u001b[90m[dd4b983a] \u001b[39m\u001b[92m+ LZO_jll v2.10.2+1\u001b[39m\n",
      "\u001b[33m⌅\u001b[39m \u001b[90m[e9f186c6] \u001b[39m\u001b[92m+ Libffi_jll v3.2.2+1\u001b[39m\n",
      "  \u001b[90m[d4300ac3] \u001b[39m\u001b[92m+ Libgcrypt_jll v1.11.0+0\u001b[39m\n",
      "  \u001b[90m[7e76a0d4] \u001b[39m\u001b[92m+ Libglvnd_jll v1.6.0+0\u001b[39m\n",
      "  \u001b[90m[7add5ba3] \u001b[39m\u001b[92m+ Libgpg_error_jll v1.50.0+0\u001b[39m\n",
      "  \u001b[90m[94ce4f54] \u001b[39m\u001b[92m+ Libiconv_jll v1.17.0+1\u001b[39m\n",
      "  \u001b[90m[4b2f31a3] \u001b[39m\u001b[92m+ Libmount_jll v2.40.1+0\u001b[39m\n",
      "  \u001b[90m[89763e89] \u001b[39m\u001b[92m+ Libtiff_jll v4.7.0+0\u001b[39m\n",
      "  \u001b[90m[38a345b3] \u001b[39m\u001b[92m+ Libuuid_jll v2.40.1+0\u001b[39m\n",
      "  \u001b[90m[856f044c] \u001b[39m\u001b[92m+ MKL_jll v2024.2.0+0\u001b[39m\n",
      "  \u001b[90m[e7412a2a] \u001b[39m\u001b[92m+ Ogg_jll v1.3.5+1\u001b[39m\n",
      "  \u001b[90m[458c3c95] \u001b[39m\u001b[92m+ OpenSSL_jll v3.0.15+1\u001b[39m\n",
      "  \u001b[90m[efe28fd5] \u001b[39m\u001b[92m+ OpenSpecFun_jll v0.5.5+0\u001b[39m\n",
      "  \u001b[90m[91d4177d] \u001b[39m\u001b[92m+ Opus_jll v1.3.3+0\u001b[39m\n",
      "  \u001b[90m[36c8627f] \u001b[39m\u001b[92m+ Pango_jll v1.54.1+0\u001b[39m\n",
      "  \u001b[90m[30392449] \u001b[39m\u001b[92m+ Pixman_jll v0.43.4+0\u001b[39m\n",
      "  \u001b[90m[c0090381] \u001b[39m\u001b[92m+ Qt6Base_jll v6.7.1+1\u001b[39m\n",
      "  \u001b[90m[629bc702] \u001b[39m\u001b[92m+ Qt6Declarative_jll v6.7.1+2\u001b[39m\n",
      "  \u001b[90m[ce943373] \u001b[39m\u001b[92m+ Qt6ShaderTools_jll v6.7.1+1\u001b[39m\n",
      "  \u001b[90m[e99dba38] \u001b[39m\u001b[92m+ Qt6Wayland_jll v6.7.1+1\u001b[39m\n",
      "  \u001b[90m[f50d1b31] \u001b[39m\u001b[92m+ Rmath_jll v0.5.1+0\u001b[39m\n",
      "  \u001b[90m[a44049a8] \u001b[39m\u001b[92m+ Vulkan_Loader_jll v1.3.243+0\u001b[39m\n",
      "  \u001b[90m[a2964d1f] \u001b[39m\u001b[92m+ Wayland_jll v1.21.0+1\u001b[39m\n",
      "  \u001b[90m[2381bf8a] \u001b[39m\u001b[92m+ Wayland_protocols_jll v1.31.0+0\u001b[39m\n",
      "  \u001b[90m[02c8fc9c] \u001b[39m\u001b[92m+ XML2_jll v2.13.5+0\u001b[39m\n",
      "  \u001b[90m[aed1982a] \u001b[39m\u001b[92m+ XSLT_jll v1.1.41+0\u001b[39m\n",
      "  \u001b[90m[ffd25f8a] \u001b[39m\u001b[92m+ XZ_jll v5.6.3+0\u001b[39m\n",
      "  \u001b[90m[f67eecfb] \u001b[39m\u001b[92m+ Xorg_libICE_jll v1.1.1+0\u001b[39m\n",
      "  \u001b[90m[c834827a] \u001b[39m\u001b[92m+ Xorg_libSM_jll v1.2.4+0\u001b[39m\n",
      "  \u001b[90m[4f6342f7] \u001b[39m\u001b[92m+ Xorg_libX11_jll v1.8.6+0\u001b[39m\n",
      "  \u001b[90m[0c0b7dd1] \u001b[39m\u001b[92m+ Xorg_libXau_jll v1.0.11+0\u001b[39m\n",
      "  \u001b[90m[935fb764] \u001b[39m\u001b[92m+ Xorg_libXcursor_jll v1.2.0+4\u001b[39m\n",
      "  \u001b[90m[a3789734] \u001b[39m\u001b[92m+ Xorg_libXdmcp_jll v1.1.4+0\u001b[39m\n",
      "  \u001b[90m[1082639a] \u001b[39m\u001b[92m+ Xorg_libXext_jll v1.3.6+0\u001b[39m\n",
      "  \u001b[90m[d091e8ba] \u001b[39m\u001b[92m+ Xorg_libXfixes_jll v5.0.3+4\u001b[39m\n",
      "  \u001b[90m[a51aa0fd] \u001b[39m\u001b[92m+ Xorg_libXi_jll v1.7.10+4\u001b[39m\n",
      "  \u001b[90m[d1454406] \u001b[39m\u001b[92m+ Xorg_libXinerama_jll v1.1.4+4\u001b[39m\n",
      "  \u001b[90m[ec84b674] \u001b[39m\u001b[92m+ Xorg_libXrandr_jll v1.5.2+4\u001b[39m\n",
      "  \u001b[90m[ea2f1a96] \u001b[39m\u001b[92m+ Xorg_libXrender_jll v0.9.11+0\u001b[39m\n",
      "  \u001b[90m[14d82f49] \u001b[39m\u001b[92m+ Xorg_libpthread_stubs_jll v0.1.1+0\u001b[39m\n",
      "  \u001b[90m[c7cfdc94] \u001b[39m\u001b[92m+ Xorg_libxcb_jll v1.17.0+0\u001b[39m\n",
      "  \u001b[90m[cc61e674] \u001b[39m\u001b[92m+ Xorg_libxkbfile_jll v1.1.2+0\u001b[39m\n",
      "  \u001b[90m[e920d4aa] \u001b[39m\u001b[92m+ Xorg_xcb_util_cursor_jll v0.1.4+0\u001b[39m\n",
      "  \u001b[90m[12413925] \u001b[39m\u001b[92m+ Xorg_xcb_util_image_jll v0.4.0+1\u001b[39m\n",
      "  \u001b[90m[2def613f] \u001b[39m\u001b[92m+ Xorg_xcb_util_jll v0.4.0+1\u001b[39m\n",
      "  \u001b[90m[975044d2] \u001b[39m\u001b[92m+ Xorg_xcb_util_keysyms_jll v0.4.0+1\u001b[39m\n",
      "  \u001b[90m[0d47668e] \u001b[39m\u001b[92m+ Xorg_xcb_util_renderutil_jll v0.3.9+1\u001b[39m\n",
      "  \u001b[90m[c22f9ab0] \u001b[39m\u001b[92m+ Xorg_xcb_util_wm_jll v0.4.1+1\u001b[39m\n",
      "  \u001b[90m[35661453] \u001b[39m\u001b[92m+ Xorg_xkbcomp_jll v1.4.6+0\u001b[39m\n",
      "  \u001b[90m[33bec58e] \u001b[39m\u001b[92m+ Xorg_xkeyboard_config_jll v2.39.0+0\u001b[39m\n",
      "  \u001b[90m[c5fb5394] \u001b[39m\u001b[92m+ Xorg_xtrans_jll v1.5.0+0\u001b[39m\n",
      "  \u001b[90m[3161d3a3] \u001b[39m\u001b[92m+ Zstd_jll v1.5.6+1\u001b[39m\n",
      "  \u001b[90m[35ca27e7] \u001b[39m\u001b[92m+ eudev_jll v3.2.9+0\u001b[39m\n",
      "  \u001b[90m[214eeab7] \u001b[39m\u001b[92m+ fzf_jll v0.53.0+0\u001b[39m\n",
      "  \u001b[90m[1a1c6b14] \u001b[39m\u001b[92m+ gperf_jll v3.1.1+0\u001b[39m\n",
      "  \u001b[90m[a4ae2306] \u001b[39m\u001b[92m+ libaom_jll v3.9.0+0\u001b[39m\n",
      "  \u001b[90m[0ac62f75] \u001b[39m\u001b[92m+ libass_jll v0.15.2+0\u001b[39m\n",
      "  \u001b[90m[1183f4f0] \u001b[39m\u001b[92m+ libdecor_jll v0.2.2+0\u001b[39m\n",
      "  \u001b[90m[2db6ffa8] \u001b[39m\u001b[92m+ libevdev_jll v1.11.0+0\u001b[39m\n",
      "  \u001b[90m[f638f0a6] \u001b[39m\u001b[92m+ libfdk_aac_jll v2.0.3+0\u001b[39m\n",
      "  \u001b[90m[36db933b] \u001b[39m\u001b[92m+ libinput_jll v1.18.0+0\u001b[39m\n",
      "  \u001b[90m[b53b4c65] \u001b[39m\u001b[92m+ libpng_jll v1.6.44+0\u001b[39m\n",
      "  \u001b[90m[f27f6e37] \u001b[39m\u001b[92m+ libvorbis_jll v1.3.7+2\u001b[39m\n",
      "  \u001b[90m[009596ad] \u001b[39m\u001b[92m+ mtdev_jll v1.1.6+0\u001b[39m\n",
      "  \u001b[90m[1317d2d5] \u001b[39m\u001b[92m+ oneTBB_jll v2021.12.0+0\u001b[39m\n",
      "\u001b[33m⌅\u001b[39m \u001b[90m[1270edf5] \u001b[39m\u001b[92m+ x264_jll v2021.5.5+0\u001b[39m\n",
      "\u001b[33m⌅\u001b[39m \u001b[90m[dfaa095f] \u001b[39m\u001b[92m+ x265_jll v3.5.0+0\u001b[39m\n",
      "  \u001b[90m[d8fb68d0] \u001b[39m\u001b[92m+ xkbcommon_jll v1.4.1+1\u001b[39m\n",
      "  \u001b[90m[0dad84c5] \u001b[39m\u001b[92m+ ArgTools v1.1.2\u001b[39m\n",
      "  \u001b[90m[56f22d72] \u001b[39m\u001b[92m+ Artifacts v1.11.0\u001b[39m\n",
      "  \u001b[90m[2a0f44e3] \u001b[39m\u001b[92m+ Base64 v1.11.0\u001b[39m\n",
      "  \u001b[90m[ade2ca70] \u001b[39m\u001b[92m+ Dates v1.11.0\u001b[39m\n",
      "  \u001b[90m[8ba89e20] \u001b[39m\u001b[92m+ Distributed v1.11.0\u001b[39m\n",
      "  \u001b[90m[f43a241f] \u001b[39m\u001b[92m+ Downloads v1.6.0\u001b[39m\n",
      "  \u001b[90m[7b1f6079] \u001b[39m\u001b[92m+ FileWatching v1.11.0\u001b[39m\n",
      "  \u001b[90m[9fa8497b] \u001b[39m\u001b[92m+ Future v1.11.0\u001b[39m\n",
      "  \u001b[90m[b77e0a4c] \u001b[39m\u001b[92m+ InteractiveUtils v1.11.0\u001b[39m\n",
      "  \u001b[90m[4af54fe1] \u001b[39m\u001b[92m+ LazyArtifacts v1.11.0\u001b[39m\n",
      "  \u001b[90m[b27032c2] \u001b[39m\u001b[92m+ LibCURL v0.6.4\u001b[39m\n",
      "  \u001b[90m[76f85450] \u001b[39m\u001b[92m+ LibGit2 v1.11.0\u001b[39m\n",
      "  \u001b[90m[8f399da3] \u001b[39m\u001b[92m+ Libdl v1.11.0\u001b[39m\n",
      "  \u001b[90m[37e2e46d] \u001b[39m\u001b[92m+ LinearAlgebra v1.11.0\u001b[39m\n",
      "  \u001b[90m[56ddb016] \u001b[39m\u001b[92m+ Logging v1.11.0\u001b[39m\n",
      "  \u001b[90m[d6f4376e] \u001b[39m\u001b[92m+ Markdown v1.11.0\u001b[39m\n",
      "  \u001b[90m[a63ad114] \u001b[39m\u001b[92m+ Mmap v1.11.0\u001b[39m\n",
      "  \u001b[90m[ca575930] \u001b[39m\u001b[92m+ NetworkOptions v1.2.0\u001b[39m\n",
      "  \u001b[90m[44cfe95a] \u001b[39m\u001b[92m+ Pkg v1.11.0\u001b[39m\n",
      "  \u001b[90m[de0858da] \u001b[39m\u001b[92m+ Printf v1.11.0\u001b[39m\n",
      "  \u001b[90m[9abbd945] \u001b[39m\u001b[92m+ Profile v1.11.0\u001b[39m\n",
      "  \u001b[90m[3fa0cd96] \u001b[39m\u001b[92m+ REPL v1.11.0\u001b[39m\n",
      "  \u001b[90m[9a3f8284] \u001b[39m\u001b[92m+ Random v1.11.0\u001b[39m\n",
      "  \u001b[90m[ea8e919c] \u001b[39m\u001b[92m+ SHA v0.7.0\u001b[39m\n",
      "  \u001b[90m[9e88b42a] \u001b[39m\u001b[92m+ Serialization v1.11.0\u001b[39m\n",
      "  \u001b[90m[1a1011a3] \u001b[39m\u001b[92m+ SharedArrays v1.11.0\u001b[39m\n",
      "  \u001b[90m[6462fe0b] \u001b[39m\u001b[92m+ Sockets v1.11.0\u001b[39m\n",
      "  \u001b[90m[2f01184e] \u001b[39m\u001b[92m+ SparseArrays v1.11.0\u001b[39m\n",
      "  \u001b[90m[f489334b] \u001b[39m\u001b[92m+ StyledStrings v1.11.0\u001b[39m\n",
      "  \u001b[90m[4607b0f0] \u001b[39m\u001b[92m+ SuiteSparse\u001b[39m\n",
      "  \u001b[90m[fa267f1f] \u001b[39m\u001b[92m+ TOML v1.0.3\u001b[39m\n",
      "  \u001b[90m[a4e569a6] \u001b[39m\u001b[92m+ Tar v1.10.0\u001b[39m\n",
      "  \u001b[90m[8dfed614] \u001b[39m\u001b[92m+ Test v1.11.0\u001b[39m\n",
      "  \u001b[90m[cf7118a7] \u001b[39m\u001b[92m+ UUIDs v1.11.0\u001b[39m\n",
      "  \u001b[90m[4ec0a83e] \u001b[39m\u001b[92m+ Unicode v1.11.0\u001b[39m\n",
      "  \u001b[90m[e66e0078] \u001b[39m\u001b[92m+ CompilerSupportLibraries_jll v1.1.1+0\u001b[39m\n",
      "  \u001b[90m[deac9b47] \u001b[39m\u001b[92m+ LibCURL_jll v8.6.0+0\u001b[39m\n",
      "  \u001b[90m[e37daf67] \u001b[39m\u001b[92m+ LibGit2_jll v1.7.2+0\u001b[39m\n",
      "  \u001b[90m[29816b5a] \u001b[39m\u001b[92m+ LibSSH2_jll v1.11.0+1\u001b[39m\n",
      "  \u001b[90m[c8ffd9c3] \u001b[39m\u001b[92m+ MbedTLS_jll v2.28.6+0\u001b[39m\n",
      "  \u001b[90m[14a3606d] \u001b[39m\u001b[92m+ MozillaCACerts_jll v2023.12.12\u001b[39m\n",
      "  \u001b[90m[4536629a] \u001b[39m\u001b[92m+ OpenBLAS_jll v0.3.27+1\u001b[39m\n",
      "  \u001b[90m[05823500] \u001b[39m\u001b[92m+ OpenLibm_jll v0.8.1+2\u001b[39m\n",
      "  \u001b[90m[efcefdf7] \u001b[39m\u001b[92m+ PCRE2_jll v10.42.0+1\u001b[39m\n",
      "  \u001b[90m[bea87d4a] \u001b[39m\u001b[92m+ SuiteSparse_jll v7.7.0+0\u001b[39m\n",
      "  \u001b[90m[83775a58] \u001b[39m\u001b[92m+ Zlib_jll v1.2.13+1\u001b[39m\n",
      "  \u001b[90m[8e850b90] \u001b[39m\u001b[92m+ libblastrampoline_jll v5.11.0+0\u001b[39m\n",
      "  \u001b[90m[8e850ede] \u001b[39m\u001b[92m+ nghttp2_jll v1.59.0+0\u001b[39m\n",
      "  \u001b[90m[3f19e933] \u001b[39m\u001b[92m+ p7zip_jll v17.4.0+2\u001b[39m\n",
      "\u001b[36m\u001b[1m        Info\u001b[22m\u001b[39m Packages marked with \u001b[32m⌃\u001b[39m and \u001b[33m⌅\u001b[39m have new versions available. Those with \u001b[32m⌃\u001b[39m may be upgradable, but those with \u001b[33m⌅\u001b[39m are restricted by compatibility constraints from upgrading. To see why use `status --outdated -m`\n",
      "\u001b[32m\u001b[1m  Activating\u001b[22m\u001b[39m project at `~/Desktop/julia_work/CHEME-5660-CourseRepository-Fall-2024/lectures/week-13/L13a`\n",
      "\u001b[32m\u001b[1m  No Changes\u001b[22m\u001b[39m to `~/Desktop/julia_work/CHEME-5660-CourseRepository-Fall-2024/lectures/week-13/L13a/Project.toml`\n",
      "\u001b[32m\u001b[1m  No Changes\u001b[22m\u001b[39m to `~/Desktop/julia_work/CHEME-5660-CourseRepository-Fall-2024/lectures/week-13/L13a/Manifest.toml`\n",
      "\u001b[32m\u001b[1m    Updating\u001b[22m\u001b[39m registry at `~/.julia/registries/General.toml`\n",
      "\u001b[32m\u001b[1m    Updating\u001b[22m\u001b[39m git-repo `https://github.com/varnerlab/VLQuantitativeFinancePackage.jl.git`\n",
      "\u001b[32m\u001b[1m  No Changes\u001b[22m\u001b[39m to `~/Desktop/julia_work/CHEME-5660-CourseRepository-Fall-2024/lectures/week-13/L13a/Project.toml`\n",
      "\u001b[32m\u001b[1m  No Changes\u001b[22m\u001b[39m to `~/Desktop/julia_work/CHEME-5660-CourseRepository-Fall-2024/lectures/week-13/L13a/Manifest.toml`\n",
      "\u001b[36m\u001b[1m[ \u001b[22m\u001b[39m\u001b[36m\u001b[1mInfo: \u001b[22m\u001b[39mPrecompiling VLQuantitativeFinancePackage [4119e0bf-20d0-4785-913e-5ebdb0caa218] (cache misses: wrong dep version loaded (16), wrong source (2))\n"
     ]
    },
    {
     "data": {
      "text/plain": [
       "encode"
      ]
     },
     "execution_count": 3,
     "metadata": {},
     "output_type": "execute_result"
    }
   ],
   "source": [
    "include(\"Include.jl\")"
   ]
  },
  {
   "cell_type": "markdown",
   "id": "bf6eef80-acde-4902-b589-56f7d018baca",
   "metadata": {
    "jp-MarkdownHeadingCollapsed": true
   },
   "source": [
    "## Prerequisites \n",
    "Before we start this example, let's set up the `iterate(...)` method and specify some constants. We'll use the `iterate(...)` method to compute the stationary distribution $\\pi$.\n",
    "```julia\n",
    "iterate(P::Array{Float64,2}; \n",
    "        maxcount::Int = 100, ϵ::Float64 = 0.1) -> Array{Float64,2}\n",
    "```\n",
    "> Iteratively computes a stationary distribution. Computation stops if ||P_new - P|| < ϵ or the max number of iterations is hit. "
   ]
  },
  {
   "cell_type": "markdown",
   "id": "dc2eaa59-5562-49f2-9c61-b736368e4431",
   "metadata": {},
   "source": [
    "`Unhide` the code block below to see the implementation of the `iterate(...)` method:"
   ]
  },
  {
   "cell_type": "code",
   "execution_count": 6,
   "id": "a2dc9d7b-3bf0-48c5-9e0e-08169cd4833d",
   "metadata": {},
   "outputs": [],
   "source": [
    "function iterate(P::Array{Float64,2}; \n",
    "        maxcount::Int = 100, ϵ::Float64 = 0.1)::Array{Float64,2}\n",
    "\n",
    "    # initialize -\n",
    "    counter = 1; # initialize the iteration counter\n",
    "    is_ok_to_stop = false; # flag for while loop\n",
    "    P_new = nothing; # initialize P_new matrix\n",
    "    \n",
    "    # main loop - iterate until the difference ||P_new - P|| <= ϵ -or- we run out of iterations\n",
    "    while (is_ok_to_stop == false)\n",
    "        P_new = P^(counter+1); # compute new P matrix by raising to counter + 1 power\n",
    "        if (norm(P_new - P) <= ϵ || counter >= maxcount)\n",
    "            is_ok_to_stop = true;\n",
    "        end\n",
    "        counter += 1; # update the counter\n",
    "    end\n",
    "\n",
    "    # return -\n",
    "    return P_new;\n",
    "end;"
   ]
  },
  {
   "cell_type": "markdown",
   "id": "4417a3b2-49b2-4c9a-b430-2b851c8d5f88",
   "metadata": {},
   "source": [
    "#### Constants\n",
    "In the simulations below, we'll need some constant values that we set here. In particular, we set a value for the `number_of_hidden_states` variable, the `number_of_simulation_steps` variable (the number of steps that we take in a Markov Chain), and the `number_of_samples ` variable:"
   ]
  },
  {
   "cell_type": "code",
   "execution_count": 8,
   "id": "2583bfcc-b581-4c01-bd98-ecb18c4d7046",
   "metadata": {},
   "outputs": [],
   "source": [
    "number_of_hidden_states = 3; # how many states do we have?\n",
    "number_of_simulation_steps = 10000; # number of simulation steps\n",
    "number_of_samples = 10000; # number of samples"
   ]
  },
  {
   "cell_type": "markdown",
   "id": "6c90be8d-b149-4ca8-80b8-400de616b919",
   "metadata": {},
   "source": [
    "## Task 1: Setup transition matrix for a three-state Markov Model\n",
    "In this task, we'll set up the transition matrix $\\mathbf{P}$ for the three-state [Markov chain model](https://en.wikipedia.org/wiki/Markov_chain) shown above.\n",
    "* In this example we have three states $\\mathcal{S}=\\left\\{1,2,3\\right\\}$ where the probability of moving between state $s_{i}\\rightarrow{s_{j}}$ in the next time step is denoted as $p_{ij}\\in\\mathcal{P}$. The transition matrix is a $|\\mathcal{S}|\\times|\\mathcal{S}|$ matrix with non-negative elements."
   ]
  },
  {
   "cell_type": "code",
   "execution_count": 10,
   "id": "99defaab-7efe-44f0-832b-6cc1f81c9779",
   "metadata": {},
   "outputs": [],
   "source": [
    "P = [\n",
    "    0.05 0.95 0.0 ; # possible next state from state 1 \n",
    "    0.6 0.2 0.2 ; # possible next state from state 2\n",
    "    0.0 0.3 0.7 ; # possible next state from state 3\n",
    "];"
   ]
  },
  {
   "cell_type": "markdown",
   "id": "12b3e5e4-9ff9-4625-971b-f8e64dd9beb4",
   "metadata": {},
   "source": [
    "### Check: do the rows of the transition matrix $\\mathbf{P}$ sum to `1`?\n",
    "We know that the rows of the transition matrix $\\mathbf{P}$ must sum to `1`, i.e., if we are in state $s_{i}\\in\\mathcal{S}$ at time $t$, then at time $t+1$ we have to be in $s_{j}\\in\\mathcal{S}$. \n",
    "* Let's check if the transition matrix $\\mathbf{P}$ meets this criteria using the [@assert macro](https://docs.julialang.org/en/v1/base/base/#Base.@assert) by iterating over the rows of the transition matrix $\\mathbf{P}$ and checking the sum of each row. If any row does not meet this criterion, an [AssertionError](https://docs.julialang.org/en/v1/base/base/#Core.AssertionError) will be thrown."
   ]
  },
  {
   "cell_type": "code",
   "execution_count": 12,
   "id": "d531b4f1-5dc6-4a9e-9a81-1034d56d0158",
   "metadata": {},
   "outputs": [],
   "source": [
    "for i ∈ 1:number_of_hidden_states\n",
    "    @assert sum(P[i,:]) == 1\n",
    "end"
   ]
  },
  {
   "cell_type": "markdown",
   "id": "ecfaedb7-81f6-4563-86aa-983fc6a9f5c6",
   "metadata": {},
   "source": [
    "## Task 2: Compute the stationary distribution $\\bar{\\pi}$\n",
    "In this task, we'll compute the stationary distribution $\\pi$ for our three-state example [Markov chain](https://en.wikipedia.org/wiki/Markov_chain) shown above.\n",
    "\n",
    "We'll compute the stationary distribution $\\bar{\\pi}$ using the iterative `iterate(...)` method. During each iteration, we compute the matrix power of transition matrix $\\mathbf{P}$. We continue to iterate until we hit one of two possible conditions:\n",
    "* The  `counter == maxcount,` at this point, the iteration stops, and the matrix $\\mathbf{P}^{\\star}$ is returned\n",
    "* The iteration stops because difference between subsequent powers of the matrix $\\mathbf{P}$ is smaller than some specified threshold $\\epsilon$"
   ]
  },
  {
   "cell_type": "code",
   "execution_count": 14,
   "id": "e6ba76de-b22a-4471-81f5-fea20b069d93",
   "metadata": {},
   "outputs": [
    {
     "data": {
      "text/plain": [
       "3×3 Matrix{Float64}:\n",
       " 0.274809  0.435115  0.290076\n",
       " 0.274809  0.435115  0.290076\n",
       " 0.274809  0.435115  0.290076"
      ]
     },
     "execution_count": 14,
     "metadata": {},
     "output_type": "execute_result"
    }
   ],
   "source": [
    "π̄ = iterate(P, ϵ = 0.0000001) # this gives the stationary distribution"
   ]
  },
  {
   "cell_type": "markdown",
   "id": "69023b2f-7c8e-45fd-94f4-2ab65ed00494",
   "metadata": {},
   "source": [
    "### Check: Is the rank condition on the stationary distribution $\\bar{\\pi}$ correct?\n",
    "Once we reach the stationary distribution, the rank of the stationary distribution $\\bar{\\pi}$ should be equal to `1`. Let's check whether this condition is true using the [@assert macro](https://docs.julialang.org/en/v1/base/base/#Base.@assert). \n",
    "* If we do not meet this criterion, an [AssertionError](https://docs.julialang.org/en/v1/base/base/#Core.AssertionError) will be thrown, and we should try to use more iterations or a tighter numerical tolerance value for $\\epsilon$. We'll compute the rank using the [rank function](https://docs.julialang.org/en/v1/stdlib/LinearAlgebra/#LinearAlgebra.rank) which is exported by the [Julia Statistics package](https://docs.julialang.org/en/v1/stdlib/Statistics/#Statistics)"
   ]
  },
  {
   "cell_type": "code",
   "execution_count": 16,
   "id": "dcbfd526-2732-43b8-b272-d635441c3fb2",
   "metadata": {},
   "outputs": [],
   "source": [
    "@assert rank(π̄) == 1"
   ]
  },
  {
   "cell_type": "markdown",
   "id": "851525ae-61cb-467a-956c-731a4f615d4f",
   "metadata": {},
   "source": [
    "### Deeper: Compute Stationary Distribution $\\bar{\\pi}$ using the Left Matrix Vector Product\n",
    "We can also approach the computation of the stationary distribution $\\bar{\\pi}$ by directly iterating the expression:\n",
    "$$\n",
    "\\begin{equation*}\n",
    "\\pi_{n+1} = \\pi_{1}\\cdot\\mathbf{P}^{n}\\quad\\,n=1,2,\\dots\n",
    "\\end{equation*}\n",
    "$$\n",
    "where $\\pi_{1}$ is our initial belief of the state distribution, and $\\mathbf{P}$ is the transition matrix. As $n\\rightarrow\\infty$, i.e., as we do more iterations, the difference between subsequent iterations should become small $||\\pi_{n+1}-\\pi_{n}||<\\epsilon$ for a non-periodic Markov chain, where $\\pi_{n}\\rightarrow\\bar{\\pi}$ as $n\\rightarrow\\infty$. "
   ]
  },
  {
   "cell_type": "code",
   "execution_count": 18,
   "id": "8db828ae-3f4e-4586-baa8-065d9d280182",
   "metadata": {},
   "outputs": [
    {
     "name": "stdout",
     "output_type": "stream",
     "text": [
      "[0.0, 1.0, 0.0]\n",
      "[0.6, 0.2, 0.2]\n",
      "[0.15, 0.6699999999999999, 0.18]\n",
      "[0.4094999999999999, 0.33049999999999996, 0.26]\n",
      "[0.21877499999999994, 0.533125, 0.2481]\n",
      "[0.3308137499999999, 0.38889124999999997, 0.28029499999999996]\n",
      "[0.2498754374999999, 0.4761398124999999, 0.27398475]\n",
      "[0.2981776593749999, 0.4148050531249999, 0.28701728749999994]\n",
      "[0.26379191484374986, 0.45233497328124994, 0.283873111875]\n",
      "[0.2845905797109374, 0.4262312473203125, 0.2891781729687499]\n",
      "[0.2699682773777342, 0.442360752080078, 0.28767097054218743]\n",
      "[0.2789148651169334, 0.4312433050875194, 0.2898418297955468]\n",
      "[0.27269172630835825, 0.43817033181725473, 0.2891379418743867]\n",
      "[0.2765367854057707, 0.4334325889187073, 0.29003062567552157]\n",
      "[0.2738863926215128, 0.43640565162188016, 0.28970795575660657]\n",
      "[0.2755377106042036, 0.4343855900417952, 0.2900766993540006]\n",
      "[0.27440823955528726, 0.4356609528885528, 0.2899308075561595]\n",
      "[0.275116983710896, 0.43479926042208134, 0.2900837558670222]\n",
      "[0.2746354054387935, 0.43534611336987405, 0.2900184811913318]\n",
      "[0.2749394382938641, 0.43497840219822825, 0.29008215950790706]\n"
     ]
    }
   ],
   "source": [
    "π₁ = [0.0,1.0,0.0]; # initial state = state 2\n",
    "direct_state_distribution = Dict{Int,Array{Float64,1}}();\n",
    "direct_state_distribution[1] = π₁;\n",
    "for n = 2:number_of_simulation_steps\n",
    "    πᵢ = transpose(π₁)*(P)^(n-1)\n",
    "    direct_state_distribution[n] =  transpose(πᵢ)\n",
    "end\n",
    "foreach(i-> println(direct_state_distribution[i]), 1:20);"
   ]
  },
  {
   "cell_type": "markdown",
   "id": "3175d003-f346-435c-bedf-d620f286768b",
   "metadata": {},
   "source": [
    "## Task 3: Sample from our Markov Model using a Categorical Distribution\n",
    "In this task, we compute a sequence of states for the three-state [Markov chain model](https://en.wikipedia.org/wiki/Markov_chain) and compare the frequency of those states to what we see for the stationary distribution $\\bar{\\pi}$.\n",
    "\n",
    "### Sampling\n",
    "We can get the dynamics, i.e., the sequences of states $s_{1},s_{2},\\dotsc$ predicted by the [Markov model](https://en.wikipedia.org/wiki/Markov_model) by sampling the transition probability matrix $\\mathbf{P}$ directly. We can do this using a [categorical distribution](https://en.wikipedia.org/wiki/Categorical_distribution), which models transition from state $i\\rightarrow{j}$ in the next time step."
   ]
  },
  {
   "cell_type": "code",
   "execution_count": 20,
   "id": "6145cf72-2025-48ca-ba51-04c01199a8b2",
   "metadata": {},
   "outputs": [
    {
     "data": {
      "text/plain": [
       "Dict{Int64, Categorical{P} where P<:Real} with 3 entries:\n",
       "  2 => Categorical{Float64, Vector{Float64}}(support=Base.OneTo(3), p=[0.6, 0.2…\n",
       "  3 => Categorical{Float64, Vector{Float64}}(support=Base.OneTo(3), p=[0.0, 0.3…\n",
       "  1 => Categorical{Float64, Vector{Float64}}(support=Base.OneTo(3), p=[0.05, 0.…"
      ]
     },
     "execution_count": 20,
     "metadata": {},
     "output_type": "execute_result"
    }
   ],
   "source": [
    "state_probability_dictionary = Dict{Int,Categorical}();\n",
    "for i ∈ 1:number_of_hidden_states\n",
    "    state_probability_dictionary[i] = Categorical(P[i,:])\n",
    "end\n",
    "state_probability_dictionary"
   ]
  },
  {
   "cell_type": "markdown",
   "id": "6c0c44d8-21ea-41ea-af74-d820674b3f55",
   "metadata": {},
   "source": [
    "Let's generate `number_of_simulation_steps` worth of dynamic data by sampling the `state_probability_dictionary.` We store these simulation results in the `simulation_dictionary` dictionary, where the `key` holds the time index and the `value` is the system's state, i.e., $s_{i}\\in\\mathcal{S}$.\n",
    "* We start by specifying an initial state `sᵢ = 1`. At each iteration of the loop, we pull out the [categorical distribution](https://en.wikipedia.org/wiki/Categorical_distribution) corresponding to the state $s_{i}$, i.e., the row in the transition matrix $\\mathbf{P}$ corresponding to state $s_{i}$. We then generate the state at the next step by drawing a sample from the categorical distribution using the `rand(...)` function."
   ]
  },
  {
   "cell_type": "code",
   "execution_count": 22,
   "id": "8e0e9f29-4eef-4486-be43-6e1d94f47729",
   "metadata": {},
   "outputs": [
    {
     "name": "stdout",
     "output_type": "stream",
     "text": [
      "Soln: (t=1,s=1)\n",
      "Soln: (t=2,s=2)\n",
      "Soln: (t=3,s=1)\n",
      "Soln: (t=4,s=2)\n",
      "Soln: (t=5,s=3)\n",
      "Soln: (t=6,s=2)\n",
      "Soln: (t=7,s=1)\n",
      "Soln: (t=8,s=2)\n",
      "Soln: (t=9,s=3)\n",
      "Soln: (t=10,s=3)\n"
     ]
    }
   ],
   "source": [
    "simulation_dictionary = Dict{Int,Int}();\n",
    "sᵢ = 1; # harcode the start state: we also could draw from the stationary distribution\n",
    "simulation_dictionary[1] = sᵢ;\n",
    "for i ∈ 2:number_of_simulation_steps\n",
    "    \n",
    "    sᵢ = state_probability_dictionary[sᵢ] |> d -> rand(d); # get dcat for sᵢ, draw a sample -> next state\n",
    "    simulation_dictionary[i] = sᵢ;  # capture the next state at t = i\n",
    "    \n",
    "end\n",
    "foreach(i -> println(\"Soln: (t=$(i),s=$(simulation_dictionary[i]))\"), 1:10) # look at first 10 steps"
   ]
  },
  {
   "cell_type": "markdown",
   "id": "8a8e2db0-ec32-4e5d-9fde-e94495d7a36f",
   "metadata": {},
   "source": [
    "### Check: Do we recover the stationary distribution $\\bar{\\pi}$?\n",
    "Like any stable dynamic system, e.g., concentration balances in a steady-state reactor, if we wait long enough, the system should approach a steady state (assuming the steady state exists and is stable). By analogy, if we take enough time steps for our random dynamic system, the distribution of states should follow the stationary distribution $\\bar{\\pi}$."
   ]
  },
  {
   "cell_type": "code",
   "execution_count": 24,
   "id": "7163e2fe-0625-485a-a006-a0980b44b53d",
   "metadata": {},
   "outputs": [],
   "source": [
    "S = [simulation_dictionary[i] for i ∈ 1:number_of_simulation_steps]; # put the s_1, ...., s_n into a basket\n",
    "NS₁ = findall(x-> x == 1, S) |> length; # how many 1's in the basket?\n",
    "NS₂ = findall(x-> x == 2, S) |> length; # how many 2's in the basket?\n",
    "NS₃ = findall(x-> x == 3, S) |> length; # how many 3's in the basket?"
   ]
  },
  {
   "cell_type": "markdown",
   "id": "76785601-7d5e-456b-ba75-72a1832ee147",
   "metadata": {},
   "source": [
    "We can compute the relative frequency (probability) of the states `s = 1`, `s = 2`, and `s = 3`:"
   ]
  },
  {
   "cell_type": "code",
   "execution_count": 26,
   "id": "179d038b-4b8d-4b1a-8820-c096e3fc97f4",
   "metadata": {},
   "outputs": [
    {
     "name": "stdout",
     "output_type": "stream",
     "text": [
      "The sampled probability (p₁,p₂,p₃) = (0.2718, 0.4352, 0.293)\n"
     ]
    }
   ],
   "source": [
    "PS1 = NS₁/number_of_simulation_steps;\n",
    "PS2 = NS₂/number_of_simulation_steps;\n",
    "PS3 = NS₃/number_of_simulation_steps;\n",
    "println(\"The sampled probability (p₁,p₂,p₃) = ($(PS1), $(PS2), $(PS3))\")"
   ]
  },
  {
   "cell_type": "markdown",
   "id": "ce93f933-9161-4864-9e87-49a4fd21a135",
   "metadata": {},
   "source": [
    "### What does it mean when we sample $\\bar{\\pi}$ directly?\n",
    "A common source of confusion is the meaning of the stationary distribution $\\bar{\\pi}$. \n",
    "\n",
    "Suppose we don't care about the system's dynamics (time behavior). Instead, we are only interested in the steady-state behavior, i.e., the stationary distribution. In that case, we can sample $\\bar{\\pi}$ directly, but if we do that, we lose all the information about the transitions, i.e., all the time behavior. To explore this, consider the following thought experiment:\n",
    "\n",
    "* __Thought experiment__: Suppose our three-state model represented investor mood. We gathered `20` investors together in a focus group, isolated them, but gave them access to the same sources of information, and watched their mood for many rounds, i.e., as $n\\rightarrow\\infty$. The long-term mood of each investor would be samples from the stationary distribution $\\bar{\\pi}$\n",
    "\n",
    "Let's implement this thought experiment. Create a [categorical distribution](https://en.wikipedia.org/wiki/Categorical_distribution) using the stationary probability of our Markov chain using the [Distributions.jl](https://github.com/JuliaStats/Distributions.jl) package, save this distribution in the variable `d`:"
   ]
  },
  {
   "cell_type": "code",
   "execution_count": 28,
   "id": "d4fda571-3740-4c20-ab8c-f89c1b50f323",
   "metadata": {},
   "outputs": [],
   "source": [
    "d = Categorical(π̄[1,:]); # build a model of the stationary distribution"
   ]
  },
  {
   "cell_type": "markdown",
   "id": "de683907-f518-43cb-8cc1-c72e0aace1e7",
   "metadata": {},
   "source": [
    "We can then generate samples from the [categorical distribution](https://en.wikipedia.org/wiki/Categorical_distribution) saved in the distribution `d` using the [rand function](https://docs.julialang.org/en/v1/stdlib/Random/#Base.rand). This allows us to `simulate` the long-time behavior encoded by our three-state Markov model, i.e., the moods of the investors in our focus group."
   ]
  },
  {
   "cell_type": "code",
   "execution_count": 30,
   "id": "6a99ae9e-789f-4f3e-bbd9-678a1d678007",
   "metadata": {},
   "outputs": [
    {
     "data": {
      "text/plain": [
       "20-element Vector{Int64}:\n",
       " 2\n",
       " 2\n",
       " 2\n",
       " 1\n",
       " 2\n",
       " 3\n",
       " 2\n",
       " 2\n",
       " 3\n",
       " 1\n",
       " 1\n",
       " 3\n",
       " 2\n",
       " 2\n",
       " 2\n",
       " 3\n",
       " 1\n",
       " 2\n",
       " 2\n",
       " 3"
      ]
     },
     "execution_count": 30,
     "metadata": {},
     "output_type": "execute_result"
    }
   ],
   "source": [
    "rand(d,20) # generate 20 samples from the stationary distribution"
   ]
  },
  {
   "cell_type": "markdown",
   "id": "bcef8696-4a77-44a0-bd48-5f9fc31391cb",
   "metadata": {},
   "source": [
    "### Wait, why are there illegal transitions?\n",
    "Sampling the stationary distribution $\\bar{\\pi}$ does __not give information about dynamics__. These samples do __not__ represent the transition of states between time steps. \n",
    "\n",
    "Instead, the stationary distribution $\\bar{\\pi}$ gives us the relative likelihood that we observed state $s_{i}\\in\\mathcal{S}$ as $n\\rightarrow\\infty$ (at long times). If we want information about the dynamics, we need to sample the chain directly __not__ the stationary distribution."
   ]
  }
 ],
 "metadata": {
  "kernelspec": {
   "display_name": "Julia 1.11.1",
   "language": "julia",
   "name": "julia-1.11"
  },
  "language_info": {
   "file_extension": ".jl",
   "mimetype": "application/julia",
   "name": "julia",
   "version": "1.11.1"
  }
 },
 "nbformat": 4,
 "nbformat_minor": 5
}
